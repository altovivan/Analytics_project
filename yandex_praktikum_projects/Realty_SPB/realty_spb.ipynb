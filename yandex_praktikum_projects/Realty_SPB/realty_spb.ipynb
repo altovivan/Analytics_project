{
 "cells": [
  {
   "cell_type": "markdown",
   "metadata": {
    "toc": true
   },
   "source": [
    "<h1>Содержание<span class=\"tocSkip\"></span></h1>\n",
    "<div class=\"toc\"><ul class=\"toc-item\"><li><span><a href=\"#Обзор-данных\" data-toc-modified-id=\"Обзор-данных-1\"><span class=\"toc-item-num\">1&nbsp;&nbsp;</span>Обзор данных</a></span></li><li><span><a href=\"#Предобработка-данных\" data-toc-modified-id=\"Предобработка-данных-2\"><span class=\"toc-item-num\">2&nbsp;&nbsp;</span>Предобработка данных</a></span><ul class=\"toc-item\"><li><span><a href=\"#Формат-даты,-переименование-столбцов\" data-toc-modified-id=\"Формат-даты,-переименование-столбцов-2.1\"><span class=\"toc-item-num\">2.1&nbsp;&nbsp;</span>Формат даты, переименование столбцов</a></span></li><li><span><a href=\"#Дубликаты\" data-toc-modified-id=\"Дубликаты-2.2\"><span class=\"toc-item-num\">2.2&nbsp;&nbsp;</span>Дубликаты</a></span></li><li><span><a href=\"#Пропуски\" data-toc-modified-id=\"Пропуски-2.3\"><span class=\"toc-item-num\">2.3&nbsp;&nbsp;</span>Пропуски</a></span><ul class=\"toc-item\"><li><span><a href=\"#Обзор-пропусков\" data-toc-modified-id=\"Обзор-пропусков-2.3.1\"><span class=\"toc-item-num\">2.3.1&nbsp;&nbsp;</span>Обзор пропусков</a></span></li><li><span><a href=\"#Пропуски-в-столбце-'locality_name'-и-'floors_total'\" data-toc-modified-id=\"Пропуски-в-столбце-'locality_name'-и-'floors_total'-2.3.2\"><span class=\"toc-item-num\">2.3.2&nbsp;&nbsp;</span>Пропуски в столбце 'locality_name' и 'floors_total'</a></span></li><li><span><a href=\"#Пропуски-в-столбцах-'to_center'-и-'to_airports'\" data-toc-modified-id=\"Пропуски-в-столбцах-'to_center'-и-'to_airports'-2.3.3\"><span class=\"toc-item-num\">2.3.3&nbsp;&nbsp;</span>Пропуски в столбцах 'to_center' и 'to_airports'</a></span></li><li><span><a href=\"#Пропуски-в-столбце-'balcony'\" data-toc-modified-id=\"Пропуски-в-столбце-'balcony'-2.3.4\"><span class=\"toc-item-num\">2.3.4&nbsp;&nbsp;</span>Пропуски в столбце 'balcony'</a></span></li><li><span><a href=\"#Пропуски-в-столбце-'ceilings'\" data-toc-modified-id=\"Пропуски-в-столбце-'ceilings'-2.3.5\"><span class=\"toc-item-num\">2.3.5&nbsp;&nbsp;</span>Пропуски в столбце 'ceilings'</a></span></li><li><span><a href=\"#Пропуски-в-столбцах-'living_area'-и-'kitchen_area'\" data-toc-modified-id=\"Пропуски-в-столбцах-'living_area'-и-'kitchen_area'-2.3.6\"><span class=\"toc-item-num\">2.3.6&nbsp;&nbsp;</span>Пропуски в столбцах 'living_area' и 'kitchen_area'</a></span></li><li><span><a href=\"#Пропуски-в-'parks_around_3km',--'ponds_around_3km',-'to_park',-'to_pond'\" data-toc-modified-id=\"Пропуски-в-'parks_around_3km',--'ponds_around_3km',-'to_park',-'to_pond'-2.3.7\"><span class=\"toc-item-num\">2.3.7&nbsp;&nbsp;</span>Пропуски в 'parks_around_3km',  'ponds_around_3km', 'to_park', 'to_pond'</a></span></li><li><span><a href=\"#Пропуски-в-'total_days_expo'\" data-toc-modified-id=\"Пропуски-в-'total_days_expo'-2.3.8\"><span class=\"toc-item-num\">2.3.8&nbsp;&nbsp;</span>Пропуски в 'total_days_expo'</a></span></li><li><span><a href=\"#Пропуски-в-столбце-'apartment'\" data-toc-modified-id=\"Пропуски-в-столбце-'apartment'-2.3.9\"><span class=\"toc-item-num\">2.3.9&nbsp;&nbsp;</span>Пропуски в столбце 'apartment'</a></span></li></ul></li><li><span><a href=\"#Изменение-типов-данных\" data-toc-modified-id=\"Изменение-типов-данных-2.4\"><span class=\"toc-item-num\">2.4&nbsp;&nbsp;</span>Изменение типов данных</a></span></li><li><span><a href=\"#Аномальные-значения\" data-toc-modified-id=\"Аномальные-значения-2.5\"><span class=\"toc-item-num\">2.5&nbsp;&nbsp;</span>Аномальные значения</a></span><ul class=\"toc-item\"><li><span><a href=\"#Аномалии-в-'rooms'\" data-toc-modified-id=\"Аномалии-в-'rooms'-2.5.1\"><span class=\"toc-item-num\">2.5.1&nbsp;&nbsp;</span>Аномалии в 'rooms'</a></span></li><li><span><a href=\"#Аномалии-в-'ceilings'\" data-toc-modified-id=\"Аномалии-в-'ceilings'-2.5.2\"><span class=\"toc-item-num\">2.5.2&nbsp;&nbsp;</span>Аномалии в 'ceilings'</a></span></li><li><span><a href=\"#Аномалии-'living_area'\" data-toc-modified-id=\"Аномалии-'living_area'-2.5.3\"><span class=\"toc-item-num\">2.5.3&nbsp;&nbsp;</span>Аномалии 'living_area'</a></span></li><li><span><a href=\"#Аномалии-'kitchen-area'\" data-toc-modified-id=\"Аномалии-'kitchen-area'-2.5.4\"><span class=\"toc-item-num\">2.5.4&nbsp;&nbsp;</span>Аномалии 'kitchen area'</a></span></li><li><span><a href=\"#Аномалии-'price'\" data-toc-modified-id=\"Аномалии-'price'-2.5.5\"><span class=\"toc-item-num\">2.5.5&nbsp;&nbsp;</span>Аномалии 'price'</a></span></li><li><span><a href=\"#Аномалии-'total_days_expo'\" data-toc-modified-id=\"Аномалии-'total_days_expo'-2.5.6\"><span class=\"toc-item-num\">2.5.6&nbsp;&nbsp;</span>Аномалии 'total_days_expo'</a></span></li><li><span><a href=\"#Аномалии-'floors_total'\" data-toc-modified-id=\"Аномалии-'floors_total'-2.5.7\"><span class=\"toc-item-num\">2.5.7&nbsp;&nbsp;</span>Аномалии 'floors_total'</a></span></li></ul></li></ul></li><li><span><a href=\"#Расчёты-и-добавление-результатов-в-таблицу\" data-toc-modified-id=\"Расчёты-и-добавление-результатов-в-таблицу-3\"><span class=\"toc-item-num\">3&nbsp;&nbsp;</span>Расчёты и добавление результатов в таблицу</a></span></li><li><span><a href=\"#Исследовательский-анализ-данных\" data-toc-modified-id=\"Исследовательский-анализ-данных-4\"><span class=\"toc-item-num\">4&nbsp;&nbsp;</span>Исследовательский анализ данных</a></span><ul class=\"toc-item\"><li><span><a href=\"#Параметры-влияющие-на-стоимость-квартиры\" data-toc-modified-id=\"Параметры-влияющие-на-стоимость-квартиры-4.1\"><span class=\"toc-item-num\">4.1&nbsp;&nbsp;</span>Параметры влияющие на стоимость квартиры</a></span></li><li><span><a href=\"#Редкие-и-выбивающиеся-значения\" data-toc-modified-id=\"Редкие-и-выбивающиеся-значения-4.2\"><span class=\"toc-item-num\">4.2&nbsp;&nbsp;</span>Редкие и выбивающиеся значения</a></span></li><li><span><a href=\"#Факторы-оказывающие-наибольшее-влияние-на-стоимость-квартиры\" data-toc-modified-id=\"Факторы-оказывающие-наибольшее-влияние-на-стоимость-квартиры-4.3\"><span class=\"toc-item-num\">4.3&nbsp;&nbsp;</span>Факторы оказывающие наибольшее влияние на стоимость квартиры</a></span></li><li><span><a href=\"#Исследование-10-населенных-пунктов-с-наибольшим-количеством-объявлений\" data-toc-modified-id=\"Исследование-10-населенных-пунктов-с-наибольшим-количеством-объявлений-4.4\"><span class=\"toc-item-num\">4.4&nbsp;&nbsp;</span>Исследование 10 населенных пунктов с наибольшим количеством объявлений</a></span></li><li><span><a href=\"#Квартиры-в--Петербурге,-расстояния-до-центра\" data-toc-modified-id=\"Квартиры-в--Петербурге,-расстояния-до-центра-4.5\"><span class=\"toc-item-num\">4.5&nbsp;&nbsp;</span>Квартиры в  Петербурге, расстояния до центра</a></span></li><li><span><a href=\"#Анализ-сегмента-квартир-в-центре-Петербурга\" data-toc-modified-id=\"Анализ-сегмента-квартир-в-центре-Петербурга-4.6\"><span class=\"toc-item-num\">4.6&nbsp;&nbsp;</span>Анализ сегмента квартир в центре Петербурга</a></span><ul class=\"toc-item\"><li><span><a href=\"#Параметры-влияющие-на-стоимость-квартиры-в-центре-Петербурга\" data-toc-modified-id=\"Параметры-влияющие-на-стоимость-квартиры-в-центре-Петербурга-4.6.1\"><span class=\"toc-item-num\">4.6.1&nbsp;&nbsp;</span>Параметры влияющие на стоимость квартиры в центре Петербурга</a></span></li></ul></li><li><span><a href=\"#Сравнение-параметров-Петербург-+-область,-Петербург,-центр-Петербурга\" data-toc-modified-id=\"Сравнение-параметров-Петербург-+-область,-Петербург,-центр-Петербурга-4.7\"><span class=\"toc-item-num\">4.7&nbsp;&nbsp;</span>Сравнение параметров Петербург + область, Петербург, центр Петербурга</a></span><ul class=\"toc-item\"><li><span><a href=\"#Сравнение-количества-дней-продажи-квартиры-по-Петербургу-и-области,-по-Петербургу,-по-центру-Петербурга\" data-toc-modified-id=\"Сравнение-количества-дней-продажи-квартиры-по-Петербургу-и-области,-по-Петербургу,-по-центру-Петербурга-4.7.1\"><span class=\"toc-item-num\">4.7.1&nbsp;&nbsp;</span>Сравнение количества дней продажи квартиры по Петербургу и области, по Петербургу, по центру Петербурга</a></span></li><li><span><a href=\"#Сравнение-средней-цены-в-зависимости-от-этажа-(первый,-последний,-другой)-в-Петербурге-+-область-и-в-центре-Петербурга\" data-toc-modified-id=\"Сравнение-средней-цены-в-зависимости-от-этажа-(первый,-последний,-другой)-в-Петербурге-+-область-и-в-центре-Петербурга-4.7.2\"><span class=\"toc-item-num\">4.7.2&nbsp;&nbsp;</span>Сравнение средней цены в зависимости от этажа (первый, последний, другой) в Петербурге + область и в центре Петербурга</a></span></li><li><span><a href=\"#Сравнение-зависимости-цены-от-числа-комнат,-удаленности-от-центра-в-центре-Петербурга-и-в-Петербурге-+--область\" data-toc-modified-id=\"Сравнение-зависимости-цены-от-числа-комнат,-удаленности-от-центра-в-центре-Петербурга-и-в-Петербурге-+--область-4.7.3\"><span class=\"toc-item-num\">4.7.3&nbsp;&nbsp;</span>Сравнение зависимости цены от числа комнат, удаленности от центра в центре Петербурга и в Петербурге +  область</a></span></li></ul></li></ul></li><li><span><a href=\"#Общий-вывод\" data-toc-modified-id=\"Общий-вывод-5\"><span class=\"toc-item-num\">5&nbsp;&nbsp;</span>Общий вывод</a></span></li></ul></div>"
   ]
  },
  {
   "cell_type": "markdown",
   "metadata": {},
   "source": [
    "# Исследование объявлений о продаже квартир\n",
    "\n",
    "В нашем распоряжении данные сервиса Яндекc Недвижимость — архив объявлений о продаже квартир в Санкт-Петербурге и соседних населённых пунктах за несколько лет. По каждой квартире на продажу доступны два вида данных. Первые вписаны пользователем, вторые — получены автоматически на основе картографических данных. Нам нужно научиться определять рыночную стоимость объектов недвижимости, а именно выделить параметры, при помощи которых определение стоимости недвижимости можно было бы автоматизировать.\n",
    "\n",
    "**Цель исследования** <br>\n",
    "Установить и описать параметры влияющие на стоимость квартиры\n",
    "\n",
    "**Практическое применение** <br>\n",
    "Выявленные параметры и корреляция между ними и стоимостью объекта недвижимости, можно использовать для построения автоматизированной системы, с помощью которой, отслеживать различного рода аномалии и мошенническую деятельность в объявлениях по недвижимости. \n",
    "\n",
    "\n",
    "**Ход исследования** <br>\n",
    "Данные о продаже квартир в Санкт-Петербурге и соседних населенных пунктах за несколько лет возьмем из `'real_estate_data.csv'`.\n",
    "О качестве данных ничего не известно поэтому сначала выполним **обзор данных**. \n",
    "Далее **предобработку данных**. Проверим данные на ошибки и аномалии, исправим или удалим такие данные, при этом учитывая, какое влияние они могут оказать на результат исследования. Проверим на наличие пропусков, по мере необходимости заполним их наиболее подходящими данными. Выполним категоризацию данных, для установления зависимостей между группами данных. Проведем **исследовательский анализ данных**. Изучим различные параметры при помощи наглядного представления данных в виде гистограмм, диаграмм размаха, рассеяния и круговых диаграмм, влияющие на стоимость недвижимости. Обратим внимание на редкие и выбивающиеся значения отдельных параметров. Определим факторы оказывающие наибольшее влияние на стоимость квадратного метра недвижимости. Выберем 10 населенных пунктов с наибольшим числом объявлений и исследуем их отдельно. Изучим корреляцию между стоимостью недвижимости и её удаленности от центра Санкт-Петербурга и определим \"центральную зону\". Рассмотрим этот сегмент и исследуем стоимость квартиры в зависимости от различных параметров, сравним результаты исследования по этому сегменту с результатами по всем данным. **Сформулируем окончательные результаты исследования**, указав выявленные параметры и их влияние на стоимость недвижимости. Дадим **рекомендации по использованию результатов исследования** для построения автоматизированной системы, отслеживающей аномалии, мошенническую деятельность, и определяющей реальную стоимость недвижимости на основании указанных параметров.\n",
    "\n",
    "Таким образом **исследование пройдет в 4 этапа:**\n",
    "1. Обзор данных\n",
    "2. Предобработка данных\n",
    "3. Исследовательский анализ данных\n",
    "4. Результаты исследования и рекомендации по практическому применению\n",
    "\n",
    "\n"
   ]
  },
  {
   "cell_type": "markdown",
   "metadata": {},
   "source": [
    "## Обзор данных"
   ]
  },
  {
   "cell_type": "markdown",
   "metadata": {},
   "source": [
    "Импортируем нужные библиотеки"
   ]
  },
  {
   "cell_type": "code",
   "execution_count": 1,
   "metadata": {},
   "outputs": [],
   "source": [
    "import pandas as pd\n",
    "import seaborn as sns\n",
    "import statistics as st\n",
    "import datetime\n",
    "import numpy as np\n",
    "import matplotlib.pyplot as plt\n",
    "%matplotlib inline\n",
    "import matplotlib.mlab as mlab\n",
    "import random\n",
    "import requests\n",
    "import urllib\n",
    "import json\n",
    "import warnings\n"
   ]
  },
  {
   "cell_type": "markdown",
   "metadata": {},
   "source": [
    "Прочитаем файл и выведем сначала первые 10 строк, затем последние 10 строк и произвольные 10 строк для первичного ознакомления"
   ]
  },
  {
   "cell_type": "code",
   "execution_count": 2,
   "metadata": {},
   "outputs": [
    {
     "data": {
      "text/html": [
       "<div>\n",
       "<style scoped>\n",
       "    .dataframe tbody tr th:only-of-type {\n",
       "        vertical-align: middle;\n",
       "    }\n",
       "\n",
       "    .dataframe tbody tr th {\n",
       "        vertical-align: top;\n",
       "    }\n",
       "\n",
       "    .dataframe thead th {\n",
       "        text-align: right;\n",
       "    }\n",
       "</style>\n",
       "<table border=\"1\" class=\"dataframe\">\n",
       "  <thead>\n",
       "    <tr style=\"text-align: right;\">\n",
       "      <th></th>\n",
       "      <th>0</th>\n",
       "      <th>1</th>\n",
       "      <th>2</th>\n",
       "      <th>3</th>\n",
       "      <th>4</th>\n",
       "      <th>5</th>\n",
       "      <th>6</th>\n",
       "      <th>7</th>\n",
       "      <th>8</th>\n",
       "      <th>9</th>\n",
       "    </tr>\n",
       "  </thead>\n",
       "  <tbody>\n",
       "    <tr>\n",
       "      <th>total_images</th>\n",
       "      <td>20</td>\n",
       "      <td>7</td>\n",
       "      <td>10</td>\n",
       "      <td>0</td>\n",
       "      <td>2</td>\n",
       "      <td>10</td>\n",
       "      <td>6</td>\n",
       "      <td>5</td>\n",
       "      <td>20</td>\n",
       "      <td>18</td>\n",
       "    </tr>\n",
       "    <tr>\n",
       "      <th>last_price</th>\n",
       "      <td>13000000.0</td>\n",
       "      <td>3350000.0</td>\n",
       "      <td>5196000.0</td>\n",
       "      <td>64900000.0</td>\n",
       "      <td>10000000.0</td>\n",
       "      <td>2890000.0</td>\n",
       "      <td>3700000.0</td>\n",
       "      <td>7915000.0</td>\n",
       "      <td>2900000.0</td>\n",
       "      <td>5400000.0</td>\n",
       "    </tr>\n",
       "    <tr>\n",
       "      <th>total_area</th>\n",
       "      <td>108.0</td>\n",
       "      <td>40.4</td>\n",
       "      <td>56.0</td>\n",
       "      <td>159.0</td>\n",
       "      <td>100.0</td>\n",
       "      <td>30.4</td>\n",
       "      <td>37.3</td>\n",
       "      <td>71.6</td>\n",
       "      <td>33.16</td>\n",
       "      <td>61.0</td>\n",
       "    </tr>\n",
       "    <tr>\n",
       "      <th>first_day_exposition</th>\n",
       "      <td>2019-03-07 00:00:00</td>\n",
       "      <td>2018-12-04 00:00:00</td>\n",
       "      <td>2015-08-20 00:00:00</td>\n",
       "      <td>2015-07-24 00:00:00</td>\n",
       "      <td>2018-06-19 00:00:00</td>\n",
       "      <td>2018-09-10 00:00:00</td>\n",
       "      <td>2017-11-02 00:00:00</td>\n",
       "      <td>2019-04-18 00:00:00</td>\n",
       "      <td>2018-05-23 00:00:00</td>\n",
       "      <td>2017-02-26 00:00:00</td>\n",
       "    </tr>\n",
       "    <tr>\n",
       "      <th>rooms</th>\n",
       "      <td>3</td>\n",
       "      <td>1</td>\n",
       "      <td>2</td>\n",
       "      <td>3</td>\n",
       "      <td>2</td>\n",
       "      <td>1</td>\n",
       "      <td>1</td>\n",
       "      <td>2</td>\n",
       "      <td>1</td>\n",
       "      <td>3</td>\n",
       "    </tr>\n",
       "    <tr>\n",
       "      <th>ceiling_height</th>\n",
       "      <td>2.7</td>\n",
       "      <td>NaN</td>\n",
       "      <td>NaN</td>\n",
       "      <td>NaN</td>\n",
       "      <td>3.03</td>\n",
       "      <td>NaN</td>\n",
       "      <td>NaN</td>\n",
       "      <td>NaN</td>\n",
       "      <td>NaN</td>\n",
       "      <td>2.5</td>\n",
       "    </tr>\n",
       "    <tr>\n",
       "      <th>floors_total</th>\n",
       "      <td>16.0</td>\n",
       "      <td>11.0</td>\n",
       "      <td>5.0</td>\n",
       "      <td>14.0</td>\n",
       "      <td>14.0</td>\n",
       "      <td>12.0</td>\n",
       "      <td>26.0</td>\n",
       "      <td>24.0</td>\n",
       "      <td>27.0</td>\n",
       "      <td>9.0</td>\n",
       "    </tr>\n",
       "    <tr>\n",
       "      <th>living_area</th>\n",
       "      <td>51.0</td>\n",
       "      <td>18.6</td>\n",
       "      <td>34.3</td>\n",
       "      <td>NaN</td>\n",
       "      <td>32.0</td>\n",
       "      <td>14.4</td>\n",
       "      <td>10.6</td>\n",
       "      <td>NaN</td>\n",
       "      <td>15.43</td>\n",
       "      <td>43.6</td>\n",
       "    </tr>\n",
       "    <tr>\n",
       "      <th>floor</th>\n",
       "      <td>8</td>\n",
       "      <td>1</td>\n",
       "      <td>4</td>\n",
       "      <td>9</td>\n",
       "      <td>13</td>\n",
       "      <td>5</td>\n",
       "      <td>6</td>\n",
       "      <td>22</td>\n",
       "      <td>26</td>\n",
       "      <td>7</td>\n",
       "    </tr>\n",
       "    <tr>\n",
       "      <th>is_apartment</th>\n",
       "      <td>NaN</td>\n",
       "      <td>NaN</td>\n",
       "      <td>NaN</td>\n",
       "      <td>NaN</td>\n",
       "      <td>NaN</td>\n",
       "      <td>NaN</td>\n",
       "      <td>NaN</td>\n",
       "      <td>NaN</td>\n",
       "      <td>NaN</td>\n",
       "      <td>NaN</td>\n",
       "    </tr>\n",
       "    <tr>\n",
       "      <th>studio</th>\n",
       "      <td>False</td>\n",
       "      <td>False</td>\n",
       "      <td>False</td>\n",
       "      <td>False</td>\n",
       "      <td>False</td>\n",
       "      <td>False</td>\n",
       "      <td>False</td>\n",
       "      <td>False</td>\n",
       "      <td>False</td>\n",
       "      <td>False</td>\n",
       "    </tr>\n",
       "    <tr>\n",
       "      <th>open_plan</th>\n",
       "      <td>False</td>\n",
       "      <td>False</td>\n",
       "      <td>False</td>\n",
       "      <td>False</td>\n",
       "      <td>False</td>\n",
       "      <td>False</td>\n",
       "      <td>False</td>\n",
       "      <td>False</td>\n",
       "      <td>False</td>\n",
       "      <td>False</td>\n",
       "    </tr>\n",
       "    <tr>\n",
       "      <th>kitchen_area</th>\n",
       "      <td>25.0</td>\n",
       "      <td>11.0</td>\n",
       "      <td>8.3</td>\n",
       "      <td>NaN</td>\n",
       "      <td>41.0</td>\n",
       "      <td>9.1</td>\n",
       "      <td>14.4</td>\n",
       "      <td>18.9</td>\n",
       "      <td>8.81</td>\n",
       "      <td>6.5</td>\n",
       "    </tr>\n",
       "    <tr>\n",
       "      <th>balcony</th>\n",
       "      <td>NaN</td>\n",
       "      <td>2.0</td>\n",
       "      <td>0.0</td>\n",
       "      <td>0.0</td>\n",
       "      <td>NaN</td>\n",
       "      <td>NaN</td>\n",
       "      <td>1.0</td>\n",
       "      <td>2.0</td>\n",
       "      <td>NaN</td>\n",
       "      <td>2.0</td>\n",
       "    </tr>\n",
       "    <tr>\n",
       "      <th>locality_name</th>\n",
       "      <td>Санкт-Петербург</td>\n",
       "      <td>посёлок Шушары</td>\n",
       "      <td>Санкт-Петербург</td>\n",
       "      <td>Санкт-Петербург</td>\n",
       "      <td>Санкт-Петербург</td>\n",
       "      <td>городской посёлок Янино-1</td>\n",
       "      <td>посёлок Парголово</td>\n",
       "      <td>Санкт-Петербург</td>\n",
       "      <td>посёлок Мурино</td>\n",
       "      <td>Санкт-Петербург</td>\n",
       "    </tr>\n",
       "    <tr>\n",
       "      <th>airports_nearest</th>\n",
       "      <td>18863.0</td>\n",
       "      <td>12817.0</td>\n",
       "      <td>21741.0</td>\n",
       "      <td>28098.0</td>\n",
       "      <td>31856.0</td>\n",
       "      <td>NaN</td>\n",
       "      <td>52996.0</td>\n",
       "      <td>23982.0</td>\n",
       "      <td>NaN</td>\n",
       "      <td>50898.0</td>\n",
       "    </tr>\n",
       "    <tr>\n",
       "      <th>cityCenters_nearest</th>\n",
       "      <td>16028.0</td>\n",
       "      <td>18603.0</td>\n",
       "      <td>13933.0</td>\n",
       "      <td>6800.0</td>\n",
       "      <td>8098.0</td>\n",
       "      <td>NaN</td>\n",
       "      <td>19143.0</td>\n",
       "      <td>11634.0</td>\n",
       "      <td>NaN</td>\n",
       "      <td>15008.0</td>\n",
       "    </tr>\n",
       "    <tr>\n",
       "      <th>parks_around3000</th>\n",
       "      <td>1.0</td>\n",
       "      <td>0.0</td>\n",
       "      <td>1.0</td>\n",
       "      <td>2.0</td>\n",
       "      <td>2.0</td>\n",
       "      <td>NaN</td>\n",
       "      <td>0.0</td>\n",
       "      <td>0.0</td>\n",
       "      <td>NaN</td>\n",
       "      <td>0.0</td>\n",
       "    </tr>\n",
       "    <tr>\n",
       "      <th>parks_nearest</th>\n",
       "      <td>482.0</td>\n",
       "      <td>NaN</td>\n",
       "      <td>90.0</td>\n",
       "      <td>84.0</td>\n",
       "      <td>112.0</td>\n",
       "      <td>NaN</td>\n",
       "      <td>NaN</td>\n",
       "      <td>NaN</td>\n",
       "      <td>NaN</td>\n",
       "      <td>NaN</td>\n",
       "    </tr>\n",
       "    <tr>\n",
       "      <th>ponds_around3000</th>\n",
       "      <td>2.0</td>\n",
       "      <td>0.0</td>\n",
       "      <td>2.0</td>\n",
       "      <td>3.0</td>\n",
       "      <td>1.0</td>\n",
       "      <td>NaN</td>\n",
       "      <td>0.0</td>\n",
       "      <td>0.0</td>\n",
       "      <td>NaN</td>\n",
       "      <td>0.0</td>\n",
       "    </tr>\n",
       "    <tr>\n",
       "      <th>ponds_nearest</th>\n",
       "      <td>755.0</td>\n",
       "      <td>NaN</td>\n",
       "      <td>574.0</td>\n",
       "      <td>234.0</td>\n",
       "      <td>48.0</td>\n",
       "      <td>NaN</td>\n",
       "      <td>NaN</td>\n",
       "      <td>NaN</td>\n",
       "      <td>NaN</td>\n",
       "      <td>NaN</td>\n",
       "    </tr>\n",
       "    <tr>\n",
       "      <th>days_exposition</th>\n",
       "      <td>NaN</td>\n",
       "      <td>81.0</td>\n",
       "      <td>558.0</td>\n",
       "      <td>424.0</td>\n",
       "      <td>121.0</td>\n",
       "      <td>55.0</td>\n",
       "      <td>155.0</td>\n",
       "      <td>NaN</td>\n",
       "      <td>189.0</td>\n",
       "      <td>289.0</td>\n",
       "    </tr>\n",
       "  </tbody>\n",
       "</table>\n",
       "</div>"
      ],
      "text/plain": [
       "                                        0                    1  \\\n",
       "total_images                           20                    7   \n",
       "last_price                     13000000.0            3350000.0   \n",
       "total_area                          108.0                 40.4   \n",
       "first_day_exposition  2019-03-07 00:00:00  2018-12-04 00:00:00   \n",
       "rooms                                   3                    1   \n",
       "ceiling_height                        2.7                  NaN   \n",
       "floors_total                         16.0                 11.0   \n",
       "living_area                          51.0                 18.6   \n",
       "floor                                   8                    1   \n",
       "is_apartment                          NaN                  NaN   \n",
       "studio                              False                False   \n",
       "open_plan                           False                False   \n",
       "kitchen_area                         25.0                 11.0   \n",
       "balcony                               NaN                  2.0   \n",
       "locality_name             Санкт-Петербург       посёлок Шушары   \n",
       "airports_nearest                  18863.0              12817.0   \n",
       "cityCenters_nearest               16028.0              18603.0   \n",
       "parks_around3000                      1.0                  0.0   \n",
       "parks_nearest                       482.0                  NaN   \n",
       "ponds_around3000                      2.0                  0.0   \n",
       "ponds_nearest                       755.0                  NaN   \n",
       "days_exposition                       NaN                 81.0   \n",
       "\n",
       "                                        2                    3  \\\n",
       "total_images                           10                    0   \n",
       "last_price                      5196000.0           64900000.0   \n",
       "total_area                           56.0                159.0   \n",
       "first_day_exposition  2015-08-20 00:00:00  2015-07-24 00:00:00   \n",
       "rooms                                   2                    3   \n",
       "ceiling_height                        NaN                  NaN   \n",
       "floors_total                          5.0                 14.0   \n",
       "living_area                          34.3                  NaN   \n",
       "floor                                   4                    9   \n",
       "is_apartment                          NaN                  NaN   \n",
       "studio                              False                False   \n",
       "open_plan                           False                False   \n",
       "kitchen_area                          8.3                  NaN   \n",
       "balcony                               0.0                  0.0   \n",
       "locality_name             Санкт-Петербург      Санкт-Петербург   \n",
       "airports_nearest                  21741.0              28098.0   \n",
       "cityCenters_nearest               13933.0               6800.0   \n",
       "parks_around3000                      1.0                  2.0   \n",
       "parks_nearest                        90.0                 84.0   \n",
       "ponds_around3000                      2.0                  3.0   \n",
       "ponds_nearest                       574.0                234.0   \n",
       "days_exposition                     558.0                424.0   \n",
       "\n",
       "                                        4                          5  \\\n",
       "total_images                            2                         10   \n",
       "last_price                     10000000.0                  2890000.0   \n",
       "total_area                          100.0                       30.4   \n",
       "first_day_exposition  2018-06-19 00:00:00        2018-09-10 00:00:00   \n",
       "rooms                                   2                          1   \n",
       "ceiling_height                       3.03                        NaN   \n",
       "floors_total                         14.0                       12.0   \n",
       "living_area                          32.0                       14.4   \n",
       "floor                                  13                          5   \n",
       "is_apartment                          NaN                        NaN   \n",
       "studio                              False                      False   \n",
       "open_plan                           False                      False   \n",
       "kitchen_area                         41.0                        9.1   \n",
       "balcony                               NaN                        NaN   \n",
       "locality_name             Санкт-Петербург  городской посёлок Янино-1   \n",
       "airports_nearest                  31856.0                        NaN   \n",
       "cityCenters_nearest                8098.0                        NaN   \n",
       "parks_around3000                      2.0                        NaN   \n",
       "parks_nearest                       112.0                        NaN   \n",
       "ponds_around3000                      1.0                        NaN   \n",
       "ponds_nearest                        48.0                        NaN   \n",
       "days_exposition                     121.0                       55.0   \n",
       "\n",
       "                                        6                    7  \\\n",
       "total_images                            6                    5   \n",
       "last_price                      3700000.0            7915000.0   \n",
       "total_area                           37.3                 71.6   \n",
       "first_day_exposition  2017-11-02 00:00:00  2019-04-18 00:00:00   \n",
       "rooms                                   1                    2   \n",
       "ceiling_height                        NaN                  NaN   \n",
       "floors_total                         26.0                 24.0   \n",
       "living_area                          10.6                  NaN   \n",
       "floor                                   6                   22   \n",
       "is_apartment                          NaN                  NaN   \n",
       "studio                              False                False   \n",
       "open_plan                           False                False   \n",
       "kitchen_area                         14.4                 18.9   \n",
       "balcony                               1.0                  2.0   \n",
       "locality_name           посёлок Парголово      Санкт-Петербург   \n",
       "airports_nearest                  52996.0              23982.0   \n",
       "cityCenters_nearest               19143.0              11634.0   \n",
       "parks_around3000                      0.0                  0.0   \n",
       "parks_nearest                         NaN                  NaN   \n",
       "ponds_around3000                      0.0                  0.0   \n",
       "ponds_nearest                         NaN                  NaN   \n",
       "days_exposition                     155.0                  NaN   \n",
       "\n",
       "                                        8                    9  \n",
       "total_images                           20                   18  \n",
       "last_price                      2900000.0            5400000.0  \n",
       "total_area                          33.16                 61.0  \n",
       "first_day_exposition  2018-05-23 00:00:00  2017-02-26 00:00:00  \n",
       "rooms                                   1                    3  \n",
       "ceiling_height                        NaN                  2.5  \n",
       "floors_total                         27.0                  9.0  \n",
       "living_area                         15.43                 43.6  \n",
       "floor                                  26                    7  \n",
       "is_apartment                          NaN                  NaN  \n",
       "studio                              False                False  \n",
       "open_plan                           False                False  \n",
       "kitchen_area                         8.81                  6.5  \n",
       "balcony                               NaN                  2.0  \n",
       "locality_name              посёлок Мурино      Санкт-Петербург  \n",
       "airports_nearest                      NaN              50898.0  \n",
       "cityCenters_nearest                   NaN              15008.0  \n",
       "parks_around3000                      NaN                  0.0  \n",
       "parks_nearest                         NaN                  NaN  \n",
       "ponds_around3000                      NaN                  0.0  \n",
       "ponds_nearest                         NaN                  NaN  \n",
       "days_exposition                     189.0                289.0  "
      ]
     },
     "metadata": {},
     "output_type": "display_data"
    }
   ],
   "source": [
    "try: \n",
    "    df_realty = pd.read_csv('/datasets/real_estate_data.csv', sep='\\t', parse_dates=['first_day_exposition']) \n",
    "# при первичном выводе заметили, что строки разделены \\t\n",
    "# привели столбец 'first_day_exposition' к типу datetime64[ns]\n",
    "    display(df_realty.head(10).T) # первые 10 строк, чтобы увидеть названия всех столбцов транспонируем таблицу\n",
    "    # display(df_realty.tail(10).T) # последние 10\n",
    "    # display(df_realty.sample(10).T) # произвольные 10\n",
    "except: \n",
    "    df_realty = pd.read_csv('real_estate_data.csv', sep='\\t', parse_dates=['first_day_exposition'])\n",
    "    display(df_realty.head(10).T)\n",
    "    # display(df_realty.tail(10).T) \n",
    "    # display(df_realty.sample(10).T)"
   ]
  },
  {
   "cell_type": "markdown",
   "metadata": {},
   "source": [
    "Сразу бросается в глаза большое количество пропусков. Где-то пропуски надо будет обработать в соответствии с наличием (отсутствием) определенных корреляций с другими параметрами, где-то пропуски могут означать отсутствие указанного параметра (например 'balcony'). Также заметим, что в столбце 'first_day_exposition' -  дата и время публикации, время указано 00:00:00, как при выводе первых 10 строк, последних 10 и произвольных 10 строк. Не можем утверждать, что так во всей таблице, но в любом случае, точное время публикации никак не повлияет на результаты исследования. Поэтому для удобства можно будет оставить ГОД-МЕСЯЦ-ЧИСЛО. Обратим внимание на названия населенных пунктов, а именно посЁлок и посЕлок - к исправлению. "
   ]
  },
  {
   "cell_type": "markdown",
   "metadata": {},
   "source": [
    "Предстоит большая работа по предобработке (\"чистке\") датафрейма с заполнением, удалением, изменением значений, поэтому сделаем копию исходного датафрейма, чтобы можно было сравнить, в случае чего, результат с оригиналом."
   ]
  },
  {
   "cell_type": "code",
   "execution_count": 3,
   "metadata": {},
   "outputs": [],
   "source": [
    "try:\n",
    "    df_realty_alfa = pd.read_csv('real_estate_data.csv', sep='\\t', parse_dates=['first_day_exposition']) \n",
    "except:\n",
    "    df_realty_alfa = pd.read_csv('/datasets/real_estate_data.csv', sep='\\t', parse_dates=['first_day_exposition'])"
   ]
  },
  {
   "cell_type": "markdown",
   "metadata": {},
   "source": [
    "Ознакомимся с данными таблицы более подробно при помощи метода info"
   ]
  },
  {
   "cell_type": "code",
   "execution_count": 4,
   "metadata": {},
   "outputs": [
    {
     "name": "stdout",
     "output_type": "stream",
     "text": [
      "<class 'pandas.core.frame.DataFrame'>\n",
      "RangeIndex: 23699 entries, 0 to 23698\n",
      "Data columns (total 22 columns):\n",
      " #   Column                Non-Null Count  Dtype         \n",
      "---  ------                --------------  -----         \n",
      " 0   total_images          23699 non-null  int64         \n",
      " 1   last_price            23699 non-null  float64       \n",
      " 2   total_area            23699 non-null  float64       \n",
      " 3   first_day_exposition  23699 non-null  datetime64[ns]\n",
      " 4   rooms                 23699 non-null  int64         \n",
      " 5   ceiling_height        14504 non-null  float64       \n",
      " 6   floors_total          23613 non-null  float64       \n",
      " 7   living_area           21796 non-null  float64       \n",
      " 8   floor                 23699 non-null  int64         \n",
      " 9   is_apartment          2775 non-null   object        \n",
      " 10  studio                23699 non-null  bool          \n",
      " 11  open_plan             23699 non-null  bool          \n",
      " 12  kitchen_area          21421 non-null  float64       \n",
      " 13  balcony               12180 non-null  float64       \n",
      " 14  locality_name         23650 non-null  object        \n",
      " 15  airports_nearest      18157 non-null  float64       \n",
      " 16  cityCenters_nearest   18180 non-null  float64       \n",
      " 17  parks_around3000      18181 non-null  float64       \n",
      " 18  parks_nearest         8079 non-null   float64       \n",
      " 19  ponds_around3000      18181 non-null  float64       \n",
      " 20  ponds_nearest         9110 non-null   float64       \n",
      " 21  days_exposition       20518 non-null  float64       \n",
      "dtypes: bool(2), datetime64[ns](1), float64(14), int64(3), object(2)\n",
      "memory usage: 3.7+ MB\n"
     ]
    }
   ],
   "source": [
    "df_realty.info()"
   ]
  },
  {
   "cell_type": "markdown",
   "metadata": {},
   "source": [
    "В таблице `df_realty` 23699 строк, 22 столбца.\n",
    "\n",
    "Согласно документации к данным:\n",
    "* airports_nearest — расстояние до ближайшего аэропорта в метрах (м)\n",
    "* balcony — число балконов\n",
    "* ceiling_height — высота потолков (м)\n",
    "* cityCenters_nearest — расстояние до центра города (м)\n",
    "* days_exposition — сколько дней было размещено объявление (от публикации до снятия)\n",
    "* first_day_exposition — дата публикации\n",
    "* floor — этаж\n",
    "* floors_total — всего этажей в доме\n",
    "* is_apartment — апартаменты (булев тип)\n",
    "* kitchen_area — площадь кухни в квадратных метрах (м²)\n",
    "* last_price — цена на момент снятия с публикации\n",
    "* living_area — жилая площадь в квадратных метрах (м²)\n",
    "* locality_name — название населённого пункта\n",
    "* open_plan — свободная планировка (булев тип)\n",
    "* parks_around3000 — число парков в радиусе 3 км\n",
    "* parks_nearest — расстояние до ближайшего парка (м)\n",
    "* ponds_around3000 — число водоёмов в радиусе 3 км\n",
    "* ponds_nearest — расстояние до ближайшего водоёма (м)\n",
    "* rooms — число комнат\n",
    "* studio — квартира-студия (булев тип)\n",
    "* total_area — площадь квартиры в квадратных метрах (м²)\n",
    "* total_images — число фотографий квартиры в объявлении\n",
    "\n",
    "<hr>\n",
    "\n",
    "Тип данных - количество столбцов: bool - 2, datetime - 1, float - 14, int - 3, object - 2. Сразу обратим внимание, что в столбце `'is_apartament'` тип данных - `object`, несмотря на то, что в нем содержатся булевы значения `True` и `False`.  Количество ненулевых значений в столбцах различается, значит в данных есть пропуски. В столбцах `'ceiling_height'`, `'floors_total'`, `'living_area'`, `'is_apartment'`, `'kitchen_area'`, `'balcony'`, `'locality_name'`, `'airports_nearest'`, `'cityCenters_nearest'`, `'parks_around3000'`, `'parks_nearest'`, `'ponds_around3000'`, `'ponds_nearest'`, `'days_exposition'` есть пропущенные значения. \n",
    "Некоторые столбцы было бы удобно переименовать (например `'cityCenters_nearest'` в `'to_center'`, `'first_day_exposition'` в `'date_expo'` , `'parks_around3000'` в `'parks_3km'` и др.)"
   ]
  },
  {
   "cell_type": "markdown",
   "metadata": {},
   "source": [
    "Выведем информацию о среднее значении, стандартном отклонении, минимальном значении, максимальном значении, 1-й процентиль, 2-й процентиль, 3-й процентиль столбцов с числовыми значениями."
   ]
  },
  {
   "cell_type": "code",
   "execution_count": 5,
   "metadata": {},
   "outputs": [
    {
     "data": {
      "text/html": [
       "<div>\n",
       "<style scoped>\n",
       "    .dataframe tbody tr th:only-of-type {\n",
       "        vertical-align: middle;\n",
       "    }\n",
       "\n",
       "    .dataframe tbody tr th {\n",
       "        vertical-align: top;\n",
       "    }\n",
       "\n",
       "    .dataframe thead th {\n",
       "        text-align: right;\n",
       "    }\n",
       "</style>\n",
       "<table border=\"1\" class=\"dataframe\">\n",
       "  <thead>\n",
       "    <tr style=\"text-align: right;\">\n",
       "      <th></th>\n",
       "      <th>count</th>\n",
       "      <th>mean</th>\n",
       "      <th>std</th>\n",
       "      <th>min</th>\n",
       "      <th>25%</th>\n",
       "      <th>50%</th>\n",
       "      <th>75%</th>\n",
       "      <th>max</th>\n",
       "    </tr>\n",
       "  </thead>\n",
       "  <tbody>\n",
       "    <tr>\n",
       "      <th>total_images</th>\n",
       "      <td>23699.0</td>\n",
       "      <td>9.9</td>\n",
       "      <td>5.7</td>\n",
       "      <td>0.0</td>\n",
       "      <td>6.0</td>\n",
       "      <td>9.0</td>\n",
       "      <td>14.0</td>\n",
       "      <td>50.0</td>\n",
       "    </tr>\n",
       "    <tr>\n",
       "      <th>last_price</th>\n",
       "      <td>23699.0</td>\n",
       "      <td>6541548.8</td>\n",
       "      <td>10887013.3</td>\n",
       "      <td>12190.0</td>\n",
       "      <td>3400000.0</td>\n",
       "      <td>4650000.0</td>\n",
       "      <td>6800000.0</td>\n",
       "      <td>763000000.0</td>\n",
       "    </tr>\n",
       "    <tr>\n",
       "      <th>total_area</th>\n",
       "      <td>23699.0</td>\n",
       "      <td>60.3</td>\n",
       "      <td>35.7</td>\n",
       "      <td>12.0</td>\n",
       "      <td>40.0</td>\n",
       "      <td>52.0</td>\n",
       "      <td>69.9</td>\n",
       "      <td>900.0</td>\n",
       "    </tr>\n",
       "    <tr>\n",
       "      <th>rooms</th>\n",
       "      <td>23699.0</td>\n",
       "      <td>2.1</td>\n",
       "      <td>1.1</td>\n",
       "      <td>0.0</td>\n",
       "      <td>1.0</td>\n",
       "      <td>2.0</td>\n",
       "      <td>3.0</td>\n",
       "      <td>19.0</td>\n",
       "    </tr>\n",
       "    <tr>\n",
       "      <th>ceiling_height</th>\n",
       "      <td>14504.0</td>\n",
       "      <td>2.8</td>\n",
       "      <td>1.3</td>\n",
       "      <td>1.0</td>\n",
       "      <td>2.5</td>\n",
       "      <td>2.6</td>\n",
       "      <td>2.8</td>\n",
       "      <td>100.0</td>\n",
       "    </tr>\n",
       "    <tr>\n",
       "      <th>floors_total</th>\n",
       "      <td>23613.0</td>\n",
       "      <td>10.7</td>\n",
       "      <td>6.6</td>\n",
       "      <td>1.0</td>\n",
       "      <td>5.0</td>\n",
       "      <td>9.0</td>\n",
       "      <td>16.0</td>\n",
       "      <td>60.0</td>\n",
       "    </tr>\n",
       "    <tr>\n",
       "      <th>living_area</th>\n",
       "      <td>21796.0</td>\n",
       "      <td>34.5</td>\n",
       "      <td>22.0</td>\n",
       "      <td>2.0</td>\n",
       "      <td>18.6</td>\n",
       "      <td>30.0</td>\n",
       "      <td>42.3</td>\n",
       "      <td>409.7</td>\n",
       "    </tr>\n",
       "    <tr>\n",
       "      <th>floor</th>\n",
       "      <td>23699.0</td>\n",
       "      <td>5.9</td>\n",
       "      <td>4.9</td>\n",
       "      <td>1.0</td>\n",
       "      <td>2.0</td>\n",
       "      <td>4.0</td>\n",
       "      <td>8.0</td>\n",
       "      <td>33.0</td>\n",
       "    </tr>\n",
       "    <tr>\n",
       "      <th>kitchen_area</th>\n",
       "      <td>21421.0</td>\n",
       "      <td>10.6</td>\n",
       "      <td>5.9</td>\n",
       "      <td>1.3</td>\n",
       "      <td>7.0</td>\n",
       "      <td>9.1</td>\n",
       "      <td>12.0</td>\n",
       "      <td>112.0</td>\n",
       "    </tr>\n",
       "    <tr>\n",
       "      <th>balcony</th>\n",
       "      <td>12180.0</td>\n",
       "      <td>1.2</td>\n",
       "      <td>1.1</td>\n",
       "      <td>0.0</td>\n",
       "      <td>0.0</td>\n",
       "      <td>1.0</td>\n",
       "      <td>2.0</td>\n",
       "      <td>5.0</td>\n",
       "    </tr>\n",
       "    <tr>\n",
       "      <th>airports_nearest</th>\n",
       "      <td>18157.0</td>\n",
       "      <td>28793.7</td>\n",
       "      <td>12630.9</td>\n",
       "      <td>0.0</td>\n",
       "      <td>18585.0</td>\n",
       "      <td>26726.0</td>\n",
       "      <td>37273.0</td>\n",
       "      <td>84869.0</td>\n",
       "    </tr>\n",
       "    <tr>\n",
       "      <th>cityCenters_nearest</th>\n",
       "      <td>18180.0</td>\n",
       "      <td>14191.3</td>\n",
       "      <td>8608.4</td>\n",
       "      <td>181.0</td>\n",
       "      <td>9238.0</td>\n",
       "      <td>13098.5</td>\n",
       "      <td>16293.0</td>\n",
       "      <td>65968.0</td>\n",
       "    </tr>\n",
       "    <tr>\n",
       "      <th>parks_around3000</th>\n",
       "      <td>18181.0</td>\n",
       "      <td>0.6</td>\n",
       "      <td>0.8</td>\n",
       "      <td>0.0</td>\n",
       "      <td>0.0</td>\n",
       "      <td>0.0</td>\n",
       "      <td>1.0</td>\n",
       "      <td>3.0</td>\n",
       "    </tr>\n",
       "    <tr>\n",
       "      <th>parks_nearest</th>\n",
       "      <td>8079.0</td>\n",
       "      <td>490.8</td>\n",
       "      <td>342.3</td>\n",
       "      <td>1.0</td>\n",
       "      <td>288.0</td>\n",
       "      <td>455.0</td>\n",
       "      <td>612.0</td>\n",
       "      <td>3190.0</td>\n",
       "    </tr>\n",
       "    <tr>\n",
       "      <th>ponds_around3000</th>\n",
       "      <td>18181.0</td>\n",
       "      <td>0.8</td>\n",
       "      <td>0.9</td>\n",
       "      <td>0.0</td>\n",
       "      <td>0.0</td>\n",
       "      <td>1.0</td>\n",
       "      <td>1.0</td>\n",
       "      <td>3.0</td>\n",
       "    </tr>\n",
       "    <tr>\n",
       "      <th>ponds_nearest</th>\n",
       "      <td>9110.0</td>\n",
       "      <td>518.0</td>\n",
       "      <td>277.7</td>\n",
       "      <td>13.0</td>\n",
       "      <td>294.0</td>\n",
       "      <td>502.0</td>\n",
       "      <td>729.0</td>\n",
       "      <td>1344.0</td>\n",
       "    </tr>\n",
       "    <tr>\n",
       "      <th>days_exposition</th>\n",
       "      <td>20518.0</td>\n",
       "      <td>180.9</td>\n",
       "      <td>219.7</td>\n",
       "      <td>1.0</td>\n",
       "      <td>45.0</td>\n",
       "      <td>95.0</td>\n",
       "      <td>232.0</td>\n",
       "      <td>1580.0</td>\n",
       "    </tr>\n",
       "  </tbody>\n",
       "</table>\n",
       "</div>"
      ],
      "text/plain": [
       "                       count       mean         std      min        25%  \\\n",
       "total_images         23699.0        9.9         5.7      0.0        6.0   \n",
       "last_price           23699.0  6541548.8  10887013.3  12190.0  3400000.0   \n",
       "total_area           23699.0       60.3        35.7     12.0       40.0   \n",
       "rooms                23699.0        2.1         1.1      0.0        1.0   \n",
       "ceiling_height       14504.0        2.8         1.3      1.0        2.5   \n",
       "floors_total         23613.0       10.7         6.6      1.0        5.0   \n",
       "living_area          21796.0       34.5        22.0      2.0       18.6   \n",
       "floor                23699.0        5.9         4.9      1.0        2.0   \n",
       "kitchen_area         21421.0       10.6         5.9      1.3        7.0   \n",
       "balcony              12180.0        1.2         1.1      0.0        0.0   \n",
       "airports_nearest     18157.0    28793.7     12630.9      0.0    18585.0   \n",
       "cityCenters_nearest  18180.0    14191.3      8608.4    181.0     9238.0   \n",
       "parks_around3000     18181.0        0.6         0.8      0.0        0.0   \n",
       "parks_nearest         8079.0      490.8       342.3      1.0      288.0   \n",
       "ponds_around3000     18181.0        0.8         0.9      0.0        0.0   \n",
       "ponds_nearest         9110.0      518.0       277.7     13.0      294.0   \n",
       "days_exposition      20518.0      180.9       219.7      1.0       45.0   \n",
       "\n",
       "                           50%        75%          max  \n",
       "total_images               9.0       14.0         50.0  \n",
       "last_price           4650000.0  6800000.0  763000000.0  \n",
       "total_area                52.0       69.9        900.0  \n",
       "rooms                      2.0        3.0         19.0  \n",
       "ceiling_height             2.6        2.8        100.0  \n",
       "floors_total               9.0       16.0         60.0  \n",
       "living_area               30.0       42.3        409.7  \n",
       "floor                      4.0        8.0         33.0  \n",
       "kitchen_area               9.1       12.0        112.0  \n",
       "balcony                    1.0        2.0          5.0  \n",
       "airports_nearest       26726.0    37273.0      84869.0  \n",
       "cityCenters_nearest    13098.5    16293.0      65968.0  \n",
       "parks_around3000           0.0        1.0          3.0  \n",
       "parks_nearest            455.0      612.0       3190.0  \n",
       "ponds_around3000           1.0        1.0          3.0  \n",
       "ponds_nearest            502.0      729.0       1344.0  \n",
       "days_exposition           95.0      232.0       1580.0  "
      ]
     },
     "execution_count": 5,
     "metadata": {},
     "output_type": "execute_result"
    }
   ],
   "source": [
    "pd.options.display.float_format= '{: .1f}'.format # заменили вид числа (12345е06) на вещественный с одним знаком после запятой\n",
    "# и даже если мы хорошо справляемся с возведением числа в степень, так будем намного удобнее\n",
    "\n",
    "df_realty.describe().T # выводим информацию и снова транспонируем"
   ]
  },
  {
   "cell_type": "markdown",
   "metadata": {},
   "source": [
    "**Рассмотрим данные по отдельным столбцам**\n",
    "1.  `total_images`<br>\n",
    "50 фотографий кажется не очень правдоподобным, но вероятность реалистичности такого количества исключать не будем.\n",
    "2. `last_price`<br>\n",
    "Среднее примерно в 6 миллионов выглядит несколько завышенным значением учитывая за какие года данные и местоположение (не Москва и МО). Стандартное отклонение примерно в 10 млн. еще больше настораживает, но оно и понятно, при минимуме в 12 тыс и максимуме в 763 млн. Минимальное значение мало похоже на правду, скорее больше похоже на стоимость аренды в месяц. Максимальное значение стоит оценить с учетом остальных параметров.\n",
    "3. `rooms`<br>\n",
    "Минимальное значение в 0 комнат скорее всего пропуск или ошибка.\n",
    "4. `ceiling_height` <br>\n",
    "Высота потолков в 1 м и в 100 метров явно ошибки, выбросы в данных.\n",
    "5. `floors_total`<br>\n",
    "60 этажей похоже на выброс, так как самое высокое здание Ленобласти - Лахта Центр имеет 87 этажей, далее максимальное количество этажей не превосходит 40. Одноэтажный дом скорее всего дом в частном секторе.\n",
    "6. `living_area`<br>\n",
    "Жилая площадь в 2 кв. м. ошибка. 409 кв. м. жилой площади не исключаем, но нужно уточнить остальные параметры на предмет правдоподобности\n",
    "7. `kitchen_area`<br>\n",
    "Минимальная площадь кухни в 1.3 кв. м. - странное значение. Максимальная площадь кухни в 112 кв.м. - странное значение\n",
    "8. `airports_nearest`<br>\n",
    "0 м. до аэропорта, может означать только недвижемость в самом Пулково, не думаю, что там ее продают\n",
    "9. `parks_nearest`<br>\n",
    "1 м. до парка означает продажу недвижимости в самом парке. Также маловероятно.\n",
    "10. `days_exposition`<br>\n",
    "Продать недвижимость за 1 день - большая удача. Продавать недвижимость более 4 лет - делать что-то не так. А может продали раньше и забыли снять с продажи. Посмотрим."
   ]
  },
  {
   "cell_type": "markdown",
   "metadata": {},
   "source": [
    "**ВЫВОДЫ**\n",
    "Строки таблицы содержат информацию о недвижимости продаваемой через сервис Яндекс Недвижимость в Санкт-Петербурге и соседних населённых пунктах в течении нескольких лет. Часть колонок содержат категориальные значения (столбцы апартаменты, название населенного пункта, свободная планировка, квартира-студия) остальные количественные, причем есть столбец с датой публикации объявления (сразу привели к типу дата). \n",
    "\n",
    "В данных есть пропуски и аномалии, которые искажают объективную картину и могут серьезно повлиять на результаты исследования. Например пропуски были обнаружены в 14 столбцах. Небулевый тип в столбце `is_apartment` со значениями True и False. Различного рода \"странные\" минимальные и максимальные значения в столбцах `last_price`, `rooms`, `ceiling_height`, `floors_total`, `living_area`, `kitchen_area`, `airports_nearest`, `airports_nearest`, `days_exposition`. Часть столбцов переименуем для удобства. В столбце 'locality_name' были обнаружены различные написания слов посёлок.  \n",
    "\n",
    "Предварительно будем считать, что данных для исследования достаточно. Но для движения дальше НЕОБХОДИМО устранить проблемы в данных. "
   ]
  },
  {
   "cell_type": "markdown",
   "metadata": {},
   "source": [
    "## Предобработка данных"
   ]
  },
  {
   "cell_type": "markdown",
   "metadata": {},
   "source": [
    "### Формат даты, переименование столбцов\n",
    "Нанем с формата даты. Оставим только год, месяц, число. "
   ]
  },
  {
   "cell_type": "code",
   "execution_count": 6,
   "metadata": {},
   "outputs": [
    {
     "data": {
      "text/html": [
       "<div>\n",
       "<style scoped>\n",
       "    .dataframe tbody tr th:only-of-type {\n",
       "        vertical-align: middle;\n",
       "    }\n",
       "\n",
       "    .dataframe tbody tr th {\n",
       "        vertical-align: top;\n",
       "    }\n",
       "\n",
       "    .dataframe thead th {\n",
       "        text-align: right;\n",
       "    }\n",
       "</style>\n",
       "<table border=\"1\" class=\"dataframe\">\n",
       "  <thead>\n",
       "    <tr style=\"text-align: right;\">\n",
       "      <th></th>\n",
       "      <th>total_images</th>\n",
       "      <th>last_price</th>\n",
       "      <th>total_area</th>\n",
       "      <th>first_day_exposition</th>\n",
       "      <th>rooms</th>\n",
       "      <th>ceiling_height</th>\n",
       "      <th>floors_total</th>\n",
       "      <th>living_area</th>\n",
       "      <th>floor</th>\n",
       "      <th>is_apartment</th>\n",
       "      <th>...</th>\n",
       "      <th>kitchen_area</th>\n",
       "      <th>balcony</th>\n",
       "      <th>locality_name</th>\n",
       "      <th>airports_nearest</th>\n",
       "      <th>cityCenters_nearest</th>\n",
       "      <th>parks_around3000</th>\n",
       "      <th>parks_nearest</th>\n",
       "      <th>ponds_around3000</th>\n",
       "      <th>ponds_nearest</th>\n",
       "      <th>days_exposition</th>\n",
       "    </tr>\n",
       "  </thead>\n",
       "  <tbody>\n",
       "    <tr>\n",
       "      <th>0</th>\n",
       "      <td>20</td>\n",
       "      <td>13000000.0</td>\n",
       "      <td>108.0</td>\n",
       "      <td>2019-03-07</td>\n",
       "      <td>3</td>\n",
       "      <td>2.7</td>\n",
       "      <td>16.0</td>\n",
       "      <td>51.0</td>\n",
       "      <td>8</td>\n",
       "      <td>NaN</td>\n",
       "      <td>...</td>\n",
       "      <td>25.0</td>\n",
       "      <td>NaN</td>\n",
       "      <td>Санкт-Петербург</td>\n",
       "      <td>18863.0</td>\n",
       "      <td>16028.0</td>\n",
       "      <td>1.0</td>\n",
       "      <td>482.0</td>\n",
       "      <td>2.0</td>\n",
       "      <td>755.0</td>\n",
       "      <td>NaN</td>\n",
       "    </tr>\n",
       "  </tbody>\n",
       "</table>\n",
       "<p>1 rows × 22 columns</p>\n",
       "</div>"
      ],
      "text/plain": [
       "   total_images  last_price  total_area first_day_exposition  rooms  \\\n",
       "0            20  13000000.0       108.0           2019-03-07      3   \n",
       "\n",
       "   ceiling_height  floors_total  living_area  floor is_apartment  ...  \\\n",
       "0             2.7          16.0         51.0      8          NaN  ...   \n",
       "\n",
       "   kitchen_area  balcony    locality_name  airports_nearest  \\\n",
       "0          25.0      NaN  Санкт-Петербург           18863.0   \n",
       "\n",
       "  cityCenters_nearest  parks_around3000  parks_nearest  ponds_around3000  \\\n",
       "0             16028.0               1.0          482.0               2.0   \n",
       "\n",
       "   ponds_nearest  days_exposition  \n",
       "0          755.0              NaN  \n",
       "\n",
       "[1 rows x 22 columns]"
      ]
     },
     "execution_count": 6,
     "metadata": {},
     "output_type": "execute_result"
    }
   ],
   "source": [
    "df_realty['first_day_exposition'] = df_realty['first_day_exposition'].round('D') # оставляем только год, месяц, число\n",
    "df_realty.head(1)"
   ]
  },
  {
   "cell_type": "markdown",
   "metadata": {},
   "source": [
    "Переименуем некоторые столбцы, как было предложено ранее"
   ]
  },
  {
   "cell_type": "code",
   "execution_count": 7,
   "metadata": {
    "scrolled": true
   },
   "outputs": [
    {
     "data": {
      "text/plain": [
       "Index(['images', 'price', 'total_area', 'date_expo', 'rooms', 'ceilings',\n",
       "       'floors_total', 'living_area', 'floor', 'apartment', 'studio',\n",
       "       'open_plan', 'kitchen_area', 'balcony', 'locality_name', 'to_airports',\n",
       "       'to_center', 'parks_around_3km', 'to_park', 'ponds_around_3km',\n",
       "       'to_pond', 'total_days_expo'],\n",
       "      dtype='object')"
      ]
     },
     "execution_count": 7,
     "metadata": {},
     "output_type": "execute_result"
    }
   ],
   "source": [
    "df_realty = df_realty.rename(columns={'total_images' : 'images',\n",
    "                                      'cityCenters_nearest' : 'to_center',\n",
    "                                      'first_day_exposition' : 'date_expo' ,\n",
    "                                      'ceiling_height' : 'ceilings',\n",
    "                                      'parks_around3000' : 'parks_around_3km',\n",
    "                                      'ponds_around3000' : 'ponds_around_3km',\n",
    "                                      'days_exposition' : 'total_days_expo',\n",
    "                                      'is_apartment' : 'apartment',\n",
    "                                      'airports_nearest' : 'to_airports',\n",
    "                                      'parks_nearest' : 'to_park',\n",
    "                                      'ponds_nearest' : 'to_pond', 'last_price' : 'price'})\n",
    "df_realty.columns"
   ]
  },
  {
   "cell_type": "markdown",
   "metadata": {},
   "source": [
    "Готово. Смысловая нагрузка не изменилась, читать, работать и обращаться к ним нам стало удобнее."
   ]
  },
  {
   "cell_type": "markdown",
   "metadata": {},
   "source": [
    "### Дубликаты"
   ]
  },
  {
   "cell_type": "markdown",
   "metadata": {},
   "source": [
    "**Явные дубликаты**<br>\n",
    "Посчитаем количество явных дубликатов"
   ]
  },
  {
   "cell_type": "code",
   "execution_count": 8,
   "metadata": {},
   "outputs": [
    {
     "data": {
      "text/plain": [
       "0"
      ]
     },
     "execution_count": 8,
     "metadata": {},
     "output_type": "execute_result"
    }
   ],
   "source": [
    "df_realty.duplicated().sum()"
   ]
  },
  {
   "cell_type": "markdown",
   "metadata": {},
   "source": [
    "Хорошо, явных нет. Проверим на предмет неявных.<br> Как отмечалось в обзоре, в 'locality_name' встречались значения различающиеся написание (Е и Ё). Проверим этот столбец. Выведем уникальные значения\n"
   ]
  },
  {
   "cell_type": "code",
   "execution_count": 9,
   "metadata": {},
   "outputs": [
    {
     "data": {
      "text/plain": [
       "['Бокситогорск',\n",
       " 'Волосово',\n",
       " 'Волхов',\n",
       " 'Всеволожск',\n",
       " 'Выборг',\n",
       " 'Высоцк',\n",
       " 'Гатчина',\n",
       " 'Зеленогорск',\n",
       " 'Ивангород',\n",
       " 'Каменногорск']"
      ]
     },
     "execution_count": 9,
     "metadata": {},
     "output_type": "execute_result"
    }
   ],
   "source": [
    "sorted(df_realty.loc[df_realty['locality_name'].isnull() == False, 'locality_name'].unique())[:10]"
   ]
  },
  {
   "cell_type": "markdown",
   "metadata": {},
   "source": [
    "**Неявные дубликаты в названиях населенных пунктов:**\n",
    "* Ё и Ё\n",
    "* Городской поселок и поселок городского типа\n",
    "* Поселок при железнодорожной станции и поселок станции\n",
    "* Котеджный поселок и поселок"
   ]
  },
  {
   "cell_type": "markdown",
   "metadata": {},
   "source": [
    "Заменим, предварительно создав функцию, тестирующую результаты замены, а именно количество незамененных дубликатов"
   ]
  },
  {
   "cell_type": "code",
   "execution_count": 10,
   "metadata": {},
   "outputs": [],
   "source": [
    "def test_replay(phrase):\n",
    "    string = 0\n",
    "    for index in range(len(df_realty['locality_name'])):\n",
    "        if phrase in df_realty['locality_name']:\n",
    "            string += 1\n",
    "    return print(string)\n"
   ]
  },
  {
   "cell_type": "code",
   "execution_count": 11,
   "metadata": {},
   "outputs": [
    {
     "name": "stdout",
     "output_type": "stream",
     "text": [
      "0\n",
      "0\n",
      "0\n",
      "0\n"
     ]
    }
   ],
   "source": [
    "df_realty['locality_name'] = df_realty['locality_name'].str.replace('ё','е')\n",
    "df_realty['locality_name'] = df_realty['locality_name'].str.replace('городской поселок','поселок городского типа')\n",
    "df_realty['locality_name'] = df_realty['locality_name'].str.replace('поселок при железнодорожной станции','поселок станции')\n",
    "df_realty['locality_name'] = df_realty['locality_name'].str.replace('коттеджный поселок','поселок')\n",
    "\n",
    "test_replay('ё')\n",
    "test_replay('городской поселок')\n",
    "test_replay('поселок при железнодорожной станции')\n",
    "test_replay('коттеджный поселок')"
   ]
  },
  {
   "cell_type": "markdown",
   "metadata": {},
   "source": [
    "Неявные дубликаты в 'locality_name' удалены. <br>\n",
    "Как можно найти строки дубликаты? Можно рассмотреть совпадения по нескольким столбцам, по которым совпадения маловероятны. Например, дата размещения объявления, цена, общая площадь, количество фотографий. Рассмотренные в системе, этих параметров вполне достаточно для выявления дублирующих записей."
   ]
  },
  {
   "cell_type": "code",
   "execution_count": 12,
   "metadata": {},
   "outputs": [
    {
     "data": {
      "text/html": [
       "<div>\n",
       "<style scoped>\n",
       "    .dataframe tbody tr th:only-of-type {\n",
       "        vertical-align: middle;\n",
       "    }\n",
       "\n",
       "    .dataframe tbody tr th {\n",
       "        vertical-align: top;\n",
       "    }\n",
       "\n",
       "    .dataframe thead th {\n",
       "        text-align: right;\n",
       "    }\n",
       "</style>\n",
       "<table border=\"1\" class=\"dataframe\">\n",
       "  <thead>\n",
       "    <tr style=\"text-align: right;\">\n",
       "      <th></th>\n",
       "      <th>images</th>\n",
       "      <th>price</th>\n",
       "      <th>total_area</th>\n",
       "      <th>date_expo</th>\n",
       "      <th>rooms</th>\n",
       "      <th>ceilings</th>\n",
       "      <th>floors_total</th>\n",
       "      <th>living_area</th>\n",
       "      <th>floor</th>\n",
       "      <th>apartment</th>\n",
       "      <th>...</th>\n",
       "      <th>kitchen_area</th>\n",
       "      <th>balcony</th>\n",
       "      <th>locality_name</th>\n",
       "      <th>to_airports</th>\n",
       "      <th>to_center</th>\n",
       "      <th>parks_around_3km</th>\n",
       "      <th>to_park</th>\n",
       "      <th>ponds_around_3km</th>\n",
       "      <th>to_pond</th>\n",
       "      <th>total_days_expo</th>\n",
       "    </tr>\n",
       "  </thead>\n",
       "  <tbody>\n",
       "    <tr>\n",
       "      <th>19052</th>\n",
       "      <td>3</td>\n",
       "      <td>4370000.0</td>\n",
       "      <td>38.0</td>\n",
       "      <td>2016-06-23</td>\n",
       "      <td>1</td>\n",
       "      <td>NaN</td>\n",
       "      <td>9.0</td>\n",
       "      <td>19.5</td>\n",
       "      <td>1</td>\n",
       "      <td>NaN</td>\n",
       "      <td>...</td>\n",
       "      <td>NaN</td>\n",
       "      <td>NaN</td>\n",
       "      <td>Санкт-Петербург</td>\n",
       "      <td>27103.0</td>\n",
       "      <td>7640.0</td>\n",
       "      <td>1.0</td>\n",
       "      <td>624.0</td>\n",
       "      <td>0.0</td>\n",
       "      <td>NaN</td>\n",
       "      <td>620.0</td>\n",
       "    </tr>\n",
       "    <tr>\n",
       "      <th>19325</th>\n",
       "      <td>3</td>\n",
       "      <td>4370000.0</td>\n",
       "      <td>38.0</td>\n",
       "      <td>2016-06-23</td>\n",
       "      <td>1</td>\n",
       "      <td>NaN</td>\n",
       "      <td>9.0</td>\n",
       "      <td>NaN</td>\n",
       "      <td>2</td>\n",
       "      <td>NaN</td>\n",
       "      <td>...</td>\n",
       "      <td>NaN</td>\n",
       "      <td>NaN</td>\n",
       "      <td>Санкт-Петербург</td>\n",
       "      <td>27103.0</td>\n",
       "      <td>7640.0</td>\n",
       "      <td>1.0</td>\n",
       "      <td>624.0</td>\n",
       "      <td>0.0</td>\n",
       "      <td>NaN</td>\n",
       "      <td>620.0</td>\n",
       "    </tr>\n",
       "    <tr>\n",
       "      <th>9661</th>\n",
       "      <td>1</td>\n",
       "      <td>2533531.0</td>\n",
       "      <td>42.5</td>\n",
       "      <td>2016-09-08</td>\n",
       "      <td>1</td>\n",
       "      <td>2.6</td>\n",
       "      <td>18.0</td>\n",
       "      <td>19.8</td>\n",
       "      <td>7</td>\n",
       "      <td>False</td>\n",
       "      <td>...</td>\n",
       "      <td>NaN</td>\n",
       "      <td>NaN</td>\n",
       "      <td>Никольское</td>\n",
       "      <td>NaN</td>\n",
       "      <td>NaN</td>\n",
       "      <td>NaN</td>\n",
       "      <td>NaN</td>\n",
       "      <td>NaN</td>\n",
       "      <td>NaN</td>\n",
       "      <td>627.0</td>\n",
       "    </tr>\n",
       "    <tr>\n",
       "      <th>18425</th>\n",
       "      <td>1</td>\n",
       "      <td>2533531.0</td>\n",
       "      <td>42.5</td>\n",
       "      <td>2016-09-08</td>\n",
       "      <td>1</td>\n",
       "      <td>2.6</td>\n",
       "      <td>18.0</td>\n",
       "      <td>20.0</td>\n",
       "      <td>10</td>\n",
       "      <td>False</td>\n",
       "      <td>...</td>\n",
       "      <td>NaN</td>\n",
       "      <td>NaN</td>\n",
       "      <td>Никольское</td>\n",
       "      <td>NaN</td>\n",
       "      <td>NaN</td>\n",
       "      <td>NaN</td>\n",
       "      <td>NaN</td>\n",
       "      <td>NaN</td>\n",
       "      <td>NaN</td>\n",
       "      <td>627.0</td>\n",
       "    </tr>\n",
       "    <tr>\n",
       "      <th>10099</th>\n",
       "      <td>10</td>\n",
       "      <td>4400000.0</td>\n",
       "      <td>44.0</td>\n",
       "      <td>2017-11-22</td>\n",
       "      <td>1</td>\n",
       "      <td>NaN</td>\n",
       "      <td>17.0</td>\n",
       "      <td>17.0</td>\n",
       "      <td>14</td>\n",
       "      <td>NaN</td>\n",
       "      <td>...</td>\n",
       "      <td>13.0</td>\n",
       "      <td>2.0</td>\n",
       "      <td>Санкт-Петербург</td>\n",
       "      <td>42901.0</td>\n",
       "      <td>9267.0</td>\n",
       "      <td>0.0</td>\n",
       "      <td>NaN</td>\n",
       "      <td>0.0</td>\n",
       "      <td>NaN</td>\n",
       "      <td>71.0</td>\n",
       "    </tr>\n",
       "    <tr>\n",
       "      <th>21142</th>\n",
       "      <td>10</td>\n",
       "      <td>4400000.0</td>\n",
       "      <td>44.0</td>\n",
       "      <td>2017-11-22</td>\n",
       "      <td>2</td>\n",
       "      <td>NaN</td>\n",
       "      <td>9.0</td>\n",
       "      <td>27.0</td>\n",
       "      <td>8</td>\n",
       "      <td>NaN</td>\n",
       "      <td>...</td>\n",
       "      <td>6.0</td>\n",
       "      <td>1.0</td>\n",
       "      <td>Санкт-Петербург</td>\n",
       "      <td>49917.0</td>\n",
       "      <td>16755.0</td>\n",
       "      <td>1.0</td>\n",
       "      <td>235.0</td>\n",
       "      <td>0.0</td>\n",
       "      <td>NaN</td>\n",
       "      <td>72.0</td>\n",
       "    </tr>\n",
       "    <tr>\n",
       "      <th>14739</th>\n",
       "      <td>10</td>\n",
       "      <td>5142565.0</td>\n",
       "      <td>54.6</td>\n",
       "      <td>2018-10-01</td>\n",
       "      <td>2</td>\n",
       "      <td>NaN</td>\n",
       "      <td>5.0</td>\n",
       "      <td>26.0</td>\n",
       "      <td>3</td>\n",
       "      <td>NaN</td>\n",
       "      <td>...</td>\n",
       "      <td>NaN</td>\n",
       "      <td>NaN</td>\n",
       "      <td>Санкт-Петербург</td>\n",
       "      <td>47303.0</td>\n",
       "      <td>25866.0</td>\n",
       "      <td>1.0</td>\n",
       "      <td>251.0</td>\n",
       "      <td>1.0</td>\n",
       "      <td>350.0</td>\n",
       "      <td>145.0</td>\n",
       "    </tr>\n",
       "    <tr>\n",
       "      <th>18624</th>\n",
       "      <td>10</td>\n",
       "      <td>5142565.0</td>\n",
       "      <td>54.6</td>\n",
       "      <td>2018-10-01</td>\n",
       "      <td>2</td>\n",
       "      <td>NaN</td>\n",
       "      <td>5.0</td>\n",
       "      <td>26.0</td>\n",
       "      <td>5</td>\n",
       "      <td>NaN</td>\n",
       "      <td>...</td>\n",
       "      <td>NaN</td>\n",
       "      <td>NaN</td>\n",
       "      <td>Санкт-Петербург</td>\n",
       "      <td>47303.0</td>\n",
       "      <td>25866.0</td>\n",
       "      <td>1.0</td>\n",
       "      <td>251.0</td>\n",
       "      <td>1.0</td>\n",
       "      <td>350.0</td>\n",
       "      <td>145.0</td>\n",
       "    </tr>\n",
       "  </tbody>\n",
       "</table>\n",
       "<p>8 rows × 22 columns</p>\n",
       "</div>"
      ],
      "text/plain": [
       "       images      price  total_area  date_expo  rooms  ceilings  \\\n",
       "19052       3  4370000.0        38.0 2016-06-23      1       NaN   \n",
       "19325       3  4370000.0        38.0 2016-06-23      1       NaN   \n",
       "9661        1  2533531.0        42.5 2016-09-08      1       2.6   \n",
       "18425       1  2533531.0        42.5 2016-09-08      1       2.6   \n",
       "10099      10  4400000.0        44.0 2017-11-22      1       NaN   \n",
       "21142      10  4400000.0        44.0 2017-11-22      2       NaN   \n",
       "14739      10  5142565.0        54.6 2018-10-01      2       NaN   \n",
       "18624      10  5142565.0        54.6 2018-10-01      2       NaN   \n",
       "\n",
       "       floors_total  living_area  floor apartment  ...  kitchen_area  balcony  \\\n",
       "19052           9.0         19.5      1       NaN  ...           NaN      NaN   \n",
       "19325           9.0          NaN      2       NaN  ...           NaN      NaN   \n",
       "9661           18.0         19.8      7     False  ...           NaN      NaN   \n",
       "18425          18.0         20.0     10     False  ...           NaN      NaN   \n",
       "10099          17.0         17.0     14       NaN  ...          13.0      2.0   \n",
       "21142           9.0         27.0      8       NaN  ...           6.0      1.0   \n",
       "14739           5.0         26.0      3       NaN  ...           NaN      NaN   \n",
       "18624           5.0         26.0      5       NaN  ...           NaN      NaN   \n",
       "\n",
       "         locality_name  to_airports to_center  parks_around_3km  to_park  \\\n",
       "19052  Санкт-Петербург      27103.0    7640.0               1.0    624.0   \n",
       "19325  Санкт-Петербург      27103.0    7640.0               1.0    624.0   \n",
       "9661        Никольское          NaN       NaN               NaN      NaN   \n",
       "18425       Никольское          NaN       NaN               NaN      NaN   \n",
       "10099  Санкт-Петербург      42901.0    9267.0               0.0      NaN   \n",
       "21142  Санкт-Петербург      49917.0   16755.0               1.0    235.0   \n",
       "14739  Санкт-Петербург      47303.0   25866.0               1.0    251.0   \n",
       "18624  Санкт-Петербург      47303.0   25866.0               1.0    251.0   \n",
       "\n",
       "       ponds_around_3km  to_pond  total_days_expo  \n",
       "19052               0.0      NaN            620.0  \n",
       "19325               0.0      NaN            620.0  \n",
       "9661                NaN      NaN            627.0  \n",
       "18425               NaN      NaN            627.0  \n",
       "10099               0.0      NaN             71.0  \n",
       "21142               0.0      NaN             72.0  \n",
       "14739               1.0    350.0            145.0  \n",
       "18624               1.0    350.0            145.0  \n",
       "\n",
       "[8 rows x 22 columns]"
      ]
     },
     "metadata": {},
     "output_type": "display_data"
    }
   ],
   "source": [
    "dupl_two = df_realty[df_realty[['images', 'price','date_expo','total_area']].duplicated(keep=False)]\n",
    "dupl_two.sort_values(by='images')\n",
    "display(dupl_two.sort_values(by='date_expo'))\n"
   ]
  },
  {
   "cell_type": "markdown",
   "metadata": {},
   "source": [
    "Вот и они. Различия по значения в паре столбцов, скорее всего исправление ошибки при повторном заполнении формы. Кроме строк с индексом 10099 и 21142, в которых много различий по другим столбцам, остальные дубликаты можно смело удалить. Удаляем."
   ]
  },
  {
   "cell_type": "code",
   "execution_count": 13,
   "metadata": {},
   "outputs": [
    {
     "data": {
      "text/html": [
       "<div>\n",
       "<style scoped>\n",
       "    .dataframe tbody tr th:only-of-type {\n",
       "        vertical-align: middle;\n",
       "    }\n",
       "\n",
       "    .dataframe tbody tr th {\n",
       "        vertical-align: top;\n",
       "    }\n",
       "\n",
       "    .dataframe thead th {\n",
       "        text-align: right;\n",
       "    }\n",
       "</style>\n",
       "<table border=\"1\" class=\"dataframe\">\n",
       "  <thead>\n",
       "    <tr style=\"text-align: right;\">\n",
       "      <th></th>\n",
       "      <th>images</th>\n",
       "      <th>price</th>\n",
       "      <th>total_area</th>\n",
       "      <th>date_expo</th>\n",
       "      <th>rooms</th>\n",
       "      <th>ceilings</th>\n",
       "      <th>floors_total</th>\n",
       "      <th>living_area</th>\n",
       "      <th>floor</th>\n",
       "      <th>apartment</th>\n",
       "      <th>...</th>\n",
       "      <th>kitchen_area</th>\n",
       "      <th>balcony</th>\n",
       "      <th>locality_name</th>\n",
       "      <th>to_airports</th>\n",
       "      <th>to_center</th>\n",
       "      <th>parks_around_3km</th>\n",
       "      <th>to_park</th>\n",
       "      <th>ponds_around_3km</th>\n",
       "      <th>to_pond</th>\n",
       "      <th>total_days_expo</th>\n",
       "    </tr>\n",
       "  </thead>\n",
       "  <tbody>\n",
       "    <tr>\n",
       "      <th>0</th>\n",
       "      <td>20</td>\n",
       "      <td>13000000.0</td>\n",
       "      <td>108.0</td>\n",
       "      <td>2019-03-07</td>\n",
       "      <td>3</td>\n",
       "      <td>2.7</td>\n",
       "      <td>16.0</td>\n",
       "      <td>51.0</td>\n",
       "      <td>8</td>\n",
       "      <td>NaN</td>\n",
       "      <td>...</td>\n",
       "      <td>25.0</td>\n",
       "      <td>NaN</td>\n",
       "      <td>Санкт-Петербург</td>\n",
       "      <td>18863.0</td>\n",
       "      <td>16028.0</td>\n",
       "      <td>1.0</td>\n",
       "      <td>482.0</td>\n",
       "      <td>2.0</td>\n",
       "      <td>755.0</td>\n",
       "      <td>NaN</td>\n",
       "    </tr>\n",
       "    <tr>\n",
       "      <th>1</th>\n",
       "      <td>7</td>\n",
       "      <td>3350000.0</td>\n",
       "      <td>40.4</td>\n",
       "      <td>2018-12-04</td>\n",
       "      <td>1</td>\n",
       "      <td>NaN</td>\n",
       "      <td>11.0</td>\n",
       "      <td>18.6</td>\n",
       "      <td>1</td>\n",
       "      <td>NaN</td>\n",
       "      <td>...</td>\n",
       "      <td>11.0</td>\n",
       "      <td>2.0</td>\n",
       "      <td>поселок Шушары</td>\n",
       "      <td>12817.0</td>\n",
       "      <td>18603.0</td>\n",
       "      <td>0.0</td>\n",
       "      <td>NaN</td>\n",
       "      <td>0.0</td>\n",
       "      <td>NaN</td>\n",
       "      <td>81.0</td>\n",
       "    </tr>\n",
       "    <tr>\n",
       "      <th>2</th>\n",
       "      <td>10</td>\n",
       "      <td>5196000.0</td>\n",
       "      <td>56.0</td>\n",
       "      <td>2015-08-20</td>\n",
       "      <td>2</td>\n",
       "      <td>NaN</td>\n",
       "      <td>5.0</td>\n",
       "      <td>34.3</td>\n",
       "      <td>4</td>\n",
       "      <td>NaN</td>\n",
       "      <td>...</td>\n",
       "      <td>8.3</td>\n",
       "      <td>0.0</td>\n",
       "      <td>Санкт-Петербург</td>\n",
       "      <td>21741.0</td>\n",
       "      <td>13933.0</td>\n",
       "      <td>1.0</td>\n",
       "      <td>90.0</td>\n",
       "      <td>2.0</td>\n",
       "      <td>574.0</td>\n",
       "      <td>558.0</td>\n",
       "    </tr>\n",
       "    <tr>\n",
       "      <th>3</th>\n",
       "      <td>0</td>\n",
       "      <td>64900000.0</td>\n",
       "      <td>159.0</td>\n",
       "      <td>2015-07-24</td>\n",
       "      <td>3</td>\n",
       "      <td>NaN</td>\n",
       "      <td>14.0</td>\n",
       "      <td>NaN</td>\n",
       "      <td>9</td>\n",
       "      <td>NaN</td>\n",
       "      <td>...</td>\n",
       "      <td>NaN</td>\n",
       "      <td>0.0</td>\n",
       "      <td>Санкт-Петербург</td>\n",
       "      <td>28098.0</td>\n",
       "      <td>6800.0</td>\n",
       "      <td>2.0</td>\n",
       "      <td>84.0</td>\n",
       "      <td>3.0</td>\n",
       "      <td>234.0</td>\n",
       "      <td>424.0</td>\n",
       "    </tr>\n",
       "    <tr>\n",
       "      <th>4</th>\n",
       "      <td>2</td>\n",
       "      <td>10000000.0</td>\n",
       "      <td>100.0</td>\n",
       "      <td>2018-06-19</td>\n",
       "      <td>2</td>\n",
       "      <td>3.0</td>\n",
       "      <td>14.0</td>\n",
       "      <td>32.0</td>\n",
       "      <td>13</td>\n",
       "      <td>NaN</td>\n",
       "      <td>...</td>\n",
       "      <td>41.0</td>\n",
       "      <td>NaN</td>\n",
       "      <td>Санкт-Петербург</td>\n",
       "      <td>31856.0</td>\n",
       "      <td>8098.0</td>\n",
       "      <td>2.0</td>\n",
       "      <td>112.0</td>\n",
       "      <td>1.0</td>\n",
       "      <td>48.0</td>\n",
       "      <td>121.0</td>\n",
       "    </tr>\n",
       "    <tr>\n",
       "      <th>...</th>\n",
       "      <td>...</td>\n",
       "      <td>...</td>\n",
       "      <td>...</td>\n",
       "      <td>...</td>\n",
       "      <td>...</td>\n",
       "      <td>...</td>\n",
       "      <td>...</td>\n",
       "      <td>...</td>\n",
       "      <td>...</td>\n",
       "      <td>...</td>\n",
       "      <td>...</td>\n",
       "      <td>...</td>\n",
       "      <td>...</td>\n",
       "      <td>...</td>\n",
       "      <td>...</td>\n",
       "      <td>...</td>\n",
       "      <td>...</td>\n",
       "      <td>...</td>\n",
       "      <td>...</td>\n",
       "      <td>...</td>\n",
       "      <td>...</td>\n",
       "    </tr>\n",
       "    <tr>\n",
       "      <th>23691</th>\n",
       "      <td>9</td>\n",
       "      <td>9700000.0</td>\n",
       "      <td>133.8</td>\n",
       "      <td>2017-03-21</td>\n",
       "      <td>3</td>\n",
       "      <td>3.7</td>\n",
       "      <td>5.0</td>\n",
       "      <td>73.3</td>\n",
       "      <td>3</td>\n",
       "      <td>NaN</td>\n",
       "      <td>...</td>\n",
       "      <td>13.8</td>\n",
       "      <td>NaN</td>\n",
       "      <td>Санкт-Петербург</td>\n",
       "      <td>24665.0</td>\n",
       "      <td>4232.0</td>\n",
       "      <td>1.0</td>\n",
       "      <td>796.0</td>\n",
       "      <td>3.0</td>\n",
       "      <td>381.0</td>\n",
       "      <td>NaN</td>\n",
       "    </tr>\n",
       "    <tr>\n",
       "      <th>23692</th>\n",
       "      <td>14</td>\n",
       "      <td>3100000.0</td>\n",
       "      <td>59.0</td>\n",
       "      <td>2018-01-15</td>\n",
       "      <td>3</td>\n",
       "      <td>NaN</td>\n",
       "      <td>5.0</td>\n",
       "      <td>38.0</td>\n",
       "      <td>4</td>\n",
       "      <td>NaN</td>\n",
       "      <td>...</td>\n",
       "      <td>8.5</td>\n",
       "      <td>NaN</td>\n",
       "      <td>Тосно</td>\n",
       "      <td>NaN</td>\n",
       "      <td>NaN</td>\n",
       "      <td>NaN</td>\n",
       "      <td>NaN</td>\n",
       "      <td>NaN</td>\n",
       "      <td>NaN</td>\n",
       "      <td>45.0</td>\n",
       "    </tr>\n",
       "    <tr>\n",
       "      <th>23693</th>\n",
       "      <td>18</td>\n",
       "      <td>2500000.0</td>\n",
       "      <td>56.7</td>\n",
       "      <td>2018-02-11</td>\n",
       "      <td>2</td>\n",
       "      <td>NaN</td>\n",
       "      <td>3.0</td>\n",
       "      <td>29.7</td>\n",
       "      <td>1</td>\n",
       "      <td>NaN</td>\n",
       "      <td>...</td>\n",
       "      <td>NaN</td>\n",
       "      <td>NaN</td>\n",
       "      <td>село Рождествено</td>\n",
       "      <td>NaN</td>\n",
       "      <td>NaN</td>\n",
       "      <td>NaN</td>\n",
       "      <td>NaN</td>\n",
       "      <td>NaN</td>\n",
       "      <td>NaN</td>\n",
       "      <td>NaN</td>\n",
       "    </tr>\n",
       "    <tr>\n",
       "      <th>23694</th>\n",
       "      <td>13</td>\n",
       "      <td>11475000.0</td>\n",
       "      <td>76.8</td>\n",
       "      <td>2017-03-28</td>\n",
       "      <td>2</td>\n",
       "      <td>3.0</td>\n",
       "      <td>17.0</td>\n",
       "      <td>NaN</td>\n",
       "      <td>12</td>\n",
       "      <td>NaN</td>\n",
       "      <td>...</td>\n",
       "      <td>23.3</td>\n",
       "      <td>2.0</td>\n",
       "      <td>Санкт-Петербург</td>\n",
       "      <td>39140.0</td>\n",
       "      <td>10364.0</td>\n",
       "      <td>2.0</td>\n",
       "      <td>173.0</td>\n",
       "      <td>3.0</td>\n",
       "      <td>196.0</td>\n",
       "      <td>602.0</td>\n",
       "    </tr>\n",
       "    <tr>\n",
       "      <th>23695</th>\n",
       "      <td>4</td>\n",
       "      <td>1350000.0</td>\n",
       "      <td>32.3</td>\n",
       "      <td>2017-07-21</td>\n",
       "      <td>1</td>\n",
       "      <td>2.5</td>\n",
       "      <td>5.0</td>\n",
       "      <td>12.3</td>\n",
       "      <td>1</td>\n",
       "      <td>NaN</td>\n",
       "      <td>...</td>\n",
       "      <td>9.0</td>\n",
       "      <td>NaN</td>\n",
       "      <td>поселок Новый Учхоз</td>\n",
       "      <td>NaN</td>\n",
       "      <td>NaN</td>\n",
       "      <td>NaN</td>\n",
       "      <td>NaN</td>\n",
       "      <td>NaN</td>\n",
       "      <td>NaN</td>\n",
       "      <td>NaN</td>\n",
       "    </tr>\n",
       "  </tbody>\n",
       "</table>\n",
       "<p>23696 rows × 22 columns</p>\n",
       "</div>"
      ],
      "text/plain": [
       "       images       price  total_area  date_expo  rooms  ceilings  \\\n",
       "0          20  13000000.0       108.0 2019-03-07      3       2.7   \n",
       "1           7   3350000.0        40.4 2018-12-04      1       NaN   \n",
       "2          10   5196000.0        56.0 2015-08-20      2       NaN   \n",
       "3           0  64900000.0       159.0 2015-07-24      3       NaN   \n",
       "4           2  10000000.0       100.0 2018-06-19      2       3.0   \n",
       "...       ...         ...         ...        ...    ...       ...   \n",
       "23691       9   9700000.0       133.8 2017-03-21      3       3.7   \n",
       "23692      14   3100000.0        59.0 2018-01-15      3       NaN   \n",
       "23693      18   2500000.0        56.7 2018-02-11      2       NaN   \n",
       "23694      13  11475000.0        76.8 2017-03-28      2       3.0   \n",
       "23695       4   1350000.0        32.3 2017-07-21      1       2.5   \n",
       "\n",
       "       floors_total  living_area  floor apartment  ...  kitchen_area  balcony  \\\n",
       "0              16.0         51.0      8       NaN  ...          25.0      NaN   \n",
       "1              11.0         18.6      1       NaN  ...          11.0      2.0   \n",
       "2               5.0         34.3      4       NaN  ...           8.3      0.0   \n",
       "3              14.0          NaN      9       NaN  ...           NaN      0.0   \n",
       "4              14.0         32.0     13       NaN  ...          41.0      NaN   \n",
       "...             ...          ...    ...       ...  ...           ...      ...   \n",
       "23691           5.0         73.3      3       NaN  ...          13.8      NaN   \n",
       "23692           5.0         38.0      4       NaN  ...           8.5      NaN   \n",
       "23693           3.0         29.7      1       NaN  ...           NaN      NaN   \n",
       "23694          17.0          NaN     12       NaN  ...          23.3      2.0   \n",
       "23695           5.0         12.3      1       NaN  ...           9.0      NaN   \n",
       "\n",
       "             locality_name  to_airports to_center  parks_around_3km  to_park  \\\n",
       "0          Санкт-Петербург      18863.0   16028.0               1.0    482.0   \n",
       "1           поселок Шушары      12817.0   18603.0               0.0      NaN   \n",
       "2          Санкт-Петербург      21741.0   13933.0               1.0     90.0   \n",
       "3          Санкт-Петербург      28098.0    6800.0               2.0     84.0   \n",
       "4          Санкт-Петербург      31856.0    8098.0               2.0    112.0   \n",
       "...                    ...          ...       ...               ...      ...   \n",
       "23691      Санкт-Петербург      24665.0    4232.0               1.0    796.0   \n",
       "23692                Тосно          NaN       NaN               NaN      NaN   \n",
       "23693     село Рождествено          NaN       NaN               NaN      NaN   \n",
       "23694      Санкт-Петербург      39140.0   10364.0               2.0    173.0   \n",
       "23695  поселок Новый Учхоз          NaN       NaN               NaN      NaN   \n",
       "\n",
       "       ponds_around_3km  to_pond  total_days_expo  \n",
       "0                   2.0    755.0              NaN  \n",
       "1                   0.0      NaN             81.0  \n",
       "2                   2.0    574.0            558.0  \n",
       "3                   3.0    234.0            424.0  \n",
       "4                   1.0     48.0            121.0  \n",
       "...                 ...      ...              ...  \n",
       "23691               3.0    381.0              NaN  \n",
       "23692               NaN      NaN             45.0  \n",
       "23693               NaN      NaN              NaN  \n",
       "23694               3.0    196.0            602.0  \n",
       "23695               NaN      NaN              NaN  \n",
       "\n",
       "[23696 rows x 22 columns]"
      ]
     },
     "execution_count": 13,
     "metadata": {},
     "output_type": "execute_result"
    }
   ],
   "source": [
    "df_realty.drop([19325,18425,18624], axis=0, inplace=True)\n",
    "df_realty.reset_index(drop=True)"
   ]
  },
  {
   "cell_type": "markdown",
   "metadata": {},
   "source": [
    "**ВЫВОДЫ**<br>\n",
    "Были обнаружены и удалены неявные дубликаты (ё и е, ПГТ и городской поселок и т.п.). А также выявлены строки дубликаты, с совпадением по совокупности дублирующих записей в выбранных столбцах. Удалили 6 таких строк."
   ]
  },
  {
   "cell_type": "markdown",
   "metadata": {},
   "source": [
    "### Пропуски"
   ]
  },
  {
   "cell_type": "markdown",
   "metadata": {},
   "source": [
    "#### Обзор пропусков"
   ]
  },
  {
   "cell_type": "markdown",
   "metadata": {},
   "source": [
    "Посчитаем количество и долю пропусков"
   ]
  },
  {
   "cell_type": "code",
   "execution_count": 14,
   "metadata": {},
   "outputs": [
    {
     "name": "stdout",
     "output_type": "stream",
     "text": [
      "Количество строк с пропуском хотя бы в одном столбце: 23449\n",
      "Процент строк с пропуском хотя бы в одном столбце: 98.95 %\n"
     ]
    }
   ],
   "source": [
    "df_null = sum(df_realty_alfa.apply(lambda x: sum(x.isnull().values), axis = 1)>0)\n",
    "print('Количество строк с пропуском хотя бы в одном столбце:', df_null)\n",
    "print('Процент строк с пропуском хотя бы в одном столбце:', round(df_null / len(df_realty_alfa) * 100, 2), '%')"
   ]
  },
  {
   "cell_type": "code",
   "execution_count": 15,
   "metadata": {
    "scrolled": false
   },
   "outputs": [
    {
     "data": {
      "text/plain": [
       "images                  0\n",
       "price                   0\n",
       "total_area              0\n",
       "date_expo               0\n",
       "rooms                   0\n",
       "ceilings             9193\n",
       "floors_total           86\n",
       "living_area          1902\n",
       "floor                   0\n",
       "apartment           20922\n",
       "studio                  0\n",
       "open_plan               0\n",
       "kitchen_area         2275\n",
       "balcony             11516\n",
       "locality_name          49\n",
       "to_airports          5541\n",
       "to_center            5518\n",
       "parks_around_3km     5517\n",
       "to_park             15619\n",
       "ponds_around_3km     5517\n",
       "to_pond             14587\n",
       "total_days_expo      3181\n",
       "dtype: int64"
      ]
     },
     "execution_count": 15,
     "metadata": {},
     "output_type": "execute_result"
    }
   ],
   "source": [
    "df_realty.isna().sum() # количество пропусков по столбцам"
   ]
  },
  {
   "cell_type": "markdown",
   "metadata": {},
   "source": [
    "Только в 9 из 22 столбцов нет пропусков. <br>\n",
    "<hr>\n",
    "Выведем процент пропущенных значений по каждому столбцу"
   ]
  },
  {
   "cell_type": "code",
   "execution_count": 16,
   "metadata": {},
   "outputs": [
    {
     "name": "stdout",
     "output_type": "stream",
     "text": [
      "images 0.00%\n",
      "price 0.00%\n",
      "total_area 0.00%\n",
      "date_expo 0.00%\n",
      "rooms 0.00%\n",
      "ceilings 38.80%\n",
      "floors_total 0.36%\n",
      "living_area 8.03%\n",
      "floor 0.00%\n",
      "apartment 88.29%\n",
      "studio 0.00%\n",
      "open_plan 0.00%\n",
      "kitchen_area 9.60%\n",
      "balcony 48.60%\n",
      "locality_name 0.21%\n",
      "to_airports 23.38%\n",
      "to_center 23.29%\n",
      "parks_around_3km 23.28%\n",
      "to_park 65.91%\n",
      "ponds_around_3km 23.28%\n",
      "to_pond 61.56%\n",
      "total_days_expo 13.42%\n"
     ]
    }
   ],
   "source": [
    "for name in df_realty:\n",
    "    missed_values = df_realty[name].isna().sum() / len(df_realty)\n",
    "    print(name, f'{missed_values:.2%}')\n"
   ]
  },
  {
   "cell_type": "markdown",
   "metadata": {},
   "source": [
    "Менее 5% пропусков в `floors_total`, `locality_name`, от 5% до 10% - `living_area`, `kitchen_area`, от 10% до 30% - `total_days_expo`, `ponds_around_3km`, `parks_around_3km`, `to_center`, `to_airports`, более 30% - `ceilings` и даже более 50% в `to_park`, `to_pond`.\n",
    "<hr>"
   ]
  },
  {
   "cell_type": "markdown",
   "metadata": {},
   "source": [
    "Напишем функцию для вывода информации об уникальных значениях столбца, их количестве, а также о количестве пропусков и общем количестве непропущенных значений."
   ]
  },
  {
   "cell_type": "code",
   "execution_count": 17,
   "metadata": {},
   "outputs": [],
   "source": [
    "def missing_info(column, bs):\n",
    "    df_null = df_realty[column].isnull().sum()\n",
    "    df_null_pers = df_realty[column].isnull().mean()\n",
    "    df_value = df_realty[column].value_counts()\n",
    "    df_notnull_sum =  df_realty[column].value_counts().sum()\n",
    "    print('nan   ', df_null, 'nan %', df_null_pers.round(4)*100, '\\n', df_value, '\\n' 'Всего непустых значений:', df_notnull_sum)\n",
    "    df_realty[column].hist(figsize=(18,4), bins=bs, color='c');"
   ]
  },
  {
   "cell_type": "markdown",
   "metadata": {},
   "source": [
    "#### Пропуски в столбце 'locality_name' и 'floors_total'\n",
    "**Причины** <br>\n",
    "Пропуски в 'название населенного пункта' могут быть или по причине ошибки при выгрузке, сбое, или при заполнении формы, продавец, посчитал, что форма носит локальный характер (объявления о продаже в Петербурге) и не обратил внимание на это поле. В 'floors_total' аналогично или просто не заполнены.\n",
    "\n",
    "**Наши действия** <br>\n",
    "К сожалению у нас практически нет возможности адекватно восстановить данные, пропущенные в столбце 'locality_name'. Можно было бы конечно для 'locality_name' взять расстояние до центра и аэропорта и найти координаты пересечения окружностей с центрами в 'центре Санкт-Петербурга' и в 'центре аэропорта'. Но это достаточно трудозатратно, а учитывая малую долю пропусков, чуть более 0,2%, еще и неликвидно. Аналогично и для 'floors_total'\n",
    "\n",
    "Однако, стоит заметить, что для тех строк, в которых есть пропуски по столбцу 'locality_name', но указано расстояние до центра, и оно не превосходит 17 км, адекватной заменой пропусков в 'locality_name' может стать 'Санкт-Петербург'."
   ]
  },
  {
   "cell_type": "code",
   "execution_count": 18,
   "metadata": {},
   "outputs": [
    {
     "data": {
      "text/plain": [
       "29"
      ]
     },
     "execution_count": 18,
     "metadata": {},
     "output_type": "execute_result"
    }
   ],
   "source": [
    "df_realty.loc[(df_realty['locality_name'].isnull() == True) & (df_realty['to_center'] <= 17000)]['images'].count()"
   ]
  },
  {
   "cell_type": "markdown",
   "metadata": {},
   "source": [
    "Таких всего 29. Малое количество, но и заменить в них пропуски на адекватное значение, не составит труда.  "
   ]
  },
  {
   "cell_type": "code",
   "execution_count": 19,
   "metadata": {},
   "outputs": [
    {
     "data": {
      "text/plain": [
       "0"
      ]
     },
     "execution_count": 19,
     "metadata": {},
     "output_type": "execute_result"
    }
   ],
   "source": [
    "df_realty.loc[((df_realty['locality_name'].isnull() == True) & (df_realty['to_center'] <= 17000)), 'locality_name'] = 'Санкт-Петербург'\n",
    "df_realty.loc[(df_realty['locality_name'].isnull() == True) & (df_realty['to_center'] <= 17000)]['images'].count()"
   ]
  },
  {
   "cell_type": "markdown",
   "metadata": {},
   "source": [
    "Выведем общую информацию по знаениям и пропускам в 'floors_total'."
   ]
  },
  {
   "cell_type": "code",
   "execution_count": 20,
   "metadata": {
    "scrolled": false
   },
   "outputs": [
    {
     "name": "stdout",
     "output_type": "stream",
     "text": [
      "nan    86 nan % 0.36 \n",
      " 5.0     5787\n",
      "9.0     3760\n",
      "16.0    1376\n",
      "12.0    1362\n",
      "4.0     1200\n",
      "10.0    1174\n",
      "25.0    1075\n",
      "6.0      914\n",
      "17.0     833\n",
      "3.0      668\n",
      "7.0      592\n",
      "14.0     553\n",
      "18.0     504\n",
      "24.0     469\n",
      "8.0      390\n",
      "2.0      383\n",
      "15.0     365\n",
      "23.0     352\n",
      "19.0     339\n",
      "22.0     286\n",
      "20.0     271\n",
      "13.0     229\n",
      "11.0     203\n",
      "27.0     164\n",
      "21.0     158\n",
      "26.0     124\n",
      "1.0       25\n",
      "35.0      24\n",
      "28.0      21\n",
      "36.0       3\n",
      "34.0       1\n",
      "60.0       1\n",
      "29.0       1\n",
      "33.0       1\n",
      "52.0       1\n",
      "37.0       1\n",
      "Name: floors_total, dtype: int64 \n",
      "Всего непустых значений: 23610\n"
     ]
    },
    {
     "data": {
      "image/png": "[encoded data removed]",
      "text/plain": [
       "<Figure size 1296x288 with 1 Axes>"
      ]
     },
     "metadata": {
      "needs_background": "light"
     },
     "output_type": "display_data"
    }
   ],
   "source": [
    "missing_info('floors_total', 70)"
   ]
  },
  {
   "cell_type": "markdown",
   "metadata": {},
   "source": [
    "Всего около 0.4% от общего числа. Смело можем удалить"
   ]
  },
  {
   "cell_type": "code",
   "execution_count": null,
   "metadata": {},
   "outputs": [],
   "source": [
    "df_realty.dropna(subset = ['locality_name'], inplace=True)\n",
    "df_realty.dropna(subset = ['floors_total'], inplace=True)\n",
    "df_realty.reset_index(drop=True)\n",
    "print(df_realty['locality_name'].isna().sum()) # убедимся в остуствии пропусков\n",
    "print(df_realty['floors_total'].isna().sum())"
   ]
  },
  {
   "cell_type": "code",
   "execution_count": null,
   "metadata": {},
   "outputs": [],
   "source": [
    "len(df_realty) # посчитаем количество строк в обновленном датафрейме"
   ]
  },
  {
   "cell_type": "markdown",
   "metadata": {},
   "source": [
    "Потеряли менее 0.5% от всего числа строк."
   ]
  },
  {
   "cell_type": "markdown",
   "metadata": {},
   "source": [
    "#### Пропуски в столбцах 'to_center' и 'to_airports'\n",
    "**Причины**<br>\n",
    "Аналогично ранее рассмотренным, видимо эти поля являются необязательными. И откуда продавцу, по-хорошему, знать расстояние до центра и аэропорта. Поле 'полный адрес' было бы куда уместнее и информативнее, на мой взгляд.\n",
    "\n",
    "**Наши действия 1** <br>\n",
    "Параметры играющие не последнюю роль в ценообразовании. Если нам известно название населенного пункта, то мы можем заменить пропуски на средние по этому населенному пункту. \n",
    "\n"
   ]
  },
  {
   "cell_type": "markdown",
   "metadata": {},
   "source": [
    "Воспользуемся нашей функцией пропусков и уникальных значений"
   ]
  },
  {
   "cell_type": "code",
   "execution_count": null,
   "metadata": {},
   "outputs": [],
   "source": [
    "missing_info('to_airports', 250)"
   ]
  },
  {
   "cell_type": "code",
   "execution_count": null,
   "metadata": {},
   "outputs": [],
   "source": [
    "missing_info('to_center', 200)"
   ]
  },
  {
   "cell_type": "markdown",
   "metadata": {},
   "source": [
    "В 'to_airports' 5524 пропуска, в 'to_center' 5501 пропуск и 18070 и 18093 непустых значений соответственно.<br>\n",
    "Заменим пропуски в данных столбцах на среднее значения по группам 'locality_name' там где это возможно."
   ]
  },
  {
   "cell_type": "code",
   "execution_count": null,
   "metadata": {},
   "outputs": [],
   "source": [
    "with warnings.catch_warnings():\n",
    "    warnings.simplefilter(\"ignore\", category=RuntimeWarning)\n",
    "    df_realty['to_center'] = df_realty.groupby('locality_name')['to_center'].transform(lambda x: x.fillna(np.nanmedian(x)))\n",
    "    df_realty['to_airports'] = df_realty.groupby('locality_name')['to_airports'].transform(lambda x: x.fillna(np.nanmedian(x)))\n",
    "    print(df_realty['to_center'].isna().sum())\n",
    "    print(df_realty['to_airports'].isna().sum())"
   ]
  },
  {
   "cell_type": "markdown",
   "metadata": {},
   "source": [
    "Заменили 92 в одном и 69 в другом. Результат, коненчо, невыдающийся. Выходит, что у нас 5432 населенных пункта, в которых нет информации о расстоянии до центра Петербурга и до Пулково.<br>\n",
    "Посмотрим одновременно ли в 5432 строках пропущены значения по этим двум столбцам."
   ]
  },
  {
   "cell_type": "code",
   "execution_count": null,
   "metadata": {},
   "outputs": [],
   "source": [
    "print('Попарно NaN в to_airports и в to_center в {} строках'.\n",
    "      format(df_realty.query('to_airports != to_airports and to_center != to_center').shape[0]))\n"
   ]
  },
  {
   "cell_type": "markdown",
   "metadata": {},
   "source": [
    "Именно так и выходит. Вот они, те самые населенные пункты без расстояний"
   ]
  },
  {
   "cell_type": "code",
   "execution_count": null,
   "metadata": {
    "scrolled": false
   },
   "outputs": [],
   "source": [
    "list_of_cities_NaN_airport_center = df_realty.query('to_airports != to_airports and to_center != to_center')['locality_name'].unique()\n",
    "print(len(list_of_cities_NaN_airport_center), 'населенных пунктов с отсутсвующей информацие о расстоянии до центра Питера и Пулково')\n"
   ]
  },
  {
   "cell_type": "markdown",
   "metadata": {},
   "source": [
    "**Наши действия 2** <br>\n",
    "\n",
    "На GitHub Gist (https://gist.github.com/dnovik/694d106be3ff20eb0c73a0511c83b7f3#file-cities-csv) берем датасет 'cities_csv' с информацией о городах России, в котором, помимо прочего, для каждого населенного пукта указаны широта и долгота. <br>\n",
    "\n",
    "**План такой:**\n",
    "1. Загрузить датасет, ознакомиться\n",
    "2. Выбрать только населенные пункты Ленобласти\n",
    "3. Преобразовать широту и долготу в координаты\n",
    "4. Рассчитать при помощи `geopy` по координатам населенного пункта и координатам Петербурга и Пулково нужные расстояния\n",
    "5. Заменить пропуски в нашем датафрейме найденными расстояниями для соответствующих населенных пунктов\n",
    "6. Проверить оставшееся количество пропусков"
   ]
  },
  {
   "cell_type": "markdown",
   "metadata": {},
   "source": [
    "**1.** Загружаем, кратко знакомимся"
   ]
  },
  {
   "cell_type": "code",
   "execution_count": null,
   "metadata": {
    "scrolled": false
   },
   "outputs": [],
   "source": [
    "cities = pd.read_csv('https://docs.google.com/spreadsheets/d/e/2PACX-1vT-eeE_o_GkNjQvPEveNVqyWJByGuT4zyxDTX102ZaAhTRhHKA-PamMR9S_0J0RY5GRq_SiXcueTcMX/pub?gid=1453501439&single=true&output=csv')\n",
    "cities.head()"
   ]
  },
  {
   "cell_type": "markdown",
   "metadata": {},
   "source": [
    "**2.** Выбираем только населенные пукты Ленобласти и только столбцы 'Регион', 'Город', 'Широта', 'Долгота'. Формируем новый датафрейм 'cities_lo'"
   ]
  },
  {
   "cell_type": "code",
   "execution_count": null,
   "metadata": {
    "scrolled": true
   },
   "outputs": [],
   "source": [
    "cities_lo = cities[['Регион','Город','Широта', 'Долгота']].query('Регион == \"Ленинградская\"').reset_index(drop=True)\n",
    "cities_lo"
   ]
  },
  {
   "cell_type": "markdown",
   "metadata": {},
   "source": [
    "**3.** Преобразуем широту и долготу в координаты, создаем столбец 'Координаты', содержащий кортежи (x, y)"
   ]
  },
  {
   "cell_type": "code",
   "execution_count": null,
   "metadata": {},
   "outputs": [],
   "source": [
    "cities_lo['Координаты'] = list(zip(cities_lo.Широта, cities_lo.Долгота))\n",
    "cities_lo"
   ]
  },
  {
   "cell_type": "markdown",
   "metadata": {},
   "source": [
    "Прописываем координаты центра Петербурга и Пулково"
   ]
  },
  {
   "cell_type": "code",
   "execution_count": null,
   "metadata": {},
   "outputs": [],
   "source": [
    "center_xy = (59.946216, 30.311475)\n",
    "airport_xy = (59.7998772, 30.2733421)"
   ]
  },
  {
   "cell_type": "markdown",
   "metadata": {},
   "source": [
    "**4.** Устанавливаем `geopy` и рассчитываем расстояния, записывая их в соответствующие столбцы 'to_center' и 'to_airport'"
   ]
  },
  {
   "cell_type": "code",
   "execution_count": null,
   "metadata": {},
   "outputs": [],
   "source": [
    "!pip install geopy"
   ]
  },
  {
   "cell_type": "code",
   "execution_count": null,
   "metadata": {},
   "outputs": [],
   "source": [
    "from geopy import distance\n",
    "cities_lo['to_center'] = cities_lo['Координаты'].apply(\n",
    "                                                        lambda x: distance.distance(x, center_xy).m)\n",
    "cities_lo['to_airports'] = cities_lo['Координаты'].apply(\n",
    "                                                        lambda x: distance.distance(x, airport_xy).m)\n",
    "cities_lo.head()"
   ]
  },
  {
   "cell_type": "markdown",
   "metadata": {},
   "source": [
    "Готово. Наш датафрейм cities_lo теперь содержит искомые расстояния для найденных городов.\n",
    "\n",
    "Создаем словари (населенны пукт : расстояние) для замены пропусков в исходном датафрейме "
   ]
  },
  {
   "cell_type": "code",
   "execution_count": null,
   "metadata": {},
   "outputs": [],
   "source": [
    "to_center_dict = dict(pd.Series(cities_lo['to_center'].values,\n",
    "                                index=cities_lo['Город'].values))\n",
    "to_airports_dict = dict(pd.Series(cities_lo['to_airports'].values,\n",
    "                                index=cities_lo['Город'].values))"
   ]
  },
  {
   "cell_type": "markdown",
   "metadata": {},
   "source": [
    "**5.** Заменяем пропуски (используем функцию map()) в исходном датафрейме"
   ]
  },
  {
   "cell_type": "code",
   "execution_count": null,
   "metadata": {},
   "outputs": [],
   "source": [
    "df_realty.loc[df_realty['to_center'].isnull(), 'to_center'] = df_realty['locality_name'].map(to_center_dict)\n",
    "df_realty.loc[df_realty['to_airports'].isnull(), 'to_airports'] = df_realty['locality_name'].map(to_airports_dict)"
   ]
  },
  {
   "cell_type": "markdown",
   "metadata": {},
   "source": [
    "**6.** Проверяем результат"
   ]
  },
  {
   "cell_type": "code",
   "execution_count": null,
   "metadata": {},
   "outputs": [],
   "source": [
    "print('Попарно NaN в to_airports и в to_center в {} строках'.\n",
    "      format(df_realty.query('to_airports != to_airports and to_center != to_center').shape[0]))"
   ]
  },
  {
   "cell_type": "markdown",
   "metadata": {},
   "source": [
    "Удалось восстановить данные в 2519 строках, в которых были одновременно пропущены значения в столбцах 'to_center' и 'to_airport', что составило почти 11% от числа всех строк в обновленной таблице. Остальные строки оставим как есть"
   ]
  },
  {
   "cell_type": "markdown",
   "metadata": {},
   "source": [
    "#### Пропуски в столбце 'balcony'"
   ]
  },
  {
   "cell_type": "markdown",
   "metadata": {},
   "source": [
    "**Причины**<br>\n",
    "Не исключая вероятность необязательности заполнения данного поля, продавец мог его или просто пропустить, хотя наличие балкона, несомненно, плюс при продаже, или за отсуствием оного, приравнять незаполнение к 0. \n",
    "\n",
    "**Наши действия** <br>\n",
    "Выведем уникальные значения столбца 'balcony' их количество, количество пропущеный и сумму всех непропущенных значений, чтобы принять решение о способе замены пропусков"
   ]
  },
  {
   "cell_type": "code",
   "execution_count": null,
   "metadata": {},
   "outputs": [],
   "source": [
    "missing_info('balcony', 20)"
   ]
  },
  {
   "cell_type": "markdown",
   "metadata": {},
   "source": [
    "Видим, что почти треть объявлений с балконом(ми). Отсутствие балкона указали чуть менее 1/6 от числа всех продавцов. Будем считать, что балкон могли не указать из-за его отсуствия, или просто пропустили данное поле при заполнении, или посчитали, что речь именно о балконе, а не о лоджии или по другой причине. В любом случае, логичным представляется в тех строках где значение 'locality_name' 'деревня', 'село' или 'садовое товарищество' заменить пропуски на 0. В остальных строках на медиану по группе 'locality_name'. Руководствуясь предположением (уточнить данные возможности нет), и принимая во внимание, что в основных задачах исследования, изучение такого параметра как балкон, не является приоритетным, выполним соответствующие замены."
   ]
  },
  {
   "cell_type": "code",
   "execution_count": null,
   "metadata": {},
   "outputs": [],
   "source": [
    "df_realty['balcony'].isna().sum()"
   ]
  },
  {
   "cell_type": "code",
   "execution_count": null,
   "metadata": {},
   "outputs": [],
   "source": [
    "df_realty.loc[(df_realty['locality_name'].str\n",
    "               .contains('деревня | село | садовое', case = False, regex=True )== True), 'balcony'] = 0\n",
    "with warnings.catch_warnings():\n",
    "    warnings.simplefilter(\"ignore\", category=RuntimeWarning)\n",
    "    df_realty['balcony'] = df_realty.groupby('locality_name')['balcony'].transform(lambda x: x.fillna(np.nanmedian(x)))\n",
    "df_realty['balcony'] = df_realty['balcony'].round()\n",
    "df_realty['balcony'].isna().sum()"
   ]
  },
  {
   "cell_type": "markdown",
   "metadata": {},
   "source": [
    "Осталось 56 строк с пропусками. Наверное те, в которых по 'locality_name' не нашлось медианы, так они в единственном числе, или были все без значений в 'balcony' <br>\n",
    "Посмотрим на них"
   ]
  },
  {
   "cell_type": "code",
   "execution_count": null,
   "metadata": {},
   "outputs": [],
   "source": [
    "df_realty[df_realty['balcony'].isnull() ==True].sample(10)"
   ]
  },
  {
   "cell_type": "markdown",
   "metadata": {},
   "source": [
    "ПГТ, поселки, села и СНТ. Пропуски в них можно заменить на 0. Всего чуть больше 0,2% от числа всех значений. Выполним замену и еще раз псмотрим общую информацию по значениям и пропускам."
   ]
  },
  {
   "cell_type": "code",
   "execution_count": null,
   "metadata": {
    "scrolled": true
   },
   "outputs": [],
   "source": [
    "df_realty['balcony'] = df_realty['balcony'].fillna(0)\n",
    "missing_info('balcony', 20)\n"
   ]
  },
  {
   "cell_type": "markdown",
   "metadata": {},
   "source": [
    "Ситуация когда у большинства есть хотя бы один балкон кажется наиболее правдоподобной."
   ]
  },
  {
   "cell_type": "markdown",
   "metadata": {},
   "source": [
    "#### Пропуски в столбце 'ceilings'\n",
    "**Причины**\n",
    "Можем предположить, поле не считалось обязательным для заполнения и поэтому многие продавцы не предприняли никаких действий для того, чтоб узнать высоту своих потолков, и не стали его заполнять. \n",
    "\n",
    "**Наши действия** <br>\n",
    "Высота потолка является одним из параметров исследования. Значит необходимо заполнить пропуски. Как минимум там, где можно будет увязать их с другими параметрами. Есть предположение, что высота потолка может меняться при удаленности от центра, и также может зависеть от числа этажей. \n"
   ]
  },
  {
   "cell_type": "markdown",
   "metadata": {},
   "source": [
    "Выведем общую информацию по значениям и пропускам столбца 'ceilings'"
   ]
  },
  {
   "cell_type": "code",
   "execution_count": null,
   "metadata": {},
   "outputs": [],
   "source": [
    "missing_info('ceilings', 250)"
   ]
  },
  {
   "cell_type": "markdown",
   "metadata": {},
   "source": [
    "Более 38 % пропусков. Надо обрабатывать. \n",
    "\n",
    "Рассмотрим варианты:\n",
    "* По удаленности от центра\n",
    "* По общему числу этажей\n",
    "* По группам столбца 'locality_name'"
   ]
  },
  {
   "cell_type": "markdown",
   "metadata": {},
   "source": [
    "Есть ли связь между высотой потолков и удаленностью от центра?"
   ]
  },
  {
   "cell_type": "code",
   "execution_count": null,
   "metadata": {},
   "outputs": [],
   "source": [
    "\n",
    "df_realty.plot(x='ceilings', y='to_center', kind='scatter', grid=True) \n",
    "plt.ylim([0, 70000])\n",
    "plt.show()"
   ]
  },
  {
   "cell_type": "markdown",
   "metadata": {},
   "source": [
    "Нет. Предположение не подтвердилось. Но зато видим вновь потолки в около 1 и 100 метров. <br>\n",
    "Посмотрим на связь с количеством этажей"
   ]
  },
  {
   "cell_type": "code",
   "execution_count": null,
   "metadata": {},
   "outputs": [],
   "source": [
    "df_realty.plot(x='ceilings', y='floors_total', kind='scatter', grid=True) "
   ]
  },
  {
   "cell_type": "markdown",
   "metadata": {},
   "source": [
    "Аналогично. И тоже, как ранее отмечали, замечаем 60 этажный дом. В остальном связи между количеством этажей и высотой потолков не наблюдаем."
   ]
  },
  {
   "cell_type": "markdown",
   "metadata": {},
   "source": [
    "Тогда остается вариант по группам 'locality_name'. Заполним медианными (так как есть сильно выбивающиеся значения) по каждому населенному пункту"
   ]
  },
  {
   "cell_type": "code",
   "execution_count": null,
   "metadata": {},
   "outputs": [],
   "source": [
    "with warnings.catch_warnings():\n",
    "    warnings.simplefilter(\"ignore\", category=RuntimeWarning)\n",
    "    df_realty['ceilings'] = df_realty.groupby('locality_name')['ceilings'].apply(lambda x: x.fillna(np.nanmedian(x)))\n",
    "df_realty['ceilings'].isna().sum()"
   ]
  },
  {
   "cell_type": "markdown",
   "metadata": {},
   "source": [
    "Осталось 99 пропусков. Которые можно заменить на медианное значение 2.7 по всему датафрейму."
   ]
  },
  {
   "cell_type": "code",
   "execution_count": null,
   "metadata": {},
   "outputs": [],
   "source": [
    "df_realty['ceilings'] = df_realty['ceilings'].fillna(2.7)\n",
    "df_realty['ceilings'].isna().sum()"
   ]
  },
  {
   "cell_type": "markdown",
   "metadata": {},
   "source": [
    "Готово."
   ]
  },
  {
   "cell_type": "markdown",
   "metadata": {},
   "source": [
    "#### Пропуски в столбцах 'living_area' и 'kitchen_area'"
   ]
  },
  {
   "cell_type": "markdown",
   "metadata": {},
   "source": [
    "**Причины**<br>\n",
    "Не всегда есть возможность заполнить все поля формы при создании объявления, но жилая площадь - одно из основных полей, которое наряду с адресом и стоимостью проверяют в первую очередь. Скорее всего ошибка при сборе информации или повреждение при выгрузке.  Площадь кухни не такой распространенный параметр. Мог быть и необязательным.\n",
    "\n",
    "**Наши действия**<br>\n",
    "Отдельно рассмотрим эти столбцы, и пропкуски в них для квартир, которые записаны в датафрейме как студии и нет. Для студий заполним пропуски через долю жилой площади по таким квартирам. Пропуски в 'kitchen_area' для студий не трогаем. Для остальных квартир замену пропусков выполним через медианное по группам 'rooms'."
   ]
  },
  {
   "cell_type": "code",
   "execution_count": null,
   "metadata": {},
   "outputs": [],
   "source": [
    "missing_info('kitchen_area', 200)"
   ]
  },
  {
   "cell_type": "markdown",
   "metadata": {},
   "source": [
    "Почти 8% пропусков. Не так много ,но данные столбца 'living_area' непосредственно будут использованы в исследовании, поэтому выполним все возможные замены пропусков. Начнем с тех объектов недвижимости, что являются студиями. Их особенность в том, что при заполнении формы продавец скорее всего, никак не выделяя площадь кухни, не заполнил соответствующее поле. И так мы имеем пропуск в 'kitchen_area'."
   ]
  },
  {
   "cell_type": "code",
   "execution_count": null,
   "metadata": {},
   "outputs": [],
   "source": [
    "print('Всего студий:', len(df_realty[df_realty['studio'] == True]))\n",
    "df_realty.query('studio == True')[['kitchen_area', 'living_area']].isnull().sum()"
   ]
  },
  {
   "cell_type": "markdown",
   "metadata": {},
   "source": [
    "Именно так. Имеем 146 студий и в каждой пропуск в столбце 'kitchen_area'. Тут все в порядке и заменять пропуски смысла нет."
   ]
  },
  {
   "cell_type": "markdown",
   "metadata": {},
   "source": [
    "Чего не скажешь о жилой площади. Найдем отношение жилой площади ко всей, затем медиану доли жилой площади и заменим пропуски в соответствии с долей и общей площадью."
   ]
  },
  {
   "cell_type": "code",
   "execution_count": null,
   "metadata": {},
   "outputs": [],
   "source": [
    "# Отношение жилой ко всей площади \n",
    "live_in_st = df_realty.loc[df_realty['studio']==True, 'living_area'] / df_realty.loc[df_realty['studio']==True, 'total_area']\n",
    "\n",
    "# Средняя доля жилой площади в студиях\n",
    "live_in_st = live_in_st.dropna().median() # Удаляем строки с NaN и считаем\n",
    "print(\"Средняя доля жилой площади в студии =\", round(live_in_st, 2))\n",
    "\n",
    "# Заменяем пропущенне значения жилой площади в студии на произведение доли и общей площади\n",
    "df_realty.loc[(df_realty['living_area'].isna() == True) & (df_realty['studio']==True), 'living_area'] = \\\n",
    "    df_realty.loc[(df_realty['living_area'].isna() == True) & (df_realty['studio']==True), 'total_area'] * live_in_st"
   ]
  },
  {
   "cell_type": "markdown",
   "metadata": {},
   "source": [
    "Готово. Теперь выполним аналогичную замену пропусков в 'kitchen_area' для квартир не являющихся студиями."
   ]
  },
  {
   "cell_type": "code",
   "execution_count": null,
   "metadata": {},
   "outputs": [],
   "source": [
    "part_kitchen = df_realty.loc[(df_realty['kitchen_area'].isna() == False) & (df_realty['studio']==False), 'kitchen_area'] / df_realty.loc[(df_realty['total_area'].isna() == False) & (df_realty['studio']==False), 'total_area']\n",
    "part_kitchen = part_kitchen.dropna().median() #исключаем пропуски, берем среднее\n",
    "\n",
    "fillna_kitchen = df_realty.loc[(df_realty['kitchen_area'].isna() == True) & (df_realty['studio']==False)].index # Индексы где пропуски в значениях 'kitchen_area'\n",
    "df_realty.loc[fillna_kitchen, 'kitchen_area'] = part_kitchen * df_realty.loc[fillna_kitchen, 'total_area']  "
   ]
  },
  {
   "cell_type": "markdown",
   "metadata": {},
   "source": [
    "Проверяем работу. Выводим общую информацию о значениях и пропусках."
   ]
  },
  {
   "cell_type": "code",
   "execution_count": null,
   "metadata": {},
   "outputs": [],
   "source": [
    "print(df_realty['kitchen_area'].describe())\n",
    "missing_info('kitchen_area', 250)"
   ]
  },
  {
   "cell_type": "markdown",
   "metadata": {},
   "source": [
    "Остались те самые студии. И заметили интересные значения 1.3 и 112 м. кв. площади кухни. Запомнили, далее обработаем.<br>\n",
    "Пропуски в 'living_area' для квартир не являющихся студиями, заполним медианными значения по группам 'rooms' (не исключаем выбросы, поэтому не берем среднее), принимая во внимание, что количество комнат во многом и определяет жилую площадь."
   ]
  },
  {
   "cell_type": "code",
   "execution_count": null,
   "metadata": {},
   "outputs": [],
   "source": [
    "df_realty['living_area'] = df_realty.groupby('rooms')['living_area'].transform(lambda x: x.fillna(x.median()))\n",
    "df_realty['living_area'].isna().sum()"
   ]
  },
  {
   "cell_type": "markdown",
   "metadata": {},
   "source": [
    "Пропуски заполнены. Выведем общую информацию о значениях и пропусках"
   ]
  },
  {
   "cell_type": "code",
   "execution_count": null,
   "metadata": {},
   "outputs": [],
   "source": [
    "print(df_realty['living_area'].describe())\n",
    "missing_info('living_area', 250)"
   ]
  },
  {
   "cell_type": "markdown",
   "metadata": {},
   "source": [
    "Снова замечаем странные значения, на этот раз минимальное в 2 м. кв. жилой площади. Принимаем во внимание, позже обработаем."
   ]
  },
  {
   "cell_type": "markdown",
   "metadata": {},
   "source": [
    "#### Пропуски в 'parks_around_3km',  'ponds_around_3km', 'to_park', 'to_pond'\n",
    "**Причины**<br>\n",
    "Скорее всего расположены вконце формы, продавец при заполнении мог легко и пропустить, особенно если они необязательные. Возможно просто не обладал такой информацией или не стал тратить время на уточнение.\n",
    "\n",
    "**Наши действия** <br>\n",
    "Сложно будет найти или рассчитать подходящие замены. Единственное рациональное решение (учитывая малую значимость для исследования) заменить пропуски на медианные значения по группам 'locality_name'"
   ]
  },
  {
   "cell_type": "markdown",
   "metadata": {},
   "source": [
    "Выведем общую информацию о значениях и пропусках"
   ]
  },
  {
   "cell_type": "code",
   "execution_count": null,
   "metadata": {},
   "outputs": [],
   "source": [
    "missing_info('parks_around_3km', 10)\n"
   ]
  },
  {
   "cell_type": "code",
   "execution_count": null,
   "metadata": {},
   "outputs": [],
   "source": [
    "missing_info('ponds_around_3km', 10)"
   ]
  },
  {
   "cell_type": "markdown",
   "metadata": {},
   "source": [
    "Парки в деревне, селе и СНТ конечно возможны, но маловерятны. Поэтому ничего не потеряем, если заменим пропуски по таким строкам на 0. Остальные на медианное групп 'locality_name'"
   ]
  },
  {
   "cell_type": "code",
   "execution_count": null,
   "metadata": {},
   "outputs": [],
   "source": [
    "df_realty.loc[(df_realty['locality_name'].str\n",
    "               .contains('деревня | село | садовое', case = False, regex=True )== True), 'parks_around_3km'] = 0\n",
    "with warnings.catch_warnings():\n",
    "    warnings.simplefilter(\"ignore\", category=RuntimeWarning)\n",
    "    df_realty['parks_around_3km'] = df_realty.groupby('locality_name')['parks_around_3km'].transform(lambda x: x.fillna(np.nanmedian(x)))"
   ]
  },
  {
   "cell_type": "markdown",
   "metadata": {},
   "source": [
    "Выведем еще раз общую информацию о значениях и пропусках"
   ]
  },
  {
   "cell_type": "code",
   "execution_count": null,
   "metadata": {},
   "outputs": [],
   "source": [
    "\n",
    "missing_info('parks_around_3km', 10)"
   ]
  },
  {
   "cell_type": "markdown",
   "metadata": {},
   "source": [
    "Осталось 19% пропусков. Пусть так. В наши задачи не входит исследование этого параметра."
   ]
  },
  {
   "cell_type": "markdown",
   "metadata": {},
   "source": [
    "**Повторим** все аналогичные замены и для 'ponds_around_3km'. Учитывая, что с прудами в деревнях, селах и СНТ такая замена, что сделали для парков, не подойдет. Значит возьмем только медианы по группам 'locality_name'"
   ]
  },
  {
   "cell_type": "code",
   "execution_count": null,
   "metadata": {},
   "outputs": [],
   "source": [
    "with warnings.catch_warnings():\n",
    "    warnings.simplefilter(\"ignore\", category=RuntimeWarning)\n",
    "    df_realty['ponds_around_3km'] = df_realty.groupby('locality_name')['ponds_around_3km'].transform(lambda x: x.fillna(np.nanmedian(x)))"
   ]
  },
  {
   "cell_type": "code",
   "execution_count": null,
   "metadata": {},
   "outputs": [],
   "source": [
    "missing_info('ponds_around_3km', 10)"
   ]
  },
  {
   "cell_type": "markdown",
   "metadata": {},
   "source": [
    "Не сработало, количество пропусков осталось прежним. Не будем больше ничего с ними делать."
   ]
  },
  {
   "cell_type": "markdown",
   "metadata": {},
   "source": [
    "В 'to_park' и 'to_pound' по той же схеме"
   ]
  },
  {
   "cell_type": "code",
   "execution_count": null,
   "metadata": {
    "scrolled": false
   },
   "outputs": [],
   "source": [
    "missing_info('to_park', 250)\n",
    "df_realty['to_park'].describe()"
   ]
  },
  {
   "cell_type": "code",
   "execution_count": null,
   "metadata": {},
   "outputs": [],
   "source": [
    "missing_info('to_pond', 250)\n",
    "df_realty['to_pond'].describe()"
   ]
  },
  {
   "cell_type": "markdown",
   "metadata": {},
   "source": [
    "С таким большим количеством пропусков в столбцах 'to_park' и 'to_pond' (почти 66% и 62% соответственно) замена на медианые по группам 'locality_name' приведет к искажению данных с появлением преимущественно медианых значений. <br>\n",
    "Проверим."
   ]
  },
  {
   "cell_type": "code",
   "execution_count": null,
   "metadata": {},
   "outputs": [],
   "source": [
    "with warnings.catch_warnings():\n",
    "    warnings.simplefilter(\"ignore\", category=RuntimeWarning)\n",
    "    df = df_realty.groupby('locality_name')['to_pond'].transform(lambda x: x.fillna(np.nanmedian(x)))"
   ]
  },
  {
   "cell_type": "markdown",
   "metadata": {},
   "source": [
    "Готово, выведем еще раз общую информацию по значениям и пропускам"
   ]
  },
  {
   "cell_type": "code",
   "execution_count": null,
   "metadata": {},
   "outputs": [],
   "source": [
    "\n",
    "df.describe()\n",
    "df.hist()"
   ]
  },
  {
   "cell_type": "markdown",
   "metadata": {},
   "source": [
    "О чем и речь. Оставим пропуски как есть, на исследование они не влияют."
   ]
  },
  {
   "cell_type": "markdown",
   "metadata": {},
   "source": [
    "#### Пропуски в 'total_days_expo'\n",
    "**Причины**<br>\n",
    "данный параметр скорее всего вычисляется автоматически с момента подачи объявления. Значит ошибка при выгрузке, потеря данных.\n",
    "\n",
    "**Наши действия**<br>\n",
    "Очень сложно предложить адекватную замену пропусков, так как \"скорость продажи\" скорее зависит от \"адекватности\" продавца, а точнее соотношения цены, состояния продаваемой квартиры, средней цены за аналогичную на рынке, грамотно и подробно составленного объявления."
   ]
  },
  {
   "cell_type": "code",
   "execution_count": null,
   "metadata": {},
   "outputs": [],
   "source": [
    "missing_info('total_days_expo', 250)\n",
    "df_realty['total_days_expo'].describe()"
   ]
  },
  {
   "cell_type": "markdown",
   "metadata": {},
   "source": [
    "Пропусков около 13%, за исключением нескольких выбивающихся значений, вполне реалистичное распределение. Не будем ничего заменять, ради только того, чтобы убрать пропуски. "
   ]
  },
  {
   "cell_type": "markdown",
   "metadata": {},
   "source": [
    "#### Пропуски в столбце 'apartment'"
   ]
  },
  {
   "cell_type": "markdown",
   "metadata": {},
   "source": [
    "**Причины**<br>\n",
    "Ошибка при выгрузке, необязательное поле, которое не было заполнено продавцом. Скорее всего отсуствие значение может означать, что квартира апартаментами не является.\n",
    "\n",
    "**Наши действия** <br>\n",
    "Для исследования значения данного столбца интереса не предстваляют. Поэтому смело заменяем пропуски на False.<br>\n",
    "Но сначала выведем общую информацию о значениях и пропусках"
   ]
  },
  {
   "cell_type": "code",
   "execution_count": null,
   "metadata": {},
   "outputs": [],
   "source": [
    "df_realty['apartment'].isna().mean()"
   ]
  },
  {
   "cell_type": "markdown",
   "metadata": {},
   "source": [
    "Пропусков около 9%. Заменяем на 0."
   ]
  },
  {
   "cell_type": "code",
   "execution_count": null,
   "metadata": {},
   "outputs": [],
   "source": [
    "df_realty['apartment'] = df_realty['apartment'].fillna(False) "
   ]
  },
  {
   "cell_type": "markdown",
   "metadata": {},
   "source": [
    "<hr>\n",
    "Еще раз посмотрим на пропуски во всем датафрейме."
   ]
  },
  {
   "cell_type": "code",
   "execution_count": null,
   "metadata": {},
   "outputs": [],
   "source": [
    "df_realty.isna().mean()"
   ]
  },
  {
   "cell_type": "markdown",
   "metadata": {},
   "source": [
    "Посмотрим сколько осталось строк после удаления дубликатов, пропусков."
   ]
  },
  {
   "cell_type": "code",
   "execution_count": null,
   "metadata": {},
   "outputs": [],
   "source": [
    "print('Строк в датафрейме после заполнения пропусков:', len(df_realty))"
   ]
  },
  {
   "cell_type": "markdown",
   "metadata": {},
   "source": [
    "Удалили 108 строк, что менее 0.5% от числа всех строк в исходном датафрейме"
   ]
  },
  {
   "cell_type": "markdown",
   "metadata": {},
   "source": [
    "**Выводы:** <br> <a id='href5'></a>\n",
    "Действительно необходим багрепорт, так как огромнейшее число пропусков, многие из которых, невозможно заполнить на основе имеющейся информации, и работа с оставшимися весьма трудозатратна. Часть из них пришлось оставить как есть, часть удалось заменить подходящими, как мы считаем, знаениями. В большинстве столбцов, данные которых нам нужны для исследования, удалось произвести такие преобразования:\n",
    "* 'locality_name' заменили пропуски на \"Санкт-Петербург\" в тех строках где расстояние до центра меньше 17 км, остальные удалили.\n",
    "* В 'floors_total' была совсем малая доля пропусков - удалили из таблицы\n",
    "* 'to_center' и 'to_airports' сначала на средние по группам 'locality_name', затем используя данные о широте и долготе населенных пунктов Ленобласти (взяли с GitHub Gist), преобразов их в координаты, с помощью geory установили расстояния от них до центра Петербурга и Пулково.\n",
    "* В 'balcony' для тех строк где в 'locality_name' \"деревня...\", \"село...\", \"садовое товарищество...\" заменили пропуски нулями. Для остальных медианным по группам 'locality_name'\n",
    "* 'ceilings' медианными по группам 'locality_name'\n",
    "* 'living_area' и 'kitchen_area' отдельно обработали для студий и не студий. Для студий в 'kitchen_area' пропуски не трогали, для 'living_area' в студиях заменили через долю жилой ко всей площади, для не студий через медианное значение по группам 'rooms'\n",
    "* 'parks_around_3km', 'ponds_around_3km', 'to_park', 'to_pond' практически не подвергались заполнению. Смогли заменить часть пропусков через медианные по группам 'locality_name', но очень малую долю, и в деревнях, селах и СНТ в 'park_around_3km' выполнили замену на 0.\n",
    "* 'total_days_expo' оставили без изменений\n",
    "* 'apartment' заменили пропуски нулями"
   ]
  },
  {
   "cell_type": "markdown",
   "metadata": {},
   "source": [
    "### Изменение типов данных"
   ]
  },
  {
   "cell_type": "markdown",
   "metadata": {},
   "source": [
    "В обзоре данных заметили несоответствие значений типу данных в столбце `'apartment'`. Приведем данные в нем к типу `bool`, так как он содержит всего два значения `True` и `False`. Также в столбцах `'price'`, `'floors_total'`, `'balcony'`, `'parks_around_3km'`, `'ponds_around_3km'`, `'total_days_expo'` поменяем тип на `int`."
   ]
  },
  {
   "cell_type": "code",
   "execution_count": null,
   "metadata": {},
   "outputs": [],
   "source": [
    "# bool(distutils.util.strtobool(some_string))\n",
    "df_realty['apartment'] = df_realty['apartment'].astype('bool')\n",
    "#column = ['price', 'floors_total', 'balcony', 'parks_around_3km', 'ponds_around_3km', 'total_days_expo']\n",
    "#for values in column:\n",
    "#    df_realty[column] = df_realty[column].astype('int64')\n",
    "df_realty = df_realty.astype({'price':\"int64\", 'floors_total':'int64', 'balcony':'int64', 'parks_around_3km':'Int64', 'ponds_around_3km':'Int64'}) \n",
    "df_realty['total_days_expo'] = df_realty['total_days_expo'].round()\n",
    "df_realty = df_realty.astype({'total_days_expo':\"Int64\"})\n",
    "df_realty.info()"
   ]
  },
  {
   "cell_type": "markdown",
   "metadata": {},
   "source": [
    "**Вывод**<br> <a id='href6'></a>\n",
    "Изменили типы как было описано выше, в столбцах с пропусками на Int64. Расклад по типам данных теперь такой:<br>\n",
    "Int64 - 3 столбца, bool - 3 столбца, datetime64 - 1 столбец, float64 - 8 столбцов, int64 - 6 столбцов, object - 1 столбец."
   ]
  },
  {
   "cell_type": "markdown",
   "metadata": {},
   "source": [
    "### Аномальные значения "
   ]
  },
  {
   "cell_type": "markdown",
   "metadata": {},
   "source": [
    "В обзоре данных, и в ходе замены пропусков мы столкнулись с сильно отличающимися от остальных значениями по ряду столбцов, часть из которых, явно ошибки в данных (метровые и сто метровые потолки например). рассмотрим подробнее данные значения."
   ]
  },
  {
   "cell_type": "code",
   "execution_count": null,
   "metadata": {},
   "outputs": [],
   "source": [
    "def animals(column, a, b, x_size, y_size):\n",
    "    plt.figure(figsize=(x_size, y_size))\n",
    "    df_realty[[column, 'locality_name']].boxplot()\n",
    "    plt.ylim(a, b)\n",
    "    return df_realty[column].describe()"
   ]
  },
  {
   "cell_type": "markdown",
   "metadata": {},
   "source": [
    "#### Аномалии в 'rooms'"
   ]
  },
  {
   "cell_type": "code",
   "execution_count": null,
   "metadata": {},
   "outputs": [],
   "source": [
    "animals('rooms', 0, 19, 10, 10)"
   ]
  },
  {
   "cell_type": "markdown",
   "metadata": {},
   "source": [
    "Как видим среднее значение комнат в объявлениях 2. Присутсвуют как квартиры с 0 комнат, так и с 19 комнатами. Расммотрим подробнее объявления с 0 комнат (возможно это студии) и с числом комнат, привосходящим 10."
   ]
  },
  {
   "cell_type": "code",
   "execution_count": null,
   "metadata": {
    "scrolled": false
   },
   "outputs": [],
   "source": [
    "df_true = df_realty[(df_realty['rooms'] ==0) & (df_realty['studio'] == True)]\n",
    "df_false = df_realty[(df_realty['rooms'] ==0) & (df_realty['studio'] == False)]\n",
    "display(df_true[['rooms', 'studio', 'price', 'locality_name', 'total_area']].sort_values('total_area').head(10))\n",
    "display(df_false[['rooms', 'studio', 'price', 'locality_name', 'total_area']].sort_values('total_area').head(10))\n",
    "print('Количество студий в df_realty:', len(df_realty[df_realty['studio'] == True]))\n",
    "print('Количество не студий в df_realty с нулями в rooms:', len(df_false))"
   ]
  },
  {
   "cell_type": "markdown",
   "metadata": {},
   "source": [
    "Видим строк, с нулями в 'rooms' и True в 'studio', а также с нулями в 'rooms' и False в 'studio'. В первых разумно оставить 0 на месте.В студии одна комната, она же кухня, она же корридор между кухней и комнатой. И наличие нуля, поможет ориентироваться в данных, понимая значению 0 в 'rooms' как студию. Поэтому заменим на среднее по группам 'total_area' только в квартирах не студиях. Благо таких строк совсем не много, и мы сразу видим, что все, за исключением одной имеют площадь от 16 до 42 (скорее всего однушки), хотя 42 может быть и двушкой, и 371 может иметь различное число комнат, наиболее правдоподобным кажется 9. Если мы изменим "
   ]
  },
  {
   "cell_type": "markdown",
   "metadata": {},
   "source": [
    "Для выбора замены выведем информацию о минимальном, максимальном и медианном значении площади по каждому количеству комнат"
   ]
  },
  {
   "cell_type": "code",
   "execution_count": null,
   "metadata": {},
   "outputs": [],
   "source": [
    "for i in range(20):  # информация о минимальном, максимальном и медианном значении площади для каждого числа комнат\n",
    "    df = df_realty[df_realty['rooms'] == i]\n",
    "    mi = df['total_area'].min()\n",
    "    ma = df['total_area'].max()\n",
    "    me = df['total_area'].median()\n",
    "    print('Число комнат:', i, 'min=',mi,'max=', ma,'median=', me)"
   ]
  },
  {
   "cell_type": "markdown",
   "metadata": {},
   "source": [
    "Принимая во внимание, что таких строк менее 0.1% от числа всех, смело заменим 0 в тех что по площади < 40 кв. м на 1, в квартире с площадью 42 кв. м заменим 0 на 2, и площадью 371 кв. м заменим 0 на 9."
   ]
  },
  {
   "cell_type": "code",
   "execution_count": null,
   "metadata": {},
   "outputs": [],
   "source": [
    "df_realty.loc[((df_realty['rooms'] == 0) & (df_realty['studio'] == False) & (df_realty['total_area'] < 40)), 'rooms'] = 1"
   ]
  },
  {
   "cell_type": "code",
   "execution_count": null,
   "metadata": {},
   "outputs": [],
   "source": [
    "df_false = df_realty[(df_realty['rooms'] ==0) & (df_realty['studio'] == False)]\n",
    "display(df_false[['rooms', 'studio', 'price', 'locality_name', 'total_area']].sort_values('total_area'))\n"
   ]
  },
  {
   "cell_type": "markdown",
   "metadata": {},
   "source": [
    "Готово. И остались с площадью 42 кв. м и 371 кв. м. Заменям 0 на 2 и 9 соответственно"
   ]
  },
  {
   "cell_type": "code",
   "execution_count": null,
   "metadata": {},
   "outputs": [],
   "source": [
    "df_realty.loc[((df_realty['rooms'] == 0) & (df_realty['studio'] == False) & (df_realty['total_area'] < 43)), 'rooms'] = 2\n",
    "df_realty.loc[((df_realty['rooms'] == 0) & (df_realty['studio'] == False) & (df_realty['total_area'] == 371)), 'rooms'] = 9"
   ]
  },
  {
   "cell_type": "code",
   "execution_count": null,
   "metadata": {},
   "outputs": [],
   "source": [
    "df_false = df_realty[(df_realty['rooms'] ==0) & (df_realty['studio'] == False)]\n",
    "display(df_false[['rooms', 'studio', 'price', 'locality_name', 'total_area']].sort_values('total_area'))"
   ]
  },
  {
   "cell_type": "markdown",
   "metadata": {},
   "source": [
    "Вот. азобрались. Идем дальше."
   ]
  },
  {
   "cell_type": "markdown",
   "metadata": {},
   "source": [
    "#### Аномалии в 'ceilings'"
   ]
  },
  {
   "cell_type": "code",
   "execution_count": null,
   "metadata": {},
   "outputs": [],
   "source": [
    "animals('ceilings', 0, 35, 10, 10 )\n"
   ]
  },
  {
   "cell_type": "markdown",
   "metadata": {},
   "source": [
    "Вот он выброс - потолки 100 м. И еще ошибки, значения от 20 м до 40 м. Даже если квартира в два уровня, это скорее метров 6-9, не 20 точно. Рассмотрим подробнее. Построим диаграмму расзмаха для значений от 0 до 35. И гистограммы по трем группам высоты потолков."
   ]
  },
  {
   "cell_type": "code",
   "execution_count": null,
   "metadata": {},
   "outputs": [],
   "source": [
    "df_realty['ceilings'].hist(figsize=(15,2.5), bins=60, range=(0,2.3), color=\"#988ed5\")\n",
    "plt.show()\n",
    "df_realty['ceilings'].hist(figsize=(15,2.5), bins=60, range=(2.3, 4.5), color=\"#988ed5\") \n",
    "plt.show()\n",
    "df_realty['ceilings'].hist(figsize=(15,2.5), bins=60, range=(4.5,38), color=\"#988ed5\")\n",
    "plt.show()"
   ]
  },
  {
   "cell_type": "markdown",
   "metadata": {},
   "source": [
    "Как видим преобладают потолки примерно 2.65 (она же медиана). Но есть некоторое количество значений от 19 примерно до 35. Возможно ошибка в записи, нет \"запятой\". Посмотрим на эти объявления."
   ]
  },
  {
   "cell_type": "code",
   "execution_count": null,
   "metadata": {
    "scrolled": false
   },
   "outputs": [],
   "source": [
    "df_realty.query('(ceilings > 19) & (ceilings < 35)').sort_values('price')"
   ]
  },
  {
   "cell_type": "markdown",
   "metadata": {},
   "source": [
    "23 объявления всего. И это обычные квартиры, со стоимостью от 1.5 до почти 10 млн., ничего выдающегося. Значит, скорее всего, ошибка именно в \"запятой\". Поделим на 10 значения в 'celings' в таких строках."
   ]
  },
  {
   "cell_type": "code",
   "execution_count": null,
   "metadata": {},
   "outputs": [],
   "source": [
    "index_list = df_realty.query('ceilings > 19 and ceilings < 35').index \n",
    "df_realty.loc[index_list, 'ceilings'] = df_realty.loc[index_list, 'ceilings'] / 10"
   ]
  },
  {
   "cell_type": "markdown",
   "metadata": {},
   "source": [
    "Готово. Теперь разберемся с остальными \"странными\" значениями. Для дома в деревне, потолки 1,9 представляются нижней границей, значит все что меньше к удалению, 7 - 10 м уже даже не двухуровневые а трех - четырех, тоже к удалению, больше 10 и до 19 без \"запятой\" слишком много, с \"запятой\" - мало, тоже удалим, и 100 метровые туда же. Но сначала выясним стколько всего таких строк."
   ]
  },
  {
   "cell_type": "code",
   "execution_count": null,
   "metadata": {},
   "outputs": [],
   "source": [
    "df_delete = df_realty.query('ceilings < 1.9  or 7 < ceilings < 19  or ceilings == 100').index\n",
    "len(df_delete)"
   ]
  },
  {
   "cell_type": "markdown",
   "metadata": {},
   "source": [
    "Всего 10 строк (менее 0.05%). Смело удаляем."
   ]
  },
  {
   "cell_type": "code",
   "execution_count": null,
   "metadata": {},
   "outputs": [],
   "source": [
    "print('Количесвто строк было:', len(df_realty)) \n",
    "df_realty.drop(df_delete, inplace=True, axis=0)\n",
    "df_realty.reset_index(drop=True)\n",
    "print('Количесвто строк стало:', len(df_realty))"
   ]
  },
  {
   "cell_type": "markdown",
   "metadata": {},
   "source": [
    "Разобрались. Идем дальше"
   ]
  },
  {
   "cell_type": "markdown",
   "metadata": {},
   "source": [
    "**Аномалии 'total_area'**"
   ]
  },
  {
   "cell_type": "markdown",
   "metadata": {},
   "source": [
    "Еще раз выведем информацию о значениях столбца"
   ]
  },
  {
   "cell_type": "code",
   "execution_count": null,
   "metadata": {},
   "outputs": [],
   "source": [
    "animals('total_area', 0, 900, 10, 10)"
   ]
  },
  {
   "cell_type": "markdown",
   "metadata": {},
   "source": [
    "Видим как минимум 5 значений сильно выбивающиеся из оставшейся группы значений. Рассмотрим их отдельно"
   ]
  },
  {
   "cell_type": "code",
   "execution_count": null,
   "metadata": {},
   "outputs": [],
   "source": [
    "df_realty[df_realty['total_area'] > 500].T"
   ]
  },
  {
   "cell_type": "markdown",
   "metadata": {},
   "source": [
    "Выглядит правдоподобно, это элитная недвижимость, премиум класс в самом центер Петербурга, с внушительным метражом более 500 кв. м. <br>\n",
    "Эти строки нельзя считать ошибками, но по стоимости и площади значения сильно превосходят остальные. Удалим, предварительно сохранив в отдельный датафрейм."
   ]
  },
  {
   "cell_type": "code",
   "execution_count": null,
   "metadata": {},
   "outputs": [],
   "source": [
    "df_super_premium = df_realty[df_realty['total_area'] > 500].index #сохраним в отдельный датафрейм\n",
    "df_realty.drop(df_super_premium, inplace=True, axis=0)# удаляем, чтобы не искажали исследование\n",
    "print('Число оставшихся строк:', len(df_realty))"
   ]
  },
  {
   "cell_type": "markdown",
   "metadata": {},
   "source": [
    "#### Аномалии 'living_area'"
   ]
  },
  {
   "cell_type": "markdown",
   "metadata": {},
   "source": [
    "Ранее замечали странные значения (неправдоподобно малые) в этом столбце. Еще раз посмотрим."
   ]
  },
  {
   "cell_type": "code",
   "execution_count": null,
   "metadata": {},
   "outputs": [],
   "source": [
    "animals('living_area', 0, 500, 10, 10)"
   ]
  },
  {
   "cell_type": "markdown",
   "metadata": {},
   "source": [
    "Минимум в 2 кв. м. явно какая-то ошибка. Учтем что продавать могут и комнату, рассмотрим строки, в которых жилая площадь меньше 6 кв. м (представляется минимально адекватной площадью)"
   ]
  },
  {
   "cell_type": "code",
   "execution_count": null,
   "metadata": {},
   "outputs": [],
   "source": [
    "df = df_realty.query('living_area < 6')\n",
    "df[['price', 'total_area', 'living_area', 'kitchen_area', 'rooms', 'studio','locality_name']].sort_values('price')"
   ]
  },
  {
   "cell_type": "markdown",
   "metadata": {},
   "source": [
    "Во всех, кроме 17582 и 23574, похоже, что просто \"не там стоит запятая\". В указанных двух заменим вручную."
   ]
  },
  {
   "cell_type": "code",
   "execution_count": null,
   "metadata": {},
   "outputs": [],
   "source": [
    "df_realty.loc[17582 , 'living_area'] = 1.9\n",
    "df_realty.loc[23574, 'living_area'] = 11.0\n",
    "df_realty.loc[df_realty['living_area'] < 6, 'living_area'] = df_realty.loc[df_realty['living_area'] < 6, 'living_area'] * 10\n",
    "\n",
    "df = df_realty.query('living_area < 6')\n",
    "len(df)\n"
   ]
  },
  {
   "cell_type": "markdown",
   "metadata": {},
   "source": [
    "Исправили. Рассмотрим теперь те объявления, в которых значение жилой площади + площадь кухни превосходит значение всей площади"
   ]
  },
  {
   "cell_type": "markdown",
   "metadata": {},
   "source": [
    "29 строк, большинство объявлений в Петербурге. Ошибка при заполнении или сбой. "
   ]
  },
  {
   "cell_type": "code",
   "execution_count": null,
   "metadata": {},
   "outputs": [],
   "source": [
    "df = df_realty.query('living_area + kitchen_area > total_area')\n",
    "print(len(df))\n",
    "df[['price', 'total_area', 'living_area', 'kitchen_area', 'rooms', 'studio','locality_name']].sort_values('price')"
   ]
  },
  {
   "cell_type": "markdown",
   "metadata": {},
   "source": [
    "164 строки с ошибками в данных, менее 0.8% от числа всех строк. Удаляем."
   ]
  },
  {
   "cell_type": "code",
   "execution_count": null,
   "metadata": {},
   "outputs": [],
   "source": [
    "df_delete = df_realty.query('living_area + kitchen_area > total_area').index\n",
    "df_realty.drop(df_delete, inplace=True, axis=0)"
   ]
  },
  {
   "cell_type": "code",
   "execution_count": null,
   "metadata": {},
   "outputs": [],
   "source": [
    "len(df_realty)"
   ]
  },
  {
   "cell_type": "markdown",
   "metadata": {},
   "source": [
    "К данному моменту \"потеряли\" 276 строки, около 1% от первоначального числа строк. Пока все в порядке."
   ]
  },
  {
   "cell_type": "markdown",
   "metadata": {},
   "source": [
    "#### Аномалии 'kitchen area'"
   ]
  },
  {
   "cell_type": "code",
   "execution_count": null,
   "metadata": {},
   "outputs": [],
   "source": [
    "animals ('kitchen_area', 0, 120, 10, 10)"
   ]
  },
  {
   "cell_type": "markdown",
   "metadata": {},
   "source": [
    "Интересные кухни площадью в хорошую однокомнатную квартиру! Рассмотрим подробнее.<br>\n",
    "Для начала выведем те, в которых площадь кухни превосходит 40 кв. м."
   ]
  },
  {
   "cell_type": "code",
   "execution_count": null,
   "metadata": {
    "scrolled": false
   },
   "outputs": [],
   "source": [
    "df = df_realty.query('kitchen_area > 40')\n",
    "print(len(df))\n",
    "df[['price', 'total_area', 'living_area', 'kitchen_area', 'rooms', 'studio','locality_name']].sort_values('price')"
   ]
  },
  {
   "cell_type": "markdown",
   "metadata": {},
   "source": [
    "Интересно. Мало того что в 8793 стоимость 12190 и это за квартиру в 109 квадратов в Петербурге, так в 2309, например, жилая площадь 8.4 кв. м, а площадь кухни 41 кв. м. Совсем не похоже на реально возможные значения, да еще и в поселке. Скорее наоборот. Аналогично в 511 строке. Словно перепутали местами. А много ли таких?"
   ]
  },
  {
   "cell_type": "code",
   "execution_count": null,
   "metadata": {
    "scrolled": false
   },
   "outputs": [],
   "source": [
    "df = df_realty.query('kitchen_area > living_area')\n",
    "df[['price', 'total_area', 'living_area', 'kitchen_area', 'rooms', 'studio','locality_name']]"
   ]
  },
  {
   "cell_type": "markdown",
   "metadata": {},
   "source": [
    "Хватает. Руководствуясь предположением, просто поменяем местами значения 'living_area' и 'kitchen_area' в таких строках"
   ]
  },
  {
   "cell_type": "code",
   "execution_count": null,
   "metadata": {},
   "outputs": [],
   "source": [
    "index_list = df.index.tolist() #создаем список индексов, чтобы циклом пройти по ним\n",
    "for num in index_list:\n",
    "    m = df_realty.loc[num,'living_area']\n",
    "    df_realty.loc[num, 'living_area'] = df_realty.loc[num, 'kitchen_area']\n",
    "    df_realty.loc[num, 'kitchen_area'] = m\n"
   ]
  },
  {
   "cell_type": "markdown",
   "metadata": {},
   "source": [
    "Готово, проверим."
   ]
  },
  {
   "cell_type": "code",
   "execution_count": null,
   "metadata": {},
   "outputs": [],
   "source": [
    "len(df_realty.query('kitchen_area > living_area'))\n"
   ]
  },
  {
   "cell_type": "markdown",
   "metadata": {},
   "source": [
    "Больше таких нет. <br>Проверим на наличие объявлений, в которых сумма площадей кухни и жилой больше всей площади квартиры. "
   ]
  },
  {
   "cell_type": "code",
   "execution_count": null,
   "metadata": {},
   "outputs": [],
   "source": [
    "df = df_realty.query('kitchen_area + living_area > total_area')\n",
    "df[['price', 'total_area', 'living_area', 'kitchen_area', 'rooms', 'studio','locality_name']].sort_values('price')"
   ]
  },
  {
   "cell_type": "markdown",
   "metadata": {},
   "source": [
    "Хорошо хоть таких нет. На этом будем считать, что с этим столбцом м закончили."
   ]
  },
  {
   "cell_type": "markdown",
   "metadata": {},
   "source": [
    "#### Аномалии 'price'"
   ]
  },
  {
   "cell_type": "code",
   "execution_count": null,
   "metadata": {},
   "outputs": [],
   "source": [
    "animals('price', 0, 770000000, 10, 10) # выводим диаграмму размаха и основную информацию"
   ]
  },
  {
   "cell_type": "markdown",
   "metadata": {},
   "source": [
    "Как упомяналось ранее 12190 за квартиру - странныя цена. 763 млн. тоже интересный экземпляр. Еще раз посмотрим."
   ]
  },
  {
   "cell_type": "code",
   "execution_count": null,
   "metadata": {},
   "outputs": [],
   "source": [
    "df_realty.query('price < 1000000 or price > 500000000').sort_values('price')\n"
   ]
  },
  {
   "cell_type": "markdown",
   "metadata": {},
   "source": [
    "Кроме 8793 остальные выглядят реалистично. В этой же, словно измеряют цену в тысячах, и не хватает \"трех нулей\" в конце. Сравним с квартирами в Петербурге примерно такой же площади и на таком же расстоянии от центра. "
   ]
  },
  {
   "cell_type": "code",
   "execution_count": null,
   "metadata": {
    "scrolled": false
   },
   "outputs": [],
   "source": [
    "df = df_realty.query('100 < total_area < 110 and locality_name == \"Санкт-Петербург\"')\n",
    "display(df.sort_values('price'))\n",
    "df.groupby('rooms')['price'].mean()"
   ]
  },
  {
   "cell_type": "markdown",
   "metadata": {},
   "source": [
    "Значит действительно, можно ставить 12 млн., и просто забыли \"000\". Исправим. B заодно избавимся от 12971 за 763 млн., превосходящей почти вдвое ближайшие, и присутствующей в единственном экземпляре."
   ]
  },
  {
   "cell_type": "code",
   "execution_count": null,
   "metadata": {},
   "outputs": [],
   "source": [
    "df_realty.loc[8793,'price'] = 12190000\n",
    "\n",
    "df_realty.drop([12971], inplace=True, axis=0)\n",
    "df_realty['price'].describe()"
   ]
  },
  {
   "cell_type": "markdown",
   "metadata": {},
   "source": [
    "С 'price' закончили"
   ]
  },
  {
   "cell_type": "markdown",
   "metadata": {},
   "source": [
    "#### Аномалии 'total_days_expo'"
   ]
  },
  {
   "cell_type": "code",
   "execution_count": null,
   "metadata": {},
   "outputs": [],
   "source": [
    "animals('total_days_expo', 0, 1600, 10, 10)\n",
    "print('Медиана времени продажи:', df_realty['total_days_expo'].median())\n",
    "df_realty['total_days_expo'].describe()"
   ]
  },
  {
   "cell_type": "markdown",
   "metadata": {},
   "source": [
    "Среднее время продажи - пол года. Медиана 96 дней. Значит есть сильно выбивающиеся значения (4 года!). Такие значения скорее выбросы, больше похоже на незакрытые объявления. Которые по какой-то причине не были сяты автоматически. Подобные значения (как мы замметили по среднему и медиане) буду сильно влиять на исследование."
   ]
  },
  {
   "cell_type": "code",
   "execution_count": null,
   "metadata": {},
   "outputs": [],
   "source": [
    "df_realty['total_days_expo'].hist(bins=500, figsize=(16,4), color='mediumseagreen'); "
   ]
  },
  {
   "cell_type": "markdown",
   "metadata": {},
   "source": [
    "Видим сильно выбивающиеся значения. Гдето в районе 50. И мало встречающиеся значения после 200. Посмотрим на них."
   ]
  },
  {
   "cell_type": "code",
   "execution_count": null,
   "metadata": {},
   "outputs": [],
   "source": [
    "df_realty['total_days_expo'].hist(bins=70, figsize=(16,4), color='gray', range=(180,1000));"
   ]
  },
  {
   "cell_type": "markdown",
   "metadata": {},
   "source": [
    "Действительно, после 200 дней количество проданых квартир в каждый последующий день убывает. И к 1000 дням подходит на уровень около 10. Уберем все объявления, превосходяящие 2 года (более чем приличная верхняя граница)."
   ]
  },
  {
   "cell_type": "code",
   "execution_count": null,
   "metadata": {},
   "outputs": [],
   "source": [
    "days_delete = df_realty.loc[df_realty['total_days_expo'] > 730].index # query() не сработал с Int64\n",
    "df_realty.drop(days_delete, inplace=True, axis=0)\n",
    "df_realty['total_days_expo'].hist(bins=100, figsize=(16,4), color='skyblue', range=(0,600));\n",
    "print ('Осталось строк:', len(df_realty))"
   ]
  },
  {
   "cell_type": "markdown",
   "metadata": {},
   "source": [
    "Готово. 7% от первоначального количества строк было удалено. Приемлемо. <br>\n",
    "Рассмотрим подробнее выбросы около 50 дней."
   ]
  },
  {
   "cell_type": "code",
   "execution_count": null,
   "metadata": {},
   "outputs": [],
   "source": [
    "df_realty['total_days_expo'].hist(bins=70, figsize=(16,4), color='tomato', range=(20,100));"
   ]
  },
  {
   "cell_type": "markdown",
   "metadata": {},
   "source": [
    "Действительно, выбросы приходятся на 45 и 60 дней.  Возможно что, часть сделок закрывается до 45 и до 60 дней, но продавец не закрывает объявление. Сервис в свою очередь, проверяет актуальность объявления на 45ый и 60ый день, если продавец неактивен (может быть пишут, звонят и тп.), то объявление закрывают. Удалим."
   ]
  },
  {
   "cell_type": "code",
   "execution_count": null,
   "metadata": {},
   "outputs": [],
   "source": [
    "d_delete = df_realty.loc[(df_realty['total_days_expo'] == 45) | (df_realty['total_days_expo'] == 60)].index\n",
    "df_realty.drop(d_delete, inplace=True, axis=0)\n",
    "print ('Осталось строк:', len(df_realty), 'Процент удаленных строк:', round(((len(df_realty_alfa)-len(df_realty))/len(df_realty_alfa))*100),'%')"
   ]
  },
  {
   "cell_type": "markdown",
   "metadata": {},
   "source": [
    "И пусть мы лишились 13% строк, зато мы избавились от данных, которые могут \"увести исследование\" в ошибочном направлении. "
   ]
  },
  {
   "cell_type": "markdown",
   "metadata": {},
   "source": [
    "#### Аномалии 'floors_total'"
   ]
  },
  {
   "cell_type": "code",
   "execution_count": null,
   "metadata": {},
   "outputs": [],
   "source": [
    "animals('floors_total', 0, 65, 10,10)"
   ]
  },
  {
   "cell_type": "markdown",
   "metadata": {},
   "source": [
    "Самое высокое здание в Ленобласти \"Лахта Центр\". Но там, на сколько нам известно, квартиры не продают. И мы можем проверить в нашем датафрейме, какая удаленность от центра Петербурга домов с этажностью за 30."
   ]
  },
  {
   "cell_type": "code",
   "execution_count": null,
   "metadata": {},
   "outputs": [],
   "source": [
    "df = df_realty.query('floors_total > 30')\n",
    "df[['price', 'floors_total', 'floor', 'total_area', 'locality_name', 'to_center']].sort_values('to_center')"
   ]
  },
  {
   "cell_type": "markdown",
   "metadata": {},
   "source": [
    "В Кронштате вообще нет зданий в 60 этажей, да даже в 30. Поэтому, скорее всего, ошибка, и судя по местоположению и стоимости, этажей там 6. Далее видим объявления из одного дома (35-36 этажного). Судя по информации с `dominfospb.ru` такой дом один, по адресу Обуховской Обороны, д. 138, к. 2 ЖК \"Александр Невский\". Эти данные достоверны. <br>\n",
    "Значит исправляем 60 на 6 и с этим столбцом закончили."
   ]
  },
  {
   "cell_type": "code",
   "execution_count": null,
   "metadata": {},
   "outputs": [],
   "source": [
    "df_realty.loc[2253, 'floors_total'] = 6\n",
    "df_realty['floors_total'].describe()"
   ]
  },
  {
   "cell_type": "markdown",
   "metadata": {},
   "source": [
    "Выведем количество оставшихся строк в df_realty после предобработки"
   ]
  },
  {
   "cell_type": "code",
   "execution_count": null,
   "metadata": {},
   "outputs": [],
   "source": [
    "p = (len(df_realty_alfa) - len(df_realty))/len(df_realty_alfa)\n",
    "print('Процент потеряных строк:', f'{p:.2%}')"
   ]
  },
  {
   "cell_type": "markdown",
   "metadata": {},
   "source": [
    "**ВЫВОДЫ**<a id='href3'></a><br> <a id='href7'></a>\n",
    "В исходном датафрейме оказалось не только большое количество пропусков, но и достаточно много аномалий. Вот что нашли и исправили:\n",
    "* 'ceilings' содержал аномально низкие/высокие (от 1 до 100 м) потолки. Все что меньше 1.9 м удалили, от 19 до 35 поделили на 10 и заменили. От 7 до 9 и 100 удалили\n",
    "* 'total_area' удалили редкие значения > 500 кв. м, \n",
    "* 'living_area' содержал значения меньше 6 кв. м, при общей площади почти в 10 раз больше, что похоже на ошибку \"запятой\". Исправили умножением на 10, в двух строках заменили вручную, опираясь на значения в 'total_area' и 'kitchen_area'\n",
    "* Поменяли местами значения в столбцах 'living_area' и 'kitchen_area' в тех строках, в которых сумма значений 'kitchen_area' и 'living_area' превосходила соответствующее значение в 'total_area'\n",
    "* В 'price' были обнаружены квартиры чуть более чем за 12 тыс. и за 763 млн. Проверили первую, учитывая общий метраж в 109 кв. м, \"дописали\" к 12 тыс. три нуля. Так как 763 млн. - значение почти вдвое превосходящее ближайшее, решили удалить, чтобы не было искажения общей картины.\n",
    "* 'total_days_expo' содержал большой разброс значений от 1 дня до 4 с лишним лет. Также были замечены выбросы на 45 и 60 днях. Руководствуясь предположением, что на 45ый и 60ый дни в системе осуществляется проверка на актуальность объявления, и в случае отрицательного результата, система автоматически закрывает такое объявление. Если так, то по большей части объявлений, закрытых на 45 и 60 дни, сделки уже были совершены, а значит квартиры были проданы до 45 и 60 дня. Чтобы подобные записи не искажали результаты исследования, мы решили удалить такие записи, а вместе с ними и те, которые стояли на продаже более 2 лет.\n",
    "* 'floors_total' располагал записью про квартиру в Кронштадте в шестидясетиэтажном доме. В петербурге есть только одно здание такой этажности - \"Лахта Центр\". Это объявление явно содержало ошибку. По местоположению и цене, было выдвинуто предположение, что в нем \"лишний ноль\". Заменили указанное значение (60) на 6. Также рассмотрели объявления в домах с количеством этажей 35 и 36. Данные похожи на реальные, по цене и местоположению, скорее всего это ЖК \"Александр Невский\" в Рыбацком.\n",
    "\n",
    "После пердобработки данных (удаление дубликатов, заполнение пропусков, исправление/удаление аномальных значений) в датафрейме из 23699 строк осталось 21275 строк. Потери составили примерно 10% строк - допустимый результат. \n",
    "\n",
    "**На этом будем считать предобработку данных завершенной!**"
   ]
  },
  {
   "cell_type": "markdown",
   "metadata": {},
   "source": [
    "## Расчёты и добавление результатов в таблицу"
   ]
  },
  {
   "cell_type": "markdown",
   "metadata": {},
   "source": [
    "Для достижения целей исследования, а именно для определения параметров (и связей между ними) влияющих на стоимость квартиры, необходимо добавить в уже \"нормализованный\" датефрейм следующие столбцы:\n",
    "1. Цена квадратного метра - 'price_m^2';\n",
    "2. День недели, месяц и год публикации объявления - 'day_week_pub', 'month_pub', 'year_pub';\n",
    "3. Этаж квартиры; варианты — первый, последний, другой - 'floor_cat';"
   ]
  },
  {
   "cell_type": "markdown",
   "metadata": {},
   "source": [
    "**1. Добавим цену квадратного метра ''price_m^2**"
   ]
  },
  {
   "cell_type": "code",
   "execution_count": null,
   "metadata": {},
   "outputs": [],
   "source": [
    "df_realty['price_m^2'] = df_realty['price'] / df_realty['total_area']\n",
    "df_realty['price_m^2'] = df_realty['price_m^2'].astype(int)\n",
    "display(df_realty[['locality_name', 'to_center', 'price_m^2']].sample(5))\n",
    "display(df_realty.sample(5))\n",
    "df_realty['price_m^2'].dtype"
   ]
  },
  {
   "cell_type": "markdown",
   "metadata": {},
   "source": [
    "**2. Добавим день недели, месяц и год публикации объявления 'day_week_pub', 'mounth_pub', 'year_pub'**"
   ]
  },
  {
   "cell_type": "code",
   "execution_count": null,
   "metadata": {},
   "outputs": [],
   "source": [
    "df_realty['day_week_pub'] = df_realty['date_expo'].dt.weekday\n",
    "df_realty['month_pub'] = df_realty['date_expo'].dt.month\n",
    "df_realty['year_pub'] = df_realty['date_expo'].dt.year\n",
    "display(df_realty[['day_week_pub', 'month_pub', 'year_pub']].sample(5))\n",
    "display(df_realty.sample(5))"
   ]
  },
  {
   "cell_type": "markdown",
   "metadata": {},
   "source": [
    "**3. Добавим 'floor_cat' - категория этажа квартиры ; варианты — первый, последний, другой**"
   ]
  },
  {
   "cell_type": "code",
   "execution_count": null,
   "metadata": {},
   "outputs": [],
   "source": [
    "df_realty['floor_cat'] = np.nan # изначально заполнен пропусками \n",
    "\n",
    "def distrib_floors(row):\n",
    "    if row['floor']==1:\n",
    "        return 'первый'\n",
    "    elif row['floor']==row['floors_total']:\n",
    "        return 'последний'\n",
    "    else:\n",
    "        return 'другой'\n",
    "\n",
    "df_realty['floor_cat'] = df_realty.apply(distrib_floors, axis=1)\n",
    "\n",
    "display(df_realty['floor_cat'].value_counts(dropna=False))\n",
    "display(df_realty.sample(3))"
   ]
  },
  {
   "cell_type": "markdown",
   "metadata": {},
   "source": [
    "**4. Добавим cоотношение жилой и общей площади, а также отношение площади кухни к общей 'ratio_liv_tot', 'ratio_kit_tot'**"
   ]
  },
  {
   "cell_type": "code",
   "execution_count": null,
   "metadata": {},
   "outputs": [],
   "source": [
    "df_realty['ratio_liv_tot'] = round(df_realty['living_area'] / df_realty['total_area'],2)\n",
    "df_realty['ratio_kit_tot'] = round(df_realty['kitchen_area'] / df_realty['total_area'],2)\n",
    "display(df_realty[['locality_name', 'total_area', 'living_area', 'kitchen_area', 'ratio_liv_tot', 'ratio_kit_tot']].sample(5))"
   ]
  },
  {
   "cell_type": "markdown",
   "metadata": {},
   "source": [
    "**ВЫВОДЫ**<br> <a id='href3'></a>\n",
    "Мы добавили и заполнили 7 новых столбцов \n",
    "1. 'price_m^2' - цена квадратного метра;\n",
    "2. 'day_week_pub' - день публикации;\n",
    "3. 'month_pub' - месяц публикации;\n",
    "4. 'year_pub' - год публикации;\n",
    "5. 'floor_cat' - категория этажа (первый, последний, другой);\n",
    "6. 'ratio_liv_tot' - соотношение жилой и общей площади;\n",
    "7. 'ratio_kit_tot' - отношение площади кухни к общей площади."
   ]
  },
  {
   "cell_type": "markdown",
   "metadata": {},
   "source": [
    "## Исследовательский анализ данных"
   ]
  },
  {
   "cell_type": "markdown",
   "metadata": {},
   "source": [
    "### Параметры влияющие на стоимость квартиры"
   ]
  },
  {
   "cell_type": "markdown",
   "metadata": {},
   "source": [
    "Изучим параметры влияющие на стоимость квартиры.<br> Рассмотрим значения площади, цену, число комнат, высоту потолков и построим гистограммы для каждого параметра."
   ]
  },
  {
   "cell_type": "markdown",
   "metadata": {},
   "source": [
    "Создадим функцию для изучения перечисленных параметров. "
   ]
  },
  {
   "cell_type": "code",
   "execution_count": null,
   "metadata": {},
   "outputs": [],
   "source": [
    "\n",
    "def EDA_function(name, x, y, a, b, c):\n",
    "    display(df_realty[name].describe())\n",
    "    display(df_realty[name].value_counts())\n",
    "    color_list = ['tan', 'seagreen', 'lightseagreen', 'plum', 'lightcoral', 'tomato', 'c', 'lightslategrey', 'slateblue']\n",
    "    color_option = random.choice(color_list)\n",
    "    df_realty[name].plot(kind='hist',\n",
    "                         alpha=0.7,\n",
    "                         bins=c,\n",
    "                         title=name,\n",
    "                         rot=45,\n",
    "                         grid=True,\n",
    "                         figsize=(a,b),\n",
    "                         fontsize=15, \n",
    "                         color=color_option,\n",
    "                         range=(x,y))\n",
    "    plt.xlabel(name, fontsize=15)\n",
    "    plt.ylabel(\"Count\", fontsize=15); \n"
   ]
  },
  {
   "cell_type": "markdown",
   "metadata": {},
   "source": [
    "**Площадь 'total_area'**"
   ]
  },
  {
   "cell_type": "code",
   "execution_count": null,
   "metadata": {},
   "outputs": [],
   "source": [
    "EDA_function('total_area', 12, 500, 18, 5, 100)"
   ]
  },
  {
   "cell_type": "markdown",
   "metadata": {},
   "source": [
    "Рассмотрим отдельно значения от 12 кв. м до 100, так как объявления со значениями 200 - 500 кв. м встречаются достаточно редко"
   ]
  },
  {
   "cell_type": "code",
   "execution_count": null,
   "metadata": {},
   "outputs": [],
   "source": [
    "EDA_function('total_area', 12, 100, 18, 5, 100)"
   ]
  },
  {
   "cell_type": "markdown",
   "metadata": {},
   "source": [
    "Чаще остальных встречаются объявления о продаже квартир площадью около 45 м кв. На втором месте 35 м кв. и 42 м кв. Далее чуть больше 35 кв. м, около 60 кв. м"
   ]
  },
  {
   "cell_type": "code",
   "execution_count": null,
   "metadata": {
    "scrolled": true
   },
   "outputs": [],
   "source": [
    "df_realty[df_realty['total_area'] == 45].head(10).sort_values('price')\n",
    "#df_realty[df_realty['total_area'] == 45].tail(10).sort_values('price')"
   ]
  },
  {
   "cell_type": "markdown",
   "metadata": {},
   "source": [
    "Квартиры 45 кв. м большей частью своей однушки и двушки, ценой категории до 7 млн. Наверное самые популярные по соотношению цена-метраж, кстати располагаются как в Петербурге так и в области."
   ]
  },
  {
   "cell_type": "markdown",
   "metadata": {},
   "source": [
    "**Цена 'price'**"
   ]
  },
  {
   "cell_type": "code",
   "execution_count": null,
   "metadata": {},
   "outputs": [],
   "source": [
    "EDA_function('price',0, 400000000, 18, 5, 50)"
   ]
  },
  {
   "cell_type": "markdown",
   "metadata": {},
   "source": [
    "На данной гистограмме заметно только то, что значения сконцентрировались около 0. Т.е. чаще остальных стоимость квартиры в пределах 8.3 млн. Выберем объявления со стоимостью от 0 до 32 млн."
   ]
  },
  {
   "cell_type": "code",
   "execution_count": null,
   "metadata": {},
   "outputs": [],
   "source": [
    "EDA_function('price', 0, 32000000, 18, 5, 50)"
   ]
  },
  {
   "cell_type": "markdown",
   "metadata": {},
   "source": [
    "Уже лучше. Теперь замечаем, что наибольшее число объявлений с ценой 4.5 - 5 млн. Учитывая, что мы исследуем данные по Петербургу и Ленобласти вполне реалистично, средний ценовой диапазон в бюджетном сегменте. Рассмотим такие объявления детально"
   ]
  },
  {
   "cell_type": "code",
   "execution_count": null,
   "metadata": {
    "scrolled": true
   },
   "outputs": [],
   "source": [
    "df = df_realty[(df_realty['price'] <= 4500000) & (df_realty['price'] >= 3500000)][['locality_name', 'to_center', 'total_area', 'rooms']].sort_values('to_center')\n",
    "display(df.describe())\n",
    "display(df.sample(30))"
   ]
  },
  {
   "cell_type": "markdown",
   "metadata": {},
   "source": [
    "4696 строк, что стоставляет примерно 22% от всего числа строк предобработанной таблицы. Замечаем, что среди этих объявлений есть квартиры как в центре Петербурга, так и в области. Почти все квартиры 1 и 2 комнатные, но есть например и 3 и 6 комнатные, с площадью от 13 до 185 и удаленностью от 0.8 до 18 км. "
   ]
  },
  {
   "cell_type": "code",
   "execution_count": null,
   "metadata": {},
   "outputs": [],
   "source": [
    "EDA_function('price', 30000000, 100000000, 18, 5, 50)"
   ]
  },
  {
   "cell_type": "markdown",
   "metadata": {},
   "source": [
    "В этой ценовой категории чаще остальных встречаются:\n",
    "1. 35 млн.\n",
    "2. 40 млн.\n",
    "3. 50 млн\n",
    "\n",
    "Все предсказуемо, чем выше цена, тем реже встречаются объявления. "
   ]
  },
  {
   "cell_type": "code",
   "execution_count": null,
   "metadata": {},
   "outputs": [],
   "source": [
    "x = len(df_realty[(df_realty['price'] >= 30000000) & (df_realty['price'] <= 100000000)])\n",
    "y = x / len(df_realty_alfa)\n",
    "print('Количество строк в df_realty с ценой от 30 млн до 100 млн:', x)\n",
    "print('Процент таких строк:', f'{y:.2%}')\n"
   ]
  },
  {
   "cell_type": "markdown",
   "metadata": {},
   "source": [
    "Всего 1% объявлений. "
   ]
  },
  {
   "cell_type": "code",
   "execution_count": null,
   "metadata": {},
   "outputs": [],
   "source": [
    "EDA_function('price', 100000000, 420000000, 18, 5, 50)"
   ]
  },
  {
   "cell_type": "markdown",
   "metadata": {},
   "source": [
    "В \"супер элитном\" сегменте аналогично, мы видим единичных представителей цен за 200 млн."
   ]
  },
  {
   "cell_type": "markdown",
   "metadata": {},
   "source": [
    "**Число комнат 'rooms'**"
   ]
  },
  {
   "cell_type": "code",
   "execution_count": null,
   "metadata": {},
   "outputs": [],
   "source": [
    "EDA_function('rooms', 0, 19, 18, 5, 100)"
   ]
  },
  {
   "cell_type": "markdown",
   "metadata": {},
   "source": [
    "Наибольшее число объявлений о продаже однокомнатных и двухкомнатных квартир, далее трехкомнатные. Далее четырехкомнатные, и после уже все остальные."
   ]
  },
  {
   "cell_type": "code",
   "execution_count": null,
   "metadata": {},
   "outputs": [],
   "source": [
    "fig = plt.figure(figsize=(10, 10))\n",
    "ax = fig.add_subplot()\n",
    "rooms_pivot = df_realty.pivot_table(index='rooms', values='price', aggfunc='count')\n",
    "rooms_pivot = rooms_pivot.query('rooms < 8')\n",
    "values_price = rooms_pivot['price'].to_list()\n",
    "df = df_realty.query('rooms < 8')\n",
    "values_rooms = sorted(df['rooms'].unique())\n",
    "explode = [0.03, 0.05, 0.08, 0.08, 0.05, 0.05, 0.05, 0.05]\n",
    "ax.pie(values_price, labels=values_rooms, autopct='%.2f', shadow=True, explode = explode)\n",
    "leg = ax.legend(['студия','1комн.', '2комн.', '3комн.', '4комн.', '5комн.', '6комн.', '7комн.'], bbox_to_anchor=(1.1,0.75), prop={'size':14})\n",
    "plt.show()"
   ]
  },
  {
   "cell_type": "markdown",
   "metadata": {},
   "source": [
    "На данной круговой диаграмме хорошо видно как расприделились количества объявлений по числу комнат. Однокомнатные вместе с двухкомнатными составляют почти 2/3 от числа всех объявлений. Двухкомнатных и трехкомнатных вместе чуть больше половины от числа всех. А объявлений с четырехкомнатными больше чем c 5, 6 - 19 вместе взятых."
   ]
  },
  {
   "cell_type": "markdown",
   "metadata": {},
   "source": [
    "**Высота потолков 'ceiling'**"
   ]
  },
  {
   "cell_type": "code",
   "execution_count": null,
   "metadata": {},
   "outputs": [],
   "source": [
    "EDA_function('ceilings', 1.5, 6, 18, 5, 50)"
   ]
  },
  {
   "cell_type": "markdown",
   "metadata": {},
   "source": [
    "Из гистограммы видим, что чаще всего встречается значение 2.7 м, далее 2.5 м, 2.6 м"
   ]
  },
  {
   "cell_type": "markdown",
   "metadata": {},
   "source": [
    "**Время продажи квартиры**"
   ]
  },
  {
   "cell_type": "markdown",
   "metadata": {},
   "source": [
    "Изучим время продажи квартиры. Построим гистограмму. Посчитаем среднее и медиану. Опишем, сколько обычно занимает продажа и когда можно считать, что продажи прошли очень быстро, а когда необычно долго? "
   ]
  },
  {
   "cell_type": "code",
   "execution_count": null,
   "metadata": {
    "scrolled": false
   },
   "outputs": [],
   "source": [
    "EDA_function('total_days_expo', 0, 560, 18, 5, 200)"
   ]
  },
  {
   "cell_type": "markdown",
   "metadata": {},
   "source": [
    "Видим пик около 10, 30, 40, 90, далее спад. Рассмотрим подробнее значения от 0 до 100 дней."
   ]
  },
  {
   "cell_type": "code",
   "execution_count": null,
   "metadata": {},
   "outputs": [],
   "source": [
    "EDA_function('total_days_expo', 0, 100, 18, 5, 200)"
   ]
  },
  {
   "cell_type": "markdown",
   "metadata": {},
   "source": [
    "Как видно из представленной гистграммы первый пик приходится на 7 дней (продажа спустя неделю) далее на 30 день и 90 день. На 45 и 60 дни продаж нет, мы их удалили в предобработке."
   ]
  },
  {
   "cell_type": "code",
   "execution_count": null,
   "metadata": {},
   "outputs": [],
   "source": [
    "animals('total_days_expo', 0, 560, 5, 5)"
   ]
  },
  {
   "cell_type": "markdown",
   "metadata": {},
   "source": [
    "Необыкновенно быстро проданными можно считать квартиры, объявления по которым были закрыты в течении первой недели. Как видно из диаграммы размаха, долго продаваемыми можем считать те, что стоят на продаже более 200 дней. Необыкновенно долго продаваемыми - 440 дней."
   ]
  },
  {
   "cell_type": "code",
   "execution_count": null,
   "metadata": {},
   "outputs": [],
   "source": [
    "print('Медиана значений total_days_expo -', round(df_realty['total_days_expo'].median(), 2))\n",
    "print('Среднее значений total_days_expo -', round(df_realty['total_days_expo'].mean(), 2))"
   ]
  },
  {
   "cell_type": "markdown",
   "metadata": {},
   "source": [
    "**ВЫВОДЫ**<br>\n",
    "Квартиры 45 кв. м большей частью своей однушки и двушки, ценой категории до 7 млн. Cамые популярные по соотношению цена-метраж, располагаются как в Петербурге так и в области.<br> 4.5 - 5 млн. - наиболее часто встречающаяся цена квартиры  (22% от всего числа строк предобработанной таблицы). Замечаем, что среди этих объявлений есть квартиры как в центре Петербурга, так и в области. Почти все квартиры 1 и 2 комнатные. Элитное жильё составляет всего 1%.<br> По числу комнат однокомнатные вместе с двухкомнатными составляют почти 2/3 от числа всех объявлений. Двухкомнатных и трехкомнатных вместе чуть больше половины от числа всех. А объявлений с четырехкомнатными больше чем c 5, 6 - 19 вместе взятых. <br> Среднее оно же медианное значение высоты потолков 2.7 м и большинство значений до 3 м. В 3 м снова пик.<br> Чаще остальных закрываются объявления до 7 дней (продажа спустя неделю) далее на 30 день и 90 день. Необыкновенно быстро проданными решили считать квартиры, объявления по которым были закрыты в течении первой недели. Долго продаваемыми - более 200 дней. Среднее время продажи - 159 дней, медиана - 101. "
   ]
  },
  {
   "cell_type": "markdown",
   "metadata": {},
   "source": [
    "### Редкие и выбивающиеся значения"
   ]
  },
  {
   "cell_type": "markdown",
   "metadata": {},
   "source": [
    "БОльшую часть таких значений выявили и исправили/удалили на этапе предобработки в изучении аномалий данных по столбцам датафрейма (с ходом обработки можно познакомится здесь [Аномальные значения](#href2), а с итогами и выводами здесь [ВЫВОДЫ](#href3).\n",
    "\n",
    "Однако, для того чтобы избежать сильного влияния на результаты исследования отдельных, редких, выбивающихся значений (пусть и проверенных на правдоподобность) и вспоминая, что по просьбе заказчика расчеты для групп и исследование выполнить для средних значений, а они чувствительны к \"скачкам и выбросам\", создадим новый датафрейм без них.\n",
    "\n",
    "Для этого еще раз вспомним о каких значениях идет речь и в каких столбцах они расположены (рассмотрим только столбцы, значения которых используем в исследовании) \n",
    "\n",
    "Редкие и выбивающиеся значения были обнаружены в столбцах 'total_area', 'price', 'total_days_expo'."
   ]
  },
  {
   "cell_type": "code",
   "execution_count": null,
   "metadata": {},
   "outputs": [],
   "source": [
    "animals('total_area', 0, 500, 10, 10)"
   ]
  },
  {
   "cell_type": "code",
   "execution_count": null,
   "metadata": {},
   "outputs": [],
   "source": [
    "animals('price', 400000, 400000000, 10, 10)"
   ]
  },
  {
   "cell_type": "code",
   "execution_count": null,
   "metadata": {},
   "outputs": [],
   "source": [
    "animals('total_days_expo', 0, 800, 10, 10)"
   ]
  },
  {
   "cell_type": "markdown",
   "metadata": {},
   "source": [
    "Исходя из информации представленной на диаграмме размаха 'total_area', чтобы избежать влияния выбивающихся значений на среднее, в новом датафрейме оставим строки со значениями 'total_area' не превосходящими 250 кв. м.\n",
    "\n",
    "Исходя из информации представленной на диаграмме размаха 'price', чтобы избежать влияния выбивающихся значений на среднее, в новом датафрейме оставим строки со значениями 'price' не превосходящими 150 млн.\n",
    "\n",
    "Исходя из информации представленной на диаграмме размаха 'total_days_expo', в новом датафрейме мы оставляем строки со значениями 'total_days_expo' не превосходящими 2 года.\n"
   ]
  },
  {
   "cell_type": "code",
   "execution_count": null,
   "metadata": {},
   "outputs": [],
   "source": [
    "good_mean_df = df_realty.query('total_area <= 300 and price <= 150000000')\n",
    "\n",
    "good_mean_df[['total_area', 'price', 'total_days_expo']].describe()"
   ]
  },
  {
   "cell_type": "markdown",
   "metadata": {},
   "source": [
    "### Факторы оказывающие наибольшее влияние на стоимость квартиры"
   ]
  },
  {
   "cell_type": "markdown",
   "metadata": {},
   "source": [
    "Для того чтобы определить какие факторы в конечном итоге оказывают наибольшее влияние на стоимость квартиры ответим на вопросы:\n",
    "1. Зависит ли цена от площади? \n",
    "2. Зависит ли цена от числа комнат?\n",
    "3. Зависит ли цена от этажа (первого или последнего)?\n",
    "4. Зависит ли цена от удалённости от центра? \n",
    "5. Зависит ли цена от даты размещения: дня недели, месяца и года»?"
   ]
  },
  {
   "cell_type": "markdown",
   "metadata": {},
   "source": [
    "Построим тепловую карту корреляции"
   ]
  },
  {
   "cell_type": "code",
   "execution_count": null,
   "metadata": {},
   "outputs": [],
   "source": [
    "df = good_mean_df.drop(['year_pub','day_week_pub', 'month_pub'], axis=1)\n",
    "sns.set(rc={'figure.figsize':(15.7,15.27)})\n",
    "correlation = sns.heatmap(df.corr(), vmin=-1, vmax=1,linewidths=.5, cmap='coolwarm')"
   ]
  },
  {
   "cell_type": "markdown",
   "metadata": {},
   "source": [
    "Выделим отдельно 'price', чтоб лучше рассмотреть корреляцию между различными параметрами и ценой:"
   ]
  },
  {
   "cell_type": "code",
   "execution_count": null,
   "metadata": {},
   "outputs": [],
   "source": [
    "sns.set(rc={'figure.figsize':(22,3)})\n",
    "correlation = sns.heatmap(df.corr()[['price']].sort_values(by='price', ascending=False).T, vmin=-0.2, vmax=1,linewidths=.5, cmap='coolwarm', annot=True, annot_kws={'size':12})"
   ]
  },
  {
   "cell_type": "markdown",
   "metadata": {},
   "source": [
    "Положительные значения корреляции:\n",
    "* Корреляция между ценой и ценой за квадратный метр, ценой и общей площадью вполне очевидны. Так как в общую площадь входят площади кухни и жилая площадь, то корреляция между ценой и этими параметрами также объяснима. Однако заметим, что ее значение уже ниже.\n",
    "* Небольшая корреляция между ценой и количеством комнат (аналогично всей площади и жилой с кухней), и между ценой и высотой потолков. \n",
    "* Незначительная корреляция между ценой и наличием парка или водоема в радиусе 3 км. \n",
    "\n",
    "Отрицательные значения корреляции:\n",
    "* Небольшая корреляция между ценой и расстоянием до центра."
   ]
  },
  {
   "cell_type": "markdown",
   "metadata": {},
   "source": [
    "Создадим функцию для расчета корреляции между ценой квартиры и каждым из перечисленных параметров и построения диграмм рассеяния и столбчатых диаграмм."
   ]
  },
  {
   "cell_type": "code",
   "execution_count": null,
   "metadata": {},
   "outputs": [],
   "source": [
    "def corr_price(column, x, y, min_x, max_x, min_y, max_y):\n",
    "    color_list = ['tan', 'seagreen', 'lightseagreen', 'plum', 'lightcoral', 'tomato', 'c', 'lightslategrey', 'slateblue']\n",
    "    color_option = random.choice(color_list)\n",
    "    good_mean_df.plot(x=column, y='price', kind='scatter', grid=True, figsize=(x,y), alpha=0.7, color=color_option);\n",
    "    plt.xlim(min_x, max_x)\n",
    "    plt.ylim(min_y, max_y)\n",
    "    columns = ['day_week_pub', 'month_pub', 'year_pub']\n",
    "    if column not in columns:\n",
    "        print('Корелляция \"price\" c',column , round(good_mean_df['price'].corr(good_mean_df[column]), 4))"
   ]
  },
  {
   "cell_type": "code",
   "execution_count": null,
   "metadata": {},
   "outputs": [],
   "source": [
    " x = list(good_mean_df)\n",
    " print(x)"
   ]
  },
  {
   "cell_type": "markdown",
   "metadata": {},
   "source": [
    "**1. Зависимость цены от общей площади квартиры**<br>\n",
    "Очевидно, что эта зависимость есть. Посмотрим на сколько сильно она выражена для данных именно нашего датафрейме. Выведем значение корреляции указанных столбцов и диаграмму рассеяния."
   ]
  },
  {
   "cell_type": "code",
   "execution_count": null,
   "metadata": {},
   "outputs": [],
   "source": [
    "corr_price('total_area', 18, 8, 0, 260, 400000, 100000000)"
   ]
  },
  {
   "cell_type": "markdown",
   "metadata": {},
   "source": [
    "На диаграмме рассеяния мы видим, что зависимость безусловно есть, и это подтверждает положительная корреляция значений этих двух величин, но и значений 0.7 и диаграмма, не демонстрируют высокую корреляцию. Да при увеличении площади, цена бузусловно увеличивается, но на цену, видимо, влияют еще и другие параметры."
   ]
  },
  {
   "cell_type": "markdown",
   "metadata": {},
   "source": [
    "**2. Зависимость цены квартиры от числа комнат**"
   ]
  },
  {
   "cell_type": "code",
   "execution_count": null,
   "metadata": {},
   "outputs": [],
   "source": [
    "corr_price('rooms', 18, 8, 0, 19, 400000, 50000000)"
   ]
  },
  {
   "cell_type": "markdown",
   "metadata": {},
   "source": [
    "Корреляция между ценой квартиры и количеством комнат есть, прямо пропорциональная, но в основном среди квартир с 0 - 5 комнатами. Также мы видим, что большое количество квартир (0-5 комнат) попадают в ценовой диапазон от 1 млн до 15 млн вне зависимости от числа комнат из указанной группы (0-5)."
   ]
  },
  {
   "cell_type": "markdown",
   "metadata": {},
   "source": [
    "**3. Зависимость цены от этажа (первый. последний)**"
   ]
  },
  {
   "cell_type": "markdown",
   "metadata": {},
   "source": [
    "Для ответа на поставленный вопрос рассмотрим средние значения по категориям и построим столбчатую дииграмму."
   ]
  },
  {
   "cell_type": "code",
   "execution_count": null,
   "metadata": {},
   "outputs": [],
   "source": [
    "cat_fl_mean = good_mean_df.groupby('floor_cat')['price'].mean();\n",
    "\n",
    "cat_fl_mean.plot(x=cat_fl_mean.index, y=cat_fl_mean.values, kind='bar', grid=False, figsize=(6,5), color = 'slateblue')\n",
    "plt.xlabel('Этаж', fontsize=14)\n",
    "plt.ylabel(\"Средняя цена квартиры\", fontsize=14); \n",
    "plt.show()"
   ]
  },
  {
   "cell_type": "markdown",
   "metadata": {},
   "source": [
    "На столбчатой диаграмме выше хорошо заметно, что квартиры, расположенные на первом этаже, ценятся меньше тех что на других. Видимо на них и спрос меньше. Более высокой ценой обладают квартиры на последнем этаже и других."
   ]
  },
  {
   "cell_type": "markdown",
   "metadata": {},
   "source": [
    "**4. Зависимость цены на квартиру от ее удаленности от центра** <br>\n",
    "Вполне очевидно, что квартиры в Петербурге должны быть дороже аналогичных по площади, числу комнат и пр. параметрах, чем квартиры Ленобласти. "
   ]
  },
  {
   "cell_type": "code",
   "execution_count": null,
   "metadata": {},
   "outputs": [],
   "source": [
    "corr_price('to_center', 18, 8, 0, 60000, 400000, 100000000)"
   ]
  },
  {
   "cell_type": "markdown",
   "metadata": {},
   "source": [
    "Рассмотрим поближе, ограничим дапазон рассматриваемых значений, 400 тыс снизу и 50 млн сверху."
   ]
  },
  {
   "cell_type": "code",
   "execution_count": null,
   "metadata": {},
   "outputs": [],
   "source": [
    "corr_price('to_center', 18, 8, 0, 60000, 400000, 50000000)"
   ]
  },
  {
   "cell_type": "markdown",
   "metadata": {},
   "source": [
    "Видим, что корреляция достаточно мала, значения обратно пропорциональны, больше расстояние от центра - меньше цена. Отчетливо зависимость проявляется в осовном  в диапазоне от 7 км до 18 км, и далее, буквально сразу, \"провал\" в цене и только затем принимает восновном значения из диапазона 2.5 - 7 млн с незначительными \"всплесками\". В предела 7 км от центра наибольшие цены, сильно превосходящие остальные."
   ]
  },
  {
   "cell_type": "markdown",
   "metadata": {},
   "source": [
    "**5. Зависимость стоимости квартиры от дня недели, месяца и года размещения**<br>\n",
    "Рассмотрим наличие коореляции между указанными параметрами и ценой."
   ]
  },
  {
   "cell_type": "code",
   "execution_count": null,
   "metadata": {},
   "outputs": [],
   "source": [
    "corr_price('day_week_pub', 18, 8, -1, 7, 400000, 100000000)\n",
    "corr_price('month_pub', 18, 8, 0, 13, 400000, 100000000)\n",
    "corr_price('year_pub', 18, 8, 2013, 2020, 400000, 100000000)"
   ]
  },
  {
   "cell_type": "markdown",
   "metadata": {},
   "source": [
    "Видим, что цена квартиры не зависит от дня недели, месяца публикации. И только цены объявлений 2014 года публикации уступают ценам остальных лет, но оно и понятно, присоединение Крыма, ослабление рубля, последующий рост цен и т.п."
   ]
  },
  {
   "cell_type": "markdown",
   "metadata": {},
   "source": [
    "**ВЫВОД**<br>\n",
    "Мы рассмотрели некоторые из параметров объявления о продаже квартир, которые могут оказывать влияние на стоимость квартиры. Данные брали из таблицы `good_mean_df`, которую получили как срез обработанного датафрейма `df_realty` после исключения редких и выбивающихся значений.\n",
    "* Значение корреляции стоимости и площади квартиры 0.7 означает, что зависимость есть, она прямо пропорциональная, чем больше площадь, тем больше стоимость. \n",
    "* Корреляция между количеством комнат и стоимостью квартиры тоже есть, но уже меньше, рассмотренной выше. В основном среди квартир с 0 - 5 комнатами. Также мы заметили, что большое количество квартир (0-5 комнат) попадают в ценовой диапазон от 1 млн до 15 млн вне зависимости от числа комнат из указанной группы (0-5).диапазон от 1 млн до 2.5 млн. \n",
    "* Покупатели менее заинтересованы в приобретении недвижимости на первом этаже, чем на других, поэтому цены на квартиры, расположенные на первом этаже, в среднем ниже аналогичных на других этажах. Наибольшая цена в среднем у квартир, расположенных не на первом и не на последнем этажах.\n",
    "* Корреляция между ценой квартиры и ее удаленностью от центра - отрицательная, а значит зависимость обратно пропорциональная (чем дальше тем меньше). Выражена она не так сильно как две предыдущие, и связано это как раз с наличием и влиянием предыдущих параметров. Хорошо заметна зависимость в диапазоне от 7 км до 18 км, и далее, буквально сразу, \"провал\" в цене и только затем принимает в основном значения из диапазона 2.5 - 7 млн с незначительными \"всплесками\". В радиусе 7 км от центра наибольшие цены, сильно превосходящие остальные.\n",
    "* Зависимости между днем недели, месяцем или годом и стоимостью квартиры нет. Но! Сильно отличающиеся от последующих лет цены на недвижимость в 2014 году, напоминают нам о первом с 2008 года сильном ослаблении рубля и в последующем серьезном увеличении цен на недвижимость.\n"
   ]
  },
  {
   "cell_type": "markdown",
   "metadata": {},
   "source": [
    "### Исследование 10 населенных пунктов с наибольшим количеством объявлений\n"
   ]
  },
  {
   "cell_type": "markdown",
   "metadata": {},
   "source": [
    "Исследование проведем по следующему плану:\n",
    "1. Рассотрим топ-10 населенных пунктов Ленобласти с наибольшим числом объявлений. \n",
    "2. Посчитаем среднее значение стоимости квадратного метра этих населенных пунктов. \n",
    "3. Выделим среди указанных 10 населенных пунктов два, с наибольшей и наименьшей ценой соответственно."
   ]
  },
  {
   "cell_type": "code",
   "execution_count": null,
   "metadata": {},
   "outputs": [],
   "source": [
    "top_ten = good_mean_df.groupby('locality_name')['price_m^2'].agg(['count', 'mean']).sort_values(by='count', ascending=False).head(10)\n",
    "top_ten_b = good_mean_df.groupby('locality_name')['price'].agg(['count', 'mean']).sort_values(by='count', ascending=False).head(10)\n",
    "top_ten.columns = ['flats_count', 'price_m^2']\n",
    "top_ten.reset_index(inplace=True)\n",
    "top_ten_b.columns = ['flats', 'mean_price']\n",
    "top_ten_b.reset_index(inplace=True)\n",
    "top_ten['mean_price'] = top_ten_b['mean_price']\n",
    "display(top_ten)\n",
    "print()\n",
    "print('Населённый пункт c cамым низким средним значением стоимости квадратного метра квартиры')\n",
    "display(top_ten.loc[top_ten['price_m^2']==top_ten['price_m^2'].min()])\n",
    "print('Населённый пункт c cамым низким средним значением стоимости квартиры')\n",
    "display(top_ten.loc[top_ten['mean_price']==top_ten['mean_price'].min()])\n",
    "print()\n",
    "print('Населённый пункт c cамым высоким средним значением стоимости квадратного метра квартиры')\n",
    "display(top_ten.loc[top_ten['price_m^2']==top_ten['price_m^2'].max()])\n",
    "print('Населённый пункт c cамым высоким средним значением стоимости квартиры')\n",
    "display(top_ten.loc[top_ten['mean_price']==top_ten['mean_price'].max()])"
   ]
  },
  {
   "cell_type": "code",
   "execution_count": null,
   "metadata": {},
   "outputs": [],
   "source": [
    "fig = plt.figure(figsize=(10, 10))\n",
    "ax = fig.add_subplot()\n",
    "flats = top_ten['flats_count'].to_list()\n",
    "lab = top_ten['locality_name'].to_list()\n",
    "explode = [0.03, 0.05, 0.08, 0.08, 0.05, 0.05, 0.05, 0.05, 0.05, 0.05]\n",
    "ax.pie(flats, labels=lab, autopct='%.2f', shadow=True, explode=explode)\n",
    "plt.show()"
   ]
  },
  {
   "cell_type": "markdown",
   "metadata": {},
   "source": [
    "На круговой диаграмме хорошо видно, что более 3/4 (83%) всех обявлений из топ-10 населенных пунктов в Петербурге, далее по убыванию около 3% - в поселке Мурино, около 2% - поселок Шушары, Всеволожск, Пушкин, Колпино, затем около 1.5% - поселок Парголово, Гатчина, деревня Кудрово, и, наконец, около 1% - Выборг.\n",
    "Интересно, что в топ-10 населенных пунктов с наибольшим количеством объявлений попали 3 поселка и одна деревня. Причем два поселка - Мурино и Шушары на 2 и 3 местах соответственно."
   ]
  },
  {
   "cell_type": "code",
   "execution_count": null,
   "metadata": {},
   "outputs": [],
   "source": [
    "top_ten.plot('locality_name', 'mean_price', kind='bar', rot=45, grid=True, figsize=(18,5), fontsize=12, color=\"c\")\n",
    "plt.ylim(0, 8000000)\n",
    "plt.ylabel(\"mean_price\", fontsize=15); \n"
   ]
  },
  {
   "cell_type": "markdown",
   "metadata": {},
   "source": [
    "Как видим наибольшая средняя цена квартиры в Петербурге. На втором месте Пушкин, далее поселок Парголово и далее близкие значения у остальных. Наименьшеая в Выборге."
   ]
  },
  {
   "cell_type": "code",
   "execution_count": null,
   "metadata": {},
   "outputs": [],
   "source": [
    "top_ten.plot('locality_name', 'price_m^2', kind='bar', rot=45, grid=True, figsize=(18,5), fontsize=12, color=\"tomato\")\n",
    "plt.ylim(0, 120000)\n",
    "plt.ylabel(\"price_m^2\", fontsize=15); "
   ]
  },
  {
   "cell_type": "markdown",
   "metadata": {},
   "source": [
    "Снова Петербург на первом месте, снова Выборг последний. Второе место снова у Пушкина, а третье теперь у деревни Кудрово. Что достаточно интересно!"
   ]
  },
  {
   "cell_type": "markdown",
   "metadata": {},
   "source": [
    "**ВЫВОДЫ**<br>\n",
    "Рассмотрели топ-10 по количеству объявлений населенных пунктов Ленобласти. В топ-10 попали Санкт-Петербург, поселок Мурино, поселок Шушары, Всеволожск, Пушкин, Колпино, поселок Парголово, Гатчина, деревня Кудрово, Выборг. Вычислили среднее значения стоимости квадратного метра по каждому населенному пункту из топ-10. Рассмотрели процентное соотношение количества объявлений по каждому населенному пункту из топ-10 (первая тройка - Санкт-Петербург, поселок Мурино, Поселок Шушары, причем Петербург \"обгоняет\" почти в 3 раза). Наибольшая средняя цена квартиры в Петербурге. На втором месте Пушкин, далее поселок Парголово и далее близкие значения у остальных. Наименьшеая в Выборге. По средней цене квадратного метра резльтаты первой тройки и последнего места аналогичные."
   ]
  },
  {
   "cell_type": "markdown",
   "metadata": {},
   "source": [
    "### Квартиры в  Петербурге, расстояния до центра"
   ]
  },
  {
   "cell_type": "markdown",
   "metadata": {},
   "source": [
    "Выясним какая область входит в центр Петербурга (радиус в километрах). Рассмотрим срез df_spb объявление по Петербургу с ценой квартиры 'price', расстоянием до центра 'to_center' и расстоянием до центра с целочисленными значениями в километрах 'to_center_km'. "
   ]
  },
  {
   "cell_type": "code",
   "execution_count": null,
   "metadata": {},
   "outputs": [],
   "source": [
    "df_spb = good_mean_df.loc[good_mean_df['locality_name']=='Санкт-Петербург'].reset_index(drop=True) # Вариант №2\n",
    "df_spb['to_center_km'] = round(df_spb['to_center']/1000).astype(int)\n",
    "display(df_spb.head(10))\n"
   ]
  },
  {
   "cell_type": "markdown",
   "metadata": {},
   "source": [
    "Посчитаем среднюю и медианную цену для каждого километра."
   ]
  },
  {
   "cell_type": "code",
   "execution_count": null,
   "metadata": {},
   "outputs": [],
   "source": [
    "price_mean_km = df_spb.pivot_table(index='to_center_km', values='price', aggfunc='mean') \n",
    "display(price_mean_km.head(8))\n",
    "price_median_km = df_spb.pivot_table(index='to_center_km', values='price', aggfunc='median') \n",
    "display(price_median_km.head(8))"
   ]
  },
  {
   "cell_type": "markdown",
   "metadata": {},
   "source": [
    "Готово. Значения среднего и медианы существенно различаются, значит есть значения сильно превосходящие остальные, и это значения цены квартиры в центре Петербурга, цены там \"космос\". Интересно, что до третьего километра средняя цена убывает, а с третьего по шестой снова начинает возрастать.<br> Построим график и посмотрим, как цена зависит от удалённости от центра. Определим границу, где график сильно меняется и примем это за точку осчета центра. "
   ]
  },
  {
   "cell_type": "code",
   "execution_count": null,
   "metadata": {},
   "outputs": [],
   "source": [
    "price_mean_km.plot(kind='bar', grid=True, figsize=(14,8), color='c')"
   ]
  },
  {
   "cell_type": "markdown",
   "metadata": {},
   "source": [
    "Видим сильное изменение сразу же после первого километра. Далее идет резкий спад до трех километров, провал от 3 до 4 км и далее 5 - 7 км снова выравниваются (возможно это удаленные сильнее остальных районы не являющиеся центральными, но считающимися престижными), к 8 км снова достаточно резкий спад. Заметим также скачок на 27 км. Будем считать, что радиус в 8 км - это и есть центр. На 27 км, возможно располагается какой-то элитный поселок. Так же заметим, что присутствуют значения 'to_center' превосходящие 17 км, которые все равно относятся к Петербургу, так как имеют значение Санкт-Петербург в 'locality_name'. Рассмотрим подробнее. Рассмотрим эт значения отдельно."
   ]
  },
  {
   "cell_type": "code",
   "execution_count": null,
   "metadata": {},
   "outputs": [],
   "source": [
    "df = df_spb.query('to_center > 17000').sort_values(by='to_center', ascending=False)\n",
    "display(df.head(10).T)\n",
    "len(df)"
   ]
  },
  {
   "cell_type": "markdown",
   "metadata": {},
   "source": [
    "962 строки. И наибольшее значение 29493 м. Возможно сюда попали объявления квартир, территориально расположенных в Кронштате, Ломоносове, Петергофе, Стрельне и т.п. Т.е. в пределах КАДа. Уберем эти строки из датафрейма `df_spb`."
   ]
  },
  {
   "cell_type": "code",
   "execution_count": null,
   "metadata": {},
   "outputs": [],
   "source": [
    "df_delete = df_spb.query('to_center > 17000').index\n",
    "df_spb.drop(df_delete, inplace=True, axis=0)\n",
    "print('Количество строк в df_spb:', len(df_spb))"
   ]
  },
  {
   "cell_type": "markdown",
   "metadata": {},
   "source": [
    "**ВЫВОДЫ**<br>\n",
    "Для следующего исследования создали датафрейм `df_spb`, как срез исходного `df_realty` со значениями 'Санкт-Петербург' в 'locality_name'. Добавили в него столбец с целочисленными значениями в км расстояний до центра Петербурга. Нашли средние и медианные значения по каждому километру. Рассмотрели график изменения цены от расстояния в км, и по нему определили центр города в радиусе 6 км, помимо этого рост цены от 3 км до 6 км, что скорее всего является следствием расположения квартиры в престижном районе. Также заметили наличие объявлений со значениями 'to_center' больше 17 км. Рассмотрели отдельно, предположительно квартиры Кронштата, Петергофа и пр., которые по ошибке определили как Петербург, так как в пределах КАДа. Приняли решение об удалении, так как ранее определили границы города в радиусе 17 км."
   ]
  },
  {
   "cell_type": "markdown",
   "metadata": {},
   "source": [
    "### Анализ сегмента квартир в центре Петербурга"
   ]
  },
  {
   "cell_type": "markdown",
   "metadata": {},
   "source": [
    "Выделим сегмент квартир в центре (в пределах 6 км включительно). Изучим следующие параметры:\n",
    "1. Площадь квартиры\n",
    "2. Цену квартиры\n",
    "3. Число комнат\n",
    "4. Высоту потолков"
   ]
  },
  {
   "cell_type": "code",
   "execution_count": null,
   "metadata": {},
   "outputs": [],
   "source": [
    "df_spb_center = df_spb.query('to_center <= 8000')\n",
    "print('Количество строк в df_spb_center:', df_spb_center.shape[0])"
   ]
  },
  {
   "cell_type": "markdown",
   "metadata": {},
   "source": [
    "Готово. Создаим функцию для исследования параметров влияющих на стоимость квартиры. "
   ]
  },
  {
   "cell_type": "code",
   "execution_count": null,
   "metadata": {},
   "outputs": [],
   "source": [
    "def function_spb(name, x, y, a, b, c):\n",
    "    display(df_spb_center[name].describe())\n",
    "    display(df_spb_center[name].value_counts().head(10))\n",
    "    color_list = ['tan', 'seagreen', 'lightseagreen', 'plum', 'lightcoral', 'tomato', 'c', 'lightslategrey', 'slateblue']\n",
    "    color_option = random.choice(color_list)\n",
    "    df_spb_center[name].plot(kind='hist',\n",
    "                         alpha=0.7,\n",
    "                         bins=c,\n",
    "                         title=name,\n",
    "                         rot=45,\n",
    "                         grid=True,\n",
    "                         figsize=(a,b),\n",
    "                         fontsize=15, \n",
    "                         color=color_option,\n",
    "                         range=(x,y))\n",
    "    plt.xlabel(name, fontsize=15)\n",
    "    plt.ylabel(\"Count\", fontsize=15); "
   ]
  },
  {
   "cell_type": "markdown",
   "metadata": {},
   "source": [
    "**1. Площадь квартиры в центре Петербурга**"
   ]
  },
  {
   "cell_type": "code",
   "execution_count": null,
   "metadata": {
    "scrolled": false
   },
   "outputs": [],
   "source": [
    "function_spb('total_area', 12, 400, 18, 5, 200)"
   ]
  },
  {
   "cell_type": "markdown",
   "metadata": {},
   "source": [
    "Видим, что больше остальных представлены объявления квартир с площадью в диапазоне от 42 до 90 кв. м. Минимальное значение площади  - 13 кв. м, максимальное - 248 кв. м, а среднее - 86 кв. м "
   ]
  },
  {
   "cell_type": "markdown",
   "metadata": {},
   "source": [
    "**2. Цена квартиры в центре Петербурга**"
   ]
  },
  {
   "cell_type": "code",
   "execution_count": null,
   "metadata": {},
   "outputs": [],
   "source": [
    "function_spb('price', 1600000, 60000000, 18, 5, 200)"
   ]
  },
  {
   "cell_type": "markdown",
   "metadata": {},
   "source": [
    "Чаще других в центре Петербурга продают и покупают квартиры по цене от 6.5 до 12 миллинов."
   ]
  },
  {
   "cell_type": "markdown",
   "metadata": {},
   "source": [
    "**3. Число комнат в квартирах центра Петербурга**"
   ]
  },
  {
   "cell_type": "code",
   "execution_count": null,
   "metadata": {},
   "outputs": [],
   "source": [
    "fig = plt.figure(figsize=(10, 10))\n",
    "ax = fig.add_subplot()\n",
    "rooms_pivot = df_spb_center.pivot_table(index='rooms', values='price', aggfunc='count')\n",
    "rooms_pivot = rooms_pivot.query('rooms < 8')\n",
    "values_price = rooms_pivot['price'].to_list()\n",
    "df = df_spb_center.query('rooms < 8')\n",
    "values_rooms = sorted(df['rooms'].unique())\n",
    "explode = [0.03, 0.05, 0.08, 0.08, 0.05, 0.05, 0.05, 0.05]\n",
    "ax.pie(values_price, labels=values_rooms, autopct='%.2f', shadow=True, explode = explode)\n",
    "leg = ax.legend(['студия','1 комн.', '2 комн.', '3 комн.', '4 комн.', '5 комн.', '6 комн.', '7 комн.'], bbox_to_anchor=(1.1,0.75), prop={'size':14})\n",
    "plt.show()"
   ]
  },
  {
   "cell_type": "markdown",
   "metadata": {},
   "source": [
    "Видим, что преобладают объявления о продаже двухкомнатных и трехкомнатных, вместе их больше половины от числа всех. Однакомнатные и четырехкомнатные почти попровну, примерно по 1/7 каждая. В целом перобладают объявления о продаже многокомнатных квартир. "
   ]
  },
  {
   "cell_type": "markdown",
   "metadata": {},
   "source": [
    "**4. Высота потолков в квартирах центра Петербурга**"
   ]
  },
  {
   "cell_type": "code",
   "execution_count": null,
   "metadata": {},
   "outputs": [],
   "source": [
    "function_spb('ceilings', 1.9, 5, 18, 5, 20)"
   ]
  },
  {
   "cell_type": "markdown",
   "metadata": {},
   "source": [
    "В центре петербурга преобладают объявления с высотой потолков 2.65,как и по области вцелом. Однако среднее уже 3.0 м, и доля квартир 2.7 - 4 метровыми потолками значительная."
   ]
  },
  {
   "cell_type": "markdown",
   "metadata": {},
   "source": [
    "**ВЫВОД** <br>\n",
    "Рассмотрели сигмент объявлений с квартирами в центре Петербурга (в радиусе 6 км от центра). Изучили следующие параметры:\n",
    "* Площадь квартиры. Чаще остальных встречаются квартиры 43 до 110 кв. м. \n",
    "* Цена квартиры. Чаще других в центре Петербурга продают и покупают квартиры по цене от 6.5 до 12 миллинов (с учетом   удаленных редких, выбивающихся значений). Но и самые дорогие квартиры именно в центре.\n",
    "* Количество комнат. В центре Петербурга объявление о продаже многокомнатных (больше 1) встречаются чаще остальных, самые популярные двух и треухкомнатные. Существенная часть объявлений с количеством комнат 4 - 6.\n",
    "* Высота потолков. Средним значением высоты потолков стало 3.0 м (напомним, что во всем датафрейме это значение равно 2.65). Доля квартир с потолками 2.7 - 4 м значительная."
   ]
  },
  {
   "cell_type": "markdown",
   "metadata": {},
   "source": [
    "#### Параметры влияющие на стоимость квартиры в центре Петербурга"
   ]
  },
  {
   "cell_type": "code",
   "execution_count": null,
   "metadata": {},
   "outputs": [],
   "source": [
    "dt = df_spb_center.drop(['year_pub','day_week_pub', 'month_pub'], axis=1)\n",
    "sns.set(rc={'figure.figsize':(15.7,15.27)})\n",
    "correlation = sns.heatmap(dt.corr(), vmin=-1, vmax=1,linewidths=.5, cmap='Blues')"
   ]
  },
  {
   "cell_type": "markdown",
   "metadata": {},
   "source": [
    "Выделим 'price', чтоб лучше рассмотреть корреляцию между различными параметрами и ценой:"
   ]
  },
  {
   "cell_type": "code",
   "execution_count": null,
   "metadata": {},
   "outputs": [],
   "source": [
    "sns.set(rc={'figure.figsize':(3,15)})\n",
    "correlation = sns.heatmap(dt.corr()[['price']].sort_values(by='price', ascending=False), vmin=-0.2, vmax=1,linewidths=.5, cmap='Blues', annot=True, annot_kws={'size':14})"
   ]
  },
  {
   "cell_type": "markdown",
   "metadata": {},
   "source": [
    "Естественно наибольшее значение корреляции между ценой квадратного метра и общей стоимостью квартиры и между площадью квартиры и ее стоимостью. Далее прослеживается, уже не так ярко выраженная корреляция между жилой площадью, площадью кухни и ценой квартиры. Также заметим корреляцию между числом комнат и ценой квартиры, но совсем незначительную. "
   ]
  },
  {
   "cell_type": "code",
   "execution_count": null,
   "metadata": {},
   "outputs": [],
   "source": [
    "def corr_price_spb(column, x, y, min_x, max_x, min_y, max_y):\n",
    "    color_list = ['tan', 'seagreen', 'lightseagreen', 'plum', 'lightcoral', 'tomato', 'c', 'lightslategrey', 'slateblue']\n",
    "    color_option = random.choice(color_list)\n",
    "    df_spb_center.plot(x=column, y='price', kind='scatter', grid=True, figsize=(x,y), alpha=0.7, color=color_option);\n",
    "    plt.xlim(min_x, max_x)\n",
    "    plt.ylim(min_y, max_y)\n",
    "    columns = ['day_week_pub', 'month_pub', 'year_pub']\n",
    "    if column not in columns:\n",
    "        print('Корелляция \"price\" c',column , round(df_spb_center['price'].corr(df_spb_center[column]), 4))\n",
    "     "
   ]
  },
  {
   "cell_type": "markdown",
   "metadata": {},
   "source": [
    "**Корреляция между ценой и количеством комнат квартиры**"
   ]
  },
  {
   "cell_type": "code",
   "execution_count": null,
   "metadata": {},
   "outputs": [],
   "source": [
    "corr_price_spb('rooms', 18, 4, 0,  11, 1600000, 160000000)"
   ]
  },
  {
   "cell_type": "markdown",
   "metadata": {},
   "source": [
    "Из диаграммы рассеяния видим, что есть рост цены при увеличении количества комнат и большая часть объвлений двух-шестикомнатных квартир имеют цену в диапазоне от минимальной 1.6 млн до 4 млн. "
   ]
  },
  {
   "cell_type": "markdown",
   "metadata": {},
   "source": [
    "**Корреляция между этажем (первый, последний, другой) и ценой квартиры**"
   ]
  },
  {
   "cell_type": "code",
   "execution_count": null,
   "metadata": {},
   "outputs": [],
   "source": [
    "cat_fl_mean = df_spb_center.groupby('floor_cat')['price'].mean()\n",
    "\n",
    "cat_fl_mean.plot(x=cat_fl_mean.index, y=cat_fl_mean.values, kind='bar', grid=False, figsize=(6,5), color = 'tomato')\n",
    "plt.xlabel('Этаж', fontsize=14)\n",
    "plt.ylabel(\"Средняя цена квартиры\", fontsize=14)\n",
    "plt.show()"
   ]
  },
  {
   "cell_type": "markdown",
   "metadata": {},
   "source": [
    "По-прежнему наименее популярны квартиры на первом этаже, а самые популярные не первый и не последний - другой."
   ]
  },
  {
   "cell_type": "markdown",
   "metadata": {},
   "source": [
    "**Корреляция между удаленностью от центра и ценой квартиры**"
   ]
  },
  {
   "cell_type": "code",
   "execution_count": null,
   "metadata": {},
   "outputs": [],
   "source": [
    "corr_price_spb('to_center', 18, 6, 0,  8000, 1600000, 160000000)"
   ]
  },
  {
   "cell_type": "markdown",
   "metadata": {},
   "source": [
    "Видим, что корреляции нет. НО! Отдельные объявления элитного жилья с самой высокой ценой расположены в пределах 7.5 км. "
   ]
  },
  {
   "cell_type": "markdown",
   "metadata": {},
   "source": [
    "**Корреляция между датой размещения и ценой квартиры**"
   ]
  },
  {
   "cell_type": "code",
   "execution_count": null,
   "metadata": {},
   "outputs": [],
   "source": [
    "corr_price_spb('day_week_pub', 18, 6, -1,  7, 1600000, 160000000)\n",
    "corr_price_spb('month_pub', 18, 6, 0,  13, 1600000, 160000000)\n",
    "corr_price_spb('year_pub', 18, 6, 2013,  2020, 1600000, 160000000)"
   ]
  },
  {
   "cell_type": "markdown",
   "metadata": {},
   "source": [
    "Между датой продажи и ценой корееляции нет. И снова замечаем скачок цен в между 2014 и 2015 годами. И совсем небольшое количество значений в 2014, возможно связанное со срезом значений по срокам продажи, видимо в 2014 году рынок недвижимости \"замер\" по известным причинам."
   ]
  },
  {
   "cell_type": "markdown",
   "metadata": {},
   "source": [
    "**ВЫВОДЫ**<br>\n",
    "Абсолютно очевидно, что цена квартиры прямо пропорциональна ее площади. Она также напрямую зависит от жилой площади и площади кухни. Число комнат играет не последнюю роль в формировании цены как и высота потолков. В центральной части Петербурга не так важна удаленность от центра, как например этаж, на котором находится квартира (по прежнему первый этаж проигрывает остальным по средней цене квартиры).\n",
    "\n"
   ]
  },
  {
   "cell_type": "markdown",
   "metadata": {},
   "source": [
    "### Сравнение параметров Петербург + область, Петербург, центр Петербурга"
   ]
  },
  {
   "cell_type": "markdown",
   "metadata": {},
   "source": [
    "Сравним параметры указанные при размещении объявления датафреймов `good_mean_df` - данные по Петербургу и области, `df_spb` - данные по Петербургу, `df_spb_center` - данные по центру Петербурга. <br>\n",
    "Для этого, для наглядности, будем размещать соответствующие им гистограммы по каждому параметру в одной системе координат"
   ]
  },
  {
   "cell_type": "markdown",
   "metadata": {},
   "source": [
    "#### Сравнение количества дней продажи квартиры по Петербургу и области, по Петербургу, по центру Петербурга"
   ]
  },
  {
   "cell_type": "code",
   "execution_count": null,
   "metadata": {},
   "outputs": [],
   "source": [
    "ax = plt.gca()\n",
    "good_mean_df['total_days_expo'].plot(kind='hist', bins=70, figsize=(18,7), ec='black', ax=ax, color='lavender', xlim=(0,400))\n",
    "df_spb['total_days_expo'].plot(kind='hist', bins=70, figsize=(18,7), ec='black', ax=ax, color='skyblue', xlim=(0,400))\n",
    "df_spb_center['total_days_expo'].plot(kind='hist', bins=70, figsize=(18,7), ec='black', ax=ax, color='lightslategrey', xlim=(0,500))\n",
    "plt.legend(['СПб+ЛО', 'СПб', 'Центр СПб'])\n",
    "plt.show()"
   ]
  },
  {
   "cell_type": "markdown",
   "metadata": {},
   "source": [
    "Вцелом видим на диаграмме похожую картину по трем датафреймам. Увеличим масшаб, сделав выборку по количеству дней от 0 до 180."
   ]
  },
  {
   "cell_type": "code",
   "execution_count": null,
   "metadata": {},
   "outputs": [],
   "source": [
    "ax = plt.gca()\n",
    "good_mean_df['total_days_expo'].plot(kind='hist', bins=70, figsize=(18,7), ec='black', ax=ax, color='lavender', xlim=(0,180))\n",
    "df_spb['total_days_expo'].plot(kind='hist', bins=70, figsize=(18,7), ec='black', ax=ax, color='skyblue', xlim=(0,180))\n",
    "df_spb_center['total_days_expo'].plot(kind='hist', bins=70, figsize=(18,7), ec='black', ax=ax, color='lightslategrey', xlim=(0,180))\n",
    "plt.legend(['СПб+ЛО', 'СПб', 'Центр СПб'])\n",
    "plt.show()"
   ]
  },
  {
   "cell_type": "markdown",
   "metadata": {},
   "source": [
    "Теперь можем рассмотреть детально. Во всех тред диаграммах (будем считать как в легенде Д1 - Санкт-Петербург и область, Д2 - Санкт-Петербург, Д3 - центр Санкт-Петербурга) пик продаж приходится на первые 10 дней, хотя заметим, что в Д3 есть пик и 90-100 дней. Далее в промежутке 10-32 дней везде спад. Далее 20-30 дней везде спад кроме Д1. Далее изменение количества продаж, относительно предыдущих временных промежутков приблизительно аналогичны у всех трех датафреймов. Но Д1 быстрее убывает (из-за большего количества строк), Д2 медленнее, Д3 - еще медленнее и значения становятся почти одинаковыми.В промежутке 90-100 дней у всех отмечается пик, у Д3 практически \"догоняет\" показатели первых 10 дней."
   ]
  },
  {
   "cell_type": "markdown",
   "metadata": {},
   "source": [
    "####  Сравнение средней цены в зависимости от этажа (первый, последний, другой) в Петербурге + область и в центре Петербурга"
   ]
  },
  {
   "cell_type": "code",
   "execution_count": null,
   "metadata": {},
   "outputs": [],
   "source": [
    "cat_p = df_spb_center.groupby('floor_cat')['price'].mean()\n",
    "cat_s = good_mean_df.groupby('floor_cat')['price'].mean()\n",
    "fig, ax = plt.subplots(1, 1, figsize=(15,6))\n",
    "ax.bar(cat_p.index, cat_p[:3], color=\"c\", alpha=0.5, ec='black')\n",
    "ax.bar(cat_s.index, cat_s[:3], color=\"grey\", alpha=0.5, ec='black')\n",
    "plt.xlabel('Этаж', fontsize=12)\n",
    "plt.ylabel(\"Средняя цена квартиры\", fontsize=12)\n",
    "plt.legend(['Центр СПб', 'СПб+Ло'])\n",
    "plt.show()"
   ]
  },
  {
   "cell_type": "markdown",
   "metadata": {},
   "source": [
    "Во-первых мы видим существенную разницу (\"другой\" и \"последний\" почти в два раза) между средней ценой квартир на первом, последнем и другом этажах по центру Петербурга и по всему Петербургу+область. Вполне очевидно! Во-вторых в центре Петербурга средняя цена на квартиры на последнем этаже и не на первом практически одинаковые. Далее заметим, что в центре города средняя цена на \"первый\" этаж почти вдвое уступет средней на \"другой\" и \"последний\" этажи. В отличае от средней цены по всему городу и области, на \"первый\" этаж она меньше, но разница между \"первым\" и \"другим\", \"первым\" и \"последним\" уже не такая существенная"
   ]
  },
  {
   "cell_type": "code",
   "execution_count": null,
   "metadata": {},
   "outputs": [],
   "source": [
    "print('Средняя цена квартиры по области и всему Петербургу:', round(good_mean_df['price'].mean(), 2))\n",
    "print('Средняя цена квартиры по центру Петербурга:', round(df_spb_center['price'].mean(), 2))"
   ]
  },
  {
   "cell_type": "markdown",
   "metadata": {},
   "source": [
    "Естественно в центре средняя выше, и почти в два раза выше!"
   ]
  },
  {
   "cell_type": "markdown",
   "metadata": {},
   "source": [
    "#### Сравнение зависимости цены от числа комнат, удаленности от центра в центре Петербурга и в Петербурге +  область"
   ]
  },
  {
   "cell_type": "markdown",
   "metadata": {},
   "source": [
    "Создадим функцию для сравнения корреляций между исследуемыми параметрами (число комнат, удаленность от центра, дата размещения объявления) и ценой в центре Петербурга и в Петерербурге + область"
   ]
  },
  {
   "cell_type": "code",
   "execution_count": null,
   "metadata": {
    "scrolled": false
   },
   "outputs": [],
   "source": [
    "def corr_spb_and_all(column, x, y, a, b, c, d):\n",
    "    color_list = ['tan', 'seagreen', 'lightseagreen', 'plum', 'lightcoral', 'tomato', 'c', 'lightslategrey', 'slateblue']\n",
    "    color_option = random.choice(color_list)\n",
    "    plt.show()\n",
    "    print('Корелляция между ценой и',column , round(df_spb_center['price'].corr(df_spb_center[column]), 4), 'в центре Петербурга')\n",
    "    df_spb_center.plot(x=column, y='price', kind='scatter', grid=True, figsize=(x,y), color=color_option, xlim=(a,b), alpha=0.6);\n",
    "    plt.show()\n",
    "    print('Корелляция между ценой и',column , round(good_mean_df['price'].corr(good_mean_df[column]), 4), 'в Петербурге и области')\n",
    "    good_mean_df.plot(x=column, y='price', kind='scatter', grid=True, figsize=(x,y), color=color_option, xlim=(c,d),  alpha=0.6);"
   ]
  },
  {
   "cell_type": "markdown",
   "metadata": {},
   "source": [
    "**Корреляция между ценой и  количеством комнат**"
   ]
  },
  {
   "cell_type": "code",
   "execution_count": null,
   "metadata": {},
   "outputs": [],
   "source": [
    "corr_spb_and_all('rooms', 18, 6, -1, 20, -1, 20)"
   ]
  },
  {
   "cell_type": "markdown",
   "metadata": {},
   "source": [
    "Заметим незначительную практически идентичную корреляцию в центре города и по области вцелом. Видим что до 5 комнат включительно цена возрастает особенно на рынке недвижимости элитного жилья, а для квартир стоимостью до 20 млн. определяющим факторм является скорее общая площадь, чем количество комнат. Заметим также, что как только количество квартир становится больше 6, нижняя граница ценового диапазона становится равной 10 млн."
   ]
  },
  {
   "cell_type": "markdown",
   "metadata": {},
   "source": [
    "**Корреляция между ценой и удаленностью от центра**"
   ]
  },
  {
   "cell_type": "code",
   "execution_count": null,
   "metadata": {},
   "outputs": [],
   "source": [
    "corr_spb_and_all('to_center', 18, 6, 0, 6000, 0, 50000)"
   ]
  },
  {
   "cell_type": "markdown",
   "metadata": {},
   "source": [
    "Замечаем, что в центре Петербурга корреляции между удаленность от центра и ценой нет, чего не сказать об аналогичной зависимости по области. Самые дорогие квартиры сконцентрированы в центре, в районе 10-15 км от центра замечаем еще несколько объявлений о продаже премиум жилья, предположительно какой-то очередной элитный жилой комплекс. А далее цена идет на спад с незначительными скачками в районе 25-29 км."
   ]
  },
  {
   "cell_type": "markdown",
   "metadata": {},
   "source": [
    "**ВЫВОД** <br>\n",
    "Мы сравнили параметры влияющие на стоимость квартиры среди объявлений по центру Петербурга и по всему Петербургу + область. \n",
    "\n",
    "Общее:\n",
    "* В первые 10 дней с момента подачи объявления совершается больше сделок чем в последующие. \n",
    "* Наименьшую среднюю стоимость имеют квартиры расположенные на первом этаже (они же наименее популярные среди покупателей). Более популярные квартиры расположенные на последнем и других этажах.\n",
    "* Цена не зависит от дня и месяца и года публикации. Однако между 2014 и 2015 годами был скачок цен, по известным причинам.  \n",
    "* Небольшая корреляция между ценой и количеством комнат есть, в целом аналогичная для двух рассматриваемых выборок, до 5 комнат цены, особенно в сегменте элитной недвижимости, растут. Начиная от 6 комнат нижняя граница цены 10 млн и далее с увеличением числа комнат до 9 сдвигается вверх и нижняя граница цены. \n",
    "\n",
    "Различия:\n",
    "* В центре Петербурга более плавный спад по количеству продаж по дням и после 100 дней, прошедших с момента подачи объявления, количество закрытых объявлений по дням практически одинаковое. А по всему Петербургу и области подобное \"выравнивание\" замечаем только на рубеже 400 дней.\n",
    "* Разница между средней ценой квартиры на первом и на других этажах в центре намного больше чем во всем городе и области.\n",
    "* Средняя цена квартиры в центре почти в два раза больше аналогичной цены по области и всему городу.\n",
    "* В центре петербурга (радиус 6 км) цена квартиры не коррелирует с удаленностью от центра, она всегда стабильно выше средней цены по городу и области. По всему Петербургу и области можем наблюдать, как цена снижается сначала на подходе к 10 км, далее к 20 км. "
   ]
  },
  {
   "cell_type": "markdown",
   "metadata": {},
   "source": [
    "## Общий вывод"
   ]
  },
  {
   "cell_type": "markdown",
   "metadata": {},
   "source": [
    "В нашем распоряжении был датасет `real_estate_data.csv` сервиса Яндекc Недвижимость, который содержал данные объявлений о продаже квартир в Санкт-Петербурге и соседних населённых пунктах за несколько лет. По каждой объявлению были доступны два вида данных - заполненные пользователем и заполненные автоматически. \n",
    "\n",
    "**Цель исследования** была в том, чтобы установить и описать параметры (удаленность от центра, этаж, количество комнат и пр.) влияющие на стоимость квартиры. Изучение указанных параметров представляет практический интерес для процесса автоматизации определения стоимости недвижимости, а также поможет выявлять аномалии и мошенническую деятельность в объявлениях с недвижимостью.\n",
    "\n",
    "**Исследование провели в 4 этапа:**\n",
    "1. Обзор данных\n",
    "2. Предобработка данных\n",
    "3. Исследовательский анализ данных\n",
    "4. Результаты исследования и рекомендации по практическому применению\n",
    "\n",
    "**1. Обзор данных**<br>\n",
    "На этом этапе провели первичное ознакомление с данными. В процессе ознакомления заметили, что в данных есть большое количество пропусков, точнее в 13 столбцах из 22. Также были выявлены некоторые аномалии и неявные дубликаты (минимальная жилая площадь 2 кв. м, 60 этажей в доме, 100 м потолки и пр.)\n",
    "\n",
    "**2. Предобработка данных**<br>\n",
    "Для удобства работы переименовали столбцы, \"подправили\" формат даты публикации объявления. Далее, так как в обзоре данных было выявлено большое количество пропусков и аномалий, то в предобработке данных этим двум пунктам уделили особое внимание и сделали все возможное для заполнения пропусков и исправления аномалий в большей части столбцов. \n",
    "\n",
    "**Пропуски:**\n",
    "\n",
    "Во всем датафрейме 98.95% строк с пропуском хотя бы по одному столбцу. Наибольший процент пропусков был в столбце 'apartments' - 88%, наибольший процент среди столбцов, значения которых были значимыми для исследования, был в 'ceilings' и 'to_center' 39% и 23% соответственно. Проделали большую работу по замене пропусков на подходящие значения в столбцах 'locality_name', 'floors_total', 'to_center', 'to_airports', 'balcony', 'living_area', 'kitchen_area', 'parks_around_3km', 'ponds_around_3km', 'apartment'. \n",
    "\n",
    "**Изменение типов данных**\n",
    "\n",
    "В столбце 'apartment' привели данные к типу bool. В столбцах 'price', 'floors_total', 'balcony', 'parks_around_3km', 'ponds_around_3km', 'total_days_expo' поменяем тип на int64 (в Int64). \n",
    "\n",
    "**Аномальные значения**\n",
    "\n",
    "Исходный датафрейм, наряду с пропусками, также содержал большое количество аномальных значений в столбцах 'rooms', 'ceilings', 'total_area', 'living_area', 'total_days_expo', 'floors_total'. Аномалии исправили/удалили. \n",
    "\n",
    "**Расчет и добавление результатов в таблицу**<br>\n",
    "\n",
    "Для выполнения поставленной цели исследования добавили к обработанному датафрему столбцы: 'price_m^2' - цена квадратного метра; 'day_week_pub' - день публикации; 'month_pub' - месяц публикации; 'year_pub' - год публикации; 'floor_cat' - категория этажа (первый, последний, другой).\n",
    "\n",
    "**3. Исследовательский анализ данных**<br>\n",
    "\n",
    "EDA начали с рассмотрения таких параметров как **площадь, цена, число комнат, высота потолков.**\n",
    "* Наибольшее число объявлений - квартиры с площадью около 45 м кв стоимостью до 7 млн (больше частью 1 и 2 комнатные). Популярность можно объяснить хорошим соотношением цена/метраж. \n",
    "* В ценовом диапазоне 4.5 - 5 млн. находятся наиболее часто встречающаяся объявления (примерно 22% от всего числа строк предобработанной таблицы). Элитное жильё составляет всего 1%.\n",
    "* По числу комнат однокомнатные вместе с двухкомнатными составляют почти 2/3 от числа всех объявлений. \n",
    "* Среднее оно же медианное значение высоты потолков 2.7 м и большинство значений до 3 м. \n",
    "* Чаще остальных закрываются объявления спустя неделю. Необыкновенно быстро проданными решили считать квартиры, объявления по которым были закрыты в течении первой недели. Долго продаваемыми - более 200 дней. Среднее время продажи - 159 дней, медиана - 101.\n",
    "\n",
    "**Редкие и выбивающиеся значения**\n",
    "\n",
    "Повторно проверили столбцы 'total_area', 'price' и 'total_days_expo' на предмет редких значений и выбросов. Обработали, создали датафрейм good_mean_df, который использовали далее.\n",
    "\n",
    "**Факторы оказывающие наибольшее влияние на стоимость квартиры**\n",
    "\n",
    "В ходе исследования выяснили что наибольшее влияние на стоимость квартиры оказывают:\n",
    "* Площади квартиры. Цена прямо пропорциональна площади (вполне логично)\n",
    "* Количество комнат. Цена прямо пропорциональна количеству комнат (наиболее заметно для квартир с 0 -5 комнатами). Для квартир с числом комнат больше 6 имеем скачек в нижней границе цены.\n",
    "* Категория этажа (первый, последний, другой). Квартиры на первом этаже имеют стоимость ниже, аналогичных расположенных на последнем и других этажах.\n",
    "* Удаленность от центра. Корреляция между ценой квартиры и ее удаленностью от центра - отрицательная, а значит зависимость обратно пропорциональная (чем дальше тем меньше). Выражена она не так сильно как две предыдущие. Хорошо заметна зависимость в диапазоне от 7 км до 18 км.\n",
    "* Зависимости между днем недели, месяцем или годом и стоимостью квартиры нет.\n",
    "\n",
    "**Исследование 10 населенных пунктов с наибольшим числом объявлений**<br>\n",
    "* Рассмотрели топ-10 по количеству объявлений населенных пунктов Ленобласти. В топ-10 попали Санкт-Петербург, поселок Мурино, поселок Шушары, Всеволожск, Пушкин, Колпино, поселок Парголово, Гатчина, деревня Кудрово, Выборг. \n",
    "* Вычислили среднее значения стоимости квадратного метра по каждому населенному пункту из топ-10.  Наибольшая средняя цена квартиры в Петербурге. На втором месте Пушкин, далее поселок Парголово и далее близкие значения у остальных. Наименьшая в Выборге. \n",
    "* По средней цене квадратного метра результаты первой тройки и последнего места аналогичные.\n",
    "\n",
    "**Определение центральной части Санкт-Петербурга**<br>\n",
    "* Создали датафрейм df_spb, как срез исходного df_realty со значениями 'Санкт-Петербург' в 'locality_name'. \n",
    "* Добавили в него столбец с целочисленными значениями в км расстояний до центра Петербурга.\n",
    "* Нашли средние и медианные значения по каждому километру. \n",
    "* По столбчатой диаграмме (зависимость цены от целочисленного расстояния до центра) определили центр города в радиусе 6 км.\n",
    "\n",
    "**Анализ сегмента квартир в центре Петербурга**<br>\n",
    "Рассмотрели следующие параметры для объявлений о продаже квартир в центре Петербурга: \n",
    "* Площадь квартиры. Чаще остальных встречаются квартиры от 43 кв. м до 110 кв. м.\n",
    "* Цена квартиры. Чаще других в центре Петербурга продают и покупают квартиры по цене от 6.5 до 12 млн. Но и самые дорогие квартиры именно в центре.\n",
    "* Количество комнат. В центре Петербурга объявление о продаже многокомнатных (больше 1) встречаются чаще остальных, самые популярные двух и трехкомнатные. Существенная часть объявлений с количеством комнат 4 - 6.\n",
    "* Высота потолков. Средним значением высоты потолков стало 3.0 м.\n",
    "\n",
    "**Наибольшее влияние на стоимость квартиры в центре Петербурга оказывает** естественно, площадь квартиры, жилая и площадь кухни. Не в последнюю очередь имеют значения число комнат и высота потолков. Удаленность от центра уже такой роли не играет. Корреляции между удаленностью от центра и ценой в данном сегменте нет. \n",
    "\n",
    "**Сравнение параметров Петербург + область, Петербург, центр Петербурга**<br>\n",
    "Сравнили параметры, оказывающие влияние на стоимость квартиры по центру Петербурга со всем городом и Ленобластью. \n",
    "* Количество дней продажи сравнили во всех трех датафреймах (центр петербурга, Петербург, Петербург + область). Во всех трех выборках пик продаж приходится на первые 10 дней, а в выборке по центру Петербурга еще есть пик и 90-100 дней. Далее в промежутке 10-32 дней везде спад. \n",
    "* По категории этажей в центре Петербурга и во всем городе и области результаты одинаковые. Первый этаж имеет наименьшую среднюю стоимость. Но! В Центре разница в средней цене между первым этажом и остальными двумя категориями (последний, другие) выражена намного сильнее, чем по всему городу и области. \n",
    "* Средняя цена за квартиру почти в два раза выше в центре города чем по области и всему городу вместе.\n",
    "* Зависимость цены от количества комнат практически одинаковая у данных выборок.\n",
    "* Корреляция между ценой и удаленностью от центра в центре Петербурга отсутствует, чего не скажешь о всей области (включая Петербург). Тут естественно чем больше расстояние от центра тем меньше цена. Особенно хорошо это заметно в диапазоне до 10 км. (как раз вышли из центра и началось убывание цены).\n",
    "\n",
    "**Практическое применение** <br>\n",
    "Руководствуясь полученными результатами исследования, используя рассмотренные параметры и их влияние на стоимость квартиры, часто/редко встречающиеся значения и их взаимосвязь, можно обучив систему, автоматизировать процесс поиска аномальных данных в объявлениях о продаже недвижимости, и вместе с тем, выявлять мошенническую деятельность.\n",
    "\n",
    "\n"
   ]
  }
 ],
 "metadata": {
  "ExecuteTimeLog": [
   {
    "duration": 397,
    "start_time": "2022-04-30T14:23:24.132Z"
   },
   {
    "duration": 85,
    "start_time": "2022-04-30T14:23:48.868Z"
   },
   {
    "duration": 86,
    "start_time": "2022-04-30T14:27:04.982Z"
   },
   {
    "duration": 76,
    "start_time": "2022-04-30T14:27:15.055Z"
   },
   {
    "duration": 83,
    "start_time": "2022-04-30T14:27:23.891Z"
   },
   {
    "duration": 148,
    "start_time": "2022-04-30T14:27:55.814Z"
   },
   {
    "duration": 107,
    "start_time": "2022-04-30T14:29:18.030Z"
   },
   {
    "duration": 88,
    "start_time": "2022-04-30T14:38:42.133Z"
   },
   {
    "duration": 77,
    "start_time": "2022-04-30T18:50:37.186Z"
   },
   {
    "duration": 77,
    "start_time": "2022-04-30T18:51:01.303Z"
   },
   {
    "duration": 112,
    "start_time": "2022-05-01T07:02:02.055Z"
   },
   {
    "duration": 525,
    "start_time": "2022-05-01T07:02:10.156Z"
   },
   {
    "duration": 42,
    "start_time": "2022-05-01T07:02:12.167Z"
   },
   {
    "duration": 14,
    "start_time": "2022-05-16T19:11:19.809Z"
   },
   {
    "duration": 68,
    "start_time": "2022-05-16T19:11:30.680Z"
   },
   {
    "duration": 1787,
    "start_time": "2022-05-16T19:22:07.761Z"
   },
   {
    "duration": 219,
    "start_time": "2022-05-16T19:22:09.551Z"
   },
   {
    "duration": 1,
    "start_time": "2022-05-16T19:22:09.775Z"
   },
   {
    "duration": 0,
    "start_time": "2022-05-16T19:22:09.777Z"
   },
   {
    "duration": 0,
    "start_time": "2022-05-16T19:22:09.779Z"
   },
   {
    "duration": 0,
    "start_time": "2022-05-16T19:22:09.781Z"
   },
   {
    "duration": 0,
    "start_time": "2022-05-16T19:22:09.782Z"
   },
   {
    "duration": 0,
    "start_time": "2022-05-16T19:22:09.784Z"
   },
   {
    "duration": 0,
    "start_time": "2022-05-16T19:22:09.786Z"
   },
   {
    "duration": 0,
    "start_time": "2022-05-16T19:22:09.788Z"
   },
   {
    "duration": 0,
    "start_time": "2022-05-16T19:22:09.790Z"
   },
   {
    "duration": 0,
    "start_time": "2022-05-16T19:22:09.791Z"
   },
   {
    "duration": 0,
    "start_time": "2022-05-16T19:22:09.793Z"
   },
   {
    "duration": 0,
    "start_time": "2022-05-16T19:22:09.825Z"
   },
   {
    "duration": 0,
    "start_time": "2022-05-16T19:22:09.827Z"
   },
   {
    "duration": 0,
    "start_time": "2022-05-16T19:22:09.828Z"
   },
   {
    "duration": 0,
    "start_time": "2022-05-16T19:22:09.829Z"
   },
   {
    "duration": 0,
    "start_time": "2022-05-16T19:22:09.831Z"
   },
   {
    "duration": 0,
    "start_time": "2022-05-16T19:22:09.833Z"
   },
   {
    "duration": 0,
    "start_time": "2022-05-16T19:22:09.835Z"
   },
   {
    "duration": 0,
    "start_time": "2022-05-16T19:22:09.836Z"
   },
   {
    "duration": 0,
    "start_time": "2022-05-16T19:22:09.838Z"
   },
   {
    "duration": 0,
    "start_time": "2022-05-16T19:22:09.839Z"
   },
   {
    "duration": 0,
    "start_time": "2022-05-16T19:22:09.841Z"
   },
   {
    "duration": 0,
    "start_time": "2022-05-16T19:22:09.843Z"
   },
   {
    "duration": 0,
    "start_time": "2022-05-16T19:22:09.845Z"
   },
   {
    "duration": 0,
    "start_time": "2022-05-16T19:22:09.847Z"
   },
   {
    "duration": 0,
    "start_time": "2022-05-16T19:22:09.848Z"
   },
   {
    "duration": 0,
    "start_time": "2022-05-16T19:22:09.850Z"
   },
   {
    "duration": 0,
    "start_time": "2022-05-16T19:22:09.851Z"
   },
   {
    "duration": 0,
    "start_time": "2022-05-16T19:22:09.853Z"
   },
   {
    "duration": 0,
    "start_time": "2022-05-16T19:22:09.855Z"
   },
   {
    "duration": 0,
    "start_time": "2022-05-16T19:22:09.857Z"
   },
   {
    "duration": 0,
    "start_time": "2022-05-16T19:22:09.859Z"
   },
   {
    "duration": 0,
    "start_time": "2022-05-16T19:22:09.924Z"
   },
   {
    "duration": 0,
    "start_time": "2022-05-16T19:22:09.926Z"
   },
   {
    "duration": 0,
    "start_time": "2022-05-16T19:22:09.927Z"
   },
   {
    "duration": 0,
    "start_time": "2022-05-16T19:22:09.929Z"
   },
   {
    "duration": 0,
    "start_time": "2022-05-16T19:22:09.930Z"
   },
   {
    "duration": 0,
    "start_time": "2022-05-16T19:22:09.932Z"
   },
   {
    "duration": 0,
    "start_time": "2022-05-16T19:22:09.934Z"
   },
   {
    "duration": 0,
    "start_time": "2022-05-16T19:22:09.935Z"
   },
   {
    "duration": 0,
    "start_time": "2022-05-16T19:22:09.938Z"
   },
   {
    "duration": 0,
    "start_time": "2022-05-16T19:22:09.939Z"
   },
   {
    "duration": 0,
    "start_time": "2022-05-16T19:22:09.940Z"
   },
   {
    "duration": 0,
    "start_time": "2022-05-16T19:22:09.942Z"
   },
   {
    "duration": 0,
    "start_time": "2022-05-16T19:22:09.944Z"
   },
   {
    "duration": 0,
    "start_time": "2022-05-16T19:22:09.945Z"
   },
   {
    "duration": 0,
    "start_time": "2022-05-16T19:22:09.947Z"
   },
   {
    "duration": 0,
    "start_time": "2022-05-16T19:22:09.949Z"
   },
   {
    "duration": 0,
    "start_time": "2022-05-16T19:22:09.951Z"
   },
   {
    "duration": 0,
    "start_time": "2022-05-16T19:22:09.952Z"
   },
   {
    "duration": 0,
    "start_time": "2022-05-16T19:22:09.954Z"
   },
   {
    "duration": 0,
    "start_time": "2022-05-16T19:22:09.955Z"
   },
   {
    "duration": 0,
    "start_time": "2022-05-16T19:22:09.957Z"
   },
   {
    "duration": 0,
    "start_time": "2022-05-16T19:22:09.959Z"
   },
   {
    "duration": 0,
    "start_time": "2022-05-16T19:22:09.960Z"
   },
   {
    "duration": 0,
    "start_time": "2022-05-16T19:22:09.962Z"
   },
   {
    "duration": 0,
    "start_time": "2022-05-16T19:22:10.024Z"
   },
   {
    "duration": 0,
    "start_time": "2022-05-16T19:22:10.026Z"
   },
   {
    "duration": 0,
    "start_time": "2022-05-16T19:22:10.028Z"
   },
   {
    "duration": 0,
    "start_time": "2022-05-16T19:22:10.029Z"
   },
   {
    "duration": 0,
    "start_time": "2022-05-16T19:22:10.031Z"
   },
   {
    "duration": 12,
    "start_time": "2022-05-16T19:22:18.602Z"
   },
   {
    "duration": 136,
    "start_time": "2022-05-16T19:26:16.636Z"
   },
   {
    "duration": 6,
    "start_time": "2022-05-16T19:27:18.316Z"
   },
   {
    "duration": 124,
    "start_time": "2022-05-16T19:27:20.336Z"
   },
   {
    "duration": 118,
    "start_time": "2022-05-16T19:27:56.137Z"
   },
   {
    "duration": 102,
    "start_time": "2022-05-16T19:28:06.664Z"
   },
   {
    "duration": 127,
    "start_time": "2022-05-16T19:29:47.006Z"
   },
   {
    "duration": 1529,
    "start_time": "2022-05-16T19:34:24.760Z"
   },
   {
    "duration": 142,
    "start_time": "2022-05-16T19:34:26.292Z"
   },
   {
    "duration": 214,
    "start_time": "2022-05-16T19:34:26.436Z"
   },
   {
    "duration": 0,
    "start_time": "2022-05-16T19:34:26.656Z"
   },
   {
    "duration": 0,
    "start_time": "2022-05-16T19:34:26.657Z"
   },
   {
    "duration": 0,
    "start_time": "2022-05-16T19:34:26.659Z"
   },
   {
    "duration": 0,
    "start_time": "2022-05-16T19:34:26.661Z"
   },
   {
    "duration": 0,
    "start_time": "2022-05-16T19:34:26.662Z"
   },
   {
    "duration": 0,
    "start_time": "2022-05-16T19:34:26.664Z"
   },
   {
    "duration": 0,
    "start_time": "2022-05-16T19:34:26.666Z"
   },
   {
    "duration": 0,
    "start_time": "2022-05-16T19:34:26.667Z"
   },
   {
    "duration": 0,
    "start_time": "2022-05-16T19:34:26.669Z"
   },
   {
    "duration": 0,
    "start_time": "2022-05-16T19:34:26.670Z"
   },
   {
    "duration": 0,
    "start_time": "2022-05-16T19:34:26.673Z"
   },
   {
    "duration": 0,
    "start_time": "2022-05-16T19:34:26.674Z"
   },
   {
    "duration": 0,
    "start_time": "2022-05-16T19:34:26.676Z"
   },
   {
    "duration": 0,
    "start_time": "2022-05-16T19:34:26.677Z"
   },
   {
    "duration": 0,
    "start_time": "2022-05-16T19:34:26.679Z"
   },
   {
    "duration": 0,
    "start_time": "2022-05-16T19:34:26.724Z"
   },
   {
    "duration": 0,
    "start_time": "2022-05-16T19:34:26.726Z"
   },
   {
    "duration": 0,
    "start_time": "2022-05-16T19:34:26.727Z"
   },
   {
    "duration": 0,
    "start_time": "2022-05-16T19:34:26.729Z"
   },
   {
    "duration": 0,
    "start_time": "2022-05-16T19:34:26.730Z"
   },
   {
    "duration": 0,
    "start_time": "2022-05-16T19:34:26.732Z"
   },
   {
    "duration": 0,
    "start_time": "2022-05-16T19:34:26.733Z"
   },
   {
    "duration": 0,
    "start_time": "2022-05-16T19:34:26.735Z"
   },
   {
    "duration": 0,
    "start_time": "2022-05-16T19:34:26.736Z"
   },
   {
    "duration": 0,
    "start_time": "2022-05-16T19:34:26.737Z"
   },
   {
    "duration": 0,
    "start_time": "2022-05-16T19:34:26.739Z"
   },
   {
    "duration": 0,
    "start_time": "2022-05-16T19:34:26.740Z"
   },
   {
    "duration": 0,
    "start_time": "2022-05-16T19:34:26.742Z"
   },
   {
    "duration": 0,
    "start_time": "2022-05-16T19:34:26.743Z"
   },
   {
    "duration": 0,
    "start_time": "2022-05-16T19:34:26.745Z"
   },
   {
    "duration": 0,
    "start_time": "2022-05-16T19:34:26.747Z"
   },
   {
    "duration": 0,
    "start_time": "2022-05-16T19:34:26.748Z"
   },
   {
    "duration": 0,
    "start_time": "2022-05-16T19:34:26.749Z"
   },
   {
    "duration": 0,
    "start_time": "2022-05-16T19:34:26.751Z"
   },
   {
    "duration": 0,
    "start_time": "2022-05-16T19:34:26.753Z"
   },
   {
    "duration": 0,
    "start_time": "2022-05-16T19:34:26.754Z"
   },
   {
    "duration": 0,
    "start_time": "2022-05-16T19:34:26.755Z"
   },
   {
    "duration": 0,
    "start_time": "2022-05-16T19:34:26.757Z"
   },
   {
    "duration": 0,
    "start_time": "2022-05-16T19:34:26.758Z"
   },
   {
    "duration": 0,
    "start_time": "2022-05-16T19:34:26.760Z"
   },
   {
    "duration": 0,
    "start_time": "2022-05-16T19:34:26.761Z"
   },
   {
    "duration": 0,
    "start_time": "2022-05-16T19:34:26.828Z"
   },
   {
    "duration": 0,
    "start_time": "2022-05-16T19:34:26.829Z"
   },
   {
    "duration": 0,
    "start_time": "2022-05-16T19:34:26.831Z"
   },
   {
    "duration": 0,
    "start_time": "2022-05-16T19:34:26.832Z"
   },
   {
    "duration": 0,
    "start_time": "2022-05-16T19:34:26.834Z"
   },
   {
    "duration": 0,
    "start_time": "2022-05-16T19:34:26.835Z"
   },
   {
    "duration": 0,
    "start_time": "2022-05-16T19:34:26.837Z"
   },
   {
    "duration": 0,
    "start_time": "2022-05-16T19:34:26.838Z"
   },
   {
    "duration": 0,
    "start_time": "2022-05-16T19:34:26.840Z"
   },
   {
    "duration": 0,
    "start_time": "2022-05-16T19:34:26.841Z"
   },
   {
    "duration": 0,
    "start_time": "2022-05-16T19:34:26.843Z"
   },
   {
    "duration": 0,
    "start_time": "2022-05-16T19:34:26.845Z"
   },
   {
    "duration": 0,
    "start_time": "2022-05-16T19:34:26.846Z"
   },
   {
    "duration": 0,
    "start_time": "2022-05-16T19:34:26.848Z"
   },
   {
    "duration": 0,
    "start_time": "2022-05-16T19:34:26.849Z"
   },
   {
    "duration": 0,
    "start_time": "2022-05-16T19:34:26.851Z"
   },
   {
    "duration": 0,
    "start_time": "2022-05-16T19:34:26.852Z"
   },
   {
    "duration": 0,
    "start_time": "2022-05-16T19:34:26.854Z"
   },
   {
    "duration": 0,
    "start_time": "2022-05-16T19:34:26.855Z"
   },
   {
    "duration": 0,
    "start_time": "2022-05-16T19:34:26.856Z"
   },
   {
    "duration": 0,
    "start_time": "2022-05-16T19:34:26.858Z"
   },
   {
    "duration": 5,
    "start_time": "2022-05-16T19:34:34.602Z"
   },
   {
    "duration": 164,
    "start_time": "2022-05-16T19:35:49.602Z"
   },
   {
    "duration": 6,
    "start_time": "2022-05-16T19:36:08.812Z"
   },
   {
    "duration": 133,
    "start_time": "2022-05-16T19:36:08.824Z"
   },
   {
    "duration": 164,
    "start_time": "2022-05-16T19:36:08.960Z"
   },
   {
    "duration": 22,
    "start_time": "2022-05-16T19:36:09.127Z"
   },
   {
    "duration": 124,
    "start_time": "2022-05-16T19:36:09.152Z"
   },
   {
    "duration": 28,
    "start_time": "2022-05-16T19:36:09.279Z"
   },
   {
    "duration": 10,
    "start_time": "2022-05-16T19:36:09.325Z"
   },
   {
    "duration": 42,
    "start_time": "2022-05-16T19:36:09.337Z"
   },
   {
    "duration": 47,
    "start_time": "2022-05-16T19:36:09.381Z"
   },
   {
    "duration": 4,
    "start_time": "2022-05-16T19:36:09.430Z"
   },
   {
    "duration": 743,
    "start_time": "2022-05-16T19:36:09.438Z"
   },
   {
    "duration": 54,
    "start_time": "2022-05-16T19:36:10.183Z"
   },
   {
    "duration": 64,
    "start_time": "2022-05-16T19:36:10.240Z"
   },
   {
    "duration": 28,
    "start_time": "2022-05-16T19:36:10.306Z"
   },
   {
    "duration": 26,
    "start_time": "2022-05-16T19:36:10.337Z"
   },
   {
    "duration": 6,
    "start_time": "2022-05-16T19:36:10.366Z"
   },
   {
    "duration": 50,
    "start_time": "2022-05-16T19:36:10.374Z"
   },
   {
    "duration": 16,
    "start_time": "2022-05-16T19:36:10.427Z"
   },
   {
    "duration": 415,
    "start_time": "2022-05-16T19:36:10.445Z"
   },
   {
    "duration": 26,
    "start_time": "2022-05-16T19:36:10.862Z"
   },
   {
    "duration": 6,
    "start_time": "2022-05-16T19:36:10.890Z"
   },
   {
    "duration": 729,
    "start_time": "2022-05-16T19:36:10.898Z"
   },
   {
    "duration": 720,
    "start_time": "2022-05-16T19:36:11.630Z"
   },
   {
    "duration": 332,
    "start_time": "2022-05-16T19:36:12.353Z"
   },
   {
    "duration": 13,
    "start_time": "2022-05-16T19:36:12.688Z"
   },
   {
    "duration": 43,
    "start_time": "2022-05-16T19:36:12.704Z"
   },
   {
    "duration": 100,
    "start_time": "2022-05-16T19:36:12.750Z"
   },
   {
    "duration": 0,
    "start_time": "2022-05-16T19:36:12.855Z"
   },
   {
    "duration": 0,
    "start_time": "2022-05-16T19:36:12.856Z"
   },
   {
    "duration": 0,
    "start_time": "2022-05-16T19:36:12.858Z"
   },
   {
    "duration": 0,
    "start_time": "2022-05-16T19:36:12.860Z"
   },
   {
    "duration": 0,
    "start_time": "2022-05-16T19:36:12.861Z"
   },
   {
    "duration": 0,
    "start_time": "2022-05-16T19:36:12.863Z"
   },
   {
    "duration": 0,
    "start_time": "2022-05-16T19:36:12.865Z"
   },
   {
    "duration": 0,
    "start_time": "2022-05-16T19:36:12.867Z"
   },
   {
    "duration": 0,
    "start_time": "2022-05-16T19:36:12.868Z"
   },
   {
    "duration": 0,
    "start_time": "2022-05-16T19:36:12.869Z"
   },
   {
    "duration": 0,
    "start_time": "2022-05-16T19:36:12.871Z"
   },
   {
    "duration": 0,
    "start_time": "2022-05-16T19:36:12.872Z"
   },
   {
    "duration": 0,
    "start_time": "2022-05-16T19:36:12.874Z"
   },
   {
    "duration": 0,
    "start_time": "2022-05-16T19:36:12.875Z"
   },
   {
    "duration": 0,
    "start_time": "2022-05-16T19:36:12.877Z"
   },
   {
    "duration": 0,
    "start_time": "2022-05-16T19:36:12.878Z"
   },
   {
    "duration": 0,
    "start_time": "2022-05-16T19:36:12.879Z"
   },
   {
    "duration": 0,
    "start_time": "2022-05-16T19:36:12.881Z"
   },
   {
    "duration": 0,
    "start_time": "2022-05-16T19:36:12.882Z"
   },
   {
    "duration": 0,
    "start_time": "2022-05-16T19:36:12.884Z"
   },
   {
    "duration": 0,
    "start_time": "2022-05-16T19:36:12.925Z"
   },
   {
    "duration": 0,
    "start_time": "2022-05-16T19:36:12.927Z"
   },
   {
    "duration": 0,
    "start_time": "2022-05-16T19:36:12.928Z"
   },
   {
    "duration": 0,
    "start_time": "2022-05-16T19:36:12.929Z"
   },
   {
    "duration": 0,
    "start_time": "2022-05-16T19:36:12.931Z"
   },
   {
    "duration": 0,
    "start_time": "2022-05-16T19:36:12.932Z"
   },
   {
    "duration": 0,
    "start_time": "2022-05-16T19:36:12.934Z"
   },
   {
    "duration": 0,
    "start_time": "2022-05-16T19:36:12.935Z"
   },
   {
    "duration": 0,
    "start_time": "2022-05-16T19:36:12.937Z"
   },
   {
    "duration": 0,
    "start_time": "2022-05-16T19:36:12.938Z"
   },
   {
    "duration": 0,
    "start_time": "2022-05-16T19:36:12.940Z"
   },
   {
    "duration": 0,
    "start_time": "2022-05-16T19:36:12.941Z"
   },
   {
    "duration": 0,
    "start_time": "2022-05-16T19:36:12.943Z"
   },
   {
    "duration": 0,
    "start_time": "2022-05-16T19:36:12.944Z"
   },
   {
    "duration": 0,
    "start_time": "2022-05-16T19:36:12.946Z"
   },
   {
    "duration": 0,
    "start_time": "2022-05-16T19:36:12.948Z"
   },
   {
    "duration": 0,
    "start_time": "2022-05-16T19:36:12.949Z"
   },
   {
    "duration": 0,
    "start_time": "2022-05-16T19:36:12.950Z"
   },
   {
    "duration": 3790,
    "start_time": "2022-05-16T20:17:15.310Z"
   },
   {
    "duration": 3864,
    "start_time": "2022-05-16T20:18:08.782Z"
   },
   {
    "duration": 73,
    "start_time": "2022-05-16T20:18:26.502Z"
   },
   {
    "duration": 3436,
    "start_time": "2022-05-16T20:18:39.243Z"
   },
   {
    "duration": 1471,
    "start_time": "2022-05-16T20:24:23.522Z"
   },
   {
    "duration": 863,
    "start_time": "2022-05-16T20:24:32.572Z"
   },
   {
    "duration": 1230,
    "start_time": "2022-05-16T20:39:54.901Z"
   },
   {
    "duration": 1151,
    "start_time": "2022-05-16T20:41:22.140Z"
   },
   {
    "duration": 1189,
    "start_time": "2022-05-16T20:42:21.279Z"
   },
   {
    "duration": 1004,
    "start_time": "2022-05-16T20:44:57.491Z"
   },
   {
    "duration": 1338,
    "start_time": "2022-05-16T20:45:33.102Z"
   },
   {
    "duration": 817,
    "start_time": "2022-05-16T20:45:46.221Z"
   },
   {
    "duration": 2345,
    "start_time": "2022-05-16T20:45:54.441Z"
   },
   {
    "duration": 964,
    "start_time": "2022-05-16T20:46:12.062Z"
   },
   {
    "duration": 26,
    "start_time": "2022-05-16T20:46:23.182Z"
   },
   {
    "duration": 28,
    "start_time": "2022-05-16T20:46:28.879Z"
   },
   {
    "duration": 4,
    "start_time": "2022-05-16T20:46:34.951Z"
   },
   {
    "duration": 4544,
    "start_time": "2022-05-16T20:46:39.331Z"
   },
   {
    "duration": 73,
    "start_time": "2022-05-16T20:46:48.172Z"
   },
   {
    "duration": 7,
    "start_time": "2022-05-16T20:46:51.301Z"
   },
   {
    "duration": 5,
    "start_time": "2022-05-16T20:46:54.990Z"
   },
   {
    "duration": 12,
    "start_time": "2022-05-16T20:47:00.288Z"
   },
   {
    "duration": 17,
    "start_time": "2022-05-16T20:47:59.909Z"
   },
   {
    "duration": 12,
    "start_time": "2022-05-16T20:48:02.168Z"
   },
   {
    "duration": 50,
    "start_time": "2022-05-17T04:36:28.002Z"
   },
   {
    "duration": 1492,
    "start_time": "2022-05-17T04:39:29.467Z"
   },
   {
    "duration": 118,
    "start_time": "2022-05-17T04:39:30.961Z"
   },
   {
    "duration": 164,
    "start_time": "2022-05-17T04:39:31.081Z"
   },
   {
    "duration": 15,
    "start_time": "2022-05-17T04:39:31.247Z"
   },
   {
    "duration": 79,
    "start_time": "2022-05-17T04:39:31.265Z"
   },
   {
    "duration": 26,
    "start_time": "2022-05-17T04:39:31.345Z"
   },
   {
    "duration": 7,
    "start_time": "2022-05-17T04:39:31.373Z"
   },
   {
    "duration": 50,
    "start_time": "2022-05-17T04:39:31.382Z"
   },
   {
    "duration": 15,
    "start_time": "2022-05-17T04:39:31.433Z"
   },
   {
    "duration": 3,
    "start_time": "2022-05-17T04:39:31.457Z"
   },
   {
    "duration": 469,
    "start_time": "2022-05-17T04:39:31.462Z"
   },
   {
    "duration": 40,
    "start_time": "2022-05-17T04:39:31.933Z"
   },
   {
    "duration": 49,
    "start_time": "2022-05-17T04:39:31.975Z"
   },
   {
    "duration": 10,
    "start_time": "2022-05-17T04:39:32.027Z"
   },
   {
    "duration": 24,
    "start_time": "2022-05-17T04:39:32.057Z"
   },
   {
    "duration": 5,
    "start_time": "2022-05-17T04:39:32.082Z"
   },
   {
    "duration": 20,
    "start_time": "2022-05-17T04:39:32.089Z"
   },
   {
    "duration": 13,
    "start_time": "2022-05-17T04:39:32.111Z"
   },
   {
    "duration": 272,
    "start_time": "2022-05-17T04:39:32.126Z"
   },
   {
    "duration": 24,
    "start_time": "2022-05-17T04:39:32.400Z"
   },
   {
    "duration": 4,
    "start_time": "2022-05-17T04:39:32.425Z"
   },
   {
    "duration": 464,
    "start_time": "2022-05-17T04:39:32.431Z"
   },
   {
    "duration": 485,
    "start_time": "2022-05-17T04:39:32.897Z"
   },
   {
    "duration": 201,
    "start_time": "2022-05-17T04:39:33.384Z"
   },
   {
    "duration": 8,
    "start_time": "2022-05-17T04:39:33.587Z"
   },
   {
    "duration": 21,
    "start_time": "2022-05-17T04:39:33.597Z"
   },
   {
    "duration": 1429,
    "start_time": "2022-05-17T04:39:33.620Z"
   },
   {
    "duration": 13,
    "start_time": "2022-05-17T04:39:35.051Z"
   },
   {
    "duration": 20,
    "start_time": "2022-05-17T04:39:35.066Z"
   },
   {
    "duration": 7,
    "start_time": "2022-05-17T04:39:35.088Z"
   },
   {
    "duration": 3601,
    "start_time": "2022-05-17T04:39:35.097Z"
   },
   {
    "duration": 49,
    "start_time": "2022-05-17T04:39:38.700Z"
   },
   {
    "duration": 5,
    "start_time": "2022-05-17T04:39:38.750Z"
   },
   {
    "duration": 24,
    "start_time": "2022-05-17T04:39:38.756Z"
   },
   {
    "duration": 8,
    "start_time": "2022-05-17T04:39:38.782Z"
   },
   {
    "duration": 1358,
    "start_time": "2022-05-17T05:31:38.086Z"
   },
   {
    "duration": 126,
    "start_time": "2022-05-17T05:31:39.446Z"
   },
   {
    "duration": 148,
    "start_time": "2022-05-17T05:31:39.574Z"
   },
   {
    "duration": 16,
    "start_time": "2022-05-17T05:31:39.724Z"
   },
   {
    "duration": 73,
    "start_time": "2022-05-17T05:31:39.757Z"
   },
   {
    "duration": 40,
    "start_time": "2022-05-17T05:31:39.831Z"
   },
   {
    "duration": 7,
    "start_time": "2022-05-17T05:31:39.873Z"
   },
   {
    "duration": 31,
    "start_time": "2022-05-17T05:31:39.882Z"
   },
   {
    "duration": 14,
    "start_time": "2022-05-17T05:31:39.915Z"
   },
   {
    "duration": 26,
    "start_time": "2022-05-17T05:31:39.932Z"
   },
   {
    "duration": 480,
    "start_time": "2022-05-17T05:31:39.960Z"
   },
   {
    "duration": 32,
    "start_time": "2022-05-17T05:31:40.442Z"
   },
   {
    "duration": 48,
    "start_time": "2022-05-17T05:31:40.476Z"
   },
   {
    "duration": 34,
    "start_time": "2022-05-17T05:31:40.526Z"
   },
   {
    "duration": 19,
    "start_time": "2022-05-17T05:31:40.562Z"
   },
   {
    "duration": 5,
    "start_time": "2022-05-17T05:31:40.583Z"
   },
   {
    "duration": 10,
    "start_time": "2022-05-17T05:31:40.590Z"
   },
   {
    "duration": 11,
    "start_time": "2022-05-17T05:31:40.601Z"
   },
   {
    "duration": 287,
    "start_time": "2022-05-17T05:31:40.613Z"
   },
   {
    "duration": 23,
    "start_time": "2022-05-17T05:31:40.902Z"
   },
   {
    "duration": 5,
    "start_time": "2022-05-17T05:31:40.927Z"
   },
   {
    "duration": 480,
    "start_time": "2022-05-17T05:31:40.934Z"
   },
   {
    "duration": 491,
    "start_time": "2022-05-17T05:31:41.416Z"
   },
   {
    "duration": 203,
    "start_time": "2022-05-17T05:31:41.909Z"
   },
   {
    "duration": 8,
    "start_time": "2022-05-17T05:31:42.114Z"
   },
   {
    "duration": 38,
    "start_time": "2022-05-17T05:31:42.124Z"
   },
   {
    "duration": 1500,
    "start_time": "2022-05-17T05:31:42.164Z"
   },
   {
    "duration": 14,
    "start_time": "2022-05-17T05:31:43.669Z"
   },
   {
    "duration": 37,
    "start_time": "2022-05-17T05:31:43.685Z"
   },
   {
    "duration": 16,
    "start_time": "2022-05-17T05:31:43.724Z"
   },
   {
    "duration": 2423,
    "start_time": "2022-05-17T05:31:43.741Z"
   },
   {
    "duration": 45,
    "start_time": "2022-05-17T05:31:46.167Z"
   },
   {
    "duration": 5,
    "start_time": "2022-05-17T05:31:46.214Z"
   },
   {
    "duration": 17,
    "start_time": "2022-05-17T05:31:46.221Z"
   },
   {
    "duration": 19,
    "start_time": "2022-05-17T05:31:46.240Z"
   },
   {
    "duration": 191,
    "start_time": "2022-05-17T05:31:46.261Z"
   },
   {
    "duration": 182,
    "start_time": "2022-05-17T05:31:46.457Z"
   },
   {
    "duration": 46,
    "start_time": "2022-05-17T05:31:46.641Z"
   },
   {
    "duration": 183,
    "start_time": "2022-05-17T05:31:46.689Z"
   },
   {
    "duration": 466,
    "start_time": "2022-05-17T05:31:46.874Z"
   },
   {
    "duration": 192,
    "start_time": "2022-05-17T05:31:47.342Z"
   },
   {
    "duration": 300,
    "start_time": "2022-05-17T05:31:47.536Z"
   },
   {
    "duration": 151,
    "start_time": "2022-05-17T05:31:47.838Z"
   },
   {
    "duration": 5,
    "start_time": "2022-05-17T05:31:47.991Z"
   },
   {
    "duration": 410,
    "start_time": "2022-05-17T05:31:47.998Z"
   },
   {
    "duration": 13,
    "start_time": "2022-05-17T05:31:48.409Z"
   },
   {
    "duration": 10,
    "start_time": "2022-05-17T05:31:48.423Z"
   },
   {
    "duration": 34,
    "start_time": "2022-05-17T05:31:48.435Z"
   },
   {
    "duration": 466,
    "start_time": "2022-05-17T05:31:48.471Z"
   },
   {
    "duration": 28,
    "start_time": "2022-05-17T05:31:48.939Z"
   },
   {
    "duration": 563,
    "start_time": "2022-05-17T05:31:48.968Z"
   },
   {
    "duration": 158,
    "start_time": "2022-05-17T05:31:49.533Z"
   },
   {
    "duration": 153,
    "start_time": "2022-05-17T05:31:49.693Z"
   },
   {
    "duration": 219,
    "start_time": "2022-05-17T05:31:49.847Z"
   },
   {
    "duration": 156,
    "start_time": "2022-05-17T05:31:50.068Z"
   },
   {
    "duration": 206,
    "start_time": "2022-05-17T05:31:50.226Z"
   },
   {
    "duration": 171,
    "start_time": "2022-05-17T05:31:50.434Z"
   },
   {
    "duration": 1155,
    "start_time": "2022-05-17T05:31:50.606Z"
   },
   {
    "duration": 693,
    "start_time": "2022-05-17T05:31:51.763Z"
   },
   {
    "duration": 213,
    "start_time": "2022-05-17T05:31:52.458Z"
   },
   {
    "duration": 158,
    "start_time": "2022-05-17T05:31:52.673Z"
   },
   {
    "duration": 485,
    "start_time": "2022-05-17T05:31:52.833Z"
   },
   {
    "duration": 6,
    "start_time": "2022-05-17T05:31:53.320Z"
   },
   {
    "duration": 10,
    "start_time": "2022-05-17T05:31:53.327Z"
   },
   {
    "duration": 22,
    "start_time": "2022-05-17T05:31:53.339Z"
   },
   {
    "duration": 3,
    "start_time": "2022-05-17T05:31:53.362Z"
   },
   {
    "duration": 162,
    "start_time": "2022-05-17T05:31:53.367Z"
   },
   {
    "duration": 4,
    "start_time": "2022-05-17T05:31:53.530Z"
   },
   {
    "duration": 173,
    "start_time": "2022-05-17T05:31:53.535Z"
   },
   {
    "duration": 574,
    "start_time": "2022-05-17T05:31:53.710Z"
   },
   {
    "duration": 33,
    "start_time": "2022-05-17T05:31:54.286Z"
   },
   {
    "duration": 9,
    "start_time": "2022-05-17T05:31:54.320Z"
   },
   {
    "duration": 33,
    "start_time": "2022-05-17T05:31:54.330Z"
   },
   {
    "duration": 10,
    "start_time": "2022-05-17T05:31:54.365Z"
   },
   {
    "duration": 186,
    "start_time": "2022-05-17T05:31:54.376Z"
   },
   {
    "duration": 16,
    "start_time": "2022-05-17T05:31:54.564Z"
   },
   {
    "duration": 13,
    "start_time": "2022-05-17T05:31:54.582Z"
   },
   {
    "duration": 168,
    "start_time": "2022-05-17T05:31:54.597Z"
   },
   {
    "duration": 15,
    "start_time": "2022-05-17T05:31:54.766Z"
   },
   {
    "duration": 12,
    "start_time": "2022-05-17T05:31:54.782Z"
   },
   {
    "duration": 18,
    "start_time": "2022-05-17T05:31:54.796Z"
   },
   {
    "duration": 43,
    "start_time": "2022-05-17T05:31:54.822Z"
   },
   {
    "duration": 9,
    "start_time": "2022-05-17T05:31:54.867Z"
   },
   {
    "duration": 159,
    "start_time": "2022-05-17T05:31:54.878Z"
   },
   {
    "duration": 31,
    "start_time": "2022-05-17T05:31:55.039Z"
   },
   {
    "duration": 17,
    "start_time": "2022-05-17T05:31:55.071Z"
   },
   {
    "duration": 226,
    "start_time": "2022-05-17T05:31:55.090Z"
   },
   {
    "duration": 8,
    "start_time": "2022-05-17T05:31:55.318Z"
   },
   {
    "duration": 14,
    "start_time": "2022-05-17T05:31:55.328Z"
   },
   {
    "duration": 174,
    "start_time": "2022-05-17T05:31:55.343Z"
   },
   {
    "duration": 51,
    "start_time": "2022-05-17T05:31:55.518Z"
   },
   {
    "duration": 147,
    "start_time": "2022-05-17T05:31:55.571Z"
   },
   {
    "duration": 15,
    "start_time": "2022-05-17T05:31:55.720Z"
   },
   {
    "duration": 213,
    "start_time": "2022-05-17T05:31:55.737Z"
   },
   {
    "duration": 776,
    "start_time": "2022-05-17T05:31:55.952Z"
   },
   {
    "duration": 239,
    "start_time": "2022-05-17T05:31:56.730Z"
   },
   {
    "duration": 287,
    "start_time": "2022-05-17T05:31:56.971Z"
   },
   {
    "duration": 356,
    "start_time": "2022-05-17T05:31:57.259Z"
   },
   {
    "duration": 11,
    "start_time": "2022-05-17T05:31:57.617Z"
   },
   {
    "duration": 162,
    "start_time": "2022-05-17T05:31:57.630Z"
   },
   {
    "duration": 17,
    "start_time": "2022-05-17T05:31:57.794Z"
   },
   {
    "duration": 11,
    "start_time": "2022-05-17T05:31:57.813Z"
   },
   {
    "duration": 54,
    "start_time": "2022-05-17T05:31:57.826Z"
   },
   {
    "duration": 37,
    "start_time": "2022-05-17T05:31:57.882Z"
   },
   {
    "duration": 352,
    "start_time": "2022-05-17T05:31:57.921Z"
   },
   {
    "duration": 15,
    "start_time": "2022-05-17T05:31:58.275Z"
   },
   {
    "duration": 4,
    "start_time": "2022-05-17T05:31:58.292Z"
   },
   {
    "duration": 320,
    "start_time": "2022-05-17T05:31:58.298Z"
   },
   {
    "duration": 327,
    "start_time": "2022-05-17T05:31:58.620Z"
   },
   {
    "duration": 256,
    "start_time": "2022-05-17T05:31:58.949Z"
   },
   {
    "duration": 388,
    "start_time": "2022-05-17T05:31:59.207Z"
   },
   {
    "duration": 251,
    "start_time": "2022-05-17T05:31:59.596Z"
   },
   {
    "duration": 281,
    "start_time": "2022-05-17T05:31:59.849Z"
   },
   {
    "duration": 269,
    "start_time": "2022-05-17T05:32:00.132Z"
   },
   {
    "duration": 271,
    "start_time": "2022-05-17T05:32:00.403Z"
   },
   {
    "duration": 327,
    "start_time": "2022-05-17T05:32:00.675Z"
   },
   {
    "duration": 427,
    "start_time": "2022-05-17T05:32:01.004Z"
   },
   {
    "duration": 251,
    "start_time": "2022-05-17T05:32:01.433Z"
   },
   {
    "duration": 562,
    "start_time": "2022-05-17T05:32:01.685Z"
   },
   {
    "duration": 447,
    "start_time": "2022-05-17T05:32:02.248Z"
   },
   {
    "duration": 140,
    "start_time": "2022-05-17T05:32:02.697Z"
   },
   {
    "duration": 19,
    "start_time": "2022-05-17T05:32:02.839Z"
   },
   {
    "duration": 167,
    "start_time": "2022-05-17T05:32:02.860Z"
   },
   {
    "duration": 176,
    "start_time": "2022-05-17T05:32:03.030Z"
   },
   {
    "duration": 191,
    "start_time": "2022-05-17T05:32:03.208Z"
   },
   {
    "duration": 36,
    "start_time": "2022-05-17T05:32:03.401Z"
   },
   {
    "duration": 18,
    "start_time": "2022-05-17T05:32:03.439Z"
   },
   {
    "duration": 261,
    "start_time": "2022-05-17T05:32:03.460Z"
   },
   {
    "duration": 359,
    "start_time": "2022-05-17T05:32:03.723Z"
   },
   {
    "duration": 138,
    "start_time": "2022-05-17T05:32:04.085Z"
   },
   {
    "duration": 260,
    "start_time": "2022-05-17T05:32:04.226Z"
   },
   {
    "duration": 268,
    "start_time": "2022-05-17T05:32:04.488Z"
   },
   {
    "duration": 758,
    "start_time": "2022-05-17T05:32:04.758Z"
   },
   {
    "duration": 58,
    "start_time": "2022-05-17T05:32:05.518Z"
   },
   {
    "duration": 266,
    "start_time": "2022-05-17T05:32:05.578Z"
   },
   {
    "duration": 250,
    "start_time": "2022-05-17T05:32:05.846Z"
   },
   {
    "duration": 232,
    "start_time": "2022-05-17T05:32:06.098Z"
   },
   {
    "duration": 38,
    "start_time": "2022-05-17T05:32:06.332Z"
   },
   {
    "duration": 25,
    "start_time": "2022-05-17T05:32:06.372Z"
   },
   {
    "duration": 344,
    "start_time": "2022-05-17T05:32:06.399Z"
   },
   {
    "duration": 32,
    "start_time": "2022-05-17T05:32:06.745Z"
   },
   {
    "duration": 11,
    "start_time": "2022-05-17T05:32:06.778Z"
   },
   {
    "duration": 24,
    "start_time": "2022-05-17T05:32:06.791Z"
   },
   {
    "duration": 110,
    "start_time": "2022-05-17T05:32:06.817Z"
   },
   {
    "duration": 441,
    "start_time": "2022-05-17T05:32:06.928Z"
   },
   {
    "duration": 423,
    "start_time": "2022-05-17T05:32:07.371Z"
   },
   {
    "duration": 415,
    "start_time": "2022-05-17T05:32:07.796Z"
   },
   {
    "duration": 222,
    "start_time": "2022-05-17T05:32:08.213Z"
   },
   {
    "duration": 1072,
    "start_time": "2022-05-17T05:32:08.436Z"
   },
   {
    "duration": 653,
    "start_time": "2022-05-17T05:32:09.510Z"
   },
   {
    "duration": 6,
    "start_time": "2022-05-17T05:32:10.165Z"
   },
   {
    "duration": 339,
    "start_time": "2022-05-17T05:32:10.174Z"
   },
   {
    "duration": 154,
    "start_time": "2022-05-17T05:32:10.515Z"
   },
   {
    "duration": 252,
    "start_time": "2022-05-17T05:32:10.671Z"
   },
   {
    "duration": 705,
    "start_time": "2022-05-17T05:32:10.926Z"
   },
   {
    "duration": 569,
    "start_time": "2022-05-17T05:32:11.634Z"
   },
   {
    "duration": 613,
    "start_time": "2022-05-17T05:32:12.205Z"
   },
   {
    "duration": 368,
    "start_time": "2022-05-17T05:32:12.821Z"
   },
   {
    "duration": 5,
    "start_time": "2022-05-17T05:32:13.191Z"
   },
   {
    "duration": 972,
    "start_time": "2022-05-17T05:32:13.197Z"
   },
   {
    "duration": 719,
    "start_time": "2022-05-17T05:32:14.171Z"
   },
   {
    "duration": 240,
    "start_time": "2022-05-17T05:32:14.892Z"
   },
   {
    "duration": 303,
    "start_time": "2022-05-17T05:32:15.134Z"
   },
   {
    "duration": 151,
    "start_time": "2022-05-17T05:32:15.439Z"
   },
   {
    "duration": 7,
    "start_time": "2022-05-17T05:32:15.592Z"
   },
   {
    "duration": 30141,
    "start_time": "2022-05-17T05:32:15.601Z"
   },
   {
    "duration": 0,
    "start_time": "2022-05-17T05:32:45.744Z"
   },
   {
    "duration": 0,
    "start_time": "2022-05-17T05:32:45.746Z"
   },
   {
    "duration": 0,
    "start_time": "2022-05-17T05:32:45.747Z"
   },
   {
    "duration": 0,
    "start_time": "2022-05-17T05:32:45.757Z"
   },
   {
    "duration": 0,
    "start_time": "2022-05-17T05:32:45.758Z"
   },
   {
    "duration": 0,
    "start_time": "2022-05-17T05:32:45.759Z"
   },
   {
    "duration": 0,
    "start_time": "2022-05-17T05:32:45.760Z"
   },
   {
    "duration": 0,
    "start_time": "2022-05-17T05:32:45.762Z"
   },
   {
    "duration": 589,
    "start_time": "2022-05-17T05:33:19.410Z"
   },
   {
    "duration": 609,
    "start_time": "2022-05-17T05:37:56.896Z"
   },
   {
    "duration": 1970,
    "start_time": "2022-05-17T05:48:06.812Z"
   },
   {
    "duration": 1066,
    "start_time": "2022-05-17T07:11:05.037Z"
   },
   {
    "duration": 61,
    "start_time": "2022-05-17T07:11:21.594Z"
   },
   {
    "duration": 1056,
    "start_time": "2022-05-17T07:11:45.114Z"
   },
   {
    "duration": 1049,
    "start_time": "2022-05-17T07:12:39.760Z"
   },
   {
    "duration": 662,
    "start_time": "2022-05-17T07:23:57.699Z"
   },
   {
    "duration": 676,
    "start_time": "2022-05-17T07:24:21.483Z"
   },
   {
    "duration": 136,
    "start_time": "2022-05-17T07:25:19.235Z"
   },
   {
    "duration": 462,
    "start_time": "2022-05-17T07:26:07.070Z"
   },
   {
    "duration": 686,
    "start_time": "2022-05-17T07:26:24.261Z"
   },
   {
    "duration": 712,
    "start_time": "2022-05-17T07:26:33.317Z"
   },
   {
    "duration": 713,
    "start_time": "2022-05-17T07:26:41.451Z"
   },
   {
    "duration": 723,
    "start_time": "2022-05-17T07:26:48.700Z"
   },
   {
    "duration": 730,
    "start_time": "2022-05-17T07:27:14.420Z"
   },
   {
    "duration": 179,
    "start_time": "2022-05-17T07:41:09.095Z"
   },
   {
    "duration": 6,
    "start_time": "2022-05-17T09:32:51.199Z"
   },
   {
    "duration": 533,
    "start_time": "2022-05-17T09:32:54.751Z"
   },
   {
    "duration": 6,
    "start_time": "2022-05-17T09:33:05.532Z"
   },
   {
    "duration": 528,
    "start_time": "2022-05-17T09:33:13.382Z"
   },
   {
    "duration": 20,
    "start_time": "2022-05-17T10:04:57.362Z"
   },
   {
    "duration": 152,
    "start_time": "2022-05-17T10:05:14.209Z"
   },
   {
    "duration": 34,
    "start_time": "2022-05-17T10:11:38.547Z"
   },
   {
    "duration": 7,
    "start_time": "2022-05-17T10:12:22.688Z"
   },
   {
    "duration": 14,
    "start_time": "2022-05-17T10:13:40.523Z"
   },
   {
    "duration": 16,
    "start_time": "2022-05-17T10:15:30.390Z"
   },
   {
    "duration": 142,
    "start_time": "2022-05-17T10:19:09.640Z"
   },
   {
    "duration": 17,
    "start_time": "2022-05-17T10:19:22.237Z"
   },
   {
    "duration": 18,
    "start_time": "2022-05-17T10:19:44.559Z"
   },
   {
    "duration": 18,
    "start_time": "2022-05-17T10:20:14.688Z"
   },
   {
    "duration": 30,
    "start_time": "2022-05-17T10:23:09.728Z"
   },
   {
    "duration": 24,
    "start_time": "2022-05-17T10:26:33.004Z"
   },
   {
    "duration": 26,
    "start_time": "2022-05-17T10:27:05.612Z"
   },
   {
    "duration": 23,
    "start_time": "2022-05-17T10:27:26.358Z"
   },
   {
    "duration": 23,
    "start_time": "2022-05-17T10:32:53.746Z"
   },
   {
    "duration": 34,
    "start_time": "2022-05-17T10:33:42.592Z"
   },
   {
    "duration": 6,
    "start_time": "2022-05-17T10:40:06.419Z"
   },
   {
    "duration": 113,
    "start_time": "2022-05-17T10:54:17.385Z"
   },
   {
    "duration": 23,
    "start_time": "2022-05-17T11:06:33.671Z"
   },
   {
    "duration": 568,
    "start_time": "2022-05-17T11:06:46.585Z"
   },
   {
    "duration": 64,
    "start_time": "2022-05-17T11:09:40.317Z"
   },
   {
    "duration": 685,
    "start_time": "2022-05-17T11:09:51.059Z"
   },
   {
    "duration": 8,
    "start_time": "2022-05-17T11:10:27.631Z"
   },
   {
    "duration": 794,
    "start_time": "2022-05-17T11:10:31.546Z"
   },
   {
    "duration": 9,
    "start_time": "2022-05-17T11:10:54.193Z"
   },
   {
    "duration": 571,
    "start_time": "2022-05-17T11:10:58.686Z"
   },
   {
    "duration": 129,
    "start_time": "2022-05-17T11:27:09.950Z"
   },
   {
    "duration": 37,
    "start_time": "2022-05-17T11:27:15.401Z"
   },
   {
    "duration": 1071,
    "start_time": "2022-05-17T11:27:51.867Z"
   },
   {
    "duration": 7,
    "start_time": "2022-05-17T11:31:00.283Z"
   },
   {
    "duration": 8,
    "start_time": "2022-05-17T11:31:49.603Z"
   },
   {
    "duration": 10,
    "start_time": "2022-05-17T11:32:27.337Z"
   },
   {
    "duration": 9,
    "start_time": "2022-05-17T11:32:54.058Z"
   },
   {
    "duration": 577,
    "start_time": "2022-05-17T11:33:21.932Z"
   },
   {
    "duration": 1323,
    "start_time": "2022-05-17T11:33:39.740Z"
   },
   {
    "duration": 111,
    "start_time": "2022-05-17T11:33:41.065Z"
   },
   {
    "duration": 132,
    "start_time": "2022-05-17T11:33:41.177Z"
   },
   {
    "duration": 15,
    "start_time": "2022-05-17T11:33:41.311Z"
   },
   {
    "duration": 79,
    "start_time": "2022-05-17T11:33:41.328Z"
   },
   {
    "duration": 19,
    "start_time": "2022-05-17T11:33:41.408Z"
   },
   {
    "duration": 6,
    "start_time": "2022-05-17T11:33:41.429Z"
   },
   {
    "duration": 46,
    "start_time": "2022-05-17T11:33:41.437Z"
   },
   {
    "duration": 14,
    "start_time": "2022-05-17T11:33:41.484Z"
   },
   {
    "duration": 4,
    "start_time": "2022-05-17T11:33:41.501Z"
   },
   {
    "duration": 487,
    "start_time": "2022-05-17T11:33:41.506Z"
   },
   {
    "duration": 28,
    "start_time": "2022-05-17T11:33:41.995Z"
   },
   {
    "duration": 69,
    "start_time": "2022-05-17T11:33:42.025Z"
   },
   {
    "duration": 10,
    "start_time": "2022-05-17T11:33:42.095Z"
   },
   {
    "duration": 19,
    "start_time": "2022-05-17T11:33:42.107Z"
   },
   {
    "duration": 31,
    "start_time": "2022-05-17T11:33:42.127Z"
   },
   {
    "duration": 10,
    "start_time": "2022-05-17T11:33:42.159Z"
   },
   {
    "duration": 10,
    "start_time": "2022-05-17T11:33:42.171Z"
   },
   {
    "duration": 265,
    "start_time": "2022-05-17T11:33:42.183Z"
   },
   {
    "duration": 27,
    "start_time": "2022-05-17T11:33:42.449Z"
   },
   {
    "duration": 3,
    "start_time": "2022-05-17T11:33:42.478Z"
   },
   {
    "duration": 461,
    "start_time": "2022-05-17T11:33:42.483Z"
   },
   {
    "duration": 498,
    "start_time": "2022-05-17T11:33:42.945Z"
   },
   {
    "duration": 194,
    "start_time": "2022-05-17T11:33:43.445Z"
   },
   {
    "duration": 18,
    "start_time": "2022-05-17T11:33:43.640Z"
   },
   {
    "duration": 19,
    "start_time": "2022-05-17T11:33:43.660Z"
   },
   {
    "duration": 1738,
    "start_time": "2022-05-17T11:33:43.680Z"
   },
   {
    "duration": 14,
    "start_time": "2022-05-17T11:33:45.422Z"
   },
   {
    "duration": 23,
    "start_time": "2022-05-17T11:33:45.437Z"
   },
   {
    "duration": 9,
    "start_time": "2022-05-17T11:33:45.461Z"
   },
   {
    "duration": 2380,
    "start_time": "2022-05-17T11:33:45.472Z"
   },
   {
    "duration": 43,
    "start_time": "2022-05-17T11:33:47.854Z"
   },
   {
    "duration": 4,
    "start_time": "2022-05-17T11:33:47.899Z"
   },
   {
    "duration": 20,
    "start_time": "2022-05-17T11:33:47.905Z"
   },
   {
    "duration": 8,
    "start_time": "2022-05-17T11:33:47.927Z"
   },
   {
    "duration": 196,
    "start_time": "2022-05-17T11:33:47.937Z"
   },
   {
    "duration": 189,
    "start_time": "2022-05-17T11:33:48.134Z"
   },
   {
    "duration": 50,
    "start_time": "2022-05-17T11:33:48.324Z"
   },
   {
    "duration": 184,
    "start_time": "2022-05-17T11:33:48.376Z"
   },
   {
    "duration": 468,
    "start_time": "2022-05-17T11:33:48.562Z"
   },
   {
    "duration": 195,
    "start_time": "2022-05-17T11:33:49.032Z"
   },
   {
    "duration": 293,
    "start_time": "2022-05-17T11:33:49.229Z"
   },
   {
    "duration": 156,
    "start_time": "2022-05-17T11:33:49.524Z"
   },
   {
    "duration": 5,
    "start_time": "2022-05-17T11:33:49.682Z"
   },
   {
    "duration": 405,
    "start_time": "2022-05-17T11:33:49.689Z"
   },
   {
    "duration": 14,
    "start_time": "2022-05-17T11:33:50.095Z"
   },
   {
    "duration": 19,
    "start_time": "2022-05-17T11:33:50.110Z"
   },
   {
    "duration": 31,
    "start_time": "2022-05-17T11:33:50.131Z"
   },
   {
    "duration": 473,
    "start_time": "2022-05-17T11:33:50.164Z"
   },
   {
    "duration": 28,
    "start_time": "2022-05-17T11:33:50.639Z"
   },
   {
    "duration": 581,
    "start_time": "2022-05-17T11:33:50.669Z"
   },
   {
    "duration": 155,
    "start_time": "2022-05-17T11:33:51.252Z"
   },
   {
    "duration": 174,
    "start_time": "2022-05-17T11:33:51.408Z"
   },
   {
    "duration": 220,
    "start_time": "2022-05-17T11:33:51.584Z"
   },
   {
    "duration": 177,
    "start_time": "2022-05-17T11:33:51.806Z"
   },
   {
    "duration": 220,
    "start_time": "2022-05-17T11:33:51.985Z"
   },
   {
    "duration": 169,
    "start_time": "2022-05-17T11:33:52.207Z"
   },
   {
    "duration": 569,
    "start_time": "2022-05-17T11:33:52.378Z"
   },
   {
    "duration": 469,
    "start_time": "2022-05-17T11:33:52.950Z"
   },
   {
    "duration": 212,
    "start_time": "2022-05-17T11:33:53.421Z"
   },
   {
    "duration": 173,
    "start_time": "2022-05-17T11:33:53.636Z"
   },
   {
    "duration": 495,
    "start_time": "2022-05-17T11:33:53.811Z"
   },
   {
    "duration": 7,
    "start_time": "2022-05-17T11:33:54.309Z"
   },
   {
    "duration": 13,
    "start_time": "2022-05-17T11:33:54.317Z"
   },
   {
    "duration": 25,
    "start_time": "2022-05-17T11:33:54.332Z"
   },
   {
    "duration": 4,
    "start_time": "2022-05-17T11:33:54.360Z"
   },
   {
    "duration": 166,
    "start_time": "2022-05-17T11:33:54.366Z"
   },
   {
    "duration": 4,
    "start_time": "2022-05-17T11:33:54.534Z"
   },
   {
    "duration": 166,
    "start_time": "2022-05-17T11:33:54.557Z"
   },
   {
    "duration": 42,
    "start_time": "2022-05-17T11:33:54.725Z"
   },
   {
    "duration": 31,
    "start_time": "2022-05-17T11:34:29.412Z"
   },
   {
    "duration": 37,
    "start_time": "2022-05-17T11:37:02.870Z"
   },
   {
    "duration": 10,
    "start_time": "2022-05-17T11:38:50.758Z"
   },
   {
    "duration": 8,
    "start_time": "2022-05-17T11:39:13.036Z"
   },
   {
    "duration": 9,
    "start_time": "2022-05-17T11:39:20.433Z"
   },
   {
    "duration": 8,
    "start_time": "2022-05-17T11:39:58.818Z"
   },
   {
    "duration": 7,
    "start_time": "2022-05-17T11:40:04.767Z"
   },
   {
    "duration": 7,
    "start_time": "2022-05-17T11:40:09.819Z"
   },
   {
    "duration": 6,
    "start_time": "2022-05-17T11:40:13.489Z"
   },
   {
    "duration": 7,
    "start_time": "2022-05-17T11:40:16.477Z"
   },
   {
    "duration": 7,
    "start_time": "2022-05-17T11:40:22.104Z"
   },
   {
    "duration": 7,
    "start_time": "2022-05-17T11:40:25.646Z"
   },
   {
    "duration": 7,
    "start_time": "2022-05-17T11:40:28.520Z"
   },
   {
    "duration": 7,
    "start_time": "2022-05-17T11:40:31.096Z"
   },
   {
    "duration": 8,
    "start_time": "2022-05-17T11:40:33.316Z"
   },
   {
    "duration": 7,
    "start_time": "2022-05-17T11:40:51.327Z"
   },
   {
    "duration": 6,
    "start_time": "2022-05-17T11:41:01.610Z"
   },
   {
    "duration": 8,
    "start_time": "2022-05-17T11:41:06.659Z"
   },
   {
    "duration": 8,
    "start_time": "2022-05-17T11:42:07.941Z"
   },
   {
    "duration": 150,
    "start_time": "2022-05-17T11:44:11.063Z"
   },
   {
    "duration": 54,
    "start_time": "2022-05-17T11:44:15.891Z"
   },
   {
    "duration": 147,
    "start_time": "2022-05-17T11:44:32.805Z"
   },
   {
    "duration": 47,
    "start_time": "2022-05-17T11:48:00.630Z"
   },
   {
    "duration": 52,
    "start_time": "2022-05-17T11:48:23.459Z"
   },
   {
    "duration": 6,
    "start_time": "2022-05-17T11:57:07.772Z"
   },
   {
    "duration": 17,
    "start_time": "2022-05-17T11:57:42.657Z"
   },
   {
    "duration": 7,
    "start_time": "2022-05-17T12:00:29.147Z"
   },
   {
    "duration": 12,
    "start_time": "2022-05-17T12:00:39.426Z"
   },
   {
    "duration": 8,
    "start_time": "2022-05-17T12:01:01.124Z"
   },
   {
    "duration": 10,
    "start_time": "2022-05-17T12:01:02.707Z"
   },
   {
    "duration": 1591,
    "start_time": "2022-05-18T09:10:31.887Z"
   },
   {
    "duration": 377,
    "start_time": "2022-05-18T09:10:33.480Z"
   },
   {
    "duration": 76,
    "start_time": "2022-05-18T09:10:33.859Z"
   },
   {
    "duration": 90,
    "start_time": "2022-05-18T09:10:33.937Z"
   },
   {
    "duration": 83,
    "start_time": "2022-05-18T09:10:34.028Z"
   },
   {
    "duration": 17,
    "start_time": "2022-05-18T09:10:34.112Z"
   },
   {
    "duration": 5,
    "start_time": "2022-05-18T09:10:34.131Z"
   },
   {
    "duration": 50,
    "start_time": "2022-05-18T09:10:34.138Z"
   },
   {
    "duration": 13,
    "start_time": "2022-05-18T09:10:34.190Z"
   },
   {
    "duration": 4,
    "start_time": "2022-05-18T09:10:34.207Z"
   },
   {
    "duration": 523,
    "start_time": "2022-05-18T09:10:34.212Z"
   },
   {
    "duration": 26,
    "start_time": "2022-05-18T09:10:34.736Z"
   },
   {
    "duration": 49,
    "start_time": "2022-05-18T09:10:34.776Z"
   },
   {
    "duration": 3023,
    "start_time": "2022-05-18T09:10:34.827Z"
   },
   {
    "duration": 11,
    "start_time": "2022-05-18T09:10:37.852Z"
   },
   {
    "duration": 19,
    "start_time": "2022-05-18T09:10:37.874Z"
   },
   {
    "duration": 4,
    "start_time": "2022-05-18T09:10:37.895Z"
   },
   {
    "duration": 20,
    "start_time": "2022-05-18T09:10:37.901Z"
   },
   {
    "duration": 10,
    "start_time": "2022-05-18T09:10:37.923Z"
   },
   {
    "duration": 261,
    "start_time": "2022-05-18T09:10:37.935Z"
   },
   {
    "duration": 25,
    "start_time": "2022-05-18T09:10:38.198Z"
   },
   {
    "duration": 21,
    "start_time": "2022-05-18T09:10:38.225Z"
   },
   {
    "duration": 476,
    "start_time": "2022-05-18T09:10:38.250Z"
   },
   {
    "duration": 460,
    "start_time": "2022-05-18T09:10:38.727Z"
   },
   {
    "duration": 187,
    "start_time": "2022-05-18T09:10:39.189Z"
   },
   {
    "duration": 9,
    "start_time": "2022-05-18T09:10:39.378Z"
   },
   {
    "duration": 19,
    "start_time": "2022-05-18T09:10:39.388Z"
   },
   {
    "duration": 1826,
    "start_time": "2022-05-18T09:10:39.412Z"
   },
   {
    "duration": 12,
    "start_time": "2022-05-18T09:10:41.240Z"
   },
   {
    "duration": 20,
    "start_time": "2022-05-18T09:10:41.253Z"
   },
   {
    "duration": 7,
    "start_time": "2022-05-18T09:10:41.275Z"
   },
   {
    "duration": 3054,
    "start_time": "2022-05-18T09:10:41.283Z"
   },
   {
    "duration": 41,
    "start_time": "2022-05-18T09:10:44.340Z"
   },
   {
    "duration": 5,
    "start_time": "2022-05-18T09:10:44.383Z"
   },
   {
    "duration": 15,
    "start_time": "2022-05-18T09:10:44.389Z"
   },
   {
    "duration": 8,
    "start_time": "2022-05-18T09:10:44.406Z"
   },
   {
    "duration": 206,
    "start_time": "2022-05-18T09:10:44.416Z"
   },
   {
    "duration": 182,
    "start_time": "2022-05-18T09:10:44.623Z"
   },
   {
    "duration": 35,
    "start_time": "2022-05-18T09:10:44.809Z"
   },
   {
    "duration": 234,
    "start_time": "2022-05-18T09:10:44.846Z"
   },
   {
    "duration": 436,
    "start_time": "2022-05-18T09:10:45.081Z"
   },
   {
    "duration": 182,
    "start_time": "2022-05-18T09:10:45.519Z"
   },
   {
    "duration": 280,
    "start_time": "2022-05-18T09:10:45.702Z"
   },
   {
    "duration": 143,
    "start_time": "2022-05-18T09:10:45.985Z"
   },
   {
    "duration": 6,
    "start_time": "2022-05-18T09:10:46.130Z"
   },
   {
    "duration": 407,
    "start_time": "2022-05-18T09:10:46.138Z"
   },
   {
    "duration": 11,
    "start_time": "2022-05-18T09:10:46.547Z"
   },
   {
    "duration": 22,
    "start_time": "2022-05-18T09:10:46.560Z"
   },
   {
    "duration": 14,
    "start_time": "2022-05-18T09:10:46.584Z"
   },
   {
    "duration": 514,
    "start_time": "2022-05-18T09:10:46.599Z"
   },
   {
    "duration": 17,
    "start_time": "2022-05-18T09:10:47.115Z"
   },
   {
    "duration": 565,
    "start_time": "2022-05-18T09:10:47.134Z"
   },
   {
    "duration": 160,
    "start_time": "2022-05-18T09:10:47.702Z"
   },
   {
    "duration": 151,
    "start_time": "2022-05-18T09:10:47.864Z"
   },
   {
    "duration": 196,
    "start_time": "2022-05-18T09:10:48.016Z"
   },
   {
    "duration": 154,
    "start_time": "2022-05-18T09:10:48.214Z"
   },
   {
    "duration": 186,
    "start_time": "2022-05-18T09:10:48.375Z"
   },
   {
    "duration": 157,
    "start_time": "2022-05-18T09:10:48.562Z"
   },
   {
    "duration": 539,
    "start_time": "2022-05-18T09:10:48.720Z"
   },
   {
    "duration": 442,
    "start_time": "2022-05-18T09:10:49.261Z"
   },
   {
    "duration": 207,
    "start_time": "2022-05-18T09:10:49.705Z"
   },
   {
    "duration": 162,
    "start_time": "2022-05-18T09:10:49.914Z"
   },
   {
    "duration": 468,
    "start_time": "2022-05-18T09:10:50.077Z"
   },
   {
    "duration": 5,
    "start_time": "2022-05-18T09:10:50.547Z"
   },
   {
    "duration": 21,
    "start_time": "2022-05-18T09:10:50.554Z"
   },
   {
    "duration": 15,
    "start_time": "2022-05-18T09:10:50.576Z"
   },
   {
    "duration": 4,
    "start_time": "2022-05-18T09:10:50.592Z"
   },
   {
    "duration": 144,
    "start_time": "2022-05-18T09:10:50.599Z"
   },
   {
    "duration": 3,
    "start_time": "2022-05-18T09:10:50.745Z"
   },
   {
    "duration": 153,
    "start_time": "2022-05-18T09:10:50.749Z"
   },
   {
    "duration": 31,
    "start_time": "2022-05-18T09:10:50.903Z"
   },
   {
    "duration": 69,
    "start_time": "2022-05-18T09:10:50.935Z"
   },
   {
    "duration": 5,
    "start_time": "2022-05-18T09:10:51.006Z"
   },
   {
    "duration": 10,
    "start_time": "2022-05-18T09:10:51.013Z"
   },
   {
    "duration": 6,
    "start_time": "2022-05-18T09:10:51.025Z"
   },
   {
    "duration": 9,
    "start_time": "2022-05-18T09:10:51.032Z"
   },
   {
    "duration": 175,
    "start_time": "2022-05-18T09:10:51.043Z"
   },
   {
    "duration": 560,
    "start_time": "2022-05-18T09:10:51.220Z"
   },
   {
    "duration": 28,
    "start_time": "2022-05-18T09:10:51.782Z"
   },
   {
    "duration": 8,
    "start_time": "2022-05-18T09:10:51.812Z"
   },
   {
    "duration": 9,
    "start_time": "2022-05-18T09:10:51.822Z"
   },
   {
    "duration": 7,
    "start_time": "2022-05-18T09:10:51.838Z"
   },
   {
    "duration": 182,
    "start_time": "2022-05-18T09:10:51.847Z"
   },
   {
    "duration": 13,
    "start_time": "2022-05-18T09:10:52.031Z"
   },
   {
    "duration": 8,
    "start_time": "2022-05-18T09:10:52.046Z"
   },
   {
    "duration": 148,
    "start_time": "2022-05-18T09:10:52.056Z"
   },
   {
    "duration": 15,
    "start_time": "2022-05-18T09:10:52.206Z"
   },
   {
    "duration": 10,
    "start_time": "2022-05-18T09:10:52.223Z"
   },
   {
    "duration": 21,
    "start_time": "2022-05-18T09:10:52.234Z"
   },
   {
    "duration": 25,
    "start_time": "2022-05-18T09:10:52.256Z"
   },
   {
    "duration": 3,
    "start_time": "2022-05-18T09:10:52.283Z"
   },
   {
    "duration": 158,
    "start_time": "2022-05-18T09:10:52.288Z"
   },
   {
    "duration": 30,
    "start_time": "2022-05-18T09:10:52.447Z"
   },
   {
    "duration": 105,
    "start_time": "2022-05-18T09:10:52.478Z"
   },
   {
    "duration": 216,
    "start_time": "2022-05-18T09:10:52.584Z"
   },
   {
    "duration": 9,
    "start_time": "2022-05-18T09:10:52.801Z"
   },
   {
    "duration": 19,
    "start_time": "2022-05-18T09:10:52.812Z"
   },
   {
    "duration": 197,
    "start_time": "2022-05-18T09:10:52.833Z"
   },
   {
    "duration": 42,
    "start_time": "2022-05-18T09:10:53.032Z"
   },
   {
    "duration": 36,
    "start_time": "2022-05-18T09:10:53.076Z"
   },
   {
    "duration": 12,
    "start_time": "2022-05-18T09:10:53.114Z"
   },
   {
    "duration": 195,
    "start_time": "2022-05-18T09:10:53.128Z"
   },
   {
    "duration": 729,
    "start_time": "2022-05-18T09:10:53.324Z"
   },
   {
    "duration": 260,
    "start_time": "2022-05-18T09:10:54.055Z"
   },
   {
    "duration": 370,
    "start_time": "2022-05-18T09:10:54.317Z"
   },
   {
    "duration": 224,
    "start_time": "2022-05-18T09:10:54.689Z"
   },
   {
    "duration": 12,
    "start_time": "2022-05-18T09:10:54.915Z"
   },
   {
    "duration": 154,
    "start_time": "2022-05-18T09:10:54.929Z"
   },
   {
    "duration": 18,
    "start_time": "2022-05-18T09:10:55.085Z"
   },
   {
    "duration": 10,
    "start_time": "2022-05-18T09:10:55.105Z"
   },
   {
    "duration": 59,
    "start_time": "2022-05-18T09:10:55.117Z"
   },
   {
    "duration": 34,
    "start_time": "2022-05-18T09:10:55.177Z"
   },
   {
    "duration": 314,
    "start_time": "2022-05-18T09:10:55.213Z"
   },
   {
    "duration": 13,
    "start_time": "2022-05-18T09:10:55.529Z"
   },
   {
    "duration": 5,
    "start_time": "2022-05-18T09:10:55.544Z"
   },
   {
    "duration": 305,
    "start_time": "2022-05-18T09:10:55.550Z"
   },
   {
    "duration": 306,
    "start_time": "2022-05-18T09:10:55.857Z"
   },
   {
    "duration": 35,
    "start_time": "2022-05-18T09:10:56.165Z"
   },
   {
    "duration": 335,
    "start_time": "2022-05-18T09:10:56.201Z"
   },
   {
    "duration": 265,
    "start_time": "2022-05-18T09:10:56.538Z"
   },
   {
    "duration": 230,
    "start_time": "2022-05-18T09:10:56.805Z"
   },
   {
    "duration": 247,
    "start_time": "2022-05-18T09:10:57.037Z"
   },
   {
    "duration": 234,
    "start_time": "2022-05-18T09:10:57.286Z"
   },
   {
    "duration": 248,
    "start_time": "2022-05-18T09:10:57.522Z"
   },
   {
    "duration": 304,
    "start_time": "2022-05-18T09:10:57.772Z"
   },
   {
    "duration": 544,
    "start_time": "2022-05-18T09:10:58.077Z"
   },
   {
    "duration": 239,
    "start_time": "2022-05-18T09:10:58.623Z"
   },
   {
    "duration": 436,
    "start_time": "2022-05-18T09:10:58.863Z"
   },
   {
    "duration": 429,
    "start_time": "2022-05-18T09:10:59.301Z"
   },
   {
    "duration": 169,
    "start_time": "2022-05-18T09:10:59.732Z"
   },
   {
    "duration": 6,
    "start_time": "2022-05-18T09:10:59.903Z"
   },
   {
    "duration": 153,
    "start_time": "2022-05-18T09:10:59.911Z"
   },
   {
    "duration": 204,
    "start_time": "2022-05-18T09:11:00.066Z"
   },
   {
    "duration": 264,
    "start_time": "2022-05-18T09:11:00.274Z"
   },
   {
    "duration": 41,
    "start_time": "2022-05-18T09:11:00.540Z"
   },
   {
    "duration": 1053,
    "start_time": "2022-05-18T09:11:00.582Z"
   },
   {
    "duration": 734,
    "start_time": "2022-05-18T09:11:01.637Z"
   },
   {
    "duration": 4,
    "start_time": "2022-05-18T09:11:02.374Z"
   },
   {
    "duration": 263,
    "start_time": "2022-05-18T09:11:02.380Z"
   },
   {
    "duration": 373,
    "start_time": "2022-05-18T09:11:02.645Z"
   },
   {
    "duration": 130,
    "start_time": "2022-05-18T09:11:03.020Z"
   },
   {
    "duration": 251,
    "start_time": "2022-05-18T09:11:03.152Z"
   },
   {
    "duration": 271,
    "start_time": "2022-05-18T09:11:03.404Z"
   },
   {
    "duration": 749,
    "start_time": "2022-05-18T09:11:03.676Z"
   },
   {
    "duration": 66,
    "start_time": "2022-05-18T09:11:04.427Z"
   },
   {
    "duration": 250,
    "start_time": "2022-05-18T09:11:04.495Z"
   },
   {
    "duration": 247,
    "start_time": "2022-05-18T09:11:04.746Z"
   },
   {
    "duration": 335,
    "start_time": "2022-05-18T09:11:04.995Z"
   },
   {
    "duration": 31,
    "start_time": "2022-05-18T09:11:05.332Z"
   },
   {
    "duration": 24,
    "start_time": "2022-05-18T09:11:05.374Z"
   },
   {
    "duration": 367,
    "start_time": "2022-05-18T09:11:05.401Z"
   },
   {
    "duration": 28,
    "start_time": "2022-05-18T09:11:05.770Z"
   },
   {
    "duration": 10,
    "start_time": "2022-05-18T09:11:05.800Z"
   },
   {
    "duration": 9,
    "start_time": "2022-05-18T09:11:05.812Z"
   },
   {
    "duration": 11,
    "start_time": "2022-05-18T09:11:05.823Z"
   },
   {
    "duration": 482,
    "start_time": "2022-05-18T09:11:05.836Z"
   },
   {
    "duration": 440,
    "start_time": "2022-05-18T09:11:06.320Z"
   },
   {
    "duration": 441,
    "start_time": "2022-05-18T09:11:06.762Z"
   },
   {
    "duration": 232,
    "start_time": "2022-05-18T09:11:07.205Z"
   },
   {
    "duration": 1075,
    "start_time": "2022-05-18T09:11:07.438Z"
   },
   {
    "duration": 592,
    "start_time": "2022-05-18T09:11:08.515Z"
   },
   {
    "duration": 5,
    "start_time": "2022-05-18T09:11:09.109Z"
   },
   {
    "duration": 201,
    "start_time": "2022-05-18T09:11:09.116Z"
   },
   {
    "duration": 144,
    "start_time": "2022-05-18T09:11:09.319Z"
   },
   {
    "duration": 249,
    "start_time": "2022-05-18T09:11:09.464Z"
   },
   {
    "duration": 661,
    "start_time": "2022-05-18T09:11:09.715Z"
   },
   {
    "duration": 578,
    "start_time": "2022-05-18T09:11:10.378Z"
   },
   {
    "duration": 653,
    "start_time": "2022-05-18T09:11:10.958Z"
   },
   {
    "duration": 183,
    "start_time": "2022-05-18T09:11:11.612Z"
   },
   {
    "duration": 5,
    "start_time": "2022-05-18T09:11:11.797Z"
   },
   {
    "duration": 486,
    "start_time": "2022-05-18T09:11:11.804Z"
   },
   {
    "duration": 498,
    "start_time": "2022-05-18T09:11:12.292Z"
   },
   {
    "duration": 65,
    "start_time": "2022-05-18T09:11:12.792Z"
   },
   {
    "duration": 22,
    "start_time": "2022-05-18T09:11:12.860Z"
   },
   {
    "duration": 10,
    "start_time": "2022-05-18T09:11:12.884Z"
   },
   {
    "duration": 0,
    "start_time": "2022-05-18T09:11:12.896Z"
   },
   {
    "duration": 0,
    "start_time": "2022-05-18T09:11:12.898Z"
   },
   {
    "duration": 0,
    "start_time": "2022-05-18T09:11:12.900Z"
   },
   {
    "duration": 283,
    "start_time": "2022-05-18T09:16:23.024Z"
   },
   {
    "duration": 281,
    "start_time": "2022-05-18T09:16:35.675Z"
   },
   {
    "duration": 315,
    "start_time": "2022-05-18T09:16:50.361Z"
   },
   {
    "duration": 399,
    "start_time": "2022-05-18T09:16:58.638Z"
   },
   {
    "duration": 251,
    "start_time": "2022-05-18T09:17:11.497Z"
   },
   {
    "duration": 293,
    "start_time": "2022-05-18T09:18:24.578Z"
   },
   {
    "duration": 291,
    "start_time": "2022-05-18T09:20:10.046Z"
   },
   {
    "duration": 265,
    "start_time": "2022-05-18T09:20:29.484Z"
   },
   {
    "duration": 283,
    "start_time": "2022-05-18T09:20:37.729Z"
   },
   {
    "duration": 331,
    "start_time": "2022-05-18T09:24:46.189Z"
   },
   {
    "duration": 249,
    "start_time": "2022-05-18T09:29:56.978Z"
   },
   {
    "duration": 241,
    "start_time": "2022-05-18T09:31:04.791Z"
   },
   {
    "duration": 238,
    "start_time": "2022-05-18T09:31:23.689Z"
   },
   {
    "duration": 272,
    "start_time": "2022-05-18T09:31:42.337Z"
   },
   {
    "duration": 419,
    "start_time": "2022-05-18T09:32:07.270Z"
   },
   {
    "duration": 291,
    "start_time": "2022-05-18T09:32:21.324Z"
   },
   {
    "duration": 47,
    "start_time": "2022-05-18T09:37:50.270Z"
   },
   {
    "duration": 8,
    "start_time": "2022-05-18T09:38:31.612Z"
   },
   {
    "duration": 582,
    "start_time": "2022-05-18T09:38:51.126Z"
   },
   {
    "duration": 14,
    "start_time": "2022-05-18T09:39:02.071Z"
   },
   {
    "duration": 13,
    "start_time": "2022-05-18T09:40:11.098Z"
   },
   {
    "duration": 14,
    "start_time": "2022-05-18T09:40:37.391Z"
   },
   {
    "duration": 19,
    "start_time": "2022-05-18T09:41:08.657Z"
   },
   {
    "duration": 15,
    "start_time": "2022-05-18T09:41:40.718Z"
   },
   {
    "duration": 18,
    "start_time": "2022-05-18T09:43:02.761Z"
   },
   {
    "duration": 14,
    "start_time": "2022-05-18T09:43:41.026Z"
   },
   {
    "duration": 1311,
    "start_time": "2022-05-18T09:47:18.482Z"
   },
   {
    "duration": 133,
    "start_time": "2022-05-18T09:47:19.795Z"
   },
   {
    "duration": 93,
    "start_time": "2022-05-18T09:47:19.930Z"
   },
   {
    "duration": 88,
    "start_time": "2022-05-18T09:47:20.025Z"
   },
   {
    "duration": 84,
    "start_time": "2022-05-18T09:47:20.114Z"
   },
   {
    "duration": 21,
    "start_time": "2022-05-18T09:47:20.199Z"
   },
   {
    "duration": 9,
    "start_time": "2022-05-18T09:47:20.222Z"
   },
   {
    "duration": 46,
    "start_time": "2022-05-18T09:47:20.233Z"
   },
   {
    "duration": 17,
    "start_time": "2022-05-18T09:47:20.281Z"
   },
   {
    "duration": 3,
    "start_time": "2022-05-18T09:47:20.302Z"
   },
   {
    "duration": 470,
    "start_time": "2022-05-18T09:47:20.307Z"
   },
   {
    "duration": 29,
    "start_time": "2022-05-18T09:47:20.779Z"
   },
   {
    "duration": 43,
    "start_time": "2022-05-18T09:47:20.810Z"
   },
   {
    "duration": 3242,
    "start_time": "2022-05-18T09:47:20.855Z"
   },
   {
    "duration": 8,
    "start_time": "2022-05-18T09:47:24.099Z"
   },
   {
    "duration": 22,
    "start_time": "2022-05-18T09:47:24.108Z"
   },
   {
    "duration": 5,
    "start_time": "2022-05-18T09:47:24.132Z"
   },
   {
    "duration": 12,
    "start_time": "2022-05-18T09:47:24.138Z"
   },
   {
    "duration": 11,
    "start_time": "2022-05-18T09:47:24.174Z"
   },
   {
    "duration": 270,
    "start_time": "2022-05-18T09:47:24.187Z"
   },
   {
    "duration": 23,
    "start_time": "2022-05-18T09:47:24.459Z"
   },
   {
    "duration": 5,
    "start_time": "2022-05-18T09:47:24.484Z"
   },
   {
    "duration": 438,
    "start_time": "2022-05-18T09:47:24.491Z"
   },
   {
    "duration": 466,
    "start_time": "2022-05-18T09:47:24.931Z"
   },
   {
    "duration": 193,
    "start_time": "2022-05-18T09:47:25.398Z"
   },
   {
    "duration": 8,
    "start_time": "2022-05-18T09:47:25.592Z"
   },
   {
    "duration": 16,
    "start_time": "2022-05-18T09:47:25.602Z"
   },
   {
    "duration": 1744,
    "start_time": "2022-05-18T09:47:25.624Z"
   },
   {
    "duration": 15,
    "start_time": "2022-05-18T09:47:27.370Z"
   },
   {
    "duration": 20,
    "start_time": "2022-05-18T09:47:27.387Z"
   },
   {
    "duration": 5,
    "start_time": "2022-05-18T09:47:27.409Z"
   },
   {
    "duration": 2215,
    "start_time": "2022-05-18T09:47:27.416Z"
   },
   {
    "duration": 48,
    "start_time": "2022-05-18T09:47:29.633Z"
   },
   {
    "duration": 4,
    "start_time": "2022-05-18T09:47:29.683Z"
   },
   {
    "duration": 20,
    "start_time": "2022-05-18T09:47:29.689Z"
   },
   {
    "duration": 7,
    "start_time": "2022-05-18T09:47:29.711Z"
   },
   {
    "duration": 210,
    "start_time": "2022-05-18T09:47:29.720Z"
   },
   {
    "duration": 191,
    "start_time": "2022-05-18T09:47:29.932Z"
   },
   {
    "duration": 55,
    "start_time": "2022-05-18T09:47:30.125Z"
   },
   {
    "duration": 201,
    "start_time": "2022-05-18T09:47:30.183Z"
   },
   {
    "duration": 459,
    "start_time": "2022-05-18T09:47:30.386Z"
   },
   {
    "duration": 190,
    "start_time": "2022-05-18T09:47:30.847Z"
   },
   {
    "duration": 278,
    "start_time": "2022-05-18T09:47:31.039Z"
   },
   {
    "duration": 140,
    "start_time": "2022-05-18T09:47:31.318Z"
   },
   {
    "duration": 21,
    "start_time": "2022-05-18T09:47:31.459Z"
   },
   {
    "duration": 384,
    "start_time": "2022-05-18T09:47:31.482Z"
   },
   {
    "duration": 22,
    "start_time": "2022-05-18T09:47:31.867Z"
   },
   {
    "duration": 11,
    "start_time": "2022-05-18T09:47:31.891Z"
   },
   {
    "duration": 18,
    "start_time": "2022-05-18T09:47:31.904Z"
   },
   {
    "duration": 495,
    "start_time": "2022-05-18T09:47:31.926Z"
   },
   {
    "duration": 16,
    "start_time": "2022-05-18T09:47:32.422Z"
   },
   {
    "duration": 640,
    "start_time": "2022-05-18T09:47:32.440Z"
   },
   {
    "duration": 158,
    "start_time": "2022-05-18T09:47:33.082Z"
   },
   {
    "duration": 154,
    "start_time": "2022-05-18T09:47:33.242Z"
   },
   {
    "duration": 207,
    "start_time": "2022-05-18T09:47:33.397Z"
   },
   {
    "duration": 155,
    "start_time": "2022-05-18T09:47:33.606Z"
   },
   {
    "duration": 189,
    "start_time": "2022-05-18T09:47:33.763Z"
   },
   {
    "duration": 180,
    "start_time": "2022-05-18T09:47:33.954Z"
   },
   {
    "duration": 550,
    "start_time": "2022-05-18T09:47:34.136Z"
   },
   {
    "duration": 498,
    "start_time": "2022-05-18T09:47:34.688Z"
   },
   {
    "duration": 224,
    "start_time": "2022-05-18T09:47:35.187Z"
   },
   {
    "duration": 163,
    "start_time": "2022-05-18T09:47:35.412Z"
   },
   {
    "duration": 471,
    "start_time": "2022-05-18T09:47:35.576Z"
   },
   {
    "duration": 6,
    "start_time": "2022-05-18T09:47:36.048Z"
   },
   {
    "duration": 20,
    "start_time": "2022-05-18T09:47:36.055Z"
   },
   {
    "duration": 8,
    "start_time": "2022-05-18T09:47:36.076Z"
   },
   {
    "duration": 3,
    "start_time": "2022-05-18T09:47:36.085Z"
   },
   {
    "duration": 171,
    "start_time": "2022-05-18T09:47:36.090Z"
   },
   {
    "duration": 4,
    "start_time": "2022-05-18T09:47:36.263Z"
   },
   {
    "duration": 163,
    "start_time": "2022-05-18T09:47:36.275Z"
   },
   {
    "duration": 43,
    "start_time": "2022-05-18T09:47:36.440Z"
   },
   {
    "duration": 53,
    "start_time": "2022-05-18T09:47:36.484Z"
   },
   {
    "duration": 6,
    "start_time": "2022-05-18T09:47:36.539Z"
   },
   {
    "duration": 13,
    "start_time": "2022-05-18T09:47:36.574Z"
   },
   {
    "duration": 12,
    "start_time": "2022-05-18T09:47:36.588Z"
   },
   {
    "duration": 13,
    "start_time": "2022-05-18T09:47:36.602Z"
   },
   {
    "duration": 174,
    "start_time": "2022-05-18T09:47:36.617Z"
   },
   {
    "duration": 554,
    "start_time": "2022-05-18T09:47:36.793Z"
   },
   {
    "duration": 39,
    "start_time": "2022-05-18T09:47:37.349Z"
   },
   {
    "duration": 8,
    "start_time": "2022-05-18T09:47:37.389Z"
   },
   {
    "duration": 10,
    "start_time": "2022-05-18T09:47:37.398Z"
   },
   {
    "duration": 9,
    "start_time": "2022-05-18T09:47:37.414Z"
   },
   {
    "duration": 197,
    "start_time": "2022-05-18T09:47:37.425Z"
   },
   {
    "duration": 16,
    "start_time": "2022-05-18T09:47:37.624Z"
   },
   {
    "duration": 12,
    "start_time": "2022-05-18T09:47:37.641Z"
   },
   {
    "duration": 182,
    "start_time": "2022-05-18T09:47:37.655Z"
   },
   {
    "duration": 14,
    "start_time": "2022-05-18T09:47:37.839Z"
   },
   {
    "duration": 25,
    "start_time": "2022-05-18T09:47:37.855Z"
   },
   {
    "duration": 17,
    "start_time": "2022-05-18T09:47:37.882Z"
   },
   {
    "duration": 9,
    "start_time": "2022-05-18T09:47:37.900Z"
   },
   {
    "duration": 7,
    "start_time": "2022-05-18T09:47:37.911Z"
   },
   {
    "duration": 172,
    "start_time": "2022-05-18T09:47:37.920Z"
   },
   {
    "duration": 19,
    "start_time": "2022-05-18T09:47:38.094Z"
   },
   {
    "duration": 130,
    "start_time": "2022-05-18T09:47:38.114Z"
   },
   {
    "duration": 220,
    "start_time": "2022-05-18T09:47:38.245Z"
   },
   {
    "duration": 10,
    "start_time": "2022-05-18T09:47:38.467Z"
   },
   {
    "duration": 20,
    "start_time": "2022-05-18T09:47:38.479Z"
   },
   {
    "duration": 162,
    "start_time": "2022-05-18T09:47:38.501Z"
   },
   {
    "duration": 40,
    "start_time": "2022-05-18T09:47:38.665Z"
   },
   {
    "duration": 43,
    "start_time": "2022-05-18T09:47:38.707Z"
   },
   {
    "duration": 32,
    "start_time": "2022-05-18T09:47:38.751Z"
   },
   {
    "duration": 191,
    "start_time": "2022-05-18T09:47:38.785Z"
   },
   {
    "duration": 764,
    "start_time": "2022-05-18T09:47:38.978Z"
   },
   {
    "duration": 264,
    "start_time": "2022-05-18T09:47:39.744Z"
   },
   {
    "duration": 374,
    "start_time": "2022-05-18T09:47:40.010Z"
   },
   {
    "duration": 258,
    "start_time": "2022-05-18T09:47:40.386Z"
   },
   {
    "duration": 10,
    "start_time": "2022-05-18T09:47:40.646Z"
   },
   {
    "duration": 199,
    "start_time": "2022-05-18T09:47:40.658Z"
   },
   {
    "duration": 28,
    "start_time": "2022-05-18T09:47:40.860Z"
   },
   {
    "duration": 11,
    "start_time": "2022-05-18T09:47:40.890Z"
   },
   {
    "duration": 5,
    "start_time": "2022-05-18T09:48:46.204Z"
   },
   {
    "duration": 3,
    "start_time": "2022-05-18T09:58:49.160Z"
   },
   {
    "duration": 4,
    "start_time": "2022-05-18T09:59:55.805Z"
   },
   {
    "duration": 3,
    "start_time": "2022-05-18T10:00:18.026Z"
   },
   {
    "duration": 4,
    "start_time": "2022-05-18T10:00:27.493Z"
   },
   {
    "duration": 4,
    "start_time": "2022-05-18T10:00:31.612Z"
   },
   {
    "duration": 4,
    "start_time": "2022-05-18T10:00:43.921Z"
   },
   {
    "duration": 4,
    "start_time": "2022-05-18T10:00:58.744Z"
   },
   {
    "duration": 23,
    "start_time": "2022-05-18T10:06:17.412Z"
   },
   {
    "duration": 29,
    "start_time": "2022-05-18T10:06:35.944Z"
   },
   {
    "duration": 122,
    "start_time": "2022-05-18T10:09:43.813Z"
   },
   {
    "duration": 5,
    "start_time": "2022-05-18T10:09:53.319Z"
   },
   {
    "duration": 59,
    "start_time": "2022-05-18T10:10:03.839Z"
   },
   {
    "duration": 230,
    "start_time": "2022-05-18T10:10:18.140Z"
   },
   {
    "duration": 242,
    "start_time": "2022-05-18T10:10:29.462Z"
   },
   {
    "duration": 264,
    "start_time": "2022-05-18T10:10:45.053Z"
   },
   {
    "duration": 266,
    "start_time": "2022-05-18T10:10:55.603Z"
   },
   {
    "duration": 230,
    "start_time": "2022-05-18T10:11:07.593Z"
   },
   {
    "duration": 246,
    "start_time": "2022-05-18T10:13:14.820Z"
   },
   {
    "duration": 34,
    "start_time": "2022-05-18T10:17:09.733Z"
   },
   {
    "duration": 6,
    "start_time": "2022-05-18T10:17:23.961Z"
   },
   {
    "duration": 31,
    "start_time": "2022-05-18T10:18:03.605Z"
   },
   {
    "duration": 7,
    "start_time": "2022-05-18T10:18:27.642Z"
   },
   {
    "duration": 56,
    "start_time": "2022-05-18T10:20:17.050Z"
   },
   {
    "duration": 31,
    "start_time": "2022-05-18T10:20:32.754Z"
   },
   {
    "duration": 52,
    "start_time": "2022-05-18T10:21:19.194Z"
   },
   {
    "duration": 7,
    "start_time": "2022-05-18T10:22:01.561Z"
   },
   {
    "duration": 7,
    "start_time": "2022-05-18T10:23:09.178Z"
   },
   {
    "duration": 7,
    "start_time": "2022-05-18T10:23:15.438Z"
   },
   {
    "duration": 8,
    "start_time": "2022-05-18T10:23:28.594Z"
   },
   {
    "duration": 6,
    "start_time": "2022-05-18T10:23:49.625Z"
   },
   {
    "duration": 7,
    "start_time": "2022-05-18T10:24:32.715Z"
   },
   {
    "duration": 340,
    "start_time": "2022-05-18T10:24:43.478Z"
   },
   {
    "duration": 218,
    "start_time": "2022-05-18T10:24:57.320Z"
   },
   {
    "duration": 216,
    "start_time": "2022-05-18T10:25:19.151Z"
   },
   {
    "duration": 7,
    "start_time": "2022-05-18T10:25:36.073Z"
   },
   {
    "duration": 251,
    "start_time": "2022-05-18T10:38:42.231Z"
   },
   {
    "duration": 52,
    "start_time": "2022-05-18T21:04:42.661Z"
   },
   {
    "duration": 1472,
    "start_time": "2022-05-18T21:04:57.181Z"
   },
   {
    "duration": 158,
    "start_time": "2022-05-18T21:04:58.655Z"
   },
   {
    "duration": 74,
    "start_time": "2022-05-18T21:04:58.814Z"
   },
   {
    "duration": 90,
    "start_time": "2022-05-18T21:04:58.890Z"
   },
   {
    "duration": 74,
    "start_time": "2022-05-18T21:04:58.982Z"
   },
   {
    "duration": 16,
    "start_time": "2022-05-18T21:04:59.058Z"
   },
   {
    "duration": 5,
    "start_time": "2022-05-18T21:04:59.076Z"
   },
   {
    "duration": 48,
    "start_time": "2022-05-18T21:04:59.083Z"
   },
   {
    "duration": 16,
    "start_time": "2022-05-18T21:04:59.133Z"
   },
   {
    "duration": 3,
    "start_time": "2022-05-18T21:04:59.152Z"
   },
   {
    "duration": 487,
    "start_time": "2022-05-18T21:04:59.157Z"
   },
   {
    "duration": 23,
    "start_time": "2022-05-18T21:04:59.645Z"
   },
   {
    "duration": 37,
    "start_time": "2022-05-18T21:04:59.670Z"
   },
   {
    "duration": 3212,
    "start_time": "2022-05-18T21:04:59.709Z"
   },
   {
    "duration": 15,
    "start_time": "2022-05-18T21:05:02.931Z"
   },
   {
    "duration": 39,
    "start_time": "2022-05-18T21:05:02.948Z"
   },
   {
    "duration": 4,
    "start_time": "2022-05-18T21:05:02.989Z"
   },
   {
    "duration": 28,
    "start_time": "2022-05-18T21:05:02.995Z"
   },
   {
    "duration": 39,
    "start_time": "2022-05-18T21:05:03.029Z"
   },
   {
    "duration": 297,
    "start_time": "2022-05-18T21:05:03.070Z"
   },
   {
    "duration": 18,
    "start_time": "2022-05-18T21:05:03.369Z"
   },
   {
    "duration": 41,
    "start_time": "2022-05-18T21:05:03.389Z"
   },
   {
    "duration": 573,
    "start_time": "2022-05-18T21:05:03.432Z"
   },
   {
    "duration": 547,
    "start_time": "2022-05-18T21:05:04.007Z"
   },
   {
    "duration": 227,
    "start_time": "2022-05-18T21:05:04.557Z"
   },
   {
    "duration": 12,
    "start_time": "2022-05-18T21:05:04.786Z"
   },
   {
    "duration": 39,
    "start_time": "2022-05-18T21:05:04.800Z"
   },
   {
    "duration": 1666,
    "start_time": "2022-05-18T21:05:04.846Z"
   },
   {
    "duration": 21,
    "start_time": "2022-05-18T21:05:06.515Z"
   },
   {
    "duration": 65,
    "start_time": "2022-05-18T21:05:06.538Z"
   },
   {
    "duration": 52,
    "start_time": "2022-05-18T21:05:06.604Z"
   },
   {
    "duration": 3207,
    "start_time": "2022-05-18T21:05:06.659Z"
   },
   {
    "duration": 52,
    "start_time": "2022-05-18T21:05:09.868Z"
   },
   {
    "duration": 8,
    "start_time": "2022-05-18T21:05:09.922Z"
   },
   {
    "duration": 33,
    "start_time": "2022-05-18T21:05:09.933Z"
   },
   {
    "duration": 8,
    "start_time": "2022-05-18T21:05:09.968Z"
   },
   {
    "duration": 204,
    "start_time": "2022-05-18T21:05:09.978Z"
   },
   {
    "duration": 202,
    "start_time": "2022-05-18T21:05:10.184Z"
   },
   {
    "duration": 51,
    "start_time": "2022-05-18T21:05:10.388Z"
   },
   {
    "duration": 205,
    "start_time": "2022-05-18T21:05:10.441Z"
   },
   {
    "duration": 538,
    "start_time": "2022-05-18T21:05:10.649Z"
   },
   {
    "duration": 219,
    "start_time": "2022-05-18T21:05:11.189Z"
   },
   {
    "duration": 321,
    "start_time": "2022-05-18T21:05:11.410Z"
   },
   {
    "duration": 173,
    "start_time": "2022-05-18T21:05:11.733Z"
   },
   {
    "duration": 6,
    "start_time": "2022-05-18T21:05:11.908Z"
   },
   {
    "duration": 455,
    "start_time": "2022-05-18T21:05:11.928Z"
   },
   {
    "duration": 12,
    "start_time": "2022-05-18T21:05:12.384Z"
   },
   {
    "duration": 11,
    "start_time": "2022-05-18T21:05:12.398Z"
   },
   {
    "duration": 47,
    "start_time": "2022-05-18T21:05:12.410Z"
   },
   {
    "duration": 489,
    "start_time": "2022-05-18T21:05:12.459Z"
   },
   {
    "duration": 18,
    "start_time": "2022-05-18T21:05:12.950Z"
   },
   {
    "duration": 629,
    "start_time": "2022-05-18T21:05:12.970Z"
   },
   {
    "duration": 175,
    "start_time": "2022-05-18T21:05:13.601Z"
   },
   {
    "duration": 194,
    "start_time": "2022-05-18T21:05:13.778Z"
   },
   {
    "duration": 229,
    "start_time": "2022-05-18T21:05:13.974Z"
   },
   {
    "duration": 179,
    "start_time": "2022-05-18T21:05:14.205Z"
   },
   {
    "duration": 262,
    "start_time": "2022-05-18T21:05:14.386Z"
   },
   {
    "duration": 192,
    "start_time": "2022-05-18T21:05:14.653Z"
   },
   {
    "duration": 660,
    "start_time": "2022-05-18T21:05:14.848Z"
   },
   {
    "duration": 546,
    "start_time": "2022-05-18T21:05:15.510Z"
   },
   {
    "duration": 285,
    "start_time": "2022-05-18T21:05:16.058Z"
   },
   {
    "duration": 217,
    "start_time": "2022-05-18T21:05:16.346Z"
   },
   {
    "duration": 622,
    "start_time": "2022-05-18T21:05:16.565Z"
   },
   {
    "duration": 6,
    "start_time": "2022-05-18T21:05:17.190Z"
   },
   {
    "duration": 10,
    "start_time": "2022-05-18T21:05:17.197Z"
   },
   {
    "duration": 27,
    "start_time": "2022-05-18T21:05:17.209Z"
   },
   {
    "duration": 4,
    "start_time": "2022-05-18T21:05:17.238Z"
   },
   {
    "duration": 169,
    "start_time": "2022-05-18T21:05:17.244Z"
   },
   {
    "duration": 16,
    "start_time": "2022-05-18T21:05:17.415Z"
   },
   {
    "duration": 181,
    "start_time": "2022-05-18T21:05:17.432Z"
   },
   {
    "duration": 50,
    "start_time": "2022-05-18T21:05:17.615Z"
   },
   {
    "duration": 87,
    "start_time": "2022-05-18T21:05:17.667Z"
   },
   {
    "duration": 5,
    "start_time": "2022-05-18T21:05:17.757Z"
   },
   {
    "duration": 22,
    "start_time": "2022-05-18T21:05:17.764Z"
   },
   {
    "duration": 9,
    "start_time": "2022-05-18T21:05:17.788Z"
   },
   {
    "duration": 36,
    "start_time": "2022-05-18T21:05:17.799Z"
   },
   {
    "duration": 215,
    "start_time": "2022-05-18T21:05:17.837Z"
   },
   {
    "duration": 626,
    "start_time": "2022-05-18T21:05:18.054Z"
   },
   {
    "duration": 33,
    "start_time": "2022-05-18T21:05:18.682Z"
   },
   {
    "duration": 18,
    "start_time": "2022-05-18T21:05:18.717Z"
   },
   {
    "duration": 24,
    "start_time": "2022-05-18T21:05:18.737Z"
   },
   {
    "duration": 10,
    "start_time": "2022-05-18T21:05:18.775Z"
   },
   {
    "duration": 214,
    "start_time": "2022-05-18T21:05:18.789Z"
   },
   {
    "duration": 30,
    "start_time": "2022-05-18T21:05:19.005Z"
   },
   {
    "duration": 29,
    "start_time": "2022-05-18T21:05:19.038Z"
   },
   {
    "duration": 176,
    "start_time": "2022-05-18T21:05:19.070Z"
   },
   {
    "duration": 25,
    "start_time": "2022-05-18T21:05:19.248Z"
   },
   {
    "duration": 28,
    "start_time": "2022-05-18T21:05:19.276Z"
   },
   {
    "duration": 35,
    "start_time": "2022-05-18T21:05:19.306Z"
   },
   {
    "duration": 13,
    "start_time": "2022-05-18T21:05:19.343Z"
   },
   {
    "duration": 10,
    "start_time": "2022-05-18T21:05:19.358Z"
   },
   {
    "duration": 191,
    "start_time": "2022-05-18T21:05:19.369Z"
   },
   {
    "duration": 22,
    "start_time": "2022-05-18T21:05:19.562Z"
   },
   {
    "duration": 154,
    "start_time": "2022-05-18T21:05:19.586Z"
   },
   {
    "duration": 234,
    "start_time": "2022-05-18T21:05:19.742Z"
   },
   {
    "duration": 8,
    "start_time": "2022-05-18T21:05:19.978Z"
   },
   {
    "duration": 18,
    "start_time": "2022-05-18T21:05:19.988Z"
   },
   {
    "duration": 215,
    "start_time": "2022-05-18T21:05:20.008Z"
   },
   {
    "duration": 46,
    "start_time": "2022-05-18T21:05:20.225Z"
   },
   {
    "duration": 59,
    "start_time": "2022-05-18T21:05:20.273Z"
   },
   {
    "duration": 45,
    "start_time": "2022-05-18T21:05:20.334Z"
   },
   {
    "duration": 224,
    "start_time": "2022-05-18T21:05:20.381Z"
   },
   {
    "duration": 869,
    "start_time": "2022-05-18T21:05:20.606Z"
   },
   {
    "duration": 260,
    "start_time": "2022-05-18T21:05:21.478Z"
   },
   {
    "duration": 422,
    "start_time": "2022-05-18T21:05:21.748Z"
   },
   {
    "duration": 265,
    "start_time": "2022-05-18T21:05:22.173Z"
   },
   {
    "duration": 15,
    "start_time": "2022-05-18T21:05:22.440Z"
   },
   {
    "duration": 159,
    "start_time": "2022-05-18T21:05:22.457Z"
   },
   {
    "duration": 32,
    "start_time": "2022-05-18T21:05:22.618Z"
   },
   {
    "duration": 15,
    "start_time": "2022-05-18T21:05:22.652Z"
   },
   {
    "duration": 4,
    "start_time": "2022-05-18T21:05:22.669Z"
   },
   {
    "duration": 69,
    "start_time": "2022-05-18T21:05:22.674Z"
   },
   {
    "duration": 44,
    "start_time": "2022-05-18T21:05:22.745Z"
   },
   {
    "duration": 382,
    "start_time": "2022-05-18T21:05:22.791Z"
   },
   {
    "duration": 14,
    "start_time": "2022-05-18T21:05:23.174Z"
   },
   {
    "duration": 6,
    "start_time": "2022-05-18T21:05:23.190Z"
   },
   {
    "duration": 361,
    "start_time": "2022-05-18T21:05:23.197Z"
   },
   {
    "duration": 341,
    "start_time": "2022-05-18T21:05:23.560Z"
   },
   {
    "duration": 61,
    "start_time": "2022-05-18T21:05:23.903Z"
   },
   {
    "duration": 407,
    "start_time": "2022-05-18T21:05:23.967Z"
   },
   {
    "duration": 278,
    "start_time": "2022-05-18T21:05:24.377Z"
   },
   {
    "duration": 36,
    "start_time": "2022-05-18T21:05:24.658Z"
   },
   {
    "duration": 289,
    "start_time": "2022-05-18T21:05:24.696Z"
   },
   {
    "duration": 8,
    "start_time": "2022-05-18T21:05:24.987Z"
   },
   {
    "duration": 283,
    "start_time": "2022-05-18T21:05:24.996Z"
   },
   {
    "duration": 346,
    "start_time": "2022-05-18T21:05:25.281Z"
   },
   {
    "duration": 486,
    "start_time": "2022-05-18T21:05:25.629Z"
   },
   {
    "duration": 295,
    "start_time": "2022-05-18T21:05:26.117Z"
   },
   {
    "duration": 568,
    "start_time": "2022-05-18T21:05:26.415Z"
   },
   {
    "duration": 600,
    "start_time": "2022-05-18T21:05:26.986Z"
   },
   {
    "duration": 143,
    "start_time": "2022-05-18T21:05:27.589Z"
   },
   {
    "duration": 7,
    "start_time": "2022-05-18T21:05:27.734Z"
   },
   {
    "duration": 165,
    "start_time": "2022-05-18T21:05:27.743Z"
   },
   {
    "duration": 188,
    "start_time": "2022-05-18T21:05:27.910Z"
   },
   {
    "duration": 193,
    "start_time": "2022-05-18T21:05:28.100Z"
   },
   {
    "duration": 57,
    "start_time": "2022-05-18T21:05:28.295Z"
   },
   {
    "duration": 1289,
    "start_time": "2022-05-18T21:05:28.354Z"
   },
   {
    "duration": 784,
    "start_time": "2022-05-18T21:05:29.645Z"
   },
   {
    "duration": 15,
    "start_time": "2022-05-18T21:05:30.431Z"
   },
   {
    "duration": 442,
    "start_time": "2022-05-18T21:05:30.448Z"
   },
   {
    "duration": 304,
    "start_time": "2022-05-18T21:05:30.892Z"
   },
   {
    "duration": 183,
    "start_time": "2022-05-18T21:05:31.199Z"
   },
   {
    "duration": 305,
    "start_time": "2022-05-18T21:05:31.385Z"
   },
   {
    "duration": 334,
    "start_time": "2022-05-18T21:05:31.692Z"
   },
   {
    "duration": 978,
    "start_time": "2022-05-18T21:05:32.027Z"
   },
   {
    "duration": 64,
    "start_time": "2022-05-18T21:05:33.007Z"
   },
   {
    "duration": 325,
    "start_time": "2022-05-18T21:05:33.074Z"
   },
   {
    "duration": 294,
    "start_time": "2022-05-18T21:05:33.401Z"
   },
   {
    "duration": 297,
    "start_time": "2022-05-18T21:05:33.697Z"
   },
   {
    "duration": 36,
    "start_time": "2022-05-18T21:05:33.996Z"
   },
   {
    "duration": 35,
    "start_time": "2022-05-18T21:05:34.034Z"
   },
   {
    "duration": 448,
    "start_time": "2022-05-18T21:05:34.071Z"
   },
   {
    "duration": 32,
    "start_time": "2022-05-18T21:05:34.521Z"
   },
   {
    "duration": 11,
    "start_time": "2022-05-18T21:05:34.555Z"
   },
   {
    "duration": 11,
    "start_time": "2022-05-18T21:05:34.568Z"
   },
   {
    "duration": 9,
    "start_time": "2022-05-18T21:05:34.581Z"
   },
   {
    "duration": 671,
    "start_time": "2022-05-18T21:05:34.592Z"
   },
   {
    "duration": 541,
    "start_time": "2022-05-18T21:05:35.265Z"
   },
   {
    "duration": 466,
    "start_time": "2022-05-18T21:05:35.807Z"
   },
   {
    "duration": 317,
    "start_time": "2022-05-18T21:05:36.274Z"
   },
   {
    "duration": 1131,
    "start_time": "2022-05-18T21:05:36.594Z"
   },
   {
    "duration": 641,
    "start_time": "2022-05-18T21:05:37.727Z"
   },
   {
    "duration": 4,
    "start_time": "2022-05-18T21:05:38.370Z"
   },
   {
    "duration": 382,
    "start_time": "2022-05-18T21:05:38.376Z"
   },
   {
    "duration": 225,
    "start_time": "2022-05-18T21:05:38.760Z"
   },
   {
    "duration": 279,
    "start_time": "2022-05-18T21:05:38.987Z"
   },
   {
    "duration": 761,
    "start_time": "2022-05-18T21:05:39.271Z"
   },
   {
    "duration": 638,
    "start_time": "2022-05-18T21:05:40.034Z"
   },
   {
    "duration": 658,
    "start_time": "2022-05-18T21:05:40.674Z"
   },
   {
    "duration": 353,
    "start_time": "2022-05-18T21:05:41.335Z"
   },
   {
    "duration": 5,
    "start_time": "2022-05-18T21:07:17.818Z"
   },
   {
    "duration": 6,
    "start_time": "2022-05-18T21:07:50.959Z"
   },
   {
    "duration": 1235,
    "start_time": "2022-05-18T21:31:48.527Z"
   },
   {
    "duration": 113,
    "start_time": "2022-05-18T21:31:49.764Z"
   },
   {
    "duration": 85,
    "start_time": "2022-05-18T21:31:49.878Z"
   },
   {
    "duration": 92,
    "start_time": "2022-05-18T21:31:49.965Z"
   },
   {
    "duration": 91,
    "start_time": "2022-05-18T21:31:50.058Z"
   },
   {
    "duration": 18,
    "start_time": "2022-05-18T21:31:50.151Z"
   },
   {
    "duration": 6,
    "start_time": "2022-05-18T21:31:50.171Z"
   },
   {
    "duration": 55,
    "start_time": "2022-05-18T21:31:50.179Z"
   },
   {
    "duration": 17,
    "start_time": "2022-05-18T21:31:50.236Z"
   },
   {
    "duration": 3,
    "start_time": "2022-05-18T21:31:50.256Z"
   },
   {
    "duration": 493,
    "start_time": "2022-05-18T21:31:50.261Z"
   },
   {
    "duration": 24,
    "start_time": "2022-05-18T21:31:50.756Z"
   },
   {
    "duration": 54,
    "start_time": "2022-05-18T21:31:50.782Z"
   },
   {
    "duration": 3109,
    "start_time": "2022-05-18T21:31:50.838Z"
   },
   {
    "duration": 8,
    "start_time": "2022-05-18T21:31:53.949Z"
   },
   {
    "duration": 16,
    "start_time": "2022-05-18T21:31:53.959Z"
   },
   {
    "duration": 4,
    "start_time": "2022-05-18T21:31:53.976Z"
   },
   {
    "duration": 20,
    "start_time": "2022-05-18T21:31:53.981Z"
   },
   {
    "duration": 49,
    "start_time": "2022-05-18T21:31:54.003Z"
   },
   {
    "duration": 222,
    "start_time": "2022-05-18T21:31:54.054Z"
   },
   {
    "duration": 15,
    "start_time": "2022-05-18T21:31:54.279Z"
   },
   {
    "duration": 4,
    "start_time": "2022-05-18T21:31:54.296Z"
   },
   {
    "duration": 450,
    "start_time": "2022-05-18T21:31:54.302Z"
   },
   {
    "duration": 497,
    "start_time": "2022-05-18T21:31:54.754Z"
   },
   {
    "duration": 206,
    "start_time": "2022-05-18T21:31:55.254Z"
   },
   {
    "duration": 8,
    "start_time": "2022-05-18T21:31:55.462Z"
   },
   {
    "duration": 16,
    "start_time": "2022-05-18T21:31:55.471Z"
   },
   {
    "duration": 1796,
    "start_time": "2022-05-18T21:31:55.491Z"
   },
   {
    "duration": 15,
    "start_time": "2022-05-18T21:31:57.289Z"
   },
   {
    "duration": 19,
    "start_time": "2022-05-18T21:31:57.305Z"
   },
   {
    "duration": 18,
    "start_time": "2022-05-18T21:31:57.325Z"
   },
   {
    "duration": 2146,
    "start_time": "2022-05-18T21:31:57.344Z"
   },
   {
    "duration": 42,
    "start_time": "2022-05-18T21:31:59.491Z"
   },
   {
    "duration": 6,
    "start_time": "2022-05-18T21:31:59.535Z"
   },
   {
    "duration": 23,
    "start_time": "2022-05-18T21:31:59.543Z"
   },
   {
    "duration": 9,
    "start_time": "2022-05-18T21:31:59.567Z"
   },
   {
    "duration": 184,
    "start_time": "2022-05-18T21:31:59.577Z"
   },
   {
    "duration": 165,
    "start_time": "2022-05-18T21:31:59.763Z"
   },
   {
    "duration": 39,
    "start_time": "2022-05-18T21:31:59.930Z"
   },
   {
    "duration": 188,
    "start_time": "2022-05-18T21:31:59.970Z"
   },
   {
    "duration": 499,
    "start_time": "2022-05-18T21:32:00.159Z"
   },
   {
    "duration": 190,
    "start_time": "2022-05-18T21:32:00.659Z"
   },
   {
    "duration": 298,
    "start_time": "2022-05-18T21:32:00.851Z"
   },
   {
    "duration": 143,
    "start_time": "2022-05-18T21:32:01.151Z"
   },
   {
    "duration": 6,
    "start_time": "2022-05-18T21:32:01.295Z"
   },
   {
    "duration": 445,
    "start_time": "2022-05-18T21:32:01.303Z"
   },
   {
    "duration": 12,
    "start_time": "2022-05-18T21:32:01.750Z"
   },
   {
    "duration": 25,
    "start_time": "2022-05-18T21:32:01.764Z"
   },
   {
    "duration": 35,
    "start_time": "2022-05-18T21:32:01.791Z"
   },
   {
    "duration": 513,
    "start_time": "2022-05-18T21:32:01.828Z"
   },
   {
    "duration": 19,
    "start_time": "2022-05-18T21:32:02.343Z"
   },
   {
    "duration": 522,
    "start_time": "2022-05-18T21:32:02.363Z"
   },
   {
    "duration": 144,
    "start_time": "2022-05-18T21:32:02.886Z"
   },
   {
    "duration": 155,
    "start_time": "2022-05-18T21:32:03.032Z"
   },
   {
    "duration": 205,
    "start_time": "2022-05-18T21:32:03.189Z"
   },
   {
    "duration": 168,
    "start_time": "2022-05-18T21:32:03.395Z"
   },
   {
    "duration": 209,
    "start_time": "2022-05-18T21:32:03.565Z"
   },
   {
    "duration": 178,
    "start_time": "2022-05-18T21:32:03.776Z"
   },
   {
    "duration": 553,
    "start_time": "2022-05-18T21:32:03.956Z"
   },
   {
    "duration": 465,
    "start_time": "2022-05-18T21:32:04.511Z"
   },
   {
    "duration": 202,
    "start_time": "2022-05-18T21:32:04.977Z"
   },
   {
    "duration": 146,
    "start_time": "2022-05-18T21:32:05.181Z"
   },
   {
    "duration": 454,
    "start_time": "2022-05-18T21:32:05.331Z"
   },
   {
    "duration": 6,
    "start_time": "2022-05-18T21:32:05.786Z"
   },
   {
    "duration": 9,
    "start_time": "2022-05-18T21:32:05.793Z"
   },
   {
    "duration": 14,
    "start_time": "2022-05-18T21:32:05.803Z"
   },
   {
    "duration": 4,
    "start_time": "2022-05-18T21:32:05.818Z"
   },
   {
    "duration": 156,
    "start_time": "2022-05-18T21:32:05.828Z"
   },
   {
    "duration": 3,
    "start_time": "2022-05-18T21:32:05.986Z"
   },
   {
    "duration": 146,
    "start_time": "2022-05-18T21:32:05.991Z"
   },
   {
    "duration": 33,
    "start_time": "2022-05-18T21:32:06.139Z"
   },
   {
    "duration": 87,
    "start_time": "2022-05-18T21:32:06.174Z"
   },
   {
    "duration": 5,
    "start_time": "2022-05-18T21:32:06.263Z"
   },
   {
    "duration": 17,
    "start_time": "2022-05-18T21:32:06.270Z"
   },
   {
    "duration": 27,
    "start_time": "2022-05-18T21:32:06.288Z"
   },
   {
    "duration": 18,
    "start_time": "2022-05-18T21:32:06.317Z"
   },
   {
    "duration": 188,
    "start_time": "2022-05-18T21:32:06.337Z"
   },
   {
    "duration": 595,
    "start_time": "2022-05-18T21:32:06.527Z"
   },
   {
    "duration": 44,
    "start_time": "2022-05-18T21:32:07.124Z"
   },
   {
    "duration": 8,
    "start_time": "2022-05-18T21:32:07.169Z"
   },
   {
    "duration": 13,
    "start_time": "2022-05-18T21:32:07.179Z"
   },
   {
    "duration": 31,
    "start_time": "2022-05-18T21:32:07.199Z"
   },
   {
    "duration": 170,
    "start_time": "2022-05-18T21:32:07.232Z"
   },
   {
    "duration": 23,
    "start_time": "2022-05-18T21:32:07.404Z"
   },
   {
    "duration": 12,
    "start_time": "2022-05-18T21:32:07.429Z"
   },
   {
    "duration": 150,
    "start_time": "2022-05-18T21:32:07.443Z"
   },
   {
    "duration": 19,
    "start_time": "2022-05-18T21:32:07.594Z"
   },
   {
    "duration": 23,
    "start_time": "2022-05-18T21:32:07.615Z"
   },
   {
    "duration": 25,
    "start_time": "2022-05-18T21:32:07.641Z"
   },
   {
    "duration": 18,
    "start_time": "2022-05-18T21:32:07.668Z"
   },
   {
    "duration": 4,
    "start_time": "2022-05-18T21:32:07.689Z"
   },
   {
    "duration": 171,
    "start_time": "2022-05-18T21:32:07.695Z"
   },
   {
    "duration": 18,
    "start_time": "2022-05-18T21:32:07.868Z"
   },
   {
    "duration": 128,
    "start_time": "2022-05-18T21:32:07.887Z"
   },
   {
    "duration": 210,
    "start_time": "2022-05-18T21:32:08.017Z"
   },
   {
    "duration": 9,
    "start_time": "2022-05-18T21:32:08.229Z"
   },
   {
    "duration": 20,
    "start_time": "2022-05-18T21:32:08.240Z"
   },
   {
    "duration": 153,
    "start_time": "2022-05-18T21:32:08.262Z"
   },
   {
    "duration": 43,
    "start_time": "2022-05-18T21:32:08.417Z"
   },
   {
    "duration": 35,
    "start_time": "2022-05-18T21:32:08.461Z"
   },
   {
    "duration": 38,
    "start_time": "2022-05-18T21:32:08.498Z"
   },
   {
    "duration": 177,
    "start_time": "2022-05-18T21:32:08.538Z"
   },
   {
    "duration": 780,
    "start_time": "2022-05-18T21:32:08.717Z"
   },
   {
    "duration": 228,
    "start_time": "2022-05-18T21:32:09.499Z"
   },
   {
    "duration": 419,
    "start_time": "2022-05-18T21:32:09.729Z"
   },
   {
    "duration": 258,
    "start_time": "2022-05-18T21:32:10.150Z"
   },
   {
    "duration": 19,
    "start_time": "2022-05-18T21:32:10.410Z"
   },
   {
    "duration": 161,
    "start_time": "2022-05-18T21:32:10.431Z"
   },
   {
    "duration": 17,
    "start_time": "2022-05-18T21:32:10.594Z"
   },
   {
    "duration": 39,
    "start_time": "2022-05-18T21:32:10.613Z"
   },
   {
    "duration": 12,
    "start_time": "2022-05-18T21:32:10.654Z"
   },
   {
    "duration": 63,
    "start_time": "2022-05-18T21:32:10.670Z"
   },
   {
    "duration": 37,
    "start_time": "2022-05-18T21:32:10.735Z"
   },
   {
    "duration": 381,
    "start_time": "2022-05-18T21:32:10.773Z"
   },
   {
    "duration": 5,
    "start_time": "2022-05-18T21:32:11.156Z"
   },
   {
    "duration": 362,
    "start_time": "2022-05-18T21:32:11.163Z"
   },
   {
    "duration": 335,
    "start_time": "2022-05-18T21:32:11.527Z"
   },
   {
    "duration": 36,
    "start_time": "2022-05-18T21:32:11.863Z"
   },
   {
    "duration": 411,
    "start_time": "2022-05-18T21:32:11.901Z"
   },
   {
    "duration": 269,
    "start_time": "2022-05-18T21:32:12.314Z"
   },
   {
    "duration": 26,
    "start_time": "2022-05-18T21:32:12.584Z"
   },
   {
    "duration": 254,
    "start_time": "2022-05-18T21:32:12.612Z"
   },
   {
    "duration": 7,
    "start_time": "2022-05-18T21:32:12.868Z"
   },
   {
    "duration": 250,
    "start_time": "2022-05-18T21:32:12.876Z"
   },
   {
    "duration": 340,
    "start_time": "2022-05-18T21:32:13.128Z"
   },
   {
    "duration": 463,
    "start_time": "2022-05-18T21:32:13.470Z"
   },
   {
    "duration": 256,
    "start_time": "2022-05-18T21:32:13.937Z"
   },
   {
    "duration": 497,
    "start_time": "2022-05-18T21:32:14.194Z"
   },
   {
    "duration": 606,
    "start_time": "2022-05-18T21:32:14.693Z"
   },
   {
    "duration": 151,
    "start_time": "2022-05-18T21:32:15.300Z"
   },
   {
    "duration": 7,
    "start_time": "2022-05-18T21:32:15.452Z"
   },
   {
    "duration": 163,
    "start_time": "2022-05-18T21:32:15.464Z"
   },
   {
    "duration": 169,
    "start_time": "2022-05-18T21:32:15.628Z"
   },
   {
    "duration": 175,
    "start_time": "2022-05-18T21:32:15.799Z"
   },
   {
    "duration": 57,
    "start_time": "2022-05-18T21:32:15.976Z"
   },
   {
    "duration": 1159,
    "start_time": "2022-05-18T21:32:16.035Z"
   },
   {
    "duration": 691,
    "start_time": "2022-05-18T21:32:17.197Z"
   },
   {
    "duration": 5,
    "start_time": "2022-05-18T21:32:17.890Z"
   },
   {
    "duration": 417,
    "start_time": "2022-05-18T21:32:17.897Z"
   },
   {
    "duration": 276,
    "start_time": "2022-05-18T21:32:18.316Z"
   },
   {
    "duration": 155,
    "start_time": "2022-05-18T21:32:18.593Z"
   },
   {
    "duration": 254,
    "start_time": "2022-05-18T21:32:18.750Z"
   },
   {
    "duration": 305,
    "start_time": "2022-05-18T21:32:19.005Z"
   },
   {
    "duration": 803,
    "start_time": "2022-05-18T21:32:19.311Z"
   },
   {
    "duration": 55,
    "start_time": "2022-05-18T21:32:20.116Z"
   },
   {
    "duration": 313,
    "start_time": "2022-05-18T21:32:20.173Z"
   },
   {
    "duration": 297,
    "start_time": "2022-05-18T21:32:20.489Z"
   },
   {
    "duration": 268,
    "start_time": "2022-05-18T21:32:20.789Z"
   },
   {
    "duration": 30,
    "start_time": "2022-05-18T21:32:21.058Z"
   },
   {
    "duration": 48,
    "start_time": "2022-05-18T21:32:21.090Z"
   },
   {
    "duration": 413,
    "start_time": "2022-05-18T21:32:21.140Z"
   },
   {
    "duration": 25,
    "start_time": "2022-05-18T21:32:21.555Z"
   },
   {
    "duration": 38,
    "start_time": "2022-05-18T21:32:21.582Z"
   },
   {
    "duration": 73,
    "start_time": "2022-05-18T21:32:21.623Z"
   },
   {
    "duration": 23,
    "start_time": "2022-05-18T21:32:21.698Z"
   },
   {
    "duration": 702,
    "start_time": "2022-05-18T21:32:21.723Z"
   },
   {
    "duration": 480,
    "start_time": "2022-05-18T21:32:22.426Z"
   },
   {
    "duration": 431,
    "start_time": "2022-05-18T21:32:22.908Z"
   },
   {
    "duration": 254,
    "start_time": "2022-05-18T21:32:23.344Z"
   },
   {
    "duration": 966,
    "start_time": "2022-05-18T21:32:23.601Z"
   },
   {
    "duration": 632,
    "start_time": "2022-05-18T21:32:24.570Z"
   },
   {
    "duration": 4,
    "start_time": "2022-05-18T21:32:25.204Z"
   },
   {
    "duration": 340,
    "start_time": "2022-05-18T21:32:25.210Z"
   },
   {
    "duration": 141,
    "start_time": "2022-05-18T21:32:25.551Z"
   },
   {
    "duration": 282,
    "start_time": "2022-05-18T21:32:25.694Z"
   },
   {
    "duration": 771,
    "start_time": "2022-05-18T21:32:25.978Z"
   },
   {
    "duration": 593,
    "start_time": "2022-05-18T21:32:26.751Z"
   },
   {
    "duration": 606,
    "start_time": "2022-05-18T21:32:27.348Z"
   },
   {
    "duration": 314,
    "start_time": "2022-05-18T21:32:27.957Z"
   },
   {
    "duration": 6,
    "start_time": "2022-05-18T21:32:28.273Z"
   },
   {
    "duration": 18,
    "start_time": "2022-05-18T21:32:28.282Z"
   },
   {
    "duration": 511,
    "start_time": "2022-05-18T21:32:28.302Z"
   },
   {
    "duration": 486,
    "start_time": "2022-05-18T21:32:28.815Z"
   },
   {
    "duration": 1333,
    "start_time": "2022-05-18T21:40:45.248Z"
   },
   {
    "duration": 142,
    "start_time": "2022-05-18T21:40:46.584Z"
   },
   {
    "duration": 68,
    "start_time": "2022-05-18T21:40:46.728Z"
   },
   {
    "duration": 98,
    "start_time": "2022-05-18T21:40:46.799Z"
   },
   {
    "duration": 71,
    "start_time": "2022-05-18T21:40:46.899Z"
   },
   {
    "duration": 20,
    "start_time": "2022-05-18T21:40:46.971Z"
   },
   {
    "duration": 9,
    "start_time": "2022-05-18T21:40:46.993Z"
   },
   {
    "duration": 51,
    "start_time": "2022-05-18T21:40:47.004Z"
   },
   {
    "duration": 12,
    "start_time": "2022-05-18T21:40:47.058Z"
   },
   {
    "duration": 9,
    "start_time": "2022-05-18T21:40:47.074Z"
   },
   {
    "duration": 427,
    "start_time": "2022-05-18T21:40:47.085Z"
   },
   {
    "duration": 29,
    "start_time": "2022-05-18T21:40:47.513Z"
   },
   {
    "duration": 43,
    "start_time": "2022-05-18T21:40:47.544Z"
   },
   {
    "duration": 2658,
    "start_time": "2022-05-18T21:40:47.589Z"
   },
   {
    "duration": 8,
    "start_time": "2022-05-18T21:40:50.248Z"
   },
   {
    "duration": 29,
    "start_time": "2022-05-18T21:40:50.258Z"
   },
   {
    "duration": 5,
    "start_time": "2022-05-18T21:40:50.288Z"
   },
   {
    "duration": 10,
    "start_time": "2022-05-18T21:40:50.295Z"
   },
   {
    "duration": 33,
    "start_time": "2022-05-18T21:40:50.307Z"
   },
   {
    "duration": 216,
    "start_time": "2022-05-18T21:40:50.342Z"
   },
   {
    "duration": 14,
    "start_time": "2022-05-18T21:40:50.560Z"
   },
   {
    "duration": 5,
    "start_time": "2022-05-18T21:40:50.576Z"
   },
   {
    "duration": 436,
    "start_time": "2022-05-18T21:40:50.583Z"
   },
   {
    "duration": 482,
    "start_time": "2022-05-18T21:40:51.027Z"
   },
   {
    "duration": 181,
    "start_time": "2022-05-18T21:40:51.511Z"
   },
   {
    "duration": 8,
    "start_time": "2022-05-18T21:40:51.694Z"
   },
   {
    "duration": 31,
    "start_time": "2022-05-18T21:40:51.703Z"
   },
   {
    "duration": 2656,
    "start_time": "2022-05-18T21:40:51.738Z"
   },
   {
    "duration": 13,
    "start_time": "2022-05-18T21:40:54.395Z"
   },
   {
    "duration": 19,
    "start_time": "2022-05-18T21:40:54.409Z"
   },
   {
    "duration": 11,
    "start_time": "2022-05-18T21:40:54.430Z"
   },
   {
    "duration": 2147,
    "start_time": "2022-05-18T21:40:54.443Z"
   },
   {
    "duration": 41,
    "start_time": "2022-05-18T21:40:56.592Z"
   },
   {
    "duration": 5,
    "start_time": "2022-05-18T21:40:56.634Z"
   },
   {
    "duration": 14,
    "start_time": "2022-05-18T21:40:56.640Z"
   },
   {
    "duration": 7,
    "start_time": "2022-05-18T21:40:56.656Z"
   },
   {
    "duration": 184,
    "start_time": "2022-05-18T21:40:56.665Z"
   },
   {
    "duration": 177,
    "start_time": "2022-05-18T21:40:56.851Z"
   },
   {
    "duration": 33,
    "start_time": "2022-05-18T21:40:57.030Z"
   },
   {
    "duration": 164,
    "start_time": "2022-05-18T21:40:57.064Z"
   },
   {
    "duration": 425,
    "start_time": "2022-05-18T21:40:57.230Z"
   },
   {
    "duration": 165,
    "start_time": "2022-05-18T21:40:57.656Z"
   },
   {
    "duration": 271,
    "start_time": "2022-05-18T21:40:57.822Z"
   },
   {
    "duration": 121,
    "start_time": "2022-05-18T21:40:58.094Z"
   },
   {
    "duration": 13,
    "start_time": "2022-05-18T21:40:58.217Z"
   },
   {
    "duration": 360,
    "start_time": "2022-05-18T21:40:58.231Z"
   },
   {
    "duration": 12,
    "start_time": "2022-05-18T21:40:58.593Z"
   },
   {
    "duration": 23,
    "start_time": "2022-05-18T21:40:58.607Z"
   },
   {
    "duration": 18,
    "start_time": "2022-05-18T21:40:58.632Z"
   },
   {
    "duration": 418,
    "start_time": "2022-05-18T21:40:58.651Z"
   },
   {
    "duration": 17,
    "start_time": "2022-05-18T21:40:59.070Z"
   },
   {
    "duration": 530,
    "start_time": "2022-05-18T21:40:59.088Z"
   },
   {
    "duration": 169,
    "start_time": "2022-05-18T21:40:59.620Z"
   },
   {
    "duration": 142,
    "start_time": "2022-05-18T21:40:59.791Z"
   },
   {
    "duration": 201,
    "start_time": "2022-05-18T21:40:59.935Z"
   },
   {
    "duration": 142,
    "start_time": "2022-05-18T21:41:00.138Z"
   },
   {
    "duration": 192,
    "start_time": "2022-05-18T21:41:00.282Z"
   },
   {
    "duration": 139,
    "start_time": "2022-05-18T21:41:00.475Z"
   },
   {
    "duration": 519,
    "start_time": "2022-05-18T21:41:00.615Z"
   },
   {
    "duration": 457,
    "start_time": "2022-05-18T21:41:01.136Z"
   },
   {
    "duration": 199,
    "start_time": "2022-05-18T21:41:01.594Z"
   },
   {
    "duration": 175,
    "start_time": "2022-05-18T21:41:01.795Z"
   },
   {
    "duration": 464,
    "start_time": "2022-05-18T21:41:01.972Z"
   },
   {
    "duration": 5,
    "start_time": "2022-05-18T21:41:02.438Z"
   },
   {
    "duration": 16,
    "start_time": "2022-05-18T21:41:02.445Z"
   },
   {
    "duration": 19,
    "start_time": "2022-05-18T21:41:02.463Z"
   },
   {
    "duration": 10,
    "start_time": "2022-05-18T21:41:02.483Z"
   },
   {
    "duration": 146,
    "start_time": "2022-05-18T21:41:02.495Z"
   },
   {
    "duration": 3,
    "start_time": "2022-05-18T21:41:02.642Z"
   },
   {
    "duration": 142,
    "start_time": "2022-05-18T21:41:02.647Z"
   },
   {
    "duration": 47,
    "start_time": "2022-05-18T21:41:02.791Z"
   },
   {
    "duration": 47,
    "start_time": "2022-05-18T21:41:02.839Z"
   },
   {
    "duration": 6,
    "start_time": "2022-05-18T21:41:02.888Z"
   },
   {
    "duration": 41,
    "start_time": "2022-05-18T21:41:02.895Z"
   },
   {
    "duration": 30,
    "start_time": "2022-05-18T21:41:02.937Z"
   },
   {
    "duration": 19,
    "start_time": "2022-05-18T21:41:02.968Z"
   },
   {
    "duration": 141,
    "start_time": "2022-05-18T21:41:02.989Z"
   },
   {
    "duration": 540,
    "start_time": "2022-05-18T21:41:03.131Z"
   },
   {
    "duration": 31,
    "start_time": "2022-05-18T21:41:03.672Z"
   },
   {
    "duration": 29,
    "start_time": "2022-05-18T21:41:03.705Z"
   },
   {
    "duration": 15,
    "start_time": "2022-05-18T21:41:03.736Z"
   },
   {
    "duration": 12,
    "start_time": "2022-05-18T21:41:03.761Z"
   },
   {
    "duration": 179,
    "start_time": "2022-05-18T21:41:03.775Z"
   },
   {
    "duration": 14,
    "start_time": "2022-05-18T21:41:03.957Z"
   },
   {
    "duration": 29,
    "start_time": "2022-05-18T21:41:03.973Z"
   },
   {
    "duration": 145,
    "start_time": "2022-05-18T21:41:04.003Z"
   },
   {
    "duration": 14,
    "start_time": "2022-05-18T21:41:04.150Z"
   },
   {
    "duration": 19,
    "start_time": "2022-05-18T21:41:04.166Z"
   },
   {
    "duration": 18,
    "start_time": "2022-05-18T21:41:04.186Z"
   },
   {
    "duration": 25,
    "start_time": "2022-05-18T21:41:04.206Z"
   },
   {
    "duration": 4,
    "start_time": "2022-05-18T21:41:04.232Z"
   },
   {
    "duration": 160,
    "start_time": "2022-05-18T21:41:04.238Z"
   },
   {
    "duration": 27,
    "start_time": "2022-05-18T21:41:04.400Z"
   },
   {
    "duration": 116,
    "start_time": "2022-05-18T21:41:04.428Z"
   },
   {
    "duration": 223,
    "start_time": "2022-05-18T21:41:04.546Z"
   },
   {
    "duration": 11,
    "start_time": "2022-05-18T21:41:04.771Z"
   },
   {
    "duration": 17,
    "start_time": "2022-05-18T21:41:04.784Z"
   },
   {
    "duration": 180,
    "start_time": "2022-05-18T21:41:04.803Z"
   },
   {
    "duration": 34,
    "start_time": "2022-05-18T21:41:04.985Z"
   },
   {
    "duration": 39,
    "start_time": "2022-05-18T21:41:05.027Z"
   },
   {
    "duration": 12,
    "start_time": "2022-05-18T21:41:05.068Z"
   },
   {
    "duration": 185,
    "start_time": "2022-05-18T21:41:05.081Z"
   },
   {
    "duration": 724,
    "start_time": "2022-05-18T21:41:05.269Z"
   },
   {
    "duration": 215,
    "start_time": "2022-05-18T21:41:05.995Z"
   },
   {
    "duration": 437,
    "start_time": "2022-05-18T21:41:06.212Z"
   },
   {
    "duration": 211,
    "start_time": "2022-05-18T21:41:06.651Z"
   },
   {
    "duration": 10,
    "start_time": "2022-05-18T21:41:06.864Z"
   },
   {
    "duration": 137,
    "start_time": "2022-05-18T21:41:06.876Z"
   },
   {
    "duration": 24,
    "start_time": "2022-05-18T21:41:07.014Z"
   },
   {
    "duration": 8,
    "start_time": "2022-05-18T21:41:07.040Z"
   },
   {
    "duration": 12,
    "start_time": "2022-05-18T21:41:07.049Z"
   },
   {
    "duration": 43,
    "start_time": "2022-05-18T21:41:07.062Z"
   },
   {
    "duration": 46,
    "start_time": "2022-05-18T21:41:07.107Z"
   },
   {
    "duration": 318,
    "start_time": "2022-05-18T21:41:07.156Z"
   },
   {
    "duration": 5,
    "start_time": "2022-05-18T21:41:07.476Z"
   },
   {
    "duration": 279,
    "start_time": "2022-05-18T21:41:07.482Z"
   },
   {
    "duration": 272,
    "start_time": "2022-05-18T21:41:07.763Z"
   },
   {
    "duration": 35,
    "start_time": "2022-05-18T21:41:08.037Z"
   },
   {
    "duration": 359,
    "start_time": "2022-05-18T21:41:08.074Z"
   },
   {
    "duration": 247,
    "start_time": "2022-05-18T21:41:08.436Z"
   },
   {
    "duration": 43,
    "start_time": "2022-05-18T21:41:08.685Z"
   },
   {
    "duration": 216,
    "start_time": "2022-05-18T21:41:08.730Z"
   },
   {
    "duration": 6,
    "start_time": "2022-05-18T21:41:08.948Z"
   },
   {
    "duration": 228,
    "start_time": "2022-05-18T21:41:08.956Z"
   },
   {
    "duration": 348,
    "start_time": "2022-05-18T21:41:09.186Z"
   },
   {
    "duration": 403,
    "start_time": "2022-05-18T21:41:09.536Z"
   },
   {
    "duration": 221,
    "start_time": "2022-05-18T21:41:09.941Z"
   },
   {
    "duration": 392,
    "start_time": "2022-05-18T21:41:10.163Z"
   },
   {
    "duration": 493,
    "start_time": "2022-05-18T21:41:10.557Z"
   },
   {
    "duration": 122,
    "start_time": "2022-05-18T21:41:11.052Z"
   },
   {
    "duration": 6,
    "start_time": "2022-05-18T21:41:11.176Z"
   },
   {
    "duration": 166,
    "start_time": "2022-05-18T21:41:11.184Z"
   },
   {
    "duration": 150,
    "start_time": "2022-05-18T21:41:11.352Z"
   },
   {
    "duration": 165,
    "start_time": "2022-05-18T21:41:11.503Z"
   },
   {
    "duration": 35,
    "start_time": "2022-05-18T21:41:11.670Z"
   },
   {
    "duration": 902,
    "start_time": "2022-05-18T21:41:11.708Z"
   },
   {
    "duration": 604,
    "start_time": "2022-05-18T21:41:12.612Z"
   },
   {
    "duration": 10,
    "start_time": "2022-05-18T21:41:13.217Z"
   },
   {
    "duration": 379,
    "start_time": "2022-05-18T21:41:13.229Z"
   },
   {
    "duration": 256,
    "start_time": "2022-05-18T21:41:13.610Z"
   },
   {
    "duration": 141,
    "start_time": "2022-05-18T21:41:13.868Z"
   },
   {
    "duration": 252,
    "start_time": "2022-05-18T21:41:14.011Z"
   },
   {
    "duration": 253,
    "start_time": "2022-05-18T21:41:14.265Z"
   },
   {
    "duration": 750,
    "start_time": "2022-05-18T21:41:14.519Z"
   },
   {
    "duration": 67,
    "start_time": "2022-05-18T21:41:15.271Z"
   },
   {
    "duration": 256,
    "start_time": "2022-05-18T21:41:15.340Z"
   },
   {
    "duration": 240,
    "start_time": "2022-05-18T21:41:15.597Z"
   },
   {
    "duration": 233,
    "start_time": "2022-05-18T21:41:15.839Z"
   },
   {
    "duration": 27,
    "start_time": "2022-05-18T21:41:16.074Z"
   },
   {
    "duration": 46,
    "start_time": "2022-05-18T21:41:16.103Z"
   },
   {
    "duration": 434,
    "start_time": "2022-05-18T21:41:16.151Z"
   },
   {
    "duration": 23,
    "start_time": "2022-05-18T21:41:16.587Z"
   },
   {
    "duration": 23,
    "start_time": "2022-05-18T21:41:16.612Z"
   },
   {
    "duration": 16,
    "start_time": "2022-05-18T21:41:16.636Z"
   },
   {
    "duration": 5,
    "start_time": "2022-05-18T21:41:16.653Z"
   },
   {
    "duration": 538,
    "start_time": "2022-05-18T21:41:16.660Z"
   },
   {
    "duration": 434,
    "start_time": "2022-05-18T21:41:17.199Z"
   },
   {
    "duration": 388,
    "start_time": "2022-05-18T21:41:17.635Z"
   },
   {
    "duration": 217,
    "start_time": "2022-05-18T21:41:18.027Z"
   },
   {
    "duration": 890,
    "start_time": "2022-05-18T21:41:18.246Z"
   },
   {
    "duration": 571,
    "start_time": "2022-05-18T21:41:19.137Z"
   },
   {
    "duration": 4,
    "start_time": "2022-05-18T21:41:19.710Z"
   },
   {
    "duration": 336,
    "start_time": "2022-05-18T21:41:19.716Z"
   },
   {
    "duration": 136,
    "start_time": "2022-05-18T21:41:20.054Z"
   },
   {
    "duration": 236,
    "start_time": "2022-05-18T21:41:20.191Z"
   },
   {
    "duration": 627,
    "start_time": "2022-05-18T21:41:20.429Z"
   },
   {
    "duration": 502,
    "start_time": "2022-05-18T21:41:21.058Z"
   },
   {
    "duration": 545,
    "start_time": "2022-05-18T21:41:21.562Z"
   },
   {
    "duration": 307,
    "start_time": "2022-05-18T21:41:22.109Z"
   },
   {
    "duration": 9,
    "start_time": "2022-05-18T21:41:22.418Z"
   },
   {
    "duration": 6,
    "start_time": "2022-05-18T21:41:22.429Z"
   },
   {
    "duration": 449,
    "start_time": "2022-05-18T21:41:22.438Z"
   },
   {
    "duration": 471,
    "start_time": "2022-05-18T21:41:22.889Z"
   },
   {
    "duration": 1226,
    "start_time": "2022-05-18T21:44:14.646Z"
   },
   {
    "duration": 112,
    "start_time": "2022-05-18T21:44:15.874Z"
   },
   {
    "duration": 81,
    "start_time": "2022-05-18T21:44:15.988Z"
   },
   {
    "duration": 94,
    "start_time": "2022-05-18T21:44:16.071Z"
   },
   {
    "duration": 104,
    "start_time": "2022-05-18T21:44:16.167Z"
   },
   {
    "duration": 21,
    "start_time": "2022-05-18T21:44:16.273Z"
   },
   {
    "duration": 8,
    "start_time": "2022-05-18T21:44:16.295Z"
   },
   {
    "duration": 56,
    "start_time": "2022-05-18T21:44:16.305Z"
   },
   {
    "duration": 18,
    "start_time": "2022-05-18T21:44:16.362Z"
   },
   {
    "duration": 5,
    "start_time": "2022-05-18T21:44:16.384Z"
   },
   {
    "duration": 521,
    "start_time": "2022-05-18T21:44:16.391Z"
   },
   {
    "duration": 32,
    "start_time": "2022-05-18T21:44:16.914Z"
   },
   {
    "duration": 44,
    "start_time": "2022-05-18T21:44:16.947Z"
   },
   {
    "duration": 3050,
    "start_time": "2022-05-18T21:44:16.992Z"
   },
   {
    "duration": 9,
    "start_time": "2022-05-18T21:44:20.044Z"
   },
   {
    "duration": 21,
    "start_time": "2022-05-18T21:44:20.055Z"
   },
   {
    "duration": 5,
    "start_time": "2022-05-18T21:44:20.078Z"
   },
   {
    "duration": 12,
    "start_time": "2022-05-18T21:44:20.084Z"
   },
   {
    "duration": 43,
    "start_time": "2022-05-18T21:44:20.098Z"
   },
   {
    "duration": 245,
    "start_time": "2022-05-18T21:44:20.143Z"
   },
   {
    "duration": 20,
    "start_time": "2022-05-18T21:44:20.390Z"
   },
   {
    "duration": 24,
    "start_time": "2022-05-18T21:44:20.412Z"
   },
   {
    "duration": 518,
    "start_time": "2022-05-18T21:44:20.438Z"
   },
   {
    "duration": 531,
    "start_time": "2022-05-18T21:44:20.958Z"
   },
   {
    "duration": 200,
    "start_time": "2022-05-18T21:44:21.491Z"
   },
   {
    "duration": 8,
    "start_time": "2022-05-18T21:44:21.693Z"
   },
   {
    "duration": 40,
    "start_time": "2022-05-18T21:44:21.703Z"
   },
   {
    "duration": 1516,
    "start_time": "2022-05-18T21:44:21.749Z"
   },
   {
    "duration": 13,
    "start_time": "2022-05-18T21:44:23.266Z"
   },
   {
    "duration": 28,
    "start_time": "2022-05-18T21:44:23.281Z"
   },
   {
    "duration": 5,
    "start_time": "2022-05-18T21:44:23.311Z"
   },
   {
    "duration": 2314,
    "start_time": "2022-05-18T21:44:23.318Z"
   },
   {
    "duration": 41,
    "start_time": "2022-05-18T21:44:25.634Z"
   },
   {
    "duration": 4,
    "start_time": "2022-05-18T21:44:25.677Z"
   },
   {
    "duration": 16,
    "start_time": "2022-05-18T21:44:25.684Z"
   },
   {
    "duration": 25,
    "start_time": "2022-05-18T21:44:25.702Z"
   },
   {
    "duration": 186,
    "start_time": "2022-05-18T21:44:25.729Z"
   },
   {
    "duration": 7,
    "start_time": "2022-05-18T21:44:40.452Z"
   },
   {
    "duration": 5,
    "start_time": "2022-05-18T21:45:00.443Z"
   },
   {
    "duration": 1206,
    "start_time": "2022-05-18T21:48:23.185Z"
   },
   {
    "duration": 102,
    "start_time": "2022-05-18T21:48:24.392Z"
   },
   {
    "duration": 77,
    "start_time": "2022-05-18T21:48:24.496Z"
   },
   {
    "duration": 84,
    "start_time": "2022-05-18T21:48:24.576Z"
   },
   {
    "duration": 81,
    "start_time": "2022-05-18T21:48:24.662Z"
   },
   {
    "duration": 15,
    "start_time": "2022-05-18T21:48:24.745Z"
   },
   {
    "duration": 7,
    "start_time": "2022-05-18T21:48:24.762Z"
   },
   {
    "duration": 27,
    "start_time": "2022-05-18T21:48:24.770Z"
   },
   {
    "duration": 34,
    "start_time": "2022-05-18T21:48:24.799Z"
   },
   {
    "duration": 3,
    "start_time": "2022-05-18T21:48:24.835Z"
   },
   {
    "duration": 437,
    "start_time": "2022-05-18T21:48:24.840Z"
   },
   {
    "duration": 24,
    "start_time": "2022-05-18T21:48:25.278Z"
   },
   {
    "duration": 60,
    "start_time": "2022-05-18T21:48:25.303Z"
   },
   {
    "duration": 2785,
    "start_time": "2022-05-18T21:48:25.364Z"
   },
   {
    "duration": 8,
    "start_time": "2022-05-18T21:48:28.151Z"
   },
   {
    "duration": 18,
    "start_time": "2022-05-18T21:48:28.160Z"
   },
   {
    "duration": 3,
    "start_time": "2022-05-18T21:48:28.180Z"
   },
   {
    "duration": 9,
    "start_time": "2022-05-18T21:48:28.185Z"
   },
   {
    "duration": 38,
    "start_time": "2022-05-18T21:48:28.195Z"
   },
   {
    "duration": 229,
    "start_time": "2022-05-18T21:48:28.235Z"
   },
   {
    "duration": 15,
    "start_time": "2022-05-18T21:48:28.466Z"
   },
   {
    "duration": 4,
    "start_time": "2022-05-18T21:48:28.483Z"
   },
   {
    "duration": 396,
    "start_time": "2022-05-18T21:48:28.488Z"
   },
   {
    "duration": 434,
    "start_time": "2022-05-18T21:48:28.886Z"
   },
   {
    "duration": 192,
    "start_time": "2022-05-18T21:48:29.326Z"
   },
   {
    "duration": 14,
    "start_time": "2022-05-18T21:48:29.520Z"
   },
   {
    "duration": 18,
    "start_time": "2022-05-18T21:48:29.536Z"
   },
   {
    "duration": 1376,
    "start_time": "2022-05-18T21:48:29.560Z"
   },
   {
    "duration": 13,
    "start_time": "2022-05-18T21:48:30.937Z"
   },
   {
    "duration": 25,
    "start_time": "2022-05-18T21:48:30.951Z"
   },
   {
    "duration": 11,
    "start_time": "2022-05-18T21:48:30.978Z"
   },
   {
    "duration": 2088,
    "start_time": "2022-05-18T21:48:30.990Z"
   },
   {
    "duration": 38,
    "start_time": "2022-05-18T21:48:33.080Z"
   },
   {
    "duration": 4,
    "start_time": "2022-05-18T21:48:33.119Z"
   },
   {
    "duration": 16,
    "start_time": "2022-05-18T21:48:33.125Z"
   },
   {
    "duration": 8,
    "start_time": "2022-05-18T21:48:33.142Z"
   },
   {
    "duration": 165,
    "start_time": "2022-05-18T21:48:33.152Z"
   },
   {
    "duration": 12,
    "start_time": "2022-05-18T21:48:33.319Z"
   },
   {
    "duration": 167,
    "start_time": "2022-05-18T21:48:33.333Z"
   },
   {
    "duration": 53,
    "start_time": "2022-05-18T21:48:33.502Z"
   },
   {
    "duration": 159,
    "start_time": "2022-05-18T21:48:33.558Z"
   },
   {
    "duration": 434,
    "start_time": "2022-05-18T21:48:33.719Z"
   },
   {
    "duration": 169,
    "start_time": "2022-05-18T21:48:34.155Z"
   },
   {
    "duration": 292,
    "start_time": "2022-05-18T21:48:34.327Z"
   },
   {
    "duration": 161,
    "start_time": "2022-05-18T21:48:34.622Z"
   },
   {
    "duration": 7,
    "start_time": "2022-05-18T21:48:34.785Z"
   },
   {
    "duration": 383,
    "start_time": "2022-05-18T21:48:34.794Z"
   },
   {
    "duration": 11,
    "start_time": "2022-05-18T21:48:35.179Z"
   },
   {
    "duration": 10,
    "start_time": "2022-05-18T21:48:35.192Z"
   },
   {
    "duration": 27,
    "start_time": "2022-05-18T21:48:35.204Z"
   },
   {
    "duration": 412,
    "start_time": "2022-05-18T21:48:35.233Z"
   },
   {
    "duration": 15,
    "start_time": "2022-05-18T21:48:35.648Z"
   },
   {
    "duration": 548,
    "start_time": "2022-05-18T21:48:35.665Z"
   },
   {
    "duration": 192,
    "start_time": "2022-05-18T21:48:36.215Z"
   },
   {
    "duration": 155,
    "start_time": "2022-05-18T21:48:36.409Z"
   },
   {
    "duration": 189,
    "start_time": "2022-05-18T21:48:36.566Z"
   },
   {
    "duration": 150,
    "start_time": "2022-05-18T21:48:36.757Z"
   },
   {
    "duration": 189,
    "start_time": "2022-05-18T21:48:36.908Z"
   },
   {
    "duration": 141,
    "start_time": "2022-05-18T21:48:37.102Z"
   },
   {
    "duration": 499,
    "start_time": "2022-05-18T21:48:37.245Z"
   },
   {
    "duration": 484,
    "start_time": "2022-05-18T21:48:37.745Z"
   },
   {
    "duration": 221,
    "start_time": "2022-05-18T21:48:38.231Z"
   },
   {
    "duration": 152,
    "start_time": "2022-05-18T21:48:38.454Z"
   },
   {
    "duration": 436,
    "start_time": "2022-05-18T21:48:38.608Z"
   },
   {
    "duration": 6,
    "start_time": "2022-05-18T21:48:39.046Z"
   },
   {
    "duration": 8,
    "start_time": "2022-05-18T21:48:39.053Z"
   },
   {
    "duration": 11,
    "start_time": "2022-05-18T21:48:39.063Z"
   },
   {
    "duration": 3,
    "start_time": "2022-05-18T21:48:39.075Z"
   },
   {
    "duration": 172,
    "start_time": "2022-05-18T21:48:39.080Z"
   },
   {
    "duration": 4,
    "start_time": "2022-05-18T21:48:39.254Z"
   },
   {
    "duration": 155,
    "start_time": "2022-05-18T21:48:39.260Z"
   },
   {
    "duration": 38,
    "start_time": "2022-05-18T21:48:39.417Z"
   },
   {
    "duration": 71,
    "start_time": "2022-05-18T21:48:39.457Z"
   },
   {
    "duration": 5,
    "start_time": "2022-05-18T21:48:39.530Z"
   },
   {
    "duration": 14,
    "start_time": "2022-05-18T21:48:39.537Z"
   },
   {
    "duration": 7,
    "start_time": "2022-05-18T21:48:39.553Z"
   },
   {
    "duration": 9,
    "start_time": "2022-05-18T21:48:39.561Z"
   },
   {
    "duration": 201,
    "start_time": "2022-05-18T21:48:39.572Z"
   },
   {
    "duration": 560,
    "start_time": "2022-05-18T21:48:39.776Z"
   },
   {
    "duration": 34,
    "start_time": "2022-05-18T21:48:40.338Z"
   },
   {
    "duration": 8,
    "start_time": "2022-05-18T21:48:40.374Z"
   },
   {
    "duration": 9,
    "start_time": "2022-05-18T21:48:40.389Z"
   },
   {
    "duration": 9,
    "start_time": "2022-05-18T21:48:40.427Z"
   },
   {
    "duration": 161,
    "start_time": "2022-05-18T21:48:40.438Z"
   },
   {
    "duration": 16,
    "start_time": "2022-05-18T21:48:40.600Z"
   },
   {
    "duration": 9,
    "start_time": "2022-05-18T21:48:40.627Z"
   },
   {
    "duration": 154,
    "start_time": "2022-05-18T21:48:40.638Z"
   },
   {
    "duration": 17,
    "start_time": "2022-05-18T21:48:40.808Z"
   },
   {
    "duration": 11,
    "start_time": "2022-05-18T21:48:40.827Z"
   },
   {
    "duration": 22,
    "start_time": "2022-05-18T21:48:40.840Z"
   },
   {
    "duration": 11,
    "start_time": "2022-05-18T21:48:40.864Z"
   },
   {
    "duration": 4,
    "start_time": "2022-05-18T21:48:40.877Z"
   },
   {
    "duration": 181,
    "start_time": "2022-05-18T21:48:40.883Z"
   },
   {
    "duration": 19,
    "start_time": "2022-05-18T21:48:41.066Z"
   },
   {
    "duration": 125,
    "start_time": "2022-05-18T21:48:41.087Z"
   },
   {
    "duration": 228,
    "start_time": "2022-05-18T21:48:41.214Z"
   },
   {
    "duration": 8,
    "start_time": "2022-05-18T21:48:41.443Z"
   },
   {
    "duration": 16,
    "start_time": "2022-05-18T21:48:41.452Z"
   },
   {
    "duration": 162,
    "start_time": "2022-05-18T21:48:41.470Z"
   },
   {
    "duration": 37,
    "start_time": "2022-05-18T21:48:41.634Z"
   },
   {
    "duration": 72,
    "start_time": "2022-05-18T21:48:41.673Z"
   },
   {
    "duration": 13,
    "start_time": "2022-05-18T21:48:41.747Z"
   },
   {
    "duration": 188,
    "start_time": "2022-05-18T21:48:41.762Z"
   },
   {
    "duration": 710,
    "start_time": "2022-05-18T21:48:41.952Z"
   },
   {
    "duration": 216,
    "start_time": "2022-05-18T21:48:42.663Z"
   },
   {
    "duration": 375,
    "start_time": "2022-05-18T21:48:42.880Z"
   },
   {
    "duration": 232,
    "start_time": "2022-05-18T21:48:43.257Z"
   },
   {
    "duration": 11,
    "start_time": "2022-05-18T21:48:43.491Z"
   },
   {
    "duration": 150,
    "start_time": "2022-05-18T21:48:43.504Z"
   },
   {
    "duration": 19,
    "start_time": "2022-05-18T21:48:43.656Z"
   },
   {
    "duration": 13,
    "start_time": "2022-05-18T21:48:43.677Z"
   },
   {
    "duration": 9,
    "start_time": "2022-05-18T21:48:43.692Z"
   },
   {
    "duration": 58,
    "start_time": "2022-05-18T21:48:43.702Z"
   },
   {
    "duration": 47,
    "start_time": "2022-05-18T21:48:43.763Z"
   },
   {
    "duration": 371,
    "start_time": "2022-05-18T21:48:43.828Z"
   },
   {
    "duration": 8,
    "start_time": "2022-05-18T21:48:44.201Z"
   },
   {
    "duration": 319,
    "start_time": "2022-05-18T21:48:44.210Z"
   },
   {
    "duration": 263,
    "start_time": "2022-05-18T21:48:44.530Z"
   },
   {
    "duration": 47,
    "start_time": "2022-05-18T21:48:44.794Z"
   },
   {
    "duration": 384,
    "start_time": "2022-05-18T21:48:44.843Z"
   },
   {
    "duration": 264,
    "start_time": "2022-05-18T21:48:45.229Z"
   },
   {
    "duration": 46,
    "start_time": "2022-05-18T21:48:45.495Z"
   },
   {
    "duration": 338,
    "start_time": "2022-05-18T21:48:45.545Z"
   },
   {
    "duration": 7,
    "start_time": "2022-05-18T21:48:45.885Z"
   },
   {
    "duration": 243,
    "start_time": "2022-05-18T21:48:45.895Z"
   },
   {
    "duration": 400,
    "start_time": "2022-05-18T21:48:46.140Z"
   },
   {
    "duration": 492,
    "start_time": "2022-05-18T21:48:46.543Z"
   },
   {
    "duration": 221,
    "start_time": "2022-05-18T21:48:47.037Z"
   },
   {
    "duration": 455,
    "start_time": "2022-05-18T21:48:47.260Z"
   },
   {
    "duration": 514,
    "start_time": "2022-05-18T21:48:47.717Z"
   },
   {
    "duration": 124,
    "start_time": "2022-05-18T21:48:48.233Z"
   },
   {
    "duration": 7,
    "start_time": "2022-05-18T21:48:48.359Z"
   },
   {
    "duration": 152,
    "start_time": "2022-05-18T21:48:48.367Z"
   },
   {
    "duration": 183,
    "start_time": "2022-05-18T21:48:48.526Z"
   },
   {
    "duration": 152,
    "start_time": "2022-05-18T21:48:48.711Z"
   },
   {
    "duration": 31,
    "start_time": "2022-05-18T21:48:48.864Z"
   },
   {
    "duration": 886,
    "start_time": "2022-05-18T21:48:48.896Z"
   },
   {
    "duration": 624,
    "start_time": "2022-05-18T21:48:49.785Z"
   },
   {
    "duration": 5,
    "start_time": "2022-05-18T21:48:50.411Z"
   },
   {
    "duration": 341,
    "start_time": "2022-05-18T21:48:50.426Z"
   },
   {
    "duration": 251,
    "start_time": "2022-05-18T21:48:50.769Z"
   },
   {
    "duration": 128,
    "start_time": "2022-05-18T21:48:51.027Z"
   },
   {
    "duration": 245,
    "start_time": "2022-05-18T21:48:51.157Z"
   },
   {
    "duration": 327,
    "start_time": "2022-05-18T21:48:51.403Z"
   },
   {
    "duration": 752,
    "start_time": "2022-05-18T21:48:51.731Z"
   },
   {
    "duration": 54,
    "start_time": "2022-05-18T21:48:52.485Z"
   },
   {
    "duration": 276,
    "start_time": "2022-05-18T21:48:52.541Z"
   },
   {
    "duration": 235,
    "start_time": "2022-05-18T21:48:52.818Z"
   },
   {
    "duration": 240,
    "start_time": "2022-05-18T21:48:53.054Z"
   },
   {
    "duration": 44,
    "start_time": "2022-05-18T21:48:53.295Z"
   },
   {
    "duration": 23,
    "start_time": "2022-05-18T21:48:53.341Z"
   },
   {
    "duration": 365,
    "start_time": "2022-05-18T21:48:53.366Z"
   },
   {
    "duration": 37,
    "start_time": "2022-05-18T21:48:53.734Z"
   },
   {
    "duration": 10,
    "start_time": "2022-05-18T21:48:53.773Z"
   },
   {
    "duration": 10,
    "start_time": "2022-05-18T21:48:53.785Z"
   },
   {
    "duration": 37,
    "start_time": "2022-05-18T21:48:53.797Z"
   },
   {
    "duration": 542,
    "start_time": "2022-05-18T21:48:53.835Z"
   },
   {
    "duration": 519,
    "start_time": "2022-05-18T21:48:54.379Z"
   },
   {
    "duration": 538,
    "start_time": "2022-05-18T21:48:54.901Z"
   },
   {
    "duration": 232,
    "start_time": "2022-05-18T21:48:55.441Z"
   },
   {
    "duration": 971,
    "start_time": "2022-05-18T21:48:55.675Z"
   },
   {
    "duration": 581,
    "start_time": "2022-05-18T21:48:56.648Z"
   },
   {
    "duration": 6,
    "start_time": "2022-05-18T21:48:57.231Z"
   },
   {
    "duration": 339,
    "start_time": "2022-05-18T21:48:57.239Z"
   },
   {
    "duration": 142,
    "start_time": "2022-05-18T21:48:57.580Z"
   },
   {
    "duration": 274,
    "start_time": "2022-05-18T21:48:57.726Z"
   },
   {
    "duration": 627,
    "start_time": "2022-05-18T21:48:58.002Z"
   },
   {
    "duration": 537,
    "start_time": "2022-05-18T21:48:58.631Z"
   },
   {
    "duration": 561,
    "start_time": "2022-05-18T21:48:59.170Z"
   },
   {
    "duration": 298,
    "start_time": "2022-05-18T21:48:59.732Z"
   },
   {
    "duration": 5,
    "start_time": "2022-05-18T21:49:00.032Z"
   },
   {
    "duration": 18,
    "start_time": "2022-05-18T21:49:00.038Z"
   },
   {
    "duration": 441,
    "start_time": "2022-05-18T21:49:00.057Z"
   },
   {
    "duration": 459,
    "start_time": "2022-05-18T21:49:00.500Z"
   },
   {
    "duration": 122,
    "start_time": "2022-05-18T21:56:21.508Z"
   },
   {
    "duration": 143,
    "start_time": "2022-05-18T21:56:29.988Z"
   },
   {
    "duration": 1253,
    "start_time": "2022-05-18T21:59:05.944Z"
   },
   {
    "duration": 113,
    "start_time": "2022-05-18T21:59:07.199Z"
   },
   {
    "duration": 81,
    "start_time": "2022-05-18T21:59:07.314Z"
   },
   {
    "duration": 96,
    "start_time": "2022-05-18T21:59:07.398Z"
   },
   {
    "duration": 76,
    "start_time": "2022-05-18T21:59:07.495Z"
   },
   {
    "duration": 17,
    "start_time": "2022-05-18T21:59:07.573Z"
   },
   {
    "duration": 61,
    "start_time": "2022-05-18T21:59:07.592Z"
   },
   {
    "duration": 43,
    "start_time": "2022-05-18T21:59:07.654Z"
   },
   {
    "duration": 12,
    "start_time": "2022-05-18T21:59:07.699Z"
   },
   {
    "duration": 10,
    "start_time": "2022-05-18T21:59:07.714Z"
   },
   {
    "duration": 491,
    "start_time": "2022-05-18T21:59:07.725Z"
   },
   {
    "duration": 33,
    "start_time": "2022-05-18T21:59:08.218Z"
   },
   {
    "duration": 53,
    "start_time": "2022-05-18T21:59:08.253Z"
   },
   {
    "duration": 2990,
    "start_time": "2022-05-18T21:59:08.308Z"
   },
   {
    "duration": 9,
    "start_time": "2022-05-18T21:59:11.300Z"
   },
   {
    "duration": 41,
    "start_time": "2022-05-18T21:59:11.311Z"
   },
   {
    "duration": 5,
    "start_time": "2022-05-18T21:59:11.355Z"
   },
   {
    "duration": 13,
    "start_time": "2022-05-18T21:59:11.362Z"
   },
   {
    "duration": 9,
    "start_time": "2022-05-18T21:59:11.377Z"
   },
   {
    "duration": 249,
    "start_time": "2022-05-18T21:59:11.388Z"
   },
   {
    "duration": 19,
    "start_time": "2022-05-18T21:59:11.642Z"
   },
   {
    "duration": 15,
    "start_time": "2022-05-18T21:59:11.662Z"
   },
   {
    "duration": 456,
    "start_time": "2022-05-18T21:59:11.679Z"
   },
   {
    "duration": 467,
    "start_time": "2022-05-18T21:59:12.143Z"
   },
   {
    "duration": 200,
    "start_time": "2022-05-18T21:59:12.612Z"
   },
   {
    "duration": 20,
    "start_time": "2022-05-18T21:59:12.813Z"
   },
   {
    "duration": 23,
    "start_time": "2022-05-18T21:59:12.838Z"
   },
   {
    "duration": 1580,
    "start_time": "2022-05-18T21:59:12.865Z"
   },
   {
    "duration": 13,
    "start_time": "2022-05-18T21:59:14.448Z"
   },
   {
    "duration": 21,
    "start_time": "2022-05-18T21:59:14.463Z"
   },
   {
    "duration": 7,
    "start_time": "2022-05-18T21:59:14.486Z"
   },
   {
    "duration": 2335,
    "start_time": "2022-05-18T21:59:14.495Z"
   },
   {
    "duration": 46,
    "start_time": "2022-05-18T21:59:16.832Z"
   },
   {
    "duration": 5,
    "start_time": "2022-05-18T21:59:16.879Z"
   },
   {
    "duration": 17,
    "start_time": "2022-05-18T21:59:16.886Z"
   },
   {
    "duration": 9,
    "start_time": "2022-05-18T21:59:16.904Z"
   },
   {
    "duration": 181,
    "start_time": "2022-05-18T21:59:16.934Z"
   },
   {
    "duration": 14,
    "start_time": "2022-05-18T21:59:17.117Z"
   },
   {
    "duration": 154,
    "start_time": "2022-05-18T21:59:24.546Z"
   },
   {
    "duration": 153,
    "start_time": "2022-05-18T21:59:41.052Z"
   },
   {
    "duration": 132,
    "start_time": "2022-05-18T22:01:41.405Z"
   },
   {
    "duration": 1356,
    "start_time": "2022-05-18T22:02:05.539Z"
   },
   {
    "duration": 106,
    "start_time": "2022-05-18T22:02:06.897Z"
   },
   {
    "duration": 113,
    "start_time": "2022-05-18T22:02:07.005Z"
   },
   {
    "duration": 111,
    "start_time": "2022-05-18T22:02:07.121Z"
   },
   {
    "duration": 99,
    "start_time": "2022-05-18T22:02:07.234Z"
   },
   {
    "duration": 25,
    "start_time": "2022-05-18T22:02:07.335Z"
   },
   {
    "duration": 27,
    "start_time": "2022-05-18T22:02:07.362Z"
   },
   {
    "duration": 60,
    "start_time": "2022-05-18T22:02:07.391Z"
   },
   {
    "duration": 16,
    "start_time": "2022-05-18T22:02:07.454Z"
   },
   {
    "duration": 4,
    "start_time": "2022-05-18T22:02:07.474Z"
   },
   {
    "duration": 584,
    "start_time": "2022-05-18T22:02:07.480Z"
   },
   {
    "duration": 29,
    "start_time": "2022-05-18T22:02:08.066Z"
   },
   {
    "duration": 81,
    "start_time": "2022-05-18T22:02:08.097Z"
   },
   {
    "duration": 3948,
    "start_time": "2022-05-18T22:02:08.180Z"
   },
   {
    "duration": 11,
    "start_time": "2022-05-18T22:02:12.130Z"
   },
   {
    "duration": 46,
    "start_time": "2022-05-18T22:02:12.142Z"
   },
   {
    "duration": 8,
    "start_time": "2022-05-18T22:02:12.190Z"
   },
   {
    "duration": 25,
    "start_time": "2022-05-18T22:02:12.199Z"
   },
   {
    "duration": 32,
    "start_time": "2022-05-18T22:02:12.226Z"
   },
   {
    "duration": 329,
    "start_time": "2022-05-18T22:02:12.261Z"
   },
   {
    "duration": 18,
    "start_time": "2022-05-18T22:02:12.592Z"
   },
   {
    "duration": 5,
    "start_time": "2022-05-18T22:02:12.626Z"
   },
   {
    "duration": 463,
    "start_time": "2022-05-18T22:02:12.633Z"
   },
   {
    "duration": 575,
    "start_time": "2022-05-18T22:02:13.098Z"
   },
   {
    "duration": 230,
    "start_time": "2022-05-18T22:02:13.675Z"
   },
   {
    "duration": 21,
    "start_time": "2022-05-18T22:02:13.907Z"
   },
   {
    "duration": 23,
    "start_time": "2022-05-18T22:02:13.930Z"
   },
   {
    "duration": 1278,
    "start_time": "2022-05-18T22:02:13.959Z"
   },
   {
    "duration": 16,
    "start_time": "2022-05-18T22:02:15.239Z"
   },
   {
    "duration": 35,
    "start_time": "2022-05-18T22:02:15.258Z"
   },
   {
    "duration": 9,
    "start_time": "2022-05-18T22:02:15.295Z"
   },
   {
    "duration": 2466,
    "start_time": "2022-05-18T22:02:15.305Z"
   },
   {
    "duration": 66,
    "start_time": "2022-05-18T22:02:17.774Z"
   },
   {
    "duration": 9,
    "start_time": "2022-05-18T22:02:17.842Z"
   },
   {
    "duration": 24,
    "start_time": "2022-05-18T22:02:17.853Z"
   },
   {
    "duration": 12,
    "start_time": "2022-05-18T22:02:17.879Z"
   },
   {
    "duration": 271,
    "start_time": "2022-05-18T22:02:17.893Z"
   },
   {
    "duration": 12,
    "start_time": "2022-05-18T22:02:18.168Z"
   },
   {
    "duration": 184,
    "start_time": "2022-05-18T22:02:26.531Z"
   },
   {
    "duration": 1385,
    "start_time": "2022-05-18T22:03:00.428Z"
   },
   {
    "duration": 116,
    "start_time": "2022-05-18T22:03:01.815Z"
   },
   {
    "duration": 125,
    "start_time": "2022-05-18T22:03:01.933Z"
   },
   {
    "duration": 120,
    "start_time": "2022-05-18T22:03:02.062Z"
   },
   {
    "duration": 101,
    "start_time": "2022-05-18T22:03:02.184Z"
   },
   {
    "duration": 27,
    "start_time": "2022-05-18T22:03:02.287Z"
   },
   {
    "duration": 20,
    "start_time": "2022-05-18T22:03:02.315Z"
   },
   {
    "duration": 93,
    "start_time": "2022-05-18T22:03:02.337Z"
   },
   {
    "duration": 20,
    "start_time": "2022-05-18T22:03:02.432Z"
   },
   {
    "duration": 24,
    "start_time": "2022-05-18T22:03:02.457Z"
   },
   {
    "duration": 587,
    "start_time": "2022-05-18T22:03:02.483Z"
   },
   {
    "duration": 29,
    "start_time": "2022-05-18T22:03:03.072Z"
   },
   {
    "duration": 73,
    "start_time": "2022-05-18T22:03:03.103Z"
   },
   {
    "duration": 3235,
    "start_time": "2022-05-18T22:03:03.179Z"
   },
   {
    "duration": 16,
    "start_time": "2022-05-18T22:03:06.417Z"
   },
   {
    "duration": 65,
    "start_time": "2022-05-18T22:03:06.438Z"
   },
   {
    "duration": 5,
    "start_time": "2022-05-18T22:03:06.505Z"
   },
   {
    "duration": 52,
    "start_time": "2022-05-18T22:03:06.512Z"
   },
   {
    "duration": 16,
    "start_time": "2022-05-18T22:03:06.566Z"
   },
   {
    "duration": 247,
    "start_time": "2022-05-18T22:03:06.584Z"
   },
   {
    "duration": 26,
    "start_time": "2022-05-18T22:03:06.833Z"
   },
   {
    "duration": 5,
    "start_time": "2022-05-18T22:03:06.860Z"
   },
   {
    "duration": 494,
    "start_time": "2022-05-18T22:03:06.867Z"
   },
   {
    "duration": 562,
    "start_time": "2022-05-18T22:03:07.363Z"
   },
   {
    "duration": 272,
    "start_time": "2022-05-18T22:03:07.927Z"
   },
   {
    "duration": 10,
    "start_time": "2022-05-18T22:03:08.201Z"
   },
   {
    "duration": 32,
    "start_time": "2022-05-18T22:03:08.213Z"
   },
   {
    "duration": 917,
    "start_time": "2022-05-18T22:03:08.251Z"
   },
   {
    "duration": 23,
    "start_time": "2022-05-18T22:03:09.170Z"
   },
   {
    "duration": 47,
    "start_time": "2022-05-18T22:03:09.196Z"
   },
   {
    "duration": 3,
    "start_time": "2022-05-18T22:03:09.247Z"
   },
   {
    "duration": 2528,
    "start_time": "2022-05-18T22:03:09.252Z"
   },
   {
    "duration": 63,
    "start_time": "2022-05-18T22:03:11.783Z"
   },
   {
    "duration": 5,
    "start_time": "2022-05-18T22:03:11.849Z"
   },
   {
    "duration": 17,
    "start_time": "2022-05-18T22:03:11.856Z"
   },
   {
    "duration": 16,
    "start_time": "2022-05-18T22:03:11.875Z"
   },
   {
    "duration": 236,
    "start_time": "2022-05-18T22:03:11.893Z"
   },
   {
    "duration": 7,
    "start_time": "2022-05-18T22:03:12.131Z"
   },
   {
    "duration": 135,
    "start_time": "2022-05-18T22:03:12.140Z"
   },
   {
    "duration": 62,
    "start_time": "2022-05-18T22:03:12.277Z"
   },
   {
    "duration": 220,
    "start_time": "2022-05-18T22:03:12.341Z"
   },
   {
    "duration": 621,
    "start_time": "2022-05-18T22:03:12.563Z"
   },
   {
    "duration": 217,
    "start_time": "2022-05-18T22:03:13.186Z"
   },
   {
    "duration": 341,
    "start_time": "2022-05-18T22:03:13.406Z"
   },
   {
    "duration": 202,
    "start_time": "2022-05-18T22:03:13.749Z"
   },
   {
    "duration": 8,
    "start_time": "2022-05-18T22:03:13.954Z"
   },
   {
    "duration": 463,
    "start_time": "2022-05-18T22:03:13.964Z"
   },
   {
    "duration": 16,
    "start_time": "2022-05-18T22:03:14.429Z"
   },
   {
    "duration": 13,
    "start_time": "2022-05-18T22:03:14.447Z"
   },
   {
    "duration": 19,
    "start_time": "2022-05-18T22:03:14.461Z"
   },
   {
    "duration": 693,
    "start_time": "2022-05-18T22:03:14.482Z"
   },
   {
    "duration": 23,
    "start_time": "2022-05-18T22:03:15.178Z"
   },
   {
    "duration": 636,
    "start_time": "2022-05-18T22:03:15.203Z"
   },
   {
    "duration": 207,
    "start_time": "2022-05-18T22:03:15.841Z"
   },
   {
    "duration": 211,
    "start_time": "2022-05-18T22:03:16.050Z"
   },
   {
    "duration": 306,
    "start_time": "2022-05-18T22:03:16.263Z"
   },
   {
    "duration": 181,
    "start_time": "2022-05-18T22:03:16.571Z"
   },
   {
    "duration": 251,
    "start_time": "2022-05-18T22:03:16.754Z"
   },
   {
    "duration": 197,
    "start_time": "2022-05-18T22:03:17.007Z"
   },
   {
    "duration": 617,
    "start_time": "2022-05-18T22:03:17.206Z"
   },
   {
    "duration": 594,
    "start_time": "2022-05-18T22:03:17.826Z"
   },
   {
    "duration": 244,
    "start_time": "2022-05-18T22:03:18.421Z"
   },
   {
    "duration": 243,
    "start_time": "2022-05-18T22:03:18.667Z"
   },
   {
    "duration": 641,
    "start_time": "2022-05-18T22:03:18.913Z"
   },
   {
    "duration": 6,
    "start_time": "2022-05-18T22:03:19.555Z"
   },
   {
    "duration": 11,
    "start_time": "2022-05-18T22:03:19.563Z"
   },
   {
    "duration": 14,
    "start_time": "2022-05-18T22:03:19.576Z"
   },
   {
    "duration": 5,
    "start_time": "2022-05-18T22:03:19.592Z"
   },
   {
    "duration": 191,
    "start_time": "2022-05-18T22:03:19.599Z"
   },
   {
    "duration": 5,
    "start_time": "2022-05-18T22:03:19.792Z"
   },
   {
    "duration": 170,
    "start_time": "2022-05-18T22:03:19.799Z"
   },
   {
    "duration": 35,
    "start_time": "2022-05-18T22:03:19.971Z"
   },
   {
    "duration": 90,
    "start_time": "2022-05-18T22:03:20.008Z"
   },
   {
    "duration": 32,
    "start_time": "2022-05-18T22:03:20.100Z"
   },
   {
    "duration": 64,
    "start_time": "2022-05-18T22:03:20.134Z"
   },
   {
    "duration": 9,
    "start_time": "2022-05-18T22:03:20.201Z"
   },
   {
    "duration": 18,
    "start_time": "2022-05-18T22:03:20.212Z"
   },
   {
    "duration": 242,
    "start_time": "2022-05-18T22:03:20.233Z"
   },
   {
    "duration": 631,
    "start_time": "2022-05-18T22:03:20.477Z"
   },
   {
    "duration": 44,
    "start_time": "2022-05-18T22:03:21.110Z"
   },
   {
    "duration": 27,
    "start_time": "2022-05-18T22:03:21.157Z"
   },
   {
    "duration": 48,
    "start_time": "2022-05-18T22:03:21.198Z"
   },
   {
    "duration": 32,
    "start_time": "2022-05-18T22:03:21.248Z"
   },
   {
    "duration": 238,
    "start_time": "2022-05-18T22:03:21.283Z"
   },
   {
    "duration": 16,
    "start_time": "2022-05-18T22:03:21.527Z"
   },
   {
    "duration": 21,
    "start_time": "2022-05-18T22:03:21.546Z"
   },
   {
    "duration": 209,
    "start_time": "2022-05-18T22:03:21.570Z"
   },
   {
    "duration": 17,
    "start_time": "2022-05-18T22:03:21.780Z"
   },
   {
    "duration": 45,
    "start_time": "2022-05-18T22:03:21.799Z"
   },
   {
    "duration": 25,
    "start_time": "2022-05-18T22:03:21.846Z"
   },
   {
    "duration": 15,
    "start_time": "2022-05-18T22:03:21.873Z"
   },
   {
    "duration": 11,
    "start_time": "2022-05-18T22:03:21.890Z"
   },
   {
    "duration": 222,
    "start_time": "2022-05-18T22:03:21.903Z"
   },
   {
    "duration": 23,
    "start_time": "2022-05-18T22:03:22.128Z"
   },
   {
    "duration": 168,
    "start_time": "2022-05-18T22:03:22.153Z"
   },
   {
    "duration": 349,
    "start_time": "2022-05-18T22:03:22.323Z"
   },
   {
    "duration": 11,
    "start_time": "2022-05-18T22:03:22.675Z"
   },
   {
    "duration": 18,
    "start_time": "2022-05-18T22:03:22.688Z"
   },
   {
    "duration": 211,
    "start_time": "2022-05-18T22:03:22.707Z"
   },
   {
    "duration": 59,
    "start_time": "2022-05-18T22:03:22.921Z"
   },
   {
    "duration": 93,
    "start_time": "2022-05-18T22:03:22.983Z"
   },
   {
    "duration": 17,
    "start_time": "2022-05-18T22:03:23.078Z"
   },
   {
    "duration": 288,
    "start_time": "2022-05-18T22:03:23.098Z"
   },
   {
    "duration": 1043,
    "start_time": "2022-05-18T22:03:23.388Z"
   },
   {
    "duration": 288,
    "start_time": "2022-05-18T22:03:24.434Z"
   },
   {
    "duration": 461,
    "start_time": "2022-05-18T22:03:24.727Z"
   },
   {
    "duration": 298,
    "start_time": "2022-05-18T22:03:25.190Z"
   },
   {
    "duration": 13,
    "start_time": "2022-05-18T22:03:25.491Z"
   },
   {
    "duration": 165,
    "start_time": "2022-05-18T22:03:25.506Z"
   },
   {
    "duration": 26,
    "start_time": "2022-05-18T22:03:25.673Z"
   },
   {
    "duration": 30,
    "start_time": "2022-05-18T22:03:25.700Z"
   },
   {
    "duration": 4,
    "start_time": "2022-05-18T22:03:25.732Z"
   },
   {
    "duration": 52,
    "start_time": "2022-05-18T22:03:25.738Z"
   },
   {
    "duration": 76,
    "start_time": "2022-05-18T22:03:25.793Z"
   },
   {
    "duration": 457,
    "start_time": "2022-05-18T22:03:25.871Z"
   },
   {
    "duration": 8,
    "start_time": "2022-05-18T22:03:26.330Z"
   },
   {
    "duration": 420,
    "start_time": "2022-05-18T22:03:26.340Z"
   },
   {
    "duration": 300,
    "start_time": "2022-05-18T22:03:26.763Z"
   },
   {
    "duration": 39,
    "start_time": "2022-05-18T22:03:27.066Z"
   },
   {
    "duration": 441,
    "start_time": "2022-05-18T22:03:27.107Z"
   },
   {
    "duration": 369,
    "start_time": "2022-05-18T22:03:27.550Z"
   },
   {
    "duration": 35,
    "start_time": "2022-05-18T22:03:27.920Z"
   },
   {
    "duration": 332,
    "start_time": "2022-05-18T22:03:27.957Z"
   },
   {
    "duration": 9,
    "start_time": "2022-05-18T22:03:28.292Z"
   },
   {
    "duration": 278,
    "start_time": "2022-05-18T22:03:28.303Z"
   },
   {
    "duration": 337,
    "start_time": "2022-05-18T22:03:28.583Z"
   },
   {
    "duration": 494,
    "start_time": "2022-05-18T22:03:28.921Z"
   },
   {
    "duration": 247,
    "start_time": "2022-05-18T22:03:29.417Z"
   },
   {
    "duration": 467,
    "start_time": "2022-05-18T22:03:29.666Z"
   },
   {
    "duration": 605,
    "start_time": "2022-05-18T22:03:30.135Z"
   },
   {
    "duration": 160,
    "start_time": "2022-05-18T22:03:30.742Z"
   },
   {
    "duration": 7,
    "start_time": "2022-05-18T22:03:30.905Z"
   },
   {
    "duration": 176,
    "start_time": "2022-05-18T22:03:30.914Z"
   },
   {
    "duration": 251,
    "start_time": "2022-05-18T22:03:31.092Z"
   },
   {
    "duration": 186,
    "start_time": "2022-05-18T22:03:31.346Z"
   },
   {
    "duration": 35,
    "start_time": "2022-05-18T22:03:31.534Z"
   },
   {
    "duration": 1070,
    "start_time": "2022-05-18T22:03:31.571Z"
   },
   {
    "duration": 883,
    "start_time": "2022-05-18T22:03:32.642Z"
   },
   {
    "duration": 8,
    "start_time": "2022-05-18T22:03:33.527Z"
   },
   {
    "duration": 430,
    "start_time": "2022-05-18T22:03:33.537Z"
   },
   {
    "duration": 369,
    "start_time": "2022-05-18T22:03:33.970Z"
   },
   {
    "duration": 207,
    "start_time": "2022-05-18T22:03:34.341Z"
   },
   {
    "duration": 285,
    "start_time": "2022-05-18T22:03:34.550Z"
   },
   {
    "duration": 321,
    "start_time": "2022-05-18T22:03:34.838Z"
   },
   {
    "duration": 818,
    "start_time": "2022-05-18T22:03:35.161Z"
   },
   {
    "duration": 71,
    "start_time": "2022-05-18T22:03:35.981Z"
   },
   {
    "duration": 368,
    "start_time": "2022-05-18T22:03:36.054Z"
   },
   {
    "duration": 320,
    "start_time": "2022-05-18T22:03:36.430Z"
   },
   {
    "duration": 260,
    "start_time": "2022-05-18T22:03:36.753Z"
   },
   {
    "duration": 30,
    "start_time": "2022-05-18T22:03:37.015Z"
   },
   {
    "duration": 24,
    "start_time": "2022-05-18T22:03:37.047Z"
   },
   {
    "duration": 406,
    "start_time": "2022-05-18T22:03:37.073Z"
   },
   {
    "duration": 28,
    "start_time": "2022-05-18T22:03:37.481Z"
   },
   {
    "duration": 24,
    "start_time": "2022-05-18T22:03:37.512Z"
   },
   {
    "duration": 17,
    "start_time": "2022-05-18T22:03:37.539Z"
   },
   {
    "duration": 8,
    "start_time": "2022-05-18T22:03:37.558Z"
   },
   {
    "duration": 660,
    "start_time": "2022-05-18T22:03:37.568Z"
   },
   {
    "duration": 512,
    "start_time": "2022-05-18T22:03:38.230Z"
   },
   {
    "duration": 439,
    "start_time": "2022-05-18T22:03:38.745Z"
   },
   {
    "duration": 347,
    "start_time": "2022-05-18T22:03:39.187Z"
   },
   {
    "duration": 1116,
    "start_time": "2022-05-18T22:03:39.537Z"
   },
   {
    "duration": 706,
    "start_time": "2022-05-18T22:03:40.655Z"
   },
   {
    "duration": 10,
    "start_time": "2022-05-18T22:03:41.364Z"
   },
   {
    "duration": 405,
    "start_time": "2022-05-18T22:03:41.378Z"
   },
   {
    "duration": 171,
    "start_time": "2022-05-18T22:03:41.786Z"
   },
   {
    "duration": 274,
    "start_time": "2022-05-18T22:03:41.958Z"
   },
   {
    "duration": 734,
    "start_time": "2022-05-18T22:03:42.234Z"
   },
   {
    "duration": 624,
    "start_time": "2022-05-18T22:03:42.971Z"
   },
   {
    "duration": 658,
    "start_time": "2022-05-18T22:03:43.598Z"
   },
   {
    "duration": 343,
    "start_time": "2022-05-18T22:03:44.258Z"
   },
   {
    "duration": 7,
    "start_time": "2022-05-18T22:03:44.602Z"
   },
   {
    "duration": 18,
    "start_time": "2022-05-18T22:03:44.611Z"
   },
   {
    "duration": 573,
    "start_time": "2022-05-18T22:03:44.631Z"
   },
   {
    "duration": 555,
    "start_time": "2022-05-18T22:03:45.206Z"
   },
   {
    "duration": 132,
    "start_time": "2022-05-18T22:08:55.178Z"
   },
   {
    "duration": 1375,
    "start_time": "2022-05-18T22:09:13.691Z"
   },
   {
    "duration": 111,
    "start_time": "2022-05-18T22:09:15.068Z"
   },
   {
    "duration": 90,
    "start_time": "2022-05-18T22:09:15.182Z"
   },
   {
    "duration": 106,
    "start_time": "2022-05-18T22:09:15.275Z"
   },
   {
    "duration": 96,
    "start_time": "2022-05-18T22:09:15.383Z"
   },
   {
    "duration": 24,
    "start_time": "2022-05-18T22:09:15.481Z"
   },
   {
    "duration": 23,
    "start_time": "2022-05-18T22:09:15.507Z"
   },
   {
    "duration": 35,
    "start_time": "2022-05-18T22:09:15.532Z"
   },
   {
    "duration": 18,
    "start_time": "2022-05-18T22:09:15.569Z"
   },
   {
    "duration": 8,
    "start_time": "2022-05-18T22:09:15.590Z"
   },
   {
    "duration": 807,
    "start_time": "2022-05-18T22:09:15.599Z"
   },
   {
    "duration": 51,
    "start_time": "2022-05-18T22:09:16.409Z"
   },
   {
    "duration": 152,
    "start_time": "2022-05-18T22:09:16.462Z"
   },
   {
    "duration": 3884,
    "start_time": "2022-05-18T22:09:16.616Z"
   },
   {
    "duration": 11,
    "start_time": "2022-05-18T22:09:20.502Z"
   },
   {
    "duration": 41,
    "start_time": "2022-05-18T22:09:20.514Z"
   },
   {
    "duration": 5,
    "start_time": "2022-05-18T22:09:20.558Z"
   },
   {
    "duration": 24,
    "start_time": "2022-05-18T22:09:20.565Z"
   },
   {
    "duration": 34,
    "start_time": "2022-05-18T22:09:20.591Z"
   },
   {
    "duration": 351,
    "start_time": "2022-05-18T22:09:20.627Z"
   },
   {
    "duration": 24,
    "start_time": "2022-05-18T22:09:20.981Z"
   },
   {
    "duration": 62,
    "start_time": "2022-05-18T22:09:21.007Z"
   },
   {
    "duration": 608,
    "start_time": "2022-05-18T22:09:21.071Z"
   },
   {
    "duration": 772,
    "start_time": "2022-05-18T22:09:21.682Z"
   },
   {
    "duration": 309,
    "start_time": "2022-05-18T22:09:22.456Z"
   },
   {
    "duration": 8,
    "start_time": "2022-05-18T22:09:22.767Z"
   },
   {
    "duration": 33,
    "start_time": "2022-05-18T22:09:22.779Z"
   },
   {
    "duration": 1611,
    "start_time": "2022-05-18T22:09:22.829Z"
   },
   {
    "duration": 19,
    "start_time": "2022-05-18T22:09:24.441Z"
   },
   {
    "duration": 47,
    "start_time": "2022-05-18T22:09:24.462Z"
   },
   {
    "duration": 22,
    "start_time": "2022-05-18T22:09:24.511Z"
   },
   {
    "duration": 2755,
    "start_time": "2022-05-18T22:09:24.535Z"
   },
   {
    "duration": 66,
    "start_time": "2022-05-18T22:09:27.293Z"
   },
   {
    "duration": 13,
    "start_time": "2022-05-18T22:09:27.361Z"
   },
   {
    "duration": 42,
    "start_time": "2022-05-18T22:09:27.376Z"
   },
   {
    "duration": 37,
    "start_time": "2022-05-18T22:09:27.423Z"
   },
   {
    "duration": 287,
    "start_time": "2022-05-18T22:09:27.463Z"
   },
   {
    "duration": 6,
    "start_time": "2022-05-18T22:09:27.752Z"
   },
   {
    "duration": 161,
    "start_time": "2022-05-18T22:09:27.760Z"
   },
   {
    "duration": 42,
    "start_time": "2022-05-18T22:09:27.924Z"
   },
   {
    "duration": 200,
    "start_time": "2022-05-18T22:09:27.967Z"
   },
   {
    "duration": 444,
    "start_time": "2022-05-18T22:09:28.170Z"
   },
   {
    "duration": 177,
    "start_time": "2022-05-18T22:09:28.618Z"
   },
   {
    "duration": 392,
    "start_time": "2022-05-18T22:09:28.798Z"
   },
   {
    "duration": 122,
    "start_time": "2022-05-18T22:09:43.140Z"
   },
   {
    "duration": 13,
    "start_time": "2022-05-18T22:09:45.820Z"
   },
   {
    "duration": 1389,
    "start_time": "2022-05-18T22:12:38.500Z"
   },
   {
    "duration": 162,
    "start_time": "2022-05-18T22:12:39.892Z"
   },
   {
    "duration": 121,
    "start_time": "2022-05-18T22:12:40.056Z"
   },
   {
    "duration": 104,
    "start_time": "2022-05-18T22:12:40.180Z"
   },
   {
    "duration": 94,
    "start_time": "2022-05-18T22:12:40.286Z"
   },
   {
    "duration": 24,
    "start_time": "2022-05-18T22:12:40.385Z"
   },
   {
    "duration": 20,
    "start_time": "2022-05-18T22:12:40.411Z"
   },
   {
    "duration": 31,
    "start_time": "2022-05-18T22:12:40.433Z"
   },
   {
    "duration": 19,
    "start_time": "2022-05-18T22:12:40.466Z"
   },
   {
    "duration": 24,
    "start_time": "2022-05-18T22:12:40.489Z"
   },
   {
    "duration": 706,
    "start_time": "2022-05-18T22:12:40.515Z"
   },
   {
    "duration": 43,
    "start_time": "2022-05-18T22:12:41.224Z"
   },
   {
    "duration": 75,
    "start_time": "2022-05-18T22:12:41.269Z"
   },
   {
    "duration": 5015,
    "start_time": "2022-05-18T22:12:41.346Z"
   },
   {
    "duration": 14,
    "start_time": "2022-05-18T22:12:46.365Z"
   },
   {
    "duration": 35,
    "start_time": "2022-05-18T22:12:46.381Z"
   },
   {
    "duration": 5,
    "start_time": "2022-05-18T22:12:46.427Z"
   },
   {
    "duration": 20,
    "start_time": "2022-05-18T22:12:46.435Z"
   },
   {
    "duration": 93,
    "start_time": "2022-05-18T22:12:46.457Z"
   },
   {
    "duration": 337,
    "start_time": "2022-05-18T22:12:46.553Z"
   },
   {
    "duration": 22,
    "start_time": "2022-05-18T22:12:46.892Z"
   },
   {
    "duration": 10,
    "start_time": "2022-05-18T22:12:46.929Z"
   },
   {
    "duration": 698,
    "start_time": "2022-05-18T22:12:46.942Z"
   },
   {
    "duration": 725,
    "start_time": "2022-05-18T22:12:47.644Z"
   },
   {
    "duration": 241,
    "start_time": "2022-05-18T22:12:48.371Z"
   },
   {
    "duration": 16,
    "start_time": "2022-05-18T22:12:48.615Z"
   },
   {
    "duration": 49,
    "start_time": "2022-05-18T22:12:48.633Z"
   },
   {
    "duration": 1514,
    "start_time": "2022-05-18T22:12:48.688Z"
   },
   {
    "duration": 19,
    "start_time": "2022-05-18T22:12:50.204Z"
   },
   {
    "duration": 47,
    "start_time": "2022-05-18T22:12:50.225Z"
   },
   {
    "duration": 6,
    "start_time": "2022-05-18T22:12:50.274Z"
   },
   {
    "duration": 2792,
    "start_time": "2022-05-18T22:12:50.287Z"
   },
   {
    "duration": 79,
    "start_time": "2022-05-18T22:12:53.081Z"
   },
   {
    "duration": 38,
    "start_time": "2022-05-18T22:12:53.164Z"
   },
   {
    "duration": 22,
    "start_time": "2022-05-18T22:12:53.205Z"
   },
   {
    "duration": 45,
    "start_time": "2022-05-18T22:12:53.230Z"
   },
   {
    "duration": 264,
    "start_time": "2022-05-18T22:12:53.281Z"
   },
   {
    "duration": 10,
    "start_time": "2022-05-18T22:12:53.547Z"
   },
   {
    "duration": 155,
    "start_time": "2022-05-18T22:12:53.561Z"
   },
   {
    "duration": 55,
    "start_time": "2022-05-18T22:12:53.718Z"
   },
   {
    "duration": 258,
    "start_time": "2022-05-18T22:12:53.776Z"
   },
   {
    "duration": 659,
    "start_time": "2022-05-18T22:12:54.036Z"
   },
   {
    "duration": 253,
    "start_time": "2022-05-18T22:12:54.698Z"
   },
   {
    "duration": 372,
    "start_time": "2022-05-18T22:12:54.953Z"
   },
   {
    "duration": 129,
    "start_time": "2022-05-18T22:12:55.328Z"
   },
   {
    "duration": 7,
    "start_time": "2022-05-18T22:12:55.459Z"
   },
   {
    "duration": 637,
    "start_time": "2022-05-18T22:12:55.469Z"
   },
   {
    "duration": 18,
    "start_time": "2022-05-18T22:12:56.109Z"
   },
   {
    "duration": 13,
    "start_time": "2022-05-18T22:12:56.129Z"
   },
   {
    "duration": 23,
    "start_time": "2022-05-18T22:12:56.145Z"
   },
   {
    "duration": 671,
    "start_time": "2022-05-18T22:12:56.170Z"
   },
   {
    "duration": 26,
    "start_time": "2022-05-18T22:12:56.854Z"
   },
   {
    "duration": 843,
    "start_time": "2022-05-18T22:12:56.882Z"
   },
   {
    "duration": 248,
    "start_time": "2022-05-18T22:12:57.728Z"
   },
   {
    "duration": 222,
    "start_time": "2022-05-18T22:12:57.979Z"
   },
   {
    "duration": 180,
    "start_time": "2022-05-18T22:12:58.204Z"
   },
   {
    "duration": 233,
    "start_time": "2022-05-18T22:12:58.386Z"
   },
   {
    "duration": 128,
    "start_time": "2022-05-18T22:12:58.621Z"
   },
   {
    "duration": 218,
    "start_time": "2022-05-18T22:12:58.752Z"
   },
   {
    "duration": 824,
    "start_time": "2022-05-18T22:12:58.972Z"
   },
   {
    "duration": 715,
    "start_time": "2022-05-18T22:12:59.799Z"
   },
   {
    "duration": 123,
    "start_time": "2022-05-18T22:13:00.517Z"
   },
   {
    "duration": 261,
    "start_time": "2022-05-18T22:13:00.644Z"
   },
   {
    "duration": 963,
    "start_time": "2022-05-18T22:13:00.908Z"
   },
   {
    "duration": 10,
    "start_time": "2022-05-18T22:13:01.874Z"
   },
   {
    "duration": 46,
    "start_time": "2022-05-18T22:13:01.885Z"
   },
   {
    "duration": 24,
    "start_time": "2022-05-18T22:13:01.938Z"
   },
   {
    "duration": 20,
    "start_time": "2022-05-18T22:13:01.965Z"
   },
   {
    "duration": 242,
    "start_time": "2022-05-18T22:13:01.988Z"
   },
   {
    "duration": 6,
    "start_time": "2022-05-18T22:13:02.232Z"
   },
   {
    "duration": 250,
    "start_time": "2022-05-18T22:13:02.240Z"
   },
   {
    "duration": 63,
    "start_time": "2022-05-18T22:13:02.493Z"
   },
   {
    "duration": 109,
    "start_time": "2022-05-18T22:13:02.559Z"
   },
   {
    "duration": 7,
    "start_time": "2022-05-18T22:13:02.675Z"
   },
   {
    "duration": 20,
    "start_time": "2022-05-18T22:13:02.684Z"
   },
   {
    "duration": 14,
    "start_time": "2022-05-18T22:13:02.707Z"
   },
   {
    "duration": 34,
    "start_time": "2022-05-18T22:13:02.727Z"
   },
   {
    "duration": 234,
    "start_time": "2022-05-18T22:13:02.763Z"
   },
   {
    "duration": 800,
    "start_time": "2022-05-18T22:13:03.000Z"
   },
   {
    "duration": 69,
    "start_time": "2022-05-18T22:13:03.803Z"
   },
   {
    "duration": 16,
    "start_time": "2022-05-18T22:13:03.874Z"
   },
   {
    "duration": 23,
    "start_time": "2022-05-18T22:13:03.903Z"
   },
   {
    "duration": 35,
    "start_time": "2022-05-18T22:13:03.929Z"
   },
   {
    "duration": 262,
    "start_time": "2022-05-18T22:13:03.966Z"
   },
   {
    "duration": 25,
    "start_time": "2022-05-18T22:13:04.231Z"
   },
   {
    "duration": 17,
    "start_time": "2022-05-18T22:13:04.258Z"
   },
   {
    "duration": 216,
    "start_time": "2022-05-18T22:13:04.277Z"
   },
   {
    "duration": 32,
    "start_time": "2022-05-18T22:13:04.495Z"
   },
   {
    "duration": 18,
    "start_time": "2022-05-18T22:13:04.529Z"
   },
   {
    "duration": 29,
    "start_time": "2022-05-18T22:13:04.551Z"
   },
   {
    "duration": 14,
    "start_time": "2022-05-18T22:13:04.583Z"
   },
   {
    "duration": 30,
    "start_time": "2022-05-18T22:13:04.599Z"
   },
   {
    "duration": 198,
    "start_time": "2022-05-18T22:13:04.631Z"
   },
   {
    "duration": 24,
    "start_time": "2022-05-18T22:13:04.831Z"
   },
   {
    "duration": 184,
    "start_time": "2022-05-18T22:13:04.857Z"
   },
   {
    "duration": 279,
    "start_time": "2022-05-18T22:13:05.047Z"
   },
   {
    "duration": 11,
    "start_time": "2022-05-18T22:13:05.328Z"
   },
   {
    "duration": 30,
    "start_time": "2022-05-18T22:13:05.341Z"
   },
   {
    "duration": 212,
    "start_time": "2022-05-18T22:13:05.372Z"
   },
   {
    "duration": 63,
    "start_time": "2022-05-18T22:13:05.586Z"
   },
   {
    "duration": 44,
    "start_time": "2022-05-18T22:13:05.650Z"
   },
   {
    "duration": 47,
    "start_time": "2022-05-18T22:13:05.696Z"
   },
   {
    "duration": 212,
    "start_time": "2022-05-18T22:13:05.750Z"
   },
   {
    "duration": 1130,
    "start_time": "2022-05-18T22:13:05.964Z"
   },
   {
    "duration": 363,
    "start_time": "2022-05-18T22:13:07.097Z"
   },
   {
    "duration": 458,
    "start_time": "2022-05-18T22:13:07.463Z"
   },
   {
    "duration": 273,
    "start_time": "2022-05-18T22:13:07.923Z"
   },
   {
    "duration": 16,
    "start_time": "2022-05-18T22:13:08.199Z"
   },
   {
    "duration": 209,
    "start_time": "2022-05-18T22:13:08.218Z"
   },
   {
    "duration": 22,
    "start_time": "2022-05-18T22:13:08.429Z"
   },
   {
    "duration": 32,
    "start_time": "2022-05-18T22:13:08.454Z"
   },
   {
    "duration": 26,
    "start_time": "2022-05-18T22:13:08.488Z"
   },
   {
    "duration": 67,
    "start_time": "2022-05-18T22:13:08.517Z"
   },
   {
    "duration": 48,
    "start_time": "2022-05-18T22:13:08.586Z"
   },
   {
    "duration": 507,
    "start_time": "2022-05-18T22:13:08.637Z"
   },
   {
    "duration": 11,
    "start_time": "2022-05-18T22:13:09.147Z"
   },
   {
    "duration": 390,
    "start_time": "2022-05-18T22:13:09.160Z"
   },
   {
    "duration": 439,
    "start_time": "2022-05-18T22:13:09.552Z"
   },
   {
    "duration": 54,
    "start_time": "2022-05-18T22:13:09.993Z"
   },
   {
    "duration": 390,
    "start_time": "2022-05-18T22:13:10.049Z"
   },
   {
    "duration": 264,
    "start_time": "2022-05-18T22:13:10.441Z"
   },
   {
    "duration": 50,
    "start_time": "2022-05-18T22:13:10.707Z"
   },
   {
    "duration": 339,
    "start_time": "2022-05-18T22:13:10.759Z"
   },
   {
    "duration": 9,
    "start_time": "2022-05-18T22:13:11.100Z"
   },
   {
    "duration": 376,
    "start_time": "2022-05-18T22:13:11.111Z"
   },
   {
    "duration": 484,
    "start_time": "2022-05-18T22:13:11.490Z"
   },
   {
    "duration": 533,
    "start_time": "2022-05-18T22:13:11.977Z"
   },
   {
    "duration": 339,
    "start_time": "2022-05-18T22:13:12.513Z"
   },
   {
    "duration": 713,
    "start_time": "2022-05-18T22:13:12.855Z"
   },
   {
    "duration": 968,
    "start_time": "2022-05-18T22:13:13.570Z"
   },
   {
    "duration": 210,
    "start_time": "2022-05-18T22:13:14.541Z"
   },
   {
    "duration": 11,
    "start_time": "2022-05-18T22:13:14.753Z"
   },
   {
    "duration": 262,
    "start_time": "2022-05-18T22:13:14.767Z"
   },
   {
    "duration": 256,
    "start_time": "2022-05-18T22:13:15.032Z"
   },
   {
    "duration": 275,
    "start_time": "2022-05-18T22:13:15.290Z"
   },
   {
    "duration": 63,
    "start_time": "2022-05-18T22:13:15.568Z"
   },
   {
    "duration": 1393,
    "start_time": "2022-05-18T22:13:15.634Z"
   },
   {
    "duration": 736,
    "start_time": "2022-05-18T22:13:17.028Z"
   },
   {
    "duration": 6,
    "start_time": "2022-05-18T22:13:17.766Z"
   },
   {
    "duration": 559,
    "start_time": "2022-05-18T22:13:17.774Z"
   },
   {
    "duration": 419,
    "start_time": "2022-05-18T22:13:18.335Z"
   },
   {
    "duration": 212,
    "start_time": "2022-05-18T22:13:18.756Z"
   },
   {
    "duration": 321,
    "start_time": "2022-05-18T22:13:18.970Z"
   },
   {
    "duration": 367,
    "start_time": "2022-05-18T22:13:19.294Z"
   },
   {
    "duration": 1074,
    "start_time": "2022-05-18T22:13:19.663Z"
   },
   {
    "duration": 105,
    "start_time": "2022-05-18T22:13:20.740Z"
   },
   {
    "duration": 313,
    "start_time": "2022-05-18T22:13:20.847Z"
   },
   {
    "duration": 345,
    "start_time": "2022-05-18T22:13:21.163Z"
   },
   {
    "duration": 271,
    "start_time": "2022-05-18T22:13:21.510Z"
   },
   {
    "duration": 49,
    "start_time": "2022-05-18T22:13:21.783Z"
   },
   {
    "duration": 35,
    "start_time": "2022-05-18T22:13:21.834Z"
   },
   {
    "duration": 571,
    "start_time": "2022-05-18T22:13:21.871Z"
   },
   {
    "duration": 29,
    "start_time": "2022-05-18T22:13:22.445Z"
   },
   {
    "duration": 10,
    "start_time": "2022-05-18T22:13:22.476Z"
   },
   {
    "duration": 18,
    "start_time": "2022-05-18T22:13:22.488Z"
   },
   {
    "duration": 8,
    "start_time": "2022-05-18T22:13:22.528Z"
   },
   {
    "duration": 682,
    "start_time": "2022-05-18T22:13:22.542Z"
   },
   {
    "duration": 732,
    "start_time": "2022-05-18T22:13:23.226Z"
   },
   {
    "duration": 618,
    "start_time": "2022-05-18T22:13:23.960Z"
   },
   {
    "duration": 368,
    "start_time": "2022-05-18T22:13:24.581Z"
   },
   {
    "duration": 1083,
    "start_time": "2022-05-18T22:13:24.952Z"
   },
   {
    "duration": 786,
    "start_time": "2022-05-18T22:13:26.037Z"
   },
   {
    "duration": 7,
    "start_time": "2022-05-18T22:13:26.825Z"
   },
   {
    "duration": 415,
    "start_time": "2022-05-18T22:13:26.834Z"
   },
   {
    "duration": 184,
    "start_time": "2022-05-18T22:13:27.251Z"
   },
   {
    "duration": 250,
    "start_time": "2022-05-18T22:13:27.437Z"
   },
   {
    "duration": 936,
    "start_time": "2022-05-18T22:13:27.689Z"
   },
   {
    "duration": 737,
    "start_time": "2022-05-18T22:13:28.628Z"
   },
   {
    "duration": 753,
    "start_time": "2022-05-18T22:13:29.367Z"
   },
   {
    "duration": 377,
    "start_time": "2022-05-18T22:13:30.127Z"
   },
   {
    "duration": 7,
    "start_time": "2022-05-18T22:13:30.506Z"
   },
   {
    "duration": 16,
    "start_time": "2022-05-18T22:13:30.514Z"
   },
   {
    "duration": 566,
    "start_time": "2022-05-18T22:13:30.533Z"
   },
   {
    "duration": 588,
    "start_time": "2022-05-18T22:13:31.102Z"
   },
   {
    "duration": 1309,
    "start_time": "2022-05-19T14:13:39.688Z"
   },
   {
    "duration": 142,
    "start_time": "2022-05-19T14:13:40.999Z"
   },
   {
    "duration": 74,
    "start_time": "2022-05-19T14:13:41.143Z"
   },
   {
    "duration": 85,
    "start_time": "2022-05-19T14:13:41.219Z"
   },
   {
    "duration": 85,
    "start_time": "2022-05-19T14:13:41.305Z"
   },
   {
    "duration": 22,
    "start_time": "2022-05-19T14:13:41.393Z"
   },
   {
    "duration": 9,
    "start_time": "2022-05-19T14:13:41.418Z"
   },
   {
    "duration": 70,
    "start_time": "2022-05-19T14:13:41.429Z"
   },
   {
    "duration": 16,
    "start_time": "2022-05-19T14:13:41.501Z"
   },
   {
    "duration": 8,
    "start_time": "2022-05-19T14:13:41.521Z"
   },
   {
    "duration": 492,
    "start_time": "2022-05-19T14:13:41.531Z"
   },
   {
    "duration": 36,
    "start_time": "2022-05-19T14:13:42.025Z"
   },
   {
    "duration": 47,
    "start_time": "2022-05-19T14:13:42.062Z"
   },
   {
    "duration": 3191,
    "start_time": "2022-05-19T14:13:42.111Z"
   },
   {
    "duration": 9,
    "start_time": "2022-05-19T14:13:45.304Z"
   },
   {
    "duration": 42,
    "start_time": "2022-05-19T14:13:45.316Z"
   },
   {
    "duration": 5,
    "start_time": "2022-05-19T14:13:45.360Z"
   },
   {
    "duration": 35,
    "start_time": "2022-05-19T14:13:45.367Z"
   },
   {
    "duration": 12,
    "start_time": "2022-05-19T14:13:45.404Z"
   },
   {
    "duration": 287,
    "start_time": "2022-05-19T14:13:45.418Z"
   },
   {
    "duration": 16,
    "start_time": "2022-05-19T14:13:45.707Z"
   },
   {
    "duration": 4,
    "start_time": "2022-05-19T14:13:45.725Z"
   },
   {
    "duration": 467,
    "start_time": "2022-05-19T14:13:45.730Z"
   },
   {
    "duration": 501,
    "start_time": "2022-05-19T14:13:46.199Z"
   },
   {
    "duration": 198,
    "start_time": "2022-05-19T14:13:46.702Z"
   },
   {
    "duration": 9,
    "start_time": "2022-05-19T14:13:46.902Z"
   },
   {
    "duration": 17,
    "start_time": "2022-05-19T14:13:46.913Z"
   },
   {
    "duration": 1428,
    "start_time": "2022-05-19T14:13:46.955Z"
   },
   {
    "duration": 14,
    "start_time": "2022-05-19T14:13:48.385Z"
   },
   {
    "duration": 21,
    "start_time": "2022-05-19T14:13:48.400Z"
   },
   {
    "duration": 12,
    "start_time": "2022-05-19T14:13:48.422Z"
   },
   {
    "duration": 3523,
    "start_time": "2022-05-19T14:13:48.435Z"
   },
   {
    "duration": 93,
    "start_time": "2022-05-19T14:13:51.960Z"
   },
   {
    "duration": 4,
    "start_time": "2022-05-19T14:13:52.055Z"
   },
   {
    "duration": 17,
    "start_time": "2022-05-19T14:13:52.060Z"
   },
   {
    "duration": 9,
    "start_time": "2022-05-19T14:13:52.078Z"
   },
   {
    "duration": 209,
    "start_time": "2022-05-19T14:13:52.089Z"
   },
   {
    "duration": 4,
    "start_time": "2022-05-19T14:13:52.300Z"
   },
   {
    "duration": 129,
    "start_time": "2022-05-19T14:13:52.306Z"
   },
   {
    "duration": 38,
    "start_time": "2022-05-19T14:13:52.436Z"
   },
   {
    "duration": 206,
    "start_time": "2022-05-19T14:13:52.476Z"
   },
   {
    "duration": 450,
    "start_time": "2022-05-19T14:13:52.684Z"
   },
   {
    "duration": 184,
    "start_time": "2022-05-19T14:13:53.136Z"
   },
   {
    "duration": 274,
    "start_time": "2022-05-19T14:13:53.322Z"
   },
   {
    "duration": 98,
    "start_time": "2022-05-19T14:13:53.598Z"
   },
   {
    "duration": 5,
    "start_time": "2022-05-19T14:13:53.698Z"
   },
   {
    "duration": 388,
    "start_time": "2022-05-19T14:13:53.704Z"
   },
   {
    "duration": 12,
    "start_time": "2022-05-19T14:13:54.094Z"
   },
   {
    "duration": 13,
    "start_time": "2022-05-19T14:13:54.108Z"
   },
   {
    "duration": 37,
    "start_time": "2022-05-19T14:13:54.123Z"
   },
   {
    "duration": 463,
    "start_time": "2022-05-19T14:13:54.163Z"
   },
   {
    "duration": 27,
    "start_time": "2022-05-19T14:13:54.628Z"
   },
   {
    "duration": 608,
    "start_time": "2022-05-19T14:13:54.657Z"
   },
   {
    "duration": 185,
    "start_time": "2022-05-19T14:13:55.268Z"
   },
   {
    "duration": 151,
    "start_time": "2022-05-19T14:13:55.455Z"
   },
   {
    "duration": 111,
    "start_time": "2022-05-19T14:13:55.608Z"
   },
   {
    "duration": 153,
    "start_time": "2022-05-19T14:13:55.720Z"
   },
   {
    "duration": 80,
    "start_time": "2022-05-19T14:13:55.875Z"
   },
   {
    "duration": 156,
    "start_time": "2022-05-19T14:13:55.957Z"
   },
   {
    "duration": 576,
    "start_time": "2022-05-19T14:13:56.115Z"
   },
   {
    "duration": 456,
    "start_time": "2022-05-19T14:13:56.693Z"
   },
   {
    "duration": 75,
    "start_time": "2022-05-19T14:13:57.152Z"
   },
   {
    "duration": 156,
    "start_time": "2022-05-19T14:13:57.229Z"
   },
   {
    "duration": 547,
    "start_time": "2022-05-19T14:13:57.387Z"
   },
   {
    "duration": 7,
    "start_time": "2022-05-19T14:13:57.936Z"
   },
   {
    "duration": 19,
    "start_time": "2022-05-19T14:13:57.952Z"
   },
   {
    "duration": 20,
    "start_time": "2022-05-19T14:13:57.973Z"
   },
   {
    "duration": 4,
    "start_time": "2022-05-19T14:13:57.995Z"
   },
   {
    "duration": 157,
    "start_time": "2022-05-19T14:13:58.001Z"
   },
   {
    "duration": 4,
    "start_time": "2022-05-19T14:13:58.160Z"
   },
   {
    "duration": 160,
    "start_time": "2022-05-19T14:13:58.166Z"
   },
   {
    "duration": 41,
    "start_time": "2022-05-19T14:13:58.328Z"
   },
   {
    "duration": 56,
    "start_time": "2022-05-19T14:13:58.371Z"
   },
   {
    "duration": 27,
    "start_time": "2022-05-19T14:13:58.428Z"
   },
   {
    "duration": 12,
    "start_time": "2022-05-19T14:13:58.456Z"
   },
   {
    "duration": 10,
    "start_time": "2022-05-19T14:13:58.469Z"
   },
   {
    "duration": 9,
    "start_time": "2022-05-19T14:13:58.481Z"
   },
   {
    "duration": 181,
    "start_time": "2022-05-19T14:13:58.491Z"
   },
   {
    "duration": 606,
    "start_time": "2022-05-19T14:13:58.674Z"
   },
   {
    "duration": 34,
    "start_time": "2022-05-19T14:13:59.283Z"
   },
   {
    "duration": 8,
    "start_time": "2022-05-19T14:13:59.319Z"
   },
   {
    "duration": 9,
    "start_time": "2022-05-19T14:13:59.352Z"
   },
   {
    "duration": 9,
    "start_time": "2022-05-19T14:13:59.363Z"
   },
   {
    "duration": 207,
    "start_time": "2022-05-19T14:13:59.374Z"
   },
   {
    "duration": 17,
    "start_time": "2022-05-19T14:13:59.582Z"
   },
   {
    "duration": 15,
    "start_time": "2022-05-19T14:13:59.600Z"
   },
   {
    "duration": 153,
    "start_time": "2022-05-19T14:13:59.617Z"
   },
   {
    "duration": 15,
    "start_time": "2022-05-19T14:13:59.772Z"
   },
   {
    "duration": 16,
    "start_time": "2022-05-19T14:13:59.788Z"
   },
   {
    "duration": 22,
    "start_time": "2022-05-19T14:13:59.805Z"
   },
   {
    "duration": 35,
    "start_time": "2022-05-19T14:13:59.828Z"
   },
   {
    "duration": 9,
    "start_time": "2022-05-19T14:13:59.865Z"
   },
   {
    "duration": 181,
    "start_time": "2022-05-19T14:13:59.875Z"
   },
   {
    "duration": 20,
    "start_time": "2022-05-19T14:14:00.058Z"
   },
   {
    "duration": 131,
    "start_time": "2022-05-19T14:14:00.080Z"
   },
   {
    "duration": 216,
    "start_time": "2022-05-19T14:14:00.213Z"
   },
   {
    "duration": 7,
    "start_time": "2022-05-19T14:14:00.431Z"
   },
   {
    "duration": 36,
    "start_time": "2022-05-19T14:14:00.453Z"
   },
   {
    "duration": 170,
    "start_time": "2022-05-19T14:14:00.491Z"
   },
   {
    "duration": 35,
    "start_time": "2022-05-19T14:14:00.662Z"
   },
   {
    "duration": 59,
    "start_time": "2022-05-19T14:14:00.698Z"
   },
   {
    "duration": 14,
    "start_time": "2022-05-19T14:14:00.759Z"
   },
   {
    "duration": 248,
    "start_time": "2022-05-19T14:14:00.775Z"
   },
   {
    "duration": 805,
    "start_time": "2022-05-19T14:14:01.025Z"
   },
   {
    "duration": 268,
    "start_time": "2022-05-19T14:14:01.832Z"
   },
   {
    "duration": 412,
    "start_time": "2022-05-19T14:14:02.102Z"
   },
   {
    "duration": 274,
    "start_time": "2022-05-19T14:14:02.516Z"
   },
   {
    "duration": 13,
    "start_time": "2022-05-19T14:14:02.792Z"
   },
   {
    "duration": 158,
    "start_time": "2022-05-19T14:14:02.806Z"
   },
   {
    "duration": 16,
    "start_time": "2022-05-19T14:14:02.966Z"
   },
   {
    "duration": 16,
    "start_time": "2022-05-19T14:14:02.984Z"
   },
   {
    "duration": 6,
    "start_time": "2022-05-19T14:14:03.001Z"
   },
   {
    "duration": 58,
    "start_time": "2022-05-19T14:14:03.010Z"
   },
   {
    "duration": 32,
    "start_time": "2022-05-19T14:14:03.070Z"
   },
   {
    "duration": 330,
    "start_time": "2022-05-19T14:14:03.104Z"
   },
   {
    "duration": 5,
    "start_time": "2022-05-19T14:14:03.435Z"
   },
   {
    "duration": 292,
    "start_time": "2022-05-19T14:14:03.451Z"
   },
   {
    "duration": 294,
    "start_time": "2022-05-19T14:14:03.744Z"
   },
   {
    "duration": 42,
    "start_time": "2022-05-19T14:14:04.040Z"
   },
   {
    "duration": 341,
    "start_time": "2022-05-19T14:14:04.084Z"
   },
   {
    "duration": 245,
    "start_time": "2022-05-19T14:14:04.427Z"
   },
   {
    "duration": 30,
    "start_time": "2022-05-19T14:14:04.674Z"
   },
   {
    "duration": 239,
    "start_time": "2022-05-19T14:14:04.706Z"
   },
   {
    "duration": 9,
    "start_time": "2022-05-19T14:14:04.947Z"
   },
   {
    "duration": 275,
    "start_time": "2022-05-19T14:14:04.957Z"
   },
   {
    "duration": 348,
    "start_time": "2022-05-19T14:14:05.234Z"
   },
   {
    "duration": 435,
    "start_time": "2022-05-19T14:14:05.584Z"
   },
   {
    "duration": 271,
    "start_time": "2022-05-19T14:14:06.021Z"
   },
   {
    "duration": 422,
    "start_time": "2022-05-19T14:14:06.294Z"
   },
   {
    "duration": 513,
    "start_time": "2022-05-19T14:14:06.718Z"
   },
   {
    "duration": 128,
    "start_time": "2022-05-19T14:14:07.233Z"
   },
   {
    "duration": 5,
    "start_time": "2022-05-19T14:14:07.363Z"
   },
   {
    "duration": 148,
    "start_time": "2022-05-19T14:14:07.370Z"
   },
   {
    "duration": 163,
    "start_time": "2022-05-19T14:14:07.520Z"
   },
   {
    "duration": 152,
    "start_time": "2022-05-19T14:14:07.684Z"
   },
   {
    "duration": 47,
    "start_time": "2022-05-19T14:14:07.837Z"
   },
   {
    "duration": 963,
    "start_time": "2022-05-19T14:14:07.885Z"
   },
   {
    "duration": 620,
    "start_time": "2022-05-19T14:14:08.849Z"
   },
   {
    "duration": 4,
    "start_time": "2022-05-19T14:14:09.471Z"
   },
   {
    "duration": 368,
    "start_time": "2022-05-19T14:14:09.477Z"
   },
   {
    "duration": 261,
    "start_time": "2022-05-19T14:14:09.846Z"
   },
   {
    "duration": 151,
    "start_time": "2022-05-19T14:14:10.109Z"
   },
   {
    "duration": 250,
    "start_time": "2022-05-19T14:14:10.262Z"
   },
   {
    "duration": 279,
    "start_time": "2022-05-19T14:14:10.513Z"
   },
   {
    "duration": 770,
    "start_time": "2022-05-19T14:14:10.794Z"
   },
   {
    "duration": 44,
    "start_time": "2022-05-19T14:14:11.567Z"
   },
   {
    "duration": 268,
    "start_time": "2022-05-19T14:14:11.613Z"
   },
   {
    "duration": 249,
    "start_time": "2022-05-19T14:14:11.882Z"
   },
   {
    "duration": 248,
    "start_time": "2022-05-19T14:14:12.133Z"
   },
   {
    "duration": 28,
    "start_time": "2022-05-19T14:14:12.382Z"
   },
   {
    "duration": 22,
    "start_time": "2022-05-19T14:14:12.412Z"
   },
   {
    "duration": 377,
    "start_time": "2022-05-19T14:14:12.452Z"
   },
   {
    "duration": 30,
    "start_time": "2022-05-19T14:14:12.831Z"
   },
   {
    "duration": 10,
    "start_time": "2022-05-19T14:14:12.863Z"
   },
   {
    "duration": 9,
    "start_time": "2022-05-19T14:14:12.874Z"
   },
   {
    "duration": 5,
    "start_time": "2022-05-19T14:14:12.885Z"
   },
   {
    "duration": 599,
    "start_time": "2022-05-19T14:14:12.891Z"
   },
   {
    "duration": 467,
    "start_time": "2022-05-19T14:14:13.492Z"
   },
   {
    "duration": 419,
    "start_time": "2022-05-19T14:14:13.961Z"
   },
   {
    "duration": 235,
    "start_time": "2022-05-19T14:14:14.382Z"
   },
   {
    "duration": 1008,
    "start_time": "2022-05-19T14:14:14.618Z"
   },
   {
    "duration": 607,
    "start_time": "2022-05-19T14:14:15.628Z"
   },
   {
    "duration": 5,
    "start_time": "2022-05-19T14:14:16.236Z"
   },
   {
    "duration": 335,
    "start_time": "2022-05-19T14:14:16.242Z"
   },
   {
    "duration": 147,
    "start_time": "2022-05-19T14:14:16.578Z"
   },
   {
    "duration": 262,
    "start_time": "2022-05-19T14:14:16.726Z"
   },
   {
    "duration": 667,
    "start_time": "2022-05-19T14:14:16.990Z"
   },
   {
    "duration": 589,
    "start_time": "2022-05-19T14:14:17.659Z"
   },
   {
    "duration": 583,
    "start_time": "2022-05-19T14:14:18.251Z"
   },
   {
    "duration": 288,
    "start_time": "2022-05-19T14:14:18.836Z"
   },
   {
    "duration": 5,
    "start_time": "2022-05-19T14:14:19.126Z"
   },
   {
    "duration": 8,
    "start_time": "2022-05-19T14:14:19.132Z"
   },
   {
    "duration": 475,
    "start_time": "2022-05-19T14:14:19.152Z"
   },
   {
    "duration": 483,
    "start_time": "2022-05-19T14:14:19.629Z"
   },
   {
    "duration": 5,
    "start_time": "2022-05-19T14:30:25.721Z"
   },
   {
    "duration": 1134,
    "start_time": "2022-05-19T14:59:37.400Z"
   },
   {
    "duration": 98,
    "start_time": "2022-05-19T14:59:38.536Z"
   },
   {
    "duration": 67,
    "start_time": "2022-05-19T14:59:38.635Z"
   },
   {
    "duration": 85,
    "start_time": "2022-05-19T14:59:38.704Z"
   },
   {
    "duration": 83,
    "start_time": "2022-05-19T14:59:38.791Z"
   },
   {
    "duration": 19,
    "start_time": "2022-05-19T14:59:38.876Z"
   },
   {
    "duration": 7,
    "start_time": "2022-05-19T14:59:38.897Z"
   },
   {
    "duration": 47,
    "start_time": "2022-05-19T14:59:38.906Z"
   },
   {
    "duration": 14,
    "start_time": "2022-05-19T14:59:38.955Z"
   },
   {
    "duration": 3,
    "start_time": "2022-05-19T14:59:38.971Z"
   },
   {
    "duration": 470,
    "start_time": "2022-05-19T14:59:38.976Z"
   },
   {
    "duration": 25,
    "start_time": "2022-05-19T14:59:39.452Z"
   },
   {
    "duration": 47,
    "start_time": "2022-05-19T14:59:39.479Z"
   },
   {
    "duration": 3068,
    "start_time": "2022-05-19T14:59:39.528Z"
   },
   {
    "duration": 10,
    "start_time": "2022-05-19T14:59:42.597Z"
   },
   {
    "duration": 21,
    "start_time": "2022-05-19T14:59:42.609Z"
   },
   {
    "duration": 5,
    "start_time": "2022-05-19T14:59:42.651Z"
   },
   {
    "duration": 20,
    "start_time": "2022-05-19T14:59:42.658Z"
   },
   {
    "duration": 14,
    "start_time": "2022-05-19T14:59:42.680Z"
   },
   {
    "duration": 254,
    "start_time": "2022-05-19T14:59:42.698Z"
   },
   {
    "duration": 17,
    "start_time": "2022-05-19T14:59:42.954Z"
   },
   {
    "duration": 3,
    "start_time": "2022-05-19T14:59:42.973Z"
   },
   {
    "duration": 471,
    "start_time": "2022-05-19T14:59:42.978Z"
   },
   {
    "duration": 481,
    "start_time": "2022-05-19T14:59:43.451Z"
   },
   {
    "duration": 195,
    "start_time": "2022-05-19T14:59:43.934Z"
   },
   {
    "duration": 21,
    "start_time": "2022-05-19T14:59:44.131Z"
   },
   {
    "duration": 19,
    "start_time": "2022-05-19T14:59:44.154Z"
   },
   {
    "duration": 1498,
    "start_time": "2022-05-19T14:59:44.175Z"
   },
   {
    "duration": 12,
    "start_time": "2022-05-19T14:59:45.675Z"
   },
   {
    "duration": 19,
    "start_time": "2022-05-19T14:59:45.689Z"
   },
   {
    "duration": 10,
    "start_time": "2022-05-19T14:59:45.709Z"
   },
   {
    "duration": 2006,
    "start_time": "2022-05-19T14:59:45.721Z"
   },
   {
    "duration": 42,
    "start_time": "2022-05-19T14:59:47.729Z"
   },
   {
    "duration": 5,
    "start_time": "2022-05-19T14:59:47.773Z"
   },
   {
    "duration": 11,
    "start_time": "2022-05-19T14:59:47.780Z"
   },
   {
    "duration": 8,
    "start_time": "2022-05-19T14:59:47.793Z"
   },
   {
    "duration": 193,
    "start_time": "2022-05-19T14:59:47.803Z"
   },
   {
    "duration": 5,
    "start_time": "2022-05-19T14:59:47.997Z"
   },
   {
    "duration": 130,
    "start_time": "2022-05-19T14:59:48.003Z"
   },
   {
    "duration": 51,
    "start_time": "2022-05-19T14:59:48.134Z"
   },
   {
    "duration": 177,
    "start_time": "2022-05-19T14:59:48.187Z"
   },
   {
    "duration": 447,
    "start_time": "2022-05-19T14:59:48.366Z"
   },
   {
    "duration": 183,
    "start_time": "2022-05-19T14:59:48.815Z"
   },
   {
    "duration": 287,
    "start_time": "2022-05-19T14:59:49.000Z"
   },
   {
    "duration": 83,
    "start_time": "2022-05-19T14:59:49.288Z"
   },
   {
    "duration": 6,
    "start_time": "2022-05-19T14:59:49.373Z"
   },
   {
    "duration": 391,
    "start_time": "2022-05-19T14:59:49.380Z"
   },
   {
    "duration": 13,
    "start_time": "2022-05-19T14:59:49.776Z"
   },
   {
    "duration": 10,
    "start_time": "2022-05-19T14:59:49.790Z"
   },
   {
    "duration": 14,
    "start_time": "2022-05-19T14:59:49.801Z"
   },
   {
    "duration": 478,
    "start_time": "2022-05-19T14:59:49.816Z"
   },
   {
    "duration": 18,
    "start_time": "2022-05-19T14:59:50.296Z"
   },
   {
    "duration": 573,
    "start_time": "2022-05-19T14:59:50.316Z"
   },
   {
    "duration": 150,
    "start_time": "2022-05-19T14:59:50.891Z"
   },
   {
    "duration": 154,
    "start_time": "2022-05-19T14:59:51.043Z"
   },
   {
    "duration": 107,
    "start_time": "2022-05-19T14:59:51.200Z"
   },
   {
    "duration": 157,
    "start_time": "2022-05-19T14:59:51.309Z"
   },
   {
    "duration": 93,
    "start_time": "2022-05-19T14:59:51.468Z"
   },
   {
    "duration": 152,
    "start_time": "2022-05-19T14:59:51.563Z"
   },
   {
    "duration": 564,
    "start_time": "2022-05-19T14:59:51.717Z"
   },
   {
    "duration": 478,
    "start_time": "2022-05-19T14:59:52.283Z"
   },
   {
    "duration": 74,
    "start_time": "2022-05-19T14:59:52.763Z"
   },
   {
    "duration": 155,
    "start_time": "2022-05-19T14:59:52.839Z"
   },
   {
    "duration": 459,
    "start_time": "2022-05-19T14:59:52.996Z"
   },
   {
    "duration": 6,
    "start_time": "2022-05-19T14:59:53.456Z"
   },
   {
    "duration": 9,
    "start_time": "2022-05-19T14:59:53.463Z"
   },
   {
    "duration": 17,
    "start_time": "2022-05-19T14:59:53.474Z"
   },
   {
    "duration": 10,
    "start_time": "2022-05-19T14:59:53.493Z"
   },
   {
    "duration": 147,
    "start_time": "2022-05-19T14:59:53.505Z"
   },
   {
    "duration": 3,
    "start_time": "2022-05-19T14:59:53.654Z"
   },
   {
    "duration": 144,
    "start_time": "2022-05-19T14:59:53.659Z"
   },
   {
    "duration": 30,
    "start_time": "2022-05-19T14:59:53.804Z"
   },
   {
    "duration": 62,
    "start_time": "2022-05-19T14:59:53.836Z"
   },
   {
    "duration": 5,
    "start_time": "2022-05-19T14:59:53.899Z"
   },
   {
    "duration": 23,
    "start_time": "2022-05-19T14:59:53.905Z"
   },
   {
    "duration": 27,
    "start_time": "2022-05-19T14:59:53.929Z"
   },
   {
    "duration": 21,
    "start_time": "2022-05-19T14:59:53.957Z"
   },
   {
    "duration": 145,
    "start_time": "2022-05-19T14:59:53.980Z"
   },
   {
    "duration": 537,
    "start_time": "2022-05-19T14:59:54.127Z"
   },
   {
    "duration": 30,
    "start_time": "2022-05-19T14:59:54.665Z"
   },
   {
    "duration": 7,
    "start_time": "2022-05-19T14:59:54.697Z"
   },
   {
    "duration": 18,
    "start_time": "2022-05-19T14:59:54.705Z"
   },
   {
    "duration": 27,
    "start_time": "2022-05-19T14:59:54.725Z"
   },
   {
    "duration": 155,
    "start_time": "2022-05-19T14:59:54.753Z"
   },
   {
    "duration": 15,
    "start_time": "2022-05-19T14:59:54.910Z"
   },
   {
    "duration": 26,
    "start_time": "2022-05-19T14:59:54.927Z"
   },
   {
    "duration": 133,
    "start_time": "2022-05-19T14:59:54.955Z"
   },
   {
    "duration": 16,
    "start_time": "2022-05-19T14:59:55.090Z"
   },
   {
    "duration": 10,
    "start_time": "2022-05-19T14:59:55.107Z"
   },
   {
    "duration": 37,
    "start_time": "2022-05-19T14:59:55.119Z"
   },
   {
    "duration": 14,
    "start_time": "2022-05-19T14:59:55.158Z"
   },
   {
    "duration": 17,
    "start_time": "2022-05-19T14:59:55.175Z"
   },
   {
    "duration": 196,
    "start_time": "2022-05-19T14:59:55.194Z"
   },
   {
    "duration": 25,
    "start_time": "2022-05-19T14:59:55.392Z"
   },
   {
    "duration": 143,
    "start_time": "2022-05-19T14:59:55.419Z"
   },
   {
    "duration": 223,
    "start_time": "2022-05-19T14:59:55.564Z"
   },
   {
    "duration": 8,
    "start_time": "2022-05-19T14:59:55.789Z"
   },
   {
    "duration": 16,
    "start_time": "2022-05-19T14:59:55.798Z"
   },
   {
    "duration": 164,
    "start_time": "2022-05-19T14:59:55.816Z"
   },
   {
    "duration": 35,
    "start_time": "2022-05-19T14:59:55.982Z"
   },
   {
    "duration": 51,
    "start_time": "2022-05-19T14:59:56.018Z"
   },
   {
    "duration": 12,
    "start_time": "2022-05-19T14:59:56.070Z"
   },
   {
    "duration": 207,
    "start_time": "2022-05-19T14:59:56.084Z"
   },
   {
    "duration": 753,
    "start_time": "2022-05-19T14:59:56.292Z"
   },
   {
    "duration": 225,
    "start_time": "2022-05-19T14:59:57.052Z"
   },
   {
    "duration": 386,
    "start_time": "2022-05-19T14:59:57.278Z"
   },
   {
    "duration": 223,
    "start_time": "2022-05-19T14:59:57.666Z"
   },
   {
    "duration": 11,
    "start_time": "2022-05-19T14:59:57.890Z"
   },
   {
    "duration": 143,
    "start_time": "2022-05-19T14:59:57.902Z"
   },
   {
    "duration": 16,
    "start_time": "2022-05-19T14:59:58.051Z"
   },
   {
    "duration": 8,
    "start_time": "2022-05-19T14:59:58.068Z"
   },
   {
    "duration": 3,
    "start_time": "2022-05-19T14:59:58.078Z"
   },
   {
    "duration": 33,
    "start_time": "2022-05-19T14:59:58.083Z"
   },
   {
    "duration": 67,
    "start_time": "2022-05-19T14:59:58.118Z"
   },
   {
    "duration": 316,
    "start_time": "2022-05-19T14:59:58.187Z"
   },
   {
    "duration": 5,
    "start_time": "2022-05-19T14:59:58.504Z"
   },
   {
    "duration": 296,
    "start_time": "2022-05-19T14:59:58.510Z"
   },
   {
    "duration": 282,
    "start_time": "2022-05-19T14:59:58.808Z"
   },
   {
    "duration": 37,
    "start_time": "2022-05-19T14:59:59.091Z"
   },
   {
    "duration": 354,
    "start_time": "2022-05-19T14:59:59.129Z"
   },
   {
    "duration": 315,
    "start_time": "2022-05-19T14:59:59.484Z"
   },
   {
    "duration": 27,
    "start_time": "2022-05-19T14:59:59.853Z"
   },
   {
    "duration": 497,
    "start_time": "2022-05-19T14:59:59.882Z"
   },
   {
    "duration": 7,
    "start_time": "2022-05-19T15:00:00.380Z"
   },
   {
    "duration": 482,
    "start_time": "2022-05-19T15:00:00.388Z"
   },
   {
    "duration": 607,
    "start_time": "2022-05-19T15:00:00.872Z"
   },
   {
    "duration": 422,
    "start_time": "2022-05-19T15:00:01.480Z"
   },
   {
    "duration": 264,
    "start_time": "2022-05-19T15:00:01.904Z"
   },
   {
    "duration": 473,
    "start_time": "2022-05-19T15:00:02.171Z"
   },
   {
    "duration": 562,
    "start_time": "2022-05-19T15:00:02.646Z"
   },
   {
    "duration": 128,
    "start_time": "2022-05-19T15:00:03.210Z"
   },
   {
    "duration": 6,
    "start_time": "2022-05-19T15:00:03.351Z"
   },
   {
    "duration": 154,
    "start_time": "2022-05-19T15:00:03.358Z"
   },
   {
    "duration": 163,
    "start_time": "2022-05-19T15:00:03.514Z"
   },
   {
    "duration": 164,
    "start_time": "2022-05-19T15:00:03.679Z"
   },
   {
    "duration": 34,
    "start_time": "2022-05-19T15:00:03.851Z"
   },
   {
    "duration": 998,
    "start_time": "2022-05-19T15:00:03.887Z"
   },
   {
    "duration": 751,
    "start_time": "2022-05-19T15:00:04.887Z"
   },
   {
    "duration": 5,
    "start_time": "2022-05-19T15:00:05.640Z"
   },
   {
    "duration": 461,
    "start_time": "2022-05-19T15:00:05.653Z"
   },
   {
    "duration": 283,
    "start_time": "2022-05-19T15:00:06.116Z"
   },
   {
    "duration": 139,
    "start_time": "2022-05-19T15:00:06.400Z"
   },
   {
    "duration": 263,
    "start_time": "2022-05-19T15:00:06.541Z"
   },
   {
    "duration": 285,
    "start_time": "2022-05-19T15:00:06.806Z"
   },
   {
    "duration": 784,
    "start_time": "2022-05-19T15:00:07.092Z"
   },
   {
    "duration": 46,
    "start_time": "2022-05-19T15:00:07.878Z"
   },
   {
    "duration": 288,
    "start_time": "2022-05-19T15:00:07.926Z"
   },
   {
    "duration": 260,
    "start_time": "2022-05-19T15:00:08.215Z"
   },
   {
    "duration": 246,
    "start_time": "2022-05-19T15:00:08.476Z"
   },
   {
    "duration": 38,
    "start_time": "2022-05-19T15:00:08.724Z"
   },
   {
    "duration": 24,
    "start_time": "2022-05-19T15:00:08.764Z"
   },
   {
    "duration": 391,
    "start_time": "2022-05-19T15:00:08.789Z"
   },
   {
    "duration": 26,
    "start_time": "2022-05-19T15:00:09.181Z"
   },
   {
    "duration": 9,
    "start_time": "2022-05-19T15:00:09.209Z"
   },
   {
    "duration": 9,
    "start_time": "2022-05-19T15:00:09.220Z"
   },
   {
    "duration": 5,
    "start_time": "2022-05-19T15:00:09.251Z"
   },
   {
    "duration": 552,
    "start_time": "2022-05-19T15:00:09.258Z"
   },
   {
    "duration": 481,
    "start_time": "2022-05-19T15:00:09.811Z"
   },
   {
    "duration": 396,
    "start_time": "2022-05-19T15:00:10.294Z"
   },
   {
    "duration": 232,
    "start_time": "2022-05-19T15:00:10.692Z"
   },
   {
    "duration": 920,
    "start_time": "2022-05-19T15:00:10.925Z"
   },
   {
    "duration": 582,
    "start_time": "2022-05-19T15:00:11.851Z"
   },
   {
    "duration": 4,
    "start_time": "2022-05-19T15:00:12.435Z"
   },
   {
    "duration": 344,
    "start_time": "2022-05-19T15:00:12.441Z"
   },
   {
    "duration": 149,
    "start_time": "2022-05-19T15:00:12.787Z"
   },
   {
    "duration": 248,
    "start_time": "2022-05-19T15:00:12.938Z"
   },
   {
    "duration": 652,
    "start_time": "2022-05-19T15:00:13.187Z"
   },
   {
    "duration": 574,
    "start_time": "2022-05-19T15:00:13.841Z"
   },
   {
    "duration": 571,
    "start_time": "2022-05-19T15:00:14.417Z"
   },
   {
    "duration": 341,
    "start_time": "2022-05-19T15:00:14.990Z"
   },
   {
    "duration": 6,
    "start_time": "2022-05-19T15:00:15.333Z"
   },
   {
    "duration": 8,
    "start_time": "2022-05-19T15:00:15.351Z"
   },
   {
    "duration": 518,
    "start_time": "2022-05-19T15:00:15.361Z"
   },
   {
    "duration": 515,
    "start_time": "2022-05-19T15:00:15.881Z"
   },
   {
    "duration": 46,
    "start_time": "2022-05-19T20:31:52.609Z"
   },
   {
    "duration": 1482,
    "start_time": "2022-05-20T13:14:05.133Z"
   },
   {
    "duration": 165,
    "start_time": "2022-05-20T13:14:06.617Z"
   },
   {
    "duration": 79,
    "start_time": "2022-05-20T13:14:06.784Z"
   },
   {
    "duration": 91,
    "start_time": "2022-05-20T13:14:06.866Z"
   },
   {
    "duration": 80,
    "start_time": "2022-05-20T13:14:06.963Z"
   },
   {
    "duration": 26,
    "start_time": "2022-05-20T13:14:07.045Z"
   },
   {
    "duration": 8,
    "start_time": "2022-05-20T13:14:07.072Z"
   },
   {
    "duration": 39,
    "start_time": "2022-05-20T13:14:07.081Z"
   },
   {
    "duration": 14,
    "start_time": "2022-05-20T13:14:07.122Z"
   },
   {
    "duration": 4,
    "start_time": "2022-05-20T13:14:07.152Z"
   },
   {
    "duration": 491,
    "start_time": "2022-05-20T13:14:07.157Z"
   },
   {
    "duration": 33,
    "start_time": "2022-05-20T13:14:07.650Z"
   },
   {
    "duration": 48,
    "start_time": "2022-05-20T13:14:07.685Z"
   },
   {
    "duration": 3115,
    "start_time": "2022-05-20T13:14:07.735Z"
   },
   {
    "duration": 16,
    "start_time": "2022-05-20T13:14:10.852Z"
   },
   {
    "duration": 20,
    "start_time": "2022-05-20T13:14:10.870Z"
   },
   {
    "duration": 5,
    "start_time": "2022-05-20T13:14:10.891Z"
   },
   {
    "duration": 9,
    "start_time": "2022-05-20T13:14:10.898Z"
   },
   {
    "duration": 10,
    "start_time": "2022-05-20T13:14:10.908Z"
   },
   {
    "duration": 288,
    "start_time": "2022-05-20T13:14:10.920Z"
   },
   {
    "duration": 17,
    "start_time": "2022-05-20T13:14:11.209Z"
   },
   {
    "duration": 3,
    "start_time": "2022-05-20T13:14:11.228Z"
   },
   {
    "duration": 484,
    "start_time": "2022-05-20T13:14:11.233Z"
   },
   {
    "duration": 508,
    "start_time": "2022-05-20T13:14:11.719Z"
   },
   {
    "duration": 458,
    "start_time": "2022-05-20T13:14:12.229Z"
   },
   {
    "duration": 7,
    "start_time": "2022-05-20T13:14:12.689Z"
   },
   {
    "duration": 19,
    "start_time": "2022-05-20T13:14:12.698Z"
   },
   {
    "duration": 1684,
    "start_time": "2022-05-20T13:14:12.721Z"
   },
   {
    "duration": 13,
    "start_time": "2022-05-20T13:14:14.407Z"
   },
   {
    "duration": 20,
    "start_time": "2022-05-20T13:14:14.422Z"
   },
   {
    "duration": 6,
    "start_time": "2022-05-20T13:14:14.444Z"
   },
   {
    "duration": 2981,
    "start_time": "2022-05-20T13:14:14.451Z"
   },
   {
    "duration": 48,
    "start_time": "2022-05-20T13:14:17.434Z"
   },
   {
    "duration": 4,
    "start_time": "2022-05-20T13:14:17.484Z"
   },
   {
    "duration": 19,
    "start_time": "2022-05-20T13:14:17.490Z"
   },
   {
    "duration": 13,
    "start_time": "2022-05-20T13:14:17.511Z"
   },
   {
    "duration": 185,
    "start_time": "2022-05-20T13:14:17.526Z"
   },
   {
    "duration": 6,
    "start_time": "2022-05-20T13:14:17.713Z"
   },
   {
    "duration": 142,
    "start_time": "2022-05-20T13:14:17.721Z"
   },
   {
    "duration": 33,
    "start_time": "2022-05-20T13:14:17.865Z"
   },
   {
    "duration": 181,
    "start_time": "2022-05-20T13:14:17.899Z"
   },
   {
    "duration": 466,
    "start_time": "2022-05-20T13:14:18.082Z"
   },
   {
    "duration": 184,
    "start_time": "2022-05-20T13:14:18.552Z"
   },
   {
    "duration": 291,
    "start_time": "2022-05-20T13:14:18.738Z"
   },
   {
    "duration": 84,
    "start_time": "2022-05-20T13:14:19.031Z"
   },
   {
    "duration": 5,
    "start_time": "2022-05-20T13:14:19.117Z"
   },
   {
    "duration": 411,
    "start_time": "2022-05-20T13:14:19.123Z"
   },
   {
    "duration": 22,
    "start_time": "2022-05-20T13:14:19.536Z"
   },
   {
    "duration": 15,
    "start_time": "2022-05-20T13:14:19.559Z"
   },
   {
    "duration": 13,
    "start_time": "2022-05-20T13:14:19.575Z"
   },
   {
    "duration": 479,
    "start_time": "2022-05-20T13:14:19.589Z"
   },
   {
    "duration": 18,
    "start_time": "2022-05-20T13:14:20.069Z"
   },
   {
    "duration": 597,
    "start_time": "2022-05-20T13:14:20.088Z"
   },
   {
    "duration": 157,
    "start_time": "2022-05-20T13:14:20.688Z"
   },
   {
    "duration": 153,
    "start_time": "2022-05-20T13:14:20.852Z"
   },
   {
    "duration": 111,
    "start_time": "2022-05-20T13:14:21.007Z"
   },
   {
    "duration": 163,
    "start_time": "2022-05-20T13:14:21.120Z"
   },
   {
    "duration": 99,
    "start_time": "2022-05-20T13:14:21.285Z"
   },
   {
    "duration": 150,
    "start_time": "2022-05-20T13:14:21.386Z"
   },
   {
    "duration": 559,
    "start_time": "2022-05-20T13:14:21.538Z"
   },
   {
    "duration": 513,
    "start_time": "2022-05-20T13:14:22.099Z"
   },
   {
    "duration": 91,
    "start_time": "2022-05-20T13:14:22.614Z"
   },
   {
    "duration": 164,
    "start_time": "2022-05-20T13:14:22.707Z"
   },
   {
    "duration": 508,
    "start_time": "2022-05-20T13:14:22.873Z"
   },
   {
    "duration": 6,
    "start_time": "2022-05-20T13:14:23.383Z"
   },
   {
    "duration": 17,
    "start_time": "2022-05-20T13:14:23.390Z"
   },
   {
    "duration": 12,
    "start_time": "2022-05-20T13:14:23.409Z"
   },
   {
    "duration": 3,
    "start_time": "2022-05-20T13:14:23.423Z"
   },
   {
    "duration": 170,
    "start_time": "2022-05-20T13:14:23.428Z"
   },
   {
    "duration": 4,
    "start_time": "2022-05-20T13:14:23.600Z"
   },
   {
    "duration": 175,
    "start_time": "2022-05-20T13:14:23.606Z"
   },
   {
    "duration": 32,
    "start_time": "2022-05-20T13:14:23.783Z"
   },
   {
    "duration": 74,
    "start_time": "2022-05-20T13:14:23.817Z"
   },
   {
    "duration": 6,
    "start_time": "2022-05-20T13:14:23.893Z"
   },
   {
    "duration": 17,
    "start_time": "2022-05-20T13:14:23.900Z"
   },
   {
    "duration": 6,
    "start_time": "2022-05-20T13:14:23.919Z"
   },
   {
    "duration": 38,
    "start_time": "2022-05-20T13:14:23.927Z"
   },
   {
    "duration": 161,
    "start_time": "2022-05-20T13:14:23.967Z"
   },
   {
    "duration": 606,
    "start_time": "2022-05-20T13:14:24.130Z"
   },
   {
    "duration": 46,
    "start_time": "2022-05-20T13:14:24.738Z"
   },
   {
    "duration": 9,
    "start_time": "2022-05-20T13:14:24.786Z"
   },
   {
    "duration": 10,
    "start_time": "2022-05-20T13:14:24.803Z"
   },
   {
    "duration": 47,
    "start_time": "2022-05-20T13:14:24.815Z"
   },
   {
    "duration": 163,
    "start_time": "2022-05-20T13:14:24.866Z"
   },
   {
    "duration": 15,
    "start_time": "2022-05-20T13:14:25.031Z"
   },
   {
    "duration": 25,
    "start_time": "2022-05-20T13:14:25.052Z"
   },
   {
    "duration": 180,
    "start_time": "2022-05-20T13:14:25.078Z"
   },
   {
    "duration": 21,
    "start_time": "2022-05-20T13:14:25.260Z"
   },
   {
    "duration": 20,
    "start_time": "2022-05-20T13:14:25.283Z"
   },
   {
    "duration": 28,
    "start_time": "2022-05-20T13:14:25.305Z"
   },
   {
    "duration": 13,
    "start_time": "2022-05-20T13:14:25.352Z"
   },
   {
    "duration": 34,
    "start_time": "2022-05-20T13:14:25.368Z"
   },
   {
    "duration": 180,
    "start_time": "2022-05-20T13:14:25.404Z"
   },
   {
    "duration": 19,
    "start_time": "2022-05-20T13:14:25.585Z"
   },
   {
    "duration": 126,
    "start_time": "2022-05-20T13:14:25.606Z"
   },
   {
    "duration": 235,
    "start_time": "2022-05-20T13:14:25.734Z"
   },
   {
    "duration": 7,
    "start_time": "2022-05-20T13:14:25.971Z"
   },
   {
    "duration": 16,
    "start_time": "2022-05-20T13:14:25.980Z"
   },
   {
    "duration": 175,
    "start_time": "2022-05-20T13:14:25.997Z"
   },
   {
    "duration": 42,
    "start_time": "2022-05-20T13:14:26.174Z"
   },
   {
    "duration": 68,
    "start_time": "2022-05-20T13:14:26.218Z"
   },
   {
    "duration": 13,
    "start_time": "2022-05-20T13:14:26.287Z"
   },
   {
    "duration": 208,
    "start_time": "2022-05-20T13:14:26.302Z"
   },
   {
    "duration": 810,
    "start_time": "2022-05-20T13:14:26.513Z"
   },
   {
    "duration": 242,
    "start_time": "2022-05-20T13:14:27.325Z"
   },
   {
    "duration": 393,
    "start_time": "2022-05-20T13:14:27.570Z"
   },
   {
    "duration": 236,
    "start_time": "2022-05-20T13:14:27.965Z"
   },
   {
    "duration": 11,
    "start_time": "2022-05-20T13:14:28.203Z"
   },
   {
    "duration": 160,
    "start_time": "2022-05-20T13:14:28.216Z"
   },
   {
    "duration": 16,
    "start_time": "2022-05-20T13:14:28.378Z"
   },
   {
    "duration": 14,
    "start_time": "2022-05-20T13:14:28.396Z"
   },
   {
    "duration": 3,
    "start_time": "2022-05-20T13:14:28.411Z"
   },
   {
    "duration": 57,
    "start_time": "2022-05-20T13:14:28.416Z"
   },
   {
    "duration": 47,
    "start_time": "2022-05-20T13:14:28.475Z"
   },
   {
    "duration": 343,
    "start_time": "2022-05-20T13:14:28.524Z"
   },
   {
    "duration": 15,
    "start_time": "2022-05-20T13:14:28.869Z"
   },
   {
    "duration": 6,
    "start_time": "2022-05-20T13:14:28.886Z"
   },
   {
    "duration": 329,
    "start_time": "2022-05-20T13:14:28.893Z"
   },
   {
    "duration": 304,
    "start_time": "2022-05-20T13:14:29.224Z"
   },
   {
    "duration": 50,
    "start_time": "2022-05-20T13:14:29.530Z"
   },
   {
    "duration": 366,
    "start_time": "2022-05-20T13:14:29.582Z"
   },
   {
    "duration": 256,
    "start_time": "2022-05-20T13:14:29.952Z"
   },
   {
    "duration": 28,
    "start_time": "2022-05-20T13:14:30.210Z"
   },
   {
    "duration": 249,
    "start_time": "2022-05-20T13:14:30.252Z"
   },
   {
    "duration": 6,
    "start_time": "2022-05-20T13:14:30.503Z"
   },
   {
    "duration": 259,
    "start_time": "2022-05-20T13:14:30.511Z"
   },
   {
    "duration": 314,
    "start_time": "2022-05-20T13:14:30.772Z"
   },
   {
    "duration": 425,
    "start_time": "2022-05-20T13:14:31.088Z"
   },
   {
    "duration": 252,
    "start_time": "2022-05-20T13:14:31.515Z"
   },
   {
    "duration": 451,
    "start_time": "2022-05-20T13:14:31.768Z"
   },
   {
    "duration": 602,
    "start_time": "2022-05-20T13:14:32.221Z"
   },
   {
    "duration": 140,
    "start_time": "2022-05-20T13:14:32.825Z"
   },
   {
    "duration": 7,
    "start_time": "2022-05-20T13:14:32.967Z"
   },
   {
    "duration": 150,
    "start_time": "2022-05-20T13:14:32.976Z"
   },
   {
    "duration": 173,
    "start_time": "2022-05-20T13:14:33.128Z"
   },
   {
    "duration": 171,
    "start_time": "2022-05-20T13:14:33.303Z"
   },
   {
    "duration": 32,
    "start_time": "2022-05-20T13:14:33.476Z"
   },
   {
    "duration": 839,
    "start_time": "2022-05-20T13:14:51.730Z"
   },
   {
    "duration": 759,
    "start_time": "2022-05-20T13:15:41.571Z"
   },
   {
    "duration": 556,
    "start_time": "2022-05-20T13:16:15.547Z"
   },
   {
    "duration": 439,
    "start_time": "2022-05-20T13:16:37.365Z"
   },
   {
    "duration": 6,
    "start_time": "2022-05-20T13:17:01.650Z"
   },
   {
    "duration": 4,
    "start_time": "2022-05-20T13:17:41.139Z"
   },
   {
    "duration": 11,
    "start_time": "2022-05-20T13:17:58.689Z"
   },
   {
    "duration": 10,
    "start_time": "2022-05-20T13:18:03.821Z"
   },
   {
    "duration": 41,
    "start_time": "2022-05-20T13:18:08.764Z"
   },
   {
    "duration": 11,
    "start_time": "2022-05-20T13:18:45.684Z"
   },
   {
    "duration": 13,
    "start_time": "2022-05-20T13:19:07.490Z"
   },
   {
    "duration": 13,
    "start_time": "2022-05-20T13:19:11.322Z"
   },
   {
    "duration": 6,
    "start_time": "2022-05-20T13:19:49.194Z"
   },
   {
    "duration": 16,
    "start_time": "2022-05-20T13:21:29.270Z"
   },
   {
    "duration": 1237,
    "start_time": "2022-05-20T13:21:46.323Z"
   },
   {
    "duration": 100,
    "start_time": "2022-05-20T13:21:47.562Z"
   },
   {
    "duration": 65,
    "start_time": "2022-05-20T13:21:47.664Z"
   },
   {
    "duration": 92,
    "start_time": "2022-05-20T13:21:47.732Z"
   },
   {
    "duration": 86,
    "start_time": "2022-05-20T13:21:47.825Z"
   },
   {
    "duration": 17,
    "start_time": "2022-05-20T13:21:47.913Z"
   },
   {
    "duration": 21,
    "start_time": "2022-05-20T13:21:47.932Z"
   },
   {
    "duration": 26,
    "start_time": "2022-05-20T13:21:47.954Z"
   },
   {
    "duration": 12,
    "start_time": "2022-05-20T13:21:47.982Z"
   },
   {
    "duration": 3,
    "start_time": "2022-05-20T13:21:47.997Z"
   },
   {
    "duration": 471,
    "start_time": "2022-05-20T13:21:48.001Z"
   },
   {
    "duration": 25,
    "start_time": "2022-05-20T13:21:48.473Z"
   },
   {
    "duration": 56,
    "start_time": "2022-05-20T13:21:48.500Z"
   },
   {
    "duration": 2939,
    "start_time": "2022-05-20T13:21:48.557Z"
   },
   {
    "duration": 8,
    "start_time": "2022-05-20T13:21:51.497Z"
   },
   {
    "duration": 17,
    "start_time": "2022-05-20T13:21:51.506Z"
   },
   {
    "duration": 3,
    "start_time": "2022-05-20T13:21:51.525Z"
   },
   {
    "duration": 28,
    "start_time": "2022-05-20T13:21:51.530Z"
   },
   {
    "duration": 11,
    "start_time": "2022-05-20T13:21:51.559Z"
   },
   {
    "duration": 234,
    "start_time": "2022-05-20T13:21:51.571Z"
   },
   {
    "duration": 16,
    "start_time": "2022-05-20T13:21:51.806Z"
   },
   {
    "duration": 5,
    "start_time": "2022-05-20T13:21:51.825Z"
   },
   {
    "duration": 427,
    "start_time": "2022-05-20T13:21:51.831Z"
   },
   {
    "duration": 568,
    "start_time": "2022-05-20T13:21:52.260Z"
   },
   {
    "duration": 453,
    "start_time": "2022-05-20T13:21:52.830Z"
   },
   {
    "duration": 9,
    "start_time": "2022-05-20T13:21:53.284Z"
   },
   {
    "duration": 21,
    "start_time": "2022-05-20T13:21:53.294Z"
   },
   {
    "duration": 1477,
    "start_time": "2022-05-20T13:21:53.320Z"
   },
   {
    "duration": 14,
    "start_time": "2022-05-20T13:21:54.799Z"
   },
   {
    "duration": 19,
    "start_time": "2022-05-20T13:21:54.815Z"
   },
   {
    "duration": 7,
    "start_time": "2022-05-20T13:21:54.836Z"
   },
   {
    "duration": 2117,
    "start_time": "2022-05-20T13:21:54.844Z"
   },
   {
    "duration": 40,
    "start_time": "2022-05-20T13:21:56.963Z"
   },
   {
    "duration": 4,
    "start_time": "2022-05-20T13:21:57.004Z"
   },
   {
    "duration": 23,
    "start_time": "2022-05-20T13:21:57.010Z"
   },
   {
    "duration": 9,
    "start_time": "2022-05-20T13:21:57.035Z"
   },
   {
    "duration": 182,
    "start_time": "2022-05-20T13:21:57.045Z"
   },
   {
    "duration": 4,
    "start_time": "2022-05-20T13:21:57.229Z"
   },
   {
    "duration": 127,
    "start_time": "2022-05-20T13:21:57.235Z"
   },
   {
    "duration": 33,
    "start_time": "2022-05-20T13:21:57.364Z"
   },
   {
    "duration": 178,
    "start_time": "2022-05-20T13:21:57.398Z"
   },
   {
    "duration": 450,
    "start_time": "2022-05-20T13:21:57.578Z"
   },
   {
    "duration": 178,
    "start_time": "2022-05-20T13:21:58.030Z"
   },
   {
    "duration": 279,
    "start_time": "2022-05-20T13:21:58.210Z"
   },
   {
    "duration": 82,
    "start_time": "2022-05-20T13:21:58.491Z"
   },
   {
    "duration": 6,
    "start_time": "2022-05-20T13:21:58.574Z"
   },
   {
    "duration": 386,
    "start_time": "2022-05-20T13:21:58.581Z"
   },
   {
    "duration": 10,
    "start_time": "2022-05-20T13:21:58.969Z"
   },
   {
    "duration": 9,
    "start_time": "2022-05-20T13:21:58.981Z"
   },
   {
    "duration": 14,
    "start_time": "2022-05-20T13:21:58.991Z"
   },
   {
    "duration": 438,
    "start_time": "2022-05-20T13:21:59.006Z"
   },
   {
    "duration": 22,
    "start_time": "2022-05-20T13:21:59.446Z"
   },
   {
    "duration": 553,
    "start_time": "2022-05-20T13:21:59.470Z"
   },
   {
    "duration": 164,
    "start_time": "2022-05-20T13:22:00.026Z"
   },
   {
    "duration": 161,
    "start_time": "2022-05-20T13:22:00.193Z"
   },
   {
    "duration": 102,
    "start_time": "2022-05-20T13:22:00.356Z"
   },
   {
    "duration": 148,
    "start_time": "2022-05-20T13:22:00.459Z"
   },
   {
    "duration": 81,
    "start_time": "2022-05-20T13:22:00.608Z"
   },
   {
    "duration": 141,
    "start_time": "2022-05-20T13:22:00.691Z"
   },
   {
    "duration": 561,
    "start_time": "2022-05-20T13:22:00.834Z"
   },
   {
    "duration": 464,
    "start_time": "2022-05-20T13:22:01.396Z"
   },
   {
    "duration": 94,
    "start_time": "2022-05-20T13:22:01.868Z"
   },
   {
    "duration": 168,
    "start_time": "2022-05-20T13:22:01.964Z"
   },
   {
    "duration": 553,
    "start_time": "2022-05-20T13:22:02.135Z"
   },
   {
    "duration": 7,
    "start_time": "2022-05-20T13:22:02.690Z"
   },
   {
    "duration": 55,
    "start_time": "2022-05-20T13:22:02.698Z"
   },
   {
    "duration": 26,
    "start_time": "2022-05-20T13:22:02.755Z"
   },
   {
    "duration": 9,
    "start_time": "2022-05-20T13:22:02.782Z"
   },
   {
    "duration": 162,
    "start_time": "2022-05-20T13:22:02.792Z"
   },
   {
    "duration": 4,
    "start_time": "2022-05-20T13:22:02.956Z"
   },
   {
    "duration": 193,
    "start_time": "2022-05-20T13:22:02.961Z"
   },
   {
    "duration": 29,
    "start_time": "2022-05-20T13:22:03.156Z"
   },
   {
    "duration": 73,
    "start_time": "2022-05-20T13:22:03.187Z"
   },
   {
    "duration": 7,
    "start_time": "2022-05-20T13:22:03.262Z"
   },
   {
    "duration": 13,
    "start_time": "2022-05-20T13:22:03.271Z"
   },
   {
    "duration": 7,
    "start_time": "2022-05-20T13:22:03.285Z"
   },
   {
    "duration": 14,
    "start_time": "2022-05-20T13:22:03.293Z"
   },
   {
    "duration": 201,
    "start_time": "2022-05-20T13:22:03.309Z"
   },
   {
    "duration": 562,
    "start_time": "2022-05-20T13:22:03.511Z"
   },
   {
    "duration": 29,
    "start_time": "2022-05-20T13:22:04.075Z"
   },
   {
    "duration": 8,
    "start_time": "2022-05-20T13:22:04.106Z"
   },
   {
    "duration": 9,
    "start_time": "2022-05-20T13:22:04.120Z"
   },
   {
    "duration": 30,
    "start_time": "2022-05-20T13:22:04.130Z"
   },
   {
    "duration": 176,
    "start_time": "2022-05-20T13:22:04.161Z"
   },
   {
    "duration": 28,
    "start_time": "2022-05-20T13:22:04.339Z"
   },
   {
    "duration": 15,
    "start_time": "2022-05-20T13:22:04.369Z"
   },
   {
    "duration": 190,
    "start_time": "2022-05-20T13:22:04.386Z"
   },
   {
    "duration": 18,
    "start_time": "2022-05-20T13:22:04.578Z"
   },
   {
    "duration": 17,
    "start_time": "2022-05-20T13:22:04.598Z"
   },
   {
    "duration": 37,
    "start_time": "2022-05-20T13:22:04.617Z"
   },
   {
    "duration": 10,
    "start_time": "2022-05-20T13:22:04.656Z"
   },
   {
    "duration": 7,
    "start_time": "2022-05-20T13:22:04.668Z"
   },
   {
    "duration": 199,
    "start_time": "2022-05-20T13:22:04.677Z"
   },
   {
    "duration": 20,
    "start_time": "2022-05-20T13:22:04.878Z"
   },
   {
    "duration": 140,
    "start_time": "2022-05-20T13:22:04.900Z"
   },
   {
    "duration": 248,
    "start_time": "2022-05-20T13:22:05.041Z"
   },
   {
    "duration": 10,
    "start_time": "2022-05-20T13:22:05.298Z"
   },
   {
    "duration": 29,
    "start_time": "2022-05-20T13:22:05.310Z"
   },
   {
    "duration": 187,
    "start_time": "2022-05-20T13:22:05.341Z"
   },
   {
    "duration": 46,
    "start_time": "2022-05-20T13:22:05.529Z"
   },
   {
    "duration": 40,
    "start_time": "2022-05-20T13:22:05.576Z"
   },
   {
    "duration": 12,
    "start_time": "2022-05-20T13:22:05.618Z"
   },
   {
    "duration": 200,
    "start_time": "2022-05-20T13:22:05.652Z"
   },
   {
    "duration": 764,
    "start_time": "2022-05-20T13:22:05.854Z"
   },
   {
    "duration": 232,
    "start_time": "2022-05-20T13:22:06.620Z"
   },
   {
    "duration": 394,
    "start_time": "2022-05-20T13:22:06.854Z"
   },
   {
    "duration": 230,
    "start_time": "2022-05-20T13:22:07.249Z"
   },
   {
    "duration": 14,
    "start_time": "2022-05-20T13:22:07.481Z"
   },
   {
    "duration": 156,
    "start_time": "2022-05-20T13:22:07.497Z"
   },
   {
    "duration": 24,
    "start_time": "2022-05-20T13:22:07.655Z"
   },
   {
    "duration": 21,
    "start_time": "2022-05-20T13:22:07.681Z"
   },
   {
    "duration": 4,
    "start_time": "2022-05-20T13:22:07.704Z"
   },
   {
    "duration": 59,
    "start_time": "2022-05-20T13:22:07.710Z"
   },
   {
    "duration": 41,
    "start_time": "2022-05-20T13:22:07.772Z"
   },
   {
    "duration": 351,
    "start_time": "2022-05-20T13:22:07.814Z"
   },
   {
    "duration": 15,
    "start_time": "2022-05-20T13:22:08.167Z"
   },
   {
    "duration": 8,
    "start_time": "2022-05-20T13:22:08.183Z"
   },
   {
    "duration": 293,
    "start_time": "2022-05-20T13:22:08.193Z"
   },
   {
    "duration": 285,
    "start_time": "2022-05-20T13:22:08.487Z"
   },
   {
    "duration": 35,
    "start_time": "2022-05-20T13:22:08.773Z"
   },
   {
    "duration": 363,
    "start_time": "2022-05-20T13:22:08.809Z"
   },
   {
    "duration": 229,
    "start_time": "2022-05-20T13:22:09.173Z"
   },
   {
    "duration": 27,
    "start_time": "2022-05-20T13:22:09.403Z"
   },
   {
    "duration": 238,
    "start_time": "2022-05-20T13:22:09.431Z"
   },
   {
    "duration": 7,
    "start_time": "2022-05-20T13:22:09.671Z"
   },
   {
    "duration": 243,
    "start_time": "2022-05-20T13:22:09.680Z"
   },
   {
    "duration": 323,
    "start_time": "2022-05-20T13:22:09.925Z"
   },
   {
    "duration": 417,
    "start_time": "2022-05-20T13:22:10.250Z"
   },
   {
    "duration": 254,
    "start_time": "2022-05-20T13:22:10.669Z"
   },
   {
    "duration": 414,
    "start_time": "2022-05-20T13:22:10.925Z"
   },
   {
    "duration": 545,
    "start_time": "2022-05-20T13:22:11.341Z"
   },
   {
    "duration": 129,
    "start_time": "2022-05-20T13:22:11.888Z"
   },
   {
    "duration": 7,
    "start_time": "2022-05-20T13:22:12.019Z"
   },
   {
    "duration": 166,
    "start_time": "2022-05-20T13:22:12.028Z"
   },
   {
    "duration": 149,
    "start_time": "2022-05-20T13:22:12.197Z"
   },
   {
    "duration": 152,
    "start_time": "2022-05-20T13:22:12.352Z"
   },
   {
    "duration": 33,
    "start_time": "2022-05-20T13:22:12.506Z"
   },
   {
    "duration": 139,
    "start_time": "2022-05-20T13:22:24.023Z"
   },
   {
    "duration": 18,
    "start_time": "2022-05-20T13:23:30.973Z"
   },
   {
    "duration": 16,
    "start_time": "2022-05-20T13:24:05.623Z"
   },
   {
    "duration": 12,
    "start_time": "2022-05-20T13:26:08.708Z"
   },
   {
    "duration": 12,
    "start_time": "2022-05-20T13:35:00.244Z"
   },
   {
    "duration": 24,
    "start_time": "2022-05-20T13:35:26.221Z"
   },
   {
    "duration": 12,
    "start_time": "2022-05-20T13:35:38.087Z"
   },
   {
    "duration": 17,
    "start_time": "2022-05-20T13:36:25.187Z"
   },
   {
    "duration": 15,
    "start_time": "2022-05-20T13:36:40.164Z"
   },
   {
    "duration": 4,
    "start_time": "2022-05-20T13:38:42.501Z"
   },
   {
    "duration": 36,
    "start_time": "2022-05-20T13:38:58.659Z"
   },
   {
    "duration": 1580,
    "start_time": "2022-05-21T08:31:24.289Z"
   },
   {
    "duration": 175,
    "start_time": "2022-05-21T08:31:25.872Z"
   },
   {
    "duration": 82,
    "start_time": "2022-05-21T08:31:26.049Z"
   },
   {
    "duration": 112,
    "start_time": "2022-05-21T08:31:26.134Z"
   },
   {
    "duration": 103,
    "start_time": "2022-05-21T08:31:26.248Z"
   },
   {
    "duration": 28,
    "start_time": "2022-05-21T08:31:26.356Z"
   },
   {
    "duration": 15,
    "start_time": "2022-05-21T08:31:26.387Z"
   },
   {
    "duration": 39,
    "start_time": "2022-05-21T08:31:26.404Z"
   },
   {
    "duration": 26,
    "start_time": "2022-05-21T08:31:26.445Z"
   },
   {
    "duration": 6,
    "start_time": "2022-05-21T08:31:26.475Z"
   },
   {
    "duration": 605,
    "start_time": "2022-05-21T08:31:26.483Z"
   },
   {
    "duration": 29,
    "start_time": "2022-05-21T08:31:27.090Z"
   },
   {
    "duration": 75,
    "start_time": "2022-05-21T08:31:27.121Z"
   },
   {
    "duration": 3651,
    "start_time": "2022-05-21T08:31:27.198Z"
   },
   {
    "duration": 17,
    "start_time": "2022-05-21T08:31:30.859Z"
   },
   {
    "duration": 45,
    "start_time": "2022-05-21T08:31:30.878Z"
   },
   {
    "duration": 6,
    "start_time": "2022-05-21T08:31:30.927Z"
   },
   {
    "duration": 28,
    "start_time": "2022-05-21T08:31:30.935Z"
   },
   {
    "duration": 35,
    "start_time": "2022-05-21T08:31:30.974Z"
   },
   {
    "duration": 323,
    "start_time": "2022-05-21T08:31:31.013Z"
   },
   {
    "duration": 33,
    "start_time": "2022-05-21T08:31:31.339Z"
   },
   {
    "duration": 16,
    "start_time": "2022-05-21T08:31:31.374Z"
   },
   {
    "duration": 720,
    "start_time": "2022-05-21T08:31:31.393Z"
   },
   {
    "duration": 604,
    "start_time": "2022-05-21T08:31:32.115Z"
   },
   {
    "duration": 187,
    "start_time": "2022-05-21T08:31:32.721Z"
   },
   {
    "duration": 9,
    "start_time": "2022-05-21T08:31:32.910Z"
   },
   {
    "duration": 47,
    "start_time": "2022-05-21T08:31:32.921Z"
   },
   {
    "duration": 1772,
    "start_time": "2022-05-21T08:31:32.976Z"
   },
   {
    "duration": 22,
    "start_time": "2022-05-21T08:31:34.750Z"
   },
   {
    "duration": 35,
    "start_time": "2022-05-21T08:31:34.774Z"
   },
   {
    "duration": 6,
    "start_time": "2022-05-21T08:31:34.810Z"
   },
   {
    "duration": 3287,
    "start_time": "2022-05-21T08:31:34.818Z"
   },
   {
    "duration": 64,
    "start_time": "2022-05-21T08:31:38.108Z"
   },
   {
    "duration": 4,
    "start_time": "2022-05-21T08:31:38.174Z"
   },
   {
    "duration": 25,
    "start_time": "2022-05-21T08:31:38.180Z"
   },
   {
    "duration": 12,
    "start_time": "2022-05-21T08:31:38.207Z"
   },
   {
    "duration": 269,
    "start_time": "2022-05-21T08:31:38.221Z"
   },
   {
    "duration": 6,
    "start_time": "2022-05-21T08:31:38.493Z"
   },
   {
    "duration": 193,
    "start_time": "2022-05-21T08:31:38.501Z"
   },
   {
    "duration": 48,
    "start_time": "2022-05-21T08:31:38.696Z"
   },
   {
    "duration": 213,
    "start_time": "2022-05-21T08:31:38.752Z"
   },
   {
    "duration": 539,
    "start_time": "2022-05-21T08:31:38.973Z"
   },
   {
    "duration": 211,
    "start_time": "2022-05-21T08:31:39.514Z"
   },
   {
    "duration": 338,
    "start_time": "2022-05-21T08:31:39.728Z"
   },
   {
    "duration": 125,
    "start_time": "2022-05-21T08:31:40.068Z"
   },
   {
    "duration": 7,
    "start_time": "2022-05-21T08:31:40.204Z"
   },
   {
    "duration": 557,
    "start_time": "2022-05-21T08:31:40.214Z"
   },
   {
    "duration": 18,
    "start_time": "2022-05-21T08:31:40.775Z"
   },
   {
    "duration": 14,
    "start_time": "2022-05-21T08:31:40.795Z"
   },
   {
    "duration": 13,
    "start_time": "2022-05-21T08:31:40.811Z"
   },
   {
    "duration": 656,
    "start_time": "2022-05-21T08:31:40.826Z"
   },
   {
    "duration": 24,
    "start_time": "2022-05-21T08:31:41.484Z"
   },
   {
    "duration": 817,
    "start_time": "2022-05-21T08:31:41.510Z"
   },
   {
    "duration": 171,
    "start_time": "2022-05-21T08:31:42.329Z"
   },
   {
    "duration": 201,
    "start_time": "2022-05-21T08:31:42.502Z"
   },
   {
    "duration": 130,
    "start_time": "2022-05-21T08:31:42.711Z"
   },
   {
    "duration": 224,
    "start_time": "2022-05-21T08:31:42.843Z"
   },
   {
    "duration": 95,
    "start_time": "2022-05-21T08:31:43.069Z"
   },
   {
    "duration": 180,
    "start_time": "2022-05-21T08:31:43.167Z"
   },
   {
    "duration": 758,
    "start_time": "2022-05-21T08:31:43.348Z"
   },
   {
    "duration": 601,
    "start_time": "2022-05-21T08:31:44.108Z"
   },
   {
    "duration": 147,
    "start_time": "2022-05-21T08:31:44.711Z"
   },
   {
    "duration": 166,
    "start_time": "2022-05-21T08:31:44.860Z"
   },
   {
    "duration": 674,
    "start_time": "2022-05-21T08:31:45.028Z"
   },
   {
    "duration": 11,
    "start_time": "2022-05-21T08:31:45.706Z"
   },
   {
    "duration": 22,
    "start_time": "2022-05-21T08:31:45.720Z"
   },
   {
    "duration": 68,
    "start_time": "2022-05-21T08:31:45.744Z"
   },
   {
    "duration": 98,
    "start_time": "2022-05-21T08:31:45.815Z"
   },
   {
    "duration": 178,
    "start_time": "2022-05-21T08:31:45.915Z"
   },
   {
    "duration": 4,
    "start_time": "2022-05-21T08:31:46.097Z"
   },
   {
    "duration": 234,
    "start_time": "2022-05-21T08:31:46.104Z"
   },
   {
    "duration": 73,
    "start_time": "2022-05-21T08:31:46.343Z"
   },
   {
    "duration": 100,
    "start_time": "2022-05-21T08:31:46.418Z"
   },
   {
    "duration": 5,
    "start_time": "2022-05-21T08:31:46.521Z"
   },
   {
    "duration": 26,
    "start_time": "2022-05-21T08:31:46.531Z"
   },
   {
    "duration": 46,
    "start_time": "2022-05-21T08:31:46.558Z"
   },
   {
    "duration": 14,
    "start_time": "2022-05-21T08:31:46.606Z"
   },
   {
    "duration": 251,
    "start_time": "2022-05-21T08:31:46.622Z"
   },
   {
    "duration": 883,
    "start_time": "2022-05-21T08:31:46.875Z"
   },
   {
    "duration": 54,
    "start_time": "2022-05-21T08:31:47.760Z"
   },
   {
    "duration": 38,
    "start_time": "2022-05-21T08:31:47.820Z"
   },
   {
    "duration": 54,
    "start_time": "2022-05-21T08:31:47.873Z"
   },
   {
    "duration": 14,
    "start_time": "2022-05-21T08:31:47.931Z"
   },
   {
    "duration": 311,
    "start_time": "2022-05-21T08:31:47.947Z"
   },
   {
    "duration": 29,
    "start_time": "2022-05-21T08:31:48.259Z"
   },
   {
    "duration": 45,
    "start_time": "2022-05-21T08:31:48.290Z"
   },
   {
    "duration": 199,
    "start_time": "2022-05-21T08:31:48.337Z"
   },
   {
    "duration": 29,
    "start_time": "2022-05-21T08:31:48.539Z"
   },
   {
    "duration": 55,
    "start_time": "2022-05-21T08:31:48.572Z"
   },
   {
    "duration": 31,
    "start_time": "2022-05-21T08:31:48.629Z"
   },
   {
    "duration": 17,
    "start_time": "2022-05-21T08:31:48.664Z"
   },
   {
    "duration": 15,
    "start_time": "2022-05-21T08:31:48.685Z"
   },
   {
    "duration": 231,
    "start_time": "2022-05-21T08:31:48.702Z"
   },
   {
    "duration": 41,
    "start_time": "2022-05-21T08:31:48.935Z"
   },
   {
    "duration": 152,
    "start_time": "2022-05-21T08:31:48.981Z"
   },
   {
    "duration": 277,
    "start_time": "2022-05-21T08:31:49.135Z"
   },
   {
    "duration": 10,
    "start_time": "2022-05-21T08:31:49.414Z"
   },
   {
    "duration": 30,
    "start_time": "2022-05-21T08:31:49.426Z"
   },
   {
    "duration": 229,
    "start_time": "2022-05-21T08:31:49.458Z"
   },
   {
    "duration": 53,
    "start_time": "2022-05-21T08:31:49.689Z"
   },
   {
    "duration": 65,
    "start_time": "2022-05-21T08:31:49.751Z"
   },
   {
    "duration": 16,
    "start_time": "2022-05-21T08:31:49.818Z"
   },
   {
    "duration": 289,
    "start_time": "2022-05-21T08:31:49.836Z"
   },
   {
    "duration": 1220,
    "start_time": "2022-05-21T08:31:50.127Z"
   },
   {
    "duration": 363,
    "start_time": "2022-05-21T08:31:51.350Z"
   },
   {
    "duration": 502,
    "start_time": "2022-05-21T08:31:51.715Z"
   },
   {
    "duration": 326,
    "start_time": "2022-05-21T08:31:52.219Z"
   },
   {
    "duration": 21,
    "start_time": "2022-05-21T08:31:52.547Z"
   },
   {
    "duration": 240,
    "start_time": "2022-05-21T08:31:52.570Z"
   },
   {
    "duration": 23,
    "start_time": "2022-05-21T08:31:52.813Z"
   },
   {
    "duration": 22,
    "start_time": "2022-05-21T08:31:52.838Z"
   },
   {
    "duration": 8,
    "start_time": "2022-05-21T08:31:52.862Z"
   },
   {
    "duration": 68,
    "start_time": "2022-05-21T08:31:52.872Z"
   },
   {
    "duration": 54,
    "start_time": "2022-05-21T08:31:52.942Z"
   },
   {
    "duration": 479,
    "start_time": "2022-05-21T08:31:52.999Z"
   },
   {
    "duration": 15,
    "start_time": "2022-05-21T08:31:53.480Z"
   },
   {
    "duration": 13,
    "start_time": "2022-05-21T08:31:53.497Z"
   },
   {
    "duration": 454,
    "start_time": "2022-05-21T08:31:53.512Z"
   },
   {
    "duration": 465,
    "start_time": "2022-05-21T08:31:53.973Z"
   },
   {
    "duration": 64,
    "start_time": "2022-05-21T08:31:54.441Z"
   },
   {
    "duration": 490,
    "start_time": "2022-05-21T08:31:54.508Z"
   },
   {
    "duration": 346,
    "start_time": "2022-05-21T08:31:55.002Z"
   },
   {
    "duration": 38,
    "start_time": "2022-05-21T08:31:55.350Z"
   },
   {
    "duration": 334,
    "start_time": "2022-05-21T08:31:55.390Z"
   },
   {
    "duration": 7,
    "start_time": "2022-05-21T08:31:55.726Z"
   },
   {
    "duration": 335,
    "start_time": "2022-05-21T08:31:55.735Z"
   },
   {
    "duration": 425,
    "start_time": "2022-05-21T08:31:56.082Z"
   },
   {
    "duration": 495,
    "start_time": "2022-05-21T08:31:56.509Z"
   },
   {
    "duration": 271,
    "start_time": "2022-05-21T08:31:57.005Z"
   },
   {
    "duration": 455,
    "start_time": "2022-05-21T08:31:57.279Z"
   },
   {
    "duration": 650,
    "start_time": "2022-05-21T08:31:57.735Z"
   },
   {
    "duration": 136,
    "start_time": "2022-05-21T08:31:58.387Z"
   },
   {
    "duration": 7,
    "start_time": "2022-05-21T08:31:58.525Z"
   },
   {
    "duration": 177,
    "start_time": "2022-05-21T08:31:58.534Z"
   },
   {
    "duration": 245,
    "start_time": "2022-05-21T08:31:58.713Z"
   },
   {
    "duration": 229,
    "start_time": "2022-05-21T08:31:58.967Z"
   },
   {
    "duration": 34,
    "start_time": "2022-05-21T08:31:59.198Z"
   },
   {
    "duration": 1086,
    "start_time": "2022-05-21T08:31:59.233Z"
   },
   {
    "duration": 720,
    "start_time": "2022-05-21T08:32:00.321Z"
   },
   {
    "duration": 11,
    "start_time": "2022-05-21T08:32:01.043Z"
   },
   {
    "duration": 48,
    "start_time": "2022-05-21T08:32:01.056Z"
   },
   {
    "duration": 423,
    "start_time": "2022-05-21T08:32:01.107Z"
   },
   {
    "duration": 312,
    "start_time": "2022-05-21T08:32:01.533Z"
   },
   {
    "duration": 188,
    "start_time": "2022-05-21T08:32:01.847Z"
   },
   {
    "duration": 346,
    "start_time": "2022-05-21T08:32:02.037Z"
   },
   {
    "duration": 314,
    "start_time": "2022-05-21T08:32:02.388Z"
   },
   {
    "duration": 919,
    "start_time": "2022-05-21T08:32:02.704Z"
   },
   {
    "duration": 68,
    "start_time": "2022-05-21T08:32:03.625Z"
   },
   {
    "duration": 288,
    "start_time": "2022-05-21T08:32:03.694Z"
   },
   {
    "duration": 383,
    "start_time": "2022-05-21T08:32:03.984Z"
   },
   {
    "duration": 687,
    "start_time": "2022-05-21T08:32:04.369Z"
   },
   {
    "duration": 50,
    "start_time": "2022-05-21T08:32:05.060Z"
   },
   {
    "duration": 76,
    "start_time": "2022-05-21T08:32:05.113Z"
   },
   {
    "duration": 1119,
    "start_time": "2022-05-21T08:32:05.191Z"
   },
   {
    "duration": 74,
    "start_time": "2022-05-21T08:32:06.312Z"
   },
   {
    "duration": 75,
    "start_time": "2022-05-21T08:32:06.388Z"
   },
   {
    "duration": 23,
    "start_time": "2022-05-21T08:32:06.465Z"
   },
   {
    "duration": 24,
    "start_time": "2022-05-21T08:32:06.490Z"
   },
   {
    "duration": 866,
    "start_time": "2022-05-21T08:32:06.516Z"
   },
   {
    "duration": 527,
    "start_time": "2022-05-21T08:32:07.384Z"
   },
   {
    "duration": 533,
    "start_time": "2022-05-21T08:32:07.913Z"
   },
   {
    "duration": 281,
    "start_time": "2022-05-21T08:32:08.448Z"
   },
   {
    "duration": 981,
    "start_time": "2022-05-21T08:32:08.731Z"
   },
   {
    "duration": 707,
    "start_time": "2022-05-21T08:32:09.714Z"
   },
   {
    "duration": 4,
    "start_time": "2022-05-21T08:32:10.424Z"
   },
   {
    "duration": 415,
    "start_time": "2022-05-21T08:32:10.430Z"
   },
   {
    "duration": 167,
    "start_time": "2022-05-21T08:32:10.857Z"
   },
   {
    "duration": 348,
    "start_time": "2022-05-21T08:32:11.026Z"
   },
   {
    "duration": 712,
    "start_time": "2022-05-21T08:32:11.377Z"
   },
   {
    "duration": 657,
    "start_time": "2022-05-21T08:32:12.092Z"
   },
   {
    "duration": 651,
    "start_time": "2022-05-21T08:32:12.752Z"
   },
   {
    "duration": 310,
    "start_time": "2022-05-21T08:32:13.405Z"
   },
   {
    "duration": 5,
    "start_time": "2022-05-21T08:32:13.717Z"
   },
   {
    "duration": 11,
    "start_time": "2022-05-21T08:32:13.724Z"
   },
   {
    "duration": 589,
    "start_time": "2022-05-21T08:32:13.737Z"
   },
   {
    "duration": 575,
    "start_time": "2022-05-21T08:32:14.328Z"
   },
   {
    "duration": 1430,
    "start_time": "2022-05-21T08:38:13.902Z"
   },
   {
    "duration": 155,
    "start_time": "2022-05-21T08:38:15.334Z"
   },
   {
    "duration": 92,
    "start_time": "2022-05-21T08:38:15.497Z"
   },
   {
    "duration": 99,
    "start_time": "2022-05-21T08:38:15.591Z"
   },
   {
    "duration": 108,
    "start_time": "2022-05-21T08:38:15.692Z"
   },
   {
    "duration": 32,
    "start_time": "2022-05-21T08:38:15.804Z"
   },
   {
    "duration": 9,
    "start_time": "2022-05-21T08:38:15.839Z"
   },
   {
    "duration": 90,
    "start_time": "2022-05-21T08:38:15.850Z"
   },
   {
    "duration": 22,
    "start_time": "2022-05-21T08:38:15.942Z"
   },
   {
    "duration": 26,
    "start_time": "2022-05-21T08:38:15.965Z"
   },
   {
    "duration": 638,
    "start_time": "2022-05-21T08:38:15.995Z"
   },
   {
    "duration": 59,
    "start_time": "2022-05-21T08:38:16.637Z"
   },
   {
    "duration": 83,
    "start_time": "2022-05-21T08:38:16.699Z"
   },
   {
    "duration": 3978,
    "start_time": "2022-05-21T08:38:16.790Z"
   },
   {
    "duration": 16,
    "start_time": "2022-05-21T08:38:20.773Z"
   },
   {
    "duration": 31,
    "start_time": "2022-05-21T08:38:20.791Z"
   },
   {
    "duration": 5,
    "start_time": "2022-05-21T08:38:20.825Z"
   },
   {
    "duration": 25,
    "start_time": "2022-05-21T08:38:20.833Z"
   },
   {
    "duration": 51,
    "start_time": "2022-05-21T08:38:20.860Z"
   },
   {
    "duration": 394,
    "start_time": "2022-05-21T08:38:20.913Z"
   },
   {
    "duration": 25,
    "start_time": "2022-05-21T08:38:21.310Z"
   },
   {
    "duration": 5,
    "start_time": "2022-05-21T08:38:21.337Z"
   },
   {
    "duration": 674,
    "start_time": "2022-05-21T08:38:21.352Z"
   },
   {
    "duration": 684,
    "start_time": "2022-05-21T08:38:22.028Z"
   },
   {
    "duration": 294,
    "start_time": "2022-05-21T08:38:22.715Z"
   },
   {
    "duration": 11,
    "start_time": "2022-05-21T08:38:23.012Z"
   },
   {
    "duration": 47,
    "start_time": "2022-05-21T08:38:23.026Z"
   },
   {
    "duration": 1637,
    "start_time": "2022-05-21T08:38:23.075Z"
   },
   {
    "duration": 21,
    "start_time": "2022-05-21T08:38:24.714Z"
   },
   {
    "duration": 37,
    "start_time": "2022-05-21T08:38:24.739Z"
   },
   {
    "duration": 22,
    "start_time": "2022-05-21T08:38:24.781Z"
   },
   {
    "duration": 2690,
    "start_time": "2022-05-21T08:38:24.805Z"
   },
   {
    "duration": 76,
    "start_time": "2022-05-21T08:38:27.498Z"
   },
   {
    "duration": 6,
    "start_time": "2022-05-21T08:38:27.575Z"
   },
   {
    "duration": 34,
    "start_time": "2022-05-21T08:38:27.585Z"
   },
   {
    "duration": 24,
    "start_time": "2022-05-21T08:38:27.621Z"
   },
   {
    "duration": 228,
    "start_time": "2022-05-21T08:38:27.648Z"
   },
   {
    "duration": 8,
    "start_time": "2022-05-21T08:38:27.884Z"
   },
   {
    "duration": 194,
    "start_time": "2022-05-21T08:38:27.894Z"
   },
   {
    "duration": 49,
    "start_time": "2022-05-21T08:38:28.092Z"
   },
   {
    "duration": 304,
    "start_time": "2022-05-21T08:38:28.159Z"
   },
   {
    "duration": 541,
    "start_time": "2022-05-21T08:38:28.469Z"
   },
   {
    "duration": 215,
    "start_time": "2022-05-21T08:38:29.012Z"
   },
   {
    "duration": 331,
    "start_time": "2022-05-21T08:38:29.230Z"
   },
   {
    "duration": 110,
    "start_time": "2022-05-21T08:38:29.562Z"
   },
   {
    "duration": 5,
    "start_time": "2022-05-21T08:38:29.674Z"
   },
   {
    "duration": 531,
    "start_time": "2022-05-21T08:38:29.681Z"
   },
   {
    "duration": 14,
    "start_time": "2022-05-21T08:38:30.214Z"
   },
   {
    "duration": 37,
    "start_time": "2022-05-21T08:38:30.230Z"
   },
   {
    "duration": 24,
    "start_time": "2022-05-21T08:38:30.275Z"
   },
   {
    "duration": 551,
    "start_time": "2022-05-21T08:38:30.301Z"
   },
   {
    "duration": 25,
    "start_time": "2022-05-21T08:38:30.859Z"
   },
   {
    "duration": 661,
    "start_time": "2022-05-21T08:38:30.888Z"
   },
   {
    "duration": 168,
    "start_time": "2022-05-21T08:38:31.552Z"
   },
   {
    "duration": 195,
    "start_time": "2022-05-21T08:38:31.724Z"
   },
   {
    "duration": 128,
    "start_time": "2022-05-21T08:38:31.921Z"
   },
   {
    "duration": 262,
    "start_time": "2022-05-21T08:38:32.052Z"
   },
   {
    "duration": 124,
    "start_time": "2022-05-21T08:38:32.316Z"
   },
   {
    "duration": 200,
    "start_time": "2022-05-21T08:38:32.442Z"
   },
   {
    "duration": 715,
    "start_time": "2022-05-21T08:38:32.644Z"
   },
   {
    "duration": 719,
    "start_time": "2022-05-21T08:38:33.363Z"
   },
   {
    "duration": 109,
    "start_time": "2022-05-21T08:38:34.087Z"
   },
   {
    "duration": 201,
    "start_time": "2022-05-21T08:38:34.199Z"
   },
   {
    "duration": 680,
    "start_time": "2022-05-21T08:38:34.402Z"
   },
   {
    "duration": 7,
    "start_time": "2022-05-21T08:38:35.084Z"
   },
   {
    "duration": 12,
    "start_time": "2022-05-21T08:38:35.093Z"
   },
   {
    "duration": 32,
    "start_time": "2022-05-21T08:38:35.108Z"
   },
   {
    "duration": 36,
    "start_time": "2022-05-21T08:38:35.144Z"
   },
   {
    "duration": 214,
    "start_time": "2022-05-21T08:38:35.187Z"
   },
   {
    "duration": 5,
    "start_time": "2022-05-21T08:38:35.403Z"
   },
   {
    "duration": 234,
    "start_time": "2022-05-21T08:38:35.410Z"
   },
   {
    "duration": 54,
    "start_time": "2022-05-21T08:38:35.646Z"
   },
   {
    "duration": 83,
    "start_time": "2022-05-21T08:38:35.703Z"
   },
   {
    "duration": 6,
    "start_time": "2022-05-21T08:38:35.787Z"
   },
   {
    "duration": 32,
    "start_time": "2022-05-21T08:38:35.801Z"
   },
   {
    "duration": 9,
    "start_time": "2022-05-21T08:38:35.835Z"
   },
   {
    "duration": 22,
    "start_time": "2022-05-21T08:38:35.846Z"
   },
   {
    "duration": 271,
    "start_time": "2022-05-21T08:38:35.870Z"
   },
   {
    "duration": 939,
    "start_time": "2022-05-21T08:38:36.144Z"
   },
   {
    "duration": 46,
    "start_time": "2022-05-21T08:38:37.085Z"
   },
   {
    "duration": 29,
    "start_time": "2022-05-21T08:38:37.134Z"
   },
   {
    "duration": 39,
    "start_time": "2022-05-21T08:38:37.165Z"
   },
   {
    "duration": 12,
    "start_time": "2022-05-21T08:38:37.206Z"
   },
   {
    "duration": 238,
    "start_time": "2022-05-21T08:38:37.222Z"
   },
   {
    "duration": 25,
    "start_time": "2022-05-21T08:38:37.462Z"
   },
   {
    "duration": 25,
    "start_time": "2022-05-21T08:38:37.490Z"
   },
   {
    "duration": 217,
    "start_time": "2022-05-21T08:38:37.517Z"
   },
   {
    "duration": 30,
    "start_time": "2022-05-21T08:38:37.736Z"
   },
   {
    "duration": 38,
    "start_time": "2022-05-21T08:38:37.768Z"
   },
   {
    "duration": 25,
    "start_time": "2022-05-21T08:38:37.808Z"
   },
   {
    "duration": 12,
    "start_time": "2022-05-21T08:38:37.835Z"
   },
   {
    "duration": 25,
    "start_time": "2022-05-21T08:38:37.849Z"
   },
   {
    "duration": 240,
    "start_time": "2022-05-21T08:38:37.877Z"
   },
   {
    "duration": 24,
    "start_time": "2022-05-21T08:38:38.119Z"
   },
   {
    "duration": 144,
    "start_time": "2022-05-21T08:38:38.157Z"
   },
   {
    "duration": 285,
    "start_time": "2022-05-21T08:38:38.304Z"
   },
   {
    "duration": 9,
    "start_time": "2022-05-21T08:38:38.591Z"
   },
   {
    "duration": 15,
    "start_time": "2022-05-21T08:38:38.602Z"
   },
   {
    "duration": 228,
    "start_time": "2022-05-21T08:38:38.619Z"
   },
   {
    "duration": 52,
    "start_time": "2022-05-21T08:38:38.855Z"
   },
   {
    "duration": 74,
    "start_time": "2022-05-21T08:38:38.909Z"
   },
   {
    "duration": 17,
    "start_time": "2022-05-21T08:38:38.990Z"
   },
   {
    "duration": 262,
    "start_time": "2022-05-21T08:38:39.010Z"
   },
   {
    "duration": 1371,
    "start_time": "2022-05-21T08:38:39.280Z"
   },
   {
    "duration": 379,
    "start_time": "2022-05-21T08:38:40.662Z"
   },
   {
    "duration": 619,
    "start_time": "2022-05-21T08:38:41.043Z"
   },
   {
    "duration": 391,
    "start_time": "2022-05-21T08:38:41.664Z"
   },
   {
    "duration": 20,
    "start_time": "2022-05-21T08:38:42.056Z"
   },
   {
    "duration": 163,
    "start_time": "2022-05-21T08:38:42.081Z"
   },
   {
    "duration": 26,
    "start_time": "2022-05-21T08:38:42.246Z"
   },
   {
    "duration": 26,
    "start_time": "2022-05-21T08:38:42.273Z"
   },
   {
    "duration": 5,
    "start_time": "2022-05-21T08:38:42.301Z"
   },
   {
    "duration": 54,
    "start_time": "2022-05-21T08:38:42.307Z"
   },
   {
    "duration": 53,
    "start_time": "2022-05-21T08:38:42.364Z"
   },
   {
    "duration": 499,
    "start_time": "2022-05-21T08:38:42.419Z"
   },
   {
    "duration": 17,
    "start_time": "2022-05-21T08:38:42.920Z"
   },
   {
    "duration": 26,
    "start_time": "2022-05-21T08:38:42.940Z"
   },
   {
    "duration": 432,
    "start_time": "2022-05-21T08:38:42.970Z"
   },
   {
    "duration": 456,
    "start_time": "2022-05-21T08:38:43.404Z"
   },
   {
    "duration": 58,
    "start_time": "2022-05-21T08:38:43.868Z"
   },
   {
    "duration": 496,
    "start_time": "2022-05-21T08:38:43.928Z"
   },
   {
    "duration": 428,
    "start_time": "2022-05-21T08:38:44.438Z"
   },
   {
    "duration": 50,
    "start_time": "2022-05-21T08:38:44.868Z"
   },
   {
    "duration": 418,
    "start_time": "2022-05-21T08:38:44.925Z"
   },
   {
    "duration": 14,
    "start_time": "2022-05-21T08:38:45.345Z"
   },
   {
    "duration": 388,
    "start_time": "2022-05-21T08:38:45.368Z"
   },
   {
    "duration": 540,
    "start_time": "2022-05-21T08:38:45.768Z"
   },
   {
    "duration": 659,
    "start_time": "2022-05-21T08:38:46.311Z"
   },
   {
    "duration": 353,
    "start_time": "2022-05-21T08:38:46.972Z"
   },
   {
    "duration": 617,
    "start_time": "2022-05-21T08:38:47.330Z"
   },
   {
    "duration": 794,
    "start_time": "2022-05-21T08:38:47.949Z"
   },
   {
    "duration": 189,
    "start_time": "2022-05-21T08:38:48.745Z"
   },
   {
    "duration": 6,
    "start_time": "2022-05-21T08:38:48.937Z"
   },
   {
    "duration": 189,
    "start_time": "2022-05-21T08:38:48.945Z"
   },
   {
    "duration": 260,
    "start_time": "2022-05-21T08:38:49.136Z"
   },
   {
    "duration": 208,
    "start_time": "2022-05-21T08:38:49.398Z"
   },
   {
    "duration": 34,
    "start_time": "2022-05-21T08:38:49.608Z"
   },
   {
    "duration": 1077,
    "start_time": "2022-05-21T08:38:49.652Z"
   },
   {
    "duration": 722,
    "start_time": "2022-05-21T08:38:50.731Z"
   },
   {
    "duration": 15,
    "start_time": "2022-05-21T08:38:51.455Z"
   },
   {
    "duration": 29,
    "start_time": "2022-05-21T08:38:51.480Z"
   },
   {
    "duration": 502,
    "start_time": "2022-05-21T08:38:51.511Z"
   },
   {
    "duration": 393,
    "start_time": "2022-05-21T08:38:52.015Z"
   },
   {
    "duration": 195,
    "start_time": "2022-05-21T08:38:52.410Z"
   },
   {
    "duration": 404,
    "start_time": "2022-05-21T08:38:52.615Z"
   },
   {
    "duration": 407,
    "start_time": "2022-05-21T08:38:53.021Z"
   },
   {
    "duration": 1033,
    "start_time": "2022-05-21T08:38:53.430Z"
   },
   {
    "duration": 104,
    "start_time": "2022-05-21T08:38:54.464Z"
   },
   {
    "duration": 597,
    "start_time": "2022-05-21T08:38:54.569Z"
   },
   {
    "duration": 795,
    "start_time": "2022-05-21T08:38:55.170Z"
   },
   {
    "duration": 666,
    "start_time": "2022-05-21T08:38:55.968Z"
   },
   {
    "duration": 69,
    "start_time": "2022-05-21T08:38:56.637Z"
   },
   {
    "duration": 105,
    "start_time": "2022-05-21T08:38:56.709Z"
   },
   {
    "duration": 1041,
    "start_time": "2022-05-21T08:38:56.816Z"
   },
   {
    "duration": 97,
    "start_time": "2022-05-21T08:38:57.871Z"
   },
   {
    "duration": 32,
    "start_time": "2022-05-21T08:38:57.970Z"
   },
   {
    "duration": 55,
    "start_time": "2022-05-21T08:38:58.009Z"
   },
   {
    "duration": 40,
    "start_time": "2022-05-21T08:38:58.067Z"
   },
   {
    "duration": 1341,
    "start_time": "2022-05-21T08:38:58.113Z"
   },
   {
    "duration": 665,
    "start_time": "2022-05-21T08:38:59.471Z"
   },
   {
    "duration": 625,
    "start_time": "2022-05-21T08:39:00.147Z"
   },
   {
    "duration": 362,
    "start_time": "2022-05-21T08:39:00.774Z"
   },
   {
    "duration": 74,
    "start_time": "2022-05-21T09:39:57.776Z"
   },
   {
    "duration": 1627,
    "start_time": "2022-05-21T09:47:30.804Z"
   },
   {
    "duration": 215,
    "start_time": "2022-05-21T09:47:32.432Z"
   },
   {
    "duration": 112,
    "start_time": "2022-05-21T09:47:32.649Z"
   },
   {
    "duration": 132,
    "start_time": "2022-05-21T09:47:32.763Z"
   },
   {
    "duration": 92,
    "start_time": "2022-05-21T09:47:32.897Z"
   },
   {
    "duration": 43,
    "start_time": "2022-05-21T09:47:32.991Z"
   },
   {
    "duration": 9,
    "start_time": "2022-05-21T09:47:33.036Z"
   },
   {
    "duration": 27,
    "start_time": "2022-05-21T09:47:33.048Z"
   },
   {
    "duration": 13,
    "start_time": "2022-05-21T09:47:33.076Z"
   },
   {
    "duration": 4,
    "start_time": "2022-05-21T09:47:33.122Z"
   },
   {
    "duration": 489,
    "start_time": "2022-05-21T09:47:33.128Z"
   },
   {
    "duration": 25,
    "start_time": "2022-05-21T09:47:33.623Z"
   },
   {
    "duration": 46,
    "start_time": "2022-05-21T09:47:33.650Z"
   },
   {
    "duration": 2964,
    "start_time": "2022-05-21T09:47:33.698Z"
   },
   {
    "duration": 11,
    "start_time": "2022-05-21T09:47:36.664Z"
   },
   {
    "duration": 18,
    "start_time": "2022-05-21T09:47:36.676Z"
   },
   {
    "duration": 30,
    "start_time": "2022-05-21T09:47:36.696Z"
   },
   {
    "duration": 13,
    "start_time": "2022-05-21T09:47:36.728Z"
   },
   {
    "duration": 10,
    "start_time": "2022-05-21T09:47:36.743Z"
   },
   {
    "duration": 287,
    "start_time": "2022-05-21T09:47:36.755Z"
   },
   {
    "duration": 18,
    "start_time": "2022-05-21T09:47:37.044Z"
   },
   {
    "duration": 4,
    "start_time": "2022-05-21T09:47:37.064Z"
   },
   {
    "duration": 477,
    "start_time": "2022-05-21T09:47:37.071Z"
   },
   {
    "duration": 565,
    "start_time": "2022-05-21T09:47:37.550Z"
   },
   {
    "duration": 189,
    "start_time": "2022-05-21T09:47:38.117Z"
   },
   {
    "duration": 19,
    "start_time": "2022-05-21T09:47:38.308Z"
   },
   {
    "duration": 20,
    "start_time": "2022-05-21T09:47:38.329Z"
   },
   {
    "duration": 1812,
    "start_time": "2022-05-21T09:47:38.355Z"
   },
   {
    "duration": 14,
    "start_time": "2022-05-21T09:47:40.168Z"
   },
   {
    "duration": 28,
    "start_time": "2022-05-21T09:47:40.184Z"
   },
   {
    "duration": 15,
    "start_time": "2022-05-21T09:47:40.214Z"
   },
   {
    "duration": 3187,
    "start_time": "2022-05-21T09:47:40.231Z"
   },
   {
    "duration": 54,
    "start_time": "2022-05-21T09:47:43.420Z"
   },
   {
    "duration": 6,
    "start_time": "2022-05-21T09:47:43.476Z"
   },
   {
    "duration": 19,
    "start_time": "2022-05-21T09:47:43.484Z"
   },
   {
    "duration": 22,
    "start_time": "2022-05-21T09:47:43.505Z"
   },
   {
    "duration": 202,
    "start_time": "2022-05-21T09:47:43.529Z"
   },
   {
    "duration": 6,
    "start_time": "2022-05-21T09:47:43.733Z"
   },
   {
    "duration": 149,
    "start_time": "2022-05-21T09:47:43.742Z"
   },
   {
    "duration": 50,
    "start_time": "2022-05-21T09:47:43.893Z"
   },
   {
    "duration": 204,
    "start_time": "2022-05-21T09:47:43.945Z"
   },
   {
    "duration": 551,
    "start_time": "2022-05-21T09:47:44.151Z"
   },
   {
    "duration": 188,
    "start_time": "2022-05-21T09:47:44.704Z"
   },
   {
    "duration": 320,
    "start_time": "2022-05-21T09:47:44.894Z"
   },
   {
    "duration": 94,
    "start_time": "2022-05-21T09:47:45.216Z"
   },
   {
    "duration": 14,
    "start_time": "2022-05-21T09:47:45.312Z"
   },
   {
    "duration": 411,
    "start_time": "2022-05-21T09:47:45.328Z"
   },
   {
    "duration": 15,
    "start_time": "2022-05-21T09:47:45.742Z"
   },
   {
    "duration": 14,
    "start_time": "2022-05-21T09:47:45.759Z"
   },
   {
    "duration": 18,
    "start_time": "2022-05-21T09:47:45.775Z"
   },
   {
    "duration": 509,
    "start_time": "2022-05-21T09:47:45.795Z"
   },
   {
    "duration": 28,
    "start_time": "2022-05-21T09:47:46.306Z"
   },
   {
    "duration": 632,
    "start_time": "2022-05-21T09:47:46.336Z"
   },
   {
    "duration": 172,
    "start_time": "2022-05-21T09:47:46.969Z"
   },
   {
    "duration": 181,
    "start_time": "2022-05-21T09:47:47.143Z"
   },
   {
    "duration": 112,
    "start_time": "2022-05-21T09:47:47.325Z"
   },
   {
    "duration": 162,
    "start_time": "2022-05-21T09:47:47.439Z"
   },
   {
    "duration": 85,
    "start_time": "2022-05-21T09:47:47.603Z"
   },
   {
    "duration": 162,
    "start_time": "2022-05-21T09:47:47.690Z"
   },
   {
    "duration": 624,
    "start_time": "2022-05-21T09:47:47.854Z"
   },
   {
    "duration": 496,
    "start_time": "2022-05-21T09:47:48.480Z"
   },
   {
    "duration": 88,
    "start_time": "2022-05-21T09:47:48.978Z"
   },
   {
    "duration": 144,
    "start_time": "2022-05-21T09:47:49.068Z"
   },
   {
    "duration": 477,
    "start_time": "2022-05-21T09:47:49.214Z"
   },
   {
    "duration": 7,
    "start_time": "2022-05-21T09:47:49.692Z"
   },
   {
    "duration": 10,
    "start_time": "2022-05-21T09:47:49.701Z"
   },
   {
    "duration": 9,
    "start_time": "2022-05-21T09:47:49.722Z"
   },
   {
    "duration": 3,
    "start_time": "2022-05-21T09:47:49.733Z"
   },
   {
    "duration": 184,
    "start_time": "2022-05-21T09:47:49.739Z"
   },
   {
    "duration": 4,
    "start_time": "2022-05-21T09:47:49.925Z"
   },
   {
    "duration": 175,
    "start_time": "2022-05-21T09:47:49.930Z"
   },
   {
    "duration": 37,
    "start_time": "2022-05-21T09:47:50.107Z"
   },
   {
    "duration": 49,
    "start_time": "2022-05-21T09:47:50.146Z"
   },
   {
    "duration": 6,
    "start_time": "2022-05-21T09:47:50.223Z"
   },
   {
    "duration": 12,
    "start_time": "2022-05-21T09:47:50.231Z"
   },
   {
    "duration": 7,
    "start_time": "2022-05-21T09:47:50.245Z"
   },
   {
    "duration": 10,
    "start_time": "2022-05-21T09:47:50.253Z"
   },
   {
    "duration": 172,
    "start_time": "2022-05-21T09:47:50.264Z"
   },
   {
    "duration": 551,
    "start_time": "2022-05-21T09:47:50.438Z"
   },
   {
    "duration": 41,
    "start_time": "2022-05-21T09:47:50.990Z"
   },
   {
    "duration": 10,
    "start_time": "2022-05-21T09:47:51.033Z"
   },
   {
    "duration": 8,
    "start_time": "2022-05-21T09:47:51.055Z"
   },
   {
    "duration": 13,
    "start_time": "2022-05-21T09:47:51.064Z"
   },
   {
    "duration": 184,
    "start_time": "2022-05-21T09:47:51.078Z"
   },
   {
    "duration": 24,
    "start_time": "2022-05-21T09:47:51.264Z"
   },
   {
    "duration": 10,
    "start_time": "2022-05-21T09:47:51.290Z"
   },
   {
    "duration": 159,
    "start_time": "2022-05-21T09:47:51.301Z"
   },
   {
    "duration": 14,
    "start_time": "2022-05-21T09:47:51.462Z"
   },
   {
    "duration": 14,
    "start_time": "2022-05-21T09:47:51.477Z"
   },
   {
    "duration": 38,
    "start_time": "2022-05-21T09:47:51.492Z"
   },
   {
    "duration": 9,
    "start_time": "2022-05-21T09:47:51.532Z"
   },
   {
    "duration": 30,
    "start_time": "2022-05-21T09:47:51.543Z"
   },
   {
    "duration": 165,
    "start_time": "2022-05-21T09:47:51.575Z"
   },
   {
    "duration": 20,
    "start_time": "2022-05-21T09:47:51.742Z"
   },
   {
    "duration": 163,
    "start_time": "2022-05-21T09:47:51.764Z"
   },
   {
    "duration": 235,
    "start_time": "2022-05-21T09:47:51.929Z"
   },
   {
    "duration": 8,
    "start_time": "2022-05-21T09:47:52.166Z"
   },
   {
    "duration": 19,
    "start_time": "2022-05-21T09:47:52.175Z"
   },
   {
    "duration": 170,
    "start_time": "2022-05-21T09:47:52.195Z"
   },
   {
    "duration": 39,
    "start_time": "2022-05-21T09:47:52.366Z"
   },
   {
    "duration": 48,
    "start_time": "2022-05-21T09:47:52.422Z"
   },
   {
    "duration": 14,
    "start_time": "2022-05-21T09:47:52.472Z"
   },
   {
    "duration": 253,
    "start_time": "2022-05-21T09:47:52.487Z"
   },
   {
    "duration": 784,
    "start_time": "2022-05-21T09:47:52.742Z"
   },
   {
    "duration": 289,
    "start_time": "2022-05-21T09:47:53.528Z"
   },
   {
    "duration": 412,
    "start_time": "2022-05-21T09:47:53.823Z"
   },
   {
    "duration": 262,
    "start_time": "2022-05-21T09:47:54.237Z"
   },
   {
    "duration": 21,
    "start_time": "2022-05-21T09:47:54.502Z"
   },
   {
    "duration": 160,
    "start_time": "2022-05-21T09:47:54.525Z"
   },
   {
    "duration": 17,
    "start_time": "2022-05-21T09:47:54.687Z"
   },
   {
    "duration": 23,
    "start_time": "2022-05-21T09:47:54.705Z"
   },
   {
    "duration": 4,
    "start_time": "2022-05-21T09:47:54.730Z"
   },
   {
    "duration": 38,
    "start_time": "2022-05-21T09:47:54.735Z"
   },
   {
    "duration": 62,
    "start_time": "2022-05-21T09:47:54.775Z"
   },
   {
    "duration": 312,
    "start_time": "2022-05-21T09:47:54.839Z"
   },
   {
    "duration": 20,
    "start_time": "2022-05-21T09:47:55.152Z"
   },
   {
    "duration": 6,
    "start_time": "2022-05-21T09:47:55.174Z"
   },
   {
    "duration": 329,
    "start_time": "2022-05-21T09:47:55.182Z"
   },
   {
    "duration": 304,
    "start_time": "2022-05-21T09:47:55.513Z"
   },
   {
    "duration": 35,
    "start_time": "2022-05-21T09:47:55.823Z"
   },
   {
    "duration": 398,
    "start_time": "2022-05-21T09:47:55.859Z"
   },
   {
    "duration": 243,
    "start_time": "2022-05-21T09:47:56.259Z"
   },
   {
    "duration": 36,
    "start_time": "2022-05-21T09:47:56.504Z"
   },
   {
    "duration": 248,
    "start_time": "2022-05-21T09:47:56.541Z"
   },
   {
    "duration": 6,
    "start_time": "2022-05-21T09:47:56.791Z"
   },
   {
    "duration": 264,
    "start_time": "2022-05-21T09:47:56.799Z"
   },
   {
    "duration": 343,
    "start_time": "2022-05-21T09:47:57.065Z"
   },
   {
    "duration": 427,
    "start_time": "2022-05-21T09:47:57.410Z"
   },
   {
    "duration": 254,
    "start_time": "2022-05-21T09:47:57.839Z"
   },
   {
    "duration": 445,
    "start_time": "2022-05-21T09:47:58.094Z"
   },
   {
    "duration": 673,
    "start_time": "2022-05-21T09:47:58.541Z"
   },
   {
    "duration": 151,
    "start_time": "2022-05-21T09:47:59.216Z"
   },
   {
    "duration": 7,
    "start_time": "2022-05-21T09:47:59.369Z"
   },
   {
    "duration": 151,
    "start_time": "2022-05-21T09:47:59.378Z"
   },
   {
    "duration": 158,
    "start_time": "2022-05-21T09:47:59.531Z"
   },
   {
    "duration": 171,
    "start_time": "2022-05-21T09:47:59.691Z"
   },
   {
    "duration": 36,
    "start_time": "2022-05-21T09:47:59.864Z"
   },
   {
    "duration": 954,
    "start_time": "2022-05-21T09:47:59.902Z"
   },
   {
    "duration": 694,
    "start_time": "2022-05-21T09:48:00.858Z"
   },
   {
    "duration": 5,
    "start_time": "2022-05-21T09:48:01.555Z"
   },
   {
    "duration": 10,
    "start_time": "2022-05-21T09:48:01.562Z"
   },
   {
    "duration": 455,
    "start_time": "2022-05-21T09:48:01.574Z"
   },
   {
    "duration": 298,
    "start_time": "2022-05-21T09:48:02.031Z"
   },
   {
    "duration": 144,
    "start_time": "2022-05-21T09:48:02.331Z"
   },
   {
    "duration": 332,
    "start_time": "2022-05-21T09:48:02.477Z"
   },
   {
    "duration": 320,
    "start_time": "2022-05-21T09:48:02.812Z"
   },
   {
    "duration": 747,
    "start_time": "2022-05-21T09:48:03.134Z"
   },
   {
    "duration": 58,
    "start_time": "2022-05-21T09:48:03.883Z"
   },
   {
    "duration": 269,
    "start_time": "2022-05-21T09:48:03.943Z"
   },
   {
    "duration": 279,
    "start_time": "2022-05-21T09:48:04.214Z"
   },
   {
    "duration": 282,
    "start_time": "2022-05-21T09:48:04.496Z"
   },
   {
    "duration": 47,
    "start_time": "2022-05-21T09:48:04.780Z"
   },
   {
    "duration": 26,
    "start_time": "2022-05-21T09:48:04.829Z"
   },
   {
    "duration": 400,
    "start_time": "2022-05-21T09:48:04.857Z"
   },
   {
    "duration": 33,
    "start_time": "2022-05-21T09:48:05.259Z"
   },
   {
    "duration": 30,
    "start_time": "2022-05-21T09:48:05.294Z"
   },
   {
    "duration": 10,
    "start_time": "2022-05-21T09:48:05.327Z"
   },
   {
    "duration": 21,
    "start_time": "2022-05-21T09:48:05.339Z"
   },
   {
    "duration": 614,
    "start_time": "2022-05-21T09:48:05.362Z"
   },
   {
    "duration": 485,
    "start_time": "2022-05-21T09:48:05.978Z"
   },
   {
    "duration": 452,
    "start_time": "2022-05-21T09:48:06.465Z"
   },
   {
    "duration": 316,
    "start_time": "2022-05-21T09:48:06.922Z"
   },
   {
    "duration": 1136,
    "start_time": "2022-05-21T09:48:07.241Z"
   },
   {
    "duration": 692,
    "start_time": "2022-05-21T09:48:08.379Z"
   },
   {
    "duration": 7,
    "start_time": "2022-05-21T09:48:09.074Z"
   },
   {
    "duration": 429,
    "start_time": "2022-05-21T09:48:09.083Z"
   },
   {
    "duration": 199,
    "start_time": "2022-05-21T09:48:09.514Z"
   },
   {
    "duration": 265,
    "start_time": "2022-05-21T09:48:09.716Z"
   },
   {
    "duration": 693,
    "start_time": "2022-05-21T09:48:09.983Z"
   },
   {
    "duration": 612,
    "start_time": "2022-05-21T09:48:10.678Z"
   },
   {
    "duration": 622,
    "start_time": "2022-05-21T09:48:11.292Z"
   },
   {
    "duration": 352,
    "start_time": "2022-05-21T09:48:11.916Z"
   },
   {
    "duration": 6,
    "start_time": "2022-05-21T09:48:12.269Z"
   },
   {
    "duration": 9,
    "start_time": "2022-05-21T09:48:12.277Z"
   },
   {
    "duration": 619,
    "start_time": "2022-05-21T09:48:12.288Z"
   },
   {
    "duration": 482,
    "start_time": "2022-05-21T09:48:12.909Z"
   },
   {
    "duration": 171,
    "start_time": "2022-05-21T09:56:51.676Z"
   },
   {
    "duration": 1454,
    "start_time": "2022-05-21T09:57:10.012Z"
   },
   {
    "duration": 190,
    "start_time": "2022-05-21T09:57:11.469Z"
   },
   {
    "duration": 131,
    "start_time": "2022-05-21T09:57:11.667Z"
   },
   {
    "duration": 130,
    "start_time": "2022-05-21T09:57:11.802Z"
   },
   {
    "duration": 109,
    "start_time": "2022-05-21T09:57:11.941Z"
   },
   {
    "duration": 25,
    "start_time": "2022-05-21T09:57:12.055Z"
   },
   {
    "duration": 8,
    "start_time": "2022-05-21T09:57:12.082Z"
   },
   {
    "duration": 49,
    "start_time": "2022-05-21T09:57:12.091Z"
   },
   {
    "duration": 14,
    "start_time": "2022-05-21T09:57:12.150Z"
   },
   {
    "duration": 3,
    "start_time": "2022-05-21T09:57:12.169Z"
   },
   {
    "duration": 583,
    "start_time": "2022-05-21T09:57:12.174Z"
   },
   {
    "duration": 42,
    "start_time": "2022-05-21T09:57:12.760Z"
   },
   {
    "duration": 90,
    "start_time": "2022-05-21T09:57:12.803Z"
   },
   {
    "duration": 3369,
    "start_time": "2022-05-21T09:57:12.895Z"
   },
   {
    "duration": 10,
    "start_time": "2022-05-21T09:57:16.266Z"
   },
   {
    "duration": 22,
    "start_time": "2022-05-21T09:57:16.278Z"
   },
   {
    "duration": 29,
    "start_time": "2022-05-21T09:57:16.302Z"
   },
   {
    "duration": 19,
    "start_time": "2022-05-21T09:57:16.341Z"
   },
   {
    "duration": 17,
    "start_time": "2022-05-21T09:57:16.363Z"
   },
   {
    "duration": 385,
    "start_time": "2022-05-21T09:57:16.382Z"
   },
   {
    "duration": 18,
    "start_time": "2022-05-21T09:57:16.769Z"
   },
   {
    "duration": 14,
    "start_time": "2022-05-21T09:57:16.789Z"
   },
   {
    "duration": 501,
    "start_time": "2022-05-21T09:57:16.804Z"
   },
   {
    "duration": 606,
    "start_time": "2022-05-21T09:57:17.307Z"
   },
   {
    "duration": 238,
    "start_time": "2022-05-21T09:57:17.915Z"
   },
   {
    "duration": 9,
    "start_time": "2022-05-21T09:57:18.154Z"
   },
   {
    "duration": 23,
    "start_time": "2022-05-21T09:57:18.165Z"
   },
   {
    "duration": 1500,
    "start_time": "2022-05-21T09:57:18.192Z"
   },
   {
    "duration": 21,
    "start_time": "2022-05-21T09:57:19.696Z"
   },
   {
    "duration": 41,
    "start_time": "2022-05-21T09:57:19.720Z"
   },
   {
    "duration": 11,
    "start_time": "2022-05-21T09:57:19.763Z"
   },
   {
    "duration": 2696,
    "start_time": "2022-05-21T09:57:19.776Z"
   },
   {
    "duration": 62,
    "start_time": "2022-05-21T09:57:22.475Z"
   },
   {
    "duration": 6,
    "start_time": "2022-05-21T09:57:22.546Z"
   },
   {
    "duration": 29,
    "start_time": "2022-05-21T09:57:22.554Z"
   },
   {
    "duration": 13,
    "start_time": "2022-05-21T09:57:22.586Z"
   },
   {
    "duration": 245,
    "start_time": "2022-05-21T09:57:22.601Z"
   },
   {
    "duration": 9,
    "start_time": "2022-05-21T09:57:22.848Z"
   },
   {
    "duration": 157,
    "start_time": "2022-05-21T09:57:22.860Z"
   },
   {
    "duration": 48,
    "start_time": "2022-05-21T09:57:23.019Z"
   },
   {
    "duration": 200,
    "start_time": "2022-05-21T09:57:23.069Z"
   },
   {
    "duration": 503,
    "start_time": "2022-05-21T09:57:23.271Z"
   },
   {
    "duration": 204,
    "start_time": "2022-05-21T09:57:23.776Z"
   },
   {
    "duration": 346,
    "start_time": "2022-05-21T09:57:23.982Z"
   },
   {
    "duration": 149,
    "start_time": "2022-05-21T09:57:24.332Z"
   },
   {
    "duration": 7,
    "start_time": "2022-05-21T09:57:24.483Z"
   },
   {
    "duration": 409,
    "start_time": "2022-05-21T09:57:24.491Z"
   },
   {
    "duration": 31,
    "start_time": "2022-05-21T09:57:24.903Z"
   },
   {
    "duration": 11,
    "start_time": "2022-05-21T09:57:24.935Z"
   },
   {
    "duration": 16,
    "start_time": "2022-05-21T09:57:24.948Z"
   },
   {
    "duration": 467,
    "start_time": "2022-05-21T09:57:24.966Z"
   },
   {
    "duration": 26,
    "start_time": "2022-05-21T09:57:25.439Z"
   },
   {
    "duration": 613,
    "start_time": "2022-05-21T09:57:25.467Z"
   },
   {
    "duration": 170,
    "start_time": "2022-05-21T09:57:26.083Z"
   },
   {
    "duration": 160,
    "start_time": "2022-05-21T09:57:26.255Z"
   },
   {
    "duration": 118,
    "start_time": "2022-05-21T09:57:26.416Z"
   },
   {
    "duration": 188,
    "start_time": "2022-05-21T09:57:26.544Z"
   },
   {
    "duration": 73,
    "start_time": "2022-05-21T09:57:26.738Z"
   },
   {
    "duration": 155,
    "start_time": "2022-05-21T09:57:26.814Z"
   },
   {
    "duration": 633,
    "start_time": "2022-05-21T09:57:26.971Z"
   },
   {
    "duration": 491,
    "start_time": "2022-05-21T09:57:27.606Z"
   },
   {
    "duration": 84,
    "start_time": "2022-05-21T09:57:28.099Z"
   },
   {
    "duration": 153,
    "start_time": "2022-05-21T09:57:28.185Z"
   },
   {
    "duration": 501,
    "start_time": "2022-05-21T09:57:28.341Z"
   },
   {
    "duration": 6,
    "start_time": "2022-05-21T09:57:28.844Z"
   },
   {
    "duration": 8,
    "start_time": "2022-05-21T09:57:28.851Z"
   },
   {
    "duration": 12,
    "start_time": "2022-05-21T09:57:28.860Z"
   },
   {
    "duration": 3,
    "start_time": "2022-05-21T09:57:28.873Z"
   },
   {
    "duration": 213,
    "start_time": "2022-05-21T09:57:28.878Z"
   },
   {
    "duration": 4,
    "start_time": "2022-05-21T09:57:29.093Z"
   },
   {
    "duration": 177,
    "start_time": "2022-05-21T09:57:29.099Z"
   },
   {
    "duration": 55,
    "start_time": "2022-05-21T09:57:29.278Z"
   },
   {
    "duration": 51,
    "start_time": "2022-05-21T09:57:29.338Z"
   },
   {
    "duration": 5,
    "start_time": "2022-05-21T09:57:29.391Z"
   },
   {
    "duration": 42,
    "start_time": "2022-05-21T09:57:29.398Z"
   },
   {
    "duration": 7,
    "start_time": "2022-05-21T09:57:29.441Z"
   },
   {
    "duration": 10,
    "start_time": "2022-05-21T09:57:29.449Z"
   },
   {
    "duration": 183,
    "start_time": "2022-05-21T09:57:29.460Z"
   },
   {
    "duration": 632,
    "start_time": "2022-05-21T09:57:29.644Z"
   },
   {
    "duration": 31,
    "start_time": "2022-05-21T09:57:30.278Z"
   },
   {
    "duration": 27,
    "start_time": "2022-05-21T09:57:30.310Z"
   },
   {
    "duration": 23,
    "start_time": "2022-05-21T09:57:30.347Z"
   },
   {
    "duration": 22,
    "start_time": "2022-05-21T09:57:30.371Z"
   },
   {
    "duration": 203,
    "start_time": "2022-05-21T09:57:30.395Z"
   },
   {
    "duration": 28,
    "start_time": "2022-05-21T09:57:30.600Z"
   },
   {
    "duration": 24,
    "start_time": "2022-05-21T09:57:30.629Z"
   },
   {
    "duration": 159,
    "start_time": "2022-05-21T09:57:30.654Z"
   },
   {
    "duration": 25,
    "start_time": "2022-05-21T09:57:30.815Z"
   },
   {
    "duration": 12,
    "start_time": "2022-05-21T09:57:30.842Z"
   },
   {
    "duration": 19,
    "start_time": "2022-05-21T09:57:30.856Z"
   },
   {
    "duration": 10,
    "start_time": "2022-05-21T09:57:30.876Z"
   },
   {
    "duration": 6,
    "start_time": "2022-05-21T09:57:30.887Z"
   },
   {
    "duration": 201,
    "start_time": "2022-05-21T09:57:30.894Z"
   },
   {
    "duration": 41,
    "start_time": "2022-05-21T09:57:31.098Z"
   },
   {
    "duration": 137,
    "start_time": "2022-05-21T09:57:31.140Z"
   },
   {
    "duration": 256,
    "start_time": "2022-05-21T09:57:31.279Z"
   },
   {
    "duration": 9,
    "start_time": "2022-05-21T09:57:31.537Z"
   },
   {
    "duration": 19,
    "start_time": "2022-05-21T09:57:31.547Z"
   },
   {
    "duration": 182,
    "start_time": "2022-05-21T09:57:31.567Z"
   },
   {
    "duration": 39,
    "start_time": "2022-05-21T09:57:31.750Z"
   },
   {
    "duration": 60,
    "start_time": "2022-05-21T09:57:31.791Z"
   },
   {
    "duration": 12,
    "start_time": "2022-05-21T09:57:31.852Z"
   },
   {
    "duration": 265,
    "start_time": "2022-05-21T09:57:31.868Z"
   },
   {
    "duration": 945,
    "start_time": "2022-05-21T09:57:32.137Z"
   },
   {
    "duration": 256,
    "start_time": "2022-05-21T09:57:33.084Z"
   },
   {
    "duration": 425,
    "start_time": "2022-05-21T09:57:33.342Z"
   },
   {
    "duration": 265,
    "start_time": "2022-05-21T09:57:33.769Z"
   },
   {
    "duration": 16,
    "start_time": "2022-05-21T09:57:34.035Z"
   },
   {
    "duration": 159,
    "start_time": "2022-05-21T09:57:34.053Z"
   },
   {
    "duration": 25,
    "start_time": "2022-05-21T09:57:34.214Z"
   },
   {
    "duration": 13,
    "start_time": "2022-05-21T09:57:34.243Z"
   },
   {
    "duration": 6,
    "start_time": "2022-05-21T09:57:34.258Z"
   },
   {
    "duration": 45,
    "start_time": "2022-05-21T09:57:34.266Z"
   },
   {
    "duration": 39,
    "start_time": "2022-05-21T09:57:34.324Z"
   },
   {
    "duration": 348,
    "start_time": "2022-05-21T09:57:34.364Z"
   },
   {
    "duration": 27,
    "start_time": "2022-05-21T09:57:34.714Z"
   },
   {
    "duration": 19,
    "start_time": "2022-05-21T09:57:34.743Z"
   },
   {
    "duration": 320,
    "start_time": "2022-05-21T09:57:34.764Z"
   },
   {
    "duration": 314,
    "start_time": "2022-05-21T09:57:35.086Z"
   },
   {
    "duration": 53,
    "start_time": "2022-05-21T09:57:35.402Z"
   },
   {
    "duration": 409,
    "start_time": "2022-05-21T09:57:35.457Z"
   },
   {
    "duration": 273,
    "start_time": "2022-05-21T09:57:35.868Z"
   },
   {
    "duration": 27,
    "start_time": "2022-05-21T09:57:36.143Z"
   },
   {
    "duration": 246,
    "start_time": "2022-05-21T09:57:36.172Z"
   },
   {
    "duration": 10,
    "start_time": "2022-05-21T09:57:36.420Z"
   },
   {
    "duration": 240,
    "start_time": "2022-05-21T09:57:36.431Z"
   },
   {
    "duration": 322,
    "start_time": "2022-05-21T09:57:36.673Z"
   },
   {
    "duration": 445,
    "start_time": "2022-05-21T09:57:36.997Z"
   },
   {
    "duration": 245,
    "start_time": "2022-05-21T09:57:37.444Z"
   },
   {
    "duration": 473,
    "start_time": "2022-05-21T09:57:37.691Z"
   },
   {
    "duration": 600,
    "start_time": "2022-05-21T09:57:38.166Z"
   },
   {
    "duration": 141,
    "start_time": "2022-05-21T09:57:38.769Z"
   },
   {
    "duration": 18,
    "start_time": "2022-05-21T09:57:38.911Z"
   },
   {
    "duration": 163,
    "start_time": "2022-05-21T09:57:38.934Z"
   },
   {
    "duration": 181,
    "start_time": "2022-05-21T09:57:39.099Z"
   },
   {
    "duration": 184,
    "start_time": "2022-05-21T09:57:39.284Z"
   },
   {
    "duration": 39,
    "start_time": "2022-05-21T09:57:39.470Z"
   },
   {
    "duration": 1055,
    "start_time": "2022-05-21T09:57:39.525Z"
   },
   {
    "duration": 1672,
    "start_time": "2022-05-21T09:57:40.582Z"
   },
   {
    "duration": 6,
    "start_time": "2022-05-21T09:57:42.257Z"
   },
   {
    "duration": 59,
    "start_time": "2022-05-21T09:57:42.265Z"
   },
   {
    "duration": 839,
    "start_time": "2022-05-21T09:57:42.326Z"
   },
   {
    "duration": 665,
    "start_time": "2022-05-21T09:57:43.167Z"
   },
   {
    "duration": 318,
    "start_time": "2022-05-21T09:57:43.837Z"
   },
   {
    "duration": 355,
    "start_time": "2022-05-21T09:57:44.157Z"
   },
   {
    "duration": 301,
    "start_time": "2022-05-21T09:57:44.514Z"
   },
   {
    "duration": 825,
    "start_time": "2022-05-21T09:57:44.816Z"
   },
   {
    "duration": 50,
    "start_time": "2022-05-21T09:57:45.643Z"
   },
   {
    "duration": 278,
    "start_time": "2022-05-21T09:57:45.695Z"
   },
   {
    "duration": 272,
    "start_time": "2022-05-21T09:57:45.974Z"
   },
   {
    "duration": 240,
    "start_time": "2022-05-21T09:57:46.249Z"
   },
   {
    "duration": 41,
    "start_time": "2022-05-21T09:57:46.491Z"
   },
   {
    "duration": 35,
    "start_time": "2022-05-21T09:57:46.534Z"
   },
   {
    "duration": 374,
    "start_time": "2022-05-21T09:57:46.570Z"
   },
   {
    "duration": 27,
    "start_time": "2022-05-21T09:57:46.946Z"
   },
   {
    "duration": 12,
    "start_time": "2022-05-21T09:57:46.975Z"
   },
   {
    "duration": 36,
    "start_time": "2022-05-21T09:57:46.989Z"
   },
   {
    "duration": 13,
    "start_time": "2022-05-21T09:57:47.028Z"
   },
   {
    "duration": 610,
    "start_time": "2022-05-21T09:57:47.043Z"
   },
   {
    "duration": 473,
    "start_time": "2022-05-21T09:57:47.655Z"
   },
   {
    "duration": 419,
    "start_time": "2022-05-21T09:57:48.131Z"
   },
   {
    "duration": 239,
    "start_time": "2022-05-21T09:57:48.552Z"
   },
   {
    "duration": 978,
    "start_time": "2022-05-21T09:57:48.792Z"
   },
   {
    "duration": 666,
    "start_time": "2022-05-21T09:57:49.772Z"
   },
   {
    "duration": 5,
    "start_time": "2022-05-21T09:57:50.441Z"
   },
   {
    "duration": 372,
    "start_time": "2022-05-21T09:57:50.448Z"
   },
   {
    "duration": 169,
    "start_time": "2022-05-21T09:57:50.822Z"
   },
   {
    "duration": 278,
    "start_time": "2022-05-21T09:57:50.993Z"
   },
   {
    "duration": 796,
    "start_time": "2022-05-21T09:57:51.273Z"
   },
   {
    "duration": 666,
    "start_time": "2022-05-21T09:57:52.071Z"
   },
   {
    "duration": 726,
    "start_time": "2022-05-21T09:57:52.750Z"
   },
   {
    "duration": 397,
    "start_time": "2022-05-21T09:57:53.478Z"
   },
   {
    "duration": 6,
    "start_time": "2022-05-21T09:57:53.877Z"
   },
   {
    "duration": 14,
    "start_time": "2022-05-21T09:57:53.885Z"
   },
   {
    "duration": 613,
    "start_time": "2022-05-21T09:57:53.901Z"
   },
   {
    "duration": 558,
    "start_time": "2022-05-21T09:57:54.516Z"
   }
  ],
  "kernelspec": {
   "display_name": "Python 3 (ipykernel)",
   "language": "python",
   "name": "python3"
  },
  "language_info": {
   "codemirror_mode": {
    "name": "ipython",
    "version": 3
   },
   "file_extension": ".py",
   "mimetype": "text/x-python",
   "name": "python",
   "nbconvert_exporter": "python",
   "pygments_lexer": "ipython3",
   "version": "3.9.7"
  },
  "latex_envs": {
   "LaTeX_envs_menu_present": true,
   "autoclose": false,
   "autocomplete": true,
   "bibliofile": "biblio.bib",
   "cite_by": "apalike",
   "current_citInitial": 1,
   "eqLabelWithNumbers": true,
   "eqNumInitial": 1,
   "hotkeys": {
    "equation": "Ctrl-E",
    "itemize": "Ctrl-I"
   },
   "labels_anchors": false,
   "latex_user_defs": false,
   "report_style_numbering": false,
   "user_envs_cfg": false
  },
  "toc": {
   "base_numbering": 1,
   "nav_menu": {},
   "number_sections": true,
   "sideBar": true,
   "skip_h1_title": true,
   "title_cell": "Содержание",
   "title_sidebar": "Contents",
   "toc_cell": true,
   "toc_position": {
    "height": "calc(100% - 180px)",
    "left": "10px",
    "top": "150px",
    "width": "299px"
   },
   "toc_section_display": true,
   "toc_window_display": true
  }
 },
 "nbformat": 4,
 "nbformat_minor": 4
}
