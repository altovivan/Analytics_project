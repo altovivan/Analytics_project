{
 "cells": [
  {
   "cell_type": "markdown",
   "id": "01f248db",
   "metadata": {},
   "source": [
    "# Проверка гипотез по увеличению выручки интернет-магазина\n"
   ]
  },
  {
   "cell_type": "markdown",
   "id": "90a11c46",
   "metadata": {},
   "source": [
    "В нашем распоряжении данные по 9 гипотезам, которые были разработаны совместно с отделом продаж крупного интернет-магазина и направлены на увеличение выручки, которую приносит магазин. А также два файла с результатами проведенного A/B теста. \n",
    "\n",
    "**ЦЕЛИ ИССЛЕДОВАНИЯ**<br>\n",
    "1. Приоритизация указанных 9 гипотез.\n",
    "2. Анализ результатов A/B теста и принятие решения остановить (приняв различие исследуемых групп или нет) или продолжить тест.\n",
    "\n",
    "**Практическая значимость**<br>\n",
    "Правильная приоритизация гипотез поможет сосредоточиться на проверке действительно значимых, весомых изменений и нововведений таких как открытие новых каналов привлечения, изменения в логистике, дизайне и навигации по сайту. В свою очередь, анализ результатов A/B теста подскажет в каком направлении и как развивать продукт, какие изменения приведут к росту измеряемых метрик (конверсии и среднего чека) и соответственно к увеличению прибыли.\n",
    "\n",
    "**Ход исследования**<br>\n",
    "Исследование будет состоять из двух частей:\n",
    "Часть 1. **Приоритизация гипотез.** На этом этапе отсортируем гипотезы по убыванию приоритета используя фреймворк ICE. Затем применим фреймворк RICE и снова отсортируем гипотезы по убыванию приоритета. Рассмотрим различия (если есть) в порядке следования гипотез в этих двух сортировках. Опишем причины (различий или сходства) и сделаем соответствующие выводы.\n",
    "\n",
    "Часть 2. **Анализ А/В теста.** Мы провели А/В тест, мы располагаем его результатами. <BR>\n",
    "Выполним анализ результатов, произведем соответствующие расчеты, построим графики и сделаем выводы по след пунктам:\n",
    "1. Кумулятивная выручка по группам.\n",
    "2. Кумулятивный средний чек по группам.\n",
    "3. Относительное изменение кумулятивного среднего чека группы B к группе A.\n",
    "4. Кумулятивная конверсия по группам. \n",
    "5. Относительное изменение кумулятивной конверсии группы B к группе A.\n",
    "6. Количество заказов по пользователям, с расчетом 95-ого и 99-ого перцентилей количества заказов на пользователя. Выберем границу для определения аномальных пользователей.\n",
    "7. Стоимость заказов, с расчетом 95-ого и 99-ого перцентилей стоимости заказов. Выберем границу для определения аномальных заказов.\n",
    "\n",
    "Проверим гипотезы о существовании статистической значимости:\n",
    "1. Различий в конверсии между группами по «сырым» данным.\n",
    "2. Различий в среднем чеке заказа между группами по «сырым» данным.\n",
    "3. Различий в конверсии между группами по «очищенным» данным.\n",
    "4. Различий в среднем чеке заказа между группами по «очищенным» данным. \n",
    "\n",
    "Примем решение остановить тест, зафиксировать победу одной из групп или зафиксировать отсутствие различий между группами и сделаем соответствующие выводы. Или, если таковы будут результаты анализа, продолжим тест."
   ]
  },
  {
   "cell_type": "markdown",
   "id": "0edc299f",
   "metadata": {},
   "source": [
    "## 1. Приоритизация гипотез"
   ]
  },
  {
   "cell_type": "markdown",
   "id": "987616e6",
   "metadata": {},
   "source": [
    "Используем фреймфорки ICE и RICE для приоритизации гипотез"
   ]
  },
  {
   "cell_type": "code",
   "execution_count": 1,
   "id": "5fc3e05e",
   "metadata": {},
   "outputs": [],
   "source": [
    "import pandas as pd\n",
    "import scipy\n",
    "import scipy.stats as stats\n",
    "import datetime as dt\n",
    "import numpy as np\n",
    "import matplotlib.pyplot as plt"
   ]
  },
  {
   "cell_type": "code",
   "execution_count": 2,
   "id": "a1963f12",
   "metadata": {
    "scrolled": true
   },
   "outputs": [
    {
     "data": {
      "text/html": [
       "<div>\n",
       "<style scoped>\n",
       "    .dataframe tbody tr th:only-of-type {\n",
       "        vertical-align: middle;\n",
       "    }\n",
       "\n",
       "    .dataframe tbody tr th {\n",
       "        vertical-align: top;\n",
       "    }\n",
       "\n",
       "    .dataframe thead th {\n",
       "        text-align: right;\n",
       "    }\n",
       "</style>\n",
       "<table border=\"1\" class=\"dataframe\">\n",
       "  <thead>\n",
       "    <tr style=\"text-align: right;\">\n",
       "      <th></th>\n",
       "      <th>Hypothesis</th>\n",
       "      <th>Reach</th>\n",
       "      <th>Impact</th>\n",
       "      <th>Confidence</th>\n",
       "      <th>Efforts</th>\n",
       "    </tr>\n",
       "  </thead>\n",
       "  <tbody>\n",
       "    <tr>\n",
       "      <th>0</th>\n",
       "      <td>Добавить два новых канала привлечения трафика, что позволит привлекать на 30% больше пользователей</td>\n",
       "      <td>3</td>\n",
       "      <td>10</td>\n",
       "      <td>8</td>\n",
       "      <td>6</td>\n",
       "    </tr>\n",
       "    <tr>\n",
       "      <th>1</th>\n",
       "      <td>Запустить собственную службу доставки, что сократит срок доставки заказов</td>\n",
       "      <td>2</td>\n",
       "      <td>5</td>\n",
       "      <td>4</td>\n",
       "      <td>10</td>\n",
       "    </tr>\n",
       "    <tr>\n",
       "      <th>2</th>\n",
       "      <td>Добавить блоки рекомендаций товаров на сайт интернет магазина, чтобы повысить конверсию и средний чек заказа</td>\n",
       "      <td>8</td>\n",
       "      <td>3</td>\n",
       "      <td>7</td>\n",
       "      <td>3</td>\n",
       "    </tr>\n",
       "    <tr>\n",
       "      <th>3</th>\n",
       "      <td>Изменить структура категорий, что увеличит конверсию, т.к. пользователи быстрее найдут нужный товар</td>\n",
       "      <td>8</td>\n",
       "      <td>3</td>\n",
       "      <td>3</td>\n",
       "      <td>8</td>\n",
       "    </tr>\n",
       "    <tr>\n",
       "      <th>4</th>\n",
       "      <td>Изменить цвет фона главной страницы, чтобы увеличить вовлеченность пользователей</td>\n",
       "      <td>3</td>\n",
       "      <td>1</td>\n",
       "      <td>1</td>\n",
       "      <td>1</td>\n",
       "    </tr>\n",
       "    <tr>\n",
       "      <th>5</th>\n",
       "      <td>Добавить страницу отзывов клиентов о магазине, что позволит увеличить количество заказов</td>\n",
       "      <td>3</td>\n",
       "      <td>2</td>\n",
       "      <td>2</td>\n",
       "      <td>3</td>\n",
       "    </tr>\n",
       "    <tr>\n",
       "      <th>6</th>\n",
       "      <td>Показать на главной странице баннеры с актуальными акциями и распродажами, чтобы увеличить конверсию</td>\n",
       "      <td>5</td>\n",
       "      <td>3</td>\n",
       "      <td>8</td>\n",
       "      <td>3</td>\n",
       "    </tr>\n",
       "    <tr>\n",
       "      <th>7</th>\n",
       "      <td>Добавить форму подписки на все основные страницы, чтобы собрать базу клиентов для email-рассылок</td>\n",
       "      <td>10</td>\n",
       "      <td>7</td>\n",
       "      <td>8</td>\n",
       "      <td>5</td>\n",
       "    </tr>\n",
       "    <tr>\n",
       "      <th>8</th>\n",
       "      <td>Запустить акцию, дающую скидку на товар в день рождения</td>\n",
       "      <td>1</td>\n",
       "      <td>9</td>\n",
       "      <td>9</td>\n",
       "      <td>5</td>\n",
       "    </tr>\n",
       "  </tbody>\n",
       "</table>\n",
       "</div>"
      ],
      "text/plain": [
       "                                                                                                     Hypothesis  \\\n",
       "0  Добавить два новых канала привлечения трафика, что позволит привлекать на 30% больше пользователей             \n",
       "1  Запустить собственную службу доставки, что сократит срок доставки заказов                                      \n",
       "2  Добавить блоки рекомендаций товаров на сайт интернет магазина, чтобы повысить конверсию и средний чек заказа   \n",
       "3  Изменить структура категорий, что увеличит конверсию, т.к. пользователи быстрее найдут нужный товар            \n",
       "4  Изменить цвет фона главной страницы, чтобы увеличить вовлеченность пользователей                               \n",
       "5  Добавить страницу отзывов клиентов о магазине, что позволит увеличить количество заказов                       \n",
       "6  Показать на главной странице баннеры с актуальными акциями и распродажами, чтобы увеличить конверсию           \n",
       "7  Добавить форму подписки на все основные страницы, чтобы собрать базу клиентов для email-рассылок               \n",
       "8  Запустить акцию, дающую скидку на товар в день рождения                                                        \n",
       "\n",
       "   Reach  Impact  Confidence  Efforts  \n",
       "0  3      10      8           6        \n",
       "1  2      5       4           10       \n",
       "2  8      3       7           3        \n",
       "3  8      3       3           8        \n",
       "4  3      1       1           1        \n",
       "5  3      2       2           3        \n",
       "6  5      3       8           3        \n",
       "7  10     7       8           5        \n",
       "8  1      9       9           5        "
      ]
     },
     "metadata": {},
     "output_type": "display_data"
    }
   ],
   "source": [
    "try:\n",
    "    hypotes = pd.read_csv('hypothesis.csv')\n",
    "except:\n",
    "    hypotes = pd.read_csv('/datasets/hypothesis.csv')\n",
    "\n",
    "# ознакомимся с датасетом hypotes\n",
    "pd.options.display.max_colwidth = 1\n",
    "display(hypotes)\n"
   ]
  },
  {
   "cell_type": "markdown",
   "id": "b171292e",
   "metadata": {},
   "source": [
    "Согласно документации к данным:\n",
    "* `Hypothesis` — краткое описание гипотезы;\n",
    "* `Reach` — охват пользователей по 10-балльной шкале;\n",
    "* `Impact` — влияние на пользователей по 10-балльной шкале;\n",
    "* `Confidence` — уверенность в гипотезе по 10-балльной шкале;\n",
    "* `Efforts` — затраты ресурсов на проверку гипотезы по 10-балльной шкале. Чем больше значение `Efforts`, тем дороже проверка гипотезы."
   ]
  },
  {
   "cell_type": "code",
   "execution_count": 3,
   "id": "a0cca943",
   "metadata": {},
   "outputs": [
    {
     "data": {
      "text/plain": [
       "['Добавить два новых канала привлечения трафика, что позволит привлекать на 30% больше пользователей',\n",
       " 'Запустить собственную службу доставки, что сократит срок доставки заказов',\n",
       " 'Добавить блоки рекомендаций товаров на сайт интернет магазина, чтобы повысить конверсию и средний чек заказа',\n",
       " 'Изменить структура категорий, что увеличит конверсию, т.к. пользователи быстрее найдут нужный товар',\n",
       " 'Изменить цвет фона главной страницы, чтобы увеличить вовлеченность пользователей',\n",
       " 'Добавить страницу отзывов клиентов о магазине, что позволит увеличить количество заказов',\n",
       " 'Показать на главной странице баннеры с актуальными акциями и распродажами, чтобы увеличить конверсию',\n",
       " 'Добавить форму подписки на все основные страницы, чтобы собрать базу клиентов для email-рассылок',\n",
       " 'Запустить акцию, дающую скидку на товар в день рождения']"
      ]
     },
     "execution_count": 3,
     "metadata": {},
     "output_type": "execute_result"
    }
   ],
   "source": [
    "# выведем отдельно названия гипотез полностью\n",
    "hypotes['Hypothesis'].tolist()"
   ]
  },
  {
   "cell_type": "markdown",
   "id": "e0bb06e2",
   "metadata": {},
   "source": [
    "Отметим, что среди 9 гипотез есть три (2, 3 и 6), в которых конкретно сформулировано \"улучшение\" (блоки рекомендации товара, структура категорий, баннер с акциями и распродажами на главной странице) влияющее на конверсию и средний чек заказа. В 0, 4 и 5  гипотезах \"улучшения\" направленные на увеличение количества привлеченных пользователей, уровня их вовлеченности и количества заказов. В гипотезах 1, 7 и 8 не сформулированы в явном виде метрики, которые хотят улучшить за счет указанного нововведения (собственная доставка, форма подписки, акция на день рождения, в утвержениях 7 и 8 есть условие, указано улучшение, но нет заключения, следовательно не понятно, какую метрику надо исследовать, чтобы принять или отвергнуть гипотезу). Однако гипотезе 1 хотя бы говорится о предполагаемом сокращении времени доставки."
   ]
  },
  {
   "cell_type": "code",
   "execution_count": 4,
   "id": "b7c92924",
   "metadata": {},
   "outputs": [
    {
     "data": {
      "text/plain": [
       "Index(['hypothesis', 'reach', 'impact', 'confidence', 'efforts'], dtype='object')"
      ]
     },
     "execution_count": 4,
     "metadata": {},
     "output_type": "execute_result"
    }
   ],
   "source": [
    "# лоурезируем названия столбцов для удобства\n",
    "hypotes.columns = hypotes.columns.str.lower()\n",
    "hypotes.columns"
   ]
  },
  {
   "cell_type": "markdown",
   "id": "eecfad8c",
   "metadata": {},
   "source": [
    "Применим фреймворк ICE к датасету `hypotes`, добавим соответствующий столбец `ICE` к нему и визуализируем результаты"
   ]
  },
  {
   "cell_type": "code",
   "execution_count": 5,
   "id": "7b87e2ef",
   "metadata": {},
   "outputs": [
    {
     "data": {
      "text/html": [
       "<div>\n",
       "<style scoped>\n",
       "    .dataframe tbody tr th:only-of-type {\n",
       "        vertical-align: middle;\n",
       "    }\n",
       "\n",
       "    .dataframe tbody tr th {\n",
       "        vertical-align: top;\n",
       "    }\n",
       "\n",
       "    .dataframe thead th {\n",
       "        text-align: right;\n",
       "    }\n",
       "</style>\n",
       "<table border=\"1\" class=\"dataframe\">\n",
       "  <thead>\n",
       "    <tr style=\"text-align: right;\">\n",
       "      <th></th>\n",
       "      <th>hypothesis</th>\n",
       "      <th>ICE</th>\n",
       "    </tr>\n",
       "  </thead>\n",
       "  <tbody>\n",
       "    <tr>\n",
       "      <th>8</th>\n",
       "      <td>Запустить акцию, дающую скидку на товар в день рождения</td>\n",
       "      <td>16.200000</td>\n",
       "    </tr>\n",
       "    <tr>\n",
       "      <th>0</th>\n",
       "      <td>Добавить два новых канала привлечения трафика, что позволит привлекать на 30% больше пользователей</td>\n",
       "      <td>13.333333</td>\n",
       "    </tr>\n",
       "    <tr>\n",
       "      <th>7</th>\n",
       "      <td>Добавить форму подписки на все основные страницы, чтобы собрать базу клиентов для email-рассылок</td>\n",
       "      <td>11.200000</td>\n",
       "    </tr>\n",
       "    <tr>\n",
       "      <th>6</th>\n",
       "      <td>Показать на главной странице баннеры с актуальными акциями и распродажами, чтобы увеличить конверсию</td>\n",
       "      <td>8.000000</td>\n",
       "    </tr>\n",
       "    <tr>\n",
       "      <th>2</th>\n",
       "      <td>Добавить блоки рекомендаций товаров на сайт интернет магазина, чтобы повысить конверсию и средний чек заказа</td>\n",
       "      <td>7.000000</td>\n",
       "    </tr>\n",
       "    <tr>\n",
       "      <th>1</th>\n",
       "      <td>Запустить собственную службу доставки, что сократит срок доставки заказов</td>\n",
       "      <td>2.000000</td>\n",
       "    </tr>\n",
       "    <tr>\n",
       "      <th>5</th>\n",
       "      <td>Добавить страницу отзывов клиентов о магазине, что позволит увеличить количество заказов</td>\n",
       "      <td>1.333333</td>\n",
       "    </tr>\n",
       "    <tr>\n",
       "      <th>3</th>\n",
       "      <td>Изменить структура категорий, что увеличит конверсию, т.к. пользователи быстрее найдут нужный товар</td>\n",
       "      <td>1.125000</td>\n",
       "    </tr>\n",
       "    <tr>\n",
       "      <th>4</th>\n",
       "      <td>Изменить цвет фона главной страницы, чтобы увеличить вовлеченность пользователей</td>\n",
       "      <td>1.000000</td>\n",
       "    </tr>\n",
       "  </tbody>\n",
       "</table>\n",
       "</div>"
      ],
      "text/plain": [
       "                                                                                                     hypothesis  \\\n",
       "8  Запустить акцию, дающую скидку на товар в день рождения                                                        \n",
       "0  Добавить два новых канала привлечения трафика, что позволит привлекать на 30% больше пользователей             \n",
       "7  Добавить форму подписки на все основные страницы, чтобы собрать базу клиентов для email-рассылок               \n",
       "6  Показать на главной странице баннеры с актуальными акциями и распродажами, чтобы увеличить конверсию           \n",
       "2  Добавить блоки рекомендаций товаров на сайт интернет магазина, чтобы повысить конверсию и средний чек заказа   \n",
       "1  Запустить собственную службу доставки, что сократит срок доставки заказов                                      \n",
       "5  Добавить страницу отзывов клиентов о магазине, что позволит увеличить количество заказов                       \n",
       "3  Изменить структура категорий, что увеличит конверсию, т.к. пользователи быстрее найдут нужный товар            \n",
       "4  Изменить цвет фона главной страницы, чтобы увеличить вовлеченность пользователей                               \n",
       "\n",
       "         ICE  \n",
       "8  16.200000  \n",
       "0  13.333333  \n",
       "7  11.200000  \n",
       "6  8.000000   \n",
       "2  7.000000   \n",
       "1  2.000000   \n",
       "5  1.333333   \n",
       "3  1.125000   \n",
       "4  1.000000   "
      ]
     },
     "metadata": {},
     "output_type": "display_data"
    },
    {
     "data": {
      "image/png": "[encoded data removed]",
      "text/plain": [
       "<Figure size 720x216 with 1 Axes>"
      ]
     },
     "metadata": {
      "needs_background": "light"
     },
     "output_type": "display_data"
    }
   ],
   "source": [
    "hypotes['ICE'] = (hypotes['impact'] * hypotes['confidence']) / hypotes['efforts']\n",
    "display(hypotes[['hypothesis', 'ICE']].sort_values(by='ICE', ascending=False))\n",
    "\n",
    "# построим стобчатую диаграмму \n",
    "hypotes.sort_values(by='ICE', ascending=False).plot(y='ICE', kind='bar', figsize=(10, 3), legend=False, color='c')\n",
    "plt.title(label='Приоритизация гипотез фреймворком ICE\\n', fontsize=14)\n",
    "plt.xlabel(\"Номера гипотез\", fontsize=10)\n",
    "plt.xticks(rotation=0)\n",
    "plt.ylabel(\"Баллы\", fontsize=10)\n",
    "plt.grid()\n",
    "plt.show()"
   ]
  },
  {
   "cell_type": "markdown",
   "id": "05b4ed64",
   "metadata": {},
   "source": [
    "Готово. Заметим, что на первом месте 8 \"гипотеза\". На втором и третьем гипотезы 0 и 7. Далее, с отстованием почти вдвое идет гипотеза 6 и 2. На последнем месте группа из четырех гипотез (1, 5, 3 и 4)."
   ]
  },
  {
   "cell_type": "markdown",
   "id": "d827af93",
   "metadata": {},
   "source": [
    "Применим фреймворк RICE к датасету `hypotes`, добавим соответствующий столбец `RICE` к нему и визуализируем результаты"
   ]
  },
  {
   "cell_type": "code",
   "execution_count": 6,
   "id": "f85bd847",
   "metadata": {},
   "outputs": [
    {
     "data": {
      "text/html": [
       "<div>\n",
       "<style scoped>\n",
       "    .dataframe tbody tr th:only-of-type {\n",
       "        vertical-align: middle;\n",
       "    }\n",
       "\n",
       "    .dataframe tbody tr th {\n",
       "        vertical-align: top;\n",
       "    }\n",
       "\n",
       "    .dataframe thead th {\n",
       "        text-align: right;\n",
       "    }\n",
       "</style>\n",
       "<table border=\"1\" class=\"dataframe\">\n",
       "  <thead>\n",
       "    <tr style=\"text-align: right;\">\n",
       "      <th></th>\n",
       "      <th>hypothesis</th>\n",
       "      <th>RICE</th>\n",
       "    </tr>\n",
       "  </thead>\n",
       "  <tbody>\n",
       "    <tr>\n",
       "      <th>7</th>\n",
       "      <td>Добавить форму подписки на все основные страницы, чтобы собрать базу клиентов для email-рассылок</td>\n",
       "      <td>112.0</td>\n",
       "    </tr>\n",
       "    <tr>\n",
       "      <th>2</th>\n",
       "      <td>Добавить блоки рекомендаций товаров на сайт интернет магазина, чтобы повысить конверсию и средний чек заказа</td>\n",
       "      <td>56.0</td>\n",
       "    </tr>\n",
       "    <tr>\n",
       "      <th>0</th>\n",
       "      <td>Добавить два новых канала привлечения трафика, что позволит привлекать на 30% больше пользователей</td>\n",
       "      <td>40.0</td>\n",
       "    </tr>\n",
       "    <tr>\n",
       "      <th>6</th>\n",
       "      <td>Показать на главной странице баннеры с актуальными акциями и распродажами, чтобы увеличить конверсию</td>\n",
       "      <td>40.0</td>\n",
       "    </tr>\n",
       "    <tr>\n",
       "      <th>8</th>\n",
       "      <td>Запустить акцию, дающую скидку на товар в день рождения</td>\n",
       "      <td>16.2</td>\n",
       "    </tr>\n",
       "    <tr>\n",
       "      <th>3</th>\n",
       "      <td>Изменить структура категорий, что увеличит конверсию, т.к. пользователи быстрее найдут нужный товар</td>\n",
       "      <td>9.0</td>\n",
       "    </tr>\n",
       "    <tr>\n",
       "      <th>1</th>\n",
       "      <td>Запустить собственную службу доставки, что сократит срок доставки заказов</td>\n",
       "      <td>4.0</td>\n",
       "    </tr>\n",
       "    <tr>\n",
       "      <th>5</th>\n",
       "      <td>Добавить страницу отзывов клиентов о магазине, что позволит увеличить количество заказов</td>\n",
       "      <td>4.0</td>\n",
       "    </tr>\n",
       "    <tr>\n",
       "      <th>4</th>\n",
       "      <td>Изменить цвет фона главной страницы, чтобы увеличить вовлеченность пользователей</td>\n",
       "      <td>3.0</td>\n",
       "    </tr>\n",
       "  </tbody>\n",
       "</table>\n",
       "</div>"
      ],
      "text/plain": [
       "                                                                                                     hypothesis  \\\n",
       "7  Добавить форму подписки на все основные страницы, чтобы собрать базу клиентов для email-рассылок               \n",
       "2  Добавить блоки рекомендаций товаров на сайт интернет магазина, чтобы повысить конверсию и средний чек заказа   \n",
       "0  Добавить два новых канала привлечения трафика, что позволит привлекать на 30% больше пользователей             \n",
       "6  Показать на главной странице баннеры с актуальными акциями и распродажами, чтобы увеличить конверсию           \n",
       "8  Запустить акцию, дающую скидку на товар в день рождения                                                        \n",
       "3  Изменить структура категорий, что увеличит конверсию, т.к. пользователи быстрее найдут нужный товар            \n",
       "1  Запустить собственную службу доставки, что сократит срок доставки заказов                                      \n",
       "5  Добавить страницу отзывов клиентов о магазине, что позволит увеличить количество заказов                       \n",
       "4  Изменить цвет фона главной страницы, чтобы увеличить вовлеченность пользователей                               \n",
       "\n",
       "    RICE  \n",
       "7  112.0  \n",
       "2  56.0   \n",
       "0  40.0   \n",
       "6  40.0   \n",
       "8  16.2   \n",
       "3  9.0    \n",
       "1  4.0    \n",
       "5  4.0    \n",
       "4  3.0    "
      ]
     },
     "metadata": {},
     "output_type": "display_data"
    },
    {
     "data": {
      "image/png": "[encoded data removed]",
      "text/plain": [
       "<Figure size 720x216 with 1 Axes>"
      ]
     },
     "metadata": {
      "needs_background": "light"
     },
     "output_type": "display_data"
    }
   ],
   "source": [
    "hypotes['RICE'] = (hypotes['reach'] * hypotes['impact'] * hypotes['confidence']) / hypotes['efforts']\n",
    "display(hypotes[['hypothesis', 'RICE']].sort_values(by='RICE', ascending=False))\n",
    "\n",
    "# построим столбчатую диаграмму\n",
    "hypotes.sort_values(by='RICE', ascending=False).plot(y='RICE', kind='bar', figsize=(10, 3), legend=False, color='tomato')\n",
    "plt.title(label='Приоритизация гипотез фреймворком RICE\\n', fontsize=14)\n",
    "plt.xlabel(\"Номера гипотез\", fontsize=10)\n",
    "plt.xticks(rotation=0)\n",
    "plt.ylabel(\"Баллы\", fontsize=10)\n",
    "plt.grid()\n",
    "plt.show()"
   ]
  },
  {
   "cell_type": "markdown",
   "id": "8d363807",
   "metadata": {},
   "source": [
    "Отметим, что места, которые занимали гипотезы в приоритизированном списке изменились. На первое место вышла гипотеза 7. Далее гипотеза 2, которая набрала примерно в два раза меньше баллов чем седьмая. Третье место разделили гипотезы 0 и 6 с одинаковым количеством баллов. И только на 4 месте теперь \"гипотеза\" 8. Последние четыре места занимают гипотезы 3, 1, 5 и 4 (после приоритизации ICE этиже гипотезы были в конце списка только в другом порядке)."
   ]
  },
  {
   "cell_type": "markdown",
   "id": "f023936d",
   "metadata": {},
   "source": [
    "Выведем названия гипотез и столбцы `ICE` и `RICE` таблицы`hypotes` "
   ]
  },
  {
   "cell_type": "code",
   "execution_count": 7,
   "id": "10e34130",
   "metadata": {},
   "outputs": [
    {
     "data": {
      "text/html": [
       "<div>\n",
       "<style scoped>\n",
       "    .dataframe tbody tr th:only-of-type {\n",
       "        vertical-align: middle;\n",
       "    }\n",
       "\n",
       "    .dataframe tbody tr th {\n",
       "        vertical-align: top;\n",
       "    }\n",
       "\n",
       "    .dataframe thead th {\n",
       "        text-align: right;\n",
       "    }\n",
       "</style>\n",
       "<table border=\"1\" class=\"dataframe\">\n",
       "  <thead>\n",
       "    <tr style=\"text-align: right;\">\n",
       "      <th></th>\n",
       "      <th>hypothesis</th>\n",
       "      <th>reach</th>\n",
       "      <th>impact</th>\n",
       "      <th>confidence</th>\n",
       "      <th>efforts</th>\n",
       "      <th>ICE</th>\n",
       "      <th>RICE</th>\n",
       "    </tr>\n",
       "  </thead>\n",
       "  <tbody>\n",
       "    <tr>\n",
       "      <th>7</th>\n",
       "      <td>Добавить форму подписки на все основные страницы, чтобы собрать базу клиентов для email-рассылок</td>\n",
       "      <td>10</td>\n",
       "      <td>7</td>\n",
       "      <td>8</td>\n",
       "      <td>5</td>\n",
       "      <td>11.200000</td>\n",
       "      <td>112.0</td>\n",
       "    </tr>\n",
       "    <tr>\n",
       "      <th>2</th>\n",
       "      <td>Добавить блоки рекомендаций товаров на сайт интернет магазина, чтобы повысить конверсию и средний чек заказа</td>\n",
       "      <td>8</td>\n",
       "      <td>3</td>\n",
       "      <td>7</td>\n",
       "      <td>3</td>\n",
       "      <td>7.000000</td>\n",
       "      <td>56.0</td>\n",
       "    </tr>\n",
       "    <tr>\n",
       "      <th>3</th>\n",
       "      <td>Изменить структура категорий, что увеличит конверсию, т.к. пользователи быстрее найдут нужный товар</td>\n",
       "      <td>8</td>\n",
       "      <td>3</td>\n",
       "      <td>3</td>\n",
       "      <td>8</td>\n",
       "      <td>1.125000</td>\n",
       "      <td>9.0</td>\n",
       "    </tr>\n",
       "    <tr>\n",
       "      <th>6</th>\n",
       "      <td>Показать на главной странице баннеры с актуальными акциями и распродажами, чтобы увеличить конверсию</td>\n",
       "      <td>5</td>\n",
       "      <td>3</td>\n",
       "      <td>8</td>\n",
       "      <td>3</td>\n",
       "      <td>8.000000</td>\n",
       "      <td>40.0</td>\n",
       "    </tr>\n",
       "    <tr>\n",
       "      <th>0</th>\n",
       "      <td>Добавить два новых канала привлечения трафика, что позволит привлекать на 30% больше пользователей</td>\n",
       "      <td>3</td>\n",
       "      <td>10</td>\n",
       "      <td>8</td>\n",
       "      <td>6</td>\n",
       "      <td>13.333333</td>\n",
       "      <td>40.0</td>\n",
       "    </tr>\n",
       "    <tr>\n",
       "      <th>4</th>\n",
       "      <td>Изменить цвет фона главной страницы, чтобы увеличить вовлеченность пользователей</td>\n",
       "      <td>3</td>\n",
       "      <td>1</td>\n",
       "      <td>1</td>\n",
       "      <td>1</td>\n",
       "      <td>1.000000</td>\n",
       "      <td>3.0</td>\n",
       "    </tr>\n",
       "    <tr>\n",
       "      <th>5</th>\n",
       "      <td>Добавить страницу отзывов клиентов о магазине, что позволит увеличить количество заказов</td>\n",
       "      <td>3</td>\n",
       "      <td>2</td>\n",
       "      <td>2</td>\n",
       "      <td>3</td>\n",
       "      <td>1.333333</td>\n",
       "      <td>4.0</td>\n",
       "    </tr>\n",
       "    <tr>\n",
       "      <th>1</th>\n",
       "      <td>Запустить собственную службу доставки, что сократит срок доставки заказов</td>\n",
       "      <td>2</td>\n",
       "      <td>5</td>\n",
       "      <td>4</td>\n",
       "      <td>10</td>\n",
       "      <td>2.000000</td>\n",
       "      <td>4.0</td>\n",
       "    </tr>\n",
       "    <tr>\n",
       "      <th>8</th>\n",
       "      <td>Запустить акцию, дающую скидку на товар в день рождения</td>\n",
       "      <td>1</td>\n",
       "      <td>9</td>\n",
       "      <td>9</td>\n",
       "      <td>5</td>\n",
       "      <td>16.200000</td>\n",
       "      <td>16.2</td>\n",
       "    </tr>\n",
       "  </tbody>\n",
       "</table>\n",
       "</div>"
      ],
      "text/plain": [
       "                                                                                                     hypothesis  \\\n",
       "7  Добавить форму подписки на все основные страницы, чтобы собрать базу клиентов для email-рассылок               \n",
       "2  Добавить блоки рекомендаций товаров на сайт интернет магазина, чтобы повысить конверсию и средний чек заказа   \n",
       "3  Изменить структура категорий, что увеличит конверсию, т.к. пользователи быстрее найдут нужный товар            \n",
       "6  Показать на главной странице баннеры с актуальными акциями и распродажами, чтобы увеличить конверсию           \n",
       "0  Добавить два новых канала привлечения трафика, что позволит привлекать на 30% больше пользователей             \n",
       "4  Изменить цвет фона главной страницы, чтобы увеличить вовлеченность пользователей                               \n",
       "5  Добавить страницу отзывов клиентов о магазине, что позволит увеличить количество заказов                       \n",
       "1  Запустить собственную службу доставки, что сократит срок доставки заказов                                      \n",
       "8  Запустить акцию, дающую скидку на товар в день рождения                                                        \n",
       "\n",
       "   reach  impact  confidence  efforts        ICE   RICE  \n",
       "7  10     7       8           5        11.200000  112.0  \n",
       "2  8      3       7           3        7.000000   56.0   \n",
       "3  8      3       3           8        1.125000   9.0    \n",
       "6  5      3       8           3        8.000000   40.0   \n",
       "0  3      10      8           6        13.333333  40.0   \n",
       "4  3      1       1           1        1.000000   3.0    \n",
       "5  3      2       2           3        1.333333   4.0    \n",
       "1  2      5       4           10       2.000000   4.0    \n",
       "8  1      9       9           5        16.200000  16.2   "
      ]
     },
     "metadata": {},
     "output_type": "display_data"
    }
   ],
   "source": [
    "display(hypotes.sort_values(by='reach', ascending=False))"
   ]
  },
  {
   "cell_type": "markdown",
   "id": "9556b36f",
   "metadata": {},
   "source": [
    "**ВЫВОД**<br>\n",
    "Для приоритизации гипотез мы использовали фреймворки ICE и RICE с параметрами Reach, Impact, Confidence и Efforts, которые были распределены между гипотезами по десятибальной шкале. \n",
    "\n",
    "В топ три по \"версии ICE\" вошли 8, 0, 7. Здесь мы не учитывали `Reach`- охват пользователей. \n",
    "\n",
    "В топ три по \"версии RICE\" попали гипотезы под номерами 7, 2, 6 и 0. В ходе приоритизации фреймворком RICE мы учитывали параметр `Reach`. Можно сказать, что баллы при расчете RICE получены умножением баллов ICE на `Reach`. Поэтому на первое место вышли гипотезы с большим значением этого параметра (ну и конечно меньшим значением  `efforts`). По этой причине из топ-3 пропала гипотеза 8 (с охватом пользователей 1) и попали гипотезы 2 и 6.\n",
    "\n"
   ]
  },
  {
   "cell_type": "markdown",
   "id": "532f9f60",
   "metadata": {},
   "source": [
    "## 2. Анализ A/B теста"
   ]
  },
  {
   "cell_type": "markdown",
   "id": "64332ff9",
   "metadata": {},
   "source": [
    "Загрузим датафрейм результатов A/B теста."
   ]
  },
  {
   "cell_type": "code",
   "execution_count": 8,
   "id": "b50cf62d",
   "metadata": {},
   "outputs": [
    {
     "data": {
      "text/html": [
       "<div>\n",
       "<style scoped>\n",
       "    .dataframe tbody tr th:only-of-type {\n",
       "        vertical-align: middle;\n",
       "    }\n",
       "\n",
       "    .dataframe tbody tr th {\n",
       "        vertical-align: top;\n",
       "    }\n",
       "\n",
       "    .dataframe thead th {\n",
       "        text-align: right;\n",
       "    }\n",
       "</style>\n",
       "<table border=\"1\" class=\"dataframe\">\n",
       "  <thead>\n",
       "    <tr style=\"text-align: right;\">\n",
       "      <th></th>\n",
       "      <th>transactionId</th>\n",
       "      <th>visitorId</th>\n",
       "      <th>date</th>\n",
       "      <th>revenue</th>\n",
       "      <th>group</th>\n",
       "    </tr>\n",
       "  </thead>\n",
       "  <tbody>\n",
       "    <tr>\n",
       "      <th>0</th>\n",
       "      <td>3667963787</td>\n",
       "      <td>3312258926</td>\n",
       "      <td>2019-08-15</td>\n",
       "      <td>1650</td>\n",
       "      <td>B</td>\n",
       "    </tr>\n",
       "    <tr>\n",
       "      <th>1</th>\n",
       "      <td>2804400009</td>\n",
       "      <td>3642806036</td>\n",
       "      <td>2019-08-15</td>\n",
       "      <td>730</td>\n",
       "      <td>B</td>\n",
       "    </tr>\n",
       "    <tr>\n",
       "      <th>2</th>\n",
       "      <td>2961555356</td>\n",
       "      <td>4069496402</td>\n",
       "      <td>2019-08-15</td>\n",
       "      <td>400</td>\n",
       "      <td>A</td>\n",
       "    </tr>\n",
       "    <tr>\n",
       "      <th>3</th>\n",
       "      <td>3797467345</td>\n",
       "      <td>1196621759</td>\n",
       "      <td>2019-08-15</td>\n",
       "      <td>9759</td>\n",
       "      <td>B</td>\n",
       "    </tr>\n",
       "    <tr>\n",
       "      <th>4</th>\n",
       "      <td>2282983706</td>\n",
       "      <td>2322279887</td>\n",
       "      <td>2019-08-15</td>\n",
       "      <td>2308</td>\n",
       "      <td>B</td>\n",
       "    </tr>\n",
       "  </tbody>\n",
       "</table>\n",
       "</div>"
      ],
      "text/plain": [
       "   transactionId   visitorId        date  revenue group\n",
       "0  3667963787     3312258926  2019-08-15  1650     B   \n",
       "1  2804400009     3642806036  2019-08-15  730      B   \n",
       "2  2961555356     4069496402  2019-08-15  400      A   \n",
       "3  3797467345     1196621759  2019-08-15  9759     B   \n",
       "4  2282983706     2322279887  2019-08-15  2308     B   "
      ]
     },
     "metadata": {},
     "output_type": "display_data"
    },
    {
     "data": {
      "text/html": [
       "<div>\n",
       "<style scoped>\n",
       "    .dataframe tbody tr th:only-of-type {\n",
       "        vertical-align: middle;\n",
       "    }\n",
       "\n",
       "    .dataframe tbody tr th {\n",
       "        vertical-align: top;\n",
       "    }\n",
       "\n",
       "    .dataframe thead th {\n",
       "        text-align: right;\n",
       "    }\n",
       "</style>\n",
       "<table border=\"1\" class=\"dataframe\">\n",
       "  <thead>\n",
       "    <tr style=\"text-align: right;\">\n",
       "      <th></th>\n",
       "      <th>date</th>\n",
       "      <th>group</th>\n",
       "      <th>visitors</th>\n",
       "    </tr>\n",
       "  </thead>\n",
       "  <tbody>\n",
       "    <tr>\n",
       "      <th>0</th>\n",
       "      <td>2019-08-01</td>\n",
       "      <td>A</td>\n",
       "      <td>719</td>\n",
       "    </tr>\n",
       "    <tr>\n",
       "      <th>1</th>\n",
       "      <td>2019-08-02</td>\n",
       "      <td>A</td>\n",
       "      <td>619</td>\n",
       "    </tr>\n",
       "    <tr>\n",
       "      <th>2</th>\n",
       "      <td>2019-08-03</td>\n",
       "      <td>A</td>\n",
       "      <td>507</td>\n",
       "    </tr>\n",
       "    <tr>\n",
       "      <th>3</th>\n",
       "      <td>2019-08-04</td>\n",
       "      <td>A</td>\n",
       "      <td>717</td>\n",
       "    </tr>\n",
       "    <tr>\n",
       "      <th>4</th>\n",
       "      <td>2019-08-05</td>\n",
       "      <td>A</td>\n",
       "      <td>756</td>\n",
       "    </tr>\n",
       "  </tbody>\n",
       "</table>\n",
       "</div>"
      ],
      "text/plain": [
       "         date group  visitors\n",
       "0  2019-08-01  A     719     \n",
       "1  2019-08-02  A     619     \n",
       "2  2019-08-03  A     507     \n",
       "3  2019-08-04  A     717     \n",
       "4  2019-08-05  A     756     "
      ]
     },
     "metadata": {},
     "output_type": "display_data"
    }
   ],
   "source": [
    "try:\n",
    "    orders = pd.read_csv('orders.csv')\n",
    "    visitors = pd.read_csv('visitors.csv')\n",
    "except:\n",
    "    orders = pd.read_csv('/datasets/orders.csv')\n",
    "    visitors = pd.read_csv('/datasets/visitors.csv')\n",
    "    \n",
    "display(orders.head(), visitors.head())"
   ]
  },
  {
   "cell_type": "markdown",
   "id": "0e585833",
   "metadata": {},
   "source": [
    "Согласно документации к данным:\n",
    "\n",
    "Таблица `orders`\n",
    "- transactionId — идентификатор заказа;\n",
    "- visitorId — идентификатор пользователя, совершившего заказ;\n",
    "- date — дата, когда был совершён заказ;\n",
    "- revenue — выручка заказа;\n",
    "- group — группа A/B-теста, в которую попал заказ.\n",
    "\n",
    "Таблица `visitors`\n",
    "- date — дата;\n",
    "- group — группа A/B-теста;\n",
    "- visitors — количество пользователей в указанную дату в указанной группе A/B-теста"
   ]
  },
  {
   "cell_type": "code",
   "execution_count": 9,
   "id": "bab548ab",
   "metadata": {},
   "outputs": [
    {
     "name": "stdout",
     "output_type": "stream",
     "text": [
      "Количество дубликатов в visitors и orders: 0 и 0\n"
     ]
    }
   ],
   "source": [
    "# выведем количество дубликатов в orders и visitors\n",
    "\n",
    "print('Количество дубликатов в visitors и orders:', visitors.duplicated().sum(), \"и\", orders.duplicated().sum())"
   ]
  },
  {
   "cell_type": "markdown",
   "id": "e1924cc5",
   "metadata": {},
   "source": [
    "Выведем информацию о количестве строк, типах данных и пропусков датафреймов visitors и orders"
   ]
  },
  {
   "cell_type": "code",
   "execution_count": 10,
   "id": "efd62654",
   "metadata": {},
   "outputs": [
    {
     "name": "stdout",
     "output_type": "stream",
     "text": [
      "<class 'pandas.core.frame.DataFrame'>\n",
      "RangeIndex: 1197 entries, 0 to 1196\n",
      "Data columns (total 5 columns):\n",
      " #   Column         Non-Null Count  Dtype \n",
      "---  ------         --------------  ----- \n",
      " 0   transactionId  1197 non-null   int64 \n",
      " 1   visitorId      1197 non-null   int64 \n",
      " 2   date           1197 non-null   object\n",
      " 3   revenue        1197 non-null   int64 \n",
      " 4   group          1197 non-null   object\n",
      "dtypes: int64(3), object(2)\n",
      "memory usage: 46.9+ KB\n",
      "<class 'pandas.core.frame.DataFrame'>\n",
      "RangeIndex: 62 entries, 0 to 61\n",
      "Data columns (total 3 columns):\n",
      " #   Column    Non-Null Count  Dtype \n",
      "---  ------    --------------  ----- \n",
      " 0   date      62 non-null     object\n",
      " 1   group     62 non-null     object\n",
      " 2   visitors  62 non-null     int64 \n",
      "dtypes: int64(1), object(2)\n",
      "memory usage: 1.6+ KB\n"
     ]
    }
   ],
   "source": [
    "orders.info()\n",
    "visitors.info()"
   ]
  },
  {
   "cell_type": "markdown",
   "id": "26325aad",
   "metadata": {},
   "source": [
    "Заметили тип object у столбцов с датами. Приведим их к типу datetime64."
   ]
  },
  {
   "cell_type": "code",
   "execution_count": 11,
   "id": "ba73b7a2",
   "metadata": {},
   "outputs": [],
   "source": [
    "orders['date'] = pd.to_datetime(orders['date'])\n",
    "visitors['date'] = pd.to_datetime(visitors['date'])"
   ]
  },
  {
   "cell_type": "markdown",
   "id": "ac2a522e",
   "metadata": {},
   "source": [
    "Готово. Теперь создадим датафреймы с пользователями групп А и В отдельно."
   ]
  },
  {
   "cell_type": "code",
   "execution_count": 12,
   "id": "17dfab52",
   "metadata": {},
   "outputs": [
    {
     "data": {
      "text/html": [
       "<div>\n",
       "<style scoped>\n",
       "    .dataframe tbody tr th:only-of-type {\n",
       "        vertical-align: middle;\n",
       "    }\n",
       "\n",
       "    .dataframe tbody tr th {\n",
       "        vertical-align: top;\n",
       "    }\n",
       "\n",
       "    .dataframe thead th {\n",
       "        text-align: right;\n",
       "    }\n",
       "</style>\n",
       "<table border=\"1\" class=\"dataframe\">\n",
       "  <thead>\n",
       "    <tr style=\"text-align: right;\">\n",
       "      <th></th>\n",
       "      <th>userId</th>\n",
       "      <th>orders</th>\n",
       "    </tr>\n",
       "  </thead>\n",
       "  <tbody>\n",
       "    <tr>\n",
       "      <th>86</th>\n",
       "      <td>803709563</td>\n",
       "      <td>1</td>\n",
       "    </tr>\n",
       "    <tr>\n",
       "      <th>98</th>\n",
       "      <td>888420622</td>\n",
       "      <td>1</td>\n",
       "    </tr>\n",
       "    <tr>\n",
       "      <th>44</th>\n",
       "      <td>381340408</td>\n",
       "      <td>1</td>\n",
       "    </tr>\n",
       "    <tr>\n",
       "      <th>401</th>\n",
       "      <td>3301980586</td>\n",
       "      <td>1</td>\n",
       "    </tr>\n",
       "    <tr>\n",
       "      <th>405</th>\n",
       "      <td>3353177029</td>\n",
       "      <td>1</td>\n",
       "    </tr>\n",
       "  </tbody>\n",
       "</table>\n",
       "</div>"
      ],
      "text/plain": [
       "         userId  orders\n",
       "86   803709563   1     \n",
       "98   888420622   1     \n",
       "44   381340408   1     \n",
       "401  3301980586  1     \n",
       "405  3353177029  1     "
      ]
     },
     "metadata": {},
     "output_type": "display_data"
    },
    {
     "data": {
      "text/html": [
       "<div>\n",
       "<style scoped>\n",
       "    .dataframe tbody tr th:only-of-type {\n",
       "        vertical-align: middle;\n",
       "    }\n",
       "\n",
       "    .dataframe tbody tr th {\n",
       "        vertical-align: top;\n",
       "    }\n",
       "\n",
       "    .dataframe thead th {\n",
       "        text-align: right;\n",
       "    }\n",
       "</style>\n",
       "<table border=\"1\" class=\"dataframe\">\n",
       "  <thead>\n",
       "    <tr style=\"text-align: right;\">\n",
       "      <th></th>\n",
       "      <th>userId</th>\n",
       "      <th>orders</th>\n",
       "    </tr>\n",
       "  </thead>\n",
       "  <tbody>\n",
       "    <tr>\n",
       "      <th>226</th>\n",
       "      <td>1634934899</td>\n",
       "      <td>1</td>\n",
       "    </tr>\n",
       "    <tr>\n",
       "      <th>191</th>\n",
       "      <td>1397211727</td>\n",
       "      <td>1</td>\n",
       "    </tr>\n",
       "    <tr>\n",
       "      <th>425</th>\n",
       "      <td>3062605572</td>\n",
       "      <td>1</td>\n",
       "    </tr>\n",
       "    <tr>\n",
       "      <th>345</th>\n",
       "      <td>2476105225</td>\n",
       "      <td>1</td>\n",
       "    </tr>\n",
       "    <tr>\n",
       "      <th>143</th>\n",
       "      <td>993094131</td>\n",
       "      <td>1</td>\n",
       "    </tr>\n",
       "  </tbody>\n",
       "</table>\n",
       "</div>"
      ],
      "text/plain": [
       "         userId  orders\n",
       "226  1634934899  1     \n",
       "191  1397211727  1     \n",
       "425  3062605572  1     \n",
       "345  2476105225  1     \n",
       "143  993094131   1     "
      ]
     },
     "metadata": {},
     "output_type": "display_data"
    }
   ],
   "source": [
    "# отберем пользователей группы А\n",
    "order_by_us_a = (\n",
    "    orders[orders['group'] == 'A']\n",
    "    .groupby('visitorId', as_index=False)\n",
    "    .agg({'transactionId': pd.Series.nunique})\n",
    ")\n",
    "order_by_us_a.columns = ['userId', 'orders']\n",
    "\n",
    "# отберем пользователей группы В\n",
    "order_by_us_b = (\n",
    "    orders[orders['group'] == 'B']\n",
    "    .groupby('visitorId', as_index=False)\n",
    "    .agg({'transactionId': pd.Series.nunique})\n",
    ")\n",
    "order_by_us_b.columns = ['userId', 'orders']\n",
    "\n",
    "display(order_by_us_a.sample(5), order_by_us_b.sample(5))"
   ]
  },
  {
   "cell_type": "markdown",
   "id": "0d2ca24e",
   "metadata": {},
   "source": [
    "Проверим нет ли пользователей, которые попали в обе группы. Объединим созданные датафреймы order_by_us_a и order_by_us_b по `userId` с помощью `merge` (по умолчанию inner) и получим таблицу, в которой пользователи из обеих групп, если таковые есть."
   ]
  },
  {
   "cell_type": "code",
   "execution_count": 13,
   "id": "a0746602",
   "metadata": {},
   "outputs": [
    {
     "data": {
      "text/html": [
       "<div>\n",
       "<style scoped>\n",
       "    .dataframe tbody tr th:only-of-type {\n",
       "        vertical-align: middle;\n",
       "    }\n",
       "\n",
       "    .dataframe tbody tr th {\n",
       "        vertical-align: top;\n",
       "    }\n",
       "\n",
       "    .dataframe thead th {\n",
       "        text-align: right;\n",
       "    }\n",
       "</style>\n",
       "<table border=\"1\" class=\"dataframe\">\n",
       "  <thead>\n",
       "    <tr style=\"text-align: right;\">\n",
       "      <th></th>\n",
       "      <th>userId</th>\n",
       "      <th>orders_x</th>\n",
       "      <th>orders_y</th>\n",
       "    </tr>\n",
       "  </thead>\n",
       "  <tbody>\n",
       "    <tr>\n",
       "      <th>56</th>\n",
       "      <td>4256040402</td>\n",
       "      <td>7</td>\n",
       "      <td>4</td>\n",
       "    </tr>\n",
       "    <tr>\n",
       "      <th>27</th>\n",
       "      <td>2458001652</td>\n",
       "      <td>5</td>\n",
       "      <td>6</td>\n",
       "    </tr>\n",
       "    <tr>\n",
       "      <th>24</th>\n",
       "      <td>2038680547</td>\n",
       "      <td>5</td>\n",
       "      <td>3</td>\n",
       "    </tr>\n",
       "    <tr>\n",
       "      <th>26</th>\n",
       "      <td>2378935119</td>\n",
       "      <td>4</td>\n",
       "      <td>5</td>\n",
       "    </tr>\n",
       "    <tr>\n",
       "      <th>1</th>\n",
       "      <td>199603092</td>\n",
       "      <td>4</td>\n",
       "      <td>1</td>\n",
       "    </tr>\n",
       "    <tr>\n",
       "      <th>3</th>\n",
       "      <td>237748145</td>\n",
       "      <td>4</td>\n",
       "      <td>1</td>\n",
       "    </tr>\n",
       "    <tr>\n",
       "      <th>12</th>\n",
       "      <td>1230306981</td>\n",
       "      <td>3</td>\n",
       "      <td>2</td>\n",
       "    </tr>\n",
       "  </tbody>\n",
       "</table>\n",
       "</div>"
      ],
      "text/plain": [
       "        userId  orders_x  orders_y\n",
       "56  4256040402  7         4       \n",
       "27  2458001652  5         6       \n",
       "24  2038680547  5         3       \n",
       "26  2378935119  4         5       \n",
       "1   199603092   4         1       \n",
       "3   237748145   4         1       \n",
       "12  1230306981  3         2       "
      ]
     },
     "metadata": {},
     "output_type": "display_data"
    },
    {
     "name": "stdout",
     "output_type": "stream",
     "text": [
      "Всего пользователей оказавшихся в обеих группах: 58\n"
     ]
    }
   ],
   "source": [
    "# датафрейм с id и количеством заказов пользователей, которые оказались в двух группах одновременно\n",
    "ab_users = order_by_us_a.merge(order_by_us_b, on='userId') \n",
    "\n",
    "display(ab_users.sort_values(by=['orders_x', 'orders_y'], ascending=False).head(7))\n",
    "\n",
    "print('Всего пользователей оказавшихся в обеих группах:', ab_users.shape[0])"
   ]
  },
  {
   "cell_type": "markdown",
   "id": "f30508d1",
   "metadata": {},
   "source": [
    "Предположение подтвердилось, действительно такие пользователи есть, и их 58. Всего около 6% от общго количества уникальных пользователей. Смело можем убрать."
   ]
  },
  {
   "cell_type": "code",
   "execution_count": 14,
   "id": "d9f79a88",
   "metadata": {},
   "outputs": [],
   "source": [
    "# id этих пользователей списком\n",
    "us = ab_users['userId'].to_list()\n",
    "\n",
    "# очистим датафреймы orders, order_by_us_a и order_by_us_b от таких пользователей\n",
    "orders = orders[np.logical_not(orders['visitorId'].isin(us))]\n",
    "order_by_us_a = order_by_us_a[np.logical_not(order_by_us_a['userId'].isin(us))]\n",
    "order_by_us_b = order_by_us_b[np.logical_not(order_by_us_b['userId'].isin(us))]"
   ]
  },
  {
   "cell_type": "markdown",
   "id": "4929f2bb",
   "metadata": {},
   "source": [
    "**ВЫВОДЫ** <br>\n",
    "Загрузили данные. Ознакомились, проверили на дубликаты и пропуски. Пропусков и явных дубликатов в данных нет. Привели столбцы с датой к нужному формату, формат остальных столбцов нас устраивает. Сгрупировали пользователей по группам в отдельные датафреймы и проверили наличие пользователей попавших в обе группы. Обнаружили их (6% от числа всех) и удалили из групп А и В."
   ]
  },
  {
   "cell_type": "markdown",
   "id": "8017ef99",
   "metadata": {},
   "source": [
    "### 2.1 Кумулятивная выручка по группам"
   ]
  },
  {
   "cell_type": "markdown",
   "id": "f93eaab8",
   "metadata": {},
   "source": [
    "Рассчитаем кумулятивную выручку по группам. Для этого получим агрегированне, кумулятивные данные о заказах, о посетителях интернет-магазина и объединим их в один датафрейм cumulat_dt."
   ]
  },
  {
   "cell_type": "code",
   "execution_count": 15,
   "id": "71773bce",
   "metadata": {},
   "outputs": [
    {
     "data": {
      "text/html": [
       "<div>\n",
       "<style scoped>\n",
       "    .dataframe tbody tr th:only-of-type {\n",
       "        vertical-align: middle;\n",
       "    }\n",
       "\n",
       "    .dataframe tbody tr th {\n",
       "        vertical-align: top;\n",
       "    }\n",
       "\n",
       "    .dataframe thead th {\n",
       "        text-align: right;\n",
       "    }\n",
       "</style>\n",
       "<table border=\"1\" class=\"dataframe\">\n",
       "  <thead>\n",
       "    <tr style=\"text-align: right;\">\n",
       "      <th></th>\n",
       "      <th>date</th>\n",
       "      <th>group</th>\n",
       "      <th>orders</th>\n",
       "      <th>buyers</th>\n",
       "      <th>revenue</th>\n",
       "      <th>visitors</th>\n",
       "    </tr>\n",
       "  </thead>\n",
       "  <tbody>\n",
       "    <tr>\n",
       "      <th>0</th>\n",
       "      <td>2019-08-01</td>\n",
       "      <td>A</td>\n",
       "      <td>23</td>\n",
       "      <td>19</td>\n",
       "      <td>142779</td>\n",
       "      <td>719</td>\n",
       "    </tr>\n",
       "    <tr>\n",
       "      <th>1</th>\n",
       "      <td>2019-08-01</td>\n",
       "      <td>B</td>\n",
       "      <td>17</td>\n",
       "      <td>17</td>\n",
       "      <td>59758</td>\n",
       "      <td>713</td>\n",
       "    </tr>\n",
       "    <tr>\n",
       "      <th>2</th>\n",
       "      <td>2019-08-02</td>\n",
       "      <td>A</td>\n",
       "      <td>42</td>\n",
       "      <td>36</td>\n",
       "      <td>234381</td>\n",
       "      <td>1338</td>\n",
       "    </tr>\n",
       "    <tr>\n",
       "      <th>3</th>\n",
       "      <td>2019-08-02</td>\n",
       "      <td>B</td>\n",
       "      <td>40</td>\n",
       "      <td>39</td>\n",
       "      <td>221801</td>\n",
       "      <td>1294</td>\n",
       "    </tr>\n",
       "    <tr>\n",
       "      <th>4</th>\n",
       "      <td>2019-08-03</td>\n",
       "      <td>A</td>\n",
       "      <td>66</td>\n",
       "      <td>60</td>\n",
       "      <td>346854</td>\n",
       "      <td>1845</td>\n",
       "    </tr>\n",
       "  </tbody>\n",
       "</table>\n",
       "</div>"
      ],
      "text/plain": [
       "        date group  orders  buyers  revenue  visitors\n",
       "0 2019-08-01  A     23      19      142779   719     \n",
       "1 2019-08-01  B     17      17      59758    713     \n",
       "2 2019-08-02  A     42      36      234381   1338    \n",
       "3 2019-08-02  B     40      39      221801   1294    \n",
       "4 2019-08-03  A     66      60      346854   1845    "
      ]
     },
     "metadata": {},
     "output_type": "display_data"
    }
   ],
   "source": [
    "# создаем массив уникальных пар значений дат и групп теста\n",
    "dt_group = orders[['date','group']].drop_duplicates()\n",
    "\n",
    "# получаем агрегированные кумулятивные по дням данные о заказах \n",
    "orders_agg = (\n",
    "dt_group\n",
    "    .apply(lambda x: \n",
    "           orders[np.logical_and(orders['date'] <= x['date'],\n",
    "                                              orders['group'] == x['group'])]\n",
    "    .agg\n",
    "              ({\n",
    "           'date' : 'max',\n",
    "           'group' : 'max',\n",
    "           'transactionId' : 'nunique',\n",
    "           'visitorId' : 'nunique',\n",
    "           'revenue' : 'sum'\n",
    "              }),\n",
    "              axis=1).sort_values(by=['date','group'])\n",
    ")\n",
    "\n",
    "# получаем агрегированные кумулятивные по дням данные о посетителях интернет-магазина \n",
    "visitors_agg = (\n",
    "dt_group\n",
    "    .apply(lambda x: \n",
    "           visitors[np.logical_and(visitors['date'] <= x['date'], \n",
    "                                         visitors['group'] == x['group'])]\n",
    "    .agg\n",
    "              ({\n",
    "                  'date' : 'max',\n",
    "                  'group' : 'max',\n",
    "                  'visitors' : 'sum'\n",
    "              }),\n",
    "              axis=1).sort_values(by=['date','group'])\n",
    ")\n",
    "\n",
    "# объединяем кумулятивные данные в одной таблице и присваиваем ее столбцам понятные названия\n",
    "cumulat_dt = (\n",
    "orders_agg.merge(visitors_agg, left_on=['date', 'group'], right_on=['date', 'group'])\n",
    ")\n",
    "\n",
    "cumulat_dt.columns = ['date', 'group', 'orders', 'buyers', 'revenue', 'visitors']\n",
    "\n",
    "display(cumulat_dt.head(5))"
   ]
  },
  {
   "cell_type": "markdown",
   "id": "8ef1feaf",
   "metadata": {},
   "source": [
    "Готово. Теперь разобьем его на две части по группам А и В. И построим графики кумулятивной выручки по датам в каждой группе в одной системе координат."
   ]
  },
  {
   "cell_type": "code",
   "execution_count": 16,
   "id": "a12d2e3f",
   "metadata": {
    "scrolled": false
   },
   "outputs": [
    {
     "data": {
      "image/png": "[encoded data removed]",
      "text/plain": [
       "<Figure size 1080x432 with 1 Axes>"
      ]
     },
     "metadata": {
      "needs_background": "light"
     },
     "output_type": "display_data"
    }
   ],
   "source": [
    "\n",
    "# датафрейм с кумулятивным количеством заказов и кумулятивной выручкой по дням в группе А\n",
    "c_revenue_A = cumulat_dt[cumulat_dt['group']=='A'][['date','revenue', 'orders']]\n",
    "\n",
    "# датафрейм с кумулятивным количеством заказов и кумулятивной выручкой по дням в группе B\n",
    "c_revenue_B = cumulat_dt[cumulat_dt['group']=='B'][['date','revenue', 'orders']]\n",
    "\n",
    "# Строим график выручки группы А\n",
    "plt.figure(figsize=(15, 6))\n",
    "plt.plot(c_revenue_A['date'], c_revenue_A['revenue'], label='A')\n",
    "\n",
    "# Строим график выручки группы B\n",
    "plt.plot(c_revenue_B['date'], c_revenue_B['revenue'], label='B')\n",
    "plt.grid()\n",
    "plt.xticks(rotation = 30)\n",
    "plt.title('Кумулятивная выручка по группам')\n",
    "plt.ylabel('Кумулятивная выручка млн.')\n",
    "plt.legend()\n",
    "plt.show()\n"
   ]
  },
  {
   "cell_type": "markdown",
   "id": "7b9097b7",
   "metadata": {},
   "source": [
    "**ВЫВОДЫ**<br>\n",
    "Из графика мы видим, что до 5.08 разницы в кумулятивной выручке практически нет, далее с 5.08 по 13.08 группа В вырывается немного вперед и к 13.08 группы снова сравниваются по накопленной выручке. После 13.08 группа В начинает опережать группу А, и с 17.08  по 19.08 происходи скачек примерно в 1.5 млн. и далее графики демонструруют схожие изменения. Т.е. в группе В в период с 17.08 по 19.08 покупательная активность пользователей резко выросла, возможно были какие-то очень крупные заказы. И далее кумулятивная выручка в группе В примерно на 1.5 млн. стабильно больше аналогичной в группе А. "
   ]
  },
  {
   "cell_type": "markdown",
   "id": "46f27e40",
   "metadata": {},
   "source": [
    "### 2.2 Кумулятивный средний чек по группам"
   ]
  },
  {
   "cell_type": "markdown",
   "id": "7f503fc2",
   "metadata": {},
   "source": [
    "Построим графики кумулятивных средних чеков по группам"
   ]
  },
  {
   "cell_type": "code",
   "execution_count": 17,
   "id": "0f8a072f",
   "metadata": {},
   "outputs": [
    {
     "data": {
      "image/png": "[encoded data removed]",
      "text/plain": [
       "<Figure size 1080x432 with 1 Axes>"
      ]
     },
     "metadata": {
      "needs_background": "light"
     },
     "output_type": "display_data"
    }
   ],
   "source": [
    "plt.figure(figsize=(15, 6))\n",
    "plt.plot(c_revenue_A['date'], c_revenue_A['revenue']/c_revenue_A['orders'], label='A')\n",
    "plt.plot(c_revenue_B['date'], c_revenue_B['revenue']/c_revenue_B['orders'], label='B')\n",
    "\n",
    "plt.grid()\n",
    "plt.xticks(rotation = 30)\n",
    "plt.title('Кумулятивный средний чек по группам')\n",
    "plt.ylabel('Сумма чека')\n",
    "plt.legend()\n",
    "plt.show()"
   ]
  },
  {
   "cell_type": "markdown",
   "id": "0d921993",
   "metadata": {},
   "source": [
    "**ВЫВОДЫ**<br>\n",
    "Аналогично кумулятивной выручке, графики кумулятивных средних чеков ведут себя похожим образом. В начале заметно расождение в течение первых пяти, шести дней. В группе В рост успел смениться спадом, в группе А был постоянный спад. К 6.08 разница в кумулятивном среднем чеке составила более 1.5 тыс. К 15.08 группы сравнялись по кумулятивному среднему чеку на уровне 7000. Далее (как и в случае с кумулятивной выручкой) отмечаем резкий скачек примерно 18.08 который позволили кумулятивному среднему чеку в группе В за примерно два дня вырости почти в полтора раза. Значит действительно могли быть крупные заказы в этот преоид времени.   "
   ]
  },
  {
   "cell_type": "markdown",
   "id": "6c3ac9dd",
   "metadata": {},
   "source": [
    "### 2.3 Относительное изменение кумулятивного среднего чека группы B к группе A"
   ]
  },
  {
   "cell_type": "markdown",
   "id": "3bd3e55e",
   "metadata": {},
   "source": [
    "Рассчитаем относительное изменение кумулятивного среднего чека группы В к группе А и построим соответствующий график."
   ]
  },
  {
   "cell_type": "code",
   "execution_count": 18,
   "id": "bfe80aa2",
   "metadata": {},
   "outputs": [
    {
     "data": {
      "image/png": "[encoded data removed]",
      "text/plain": [
       "<Figure size 1080x432 with 1 Axes>"
      ]
     },
     "metadata": {
      "needs_background": "light"
     },
     "output_type": "display_data"
    }
   ],
   "source": [
    "# собираем данные в одном датафрейме\n",
    "mrg_cmlt_rev = c_revenue_A.merge(c_revenue_B, left_on='date', right_on='date', how='left', suffixes=['A', 'B'])\n",
    "\n",
    "# cтроим отношение средних чеков\n",
    "plt.figure(figsize=(15, 6))\n",
    "plt.plot(mrg_cmlt_rev['date'], (mrg_cmlt_rev['revenueB']/mrg_cmlt_rev['ordersB'])/(mrg_cmlt_rev['revenueA']/mrg_cmlt_rev['ordersA'])-1)\n",
    "\n",
    "# добавляем ось X\n",
    "\n",
    "plt.axhline(y=0, color='black', linestyle='--')\n",
    "plt.xticks(rotation = 30)\n",
    "plt.title('Относительное изменения кумулятивного среднего чека группы B к группе A')\n",
    "plt.ylabel('Процент изменения /100')\n",
    "plt.show()"
   ]
  },
  {
   "cell_type": "markdown",
   "id": "31aa6522",
   "metadata": {},
   "source": [
    "**ВЫВОДЫ**<br>\n",
    "Замечаем, что график относительного изменения кумулятивного среднего чека В к А сильно меняется. Особенно в начале исследования, далее с 9.08 по 13.08 и с 17.08 по 21.08. Что подтверждает наличие выбросов, больших заказов."
   ]
  },
  {
   "cell_type": "markdown",
   "id": "b01685c2",
   "metadata": {},
   "source": [
    "### 2.4 Кумулятивная конверсия по группам"
   ]
  },
  {
   "cell_type": "markdown",
   "id": "284a8f2a",
   "metadata": {},
   "source": [
    "Рассчитаем кумулятивную конверсию по группам и построим соответствующие графики"
   ]
  },
  {
   "cell_type": "code",
   "execution_count": 19,
   "id": "dd0fff3b",
   "metadata": {},
   "outputs": [
    {
     "data": {
      "image/png": "[encoded data removed]",
      "text/plain": [
       "<Figure size 1080x432 with 1 Axes>"
      ]
     },
     "metadata": {
      "needs_background": "light"
     },
     "output_type": "display_data"
    }
   ],
   "source": [
    "# считаем кумулятивную конверсию\n",
    "cumulat_dt['conversion'] = cumulat_dt['orders']/cumulat_dt['visitors']\n",
    "\n",
    "# отделяем данные по группе A и B\n",
    "cmlt_dt_a = cumulat_dt[cumulat_dt['group']=='A']\n",
    "cmlt_dt_b = cumulat_dt[cumulat_dt['group']=='B']\n",
    "\n",
    "# строим графики\n",
    "plt.figure(figsize=(15, 6))\n",
    "plt.plot(cmlt_dt_a['date'], cmlt_dt_a['conversion'], label='A')\n",
    "plt.plot(cmlt_dt_b['date'], cmlt_dt_b['conversion'], label='B')\n",
    "plt.legend()\n",
    "plt.grid()\n",
    "plt.xticks(rotation = 30)\n",
    "plt.title('Кумулятивная конверсия по группам')\n",
    "plt.ylabel('Значение кум. конверсии')\n",
    "plt.show()"
   ]
  },
  {
   "cell_type": "markdown",
   "id": "73e50d63",
   "metadata": {},
   "source": [
    "**ВЫВОДЫ**<br>\n",
    "Видим, что кумулятивная конверсия сильно колебалась первые пять дней, затем на момент 9.08 совпала в группах А и В. Далее конверсия в группе В стабильно демонстрирует значения выше чем в группе А. При этом изменения кумулятивной конверсии по группам близки к симметричным."
   ]
  },
  {
   "cell_type": "markdown",
   "id": "19ea2d2c",
   "metadata": {},
   "source": [
    "### 2.5 Относительное изменения кумулятивной конверсии группы B к A"
   ]
  },
  {
   "cell_type": "markdown",
   "id": "769c0882",
   "metadata": {},
   "source": [
    "Рассчитаем относительное изменение кумулятивной конверсии группы В к группе А и построим соответствующий график"
   ]
  },
  {
   "cell_type": "code",
   "execution_count": 20,
   "id": "87f0603e",
   "metadata": {
    "scrolled": false
   },
   "outputs": [
    {
     "data": {
      "image/png": "[encoded data removed]",
      "text/plain": [
       "<Figure size 1080x432 with 1 Axes>"
      ]
     },
     "metadata": {
      "needs_background": "light"
     },
     "output_type": "display_data"
    }
   ],
   "source": [
    "# создадим соответствующий датафрейм объединяя ранее созданные датафреймы по date и conversion\n",
    "merge_cmlt_convers = (\n",
    "cmlt_dt_a[['date','conversion']]\n",
    ".merge(cmlt_dt_b[['date','conversion']], \n",
    "       left_on='date', \n",
    "       right_on='date', \n",
    "       how='left',\n",
    "       suffixes=['A', 'B'])\n",
    ")\n",
    "plt.figure(figsize=(15, 6))\n",
    "plt.plot(merge_cmlt_convers['date'], merge_cmlt_convers['conversionB']/merge_cmlt_convers['conversionA']-1)\n",
    "plt.title(\"Относительный прирост конверсии группы B к группе A\")\n",
    "plt.axhline(y=0, color='black', linestyle='--')\n",
    "plt.axhline(y=-0.1, color='grey', linestyle='--')\n",
    "plt.xticks(rotation = 30)\n",
    "plt.show()"
   ]
  },
  {
   "cell_type": "markdown",
   "id": "f90a4f5d",
   "metadata": {},
   "source": [
    "**ВЫВОДЫ**<br>\n",
    "Замечаем, что группы А и В сравнялись только на пятый - шестой день. До этого группа В в основном уступала А. После 6.08 группа В превосходит А, причем превосходство достигало 20%. В целом можно сказать, что преимущество группы В итоге установилось и вышло на уровень 10-15%. Однако будем иметь ввиду, что перед нами \"сырые\" данные. Очистим данные от выбросов и аномальных значений и только после этого будем делать окончательные выводы."
   ]
  },
  {
   "cell_type": "markdown",
   "id": "9d1d2499",
   "metadata": {},
   "source": [
    "### 2.6 Количество заказов по пользователям"
   ]
  },
  {
   "cell_type": "code",
   "execution_count": 21,
   "id": "92176514",
   "metadata": {
    "scrolled": true
   },
   "outputs": [
    {
     "data": {
      "text/html": [
       "<div>\n",
       "<style scoped>\n",
       "    .dataframe tbody tr th:only-of-type {\n",
       "        vertical-align: middle;\n",
       "    }\n",
       "\n",
       "    .dataframe tbody tr th {\n",
       "        vertical-align: top;\n",
       "    }\n",
       "\n",
       "    .dataframe thead th {\n",
       "        text-align: right;\n",
       "    }\n",
       "</style>\n",
       "<table border=\"1\" class=\"dataframe\">\n",
       "  <thead>\n",
       "    <tr style=\"text-align: right;\">\n",
       "      <th></th>\n",
       "      <th>userId</th>\n",
       "      <th>orders</th>\n",
       "    </tr>\n",
       "  </thead>\n",
       "  <tbody>\n",
       "    <tr>\n",
       "      <th>908</th>\n",
       "      <td>3967698036</td>\n",
       "      <td>3</td>\n",
       "    </tr>\n",
       "    <tr>\n",
       "      <th>55</th>\n",
       "      <td>249864742</td>\n",
       "      <td>3</td>\n",
       "    </tr>\n",
       "    <tr>\n",
       "      <th>478</th>\n",
       "      <td>2108163459</td>\n",
       "      <td>3</td>\n",
       "    </tr>\n",
       "    <tr>\n",
       "      <th>687</th>\n",
       "      <td>2988190573</td>\n",
       "      <td>3</td>\n",
       "    </tr>\n",
       "    <tr>\n",
       "      <th>890</th>\n",
       "      <td>3908431265</td>\n",
       "      <td>3</td>\n",
       "    </tr>\n",
       "    <tr>\n",
       "      <th>138</th>\n",
       "      <td>611059232</td>\n",
       "      <td>3</td>\n",
       "    </tr>\n",
       "    <tr>\n",
       "      <th>632</th>\n",
       "      <td>2742574263</td>\n",
       "      <td>3</td>\n",
       "    </tr>\n",
       "    <tr>\n",
       "      <th>157</th>\n",
       "      <td>678354126</td>\n",
       "      <td>2</td>\n",
       "    </tr>\n",
       "    <tr>\n",
       "      <th>323</th>\n",
       "      <td>1404560065</td>\n",
       "      <td>2</td>\n",
       "    </tr>\n",
       "    <tr>\n",
       "      <th>452</th>\n",
       "      <td>1985475298</td>\n",
       "      <td>2</td>\n",
       "    </tr>\n",
       "    <tr>\n",
       "      <th>118</th>\n",
       "      <td>522292794</td>\n",
       "      <td>2</td>\n",
       "    </tr>\n",
       "    <tr>\n",
       "      <th>628</th>\n",
       "      <td>2733145037</td>\n",
       "      <td>2</td>\n",
       "    </tr>\n",
       "    <tr>\n",
       "      <th>634</th>\n",
       "      <td>2744017357</td>\n",
       "      <td>2</td>\n",
       "    </tr>\n",
       "    <tr>\n",
       "      <th>407</th>\n",
       "      <td>1772171838</td>\n",
       "      <td>2</td>\n",
       "    </tr>\n",
       "    <tr>\n",
       "      <th>548</th>\n",
       "      <td>2397843657</td>\n",
       "      <td>2</td>\n",
       "    </tr>\n",
       "    <tr>\n",
       "      <th>529</th>\n",
       "      <td>2306096143</td>\n",
       "      <td>2</td>\n",
       "    </tr>\n",
       "    <tr>\n",
       "      <th>940</th>\n",
       "      <td>4134830387</td>\n",
       "      <td>2</td>\n",
       "    </tr>\n",
       "    <tr>\n",
       "      <th>94</th>\n",
       "      <td>406208401</td>\n",
       "      <td>2</td>\n",
       "    </tr>\n",
       "    <tr>\n",
       "      <th>176</th>\n",
       "      <td>759473111</td>\n",
       "      <td>2</td>\n",
       "    </tr>\n",
       "    <tr>\n",
       "      <th>476</th>\n",
       "      <td>2096506107</td>\n",
       "      <td>2</td>\n",
       "    </tr>\n",
       "    <tr>\n",
       "      <th>780</th>\n",
       "      <td>3332057097</td>\n",
       "      <td>2</td>\n",
       "    </tr>\n",
       "    <tr>\n",
       "      <th>459</th>\n",
       "      <td>2025197455</td>\n",
       "      <td>2</td>\n",
       "    </tr>\n",
       "    <tr>\n",
       "      <th>897</th>\n",
       "      <td>3935952912</td>\n",
       "      <td>2</td>\n",
       "    </tr>\n",
       "    <tr>\n",
       "      <th>792</th>\n",
       "      <td>3379260072</td>\n",
       "      <td>2</td>\n",
       "    </tr>\n",
       "    <tr>\n",
       "      <th>787</th>\n",
       "      <td>3362039251</td>\n",
       "      <td>2</td>\n",
       "    </tr>\n",
       "    <tr>\n",
       "      <th>664</th>\n",
       "      <td>2892265953</td>\n",
       "      <td>2</td>\n",
       "    </tr>\n",
       "    <tr>\n",
       "      <th>901</th>\n",
       "      <td>3941503500</td>\n",
       "      <td>2</td>\n",
       "    </tr>\n",
       "    <tr>\n",
       "      <th>82</th>\n",
       "      <td>366673373</td>\n",
       "      <td>2</td>\n",
       "    </tr>\n",
       "    <tr>\n",
       "      <th>807</th>\n",
       "      <td>3469608676</td>\n",
       "      <td>2</td>\n",
       "    </tr>\n",
       "    <tr>\n",
       "      <th>375</th>\n",
       "      <td>1617417821</td>\n",
       "      <td>2</td>\n",
       "    </tr>\n",
       "    <tr>\n",
       "      <th>539</th>\n",
       "      <td>2366521417</td>\n",
       "      <td>2</td>\n",
       "    </tr>\n",
       "    <tr>\n",
       "      <th>624</th>\n",
       "      <td>2706377257</td>\n",
       "      <td>2</td>\n",
       "    </tr>\n",
       "    <tr>\n",
       "      <th>380</th>\n",
       "      <td>1637811943</td>\n",
       "      <td>2</td>\n",
       "    </tr>\n",
       "    <tr>\n",
       "      <th>509</th>\n",
       "      <td>2232111114</td>\n",
       "      <td>2</td>\n",
       "    </tr>\n",
       "    <tr>\n",
       "      <th>709</th>\n",
       "      <td>3077396270</td>\n",
       "      <td>2</td>\n",
       "    </tr>\n",
       "    <tr>\n",
       "      <th>937</th>\n",
       "      <td>4109358064</td>\n",
       "      <td>2</td>\n",
       "    </tr>\n",
       "    <tr>\n",
       "      <th>650</th>\n",
       "      <td>2837914161</td>\n",
       "      <td>1</td>\n",
       "    </tr>\n",
       "    <tr>\n",
       "      <th>0</th>\n",
       "      <td>5114589</td>\n",
       "      <td>1</td>\n",
       "    </tr>\n",
       "    <tr>\n",
       "      <th>651</th>\n",
       "      <td>2840985286</td>\n",
       "      <td>1</td>\n",
       "    </tr>\n",
       "    <tr>\n",
       "      <th>652</th>\n",
       "      <td>2845785181</td>\n",
       "      <td>1</td>\n",
       "    </tr>\n",
       "    <tr>\n",
       "      <th>653</th>\n",
       "      <td>2846507753</td>\n",
       "      <td>1</td>\n",
       "    </tr>\n",
       "    <tr>\n",
       "      <th>654</th>\n",
       "      <td>2849720983</td>\n",
       "      <td>1</td>\n",
       "    </tr>\n",
       "    <tr>\n",
       "      <th>655</th>\n",
       "      <td>2853587382</td>\n",
       "      <td>1</td>\n",
       "    </tr>\n",
       "    <tr>\n",
       "      <th>656</th>\n",
       "      <td>2868887864</td>\n",
       "      <td>1</td>\n",
       "    </tr>\n",
       "    <tr>\n",
       "      <th>648</th>\n",
       "      <td>2819363575</td>\n",
       "      <td>1</td>\n",
       "    </tr>\n",
       "    <tr>\n",
       "      <th>657</th>\n",
       "      <td>2870367609</td>\n",
       "      <td>1</td>\n",
       "    </tr>\n",
       "    <tr>\n",
       "      <th>658</th>\n",
       "      <td>2871453277</td>\n",
       "      <td>1</td>\n",
       "    </tr>\n",
       "    <tr>\n",
       "      <th>659</th>\n",
       "      <td>2873491771</td>\n",
       "      <td>1</td>\n",
       "    </tr>\n",
       "    <tr>\n",
       "      <th>649</th>\n",
       "      <td>2830871062</td>\n",
       "      <td>1</td>\n",
       "    </tr>\n",
       "    <tr>\n",
       "      <th>642</th>\n",
       "      <td>2785040378</td>\n",
       "      <td>1</td>\n",
       "    </tr>\n",
       "  </tbody>\n",
       "</table>\n",
       "</div>"
      ],
      "text/plain": [
       "         userId  orders\n",
       "908  3967698036  3     \n",
       "55   249864742   3     \n",
       "478  2108163459  3     \n",
       "687  2988190573  3     \n",
       "890  3908431265  3     \n",
       "138  611059232   3     \n",
       "632  2742574263  3     \n",
       "157  678354126   2     \n",
       "323  1404560065  2     \n",
       "452  1985475298  2     \n",
       "118  522292794   2     \n",
       "628  2733145037  2     \n",
       "634  2744017357  2     \n",
       "407  1772171838  2     \n",
       "548  2397843657  2     \n",
       "529  2306096143  2     \n",
       "940  4134830387  2     \n",
       "94   406208401   2     \n",
       "176  759473111   2     \n",
       "476  2096506107  2     \n",
       "780  3332057097  2     \n",
       "459  2025197455  2     \n",
       "897  3935952912  2     \n",
       "792  3379260072  2     \n",
       "787  3362039251  2     \n",
       "664  2892265953  2     \n",
       "901  3941503500  2     \n",
       "82   366673373   2     \n",
       "807  3469608676  2     \n",
       "375  1617417821  2     \n",
       "539  2366521417  2     \n",
       "624  2706377257  2     \n",
       "380  1637811943  2     \n",
       "509  2232111114  2     \n",
       "709  3077396270  2     \n",
       "937  4109358064  2     \n",
       "650  2837914161  1     \n",
       "0    5114589     1     \n",
       "651  2840985286  1     \n",
       "652  2845785181  1     \n",
       "653  2846507753  1     \n",
       "654  2849720983  1     \n",
       "655  2853587382  1     \n",
       "656  2868887864  1     \n",
       "648  2819363575  1     \n",
       "657  2870367609  1     \n",
       "658  2871453277  1     \n",
       "659  2873491771  1     \n",
       "649  2830871062  1     \n",
       "642  2785040378  1     "
      ]
     },
     "metadata": {},
     "output_type": "display_data"
    }
   ],
   "source": [
    "# создадим соответствующий датафрейм\n",
    "orders_by_users = (\n",
    "    orders.groupby('visitorId', as_index=False)\n",
    "    .agg({'transactionId': 'nunique'})\n",
    ")\n",
    "\n",
    "orders_by_users.columns = ['userId', 'orders']\n",
    "\n",
    "display(orders_by_users.sort_values(by='orders', ascending=False).head(50))"
   ]
  },
  {
   "cell_type": "markdown",
   "id": "e38a1a07",
   "metadata": {},
   "source": [
    "Отметим, что есть пользователи и с 8, 9 и даже 11 заказами. Но все это единичные случаи. Даже пользователей с 4 и 5 заказами сравнительно мало. "
   ]
  },
  {
   "cell_type": "markdown",
   "id": "2cc58559",
   "metadata": {},
   "source": [
    "Построим точечный график количества заказов по пользователям"
   ]
  },
  {
   "cell_type": "code",
   "execution_count": 22,
   "id": "1d6eb757",
   "metadata": {},
   "outputs": [
    {
     "data": {
      "image/png": "[encoded data removed]",
      "text/plain": [
       "<Figure size 1224x288 with 1 Axes>"
      ]
     },
     "metadata": {
      "needs_background": "light"
     },
     "output_type": "display_data"
    }
   ],
   "source": [
    "x_values = pd.Series(range(0, len(orders_by_users)))\n",
    "\n",
    "plt.figure(figsize=(17, 4))\n",
    "plt.scatter(x_values, orders_by_users['orders'], alpha=0.6, color='red')\n",
    "plt.grid()\n",
    "plt.title('Количество заказов по пользователям', fontsize=14)\n",
    "plt.ylabel('Количество заказов')\n",
    "plt.show()"
   ]
  },
  {
   "cell_type": "markdown",
   "id": "d64a991b",
   "metadata": {},
   "source": [
    "Диаграмма подтверждает ранее отмеченное. Вот они отдельные пользователи, которые имеют по 5, 8, 9 и даже 11. Наобольшее число пользователем, что вполне естественно с одним, двумя заказами, с тремя уже сильно меньше."
   ]
  },
  {
   "cell_type": "markdown",
   "id": "2cbdf95c",
   "metadata": {},
   "source": [
    "#### 2.6.1 Расчет 95-ого и 99-ого перцентилей количества заказов на пользователя"
   ]
  },
  {
   "cell_type": "markdown",
   "id": "9f3affab",
   "metadata": {},
   "source": [
    "Рассчитаем 95-ый и 99-ый перцентили количества заказов на пользователя"
   ]
  },
  {
   "cell_type": "code",
   "execution_count": 23,
   "id": "ce6d0177",
   "metadata": {},
   "outputs": [
    {
     "name": "stdout",
     "output_type": "stream",
     "text": [
      "[1. 2.]\n"
     ]
    }
   ],
   "source": [
    "print(np.percentile(orders_by_users['orders'], [95, 99]))"
   ]
  },
  {
   "cell_type": "markdown",
   "id": "f90ccaa6",
   "metadata": {},
   "source": [
    "**ВЫВОДЫ**<br>\n",
    "Не более 5% пользователей имеют больше чем 2 заказа и лишь 1% больше чем 4. Видится целесообразным установить верхнюю границу в 2 заказа, и отбросить остальные."
   ]
  },
  {
   "cell_type": "markdown",
   "id": "63e14f95",
   "metadata": {},
   "source": [
    "### 2.7 Стоимость заказов"
   ]
  },
  {
   "cell_type": "markdown",
   "id": "7aa20c56",
   "metadata": {},
   "source": [
    "Построим диаграмму рассеиния стоимости заказов по пользователям."
   ]
  },
  {
   "cell_type": "code",
   "execution_count": 24,
   "id": "f2ae06ef",
   "metadata": {
    "scrolled": false
   },
   "outputs": [
    {
     "data": {
      "image/png": "[encoded data removed]",
      "text/plain": [
       "<Figure size 1080x432 with 1 Axes>"
      ]
     },
     "metadata": {
      "needs_background": "light"
     },
     "output_type": "display_data"
    },
    {
     "data": {
      "image/png": "[encoded data removed]",
      "text/plain": [
       "<Figure size 1080x432 with 1 Axes>"
      ]
     },
     "metadata": {
      "needs_background": "light"
     },
     "output_type": "display_data"
    },
    {
     "data": {
      "text/html": [
       "<div>\n",
       "<style scoped>\n",
       "    .dataframe tbody tr th:only-of-type {\n",
       "        vertical-align: middle;\n",
       "    }\n",
       "\n",
       "    .dataframe tbody tr th {\n",
       "        vertical-align: top;\n",
       "    }\n",
       "\n",
       "    .dataframe thead th {\n",
       "        text-align: right;\n",
       "    }\n",
       "</style>\n",
       "<table border=\"1\" class=\"dataframe\">\n",
       "  <thead>\n",
       "    <tr style=\"text-align: right;\">\n",
       "      <th></th>\n",
       "      <th>revenue</th>\n",
       "      <th>visitorId</th>\n",
       "    </tr>\n",
       "  </thead>\n",
       "  <tbody>\n",
       "    <tr>\n",
       "      <th>425</th>\n",
       "      <td>1294500</td>\n",
       "      <td>1920142716</td>\n",
       "    </tr>\n",
       "    <tr>\n",
       "      <th>1196</th>\n",
       "      <td>202740</td>\n",
       "      <td>2108080724</td>\n",
       "    </tr>\n",
       "    <tr>\n",
       "      <th>1136</th>\n",
       "      <td>92550</td>\n",
       "      <td>1307669133</td>\n",
       "    </tr>\n",
       "    <tr>\n",
       "      <th>744</th>\n",
       "      <td>86620</td>\n",
       "      <td>888512513</td>\n",
       "    </tr>\n",
       "    <tr>\n",
       "      <th>743</th>\n",
       "      <td>67990</td>\n",
       "      <td>4133034833</td>\n",
       "    </tr>\n",
       "    <tr>\n",
       "      <th>1103</th>\n",
       "      <td>66350</td>\n",
       "      <td>1164614297</td>\n",
       "    </tr>\n",
       "    <tr>\n",
       "      <th>1099</th>\n",
       "      <td>65710</td>\n",
       "      <td>148427295</td>\n",
       "    </tr>\n",
       "    <tr>\n",
       "      <th>949</th>\n",
       "      <td>60450</td>\n",
       "      <td>887908475</td>\n",
       "    </tr>\n",
       "    <tr>\n",
       "      <th>940</th>\n",
       "      <td>58550</td>\n",
       "      <td>4003628586</td>\n",
       "    </tr>\n",
       "    <tr>\n",
       "      <th>131</th>\n",
       "      <td>53904</td>\n",
       "      <td>2254586615</td>\n",
       "    </tr>\n",
       "    <tr>\n",
       "      <th>287</th>\n",
       "      <td>53904</td>\n",
       "      <td>2254456485</td>\n",
       "    </tr>\n",
       "    <tr>\n",
       "      <th>613</th>\n",
       "      <td>53904</td>\n",
       "      <td>3931967268</td>\n",
       "    </tr>\n",
       "    <tr>\n",
       "      <th>1006</th>\n",
       "      <td>52900</td>\n",
       "      <td>2261934787</td>\n",
       "    </tr>\n",
       "    <tr>\n",
       "      <th>1142</th>\n",
       "      <td>52900</td>\n",
       "      <td>2606908679</td>\n",
       "    </tr>\n",
       "    <tr>\n",
       "      <th>1137</th>\n",
       "      <td>52480</td>\n",
       "      <td>759473111</td>\n",
       "    </tr>\n",
       "  </tbody>\n",
       "</table>\n",
       "</div>"
      ],
      "text/plain": [
       "      revenue   visitorId\n",
       "425   1294500  1920142716\n",
       "1196  202740   2108080724\n",
       "1136  92550    1307669133\n",
       "744   86620    888512513 \n",
       "743   67990    4133034833\n",
       "1103  66350    1164614297\n",
       "1099  65710    148427295 \n",
       "949   60450    887908475 \n",
       "940   58550    4003628586\n",
       "131   53904    2254586615\n",
       "287   53904    2254456485\n",
       "613   53904    3931967268\n",
       "1006  52900    2261934787\n",
       "1142  52900    2606908679\n",
       "1137  52480    759473111 "
      ]
     },
     "metadata": {},
     "output_type": "display_data"
    }
   ],
   "source": [
    "x_values = pd.Series(range(0,len(orders['revenue'])))\n",
    "plt.figure(figsize=(15, 6))\n",
    "plt.scatter(x_values, orders['revenue'], color= \"skyblue\", alpha=0.6) \n",
    "plt.grid()\n",
    "plt.title('Стоимость заказов пользователей', fontsize=14)\n",
    "plt.ylabel('Стоимость заказа')\n",
    "plt.show()\n",
    "\n",
    "\n",
    "plt.figure(figsize=(15, 6))\n",
    "plt.scatter(x_values, orders['revenue'], color= \"tomato\", alpha=0.6) \n",
    "plt.grid()\n",
    "plt.title('Стоимость заказов пользователей', fontsize=14)\n",
    "plt.ylabel('Стоимость заказа')\n",
    "plt.ylim(0, 50000)\n",
    "plt.show()\n",
    "\n",
    "display(orders[['revenue', 'visitorId']].sort_values(by='revenue', ascending=False).head(15))"
   ]
  },
  {
   "cell_type": "markdown",
   "id": "6aebacf9",
   "metadata": {},
   "source": [
    "Заметим отдельного пользователя оформившего заказ на 1294500 и еще одного с заказом в 202740. Далее отметим, что большинство заказов не дотягивает и до 100тыс. и большая их часть, по грубой оценке сосредоточена между 0 и 50 тыс."
   ]
  },
  {
   "cell_type": "markdown",
   "id": "0df8232d",
   "metadata": {},
   "source": [
    "#### 2.7.1 95-й и 99-й перцентили стоимости заказов"
   ]
  },
  {
   "cell_type": "markdown",
   "id": "667c8682",
   "metadata": {},
   "source": [
    "Рассчитаем 95-ый и 99-ый перцентили стоимости заказов"
   ]
  },
  {
   "cell_type": "code",
   "execution_count": 25,
   "id": "bc14d9a6",
   "metadata": {},
   "outputs": [
    {
     "name": "stdout",
     "output_type": "stream",
     "text": [
      "[26785. 53904.]\n"
     ]
    }
   ],
   "source": [
    "print(np.percentile(orders['revenue'], [95,99]))"
   ]
  },
  {
   "cell_type": "markdown",
   "id": "33e7c113",
   "metadata": {},
   "source": [
    "**ВЫВОДЫ**<br>\n",
    "Заметим, что не более 5% пользователей оформляли заказы на стоимость более 28 тыс, не более 1% на 58 тыс. Представляется разумным установить верхний порог в 28 тыс."
   ]
  },
  {
   "cell_type": "markdown",
   "id": "315b0a07",
   "metadata": {},
   "source": [
    "### 2.8 Проверка гипотез"
   ]
  },
  {
   "cell_type": "markdown",
   "id": "13ff93ad",
   "metadata": {},
   "source": [
    "Сперва рассмотрим различия в конверсии и среднем чеке между группами А и В по сырым данным (мы уже проверили их на дубликаты, но ранее отметили аномальных пользователей и установили соответствующие верхние границы стоимости заказа и количества заказов)."
   ]
  },
  {
   "cell_type": "markdown",
   "id": "b8c00138",
   "metadata": {},
   "source": [
    "#### 2.8.1 Различия в конверсии между группами по «сырым» данным "
   ]
  },
  {
   "cell_type": "markdown",
   "id": "e75ce076",
   "metadata": {},
   "source": [
    "Готово. Теперь можем перейти к созданию соответствующих объектов данных для поверки гипотез "
   ]
  },
  {
   "cell_type": "code",
   "execution_count": 26,
   "id": "7d51ada3",
   "metadata": {},
   "outputs": [
    {
     "data": {
      "text/plain": [
       "11218    0\n",
       "8493     0\n",
       "17018    0\n",
       "4430     0\n",
       "3723     0\n",
       "Name: orders, dtype: int64"
      ]
     },
     "metadata": {},
     "output_type": "display_data"
    },
    {
     "data": {
      "text/plain": [
       "14117    0\n",
       "10584    0\n",
       "8388     0\n",
       "8577     0\n",
       "4129     0\n",
       "Name: orders, dtype: int64"
      ]
     },
     "metadata": {},
     "output_type": "display_data"
    }
   ],
   "source": [
    "# Создадим два `Series` объекта `samp_а` и `samp_b`\n",
    "# в них пользователям из групп A и B будет соответствовать количество заказов (тем, кто ничего не заказал, запишем нули)\n",
    "\n",
    "samp_a = (\n",
    "pd.concat([order_by_us_a['orders'],\n",
    "        pd.Series(0, index=np.arange(visitors[visitors['group'] == 'A']['visitors'].sum() \n",
    "                                     - len(order_by_us_a['orders'])), \n",
    "                  name='orders')], axis=0)\n",
    ")\n",
    "\n",
    "samp_b = (\n",
    "pd.concat([order_by_us_b['orders'],\n",
    "        pd.Series(0, index=np.arange(visitors[visitors['group'] == 'B']['visitors'].sum() \n",
    "                                     - len(order_by_us_b['orders'])), \n",
    "                  name='orders')], axis=0)\n",
    ")\n",
    "\n",
    "display(samp_a.sample(5), samp_b.sample(5))"
   ]
  },
  {
   "cell_type": "markdown",
   "id": "ec5943dd",
   "metadata": {},
   "source": [
    "Используем критерий **Шапиро-Уилк** для проверки распределения на нормальность "
   ]
  },
  {
   "cell_type": "code",
   "execution_count": 27,
   "id": "2952e5bb",
   "metadata": {},
   "outputs": [
    {
     "name": "stdout",
     "output_type": "stream",
     "text": [
      "Statistics=0.133, p-value=0.000\n",
      "Отклонить гипотезу о нормальности распределения количества заказов в группе А\n",
      "Statistics=0.151, p-value=0.000\n",
      "Отклонить гипотезу о нормальности распределения количества заказов в группе B\n"
     ]
    },
    {
     "name": "stderr",
     "output_type": "stream",
     "text": [
      "/opt/conda/lib/python3.9/site-packages/scipy/stats/_morestats.py:1800: UserWarning: p-value may not be accurate for N > 5000.\n",
      "  warnings.warn(\"p-value may not be accurate for N > 5000.\")\n"
     ]
    }
   ],
   "source": [
    "stat, p = scipy.stats.shapiro(samp_a) # тест Шапиро-Уилк\n",
    "print('Statistics=%.3f, p-value=%.3f' % (stat, p))\n",
    "\n",
    "alpha = 0.05\n",
    "if p > alpha:\n",
    "    print('Принять гипотезу о нормальности распределения количества заказов в группе А')\n",
    "else:\n",
    "    print('Отклонить гипотезу о нормальности распределения количества заказов в группе А')\n",
    "    \n",
    "stat, p = scipy.stats.shapiro(samp_b)\n",
    "print('Statistics=%.3f, p-value=%.3f' % (stat, p))\n",
    "\n",
    "alpha = 0.05\n",
    "if p > alpha:\n",
    "    print('Принять гипотезу о нормальности распределения количества заказов в группе B')\n",
    "else:\n",
    "    print('Отклонить гипотезу о нормальности распределения количества заказов в группе B')"
   ]
  },
  {
   "cell_type": "markdown",
   "id": "0d3f9cfe",
   "metadata": {},
   "source": [
    "Выходит, что распределение количества заказов по группам не является нормальным, а значит для проверки гипотез стоит применить непараметрический U-тест Манна-Уитни."
   ]
  },
  {
   "cell_type": "markdown",
   "id": "b027570d",
   "metadata": {},
   "source": [
    "**Сформулируем две гипотезы**\n",
    "\n",
    "Нулевая (Н0) - различий в конверсии между исследуемыми группами по \"сырым\" данным нет\n",
    "\n",
    "Альтернативная (Н1) - различия в конверсии между исследуемыми группами по \"сырым\" данным есть"
   ]
  },
  {
   "cell_type": "code",
   "execution_count": 28,
   "id": "af99fd61",
   "metadata": {},
   "outputs": [
    {
     "name": "stdout",
     "output_type": "stream",
     "text": [
      "0.011\n",
      "0.16\n"
     ]
    }
   ],
   "source": [
    "# расчет стат значимости различии в конверсии по \"сырым\" данным\n",
    "print(\"{0:.3f}\".format(stats.mannwhitneyu(samp_a, samp_b)[1]))\n",
    "\n",
    "# расчет относительного различия в средней конверсии группы В к А\n",
    "print(\"{0:.2f}\".format(samp_b.mean() / samp_a.mean() - 1))"
   ]
  },
  {
   "cell_type": "markdown",
   "id": "2f1a1e79",
   "metadata": {},
   "source": [
    "p-value = 0.011, что меньше 0.05, а значит мы отвергаем нулевую гипотезу, и статистически значимые различия в конверсии между группами по \"сырым\" данным есть. При этом судя по результатам расчета относительного различия в среднем значении конверсии, группа В выигрывает 16% у группы А."
   ]
  },
  {
   "cell_type": "markdown",
   "id": "2813a1f7",
   "metadata": {},
   "source": [
    "#### 2.8.2 Различия в среднем чеке между группами по «сырым» данным "
   ]
  },
  {
   "cell_type": "markdown",
   "id": "0fd70c01",
   "metadata": {},
   "source": [
    "Используем аналогично предыдущему пункту U-тест Манна-Уитни\n",
    "\n",
    "**Сформулируем две гипотезы**\n",
    "\n",
    "Нулевая (Н0) - различий в среднем чеке между исследуемыми группами по \"сырым\" данным нет\n",
    "\n",
    "Альтернативная (Н1) - различия в среднем чеке между исследуемыми группами по \"сырым\" данным есть"
   ]
  },
  {
   "cell_type": "code",
   "execution_count": 29,
   "id": "c57bbda9",
   "metadata": {},
   "outputs": [
    {
     "name": "stdout",
     "output_type": "stream",
     "text": [
      "0.829\n",
      "0.29\n"
     ]
    }
   ],
   "source": [
    "# статистическая значимость различий в среднем чеке заказа между группами по «сырым» данным\n",
    "print('{0:.3f}'.format(stats.mannwhitneyu(orders[orders['group']=='A']['revenue'], orders[orders['group']=='B']['revenue'])[1]))\n",
    "print('{0:.2f}'.format(orders[orders['group']=='B']['revenue'].mean()/orders[orders['group']=='A']['revenue'].mean()-1))"
   ]
  },
  {
   "cell_type": "markdown",
   "id": "d4cde15a",
   "metadata": {},
   "source": [
    "p-value = 0.829, что значительно превышает 0.05, а значит мы не можем отвергать нулевую гипотезу, и статистически значимых различий в среднем чеке между группами по \"сырым\" данным нет. При этом судя по результатам расчета относительного различия в среднего среди средних чеков, группа В выигрывает 29% у группы А."
   ]
  },
  {
   "cell_type": "markdown",
   "id": "fad8fc32",
   "metadata": {},
   "source": [
    "#### 2.8.3 Различия в коверсии между группами по «очищенным» данным "
   ]
  },
  {
   "cell_type": "markdown",
   "id": "bc97b614",
   "metadata": {},
   "source": [
    "Ранее нами были установлены верхние границы количества заказов и стоимости заказов. А также выдвинуто предположение о том, что в данных А/В теста могут присутствовать пользователи одновременно попавшие и в группу А и в группу В. "
   ]
  },
  {
   "cell_type": "markdown",
   "id": "fa82a020",
   "metadata": {},
   "source": [
    "Готово. Теперь в order_by_us_a и order_by_us_b данные пользователей, которые изначально были только в одной из групп А или В.\n",
    "\n",
    "Далее, очистим данные от пользователей не попавших в пределы установленные ранее по количеству и стоимости заказов."
   ]
  },
  {
   "cell_type": "code",
   "execution_count": 30,
   "id": "21484486",
   "metadata": {
    "scrolled": true
   },
   "outputs": [
    {
     "name": "stdout",
     "output_type": "stream",
     "text": [
      "Количество пользователей с числом заказов и/или стоимостью заказов выше верхней границы: 55\n"
     ]
    }
   ],
   "source": [
    "usersWithManyOrders = pd.concat(\n",
    "    [\n",
    "        order_by_us_a[order_by_us_a['orders'] >= 3]['userId'],\n",
    "        order_by_us_b[order_by_us_b['orders'] >= 3]['userId'],\n",
    "    ],\n",
    "    axis=0,\n",
    ")\n",
    "usersWithExpensiveOrders = orders[orders['revenue'] > 28000]['visitorId']\n",
    "abnormalUsers = (\n",
    "    pd.concat([usersWithManyOrders, usersWithExpensiveOrders], axis=0)\n",
    "    .drop_duplicates()\n",
    "    .sort_values()\n",
    ")\n",
    "print('Количество пользователей с числом заказов и/или стоимостью заказов выше верхней границы:', abnormalUsers.shape[0])\n",
    "\n",
    "# фильтруем данные\n",
    "f_samp_a = (\n",
    "pd.concat([order_by_us_a[np.logical_not(order_by_us_a['userId'].isin(abnormalUsers))]['orders'],\n",
    "        pd.Series(0, index=np.arange(visitors[visitors['group'] == 'A']['visitors'].sum() \n",
    "                                     - len(order_by_us_a['orders'])), name='orders')], axis=0)\n",
    ")\n",
    "\n",
    "f_samp_b = (\n",
    "pd.concat([order_by_us_b[np.logical_not(order_by_us_b['userId'].isin(abnormalUsers))]['orders'],\n",
    "        pd.Series(0, index=np.arange(visitors[visitors['group'] == 'B']['visitors'].sum() \n",
    "                                     - len(order_by_us_b['orders'])), name='orders')], axis=0)\n",
    ")"
   ]
  },
  {
   "cell_type": "markdown",
   "id": "110c824a",
   "metadata": {},
   "source": [
    "Теперь можем заняться проверкой гипотез располагая уже \"очищенными\" данными. \n",
    "\n",
    "Нулевая (Н0) - различий в конверсии между исследуемыми группами по \"очищенным\" данным нет<br>\n",
    "Альтернативная (Н1) - различия в конверсии между исследуемыми группами по \"очищенным\" данным есть"
   ]
  },
  {
   "cell_type": "code",
   "execution_count": 31,
   "id": "3b069284",
   "metadata": {},
   "outputs": [
    {
     "name": "stdout",
     "output_type": "stream",
     "text": [
      "0.009\n",
      "0.19\n"
     ]
    }
   ],
   "source": [
    "print(\"{0:.3f}\".format(stats.mannwhitneyu(f_samp_a, f_samp_b)[1]))\n",
    "print(\"{0:.2f}\".format(f_samp_b.mean() / f_samp_a.mean() - 1))"
   ]
  },
  {
   "cell_type": "markdown",
   "id": "bca270f3",
   "metadata": {},
   "source": [
    "p-value = 0.009, что меньше 0.05, а значит мы отвергаем нулевую гипотезу, и статистически значимые различия в конверсии между группами по \"сырым\" данным есть. При этом судя по результатам расчета относительного различия в среднем значении конверсии, группа В выигрывает 19% у группы А. Отметим, что после очистки данных p-value уменьшился с 0.011 до 0.09, а относительное различие увеличилось с 16% до 19%. Но в целом результаты прежние."
   ]
  },
  {
   "cell_type": "markdown",
   "id": "941931cd",
   "metadata": {},
   "source": [
    "#### 2.8.4 Различия в среднем чеке между группами по «очищенным» данным"
   ]
  },
  {
   "cell_type": "markdown",
   "id": "98cbe1e4",
   "metadata": {},
   "source": [
    "**Сформулируем две гипотезы**\n",
    "\n",
    "Нулевая (Н0) - различий в среднем чеке между исследуемыми группами по \"очищенным\" данным нет\n",
    "\n",
    "Альтернативная (Н1) - различия в среднем чеке между исследуемыми группами по \"очищенным\" данным есть"
   ]
  },
  {
   "cell_type": "code",
   "execution_count": 32,
   "id": "e600e444",
   "metadata": {},
   "outputs": [
    {
     "name": "stdout",
     "output_type": "stream",
     "text": [
      "0.762\n",
      "-0.02\n"
     ]
    }
   ],
   "source": [
    "# статистическая значимость различий в среднем чеке заказа между группами по «очищенным» данным\n",
    "\n",
    "print('{0:.3f}'.format(stats.mannwhitneyu(orders[np.logical_and(orders['group'] == 'A', \n",
    "      np.logical_not(orders['visitorId'].isin(abnormalUsers)))]['revenue'],\n",
    "          orders[np.logical_and(orders['group'] == 'B', np.logical_not(orders['visitorId']\n",
    "            .isin(abnormalUsers)))]['revenue'])[1]))\n",
    "\n",
    "# относительный прирост среднего чека очищенной группы B к А \n",
    "print(\"{0:.2f}\".format(orders[np.logical_and(orders['group'] == 'B',\n",
    "     np.logical_not(orders['visitorId'].isin(abnormalUsers)))]['revenue'].mean()\n",
    "        / orders[np.logical_and(orders['group'] == 'A',np.logical_not(orders['visitorId']\n",
    "            .isin(abnormalUsers)))]['revenue'].mean() - 1))"
   ]
  },
  {
   "cell_type": "markdown",
   "id": "da6efec8",
   "metadata": {},
   "source": [
    "p-value = 0.762, что значительно превышает 0.05, а значит мы не можем отвергать нулевую гипотезу, и статистически значимых различий в среднем чеке между группами по \"очищенным\" данным нет. При этом судя по результатам расчета относительного различия в среднего среди средних чеков, группа В проигрывает 2% группе А. В сравнении с результатами по \"сырым\" данным p-value упал на 0.067, а относительное различие упало на 31% и стало в пользу А (хотя различие в 2% мало информативно). Не считая относительного различия, основные выводы снова не изменились."
   ]
  },
  {
   "cell_type": "markdown",
   "id": "df491950",
   "metadata": {},
   "source": [
    "## 3. Итого исследования"
   ]
  },
  {
   "cell_type": "markdown",
   "id": "cceaebd2",
   "metadata": {},
   "source": [
    "### 3.1 Итоги приоритизации гипотез"
   ]
  },
  {
   "cell_type": "markdown",
   "id": "8f3c4d8b",
   "metadata": {},
   "source": [
    "Приоритизировали гипотезы при помощи ICE и RICE с параметрами Reach, Impact, Confidence и Efforts, которые были распределены между гипотезами по десятибальной шкале.\n",
    "\n",
    "В топ-3 по **\"версии ICE\"** вошли **8, 0, 7**. Здесь мы не учитывали Reach - охват пользователей.\n",
    "\n",
    "В топ-3 по **\"версии RICE\"** попали гипотезы под номерами **7, 2, 6 и 0**. Получено с учетом Reach."
   ]
  },
  {
   "cell_type": "markdown",
   "id": "b4c71407",
   "metadata": {},
   "source": [
    "### 3.2 Итого анализа А/В теста"
   ]
  },
  {
   "cell_type": "markdown",
   "id": "ad82034c",
   "metadata": {},
   "source": [
    "Мы провели анализ результатов А/В теста и вот что получили:\n",
    "\n",
    "* Кумулятивная выручка в группе В выше чем в А, и в перспективе тенденция должна сохраняться (убедились на графике)\n",
    "* Кумулятивный средний чек больше в группе В чем в А, и несмотря на небольшой спад за последние две недели, сохраняется ощутимый разрыв между В и А (следует из графика), что также подтверждает график относительного изменения кумулятивного среднего чека.\n",
    "* Кумулятивная конверсия группы В превосходит А, видим тенденцию на сохранение этого тренда (из графика), и подтверждается графиком относительного изменения кумулятивной конверсии, на котором группа В уверенно лидирует с 15% преимуществом.\n",
    "* Есть статистически значимое различие в конверсии между группами А и В, но нет статистически значимого различия в среднем чеке.\n",
    "\n",
    "Учитывая перечисленное выше, рекомендуем **остановить тест и признать победу группы В над группой А**. Изменения, которые внесли в продукт могут способствовать повышению выручки и конверсии пользователей, что в свою очередь может принести дополнительную прибыль интернет-магазину."
   ]
  }
 ],
 "metadata": {
  "ExecuteTimeLog": [
   {
    "duration": 1302,
    "start_time": "2022-09-27T13:36:17.627Z"
   },
   {
    "duration": 153,
    "start_time": "2022-09-27T13:36:18.931Z"
   },
   {
    "duration": 5,
    "start_time": "2022-09-27T13:36:19.087Z"
   },
   {
    "duration": 12,
    "start_time": "2022-09-27T13:36:19.094Z"
   },
   {
    "duration": 208,
    "start_time": "2022-09-27T13:36:19.110Z"
   },
   {
    "duration": 179,
    "start_time": "2022-09-27T13:36:19.321Z"
   },
   {
    "duration": 12,
    "start_time": "2022-09-27T13:36:19.501Z"
   },
   {
    "duration": 181,
    "start_time": "2022-09-27T13:36:19.514Z"
   },
   {
    "duration": 7,
    "start_time": "2022-09-27T13:36:19.697Z"
   },
   {
    "duration": 22,
    "start_time": "2022-09-27T13:36:19.705Z"
   },
   {
    "duration": 12,
    "start_time": "2022-09-27T13:36:19.728Z"
   },
   {
    "duration": 295,
    "start_time": "2022-09-27T13:36:19.742Z"
   },
   {
    "duration": 284,
    "start_time": "2022-09-27T13:36:20.039Z"
   },
   {
    "duration": 218,
    "start_time": "2022-09-27T13:36:20.326Z"
   },
   {
    "duration": 368,
    "start_time": "2022-09-27T13:36:20.546Z"
   },
   {
    "duration": 225,
    "start_time": "2022-09-27T13:36:20.916Z"
   },
   {
    "duration": 323,
    "start_time": "2022-09-27T13:36:21.143Z"
   },
   {
    "duration": 16,
    "start_time": "2022-09-27T13:36:21.468Z"
   },
   {
    "duration": 198,
    "start_time": "2022-09-27T13:36:21.487Z"
   },
   {
    "duration": 5,
    "start_time": "2022-09-27T13:36:21.688Z"
   },
   {
    "duration": 174,
    "start_time": "2022-09-27T13:36:21.695Z"
   },
   {
    "duration": 6,
    "start_time": "2022-09-27T13:36:21.871Z"
   },
   {
    "duration": 167,
    "start_time": "2022-09-27T13:36:21.879Z"
   },
   {
    "duration": 111,
    "start_time": "2022-09-27T13:36:22.055Z"
   },
   {
    "duration": 8,
    "start_time": "2022-09-27T13:36:22.169Z"
   },
   {
    "duration": 29,
    "start_time": "2022-09-27T13:36:22.179Z"
   },
   {
    "duration": 11,
    "start_time": "2022-09-27T13:36:22.210Z"
   },
   {
    "duration": 37,
    "start_time": "2022-09-27T13:36:22.222Z"
   },
   {
    "duration": 6,
    "start_time": "2022-09-27T13:36:22.261Z"
   },
   {
    "duration": 16,
    "start_time": "2022-09-27T13:36:22.269Z"
   },
   {
    "duration": 32,
    "start_time": "2022-09-27T13:36:22.287Z"
   },
   {
    "duration": 41,
    "start_time": "2022-09-27T13:36:22.321Z"
   },
   {
    "duration": 1025,
    "start_time": "2022-09-27T14:35:09.405Z"
   },
   {
    "duration": 166,
    "start_time": "2022-09-27T14:35:10.432Z"
   },
   {
    "duration": 6,
    "start_time": "2022-09-27T14:35:10.599Z"
   },
   {
    "duration": 10,
    "start_time": "2022-09-27T14:35:10.606Z"
   },
   {
    "duration": 198,
    "start_time": "2022-09-27T14:35:10.618Z"
   },
   {
    "duration": 183,
    "start_time": "2022-09-27T14:35:10.818Z"
   },
   {
    "duration": 13,
    "start_time": "2022-09-27T14:35:11.003Z"
   },
   {
    "duration": 92,
    "start_time": "2022-09-27T14:35:11.017Z"
   },
   {
    "duration": 7,
    "start_time": "2022-09-27T14:35:11.111Z"
   },
   {
    "duration": 20,
    "start_time": "2022-09-27T14:35:11.120Z"
   },
   {
    "duration": 7,
    "start_time": "2022-09-27T14:35:11.142Z"
   },
   {
    "duration": 329,
    "start_time": "2022-09-27T14:35:11.151Z"
   },
   {
    "duration": 362,
    "start_time": "2022-09-27T14:35:11.482Z"
   },
   {
    "duration": 234,
    "start_time": "2022-09-27T14:35:11.847Z"
   },
   {
    "duration": 311,
    "start_time": "2022-09-27T14:35:12.084Z"
   },
   {
    "duration": 241,
    "start_time": "2022-09-27T14:35:12.397Z"
   },
   {
    "duration": 316,
    "start_time": "2022-09-27T14:35:12.640Z"
   },
   {
    "duration": 14,
    "start_time": "2022-09-27T14:35:12.958Z"
   },
   {
    "duration": 154,
    "start_time": "2022-09-27T14:35:12.974Z"
   },
   {
    "duration": 5,
    "start_time": "2022-09-27T14:35:13.129Z"
   },
   {
    "duration": 176,
    "start_time": "2022-09-27T14:35:13.136Z"
   },
   {
    "duration": 5,
    "start_time": "2022-09-27T14:35:13.314Z"
   },
   {
    "duration": 188,
    "start_time": "2022-09-27T14:35:13.321Z"
   },
   {
    "duration": 132,
    "start_time": "2022-09-27T14:35:13.511Z"
   },
   {
    "duration": 10,
    "start_time": "2022-09-27T14:35:13.653Z"
   },
   {
    "duration": 35,
    "start_time": "2022-09-27T14:35:13.665Z"
   },
   {
    "duration": 15,
    "start_time": "2022-09-27T14:35:13.702Z"
   },
   {
    "duration": 35,
    "start_time": "2022-09-27T14:35:13.719Z"
   },
   {
    "duration": 13,
    "start_time": "2022-09-27T14:35:13.756Z"
   },
   {
    "duration": 24,
    "start_time": "2022-09-27T14:35:13.771Z"
   },
   {
    "duration": 34,
    "start_time": "2022-09-27T14:35:13.798Z"
   },
   {
    "duration": 20,
    "start_time": "2022-09-27T14:35:13.834Z"
   },
   {
    "duration": 72,
    "start_time": "2022-09-27T14:50:30.288Z"
   },
   {
    "duration": 6,
    "start_time": "2022-09-27T14:55:02.614Z"
   },
   {
    "duration": 1188,
    "start_time": "2022-09-27T14:55:17.122Z"
   },
   {
    "duration": 180,
    "start_time": "2022-09-27T14:55:18.313Z"
   },
   {
    "duration": 4,
    "start_time": "2022-09-27T14:55:18.495Z"
   },
   {
    "duration": 6,
    "start_time": "2022-09-27T14:55:18.501Z"
   },
   {
    "duration": 186,
    "start_time": "2022-09-27T14:55:18.508Z"
   },
   {
    "duration": 170,
    "start_time": "2022-09-27T14:55:18.696Z"
   },
   {
    "duration": 11,
    "start_time": "2022-09-27T14:55:18.868Z"
   },
   {
    "duration": 174,
    "start_time": "2022-09-27T14:55:18.890Z"
   },
   {
    "duration": 7,
    "start_time": "2022-09-27T14:55:19.066Z"
   },
   {
    "duration": 18,
    "start_time": "2022-09-27T14:55:19.075Z"
   },
   {
    "duration": 5,
    "start_time": "2022-09-27T14:55:19.095Z"
   },
   {
    "duration": 155,
    "start_time": "2022-09-27T14:55:19.101Z"
   },
   {
    "duration": 13,
    "start_time": "2022-09-27T14:55:19.258Z"
   },
   {
    "duration": 5,
    "start_time": "2022-09-27T14:55:25.433Z"
   },
   {
    "duration": 7,
    "start_time": "2022-09-27T14:55:36.543Z"
   },
   {
    "duration": 8,
    "start_time": "2022-09-27T14:57:13.573Z"
   },
   {
    "duration": 71,
    "start_time": "2022-09-27T14:58:01.754Z"
   },
   {
    "duration": 91,
    "start_time": "2022-09-27T14:58:14.760Z"
   },
   {
    "duration": 72,
    "start_time": "2022-09-27T14:58:32.703Z"
   },
   {
    "duration": 237,
    "start_time": "2022-09-27T15:02:34.161Z"
   },
   {
    "duration": 141,
    "start_time": "2022-09-27T15:02:42.419Z"
   },
   {
    "duration": 173,
    "start_time": "2022-09-27T15:03:03.331Z"
   },
   {
    "duration": 78,
    "start_time": "2022-09-27T15:03:15.552Z"
   },
   {
    "duration": 152,
    "start_time": "2022-09-27T15:03:20.200Z"
   },
   {
    "duration": 150,
    "start_time": "2022-09-27T15:03:31.409Z"
   },
   {
    "duration": 151,
    "start_time": "2022-09-27T15:03:51.959Z"
   },
   {
    "duration": 151,
    "start_time": "2022-09-27T15:04:11.970Z"
   },
   {
    "duration": 243,
    "start_time": "2022-09-27T15:05:37.905Z"
   },
   {
    "duration": 217,
    "start_time": "2022-09-27T15:05:49.814Z"
   },
   {
    "duration": 177,
    "start_time": "2022-09-27T15:05:57.583Z"
   },
   {
    "duration": 158,
    "start_time": "2022-09-27T15:06:13.333Z"
   },
   {
    "duration": 327,
    "start_time": "2022-09-27T15:07:13.327Z"
   },
   {
    "duration": 293,
    "start_time": "2022-09-27T15:07:33.231Z"
   },
   {
    "duration": 88,
    "start_time": "2022-09-27T15:08:02.243Z"
   },
   {
    "duration": 272,
    "start_time": "2022-09-27T15:08:07.879Z"
   },
   {
    "duration": 258,
    "start_time": "2022-09-27T15:08:17.400Z"
   },
   {
    "duration": 398,
    "start_time": "2022-09-27T15:08:54.863Z"
   },
   {
    "duration": 316,
    "start_time": "2022-09-27T15:09:06.059Z"
   },
   {
    "duration": 125,
    "start_time": "2022-09-27T15:09:13.772Z"
   },
   {
    "duration": 118,
    "start_time": "2022-09-27T15:09:26.569Z"
   },
   {
    "duration": 295,
    "start_time": "2022-09-27T15:09:34.037Z"
   },
   {
    "duration": 119,
    "start_time": "2022-09-27T15:09:48.881Z"
   },
   {
    "duration": 132,
    "start_time": "2022-09-27T15:10:00.710Z"
   },
   {
    "duration": 322,
    "start_time": "2022-09-27T15:10:06.090Z"
   },
   {
    "duration": 396,
    "start_time": "2022-09-27T15:10:23.494Z"
   },
   {
    "duration": 10,
    "start_time": "2022-09-27T15:10:56.284Z"
   },
   {
    "duration": 13,
    "start_time": "2022-09-27T15:11:07.788Z"
   },
   {
    "duration": 174,
    "start_time": "2022-09-27T15:11:10.230Z"
   },
   {
    "duration": 162,
    "start_time": "2022-09-27T15:11:49.076Z"
   },
   {
    "duration": 170,
    "start_time": "2022-09-27T15:11:56.196Z"
   },
   {
    "duration": 167,
    "start_time": "2022-09-27T15:12:10.558Z"
   },
   {
    "duration": 180,
    "start_time": "2022-09-27T15:12:20.701Z"
   },
   {
    "duration": 10,
    "start_time": "2022-09-27T15:12:34.118Z"
   },
   {
    "duration": 1007,
    "start_time": "2022-09-27T15:13:18.923Z"
   },
   {
    "duration": 136,
    "start_time": "2022-09-27T15:13:19.932Z"
   },
   {
    "duration": 5,
    "start_time": "2022-09-27T15:13:20.070Z"
   },
   {
    "duration": 16,
    "start_time": "2022-09-27T15:13:20.077Z"
   },
   {
    "duration": 185,
    "start_time": "2022-09-27T15:13:20.095Z"
   },
   {
    "duration": 166,
    "start_time": "2022-09-27T15:13:20.282Z"
   },
   {
    "duration": 10,
    "start_time": "2022-09-27T15:13:20.450Z"
   },
   {
    "duration": 100,
    "start_time": "2022-09-27T15:13:20.461Z"
   },
   {
    "duration": 6,
    "start_time": "2022-09-27T15:13:20.563Z"
   },
   {
    "duration": 17,
    "start_time": "2022-09-27T15:13:20.572Z"
   },
   {
    "duration": 5,
    "start_time": "2022-09-27T15:13:20.591Z"
   },
   {
    "duration": 176,
    "start_time": "2022-09-27T15:13:20.597Z"
   },
   {
    "duration": 21,
    "start_time": "2022-09-27T15:13:20.775Z"
   },
   {
    "duration": 29,
    "start_time": "2022-09-27T15:13:20.798Z"
   },
   {
    "duration": 295,
    "start_time": "2022-09-27T15:13:20.829Z"
   },
   {
    "duration": 312,
    "start_time": "2022-09-27T15:13:21.126Z"
   },
   {
    "duration": 235,
    "start_time": "2022-09-27T15:13:21.440Z"
   },
   {
    "duration": 366,
    "start_time": "2022-09-27T15:13:21.677Z"
   },
   {
    "duration": 247,
    "start_time": "2022-09-27T15:13:22.045Z"
   },
   {
    "duration": 310,
    "start_time": "2022-09-27T15:13:22.294Z"
   },
   {
    "duration": 14,
    "start_time": "2022-09-27T15:13:22.606Z"
   },
   {
    "duration": 181,
    "start_time": "2022-09-27T15:13:22.621Z"
   },
   {
    "duration": 5,
    "start_time": "2022-09-27T15:13:22.804Z"
   },
   {
    "duration": 438,
    "start_time": "2022-09-27T15:13:22.810Z"
   },
   {
    "duration": 4,
    "start_time": "2022-09-27T15:13:23.249Z"
   },
   {
    "duration": 18,
    "start_time": "2022-09-27T15:13:23.255Z"
   },
   {
    "duration": 20,
    "start_time": "2022-09-27T15:13:23.274Z"
   },
   {
    "duration": 27,
    "start_time": "2022-09-27T15:13:23.298Z"
   },
   {
    "duration": 10,
    "start_time": "2022-09-27T15:13:23.326Z"
   },
   {
    "duration": 15,
    "start_time": "2022-09-27T15:13:23.337Z"
   },
   {
    "duration": 56,
    "start_time": "2022-09-27T15:13:23.353Z"
   },
   {
    "duration": 12,
    "start_time": "2022-09-27T15:13:23.411Z"
   },
   {
    "duration": 102,
    "start_time": "2022-09-27T15:19:43.025Z"
   },
   {
    "duration": 4026,
    "start_time": "2022-09-27T15:20:07.110Z"
   },
   {
    "duration": 266,
    "start_time": "2022-09-27T15:20:13.028Z"
   },
   {
    "duration": 213,
    "start_time": "2022-09-27T15:20:16.489Z"
   },
   {
    "duration": 247,
    "start_time": "2022-09-27T15:20:23.370Z"
   },
   {
    "duration": 1447,
    "start_time": "2022-09-27T15:20:48.303Z"
   },
   {
    "duration": 8,
    "start_time": "2022-09-27T15:21:30.101Z"
   },
   {
    "duration": 1214,
    "start_time": "2022-09-27T15:21:38.969Z"
   },
   {
    "duration": 137,
    "start_time": "2022-09-27T15:21:40.186Z"
   },
   {
    "duration": 5,
    "start_time": "2022-09-27T15:21:40.325Z"
   },
   {
    "duration": 7,
    "start_time": "2022-09-27T15:21:40.332Z"
   },
   {
    "duration": 181,
    "start_time": "2022-09-27T15:21:40.340Z"
   },
   {
    "duration": 174,
    "start_time": "2022-09-27T15:21:40.522Z"
   },
   {
    "duration": 11,
    "start_time": "2022-09-27T15:21:40.698Z"
   },
   {
    "duration": 141,
    "start_time": "2022-09-27T15:21:40.711Z"
   },
   {
    "duration": 7,
    "start_time": "2022-09-27T15:21:40.854Z"
   },
   {
    "duration": 17,
    "start_time": "2022-09-27T15:21:40.863Z"
   },
   {
    "duration": 6,
    "start_time": "2022-09-27T15:21:40.882Z"
   },
   {
    "duration": 151,
    "start_time": "2022-09-27T15:21:40.889Z"
   },
   {
    "duration": 12,
    "start_time": "2022-09-27T15:21:41.041Z"
   },
   {
    "duration": 25,
    "start_time": "2022-09-27T15:21:41.055Z"
   },
   {
    "duration": 285,
    "start_time": "2022-09-27T15:21:41.081Z"
   },
   {
    "duration": 321,
    "start_time": "2022-09-27T15:21:41.368Z"
   },
   {
    "duration": 291,
    "start_time": "2022-09-27T15:21:41.691Z"
   },
   {
    "duration": 336,
    "start_time": "2022-09-27T15:21:41.985Z"
   },
   {
    "duration": 237,
    "start_time": "2022-09-27T15:21:42.323Z"
   },
   {
    "duration": 347,
    "start_time": "2022-09-27T15:21:42.562Z"
   },
   {
    "duration": 13,
    "start_time": "2022-09-27T15:21:42.911Z"
   },
   {
    "duration": 183,
    "start_time": "2022-09-27T15:21:42.925Z"
   },
   {
    "duration": 4,
    "start_time": "2022-09-27T15:21:43.110Z"
   },
   {
    "duration": 431,
    "start_time": "2022-09-27T15:21:43.115Z"
   },
   {
    "duration": 5,
    "start_time": "2022-09-27T15:21:43.547Z"
   },
   {
    "duration": 22,
    "start_time": "2022-09-27T15:21:43.553Z"
   },
   {
    "duration": 17,
    "start_time": "2022-09-27T15:21:43.577Z"
   },
   {
    "duration": 24,
    "start_time": "2022-09-27T15:21:43.597Z"
   },
   {
    "duration": 10,
    "start_time": "2022-09-27T15:21:43.622Z"
   },
   {
    "duration": 14,
    "start_time": "2022-09-27T15:21:43.634Z"
   },
   {
    "duration": 58,
    "start_time": "2022-09-27T15:21:43.649Z"
   },
   {
    "duration": 12,
    "start_time": "2022-09-27T15:21:43.709Z"
   },
   {
    "duration": 1001,
    "start_time": "2022-09-27T15:28:04.848Z"
   },
   {
    "duration": 126,
    "start_time": "2022-09-27T15:28:05.851Z"
   },
   {
    "duration": 4,
    "start_time": "2022-09-27T15:28:05.979Z"
   },
   {
    "duration": 15,
    "start_time": "2022-09-27T15:28:05.985Z"
   },
   {
    "duration": 211,
    "start_time": "2022-09-27T15:28:06.002Z"
   },
   {
    "duration": 170,
    "start_time": "2022-09-27T15:28:06.215Z"
   },
   {
    "duration": 11,
    "start_time": "2022-09-27T15:28:06.388Z"
   },
   {
    "duration": 97,
    "start_time": "2022-09-27T15:28:06.401Z"
   },
   {
    "duration": 7,
    "start_time": "2022-09-27T15:28:06.500Z"
   },
   {
    "duration": 18,
    "start_time": "2022-09-27T15:28:06.511Z"
   },
   {
    "duration": 9,
    "start_time": "2022-09-27T15:28:06.530Z"
   },
   {
    "duration": 160,
    "start_time": "2022-09-27T15:28:06.540Z"
   },
   {
    "duration": 14,
    "start_time": "2022-09-27T15:28:06.702Z"
   },
   {
    "duration": 20,
    "start_time": "2022-09-27T15:28:06.718Z"
   },
   {
    "duration": 293,
    "start_time": "2022-09-27T15:28:06.740Z"
   },
   {
    "duration": 325,
    "start_time": "2022-09-27T15:28:07.035Z"
   },
   {
    "duration": 250,
    "start_time": "2022-09-27T15:28:07.362Z"
   },
   {
    "duration": 315,
    "start_time": "2022-09-27T15:28:07.614Z"
   },
   {
    "duration": 256,
    "start_time": "2022-09-27T15:28:07.931Z"
   },
   {
    "duration": 341,
    "start_time": "2022-09-27T15:28:08.189Z"
   },
   {
    "duration": 16,
    "start_time": "2022-09-27T15:28:08.532Z"
   },
   {
    "duration": 193,
    "start_time": "2022-09-27T15:28:08.551Z"
   },
   {
    "duration": 4,
    "start_time": "2022-09-27T15:28:08.746Z"
   },
   {
    "duration": 464,
    "start_time": "2022-09-27T15:28:08.752Z"
   },
   {
    "duration": 4,
    "start_time": "2022-09-27T15:28:09.218Z"
   },
   {
    "duration": 14,
    "start_time": "2022-09-27T15:28:09.224Z"
   },
   {
    "duration": 10,
    "start_time": "2022-09-27T15:28:09.240Z"
   },
   {
    "duration": 59,
    "start_time": "2022-09-27T15:28:09.252Z"
   },
   {
    "duration": 12,
    "start_time": "2022-09-27T15:28:09.312Z"
   },
   {
    "duration": 14,
    "start_time": "2022-09-27T15:28:09.326Z"
   },
   {
    "duration": 48,
    "start_time": "2022-09-27T15:28:09.342Z"
   },
   {
    "duration": 15,
    "start_time": "2022-09-27T15:28:09.392Z"
   },
   {
    "duration": 1132,
    "start_time": "2022-09-28T07:14:50.478Z"
   },
   {
    "duration": 185,
    "start_time": "2022-09-28T07:14:51.613Z"
   },
   {
    "duration": 5,
    "start_time": "2022-09-28T07:14:51.800Z"
   },
   {
    "duration": 12,
    "start_time": "2022-09-28T07:14:51.808Z"
   },
   {
    "duration": 199,
    "start_time": "2022-09-28T07:14:51.822Z"
   },
   {
    "duration": 164,
    "start_time": "2022-09-28T07:14:52.023Z"
   },
   {
    "duration": 11,
    "start_time": "2022-09-28T07:14:52.189Z"
   },
   {
    "duration": 178,
    "start_time": "2022-09-28T07:14:52.201Z"
   },
   {
    "duration": 7,
    "start_time": "2022-09-28T07:14:52.381Z"
   },
   {
    "duration": 20,
    "start_time": "2022-09-28T07:14:52.391Z"
   },
   {
    "duration": 5,
    "start_time": "2022-09-28T07:14:52.413Z"
   },
   {
    "duration": 166,
    "start_time": "2022-09-28T07:14:52.420Z"
   },
   {
    "duration": 12,
    "start_time": "2022-09-28T07:14:52.588Z"
   },
   {
    "duration": 21,
    "start_time": "2022-09-28T07:14:52.602Z"
   },
   {
    "duration": 299,
    "start_time": "2022-09-28T07:14:52.625Z"
   },
   {
    "duration": 305,
    "start_time": "2022-09-28T07:14:52.925Z"
   },
   {
    "duration": 231,
    "start_time": "2022-09-28T07:14:53.232Z"
   },
   {
    "duration": 294,
    "start_time": "2022-09-28T07:14:53.465Z"
   },
   {
    "duration": 214,
    "start_time": "2022-09-28T07:14:53.760Z"
   },
   {
    "duration": 263,
    "start_time": "2022-09-28T07:14:53.976Z"
   },
   {
    "duration": 11,
    "start_time": "2022-09-28T07:14:54.240Z"
   },
   {
    "duration": 160,
    "start_time": "2022-09-28T07:14:54.253Z"
   },
   {
    "duration": 8,
    "start_time": "2022-09-28T07:14:54.415Z"
   },
   {
    "duration": 359,
    "start_time": "2022-09-28T07:14:54.424Z"
   },
   {
    "duration": 4,
    "start_time": "2022-09-28T07:14:54.785Z"
   },
   {
    "duration": 16,
    "start_time": "2022-09-28T07:14:54.790Z"
   },
   {
    "duration": 7,
    "start_time": "2022-09-28T07:14:54.821Z"
   },
   {
    "duration": 19,
    "start_time": "2022-09-28T07:14:54.831Z"
   },
   {
    "duration": 8,
    "start_time": "2022-09-28T07:14:54.852Z"
   },
   {
    "duration": 19,
    "start_time": "2022-09-28T07:14:54.862Z"
   },
   {
    "duration": 67,
    "start_time": "2022-09-28T07:14:54.883Z"
   },
   {
    "duration": 12,
    "start_time": "2022-09-28T07:14:54.952Z"
   }
  ],
  "kernelspec": {
   "display_name": "Python 3 (ipykernel)",
   "language": "python",
   "name": "python3"
  },
  "language_info": {
   "codemirror_mode": {
    "name": "ipython",
    "version": 3
   },
   "file_extension": ".py",
   "mimetype": "text/x-python",
   "name": "python",
   "nbconvert_exporter": "python",
   "pygments_lexer": "ipython3",
   "version": "3.9.5"
  },
  "toc": {
   "base_numbering": 1,
   "nav_menu": {},
   "number_sections": false,
   "sideBar": true,
   "skip_h1_title": false,
   "title_cell": "Table of Contents",
   "title_sidebar": "Contents",
   "toc_cell": false,
   "toc_position": {
    "height": "calc(100% - 180px)",
    "left": "10px",
    "top": "150px",
    "width": "165px"
   },
   "toc_section_display": true,
   "toc_window_display": true
  }
 },
 "nbformat": 4,
 "nbformat_minor": 5
}
