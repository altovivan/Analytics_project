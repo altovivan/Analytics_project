{
 "cells": [
  {
   "attachments": {},
   "cell_type": "markdown",
   "id": "eee277a5",
   "metadata": {},
   "source": [
    "# Исследование результатов А/В теста \n",
    "\n",
    "В нашем распоряжении данные, предоставленные маркетинговым и аналитическим отделом компании `N`, которые содержат информацию о пользователях, совершаемых ими действиях (событиях), а также о проводимых маркетинговых акциях и А/В тестах. Так же нам было предоставлено техническое задание\n",
    "\n",
    "**ЦЕЛЬ ИССЛЕДОВАНИЯ** провести анализ результатов А/В-теста `recommender_system_test`.\n",
    "\n",
    "**Задачи исследования** \n",
    "* Подготовить данные и оценить корректность проведения теста, в том числе соответствие данных предоставленному ТЗ\n",
    "* Проанализировать результаты теста\n",
    "\n",
    "**Практическая значимость** исследования заключается в использовании полученных результатов для возможной корректировки организации, проведения и сбора информации по А/В тесту, или в случае корректности теста, выстраивание маркетинговых стратегий с оглядкой на его результаты."
   ]
  },
  {
   "cell_type": "markdown",
   "id": "4f0c74d3",
   "metadata": {},
   "source": [
    "## Обзор данных"
   ]
  },
  {
   "cell_type": "code",
   "execution_count": 1,
   "id": "04c43ef9",
   "metadata": {},
   "outputs": [],
   "source": [
    "import pandas as pd\n",
    "import pytz\n",
    "import matplotlib.pyplot as plt\n",
    "import plotly\n",
    "import plotly.express as px\n",
    "from plotly import graph_objects as go\n",
    "import datetime\n",
    "import numpy as np\n",
    "from plotly.subplots import make_subplots\n",
    "from itertools import chain\n",
    "import seaborn as sns\n",
    "#import plotly.graph_objs as go\n",
    "from plotly import tools\n",
    "import plotly.io\n",
    "import scipy.stats as stats\n",
    "import scipy\n",
    "import math\n",
    "from statistics import mean\n",
    "from datetime import datetime\n",
    "import plotly.io as pio"
   ]
  },
  {
   "cell_type": "code",
   "execution_count": 2,
   "id": "735d8734",
   "metadata": {},
   "outputs": [],
   "source": [
    "pio.renderers.default = 'png'"
   ]
  },
  {
   "cell_type": "code",
   "execution_count": 3,
   "id": "cd1383ae",
   "metadata": {
    "scrolled": false
   },
   "outputs": [],
   "source": [
    "try:\n",
    "    events = pd.read_csv('final_ab_events.csv')\n",
    "    marketing = pd.read_csv('ab_project_marketing_events.csv')\n",
    "    users = pd.read_csv('final_ab_new_users.csv')\n",
    "    partpants = pd.read_csv('final_ab_participants.csv')\n",
    "    \n",
    "except:\n",
    "    events = pd.read_csv('/datasets/final_ab_events.csv')\n",
    "    marketing = pd.read_csv('/datasets/ab_project_marketing_events.csv')\n",
    "    users = pd.read_csv('/datasets/final_ab_new_users.csv')\n",
    "    partpants = pd.read_csv('/datasets/final_ab_participants.csv')\n",
    "   "
   ]
  },
  {
   "cell_type": "code",
   "execution_count": 4,
   "id": "fbeec595",
   "metadata": {},
   "outputs": [
    {
     "data": {
      "text/html": [
       "<div>\n",
       "<style scoped>\n",
       "    .dataframe tbody tr th:only-of-type {\n",
       "        vertical-align: middle;\n",
       "    }\n",
       "\n",
       "    .dataframe tbody tr th {\n",
       "        vertical-align: top;\n",
       "    }\n",
       "\n",
       "    .dataframe thead th {\n",
       "        text-align: right;\n",
       "    }\n",
       "</style>\n",
       "<table border=\"1\" class=\"dataframe\">\n",
       "  <thead>\n",
       "    <tr style=\"text-align: right;\">\n",
       "      <th></th>\n",
       "      <th>user_id</th>\n",
       "      <th>event_dt</th>\n",
       "      <th>event_name</th>\n",
       "      <th>details</th>\n",
       "    </tr>\n",
       "  </thead>\n",
       "  <tbody>\n",
       "    <tr>\n",
       "      <th>261019</th>\n",
       "      <td>6423ACAE53F2496D</td>\n",
       "      <td>2020-12-08 20:18:53</td>\n",
       "      <td>login</td>\n",
       "      <td>NaN</td>\n",
       "    </tr>\n",
       "    <tr>\n",
       "      <th>396925</th>\n",
       "      <td>3360F353E991E3E6</td>\n",
       "      <td>2020-12-23 11:54:26</td>\n",
       "      <td>login</td>\n",
       "      <td>NaN</td>\n",
       "    </tr>\n",
       "    <tr>\n",
       "      <th>88442</th>\n",
       "      <td>9B9827D7D8CF22BD</td>\n",
       "      <td>2020-12-17 07:37:27</td>\n",
       "      <td>product_cart</td>\n",
       "      <td>NaN</td>\n",
       "    </tr>\n",
       "  </tbody>\n",
       "</table>\n",
       "</div>"
      ],
      "text/plain": [
       "                 user_id             event_dt    event_name  details\n",
       "261019  6423ACAE53F2496D  2020-12-08 20:18:53         login      NaN\n",
       "396925  3360F353E991E3E6  2020-12-23 11:54:26         login      NaN\n",
       "88442   9B9827D7D8CF22BD  2020-12-17 07:37:27  product_cart      NaN"
      ]
     },
     "metadata": {},
     "output_type": "display_data"
    },
    {
     "name": "stdout",
     "output_type": "stream",
     "text": [
      "<class 'pandas.core.frame.DataFrame'>\n",
      "RangeIndex: 440317 entries, 0 to 440316\n",
      "Data columns (total 4 columns):\n",
      " #   Column      Non-Null Count   Dtype  \n",
      "---  ------      --------------   -----  \n",
      " 0   user_id     440317 non-null  object \n",
      " 1   event_dt    440317 non-null  object \n",
      " 2   event_name  440317 non-null  object \n",
      " 3   details     62740 non-null   float64\n",
      "dtypes: float64(1), object(3)\n",
      "memory usage: 13.4+ MB\n"
     ]
    }
   ],
   "source": [
    "display(events.sample(3))\n",
    "events.info()"
   ]
  },
  {
   "cell_type": "markdown",
   "id": "cf39aedd",
   "metadata": {},
   "source": [
    "Нужно: \n",
    "* `event_dt` перевести в дату\n",
    "* Разобраться с причинами пропусков в `details`\n",
    "\n",
    "Согласно документации к файлу:\n",
    "\n",
    "- `user_id` — идентификатор пользователя;\n",
    "- `event_dt` — дата и время покупки;\n",
    "- `event_name` — тип события;\n",
    "- `details` — дополнительные данные о событии. Например, для покупок, `purchase,` в этом поле хранится стоимость покупки в долларах.\n",
    "\n",
    "Заметим, что в документации есть неточность. В столбце `event_dt` хранится дата события, а не дата покупки. В баг-репорт."
   ]
  },
  {
   "cell_type": "code",
   "execution_count": 5,
   "id": "f4b5259b",
   "metadata": {},
   "outputs": [
    {
     "data": {
      "text/html": [
       "<div>\n",
       "<style scoped>\n",
       "    .dataframe tbody tr th:only-of-type {\n",
       "        vertical-align: middle;\n",
       "    }\n",
       "\n",
       "    .dataframe tbody tr th {\n",
       "        vertical-align: top;\n",
       "    }\n",
       "\n",
       "    .dataframe thead th {\n",
       "        text-align: right;\n",
       "    }\n",
       "</style>\n",
       "<table border=\"1\" class=\"dataframe\">\n",
       "  <thead>\n",
       "    <tr style=\"text-align: right;\">\n",
       "      <th></th>\n",
       "      <th>name</th>\n",
       "      <th>regions</th>\n",
       "      <th>start_dt</th>\n",
       "      <th>finish_dt</th>\n",
       "    </tr>\n",
       "  </thead>\n",
       "  <tbody>\n",
       "    <tr>\n",
       "      <th>0</th>\n",
       "      <td>Christmas&amp;New Year Promo</td>\n",
       "      <td>EU, N.America</td>\n",
       "      <td>2020-12-25</td>\n",
       "      <td>2021-01-03</td>\n",
       "    </tr>\n",
       "    <tr>\n",
       "      <th>1</th>\n",
       "      <td>St. Valentine's Day Giveaway</td>\n",
       "      <td>EU, CIS, APAC, N.America</td>\n",
       "      <td>2020-02-14</td>\n",
       "      <td>2020-02-16</td>\n",
       "    </tr>\n",
       "    <tr>\n",
       "      <th>2</th>\n",
       "      <td>St. Patric's Day Promo</td>\n",
       "      <td>EU, N.America</td>\n",
       "      <td>2020-03-17</td>\n",
       "      <td>2020-03-19</td>\n",
       "    </tr>\n",
       "  </tbody>\n",
       "</table>\n",
       "</div>"
      ],
      "text/plain": [
       "                           name                   regions    start_dt  \\\n",
       "0      Christmas&New Year Promo             EU, N.America  2020-12-25   \n",
       "1  St. Valentine's Day Giveaway  EU, CIS, APAC, N.America  2020-02-14   \n",
       "2        St. Patric's Day Promo             EU, N.America  2020-03-17   \n",
       "\n",
       "    finish_dt  \n",
       "0  2021-01-03  \n",
       "1  2020-02-16  \n",
       "2  2020-03-19  "
      ]
     },
     "metadata": {},
     "output_type": "display_data"
    },
    {
     "name": "stdout",
     "output_type": "stream",
     "text": [
      "<class 'pandas.core.frame.DataFrame'>\n",
      "RangeIndex: 14 entries, 0 to 13\n",
      "Data columns (total 4 columns):\n",
      " #   Column     Non-Null Count  Dtype \n",
      "---  ------     --------------  ----- \n",
      " 0   name       14 non-null     object\n",
      " 1   regions    14 non-null     object\n",
      " 2   start_dt   14 non-null     object\n",
      " 3   finish_dt  14 non-null     object\n",
      "dtypes: object(4)\n",
      "memory usage: 576.0+ bytes\n"
     ]
    }
   ],
   "source": [
    "display(marketing.head(3))\n",
    "marketing.info()"
   ]
  },
  {
   "cell_type": "markdown",
   "id": "f7d286cf",
   "metadata": {},
   "source": [
    "Пропусков нет. `start_dt` и `finish_dt` нужно привести к дате.\n",
    "\n",
    "Согласно документации к данным:\n",
    "- `name` — название маркетингового события;\n",
    "- `regions` — регионы, в которых будет проводиться рекламная кампания;\n",
    "- `start_dt` — дата начала кампании;\n",
    "- `finish_dt` — дата завершения кампании."
   ]
  },
  {
   "cell_type": "code",
   "execution_count": 6,
   "id": "c071b20b",
   "metadata": {},
   "outputs": [
    {
     "data": {
      "text/html": [
       "<div>\n",
       "<style scoped>\n",
       "    .dataframe tbody tr th:only-of-type {\n",
       "        vertical-align: middle;\n",
       "    }\n",
       "\n",
       "    .dataframe tbody tr th {\n",
       "        vertical-align: top;\n",
       "    }\n",
       "\n",
       "    .dataframe thead th {\n",
       "        text-align: right;\n",
       "    }\n",
       "</style>\n",
       "<table border=\"1\" class=\"dataframe\">\n",
       "  <thead>\n",
       "    <tr style=\"text-align: right;\">\n",
       "      <th></th>\n",
       "      <th>user_id</th>\n",
       "      <th>first_date</th>\n",
       "      <th>region</th>\n",
       "      <th>device</th>\n",
       "    </tr>\n",
       "  </thead>\n",
       "  <tbody>\n",
       "    <tr>\n",
       "      <th>0</th>\n",
       "      <td>D72A72121175D8BE</td>\n",
       "      <td>2020-12-07</td>\n",
       "      <td>EU</td>\n",
       "      <td>PC</td>\n",
       "    </tr>\n",
       "    <tr>\n",
       "      <th>1</th>\n",
       "      <td>F1C668619DFE6E65</td>\n",
       "      <td>2020-12-07</td>\n",
       "      <td>N.America</td>\n",
       "      <td>Android</td>\n",
       "    </tr>\n",
       "    <tr>\n",
       "      <th>2</th>\n",
       "      <td>2E1BF1D4C37EA01F</td>\n",
       "      <td>2020-12-07</td>\n",
       "      <td>EU</td>\n",
       "      <td>PC</td>\n",
       "    </tr>\n",
       "  </tbody>\n",
       "</table>\n",
       "</div>"
      ],
      "text/plain": [
       "            user_id  first_date     region   device\n",
       "0  D72A72121175D8BE  2020-12-07         EU       PC\n",
       "1  F1C668619DFE6E65  2020-12-07  N.America  Android\n",
       "2  2E1BF1D4C37EA01F  2020-12-07         EU       PC"
      ]
     },
     "metadata": {},
     "output_type": "display_data"
    },
    {
     "name": "stdout",
     "output_type": "stream",
     "text": [
      "<class 'pandas.core.frame.DataFrame'>\n",
      "RangeIndex: 61733 entries, 0 to 61732\n",
      "Data columns (total 4 columns):\n",
      " #   Column      Non-Null Count  Dtype \n",
      "---  ------      --------------  ----- \n",
      " 0   user_id     61733 non-null  object\n",
      " 1   first_date  61733 non-null  object\n",
      " 2   region      61733 non-null  object\n",
      " 3   device      61733 non-null  object\n",
      "dtypes: object(4)\n",
      "memory usage: 1.9+ MB\n"
     ]
    }
   ],
   "source": [
    "display(users.head(3))\n",
    "users.info()"
   ]
  },
  {
   "cell_type": "markdown",
   "id": "3e13efd0",
   "metadata": {},
   "source": [
    "`first_date` к дате. Пропусков нет.\n",
    "\n",
    "Согласно документации к данным:\n",
    "- `user_id` — идентификатор пользователя;\n",
    "- `first_date` — дата регистрации;\n",
    "- `region` — регион пользователя;\n",
    "- `device` — устройство, с которого происходила регистрация."
   ]
  },
  {
   "cell_type": "code",
   "execution_count": 7,
   "id": "bd029dd6",
   "metadata": {},
   "outputs": [
    {
     "data": {
      "text/html": [
       "<div>\n",
       "<style scoped>\n",
       "    .dataframe tbody tr th:only-of-type {\n",
       "        vertical-align: middle;\n",
       "    }\n",
       "\n",
       "    .dataframe tbody tr th {\n",
       "        vertical-align: top;\n",
       "    }\n",
       "\n",
       "    .dataframe thead th {\n",
       "        text-align: right;\n",
       "    }\n",
       "</style>\n",
       "<table border=\"1\" class=\"dataframe\">\n",
       "  <thead>\n",
       "    <tr style=\"text-align: right;\">\n",
       "      <th></th>\n",
       "      <th>user_id</th>\n",
       "      <th>group</th>\n",
       "      <th>ab_test</th>\n",
       "    </tr>\n",
       "  </thead>\n",
       "  <tbody>\n",
       "    <tr>\n",
       "      <th>0</th>\n",
       "      <td>D1ABA3E2887B6A73</td>\n",
       "      <td>A</td>\n",
       "      <td>recommender_system_test</td>\n",
       "    </tr>\n",
       "    <tr>\n",
       "      <th>1</th>\n",
       "      <td>A7A3664BD6242119</td>\n",
       "      <td>A</td>\n",
       "      <td>recommender_system_test</td>\n",
       "    </tr>\n",
       "    <tr>\n",
       "      <th>2</th>\n",
       "      <td>DABC14FDDFADD29E</td>\n",
       "      <td>A</td>\n",
       "      <td>recommender_system_test</td>\n",
       "    </tr>\n",
       "  </tbody>\n",
       "</table>\n",
       "</div>"
      ],
      "text/plain": [
       "            user_id group                  ab_test\n",
       "0  D1ABA3E2887B6A73     A  recommender_system_test\n",
       "1  A7A3664BD6242119     A  recommender_system_test\n",
       "2  DABC14FDDFADD29E     A  recommender_system_test"
      ]
     },
     "metadata": {},
     "output_type": "display_data"
    },
    {
     "name": "stdout",
     "output_type": "stream",
     "text": [
      "<class 'pandas.core.frame.DataFrame'>\n",
      "RangeIndex: 18268 entries, 0 to 18267\n",
      "Data columns (total 3 columns):\n",
      " #   Column   Non-Null Count  Dtype \n",
      "---  ------   --------------  ----- \n",
      " 0   user_id  18268 non-null  object\n",
      " 1   group    18268 non-null  object\n",
      " 2   ab_test  18268 non-null  object\n",
      "dtypes: object(3)\n",
      "memory usage: 428.3+ KB\n"
     ]
    }
   ],
   "source": [
    "display(partpants.head(3))\n",
    "partpants.info()"
   ]
  },
  {
   "cell_type": "markdown",
   "id": "a67ae8d0",
   "metadata": {},
   "source": [
    "Согласно документации к данным:\n",
    "- `user_id` — идентификатор пользователя;\n",
    "- `ab_test` — название теста;\n",
    "- `group` — группа пользователя.\n",
    "\n",
    "**ВЫВОДЫ**<br>\n",
    "* В таблице `evants` обнаружили пропуски в столбце `details`. \n",
    "* Обнаружили тип `object` для полей с датами в `evants` (поле `event_dt`), в `marketing` (поля `start_dt` и `finish_dt`), в `users` (поле `first_date`).\n",
    "* Заметили неточность описания полей в документации. В столбце `event_dt` таблицы `events` хранится дата события, а не дата покупки."
   ]
  },
  {
   "cell_type": "markdown",
   "id": "d9f0b084",
   "metadata": {},
   "source": [
    "## Предобработка данных"
   ]
  },
  {
   "cell_type": "markdown",
   "id": "c789a517",
   "metadata": {},
   "source": [
    "На этапе обзора данных были обнаружены поля с датами с типом данных `object` и пропуски в отдельных полях. Исправим, исследуем."
   ]
  },
  {
   "cell_type": "markdown",
   "id": "11600e4e",
   "metadata": {},
   "source": [
    "### Преобразование типов данных"
   ]
  },
  {
   "cell_type": "code",
   "execution_count": 8,
   "id": "1535e0aa",
   "metadata": {},
   "outputs": [],
   "source": [
    "events.event_dt = pd.to_datetime(events.event_dt)\n",
    "marketing.start_dt = pd.to_datetime(marketing.start_dt, format='%Y-%m-%d')\n",
    "marketing.finish_dt = pd.to_datetime(marketing.finish_dt, format='%Y-%m-%d')\n",
    "users.first_date = pd.to_datetime(users.first_date, format='%Y-%m-%d')"
   ]
  },
  {
   "cell_type": "markdown",
   "id": "aa42c524",
   "metadata": {},
   "source": [
    "Заметим, что в столбце `event_dt` таблицы `events` помимо даты присутствует время события. Пока не стали отсекать время, при необходимости всегда можем создать дополнительный столбец только с датой."
   ]
  },
  {
   "cell_type": "markdown",
   "id": "97d2881d",
   "metadata": {},
   "source": [
    "### Пропуски"
   ]
  },
  {
   "cell_type": "markdown",
   "id": "e7649218",
   "metadata": {},
   "source": [
    "На этапе обзора данных были обнаружены пропусков таблице `events` в столбце `details`, который из документации к данным должен содержать дополнительные данные о событии, например цену покупки. Рассмотрим подробнее."
   ]
  },
  {
   "cell_type": "code",
   "execution_count": 9,
   "id": "0ee986b3",
   "metadata": {},
   "outputs": [
    {
     "data": {
      "text/plain": [
       "details       0.86\n",
       "user_id       0.00\n",
       "event_dt      0.00\n",
       "event_name    0.00\n",
       "dtype: float64"
      ]
     },
     "execution_count": 9,
     "metadata": {},
     "output_type": "execute_result"
    }
   ],
   "source": [
    "# Процент пропусков в events\n",
    "round(events.isna().sum()/events.shape[0], 2).sort_values(ascending=False)"
   ]
  },
  {
   "cell_type": "markdown",
   "id": "6da75d44",
   "metadata": {},
   "source": [
    "86% пропусков в details"
   ]
  },
  {
   "cell_type": "code",
   "execution_count": 10,
   "id": "1b3adc50",
   "metadata": {},
   "outputs": [
    {
     "data": {
      "text/plain": [
       "62740"
      ]
     },
     "metadata": {},
     "output_type": "display_data"
    },
    {
     "data": {
      "text/plain": [
       "login           189552\n",
       "product_page    125563\n",
       "purchase         62740\n",
       "product_cart     62462\n",
       "Name: event_name, dtype: int64"
      ]
     },
     "execution_count": 10,
     "metadata": {},
     "output_type": "execute_result"
    }
   ],
   "source": [
    "display(events['details'].count())\n",
    "\n",
    "events['event_name'].value_counts()"
   ]
  },
  {
   "cell_type": "markdown",
   "id": "9889d501",
   "metadata": {},
   "source": [
    "Заметим, что количество значений в `details` совпало с количеством значений в `purchase`. Возможно там данные только о покупках."
   ]
  },
  {
   "cell_type": "code",
   "execution_count": 11,
   "id": "c6484a04",
   "metadata": {},
   "outputs": [
    {
     "name": "stdout",
     "output_type": "stream",
     "text": [
      "Количество строк events без покупок: 377577\n",
      "Количество строк с пропусками в details без purchase: 377577\n"
     ]
    }
   ],
   "source": [
    "print('Количество строк events без покупок:', events.query('event_name != \"purchase\"').shape[0])\n",
    "print('Количество строк с пропусками в details без purchase:', \n",
    "      events[(events['event_name'] != 'purchase')& (events.details.isna() == True)].shape[0])"
   ]
  },
  {
   "cell_type": "markdown",
   "id": "e810434b",
   "metadata": {},
   "source": [
    "Совпало. Значит в `details` информация исключительно о покупках, т.е. стоимость покупки в долларах, причем есть стоимость каждой покупки (проверили ранее). Значит снова неточность в документации к данным. В баг-репорт.\n",
    "\n",
    "Переименуем этот столбец в `price`\n"
   ]
  },
  {
   "cell_type": "code",
   "execution_count": 12,
   "id": "1dded2eb",
   "metadata": {},
   "outputs": [],
   "source": [
    "# Дадим столбцу имя лучше отражающие содержащиеся в нем данные\n",
    "events = events.rename(columns={'details':'price'})\n",
    "# Здесь же добавим столбец date, в котором будет храниться дата события без времени\n",
    "events['date'] = events['event_dt'].dt.date"
   ]
  },
  {
   "cell_type": "markdown",
   "id": "6aa6af1a",
   "metadata": {},
   "source": [
    "Готово. С пропусками разобрались. Критичных нет, просто нет доп. информации о событиях кроме цены покупки, поэтому переименовали `details` таблицы `events` в `price`. Столбец `date` с датой (только датой) события создали. "
   ]
  },
  {
   "cell_type": "markdown",
   "id": "02083ac3",
   "metadata": {},
   "source": [
    "### Дубликаты"
   ]
  },
  {
   "cell_type": "markdown",
   "id": "bf7579d5",
   "metadata": {},
   "source": [
    "Дабы не получить искаженные результаты исследования избавимся от явных и неявных дубликатов."
   ]
  },
  {
   "cell_type": "code",
   "execution_count": 13,
   "id": "f7ac09be",
   "metadata": {},
   "outputs": [
    {
     "name": "stdout",
     "output_type": "stream",
     "text": [
      "Количество дубликатов в events - 0\n",
      "Количество дубликатов в marketing - 0\n",
      "Количество дубликатов в users - 0\n",
      "Количество дубликатов в partpants - 0\n"
     ]
    }
   ],
   "source": [
    "df_list = [events, marketing, users, partpants]\n",
    "name_df = ['events', 'marketing', 'users', 'partpants']\n",
    "for value, name in zip(df_list, name_df):\n",
    "    print('Количество дубликатов в', name, '-', value.duplicated().sum())"
   ]
  },
  {
   "cell_type": "markdown",
   "id": "7bc937f8",
   "metadata": {},
   "source": [
    "Явных дубликатов нет. Чтобы проверить на неявные дубликаты, проверим регистры и выведем списки уникальных значений соответствующих столбцов.\n",
    "\n",
    "Начнем с `events`"
   ]
  },
  {
   "cell_type": "code",
   "execution_count": 14,
   "id": "e0d4a758",
   "metadata": {},
   "outputs": [
    {
     "name": "stdout",
     "output_type": "stream",
     "text": [
      "Таких дубликатов нет\n"
     ]
    }
   ],
   "source": [
    "# Нет ли дубликатов связанных с различным регистром в user_id\n",
    "events.user_id = events.user_id.apply(lambda x: x.lower())\n",
    "if events.duplicated().sum() != 0:\n",
    "    print('Такие дубликаты есть')\n",
    "else: print('Таких дубликатов нет')"
   ]
  },
  {
   "cell_type": "markdown",
   "id": "d691ba0b",
   "metadata": {},
   "source": [
    "Далее `marketing`"
   ]
  },
  {
   "cell_type": "code",
   "execution_count": 15,
   "id": "fab3436e",
   "metadata": {},
   "outputs": [
    {
     "name": "stdout",
     "output_type": "stream",
     "text": [
      "Christmas&New Year Promo            1\n",
      "St. Valentine's Day Giveaway        1\n",
      "St. Patric's Day Promo              1\n",
      "Easter Promo                        1\n",
      "4th of July Promo                   1\n",
      "Black Friday Ads Campaign           1\n",
      "Chinese New Year Promo              1\n",
      "Labor day (May 1st) Ads Campaign    1\n",
      "International Women's Day Promo     1\n",
      "Victory Day CIS (May 9th) Event     1\n",
      "CIS New Year Gift Lottery           1\n",
      "Dragon Boat Festival Giveaway       1\n",
      "Single's Day Gift Promo             1\n",
      "Chinese Moon Festival               1\n",
      "Name: name, dtype: int64\n",
      "\n",
      "APAC                        4\n",
      "EU, CIS, APAC, N.America    3\n",
      "EU, N.America               2\n",
      "EU, CIS, APAC               2\n",
      "CIS                         2\n",
      "N.America                   1\n",
      "Name: regions, dtype: int64\n",
      "christmas&new year promo            1\n",
      "st. valentine's day giveaway        1\n",
      "st. patric's day promo              1\n",
      "easter promo                        1\n",
      "4th of july promo                   1\n",
      "black friday ads campaign           1\n",
      "chinese new year promo              1\n",
      "labor day (may 1st) ads campaign    1\n",
      "international women's day promo     1\n",
      "victory day cis (may 9th) event     1\n",
      "cis new year gift lottery           1\n",
      "dragon boat festival giveaway       1\n",
      "single's day gift promo             1\n",
      "chinese moon festival               1\n",
      "Name: name, dtype: int64\n",
      "\n",
      "apac                        4\n",
      "eu, cis, apac, n.america    3\n",
      "eu, n.america               2\n",
      "eu, cis, apac               2\n",
      "cis                         2\n",
      "n.america                   1\n",
      "Name: regions, dtype: int64\n"
     ]
    }
   ],
   "source": [
    "print(marketing.name.value_counts())\n",
    "print()\n",
    "print(marketing.regions.value_counts())\n",
    "\n",
    "# Приведем к нижнему регистру значения\n",
    "marketing.name = marketing.name.apply(lambda x: x.lower())\n",
    "marketing.regions = marketing.regions.apply(lambda x: x.lower())\n",
    "\n",
    "print(marketing.name.value_counts())\n",
    "print()\n",
    "print(marketing.regions.value_counts())"
   ]
  },
  {
   "cell_type": "markdown",
   "id": "05d9d8ef",
   "metadata": {},
   "source": [
    "Здесь тоже все в порядке. Теперь `users` проверим снова дубликаты после лоурезации `user_id` и выведем количества уникальных в  `device`"
   ]
  },
  {
   "cell_type": "code",
   "execution_count": 16,
   "id": "2a8f2f83",
   "metadata": {},
   "outputs": [
    {
     "name": "stdout",
     "output_type": "stream",
     "text": [
      "Количество дубликатов в user_id после лоурезации: 0\n",
      "\n",
      "Уникальные записи поля device:\n",
      " Android    27520\n",
      "PC         15599\n",
      "iPhone     12530\n",
      "Mac         6084\n",
      "Name: device, dtype: int64\n",
      "\n",
      "Количество дубликатов после лоурезации user_id: 0\n"
     ]
    }
   ],
   "source": [
    "users.user_id = users.user_id.apply(lambda x: x.lower())\n",
    "print('Количество дубликатов в user_id после лоурезации:', users.duplicated().sum())\n",
    "print()\n",
    "print('Уникальные записи поля device:\\n', users.device.value_counts())\n",
    "print()\n",
    "partpants.user_id = partpants.user_id.apply(lambda x: x.lower())\n",
    "print('Количество дубликатов после лоурезации user_id:', partpants.duplicated().sum())"
   ]
  },
  {
   "cell_type": "markdown",
   "id": "3db409bb",
   "metadata": {},
   "source": [
    "Тоже все в порядке. В итоге ни явных ни неявных дубликатов не обнаружили. \n",
    "\n",
    "Заметим, что пользователей заходивших на ресурс с `Android` наибольшее количество, на втором месте `PC`, на третьем `iPhone` на четвертом `Mac`. Не будем откладывать и посмотрим на распределение устройств, с которых пользователи заходят на ресурс."
   ]
  },
  {
   "cell_type": "code",
   "execution_count": 17,
   "id": "074e3631",
   "metadata": {
    "scrolled": false
   },
   "outputs": [
    {
     "data": {
      "image/png": "[encoded data removed]"
     },
     "metadata": {},
     "output_type": "display_data"
    }
   ],
   "source": [
    "device = users.device.value_counts().reset_index().rename(columns={'index':'device', 'device':'count'})\n",
    "\n",
    "fig = go.Figure()\n",
    "fig.add_trace(go.Pie(values=device['count'], labels=device.device, hole=0.7))\n",
    "\n",
    "fig.update_layout(\n",
    "    autosize=False,\n",
    "    width = 450,\n",
    "    height = 450,\n",
    "    annotations=[dict(text='Распределение <br> пользователей <br> по устройствам',\n",
    "                      x=0.5, y=0.5, font_size=18, showarrow=False)])\n",
    "\n",
    "fig.show()"
   ]
  },
  {
   "cell_type": "markdown",
   "id": "826b6d9e",
   "metadata": {},
   "source": [
    "Чуть меньше половины заходят с `Android`, 1/4 и 1/5 с `PC` и `iPhone` соответственно и примерно 1/10 с `Mac`"
   ]
  },
  {
   "cell_type": "markdown",
   "id": "1b688f49",
   "metadata": {},
   "source": [
    "### Аномальные значения"
   ]
  },
  {
   "cell_type": "code",
   "execution_count": 18,
   "id": "4ee00cd6",
   "metadata": {},
   "outputs": [],
   "source": [
    "# Воспользуемся ранее созданной функцие для работы с аномальными значениями\n",
    "def animals(df_t, column, y_title):\n",
    "    # Визуализация набора значений, диаграмма размаха\n",
    "    fig = px.box(df_t, x=column)\n",
    "    fig.update_layout(\n",
    "                  autosize=False,\n",
    "                  width=900,\n",
    "                  height=400,\n",
    "                  title= 'Диаграмма размаха'+' '+column,\n",
    "                  xaxis_title=y_title,\n",
    "                  yaxis_title=column,\n",
    "                  margin=dict(l=0, r=0, t=60, b=0))\n",
    "    \n",
    "    fig.show()\n",
    "    # Дополнительная информация, стат. характеристики набора значений столбца\n",
    "    return df_t[column].describe()"
   ]
  },
  {
   "cell_type": "markdown",
   "id": "6cdcf37f",
   "metadata": {},
   "source": [
    "Значения `price` в `events`"
   ]
  },
  {
   "cell_type": "code",
   "execution_count": 19,
   "id": "a82d2d74",
   "metadata": {
    "scrolled": false
   },
   "outputs": [
    {
     "data": {
      "image/png": "[encoded data removed]"
     },
     "metadata": {},
     "output_type": "display_data"
    },
    {
     "data": {
      "text/plain": [
       "count    62740.000000\n",
       "mean        23.877631\n",
       "std         72.180465\n",
       "min          4.990000\n",
       "25%          4.990000\n",
       "50%          4.990000\n",
       "75%          9.990000\n",
       "max        499.990000\n",
       "Name: price, dtype: float64"
      ]
     },
     "execution_count": 19,
     "metadata": {},
     "output_type": "execute_result"
    }
   ],
   "source": [
    "animals(events, 'price', 'Стоимость покупки')"
   ]
  },
  {
   "cell_type": "markdown",
   "id": "74584385",
   "metadata": {},
   "source": [
    "Большая часть значений 4.99, отдельные выбросы 99.99 и 499.99. Рассмотрим подробнее сколько каких значений."
   ]
  },
  {
   "cell_type": "code",
   "execution_count": 20,
   "id": "93f262d1",
   "metadata": {},
   "outputs": [
    {
     "data": {
      "text/html": [
       "<div>\n",
       "<style scoped>\n",
       "    .dataframe tbody tr th:only-of-type {\n",
       "        vertical-align: middle;\n",
       "    }\n",
       "\n",
       "    .dataframe tbody tr th {\n",
       "        vertical-align: top;\n",
       "    }\n",
       "\n",
       "    .dataframe thead th {\n",
       "        text-align: right;\n",
       "    }\n",
       "</style>\n",
       "<table border=\"1\" class=\"dataframe\">\n",
       "  <thead>\n",
       "    <tr style=\"text-align: right;\">\n",
       "      <th></th>\n",
       "      <th>price</th>\n",
       "      <th>count</th>\n",
       "    </tr>\n",
       "  </thead>\n",
       "  <tbody>\n",
       "    <tr>\n",
       "      <th>0</th>\n",
       "      <td>4.99</td>\n",
       "      <td>46362</td>\n",
       "    </tr>\n",
       "    <tr>\n",
       "      <th>1</th>\n",
       "      <td>9.99</td>\n",
       "      <td>9530</td>\n",
       "    </tr>\n",
       "    <tr>\n",
       "      <th>2</th>\n",
       "      <td>99.99</td>\n",
       "      <td>5631</td>\n",
       "    </tr>\n",
       "    <tr>\n",
       "      <th>3</th>\n",
       "      <td>499.99</td>\n",
       "      <td>1217</td>\n",
       "    </tr>\n",
       "  </tbody>\n",
       "</table>\n",
       "</div>"
      ],
      "text/plain": [
       "    price  count\n",
       "0    4.99  46362\n",
       "1    9.99   9530\n",
       "2   99.99   5631\n",
       "3  499.99   1217"
      ]
     },
     "metadata": {},
     "output_type": "display_data"
    },
    {
     "data": {
      "image/png": "[encoded data removed]"
     },
     "metadata": {},
     "output_type": "display_data"
    }
   ],
   "source": [
    "df_price = events.price.value_counts().reset_index().rename(columns={'index':'price', 'price':'count'})\n",
    "display(df_price)\n",
    "\n",
    "fig = go.Figure()\n",
    "fig.add_trace(go.Pie(values=df_price['count'], labels=df_price.price, hole=0.7))\n",
    "\n",
    "fig.update_layout(\n",
    "    autosize=False,\n",
    "    width = 450,\n",
    "    height = 450,\n",
    "    annotations=[dict(text='Распределение <br> различных <br> стоимостей <br> покупок <br>',\n",
    "                      x=0.5, y=0.5, font_size=18, showarrow=False)])\n",
    "\n",
    "fig.show()"
   ]
  },
  {
   "cell_type": "markdown",
   "id": "b31de6df",
   "metadata": {},
   "source": [
    "Почти 3/4 значений  - 4.99, 15% - 9.99, около 9% - 99.99 и лишь 2% - 499.99. Все возможные значения стоимостей покупок с разницей между соседними в 2, в 10 и в 5 раз. Возможно, если бы мы исследовали изменение среднего чека покупки, то выбросы надо было бы ликвидировать (так как имеем сильное отрицательное смещение распределения), но в нашем случае они не влияют на конверсию, а терять пользователей теста не хотелось бы."
   ]
  },
  {
   "cell_type": "markdown",
   "id": "c66d92db",
   "metadata": {},
   "source": [
    "**ВЫВОДЫ**<br>\n",
    "* Преобразовали типы данных столбцов, которые содержали даты.\n",
    "* Добавили столбец `date` в `events`, только с датой события.\n",
    "* Исследовали пропуски столбца `details`. Переименовали его в `price` так как он содержит только цену покупки.\n",
    "* Исследовали на дубликаты. Дубликатов нет.\n",
    "* Исследовали на аномальные значения `price`. Обнаружили отдельные большие значения (499.99 - 2% от числа всех).\n",
    "* Заметили, что медиана в почти в 5 раз меньше среднего, т.е. большая часть покупок 4.99 и 9.99, менее 1/10 - 99.99.\n",
    "* Рассмотрели распределение пользователей по устройствам. Почти половину всех устройств составляют `Android`, далее почти равные доли `PC` и `iPhone` и около 1/10 - `Mac`."
   ]
  },
  {
   "cell_type": "markdown",
   "id": "c10ab799",
   "metadata": {},
   "source": [
    "## Оценика корректности проведения теста"
   ]
  },
  {
   "cell_type": "markdown",
   "id": "4af63ad1",
   "metadata": {},
   "source": [
    "Посмотрим на **техническое задание:**\n",
    "\n",
    "- Название теста: `recommender_system_test` далее `RST`;\n",
    "- группы: А — контрольная, B — новая платёжная воронка;\n",
    "- дата запуска: 2020-12-07;\n",
    "- дата остановки набора новых пользователей: 2020-12-21;\n",
    "- дата остановки: 2021-01-04;\n",
    "- аудитория: 15% новых пользователей из региона EU;\n",
    "- назначение теста: тестирование изменений, связанных с внедрением улучшенной рекомендательной системы;\n",
    "- ожидаемое количество участников теста: 6000.\n",
    "- ожидаемый эффект: за 14 дней с момента регистрации пользователи покажут улучшение каждой метрики не менее, чем на 10%:\n",
    "    - конверсии в просмотр карточек товаров — событие `product_page`,\n",
    "    - просмотры корзины — `product_cart`,\n",
    "    - покупки — `purchase`.\n",
    "    \n",
    "Проверим полученные данные на соответствие их техническому заданию.\n",
    "    \n",
    "Помимо прочего проверим были ли задействованы пользователи исследуемого теста в других тестах. Как они распределились между группами нашего теста."
   ]
  },
  {
   "cell_type": "markdown",
   "id": "64ddc3aa",
   "metadata": {},
   "source": [
    "### Соответствие данных требованиям ТЗ"
   ]
  },
  {
   "cell_type": "markdown",
   "id": "185b7140",
   "metadata": {},
   "source": [
    "Начнем с **выбора интересующиего нас теста `recommender_system_test`**"
   ]
  },
  {
   "cell_type": "code",
   "execution_count": 21,
   "id": "77554315",
   "metadata": {},
   "outputs": [
    {
     "data": {
      "text/plain": [
       "interface_eu_test          11567\n",
       "recommender_system_test     6701\n",
       "Name: ab_test, dtype: int64"
      ]
     },
     "execution_count": 21,
     "metadata": {},
     "output_type": "execute_result"
    }
   ],
   "source": [
    "# Посмотрим какие еще есть тесты\n",
    "partpants.ab_test.value_counts()"
   ]
  },
  {
   "cell_type": "markdown",
   "id": "3df9286c",
   "metadata": {},
   "source": [
    "Самый многочисленный `interface_eu_test`, интересующий нас проигрывает ему по количеству пользователей почти в два раза, у нас их всего 6701. \n",
    "\n",
    "Отфильтруем и посмотрим какое разбиение групп А и В."
   ]
  },
  {
   "cell_type": "code",
   "execution_count": 22,
   "id": "4ef4e544",
   "metadata": {},
   "outputs": [
    {
     "name": "stdout",
     "output_type": "stream",
     "text": [
      "Группы А и В RST теста:\n",
      " A    3824\n",
      "B    2877\n",
      "Name: group, dtype: int64\n",
      "Группы А и В IET теста:\n",
      " A    5831\n",
      "B    5736\n",
      "Name: group, dtype: int64\n",
      "\n",
      "Всего пользователей: 16666\n"
     ]
    }
   ],
   "source": [
    "part_rst = partpants.query('ab_test == \"recommender_system_test\"')\n",
    "part_iet = partpants.query('ab_test != \"recommender_system_test\"')\n",
    "print('Группы А и В RST теста:\\n', part_rst.group.value_counts())\n",
    "print('Группы А и В IET теста:\\n', part_iet.group.value_counts())\n",
    "print()\n",
    "print('Всего пользователей:', partpants.user_id.nunique())"
   ]
  },
  {
   "cell_type": "markdown",
   "id": "8b95a1fe",
   "metadata": {},
   "source": [
    "Пользователей по группам А и В RST распределены как 4/3. \n",
    "\n",
    "Какое-то количество пользователей попало в оба теста. Посмотрим какое."
   ]
  },
  {
   "cell_type": "code",
   "execution_count": 23,
   "id": "3fd4dd05",
   "metadata": {
    "scrolled": false
   },
   "outputs": [
    {
     "name": "stdout",
     "output_type": "stream",
     "text": [
      "Количество пользователей попавших в оба теста: 1602\n"
     ]
    }
   ],
   "source": [
    "res_list = list(set(part_rst['user_id'].to_list()) & set(part_iet['user_id'].to_list()))\n",
    "\n",
    "print('Количество пользователей попавших в оба теста:', len(res_list))"
   ]
  },
  {
   "cell_type": "markdown",
   "id": "1800ee7b",
   "metadata": {},
   "source": [
    "Теперь есть список пользователей попавших в оба теста `res_list`. Посмотрим как эти пользователи распределились между группами `RST` теста. "
   ]
  },
  {
   "cell_type": "code",
   "execution_count": 24,
   "id": "9f9401a9",
   "metadata": {},
   "outputs": [
    {
     "name": "stdout",
     "output_type": "stream",
     "text": [
      "Количество таких пользователей в группе А -  921\n",
      "Количество таких пользователей в группе В -  681\n"
     ]
    }
   ],
   "source": [
    "a_list = part_rst[(part_rst['group'] == 'A') & (part_rst['user_id'].isin(res_list))].user_id.to_list()\n",
    "b_list = part_rst[(part_rst['group'] == 'B') & (part_rst['user_id'].isin(res_list))].user_id.to_list()\n",
    "\n",
    "\n",
    "print('Количество таких пользователей в группе А - ', len(a_list))\n",
    "print('Количество таких пользователей в группе В - ', len(b_list))"
   ]
  },
  {
   "cell_type": "markdown",
   "id": "6198a79f",
   "metadata": {},
   "source": [
    "Отношение количества таких пользователей в группах А и В практически равно отношению количества пользователей в самих группах А и В.\n",
    "\n",
    "Посмотрим теперь аналогичное вхождение, но только группы В из IET в группы RST."
   ]
  },
  {
   "cell_type": "code",
   "execution_count": 25,
   "id": "3c65b389",
   "metadata": {},
   "outputs": [
    {
     "name": "stdout",
     "output_type": "stream",
     "text": [
      "Количество таких пользователей в группе А -  439\n",
      "Количество таких пользователей в группе В -  344\n"
     ]
    }
   ],
   "source": [
    "list_iet_users_b = part_iet.query('group == \"B\"')['user_id'].to_list()\n",
    "\n",
    "a_list = part_rst[(part_rst['group'] == 'A') & (part_rst['user_id'].isin(list_iet_users_b))].user_id.to_list()\n",
    "b_list = part_rst[(part_rst['group'] == 'B') & (part_rst['user_id'].isin(list_iet_users_b))].user_id.to_list()\n",
    "\n",
    "\n",
    "print('Количество таких пользователей в группе А - ', len(a_list))\n",
    "print('Количество таких пользователей в группе В - ', len(b_list))"
   ]
  },
  {
   "cell_type": "markdown",
   "id": "4cc2afb2",
   "metadata": {},
   "source": [
    "Предполагая, что во втором тесте группа В - тестовая, а значит на ее пользователей раскатывали какое-то обновление (возможно интерфейса) и тем самым оказывали влияние, то целесообразно исключить таких пользователей из нашего теста. (Подробную информацию можно узнать только у организаторов теста и сбора данных, в баг-репорте зададим этот вопрос)"
   ]
  },
  {
   "cell_type": "code",
   "execution_count": 26,
   "id": "46438885",
   "metadata": {},
   "outputs": [
    {
     "name": "stdout",
     "output_type": "stream",
     "text": [
      "Наш список c 5918 пользователями\n"
     ]
    }
   ],
   "source": [
    "rst_users_list = list((set(part_rst.user_id.to_list()) - set(a_list)) - set(b_list))\n",
    "print('Наш список c', len(rst_users_list), 'пользователями')"
   ]
  },
  {
   "cell_type": "markdown",
   "id": "52509aad",
   "metadata": {},
   "source": [
    "Отметим, что количество пользователей `RST` уже меньше заявленного в ТЗ!\n",
    "\n",
    "И чуть не забыли про пользователей `RST` одновременно попавши и группу А и группу В "
   ]
  },
  {
   "cell_type": "code",
   "execution_count": 27,
   "id": "72bb013f",
   "metadata": {},
   "outputs": [
    {
     "name": "stdout",
     "output_type": "stream",
     "text": [
      "Количество пользователей попавших в обе группы RST: 0\n"
     ]
    }
   ],
   "source": [
    "ab_users_rst = list(set(part_rst.query('group == \"A\"')['user_id'].to_list()) & set(part_rst.query('group == \"B\"')['user_id'].to_list()))\n",
    "print('Количество пользователей попавших в обе группы RST:', len(ab_users_rst))"
   ]
  },
  {
   "cell_type": "markdown",
   "id": "51870ca8",
   "metadata": {},
   "source": [
    "Хорошо, нет таких, продолжим фильтрацию данных по ТЗ. \n",
    "\n",
    "**Сроки проведения, регион, пользователи из RST**"
   ]
  },
  {
   "cell_type": "code",
   "execution_count": 28,
   "id": "f811b04b",
   "metadata": {},
   "outputs": [
    {
     "name": "stdout",
     "output_type": "stream",
     "text": [
      "Количество записей в отфильрованной по дате и региону таблице users: 5568\n"
     ]
    }
   ],
   "source": [
    "dt_region_users = users[(users.region == 'EU') \n",
    "    & (users.user_id.isin(rst_users_list))]\n",
    "print('Количество записей в отфильрованной по дате и региону таблице users:', dt_region_users.shape[0])\n",
    "users_list = dt_region_users.user_id.to_list()"
   ]
  },
  {
   "cell_type": "code",
   "execution_count": 29,
   "id": "ae5ddf55",
   "metadata": {},
   "outputs": [
    {
     "data": {
      "text/plain": [
       "Timestamp('2020-12-07 00:00:00')"
      ]
     },
     "execution_count": 29,
     "metadata": {},
     "output_type": "execute_result"
    }
   ],
   "source": [
    "ul = partpants[partpants['ab_test'] == 'recommender_system_test']['user_id'].unique().tolist()\n",
    "users[users['user_id'].isin(ul)]['first_date'].min()"
   ]
  },
  {
   "cell_type": "markdown",
   "id": "8df1bd64",
   "metadata": {},
   "source": [
    "И снова уменьшилось количество пользователей после фильтрации по ТЗ.\n",
    "\n",
    "Присоединим сразу к списку пользователей RST данные о событиях и датах их совершения из `events`"
   ]
  },
  {
   "cell_type": "code",
   "execution_count": 30,
   "id": "a8218de1",
   "metadata": {},
   "outputs": [
    {
     "data": {
      "text/html": [
       "<div>\n",
       "<style scoped>\n",
       "    .dataframe tbody tr th:only-of-type {\n",
       "        vertical-align: middle;\n",
       "    }\n",
       "\n",
       "    .dataframe tbody tr th {\n",
       "        vertical-align: top;\n",
       "    }\n",
       "\n",
       "    .dataframe thead th {\n",
       "        text-align: right;\n",
       "    }\n",
       "</style>\n",
       "<table border=\"1\" class=\"dataframe\">\n",
       "  <thead>\n",
       "    <tr style=\"text-align: right;\">\n",
       "      <th></th>\n",
       "      <th>user_id</th>\n",
       "      <th>group</th>\n",
       "      <th>event_dt</th>\n",
       "      <th>event_name</th>\n",
       "      <th>price</th>\n",
       "      <th>date</th>\n",
       "      <th>first_date</th>\n",
       "      <th>device</th>\n",
       "    </tr>\n",
       "  </thead>\n",
       "  <tbody>\n",
       "    <tr>\n",
       "      <th>0</th>\n",
       "      <td>d1aba3e2887b6a73</td>\n",
       "      <td>A</td>\n",
       "      <td>2020-12-07 14:43:27</td>\n",
       "      <td>purchase</td>\n",
       "      <td>99.99</td>\n",
       "      <td>2020-12-07</td>\n",
       "      <td>2020-12-07</td>\n",
       "      <td>PC</td>\n",
       "    </tr>\n",
       "    <tr>\n",
       "      <th>1</th>\n",
       "      <td>d1aba3e2887b6a73</td>\n",
       "      <td>A</td>\n",
       "      <td>2020-12-25 00:04:56</td>\n",
       "      <td>purchase</td>\n",
       "      <td>4.99</td>\n",
       "      <td>2020-12-25</td>\n",
       "      <td>2020-12-07</td>\n",
       "      <td>PC</td>\n",
       "    </tr>\n",
       "    <tr>\n",
       "      <th>2</th>\n",
       "      <td>d1aba3e2887b6a73</td>\n",
       "      <td>A</td>\n",
       "      <td>2020-12-07 14:43:29</td>\n",
       "      <td>product_cart</td>\n",
       "      <td>NaN</td>\n",
       "      <td>2020-12-07</td>\n",
       "      <td>2020-12-07</td>\n",
       "      <td>PC</td>\n",
       "    </tr>\n",
       "  </tbody>\n",
       "</table>\n",
       "</div>"
      ],
      "text/plain": [
       "            user_id group            event_dt    event_name  price  \\\n",
       "0  d1aba3e2887b6a73     A 2020-12-07 14:43:27      purchase  99.99   \n",
       "1  d1aba3e2887b6a73     A 2020-12-25 00:04:56      purchase   4.99   \n",
       "2  d1aba3e2887b6a73     A 2020-12-07 14:43:29  product_cart    NaN   \n",
       "\n",
       "         date first_date device  \n",
       "0  2020-12-07 2020-12-07     PC  \n",
       "1  2020-12-25 2020-12-07     PC  \n",
       "2  2020-12-07 2020-12-07     PC  "
      ]
     },
     "execution_count": 30,
     "metadata": {},
     "output_type": "execute_result"
    }
   ],
   "source": [
    "users_group_rst = part_rst[part_rst['user_id'].isin(users_list)][['user_id', 'group']]\n",
    "df_rst = users_group_rst.merge(events, on='user_id', how='left')\n",
    "df_rst = df_rst.merge(users[['user_id', 'first_date', 'device']], on='user_id', how='inner')\n",
    "df_rst.head(3)"
   ]
  },
  {
   "cell_type": "markdown",
   "id": "973b44b2",
   "metadata": {},
   "source": [
    "Готово. Теперь есть `df_rst` предварительная таблица по событиям пользователей участвующих в `RST`"
   ]
  },
  {
   "cell_type": "markdown",
   "id": "8d504199",
   "metadata": {},
   "source": [
    "Требование по **доле пользователей в 15% из EU**"
   ]
  },
  {
   "cell_type": "code",
   "execution_count": 31,
   "id": "6f9f65f4",
   "metadata": {},
   "outputs": [
    {
     "name": "stdout",
     "output_type": "stream",
     "text": [
      "Доля пользователей из EU в RST от числа пользователей из EU, зарегестрированных с 7.12 по 21.12 составила 13 %\n"
     ]
    }
   ],
   "source": [
    "print('Доля пользователей из EU в RST от числа пользователей из EU, зарегестрированных с 7.12 по 21.12 составила'\n",
    "      , round(dt_region_users.shape[0] \\\n",
    "            /users[\n",
    "    \n",
    "    (users.first_date >= '2020-12-07') \n",
    "    & (users.first_date <= '2020-12-21') \n",
    "    & (users.region == 'EU')\n",
    "    \n",
    "                    ].shape[0]*100), '%')"
   ]
  },
  {
   "cell_type": "markdown",
   "id": "9e48eae4",
   "metadata": {},
   "source": [
    "Также есть расхождение с ТЗ. Но оно связано с тем, что мы удалили пользователей группы В из второго теста, которые попали в наш тест. До удаления доля была 15%."
   ]
  },
  {
   "cell_type": "code",
   "execution_count": 32,
   "id": "3673e6b5",
   "metadata": {},
   "outputs": [
    {
     "data": {
      "text/plain": [
       "0       2020-12-07\n",
       "20      2020-12-07\n",
       "23      2020-12-07\n",
       "39      2020-12-07\n",
       "65      2020-12-07\n",
       "           ...    \n",
       "61681   2020-12-20\n",
       "61693   2020-12-20\n",
       "61709   2020-12-20\n",
       "61710   2020-12-20\n",
       "61715   2020-12-20\n",
       "Name: first_date, Length: 5568, dtype: datetime64[ns]"
      ]
     },
     "execution_count": 32,
     "metadata": {},
     "output_type": "execute_result"
    }
   ],
   "source": [
    "dt_region_users['first_date']"
   ]
  },
  {
   "cell_type": "markdown",
   "id": "ab106b0a",
   "metadata": {},
   "source": [
    "Посмотрим на даты проведения **маркетинговых событий** (различных акций), которые могли бы повлиять на поведение пользователей `RST`"
   ]
  },
  {
   "cell_type": "code",
   "execution_count": 33,
   "id": "46562955",
   "metadata": {},
   "outputs": [
    {
     "data": {
      "text/html": [
       "<div>\n",
       "<style scoped>\n",
       "    .dataframe tbody tr th:only-of-type {\n",
       "        vertical-align: middle;\n",
       "    }\n",
       "\n",
       "    .dataframe tbody tr th {\n",
       "        vertical-align: top;\n",
       "    }\n",
       "\n",
       "    .dataframe thead th {\n",
       "        text-align: right;\n",
       "    }\n",
       "</style>\n",
       "<table border=\"1\" class=\"dataframe\">\n",
       "  <thead>\n",
       "    <tr style=\"text-align: right;\">\n",
       "      <th></th>\n",
       "      <th>name</th>\n",
       "      <th>regions</th>\n",
       "      <th>start_dt</th>\n",
       "      <th>finish_dt</th>\n",
       "    </tr>\n",
       "  </thead>\n",
       "  <tbody>\n",
       "  </tbody>\n",
       "</table>\n",
       "</div>"
      ],
      "text/plain": [
       "Empty DataFrame\n",
       "Columns: [name, regions, start_dt, finish_dt]\n",
       "Index: []"
      ]
     },
     "execution_count": 33,
     "metadata": {},
     "output_type": "execute_result"
    }
   ],
   "source": [
    "# Фильтр по региону\n",
    "marketing_eu = marketing[marketing['regions'].str.contains('eu')]\n",
    "\n",
    "# Фильтр по событиям полностью или частично содержащимся/содержащим во временном промежутке проведения RST\n",
    "marketing_eu.query('(start_dt <= \"2020-12-07\" and finish_dt >= \"2020-12-21\")\\\n",
    "or (start_dt <= \"2020-12-07\" and finish_dt >= \"2020-12-07\" )\\\n",
    "or (start_dt >= \"2020-12-07\" and finish_dt <= \"2020-12-21\")\\\n",
    "or ((start_dt >= \"2020-12-07\" and finish_dt <= \"2020-12-21\") and finish_dt >= \"2020-12-07\")')"
   ]
  },
  {
   "cell_type": "markdown",
   "id": "90b66961",
   "metadata": {},
   "source": [
    "Как видим набор пользователей в `RST` не пересекает никакое из событий в `marketing`. \n",
    "\n",
    "Однако сам тест остановили только 4.01.21, значит пользователи, участвующие в тесте могли совершать события во время проведения маркетинговых акций.\n",
    "\n",
    "Например, `christmas&new year promo` проходила с 25.12.20 по 3.01.21.\n",
    "\n",
    "Посмотрим на количество событий совершенных пользователями RST по дням с 7.12 по 21.12."
   ]
  },
  {
   "cell_type": "code",
   "execution_count": 34,
   "id": "6a58f1ca",
   "metadata": {},
   "outputs": [
    {
     "data": {
      "image/png": "[encoded data removed]"
     },
     "metadata": {},
     "output_type": "display_data"
    },
    {
     "data": {
      "text/html": [
       "<div>\n",
       "<style scoped>\n",
       "    .dataframe tbody tr th:only-of-type {\n",
       "        vertical-align: middle;\n",
       "    }\n",
       "\n",
       "    .dataframe tbody tr th {\n",
       "        vertical-align: top;\n",
       "    }\n",
       "\n",
       "    .dataframe thead th {\n",
       "        text-align: right;\n",
       "    }\n",
       "</style>\n",
       "<table border=\"1\" class=\"dataframe\">\n",
       "  <thead>\n",
       "    <tr style=\"text-align: right;\">\n",
       "      <th></th>\n",
       "      <th>0</th>\n",
       "      <th>1</th>\n",
       "      <th>2</th>\n",
       "      <th>3</th>\n",
       "      <th>4</th>\n",
       "      <th>5</th>\n",
       "      <th>6</th>\n",
       "      <th>7</th>\n",
       "      <th>8</th>\n",
       "      <th>9</th>\n",
       "      <th>10</th>\n",
       "      <th>11</th>\n",
       "      <th>12</th>\n",
       "      <th>13</th>\n",
       "      <th>14</th>\n",
       "      <th>15</th>\n",
       "      <th>16</th>\n",
       "      <th>17</th>\n",
       "      <th>18</th>\n",
       "      <th>19</th>\n",
       "      <th>20</th>\n",
       "      <th>21</th>\n",
       "      <th>22</th>\n",
       "      <th>23</th>\n",
       "    </tr>\n",
       "  </thead>\n",
       "  <tbody>\n",
       "    <tr>\n",
       "      <th>date</th>\n",
       "      <td>2020-12-07</td>\n",
       "      <td>2020-12-08</td>\n",
       "      <td>2020-12-09</td>\n",
       "      <td>2020-12-10</td>\n",
       "      <td>2020-12-11</td>\n",
       "      <td>2020-12-12</td>\n",
       "      <td>2020-12-13</td>\n",
       "      <td>2020-12-14</td>\n",
       "      <td>2020-12-15</td>\n",
       "      <td>2020-12-16</td>\n",
       "      <td>2020-12-17</td>\n",
       "      <td>2020-12-18</td>\n",
       "      <td>2020-12-19</td>\n",
       "      <td>2020-12-20</td>\n",
       "      <td>2020-12-21</td>\n",
       "      <td>2020-12-22</td>\n",
       "      <td>2020-12-23</td>\n",
       "      <td>2020-12-24</td>\n",
       "      <td>2020-12-25</td>\n",
       "      <td>2020-12-26</td>\n",
       "      <td>2020-12-27</td>\n",
       "      <td>2020-12-28</td>\n",
       "      <td>2020-12-29</td>\n",
       "      <td>2020-12-30</td>\n",
       "    </tr>\n",
       "    <tr>\n",
       "      <th>user_id</th>\n",
       "      <td>578</td>\n",
       "      <td>490</td>\n",
       "      <td>620</td>\n",
       "      <td>512</td>\n",
       "      <td>446</td>\n",
       "      <td>488</td>\n",
       "      <td>395</td>\n",
       "      <td>1107</td>\n",
       "      <td>1102</td>\n",
       "      <td>1192</td>\n",
       "      <td>1276</td>\n",
       "      <td>1309</td>\n",
       "      <td>1497</td>\n",
       "      <td>1571</td>\n",
       "      <td>2048</td>\n",
       "      <td>1272</td>\n",
       "      <td>1004</td>\n",
       "      <td>878</td>\n",
       "      <td>662</td>\n",
       "      <td>597</td>\n",
       "      <td>589</td>\n",
       "      <td>495</td>\n",
       "      <td>432</td>\n",
       "      <td>4</td>\n",
       "    </tr>\n",
       "  </tbody>\n",
       "</table>\n",
       "</div>"
      ],
      "text/plain": [
       "                 0           1           2           3           4   \\\n",
       "date     2020-12-07  2020-12-08  2020-12-09  2020-12-10  2020-12-11   \n",
       "user_id         578         490         620         512         446   \n",
       "\n",
       "                 5           6           7           8           9   \\\n",
       "date     2020-12-12  2020-12-13  2020-12-14  2020-12-15  2020-12-16   \n",
       "user_id         488         395        1107        1102        1192   \n",
       "\n",
       "                 10          11          12          13          14  \\\n",
       "date     2020-12-17  2020-12-18  2020-12-19  2020-12-20  2020-12-21   \n",
       "user_id        1276        1309        1497        1571        2048   \n",
       "\n",
       "                 15          16          17          18          19  \\\n",
       "date     2020-12-22  2020-12-23  2020-12-24  2020-12-25  2020-12-26   \n",
       "user_id        1272        1004         878         662         597   \n",
       "\n",
       "                 20          21          22          23  \n",
       "date     2020-12-27  2020-12-28  2020-12-29  2020-12-30  \n",
       "user_id         589         495         432           4  "
      ]
     },
     "metadata": {},
     "output_type": "display_data"
    }
   ],
   "source": [
    "df_event_rst = df_rst.groupby('date', as_index=False)['user_id'].count()\n",
    "\n",
    "fig = go.Figure()\n",
    "\n",
    "fig.add_trace(go.Bar(x=df_event_rst['date'], y=df_event_rst['user_id']))\n",
    "\n",
    "fig.update_layout(\n",
    "    autosize=False,\n",
    "    width=900,\n",
    "    height=300,\n",
    "    title=\"Количество событий совершенных пользователями RST по дням\",\n",
    "    yaxis_title=\"Количество событий\",\n",
    "   \n",
    "    barmode='overlay',\n",
    "    margin=dict(l=10, r=0, t=70, b=0))\n",
    "\n",
    "fig.show()\n",
    "\n",
    "pd.set_option('max_columns', None)\n",
    "display(df_event_rst.T)\n"
   ]
  },
  {
   "cell_type": "markdown",
   "id": "abdf26c0",
   "metadata": {},
   "source": [
    "Как видим трехкратный скачок с 13.12 на 14.12 (с 395 до 1107), а далее, с 16.12 спад с 1192 до 792, и далее плавное убывание вплоть до 29.12 до значения 49. \n",
    "\n",
    "`christmas&new year promo` проходила с 25.12.20 по 3.01.21. На гистограмме видим, что это не оказало сколько-нибудь существенного влияния. \n",
    "\n",
    "Продолжим по ТЗ и посмотрим на **активность пользователей участвующих в RST**"
   ]
  },
  {
   "cell_type": "code",
   "execution_count": 35,
   "id": "e3fa11d4",
   "metadata": {},
   "outputs": [
    {
     "name": "stdout",
     "output_type": "stream",
     "text": [
      "Неактивных пользователей в гурппе А: 916\n",
      "Неактивных пользователей в гурппе B: 1602\n"
     ]
    }
   ],
   "source": [
    "# список пользователей с нулями в событиях\n",
    "nan_users = df_rst[df_rst['event_name'].isnull() == True]['user_id'].unique().tolist()\n",
    "len(nan_users)\n",
    "\n",
    "# они же с датами регистрации\n",
    "dt_users_nan = users[users['user_id'].isin(nan_users)]\n",
    "\n",
    "# Распределение пользователей с nan в событиях по группам А и В\n",
    "users_part_nan = partpants[(partpants['user_id'].isin(nan_users)) & (partpants['ab_test']=='recommender_system_test')]\n",
    "a_nan = users_part_nan[users_part_nan['group'] == 'A']['user_id'].unique().tolist()\n",
    "b_nan = users_part_nan[users_part_nan['group'] == 'B']['user_id'].unique().tolist()\n",
    "\n",
    "# Распределение их по группам\n",
    "print('Неактивных пользователей в гурппе А:', len(a_nan))\n",
    "print('Неактивных пользователей в гурппе B:', len(b_nan))\n",
    "\n",
    "\n",
    "dt_a_nan = (\n",
    "    users[users['user_id']\n",
    "          .isin(a_nan)][['user_id', 'first_date']]\n",
    "            .groupby('first_date', as_index=False)['user_id']\n",
    "                .nunique()\n",
    "                    .sort_values(by='first_date')\n",
    ")\n",
    "dt_b_nan = (\n",
    "    users[users['user_id']\n",
    "          .isin(b_nan)][['user_id', 'first_date']]\n",
    "            .groupby('first_date', as_index=False)['user_id']\n",
    "                .nunique()\n",
    "                    .sort_values(by='first_date')\n",
    ")"
   ]
  },
  {
   "cell_type": "markdown",
   "id": "985da90d",
   "metadata": {},
   "source": [
    "Еще один повод уточнить у организаторов теста и тех кто его проводил, о каком изменении идет речь, и в чем суть второго теста. Ведь возможно не активность и такое большое количество nan-пользователей вызвано влиянием изменений предложенных в нем.\n",
    "\n",
    "Рассмотрим количество регистрирующихся nan-пользователей по дням в группах А и В."
   ]
  },
  {
   "cell_type": "code",
   "execution_count": 36,
   "id": "c831bfbd",
   "metadata": {
    "scrolled": false
   },
   "outputs": [
    {
     "data": {
      "text/html": [
       "<div>\n",
       "<style scoped>\n",
       "    .dataframe tbody tr th:only-of-type {\n",
       "        vertical-align: middle;\n",
       "    }\n",
       "\n",
       "    .dataframe tbody tr th {\n",
       "        vertical-align: top;\n",
       "    }\n",
       "\n",
       "    .dataframe thead th {\n",
       "        text-align: right;\n",
       "    }\n",
       "</style>\n",
       "<table border=\"1\" class=\"dataframe\">\n",
       "  <thead>\n",
       "    <tr style=\"text-align: right;\">\n",
       "      <th></th>\n",
       "      <th>first_date</th>\n",
       "      <th>user_id_x</th>\n",
       "      <th>user_id_y</th>\n",
       "      <th>diff</th>\n",
       "    </tr>\n",
       "  </thead>\n",
       "  <tbody>\n",
       "    <tr>\n",
       "      <th>0</th>\n",
       "      <td>2020-12-07</td>\n",
       "      <td>175</td>\n",
       "      <td>70</td>\n",
       "      <td>2.500000</td>\n",
       "    </tr>\n",
       "    <tr>\n",
       "      <th>1</th>\n",
       "      <td>2020-12-08</td>\n",
       "      <td>83</td>\n",
       "      <td>88</td>\n",
       "      <td>0.943182</td>\n",
       "    </tr>\n",
       "    <tr>\n",
       "      <th>2</th>\n",
       "      <td>2020-12-09</td>\n",
       "      <td>53</td>\n",
       "      <td>22</td>\n",
       "      <td>2.409091</td>\n",
       "    </tr>\n",
       "    <tr>\n",
       "      <th>3</th>\n",
       "      <td>2020-12-10</td>\n",
       "      <td>110</td>\n",
       "      <td>132</td>\n",
       "      <td>0.833333</td>\n",
       "    </tr>\n",
       "    <tr>\n",
       "      <th>4</th>\n",
       "      <td>2020-12-11</td>\n",
       "      <td>60</td>\n",
       "      <td>79</td>\n",
       "      <td>0.759494</td>\n",
       "    </tr>\n",
       "    <tr>\n",
       "      <th>5</th>\n",
       "      <td>2020-12-12</td>\n",
       "      <td>187</td>\n",
       "      <td>127</td>\n",
       "      <td>1.472441</td>\n",
       "    </tr>\n",
       "    <tr>\n",
       "      <th>6</th>\n",
       "      <td>2020-12-13</td>\n",
       "      <td>248</td>\n",
       "      <td>186</td>\n",
       "      <td>1.333333</td>\n",
       "    </tr>\n",
       "  </tbody>\n",
       "</table>\n",
       "</div>"
      ],
      "text/plain": [
       "  first_date  user_id_x  user_id_y      diff\n",
       "0 2020-12-07        175         70  2.500000\n",
       "1 2020-12-08         83         88  0.943182\n",
       "2 2020-12-09         53         22  2.409091\n",
       "3 2020-12-10        110        132  0.833333\n",
       "4 2020-12-11         60         79  0.759494\n",
       "5 2020-12-12        187        127  1.472441\n",
       "6 2020-12-13        248        186  1.333333"
      ]
     },
     "metadata": {},
     "output_type": "display_data"
    },
    {
     "data": {
      "image/png": "[encoded data removed]"
     },
     "metadata": {},
     "output_type": "display_data"
    },
    {
     "name": "stdout",
     "output_type": "stream",
     "text": [
      "Количество неактивных пользователей пришедших в группы А и В с 7.12 по 13.12 включительно: 916 и 704\n"
     ]
    }
   ],
   "source": [
    "# Таблица с количеством зарегестрированных пользователей с 7.12 по 21.12 в группы А и B,\n",
    "# где столбец diff - их отношение в А к В\n",
    "dt_ab_nan = dt_a_nan.merge(dt_b_nan, on='first_date', how='inner')\n",
    "dt_ab_nan['diff'] = dt_ab_nan['user_id_x']/dt_ab_nan['user_id_y'] \n",
    "\n",
    "display(dt_ab_nan)\n",
    "\n",
    "# Визуализируем количество NAN пользователей по дням и группам А и В\n",
    "fig=go.Figure()\n",
    "\n",
    "fig.add_trace(go.Bar(\n",
    "        x=dt_a_nan['first_date'],\n",
    "        y=dt_a_nan['user_id'],\n",
    "        #mode='lines+markers',\n",
    "        name='nan_users_A'))\n",
    "\n",
    "fig.add_trace(go.Bar(\n",
    "        x=dt_b_nan['first_date'],\n",
    "        y=dt_b_nan['user_id'],\n",
    "        #mode='lines+markers',\n",
    "        name='nan_users_B'))\n",
    "\n",
    "fig.update_layout(\n",
    "                  #barmode='stack',\n",
    "                  autosize=False,\n",
    "                  width=940,\n",
    "                  height=420,\n",
    "                  title=\"Количество пользователей без событий по группам А и В\",\n",
    "                  yaxis_title='Количество пользователей без событий',\n",
    "                  legend_orientation=\"h\",\n",
    "                  legend=dict(x=.5, xanchor=\"center\"),\n",
    "                  margin=dict(l=0, r=0, t=70, b=0))\n",
    "\n",
    "fig.update_xaxes(tickfont=dict(size=10))\n",
    "\n",
    "fig.show()\n",
    "\n",
    "# Неактивных пользователей пришедших в В с 7.12 по 13.12 включительно\n",
    "b_sum = dt_b_nan[dt_b_nan['first_date'] <= '2020-12-13']['user_id'].sum()\n",
    "\n",
    "print(\n",
    "    'Количество неактивных пользователей пришедших в группы А и В с 7.12 по 13.12 включительно:',\n",
    "      dt_a_nan.user_id.sum(), 'и', b_sum\n",
    ")"
   ]
  },
  {
   "cell_type": "markdown",
   "id": "3b748ad1",
   "metadata": {},
   "source": [
    "* Заметим, что с 7.12 по 13.12 такие пользователи попадали в обе группы теста, правда в разных количествах и в разном отношении ( от 4/5 до 5/2)\n",
    "* 4 днях из 7 их было больше в А и в трех больше в В. Причем отношение А к В всегда превосходило отношение В к А. \n",
    "* Начиная с 14.12 такие пользователи стали попадать только в В, только в тестовую группу. \n",
    "* 14.12 в В пришло 169 пользователей, далее этот показатель к 16.12 упал до 16, 17.12 снова вырос до 89 и к 21.12 уже был на отметке 175 пользователей.\n",
    "\n",
    "Как итог: неравномерность их распределения между тестовыми группами по дням и разное отношение по дням с 7.12 по 13.12 может говорить о случайности возникновения таких пользователей, а отсутствие \"поступления\" их в А с 14.12 ***как будто бы*** c негативными изменениями, вызванными новой рекомендательной системой. Но это еще предстоит проверить.\n",
    "\n",
    "Заметим также, что на расчет конверсии по метрикам из ТЗ nan-пользователи влиять не будут, так как они \"отвалились\" уже на этапе перехода из регистрации в логин.\n",
    "\n",
    "Пока мы можем посмотреть лишь на дополнительную информацию по этим пользователям. Например, с какого устройства была регистрация."
   ]
  },
  {
   "cell_type": "code",
   "execution_count": 37,
   "id": "c22777a5",
   "metadata": {},
   "outputs": [
    {
     "data": {
      "text/html": [
       "<div>\n",
       "<style scoped>\n",
       "    .dataframe tbody tr th:only-of-type {\n",
       "        vertical-align: middle;\n",
       "    }\n",
       "\n",
       "    .dataframe tbody tr th {\n",
       "        vertical-align: top;\n",
       "    }\n",
       "\n",
       "    .dataframe thead th {\n",
       "        text-align: right;\n",
       "    }\n",
       "</style>\n",
       "<table border=\"1\" class=\"dataframe\">\n",
       "  <thead>\n",
       "    <tr style=\"text-align: right;\">\n",
       "      <th></th>\n",
       "      <th>index</th>\n",
       "      <th>device</th>\n",
       "    </tr>\n",
       "  </thead>\n",
       "  <tbody>\n",
       "    <tr>\n",
       "      <th>0</th>\n",
       "      <td>Android</td>\n",
       "      <td>1128</td>\n",
       "    </tr>\n",
       "    <tr>\n",
       "      <th>1</th>\n",
       "      <td>PC</td>\n",
       "      <td>631</td>\n",
       "    </tr>\n",
       "    <tr>\n",
       "      <th>2</th>\n",
       "      <td>iPhone</td>\n",
       "      <td>532</td>\n",
       "    </tr>\n",
       "    <tr>\n",
       "      <th>3</th>\n",
       "      <td>Mac</td>\n",
       "      <td>227</td>\n",
       "    </tr>\n",
       "  </tbody>\n",
       "</table>\n",
       "</div>"
      ],
      "text/plain": [
       "     index  device\n",
       "0  Android    1128\n",
       "1       PC     631\n",
       "2   iPhone     532\n",
       "3      Mac     227"
      ]
     },
     "metadata": {},
     "output_type": "display_data"
    },
    {
     "data": {
      "image/png": "[encoded data removed]"
     },
     "metadata": {},
     "output_type": "display_data"
    }
   ],
   "source": [
    "nan_add_inf = users[users['user_id'].isin(nan_users)]['device'].value_counts().reset_index()\n",
    "display(nan_add_inf) \n",
    "\n",
    "fig = go.Figure()\n",
    "fig.add_trace(go.Pie(values=nan_add_inf['device'], labels=nan_add_inf['index'], hole=0.7))\n",
    "\n",
    "fig.update_layout(\n",
    "    autosize=False,\n",
    "    width = 450,\n",
    "    height = 450,\n",
    "    annotations=[dict(text='Распределение <br> NAN-пользователей <br> по устройствам <br> регистрации <br>',\n",
    "                      x=0.5, y=0.5, font_size=16, showarrow=False)])\n",
    "\n",
    "fig.show()"
   ]
  },
  {
   "cell_type": "markdown",
   "id": "5c85e076",
   "metadata": {},
   "source": [
    "Немногим менее половины таких пользователей регистрировались с `Android`, с `PC` и `iPhone` четверть и пятая часть соответственно и всего немногим менее 1/10 с `Mac`. Примерно совпадает с общим распределением пользователей по устройствам.\n",
    "\n",
    "Также в данных есть информация о некотором втором тесте, о котором нам ничего не известно, некий `interface_eu_test`, из названия - тест некоторого \"интерфейса ЕС\". Посмотрим внимательнее."
   ]
  },
  {
   "cell_type": "code",
   "execution_count": 38,
   "id": "99cd7b7e",
   "metadata": {},
   "outputs": [
    {
     "name": "stdout",
     "output_type": "stream",
     "text": [
      "Количество nan-пользователей в IET: 363\n",
      "\n",
      "Количество nan-пользователей группы A : 363\n",
      "Количество nan-пользователей группы B : 0\n",
      "\n",
      "IET группа А: 5831\n",
      "IET группа В: 5736\n",
      "\n",
      "Nan-пользователи из IET по устройствам регистрации:\n",
      " Android    166\n",
      "PC          93\n",
      "iPhone      65\n",
      "Mac         39\n",
      "Name: device, dtype: int64\n"
     ]
    }
   ],
   "source": [
    "# Тест interface_eu_test или IET\n",
    "interface = partpants[partpants['ab_test'] == 'interface_eu_test']\n",
    "\n",
    "# NAN-пользоватлеи в таблице IET\n",
    "nan_users_iet = interface[interface['user_id'].isin(nan_users)]\n",
    "\n",
    "print('Количество nan-пользователей в IET:', nan_users_iet.shape[0])\n",
    "print()\n",
    "\n",
    "ab = ['A', 'B']\n",
    "for g in ab:\n",
    "    globals()[g+'group_iet'] = nan_users_iet[nan_users_iet['group'] == g]['user_id'].nunique()\n",
    "    print('Количество nan-пользователей группы', g, ':', globals()[g+'group_iet'])\n",
    "print() \n",
    "\n",
    "# nan-пользователи по группам iet\n",
    "iet = partpants[partpants['ab_test'] == 'interface_eu_test']\n",
    "print('IET группа А:', iet[iet['group'] == 'A']['user_id'].nunique())\n",
    "print('IET группа В:', iet[iet['group'] == 'B']['user_id'].nunique())\n",
    "print()\n",
    "\n",
    "print('Nan-пользователи из IET по устройствам регистрации:\\n',users[users['user_id'].isin(nan_users_iet.user_id.to_list())].reset_index()['device'].value_counts())"
   ]
  },
  {
   "cell_type": "markdown",
   "id": "a31e526f",
   "metadata": {},
   "source": [
    "* 363 пользователя, причем все в контрольной группе. Как будто бы удалось победить отсутствие активности у пользователей. \n",
    "* У `Android` снова почти половина. Снова `PC` и `iPhone` на втором и третьем, `Mac` на последнем.\n",
    "\n",
    "По идее одна из групп контрольная (без изменения \"интерфейса\"), а вторая тестовая (возможно конечно, что обеим группам предлагались какие-то изменения). Если тестовая группа В, то логично предположить, что предложенные изменения могли повлиять на поведение пользователей, и тогда, будет целесообразно таких пользователей исключить. \n",
    "\n",
    "Но сначала посмотрим еще на конверсию из регистрации в логин по пользователям не вошедшим ни в `RST` ни в `IET`, пользователей `IET` и пользователям из группы А `RST`."
   ]
  },
  {
   "cell_type": "code",
   "execution_count": 39,
   "id": "494b72ad",
   "metadata": {
    "scrolled": false
   },
   "outputs": [
    {
     "name": "stdout",
     "output_type": "stream",
     "text": [
      "Количество  зарег. пользователей, которые не участвовали ни в IET ни в RST: 40804\n",
      "Количество залогин. пользователей, которые не участвовали ни в IET ни в RST: 40799\n",
      "\n",
      "Количество зарег. пользователей из IET: 10565\n",
      "Количество залогин. пользователей из IET: 9847\n",
      "\n",
      "Количество зарег. пользователей из группы А RST: 3195\n",
      "Количество залогин. пользователей из группы А RST: 2279\n"
     ]
    }
   ],
   "source": [
    "# Пользователи не участвующие ни в одном тесте\n",
    "non_test_users_list = list(set(events['user_id'].unique().tolist())-set(partpants['user_id'].unique().tolist()))\n",
    "len(non_test_users_list)\n",
    "\n",
    "# Они же зарег с 7.12 по 21.12\n",
    "non_test_users_list_dt = (\n",
    "    users[\n",
    "        (users['user_id'].isin(non_test_users_list)) \n",
    "          & (\n",
    "              (users['first_date'] >= '2020-12-07') & (users['first_date'] <= '2020-12-21')\n",
    "          )\n",
    "    ]\n",
    "    .user_id\n",
    "    .unique()\n",
    "    .tolist()\n",
    ")\n",
    "\n",
    "# Количество зарег и залогин не участвовавших ни в RST ни в IET\n",
    "count_notest_reg = len(non_test_users_list_dt )\n",
    "count_notest_log =  events[events['user_id'].isin(non_test_users_list_dt ) \n",
    "                        & (events['event_name']=='login')]['user_id'].nunique()\n",
    "\n",
    "# Список пользователей IET зарегистрировавшихся с 7.12 по 21.12\n",
    "iet_users_list = iet['user_id'].unique().tolist()\n",
    "iet_users_list_dt = (\n",
    "    users[\n",
    "        (users['user_id'].isin(iet_users_list)) \n",
    "        & (\n",
    "            (users['first_date'] >= '2020-12-07') & (users['first_date'] <= '2020-12-21')\n",
    "          )\n",
    "    ]\n",
    "    .user_id\n",
    "    .unique()\n",
    "    .tolist()\n",
    ")\n",
    "\n",
    "# Количество зарег и залогин в IET\n",
    "count_iet_reg = len(iet_users_list_dt)\n",
    "count_iet_log =  events[events['user_id'].isin(iet_users_list_dt) \n",
    "                        & (events['event_name']=='login')]['user_id'].nunique()\n",
    "\n",
    "# Отбираем пользователей RST группы А и кладем в список\n",
    "a_users_rst = part_rst[(part_rst['user_id'].isin(users_list)) & (part_rst['group'] == 'A')]\n",
    "a_users_rst_list = a_users_rst['user_id'].unique().tolist()\n",
    "\n",
    "# Варианты списка пользователей группы А RST \n",
    "#a_users_rst_list = list(set(a_users_rst_list) - set(nan_users_iet['user_id'].unique().tolist()))\n",
    "#a_users_rst_list = list(set(a_users_rst_list) - set(nan_users))\n",
    "#a_users_rst_list = list(set(a_users_rst_list) - set(iet[iet['group'] == 'B']['user_id'].unique().tolist()))\n",
    "\n",
    "# Количество зарег и залогин в RST\n",
    "count_rst_reg = len(a_users_rst_list)\n",
    "count_rst_log = events[(events['user_id'].isin(a_users_rst_list)) \n",
    "                       & (events['event_name'] == 'login')]['user_id'].nunique()\n",
    "\n",
    "print('Количество  зарег. пользователей, которые не участвовали ни в IET ни в RST:', count_notest_reg)\n",
    "print('Количество залогин. пользователей, которые не участвовали ни в IET ни в RST:', count_notest_log)\n",
    "\n",
    "print()\n",
    "\n",
    "print('Количество зарег. пользователей из IET:', count_iet_reg)\n",
    "print('Количество залогин. пользователей из IET:', count_iet_log)\n",
    "\n",
    "print()\n",
    "\n",
    "print('Количество зарег. пользователей из группы А RST:', count_rst_reg)\n",
    "print('Количество залогин. пользователей из группы А RST:', count_rst_log)"
   ]
  },
  {
   "cell_type": "code",
   "execution_count": 40,
   "id": "fd147159",
   "metadata": {},
   "outputs": [
    {
     "data": {
      "image/png": "[encoded data removed]"
     },
     "metadata": {},
     "output_type": "display_data"
    }
   ],
   "source": [
    "event = ['Registration', 'Login']\n",
    "\n",
    "df_not = pd.DataFrame(\n",
    "    dict(\n",
    "        number=[count_notest_reg/count_notest_reg*100,\n",
    "                round(count_notest_log/count_notest_reg*100, 2)], event=event)\n",
    ")\n",
    "df_not['users'] = '% Not_in_test'\n",
    "\n",
    "df_iet = pd.DataFrame(\n",
    "    dict(number=[count_iet_reg/count_iet_reg*100,\n",
    "                 round(count_iet_log/count_iet_reg*100, 2)], event=event)\n",
    ")\n",
    "df_iet['users'] = '% IET_users'\n",
    "\n",
    "df_rst_a = pd.DataFrame(\n",
    "    dict(number=[count_rst_reg/count_rst_reg*100,\n",
    "                 round(count_rst_log/count_rst_reg*100, 2)], event=event)\n",
    ")\n",
    "df_rst_a['users'] = '% RST_users_group_A'\n",
    "\n",
    "df = pd.concat([df_not, df_iet, df_rst_a], axis=0)\n",
    "\n",
    "fig = px.funnel(df, x='number', y='event', color='users')\n",
    "\n",
    "fig.update_layout(\n",
    "                  autosize=False,\n",
    "                  width=800,\n",
    "                  height=200,\n",
    "                  title=\"CR всех пользователей IET и группы А RST из регистрации в логин\",\n",
    "                  \n",
    "                  margin=dict(l=0, r=0, t=70, b=0))\n",
    "\n",
    "\n",
    "\n",
    "fig.show()"
   ]
  },
  {
   "cell_type": "markdown",
   "id": "12b51dee",
   "metadata": {},
   "source": [
    "Разница почти на 28% и 22% соответственно. Кажется, что влияние все же есть. Можно предположить, что оно проявится и для других метрик. И не похоже, что это обычный показатель конверсии для пользователей зарегистрированных с 7.12 по 21.12\n",
    "\n",
    "Заметим, что nan-пользователи повлияли в одинаковой мере на всех пользователей IET как вместе взятых, так и отдельно по группам А и В. А также, что при удалении из группы А RST nan-пользователей конверсия из регистрации в логин сравнивается с аналогичным показателем пользователей не принимавших участия ни в IER ни в RST.\n",
    "\n",
    "Видится целесообразным удалить неактивных пользователей из RST"
   ]
  },
  {
   "cell_type": "code",
   "execution_count": 41,
   "id": "a268c7d3",
   "metadata": {},
   "outputs": [],
   "source": [
    "dropna_rst_users = list(set(users_list) - set(nan_users))"
   ]
  },
  {
   "cell_type": "code",
   "execution_count": 42,
   "id": "2103c76d",
   "metadata": {},
   "outputs": [
    {
     "name": "stdout",
     "output_type": "stream",
     "text": [
      "Количество пользователей в RST после фильтрации от nan-пользователей: 3050\n"
     ]
    }
   ],
   "source": [
    "# ЭТА ЯЧЕЙКА УБИРАЕТ НЕАКТИВНЫХ ИЗ RST!\n",
    "df_rst = df_rst[df_rst['user_id'].isin(dropna_rst_users)]\n",
    "\n",
    "print('Количество пользователей в RST после фильтрации от nan-пользователей:', df_rst['user_id'].nunique())"
   ]
  },
  {
   "cell_type": "markdown",
   "id": "f44dd435",
   "metadata": {},
   "source": [
    "И наконец последний пункт ТЗ - **горизонт событий в 14 дней**: \n",
    "* Отфильтруем `df_rst` по событиям, т.е. уберем события пользователей после 14 дней с момента регистрации\n",
    "* Отфильтруем `df_rst` по пользователям, оставим только тех, кто \"прожил\" 14 дней"
   ]
  },
  {
   "cell_type": "code",
   "execution_count": 43,
   "id": "a31bce26",
   "metadata": {
    "scrolled": false
   },
   "outputs": [
    {
     "data": {
      "text/html": [
       "<div>\n",
       "<style scoped>\n",
       "    .dataframe tbody tr th:only-of-type {\n",
       "        vertical-align: middle;\n",
       "    }\n",
       "\n",
       "    .dataframe tbody tr th {\n",
       "        vertical-align: top;\n",
       "    }\n",
       "\n",
       "    .dataframe thead th {\n",
       "        text-align: right;\n",
       "    }\n",
       "</style>\n",
       "<table border=\"1\" class=\"dataframe\">\n",
       "  <thead>\n",
       "    <tr style=\"text-align: right;\">\n",
       "      <th></th>\n",
       "      <th>user_id</th>\n",
       "      <th>group</th>\n",
       "      <th>event_dt</th>\n",
       "      <th>event_name</th>\n",
       "      <th>price</th>\n",
       "      <th>date</th>\n",
       "      <th>first_date</th>\n",
       "      <th>device</th>\n",
       "      <th>t_last_dt</th>\n",
       "      <th>lifetime</th>\n",
       "      <th>last_event_dt</th>\n",
       "      <th>event_marker</th>\n",
       "    </tr>\n",
       "  </thead>\n",
       "  <tbody>\n",
       "    <tr>\n",
       "      <th>0</th>\n",
       "      <td>d1aba3e2887b6a73</td>\n",
       "      <td>A</td>\n",
       "      <td>2020-12-07 14:43:27</td>\n",
       "      <td>purchase</td>\n",
       "      <td>99.99</td>\n",
       "      <td>2020-12-07</td>\n",
       "      <td>2020-12-07</td>\n",
       "      <td>PC</td>\n",
       "      <td>2020-12-30</td>\n",
       "      <td>23 days</td>\n",
       "      <td>2020-12-21</td>\n",
       "      <td>1</td>\n",
       "    </tr>\n",
       "    <tr>\n",
       "      <th>2</th>\n",
       "      <td>d1aba3e2887b6a73</td>\n",
       "      <td>A</td>\n",
       "      <td>2020-12-07 14:43:29</td>\n",
       "      <td>product_cart</td>\n",
       "      <td>NaN</td>\n",
       "      <td>2020-12-07</td>\n",
       "      <td>2020-12-07</td>\n",
       "      <td>PC</td>\n",
       "      <td>2020-12-30</td>\n",
       "      <td>23 days</td>\n",
       "      <td>2020-12-21</td>\n",
       "      <td>1</td>\n",
       "    </tr>\n",
       "    <tr>\n",
       "      <th>4</th>\n",
       "      <td>d1aba3e2887b6a73</td>\n",
       "      <td>A</td>\n",
       "      <td>2020-12-07 14:43:27</td>\n",
       "      <td>product_page</td>\n",
       "      <td>NaN</td>\n",
       "      <td>2020-12-07</td>\n",
       "      <td>2020-12-07</td>\n",
       "      <td>PC</td>\n",
       "      <td>2020-12-30</td>\n",
       "      <td>23 days</td>\n",
       "      <td>2020-12-21</td>\n",
       "      <td>1</td>\n",
       "    </tr>\n",
       "    <tr>\n",
       "      <th>6</th>\n",
       "      <td>d1aba3e2887b6a73</td>\n",
       "      <td>A</td>\n",
       "      <td>2020-12-07 14:43:27</td>\n",
       "      <td>login</td>\n",
       "      <td>NaN</td>\n",
       "      <td>2020-12-07</td>\n",
       "      <td>2020-12-07</td>\n",
       "      <td>PC</td>\n",
       "      <td>2020-12-30</td>\n",
       "      <td>23 days</td>\n",
       "      <td>2020-12-21</td>\n",
       "      <td>1</td>\n",
       "    </tr>\n",
       "    <tr>\n",
       "      <th>14</th>\n",
       "      <td>dabc14fddfadd29e</td>\n",
       "      <td>A</td>\n",
       "      <td>2020-12-08 11:30:58</td>\n",
       "      <td>login</td>\n",
       "      <td>NaN</td>\n",
       "      <td>2020-12-08</td>\n",
       "      <td>2020-12-08</td>\n",
       "      <td>Mac</td>\n",
       "      <td>2020-12-30</td>\n",
       "      <td>22 days</td>\n",
       "      <td>2020-12-22</td>\n",
       "      <td>1</td>\n",
       "    </tr>\n",
       "  </tbody>\n",
       "</table>\n",
       "</div>"
      ],
      "text/plain": [
       "             user_id group            event_dt    event_name  price  \\\n",
       "0   d1aba3e2887b6a73     A 2020-12-07 14:43:27      purchase  99.99   \n",
       "2   d1aba3e2887b6a73     A 2020-12-07 14:43:29  product_cart    NaN   \n",
       "4   d1aba3e2887b6a73     A 2020-12-07 14:43:27  product_page    NaN   \n",
       "6   d1aba3e2887b6a73     A 2020-12-07 14:43:27         login    NaN   \n",
       "14  dabc14fddfadd29e     A 2020-12-08 11:30:58         login    NaN   \n",
       "\n",
       "         date first_date device  t_last_dt lifetime last_event_dt  \\\n",
       "0  2020-12-07 2020-12-07     PC 2020-12-30  23 days    2020-12-21   \n",
       "2  2020-12-07 2020-12-07     PC 2020-12-30  23 days    2020-12-21   \n",
       "4  2020-12-07 2020-12-07     PC 2020-12-30  23 days    2020-12-21   \n",
       "6  2020-12-07 2020-12-07     PC 2020-12-30  23 days    2020-12-21   \n",
       "14 2020-12-08 2020-12-08    Mac 2020-12-30  22 days    2020-12-22   \n",
       "\n",
       "    event_marker  \n",
       "0              1  \n",
       "2              1  \n",
       "4              1  \n",
       "6              1  \n",
       "14             1  "
      ]
     },
     "metadata": {},
     "output_type": "display_data"
    },
    {
     "name": "stdout",
     "output_type": "stream",
     "text": [
      "Количество уникальных пользователей RST: 1675\n"
     ]
    }
   ],
   "source": [
    "# Столбец с датой события date преобразуем в datetime64[ns] \n",
    "df_rst['date'] = pd.to_datetime(df_rst['date'], format='%Y-%m-%d')\n",
    "\n",
    "# Возьмем максимальную дату события\n",
    "df_rst['t_last_dt'] = df_rst['date'].max()\n",
    "# Гипотетический лайфтайм\n",
    "df_rst['lifetime'] = df_rst['t_last_dt'] - df_rst['first_date']\n",
    "# Последняя дата по горизонту событий\n",
    "df_rst['last_event_dt'] = df_rst['first_date'] + pd.Timedelta(14, 'D')\n",
    "# Маркер попадания события до горизонта событий\n",
    "df_rst['event_marker'] =( df_rst['date'] <= df_rst['last_event_dt'])*1\n",
    "# Фильтруем df_rst по событиям и пользователям\n",
    "df_rst = df_rst.query('(event_dt.isnull() or event_marker == 1) and lifetime >= \"14 days\"', engine='python')\n",
    "\n",
    "display(df_rst.head())\n",
    "print('Количество уникальных пользователей RST:', df_rst['user_id'].nunique())"
   ]
  },
  {
   "cell_type": "code",
   "execution_count": 44,
   "id": "5bddb3e5",
   "metadata": {},
   "outputs": [
    {
     "name": "stdout",
     "output_type": "stream",
     "text": [
      "Пользователей в группе А: 1145\n",
      "Пользователей в группе B: 530\n"
     ]
    }
   ],
   "source": [
    "print('Пользователей в группе А:', df_rst[df_rst['group'] == 'A']['user_id'].nunique())\n",
    "print('Пользователей в группе B:', df_rst[df_rst['group'] == 'B']['user_id'].nunique())"
   ]
  },
  {
   "cell_type": "markdown",
   "id": "34e76022",
   "metadata": {},
   "source": [
    "Всего 1675 пользователей, около 1/3 от заявленных в ТЗ. Но таковы требования ТЗ, которые по исходным данным несколько взаимоисключают друг друга. Фильтрация по горизонту событий видится приоритетнее, нежели точное число участников теста. Хотя уменьшение последнего, также может усложнить проведение теста, а именно возможности объективно зафиксировать изменения."
   ]
  },
  {
   "cell_type": "markdown",
   "id": "83e05a08",
   "metadata": {},
   "source": [
    "**ВЫВОДЫ**<br>\n",
    "Проверили данные на соответствие ТЗ и доп. требования по пересечению пользователей между тестами и группами:\n",
    "* Выяснили, что проводилось два теста `interface_eu_test` и `recommender_system_test`. О втором тесте ничего не известно.\n",
    "* До фильтрации пользователей RST в контрольной группе - 3824 пользователя, в тестовой - 2877.\n",
    "* Количество пользователей попавших в оба теста - 1602.\n",
    "* Часть пользователей исследуемого теста, участвовали в IET, а именно 921 пользователь в группе А и 681 пользователь в группе В.\n",
    "* Аналогичное распределение, но теперь только пользователей группы В IET распределились так: 439 в А и 344 в В.\n",
    "* Предполагая, что группа В второго теста являлась тестовой и на ее пользователей оказывали влияния какие-то изменения (возможно новый интерфейс) приняли решение исключить таких пользователей из исследуемого теста. Количество пользователей сократилось до 5918.\n",
    "* Проверили, есть ли пользователи RST попавшие как в тестовую, так и в контрольную группы. Таких пользователей нет.\n",
    "* Отфильтровали пользователей по срокам проведения теста, региону. Осталось 5568.\n",
    "* Проверили влияние маркетинговых акций на пользователей теста (в указанное время проходила только одна, и никакого всплеска активности не вызвала).\n",
    "* Наибольшая активность пользователей RST пришлась на 14.12 - 21.12.\n",
    "* Обнаружили неактивных пользователей RST - прошли регистрацию и не совершили ни одного события. В группе А их 916, в В 1602.\n",
    "* Во втором тесте их всего 363 только в группе А. Заметили неравномерность их регистрации по дням, и что после 13.12 они \"приходили\" только в группу В. \n",
    "* Рассмотрели конверсию из регистрации в логин трех подмножеств исходного множества пользователей: 1. Пользователи не вошедшие ни в один из двух тестов; 2. Пользователи IET; 3. Пользователи контрольной группы RST. Из 100 зарегистрировавшихся пользователей, не попавших ни в один из тестов, почти все (из 40 тыс. потерялись всего 5 человек) логинятся, среди пользователей IET таких уже около 93 человек, а вот среди пользователей контрольной группы RST уже всего около 71. \n",
    "* Убрали из RST неактивных пользователей, осталось 3050. Уде почти половина от заявленных в ТЗ.\n",
    "* Отфильтровали пользователей не проживших 14 дней и события после горизонта событий. Ушла еще половина от предыдущего шага, осталось 1615."
   ]
  },
  {
   "cell_type": "markdown",
   "id": "5740468a",
   "metadata": {},
   "source": [
    "## Исследовательский анализ данных"
   ]
  },
  {
   "cell_type": "markdown",
   "id": "c757924c",
   "metadata": {},
   "source": [
    "Исследуем распределение событий на пользователя, на дату, построим воронки событий и проанализируем конверсию."
   ]
  },
  {
   "cell_type": "markdown",
   "id": "cb28fb22",
   "metadata": {},
   "source": [
    "### Распределение количества событий на пользователя в группах А и В "
   ]
  },
  {
   "cell_type": "markdown",
   "id": "0efa9ae5",
   "metadata": {},
   "source": [
    "Посмотрим как распределено количество событий на пользователя в группах А и В RST."
   ]
  },
  {
   "cell_type": "code",
   "execution_count": 45,
   "id": "a7518fa1",
   "metadata": {
    "scrolled": false
   },
   "outputs": [
    {
     "name": "stdout",
     "output_type": "stream",
     "text": [
      "Количество полльзователей без событий в группе А: 0\n",
      "Количество полльзователей без событий в группе B: 0\n"
     ]
    },
    {
     "data": {
      "image/png": "[encoded data removed]"
     },
     "metadata": {},
     "output_type": "display_data"
    }
   ],
   "source": [
    "# Группируем по пользователям и считаем сумму в event_marker\n",
    "a_event_users = df_rst[df_rst['group']=='A'].groupby('user_id',as_index=False)['event_marker'].sum()\n",
    "b_event_users = df_rst[df_rst['group']=='B'].groupby('user_id',as_index=False)['event_marker'].sum()\n",
    "\n",
    "print('Количество полльзователей без событий в группе А:',\n",
    "      a_event_users.query('event_marker == 0').shape[0])\n",
    "\n",
    "print('Количество полльзователей без событий в группе B:',\n",
    "      b_event_users.query('event_marker == 0').shape[0])\n",
    "\n",
    "# Чтобы получить распределение не содержащее nan-пользователей\n",
    "#a_event_users = a_event_users.query('event_marker != 0')\n",
    "#b_event_users = b_event_users.query('event_marker != 0')\n",
    "\n",
    "g_list=['a', 'b']\n",
    "fig = go.Figure()\n",
    "for g in g_list:\n",
    "    fig.add_trace(\n",
    "        go.Histogram(\n",
    "            x=globals()[g+'_event_users']['event_marker'],\n",
    "            histnorm='probability density',\n",
    "            opacity=0.5,\n",
    "            name=g,\n",
    "            nbinsx=40)\n",
    "    )\n",
    "\n",
    "fig.update_layout(\n",
    "    autosize=False,\n",
    "    width=900,\n",
    "    height=500,\n",
    "    title=\"Распределение количества событий на пользователя по группам А и Б\",\n",
    "    title_x = 0.5,\n",
    "    xaxis_title=\"Количество событий на пользователя\",\n",
    "    yaxis_title=\"Частота\",\n",
    "    legend=dict(x=.5, xanchor=\"center\", orientation=\"h\", y=-.15),\n",
    "    barmode='overlay',\n",
    "    margin=dict(l=0, r=0, t=70, b=0))\n",
    "\n",
    "fig.show()"
   ]
  },
  {
   "cell_type": "markdown",
   "id": "2e9d6dea",
   "metadata": {},
   "source": [
    "В целом можем заметить, что распределение количества событий на пользователя в контрольной и тестовой группах похожи, с некоторым преобладанием по количеству событий на пользователя то в контрольной, то в тестовой группах (для малого количества от 1 до 7 больше в тестовой, для 8,9,12, 14-18 больше в контрольной). Заметим, что если оставить nan-пользователей, то ситуация измениться почти на противоположную."
   ]
  },
  {
   "cell_type": "code",
   "execution_count": 46,
   "id": "5df2f718",
   "metadata": {},
   "outputs": [
    {
     "data": {
      "text/html": [
       "<div>\n",
       "<style scoped>\n",
       "    .dataframe tbody tr th:only-of-type {\n",
       "        vertical-align: middle;\n",
       "    }\n",
       "\n",
       "    .dataframe tbody tr th {\n",
       "        vertical-align: top;\n",
       "    }\n",
       "\n",
       "    .dataframe thead th {\n",
       "        text-align: right;\n",
       "    }\n",
       "</style>\n",
       "<table border=\"1\" class=\"dataframe\">\n",
       "  <thead>\n",
       "    <tr style=\"text-align: right;\">\n",
       "      <th></th>\n",
       "      <th>A</th>\n",
       "      <th>B</th>\n",
       "    </tr>\n",
       "  </thead>\n",
       "  <tbody>\n",
       "    <tr>\n",
       "      <th>count</th>\n",
       "      <td>1145.000000</td>\n",
       "      <td>530.000000</td>\n",
       "    </tr>\n",
       "    <tr>\n",
       "      <th>mean</th>\n",
       "      <td>6.939738</td>\n",
       "      <td>5.722642</td>\n",
       "    </tr>\n",
       "    <tr>\n",
       "      <th>std</th>\n",
       "      <td>3.918849</td>\n",
       "      <td>3.470706</td>\n",
       "    </tr>\n",
       "    <tr>\n",
       "      <th>min</th>\n",
       "      <td>1.000000</td>\n",
       "      <td>1.000000</td>\n",
       "    </tr>\n",
       "    <tr>\n",
       "      <th>25%</th>\n",
       "      <td>4.000000</td>\n",
       "      <td>3.000000</td>\n",
       "    </tr>\n",
       "    <tr>\n",
       "      <th>50%</th>\n",
       "      <td>6.000000</td>\n",
       "      <td>5.000000</td>\n",
       "    </tr>\n",
       "    <tr>\n",
       "      <th>75%</th>\n",
       "      <td>9.000000</td>\n",
       "      <td>8.000000</td>\n",
       "    </tr>\n",
       "    <tr>\n",
       "      <th>max</th>\n",
       "      <td>24.000000</td>\n",
       "      <td>24.000000</td>\n",
       "    </tr>\n",
       "  </tbody>\n",
       "</table>\n",
       "</div>"
      ],
      "text/plain": [
       "                 A           B\n",
       "count  1145.000000  530.000000\n",
       "mean      6.939738    5.722642\n",
       "std       3.918849    3.470706\n",
       "min       1.000000    1.000000\n",
       "25%       4.000000    3.000000\n",
       "50%       6.000000    5.000000\n",
       "75%       9.000000    8.000000\n",
       "max      24.000000   24.000000"
      ]
     },
     "metadata": {},
     "output_type": "display_data"
    },
    {
     "name": "stdout",
     "output_type": "stream",
     "text": [
      "[12. 15. 18.]\n",
      "[10. 12. 20.]\n"
     ]
    }
   ],
   "source": [
    "st_df = pd.concat([a_event_users.describe(), b_event_users.describe()], axis=1)\n",
    "st_df.columns = ['A', 'B']\n",
    "\n",
    "display(st_df)\n",
    "\n",
    "print(np.percentile(a_event_users['event_marker'], [90, 95, 99]))\n",
    "print(np.percentile(b_event_users['event_marker'], [90, 95, 99]))"
   ]
  },
  {
   "cell_type": "markdown",
   "id": "9e3cbff8",
   "metadata": {},
   "source": [
    "* Средние значения количества событий на пользователя в выборках отличаются всего примерно на 1 (в пользу контрольной группы)\n",
    "* 25 процентиль, медианные значения и 75 процентили аналогично предыдущему пункту.\n",
    "* Минимальные и максимальные значения одинаковые.\n",
    "* До 95 процентиля контрольная группа превосходит тестовую, далее наоборот. "
   ]
  },
  {
   "cell_type": "markdown",
   "id": "026ea64b",
   "metadata": {},
   "source": [
    "### Распределение количества событий в группах А и В по дням"
   ]
  },
  {
   "cell_type": "markdown",
   "id": "cd69a672",
   "metadata": {},
   "source": [
    "Посмотрим как собятия, совершенные пользователями, распределились по дням в кадой из групп А и В"
   ]
  },
  {
   "cell_type": "code",
   "execution_count": 47,
   "id": "4bf0057c",
   "metadata": {},
   "outputs": [
    {
     "data": {
      "text/html": [
       "<div>\n",
       "<style scoped>\n",
       "    .dataframe tbody tr th:only-of-type {\n",
       "        vertical-align: middle;\n",
       "    }\n",
       "\n",
       "    .dataframe tbody tr th {\n",
       "        vertical-align: top;\n",
       "    }\n",
       "\n",
       "    .dataframe thead th {\n",
       "        text-align: right;\n",
       "    }\n",
       "</style>\n",
       "<table border=\"1\" class=\"dataframe\">\n",
       "  <thead>\n",
       "    <tr style=\"text-align: right;\">\n",
       "      <th></th>\n",
       "      <th>date</th>\n",
       "      <th>event_count_a</th>\n",
       "      <th>event_count_b</th>\n",
       "    </tr>\n",
       "  </thead>\n",
       "  <tbody>\n",
       "    <tr>\n",
       "      <th>0</th>\n",
       "      <td>2020-12-07</td>\n",
       "      <td>263</td>\n",
       "      <td>315</td>\n",
       "    </tr>\n",
       "    <tr>\n",
       "      <th>1</th>\n",
       "      <td>2020-12-08</td>\n",
       "      <td>283</td>\n",
       "      <td>207</td>\n",
       "    </tr>\n",
       "    <tr>\n",
       "      <th>2</th>\n",
       "      <td>2020-12-09</td>\n",
       "      <td>331</td>\n",
       "      <td>289</td>\n",
       "    </tr>\n",
       "    <tr>\n",
       "      <th>3</th>\n",
       "      <td>2020-12-10</td>\n",
       "      <td>294</td>\n",
       "      <td>218</td>\n",
       "    </tr>\n",
       "    <tr>\n",
       "      <th>4</th>\n",
       "      <td>2020-12-11</td>\n",
       "      <td>309</td>\n",
       "      <td>137</td>\n",
       "    </tr>\n",
       "    <tr>\n",
       "      <th>5</th>\n",
       "      <td>2020-12-12</td>\n",
       "      <td>319</td>\n",
       "      <td>169</td>\n",
       "    </tr>\n",
       "    <tr>\n",
       "      <th>6</th>\n",
       "      <td>2020-12-13</td>\n",
       "      <td>273</td>\n",
       "      <td>122</td>\n",
       "    </tr>\n",
       "    <tr>\n",
       "      <th>7</th>\n",
       "      <td>2020-12-14</td>\n",
       "      <td>880</td>\n",
       "      <td>227</td>\n",
       "    </tr>\n",
       "    <tr>\n",
       "      <th>8</th>\n",
       "      <td>2020-12-15</td>\n",
       "      <td>915</td>\n",
       "      <td>187</td>\n",
       "    </tr>\n",
       "    <tr>\n",
       "      <th>9</th>\n",
       "      <td>2020-12-16</td>\n",
       "      <td>870</td>\n",
       "      <td>322</td>\n",
       "    </tr>\n",
       "    <tr>\n",
       "      <th>10</th>\n",
       "      <td>2020-12-17</td>\n",
       "      <td>630</td>\n",
       "      <td>162</td>\n",
       "    </tr>\n",
       "    <tr>\n",
       "      <th>11</th>\n",
       "      <td>2020-12-18</td>\n",
       "      <td>458</td>\n",
       "      <td>119</td>\n",
       "    </tr>\n",
       "    <tr>\n",
       "      <th>12</th>\n",
       "      <td>2020-12-19</td>\n",
       "      <td>391</td>\n",
       "      <td>114</td>\n",
       "    </tr>\n",
       "    <tr>\n",
       "      <th>13</th>\n",
       "      <td>2020-12-20</td>\n",
       "      <td>306</td>\n",
       "      <td>92</td>\n",
       "    </tr>\n",
       "    <tr>\n",
       "      <th>14</th>\n",
       "      <td>2020-12-21</td>\n",
       "      <td>287</td>\n",
       "      <td>97</td>\n",
       "    </tr>\n",
       "    <tr>\n",
       "      <th>15</th>\n",
       "      <td>2020-12-22</td>\n",
       "      <td>230</td>\n",
       "      <td>37</td>\n",
       "    </tr>\n",
       "    <tr>\n",
       "      <th>16</th>\n",
       "      <td>2020-12-23</td>\n",
       "      <td>196</td>\n",
       "      <td>68</td>\n",
       "    </tr>\n",
       "    <tr>\n",
       "      <th>17</th>\n",
       "      <td>2020-12-24</td>\n",
       "      <td>158</td>\n",
       "      <td>45</td>\n",
       "    </tr>\n",
       "    <tr>\n",
       "      <th>18</th>\n",
       "      <td>2020-12-25</td>\n",
       "      <td>155</td>\n",
       "      <td>28</td>\n",
       "    </tr>\n",
       "    <tr>\n",
       "      <th>19</th>\n",
       "      <td>2020-12-26</td>\n",
       "      <td>132</td>\n",
       "      <td>20</td>\n",
       "    </tr>\n",
       "    <tr>\n",
       "      <th>20</th>\n",
       "      <td>2020-12-27</td>\n",
       "      <td>123</td>\n",
       "      <td>20</td>\n",
       "    </tr>\n",
       "    <tr>\n",
       "      <th>21</th>\n",
       "      <td>2020-12-28</td>\n",
       "      <td>108</td>\n",
       "      <td>24</td>\n",
       "    </tr>\n",
       "    <tr>\n",
       "      <th>22</th>\n",
       "      <td>2020-12-29</td>\n",
       "      <td>35</td>\n",
       "      <td>14</td>\n",
       "    </tr>\n",
       "  </tbody>\n",
       "</table>\n",
       "</div>"
      ],
      "text/plain": [
       "         date  event_count_a  event_count_b\n",
       "0  2020-12-07            263            315\n",
       "1  2020-12-08            283            207\n",
       "2  2020-12-09            331            289\n",
       "3  2020-12-10            294            218\n",
       "4  2020-12-11            309            137\n",
       "5  2020-12-12            319            169\n",
       "6  2020-12-13            273            122\n",
       "7  2020-12-14            880            227\n",
       "8  2020-12-15            915            187\n",
       "9  2020-12-16            870            322\n",
       "10 2020-12-17            630            162\n",
       "11 2020-12-18            458            119\n",
       "12 2020-12-19            391            114\n",
       "13 2020-12-20            306             92\n",
       "14 2020-12-21            287             97\n",
       "15 2020-12-22            230             37\n",
       "16 2020-12-23            196             68\n",
       "17 2020-12-24            158             45\n",
       "18 2020-12-25            155             28\n",
       "19 2020-12-26            132             20\n",
       "20 2020-12-27            123             20\n",
       "21 2020-12-28            108             24\n",
       "22 2020-12-29             35             14"
      ]
     },
     "execution_count": 47,
     "metadata": {},
     "output_type": "execute_result"
    }
   ],
   "source": [
    "dt_event_ab = (\n",
    "    df_rst[df_rst['group'] == \"A\"]\n",
    "    .groupby('date', as_index=False)['event_marker']\n",
    "    .sum()\n",
    "    .merge(\n",
    "        df_rst[df_rst['group'] == \"B\"]\n",
    "        .groupby('date', as_index=False)['event_marker']\n",
    "        .sum()\n",
    "        , on='date',\n",
    "        how='outer')\n",
    "    .rename(columns={'event_marker_x': 'event_count_a', 'event_marker_y': 'event_count_b'})\n",
    ")\n",
    "\n",
    "dt_event_ab"
   ]
  },
  {
   "cell_type": "code",
   "execution_count": 48,
   "id": "43245990",
   "metadata": {},
   "outputs": [
    {
     "data": {
      "image/png": "[encoded data removed]"
     },
     "metadata": {},
     "output_type": "display_data"
    }
   ],
   "source": [
    "\n",
    "fig = go.Figure()\n",
    "\n",
    "fig.add_trace(\n",
    "        go.Bar(\n",
    "            x = dt_event_ab['date'],\n",
    "            y = dt_event_ab['event_count_a'],\n",
    "            name = 'Группа А')\n",
    "            )\n",
    "fig.add_trace(\n",
    "        go.Bar(\n",
    "            x = dt_event_ab['date'],\n",
    "            y = dt_event_ab['event_count_b'],\n",
    "            name = 'Группа В')\n",
    "            )\n",
    "\n",
    "\n",
    "fig.update_layout(\n",
    "    #barmode='stack',\n",
    "    autosize=False,\n",
    "    width=950,\n",
    "    height=460,\n",
    "    title=\"Количество событий по дням в группах А и В\",\n",
    "    yaxis_title='Количество событий',\n",
    "    legend_orientation=\"h\",\n",
    "    legend=dict(x=.5, xanchor=\"center\"),\n",
    "    margin=dict(l=0, r=0, t=70, b=0),\n",
    "    yaxis={'categoryorder':'total ascending'}\n",
    ")\n",
    "                         \n",
    "fig.show()\n",
    "\n"
   ]
  },
  {
   "cell_type": "markdown",
   "id": "7d305644",
   "metadata": {},
   "source": [
    "* Заметим, что в целом по дням количество событий в группе А всегда больше чем в группе В. Исключение только 7.12, старт теста.\n",
    "* При этом события в группе В распределены более равномерно и до 16.12 убывают с 356 и снова  возрастают до 369 и далее плавно убывают до 14 к 29.12.\n",
    "* События в группе А напротив, более менее равномерно распределены с 7.12 по 13.12 (308-371), далее резкий более чем трехкратный скачок до 1015 14.12 и с 16.12 резко убывает до 42 к 29.12."
   ]
  },
  {
   "cell_type": "code",
   "execution_count": 49,
   "id": "367c7ab9",
   "metadata": {},
   "outputs": [
    {
     "data": {
      "text/plain": [
       "A    157\n",
       "Name: group, dtype: int64"
      ]
     },
     "execution_count": 49,
     "metadata": {},
     "output_type": "execute_result"
    }
   ],
   "source": [
    "ud = df_rst[(df_rst['date'] >= '2020-12-14') & (df_rst['date'] <= '2020-12-16')]['user_id'].unique().tolist()\n",
    "\n",
    "partpants[(partpants['user_id'].isin(ud)) & (partpants['ab_test'] == 'interface_eu_test')]['group'].value_counts()"
   ]
  },
  {
   "cell_type": "markdown",
   "id": "94f4f66f",
   "metadata": {},
   "source": [
    "### Конверсии на разных этапах в группах А и В"
   ]
  },
  {
   "cell_type": "markdown",
   "id": "db714b88",
   "metadata": {},
   "source": [
    "Посмотрим на воронку событий пользоватей RST по группам А и В"
   ]
  },
  {
   "cell_type": "code",
   "execution_count": 50,
   "id": "a8c71d60",
   "metadata": {},
   "outputs": [
    {
     "data": {
      "text/html": [
       "<div>\n",
       "<style scoped>\n",
       "    .dataframe tbody tr th:only-of-type {\n",
       "        vertical-align: middle;\n",
       "    }\n",
       "\n",
       "    .dataframe tbody tr th {\n",
       "        vertical-align: top;\n",
       "    }\n",
       "\n",
       "    .dataframe thead th {\n",
       "        text-align: right;\n",
       "    }\n",
       "</style>\n",
       "<table border=\"1\" class=\"dataframe\">\n",
       "  <thead>\n",
       "    <tr style=\"text-align: right;\">\n",
       "      <th></th>\n",
       "      <th>event_name</th>\n",
       "      <th>count</th>\n",
       "      <th>group</th>\n",
       "    </tr>\n",
       "  </thead>\n",
       "  <tbody>\n",
       "    <tr>\n",
       "      <th>0</th>\n",
       "      <td>login</td>\n",
       "      <td>3578</td>\n",
       "      <td>A</td>\n",
       "    </tr>\n",
       "    <tr>\n",
       "      <th>1</th>\n",
       "      <td>product_page</td>\n",
       "      <td>2237</td>\n",
       "      <td>A</td>\n",
       "    </tr>\n",
       "    <tr>\n",
       "      <th>2</th>\n",
       "      <td>product_cart</td>\n",
       "      <td>1095</td>\n",
       "      <td>A</td>\n",
       "    </tr>\n",
       "    <tr>\n",
       "      <th>3</th>\n",
       "      <td>purchase</td>\n",
       "      <td>1036</td>\n",
       "      <td>A</td>\n",
       "    </tr>\n",
       "  </tbody>\n",
       "</table>\n",
       "</div>"
      ],
      "text/plain": [
       "     event_name  count group\n",
       "0         login   3578     A\n",
       "1  product_page   2237     A\n",
       "2  product_cart   1095     A\n",
       "3      purchase   1036     A"
      ]
     },
     "metadata": {},
     "output_type": "display_data"
    },
    {
     "data": {
      "text/html": [
       "<div>\n",
       "<style scoped>\n",
       "    .dataframe tbody tr th:only-of-type {\n",
       "        vertical-align: middle;\n",
       "    }\n",
       "\n",
       "    .dataframe tbody tr th {\n",
       "        vertical-align: top;\n",
       "    }\n",
       "\n",
       "    .dataframe thead th {\n",
       "        text-align: right;\n",
       "    }\n",
       "</style>\n",
       "<table border=\"1\" class=\"dataframe\">\n",
       "  <thead>\n",
       "    <tr style=\"text-align: right;\">\n",
       "      <th></th>\n",
       "      <th>event_name</th>\n",
       "      <th>count</th>\n",
       "      <th>group</th>\n",
       "    </tr>\n",
       "  </thead>\n",
       "  <tbody>\n",
       "    <tr>\n",
       "      <th>0</th>\n",
       "      <td>login</td>\n",
       "      <td>1462</td>\n",
       "      <td>B</td>\n",
       "    </tr>\n",
       "    <tr>\n",
       "      <th>1</th>\n",
       "      <td>product_page</td>\n",
       "      <td>791</td>\n",
       "      <td>B</td>\n",
       "    </tr>\n",
       "    <tr>\n",
       "      <th>2</th>\n",
       "      <td>product_cart</td>\n",
       "      <td>402</td>\n",
       "      <td>B</td>\n",
       "    </tr>\n",
       "    <tr>\n",
       "      <th>3</th>\n",
       "      <td>purchase</td>\n",
       "      <td>378</td>\n",
       "      <td>B</td>\n",
       "    </tr>\n",
       "  </tbody>\n",
       "</table>\n",
       "</div>"
      ],
      "text/plain": [
       "     event_name  count group\n",
       "0         login   1462     B\n",
       "1  product_page    791     B\n",
       "2  product_cart    402     B\n",
       "3      purchase    378     B"
      ]
     },
     "metadata": {},
     "output_type": "display_data"
    }
   ],
   "source": [
    "a_us = (\n",
    "    df_rst[df_rst['group']=='A'].event_name\n",
    "    .value_counts()\n",
    "        .reset_index()\n",
    "            .rename(columns={'index':'event_name', 'event_name':'count'})\n",
    ")\n",
    "a_us['group'] = 'A'\n",
    "\n",
    "b_us = (\n",
    "    df_rst[df_rst['group']=='B'].event_name\n",
    "    .value_counts()\n",
    "        .reset_index()\n",
    "            .rename(columns={'index':'event_name', 'event_name':'count'})\n",
    ")\n",
    "b_us['group'] = 'B'\n",
    "\n",
    "\n",
    "display(a_us)\n",
    "\n",
    "display(b_us)\n"
   ]
  },
  {
   "cell_type": "markdown",
   "id": "928afafb",
   "metadata": {},
   "source": [
    "Создадим таблицу `funnels` с количеством уникальных пользователей совершивших перечисленные события."
   ]
  },
  {
   "cell_type": "code",
   "execution_count": 51,
   "id": "97400cfc",
   "metadata": {},
   "outputs": [
    {
     "data": {
      "text/html": [
       "<div>\n",
       "<style scoped>\n",
       "    .dataframe tbody tr th:only-of-type {\n",
       "        vertical-align: middle;\n",
       "    }\n",
       "\n",
       "    .dataframe tbody tr th {\n",
       "        vertical-align: top;\n",
       "    }\n",
       "\n",
       "    .dataframe thead th {\n",
       "        text-align: right;\n",
       "    }\n",
       "</style>\n",
       "<table border=\"1\" class=\"dataframe\">\n",
       "  <thead>\n",
       "    <tr style=\"text-align: right;\">\n",
       "      <th>group</th>\n",
       "      <th>event_name</th>\n",
       "      <th>A</th>\n",
       "      <th>B</th>\n",
       "    </tr>\n",
       "  </thead>\n",
       "  <tbody>\n",
       "    <tr>\n",
       "      <th>0</th>\n",
       "      <td>login</td>\n",
       "      <td>1145</td>\n",
       "      <td>529</td>\n",
       "    </tr>\n",
       "    <tr>\n",
       "      <th>2</th>\n",
       "      <td>product_page</td>\n",
       "      <td>723</td>\n",
       "      <td>296</td>\n",
       "    </tr>\n",
       "    <tr>\n",
       "      <th>1</th>\n",
       "      <td>product_cart</td>\n",
       "      <td>350</td>\n",
       "      <td>149</td>\n",
       "    </tr>\n",
       "    <tr>\n",
       "      <th>3</th>\n",
       "      <td>purchase</td>\n",
       "      <td>342</td>\n",
       "      <td>148</td>\n",
       "    </tr>\n",
       "  </tbody>\n",
       "</table>\n",
       "</div>"
      ],
      "text/plain": [
       "group    event_name     A    B\n",
       "0             login  1145  529\n",
       "2      product_page   723  296\n",
       "1      product_cart   350  149\n",
       "3          purchase   342  148"
      ]
     },
     "execution_count": 51,
     "metadata": {},
     "output_type": "execute_result"
    }
   ],
   "source": [
    "funnels = df_rst.pivot_table(index='event_name', \n",
    "                             values='user_id', \n",
    "                             columns='group', \n",
    "                             aggfunc='nunique').reset_index().sort_values(by='A', ascending=False)\n",
    "\n",
    "funnels"
   ]
  },
  {
   "cell_type": "code",
   "execution_count": 52,
   "id": "ebf5df9f",
   "metadata": {},
   "outputs": [
    {
     "data": {
      "image/png": "[encoded data removed]"
     },
     "metadata": {},
     "output_type": "display_data"
    }
   ],
   "source": [
    "fig = go.Figure()\n",
    "\n",
    "fig.add_trace(\n",
    "    go.Funnel(\n",
    "        name = 'Группа А',\n",
    "        y = funnels.event_name,\n",
    "        x = funnels['A'],\n",
    "        textinfo = \"value+percent initial\"    \n",
    "    )\n",
    "\n",
    ")\n",
    "\n",
    "fig.add_trace(\n",
    "    go.Funnel(\n",
    "        name = 'Группа B',\n",
    "        orientation = 'h',\n",
    "        y = funnels.event_name,\n",
    "        x = funnels['B'],\n",
    "        \n",
    "        textposition = 'inside',\n",
    "        textinfo = \"value+percent initial\"    \n",
    "    )\n",
    "\n",
    ")\n",
    "\n",
    "fig.update_layout(\n",
    "    title=\"CR от login в product_page, product_cart и purchase<br> (проценты от первого этапа login)\",\n",
    "    legend = {'title':'Группа'},\n",
    "    width = 800,\n",
    "    height = 600,\n",
    "    yaxis_title='События',\n",
    "    template = 'plotly_white'\n",
    ")\n",
    "\n",
    "fig.show()"
   ]
  },
  {
   "cell_type": "markdown",
   "id": "7ebf9096",
   "metadata": {},
   "source": [
    "Тестовая группа на каждом этапе отстает от контрольной 2% до 7%. Заметим, что только около 30 и 28 человек из 100 контрольной и тестовой групп соответственно добираются до кнопки \"КУПИТЬ\".\n",
    "\n",
    "Посмотрим на воронку конверсии от предыдущего шага."
   ]
  },
  {
   "cell_type": "code",
   "execution_count": 53,
   "id": "31fd186c",
   "metadata": {},
   "outputs": [
    {
     "data": {
      "image/png": "[encoded data removed]"
     },
     "metadata": {},
     "output_type": "display_data"
    }
   ],
   "source": [
    "fig = go.Figure()\n",
    "\n",
    "fig.add_trace(\n",
    "    go.Funnel(\n",
    "        name = 'Группа А',\n",
    "        y = funnels.event_name,\n",
    "        x = funnels['A'],\n",
    "        textinfo = \"value+percent previous\"    \n",
    "    )\n",
    "\n",
    ")\n",
    "\n",
    "fig.add_trace(\n",
    "    go.Funnel(\n",
    "        name = 'Группа B',\n",
    "        orientation = 'h',\n",
    "        y = funnels.event_name,\n",
    "        x = funnels['B'],\n",
    "        \n",
    "        textposition = 'inside',\n",
    "        textinfo = \"value+percent previous\"    \n",
    "    )\n",
    "\n",
    ")\n",
    "\n",
    "fig.update_layout(\n",
    "    title=\"CR от login в product_page, от product_page в product_cart<br> и от product_cart в purchase<br> (проценты от предыдущего этапа)\",\n",
    "    legend = {'title':'Группа'},\n",
    "    width = 800,\n",
    "    yaxis_title = 'Событие',\n",
    "    height = 600,\n",
    "    template = 'plotly_white'\n",
    ")\n",
    "\n",
    "fig.show()"
   ]
  },
  {
   "cell_type": "markdown",
   "id": "239674da",
   "metadata": {},
   "source": [
    "Заметим, что конверсия в страницу товара, у тестовой группы ниже на 7%, зато конверсия со страницы товара в корзину на 2% выше в отличие от контрольной группы. При этом к покупке пользователи тестовой группы и контрольной приходят с корзины почти в равных долях (разница всего процент в пользу контрольной группы.)\n",
    "\n",
    "По идее, новая рекомендательная система должна предлагать пользователю товар, который в большинстве случаев его заинтересует, так как предлагаемый продукт подобран с учетом его предпочтений. И если группе В предлагали улучшенную, реально работающую рекомендательную систему, то конверсию в `product_page` можно ожидать выше, чем в контрольной группе, ведь этот этап и есть просмотр товара, выбранный из числа интересных для пользователя. \n",
    "\n",
    "На этой воронке видим, что действительно конверсия из страницы в корзину увеличились, но из логина на страницу упала.\n",
    "\n",
    "Заметим, что nan-пользователи не влияют на конверсию в `product_page`, `product_cart` и `purchase` так как они \"отвалились\" еще на этапе registration to login."
   ]
  },
  {
   "cell_type": "markdown",
   "id": "8de0b21b",
   "metadata": {},
   "source": [
    "### Особенности данных"
   ]
  },
  {
   "cell_type": "markdown",
   "id": "1bd4b32c",
   "metadata": {},
   "source": [
    "Прежде чем проводить тест примем во внимание особенности данных, которые мы обнаружили на предыдущих этапах:\n",
    "\n",
    "1. Несоответствие данных отдельным пунктам ТЗ, а именно:\n",
    "* *Дата остановки: 2021-01-04.* В имеющихся данных последний день активности пользователей 2020-12-29\n",
    "* *Ожидаемое количество участников теста: 6000.* После очистки данных в соответствии с пунктами ТЗ при условии фильтрации неактивных пользователей 1675 участников теста.\n",
    "2. Упомянутые в п.1 nan-пользователи. Конверсия из регистрации в логин пользователей, не вошедших ни в один из тестов, равна почти 100%, в то время как контрольная группа RST имеет показатель всего в 72%. Также заметили, что динамика привлечения таких пользователей в группы А и В RST не имеет каких-то детектируемых закономерностей, как например одинаковое отношение таких пользователей в контрольной и тестовой группах по дням. И начиная с  14.12 такие пользователи стали \"приходить\" только в группу B.\n",
    "3. Был замечен всплеск активности пользователей контрольной группы с 14.12 по 16.12 включительно. При том что никаких маркетинговых событий, акций на эти даты не значится. И в целом в день, в контрольной группе событий больше (в указанный промежуток времени до 3х раз).\n",
    "4. Nan-пользователи оказали влияние на распределение количества событий на пользователя в обеих группах. Отметим, что их количество распределилось не совсем равномерно, в тестовой группе их больше чем в контрольной. И на визуализации распределения количества события на пользователя мы заметили превосходство по отдельным показателям группы А, а на очищенных от nan-пользователей данных, группы В над А.\n",
    "5. Среди пользователей RST были пользователи участвующие в этот момент еще и в IET. Про второй тест ничего не известно, из названия можно лишь предположить, что тестовой группе этого теста предлагали новый интерфейс, причем `eu` может говорить о том, что пользователи были из Европы.\n",
    "6. Проведенная очистка данных RST привела малочисленным контрольной и тестовой группам, что может затруднить корректность исследования результатов стат тестов.\n"
   ]
  },
  {
   "cell_type": "markdown",
   "id": "300be9cc",
   "metadata": {},
   "source": [
    "**ВЫВОДЫ**<br>\n",
    "* Распределение количества событий на пользователя почти одинаковые, за небольшим преимуществом тестовой группы для небольших значений и контрольной для значений выше среднего.\n",
    "* По количеству событий в день в контрольная группа превосходит тестовую в каждый день с 7.12 по 21.12, в отдельные дни до 6 раз. Заметили пик событий в контрольной группе с 14.12 по 16.12.\n",
    "* Конверсия от этапа `login` к этапам `product_page`, `product_cart`, `purchase` в тестово группе стабильно ниже чем в контрольной (разница на 2 - 7 процентов).\n",
    "* Конверсия от предыдущего шага у тестовой группы ниже с логина на страницу товара на 7%, и выше на 2% и на 1% со страницы товара в корзину и с корзины в покупку соответственно.\n",
    "* Особенности, которые нужно учесть прежде чем приступать к А/В тесту мы указали в предыдущем блоке. "
   ]
  },
  {
   "cell_type": "markdown",
   "id": "ea0d69b6",
   "metadata": {},
   "source": [
    "## Оценка результатов А/В тестирования"
   ]
  },
  {
   "cell_type": "markdown",
   "id": "20d7e83e",
   "metadata": {},
   "source": [
    "Перейдем к оценке результатов проведенного теста. Еще раз отметим, что в ходе обработки данных не все пункты ТЗ удалось выполнить, так как они в ощутимой мере противоречили друг другу. "
   ]
  },
  {
   "cell_type": "markdown",
   "id": "6a59c784",
   "metadata": {},
   "source": [
    "### Относительные изменения конверсии группы В к А."
   ]
  },
  {
   "cell_type": "markdown",
   "id": "9d3d4ef2",
   "metadata": {},
   "source": [
    "Рассмотрим относительное изменение конверсии тестовой группы к контрольной. "
   ]
  },
  {
   "cell_type": "code",
   "execution_count": 54,
   "id": "ee802832",
   "metadata": {},
   "outputs": [
    {
     "data": {
      "text/html": [
       "<div>\n",
       "<style scoped>\n",
       "    .dataframe tbody tr th:only-of-type {\n",
       "        vertical-align: middle;\n",
       "    }\n",
       "\n",
       "    .dataframe tbody tr th {\n",
       "        vertical-align: top;\n",
       "    }\n",
       "\n",
       "    .dataframe thead th {\n",
       "        text-align: right;\n",
       "    }\n",
       "</style>\n",
       "<table border=\"1\" class=\"dataframe\">\n",
       "  <thead>\n",
       "    <tr style=\"text-align: right;\">\n",
       "      <th></th>\n",
       "      <th>event_name</th>\n",
       "      <th>A</th>\n",
       "      <th>B</th>\n",
       "      <th>cr_a</th>\n",
       "      <th>cr_b</th>\n",
       "      <th>relat_cr</th>\n",
       "    </tr>\n",
       "  </thead>\n",
       "  <tbody>\n",
       "    <tr>\n",
       "      <th>0</th>\n",
       "      <td>login</td>\n",
       "      <td>1145</td>\n",
       "      <td>529</td>\n",
       "      <td>100.00</td>\n",
       "      <td>100.00</td>\n",
       "      <td>0.00</td>\n",
       "    </tr>\n",
       "    <tr>\n",
       "      <th>1</th>\n",
       "      <td>product_page</td>\n",
       "      <td>723</td>\n",
       "      <td>296</td>\n",
       "      <td>63.14</td>\n",
       "      <td>55.95</td>\n",
       "      <td>-0.11</td>\n",
       "    </tr>\n",
       "    <tr>\n",
       "      <th>2</th>\n",
       "      <td>product_cart</td>\n",
       "      <td>350</td>\n",
       "      <td>149</td>\n",
       "      <td>48.41</td>\n",
       "      <td>50.34</td>\n",
       "      <td>0.04</td>\n",
       "    </tr>\n",
       "    <tr>\n",
       "      <th>3</th>\n",
       "      <td>purchase</td>\n",
       "      <td>342</td>\n",
       "      <td>148</td>\n",
       "      <td>97.71</td>\n",
       "      <td>99.33</td>\n",
       "      <td>0.02</td>\n",
       "    </tr>\n",
       "  </tbody>\n",
       "</table>\n",
       "</div>"
      ],
      "text/plain": [
       "     event_name     A    B    cr_a    cr_b  relat_cr\n",
       "0         login  1145  529  100.00  100.00      0.00\n",
       "1  product_page   723  296   63.14   55.95     -0.11\n",
       "2  product_cart   350  149   48.41   50.34      0.04\n",
       "3      purchase   342  148   97.71   99.33      0.02"
      ]
     },
     "execution_count": 54,
     "metadata": {},
     "output_type": "execute_result"
    }
   ],
   "source": [
    "# Конерсия с предыдущего шага\n",
    "con_a =[]\n",
    "con_b =[]\n",
    "for i in range(0,3):\n",
    "    x = round(funnels.iloc[i+1,1]/funnels.iloc[i,1]*100, 2)\n",
    "    y = round(funnels.iloc[i+1,2]/funnels.iloc[i,2]*100, 2)\n",
    "    con_a.append(x)\n",
    "    con_b.append(y)\n",
    "    \n",
    "con_a = [100] + con_a\n",
    "con_b = [100] + con_b\n",
    "# Списки конверсий по группам в таблицы\n",
    "con_a = pd.DataFrame({'event_name': ['login', 'product_page', 'product_cart', 'purchase'] , 'cr_a': con_a})\n",
    "con_b = pd.DataFrame({'event_name': ['login', 'product_page', 'product_cart', 'purchase'] ,'cr_b': con_b})\n",
    "\n",
    "# Присоединим их к funnels\n",
    "funnels = funnels.merge(con_a, on='event_name')\n",
    "funnels = funnels.merge(con_b, on='event_name')\n",
    "# Добаляем столбец с относительными значениями (В/А-1)\n",
    "funnels['relat_cr'] = round(funnels['cr_b']/funnels['cr_a'] - 1, 2)\n",
    "\n",
    "funnels"
   ]
  },
  {
   "cell_type": "markdown",
   "id": "dac0be0a",
   "metadata": {},
   "source": [
    "Ни на одном шаге не видим +10% в В относительно А. Максимум 4% в конверсии от `product_page` к `product_cart` . А от логина к странице товара так и вовсе -11%. Видимо рекомендательная система здесь все-таки не сработала как заявлено в ТЗ."
   ]
  },
  {
   "cell_type": "markdown",
   "id": "a478a65a",
   "metadata": {},
   "source": [
    "### Проверка статистической разницы долей групп А и В"
   ]
  },
  {
   "cell_type": "markdown",
   "id": "2cf7a8f7",
   "metadata": {},
   "source": [
    "Подготовим данные для стат теста"
   ]
  },
  {
   "cell_type": "code",
   "execution_count": 55,
   "id": "70d34878",
   "metadata": {},
   "outputs": [
    {
     "data": {
      "text/html": [
       "<div>\n",
       "<style scoped>\n",
       "    .dataframe tbody tr th:only-of-type {\n",
       "        vertical-align: middle;\n",
       "    }\n",
       "\n",
       "    .dataframe tbody tr th {\n",
       "        vertical-align: top;\n",
       "    }\n",
       "\n",
       "    .dataframe thead th {\n",
       "        text-align: right;\n",
       "    }\n",
       "</style>\n",
       "<table border=\"1\" class=\"dataframe\">\n",
       "  <thead>\n",
       "    <tr style=\"text-align: right;\">\n",
       "      <th></th>\n",
       "      <th>users_count</th>\n",
       "    </tr>\n",
       "    <tr>\n",
       "      <th>group</th>\n",
       "      <th></th>\n",
       "    </tr>\n",
       "  </thead>\n",
       "  <tbody>\n",
       "    <tr>\n",
       "      <th>A</th>\n",
       "      <td>1145</td>\n",
       "    </tr>\n",
       "    <tr>\n",
       "      <th>B</th>\n",
       "      <td>530</td>\n",
       "    </tr>\n",
       "  </tbody>\n",
       "</table>\n",
       "</div>"
      ],
      "text/plain": [
       "       users_count\n",
       "group             \n",
       "A             1145\n",
       "B              530"
      ]
     },
     "metadata": {},
     "output_type": "display_data"
    },
    {
     "data": {
      "text/html": [
       "<div>\n",
       "<style scoped>\n",
       "    .dataframe tbody tr th:only-of-type {\n",
       "        vertical-align: middle;\n",
       "    }\n",
       "\n",
       "    .dataframe tbody tr th {\n",
       "        vertical-align: top;\n",
       "    }\n",
       "\n",
       "    .dataframe thead th {\n",
       "        text-align: right;\n",
       "    }\n",
       "</style>\n",
       "<table border=\"1\" class=\"dataframe\">\n",
       "  <thead>\n",
       "    <tr style=\"text-align: right;\">\n",
       "      <th></th>\n",
       "      <th>A</th>\n",
       "      <th>B</th>\n",
       "      <th>cr_a</th>\n",
       "      <th>cr_b</th>\n",
       "      <th>relat_cr</th>\n",
       "    </tr>\n",
       "    <tr>\n",
       "      <th>event_name</th>\n",
       "      <th></th>\n",
       "      <th></th>\n",
       "      <th></th>\n",
       "      <th></th>\n",
       "      <th></th>\n",
       "    </tr>\n",
       "  </thead>\n",
       "  <tbody>\n",
       "    <tr>\n",
       "      <th>product_page</th>\n",
       "      <td>723</td>\n",
       "      <td>296</td>\n",
       "      <td>63.14</td>\n",
       "      <td>55.95</td>\n",
       "      <td>-0.11</td>\n",
       "    </tr>\n",
       "    <tr>\n",
       "      <th>product_cart</th>\n",
       "      <td>350</td>\n",
       "      <td>149</td>\n",
       "      <td>48.41</td>\n",
       "      <td>50.34</td>\n",
       "      <td>0.04</td>\n",
       "    </tr>\n",
       "    <tr>\n",
       "      <th>purchase</th>\n",
       "      <td>342</td>\n",
       "      <td>148</td>\n",
       "      <td>97.71</td>\n",
       "      <td>99.33</td>\n",
       "      <td>0.02</td>\n",
       "    </tr>\n",
       "  </tbody>\n",
       "</table>\n",
       "</div>"
      ],
      "text/plain": [
       "                A    B   cr_a   cr_b  relat_cr\n",
       "event_name                                    \n",
       "product_page  723  296  63.14  55.95     -0.11\n",
       "product_cart  350  149  48.41  50.34      0.04\n",
       "purchase      342  148  97.71  99.33      0.02"
      ]
     },
     "metadata": {},
     "output_type": "display_data"
    }
   ],
   "source": [
    "# Количество пользователей по группам\n",
    "users_group = (\n",
    "    pd.DataFrame({'group': ['A', 'B'],\n",
    "                  'users_count': \n",
    "                  [df_rst[df_rst['group'] == 'A']['user_id'].nunique(),\n",
    "                   df_rst[df_rst['group'] == 'B']['user_id'].nunique()]})\n",
    ")\n",
    "users_group = users_group.set_index('group')\n",
    "\n",
    "# Немного преобразуем таблицу funnels\n",
    "funnels = funnels.set_index('event_name')\n",
    "funnels = funnels.iloc[1:].reset_index().set_index('event_name')\n",
    "\n",
    "display(users_group, funnels)"
   ]
  },
  {
   "cell_type": "markdown",
   "id": "749646e3",
   "metadata": {},
   "source": [
    "Готово. \n",
    "\n",
    "Так как мы хотим определить находят ли статистические критерии разницу между тестовой и контрольной группами, в которых нас интересуют конверсии (с логина на страницу товара,со страницы товара на корзину, с корзины на покупку) т.е. доли, то используем z-тест (z-критерий Фишера)"
   ]
  },
  {
   "cell_type": "markdown",
   "id": "d2650406",
   "metadata": {},
   "source": [
    "Сформулируем гипотезы для проверки наличия стат значимого различия по долям в контрольной и тестовой группах RST:<br>\n",
    "\n",
    "**H0** - конверсии контрольной и тестовой групп по событию event равны<br>\n",
    "**Н1** - конверсии контрольной и тестовой групп по событию event НЕ равны"
   ]
  },
  {
   "cell_type": "code",
   "execution_count": 56,
   "id": "f9fdb7a1",
   "metadata": {},
   "outputs": [],
   "source": [
    "# Создадим функцию для автоматизации процесса проведения стат теста\n",
    "def z_test (event, alpha): \n",
    "    \n",
    "    succs_a = funnels.loc[event, \"A\"]\n",
    "    trial_a = users_group.loc['A', 'users_count'] \n",
    "    \n",
    "    succs_b = funnels.loc[event, \"B\"] \n",
    "    trial_b = users_group.loc['B', 'users_count'] \n",
    "    \n",
    "    # пропорция успехов по группам\n",
    "    p_a = (succs_a / trial_a)\n",
    "    p_b = (succs_b / trial_b) \n",
    "    print(succs_a, succs_b, trial_a, trial_b)\n",
    "    \n",
    "    diff = (p_a - p_b)\n",
    "    \n",
    "    # \"комбинированная пропорция\" успехов\n",
    "    p_combo = (succs_a + succs_b ) / (trial_a + trial_b) \n",
    "    \n",
    "    \n",
    "    # считаем статистику в ст.отклонениях стандартного нормального распределения\n",
    "    z_value = diff / math.sqrt(p_combo * (1 - p_combo) * (1 / trial_a + 1 / trial_b))\n",
    "    # задаем стандартное нормальное распределение (среднее 0, ст.отклонение 1)\n",
    "    distr = stats.norm(0, 1)\n",
    "    \n",
    "    p_value = (1 - distr.cdf(abs(z_value))) * 2\n",
    "    \n",
    "    print('Для групп A и B события: {}, p_value=: {p_value:.9f}'.format(event, p_value=p_value))\n",
    "    \n",
    "    if (p_value < alpha):\n",
    "        print('Отвергаем нулевую гипотезу: между долями есть статистически значимая разница')\n",
    "    else:\n",
    "        print(\"Не получилось отвергнуть нулевую гипотезу, нет оснований считать доли статистически разными\")"
   ]
  },
  {
   "cell_type": "markdown",
   "id": "bea96293",
   "metadata": {},
   "source": [
    "Учитывая что мы проводим множественный тест, а именно 3 теста да еще и по зависимым друг от друга событиям, то необходимо скорректировать значение альфа, чтобы оставаться в рамках 0.05 и контролировать ошибку первого рода!"
   ]
  },
  {
   "cell_type": "code",
   "execution_count": 57,
   "id": "36e7d0ef",
   "metadata": {
    "scrolled": true
   },
   "outputs": [
    {
     "name": "stdout",
     "output_type": "stream",
     "text": [
      "723 296 1145 530\n",
      "Для групп A и B события: product_page, p_value=: 0.004445257\n",
      "Отвергаем нулевую гипотезу: между долями есть статистически значимая разница\n",
      "\n",
      "350 149 1145 530\n",
      "Для групп A и B события: product_cart, p_value=: 0.307000979\n",
      "Не получилось отвергнуть нулевую гипотезу, нет оснований считать доли статистически разными\n",
      "\n",
      "342 148 1145 530\n",
      "Для групп A и B события: purchase, p_value=: 0.415894987\n",
      "Не получилось отвергнуть нулевую гипотезу, нет оснований считать доли статистически разными\n",
      "\n"
     ]
    }
   ],
   "source": [
    "# Поправка Бонферрони \n",
    "alfa = 0.05/3\n",
    "\n",
    "# пройдемся циклом по событиям групп A и В и применим функцию z_test.\n",
    "for event in funnels.index:\n",
    "    z_test(event, alfa)\n",
    "    print()"
   ]
  },
  {
   "cell_type": "markdown",
   "id": "e9792d86",
   "metadata": {},
   "source": [
    "Видим, что стат значимое различие есть только при конверсии из логина в страницу продукта. И как мы видели выше, это различие не в пользу тестовой группы. Конверсия по остальным событиям стат значимо не различается. А значит мы не можем сказать о том что  новая рекомендательная система улучшила указанные метрики."
   ]
  },
  {
   "cell_type": "markdown",
   "id": "e22b0a54",
   "metadata": {},
   "source": [
    "## Общий вывод"
   ]
  },
  {
   "cell_type": "markdown",
   "id": "894984fa",
   "metadata": {},
   "source": [
    "В нашем распоряжении были данные об активности пользователей и результатах проведенного А/В тестирования `recommender_system_test`, предоставленные компанией `N`. Задача состоял в том, чтобы оценить корректность проведенного теста, соответствие его установленному ТЗ и проанализировать полученные результаты А/В теста RST. \n",
    "\n",
    "**Результаты оценки корректности проведения теста**\n",
    "В одновременном проведении двух тестов ничего плохого нет, но когда пользователи этих двух тестов пересекаются, то определить что же действительно повлияло на изменение замеряемых метрик становится затруднительно, если и вовсе невозможно. В нашем случае пересечения между пользователями двух тестов были, и фильтрация сильно сократила размер тестируемой аудитории (с 6701 до 5918). \n",
    "Тем самым требование ТЗ относительно аудитории в 6000 пользователей уже не может быть выполнено. А после фильтрации данных по региону EU и срокам проведения, получили уже 5568 участников теста. \n",
    "\n",
    "Далее были обнаружены неактивные пользователи, которые после регистрации никаких событий не совершали. Было определено, что их количество набиралось в группы неравномерно, и даже с 14.12 они стали регистрироваться только в тестовую группу. Этот факт сильно повлиял на распределение количества событий на пользователя в контрольной и тестовой группах. Причина возникновения такого большого числа неактивных пользователей осталась неясна. \n",
    "\n",
    "Выполняя один из последних пунктов ТЗ аудитория теста в очередной раз сократилась, и после исключения из нее неактивных пользователей и пользователей не проживших 14 дней, в тесте осталось всего 1615 пользователей. Пользователи между группами распределились так: 1145 пользователей в контрольной группе А и 530 в тестовой группе В, т.е. почти 2 к 1.\n",
    "\n",
    "**Вывод:** не все пункты ТЗ были соблюдены, в ходе фильтрации аудитория теста потеряла почти 2/3 участников. Т.е. мы получили значительное уменьшение выборки, а значит потеряли в мощности теста, и тем самым возросла вероятность получить ошибку второго рода, т.е. оказаться в ситуации когда мы не сможем зафиксировать настоящие изменения.\n",
    "\n",
    "**Результаты проведенного А/В теста**\n",
    "Анализ проведенного А/В теста показал, что завяленных улучшений, таких метрик как конверсии в просмотр карточек товаров — событие `product_page`, просмотры корзины — `product_cart`, покупки — `purchase` на 10% не произошло. В первой даже потеряли 11%, в двух остальных улучшения всего 4% и 2% соответственно.<br>\n",
    "Проверка статистической разницы долей исследуемых выборок показала, что лишь для первой метрики (конверсии в просмотр карточек товаров) удалось отвергнуть нулевую гипотезу об отсутствие стат значимых различий между долями, а значит стат значимое различие есть. Для двух остальных (конверсия в просмотры корзины, конверсия в покупки)- отвергнуть нулевую гипотезу не удалось, а значит стат значимых различий между долями нет.\n",
    "\n",
    "**Вывод:** учитывая результаты оценки корректности проведенного А/В теста и потерю мощности теста у нас нет возможности объективно прогнозировать результаты к которым может привести \"раскатывание\" новой рекомендательной системы на всю целевую аудиторию."
   ]
  },
  {
   "cell_type": "markdown",
   "id": "0614e070",
   "metadata": {},
   "source": [
    "### Дополнительные материалы"
   ]
  },
  {
   "cell_type": "markdown",
   "id": "3bbfba59",
   "metadata": {},
   "source": [
    "[БАГ- РЕПОРТ](https://disk.yandex.ru/d/gXtR3PsVC0JPrQ)"
   ]
  }
 ],
 "metadata": {
  "ExecuteTimeLog": [
   {
    "duration": 1267,
    "start_time": "2023-01-10T19:39:22.858Z"
   },
   {
    "duration": 693,
    "start_time": "2023-01-10T19:39:24.127Z"
   },
   {
    "duration": 0,
    "start_time": "2023-01-10T19:39:24.827Z"
   },
   {
    "duration": 0,
    "start_time": "2023-01-10T19:39:24.829Z"
   },
   {
    "duration": 0,
    "start_time": "2023-01-10T19:39:24.831Z"
   },
   {
    "duration": 0,
    "start_time": "2023-01-10T19:39:24.832Z"
   },
   {
    "duration": 0,
    "start_time": "2023-01-10T19:39:24.834Z"
   },
   {
    "duration": 0,
    "start_time": "2023-01-10T19:39:24.835Z"
   },
   {
    "duration": 0,
    "start_time": "2023-01-10T19:39:24.837Z"
   },
   {
    "duration": 0,
    "start_time": "2023-01-10T19:39:24.838Z"
   },
   {
    "duration": 0,
    "start_time": "2023-01-10T19:39:24.841Z"
   },
   {
    "duration": 0,
    "start_time": "2023-01-10T19:39:24.842Z"
   },
   {
    "duration": 0,
    "start_time": "2023-01-10T19:39:24.844Z"
   },
   {
    "duration": 0,
    "start_time": "2023-01-10T19:39:24.845Z"
   },
   {
    "duration": 0,
    "start_time": "2023-01-10T19:39:24.847Z"
   },
   {
    "duration": 0,
    "start_time": "2023-01-10T19:39:24.848Z"
   },
   {
    "duration": 0,
    "start_time": "2023-01-10T19:39:24.849Z"
   },
   {
    "duration": 0,
    "start_time": "2023-01-10T19:39:24.851Z"
   },
   {
    "duration": 0,
    "start_time": "2023-01-10T19:39:24.855Z"
   },
   {
    "duration": 0,
    "start_time": "2023-01-10T19:39:24.856Z"
   },
   {
    "duration": 0,
    "start_time": "2023-01-10T19:39:24.858Z"
   },
   {
    "duration": 0,
    "start_time": "2023-01-10T19:39:24.859Z"
   },
   {
    "duration": 0,
    "start_time": "2023-01-10T19:39:24.860Z"
   },
   {
    "duration": 0,
    "start_time": "2023-01-10T19:39:24.862Z"
   },
   {
    "duration": 0,
    "start_time": "2023-01-10T19:39:24.863Z"
   },
   {
    "duration": 0,
    "start_time": "2023-01-10T19:39:24.864Z"
   },
   {
    "duration": 0,
    "start_time": "2023-01-10T19:39:24.867Z"
   },
   {
    "duration": 1,
    "start_time": "2023-01-10T19:39:24.925Z"
   },
   {
    "duration": 0,
    "start_time": "2023-01-10T19:39:24.927Z"
   },
   {
    "duration": 0,
    "start_time": "2023-01-10T19:39:24.929Z"
   },
   {
    "duration": 0,
    "start_time": "2023-01-10T19:39:24.930Z"
   },
   {
    "duration": 0,
    "start_time": "2023-01-10T19:39:24.931Z"
   },
   {
    "duration": 0,
    "start_time": "2023-01-10T19:39:24.933Z"
   },
   {
    "duration": 0,
    "start_time": "2023-01-10T19:39:24.934Z"
   },
   {
    "duration": 0,
    "start_time": "2023-01-10T19:39:24.936Z"
   },
   {
    "duration": 0,
    "start_time": "2023-01-10T19:39:24.938Z"
   },
   {
    "duration": 0,
    "start_time": "2023-01-10T19:39:24.940Z"
   },
   {
    "duration": 0,
    "start_time": "2023-01-10T19:39:24.941Z"
   },
   {
    "duration": 0,
    "start_time": "2023-01-10T19:39:24.943Z"
   },
   {
    "duration": 0,
    "start_time": "2023-01-10T19:39:24.944Z"
   },
   {
    "duration": 0,
    "start_time": "2023-01-10T19:39:24.947Z"
   },
   {
    "duration": 0,
    "start_time": "2023-01-10T19:39:24.948Z"
   },
   {
    "duration": 0,
    "start_time": "2023-01-10T19:39:24.949Z"
   },
   {
    "duration": 0,
    "start_time": "2023-01-10T19:39:24.951Z"
   },
   {
    "duration": 0,
    "start_time": "2023-01-10T19:39:24.952Z"
   },
   {
    "duration": 0,
    "start_time": "2023-01-10T19:39:24.953Z"
   },
   {
    "duration": 0,
    "start_time": "2023-01-10T19:39:24.953Z"
   },
   {
    "duration": 0,
    "start_time": "2023-01-10T19:39:24.954Z"
   },
   {
    "duration": 0,
    "start_time": "2023-01-10T19:39:24.955Z"
   },
   {
    "duration": 0,
    "start_time": "2023-01-10T19:39:24.956Z"
   },
   {
    "duration": 0,
    "start_time": "2023-01-10T19:39:24.958Z"
   },
   {
    "duration": 0,
    "start_time": "2023-01-10T19:39:24.960Z"
   },
   {
    "duration": 0,
    "start_time": "2023-01-10T19:39:24.961Z"
   },
   {
    "duration": 3,
    "start_time": "2023-01-10T19:39:58.815Z"
   },
   {
    "duration": 1176,
    "start_time": "2023-01-10T19:40:35.831Z"
   },
   {
    "duration": 3,
    "start_time": "2023-01-10T19:40:37.009Z"
   },
   {
    "duration": 560,
    "start_time": "2023-01-10T19:40:37.013Z"
   },
   {
    "duration": 107,
    "start_time": "2023-01-10T19:40:37.576Z"
   },
   {
    "duration": 106,
    "start_time": "2023-01-10T19:40:37.685Z"
   },
   {
    "duration": 0,
    "start_time": "2023-01-10T19:40:37.793Z"
   },
   {
    "duration": 0,
    "start_time": "2023-01-10T19:40:37.795Z"
   },
   {
    "duration": 0,
    "start_time": "2023-01-10T19:40:37.796Z"
   },
   {
    "duration": 0,
    "start_time": "2023-01-10T19:40:37.798Z"
   },
   {
    "duration": 0,
    "start_time": "2023-01-10T19:40:37.799Z"
   },
   {
    "duration": 0,
    "start_time": "2023-01-10T19:40:37.800Z"
   },
   {
    "duration": 0,
    "start_time": "2023-01-10T19:40:37.801Z"
   },
   {
    "duration": 0,
    "start_time": "2023-01-10T19:40:37.802Z"
   },
   {
    "duration": 0,
    "start_time": "2023-01-10T19:40:37.803Z"
   },
   {
    "duration": 0,
    "start_time": "2023-01-10T19:40:37.804Z"
   },
   {
    "duration": 0,
    "start_time": "2023-01-10T19:40:37.805Z"
   },
   {
    "duration": 0,
    "start_time": "2023-01-10T19:40:37.826Z"
   },
   {
    "duration": 0,
    "start_time": "2023-01-10T19:40:37.827Z"
   },
   {
    "duration": 0,
    "start_time": "2023-01-10T19:40:37.829Z"
   },
   {
    "duration": 0,
    "start_time": "2023-01-10T19:40:37.830Z"
   },
   {
    "duration": 0,
    "start_time": "2023-01-10T19:40:37.831Z"
   },
   {
    "duration": 0,
    "start_time": "2023-01-10T19:40:37.832Z"
   },
   {
    "duration": 0,
    "start_time": "2023-01-10T19:40:37.833Z"
   },
   {
    "duration": 0,
    "start_time": "2023-01-10T19:40:37.834Z"
   },
   {
    "duration": 0,
    "start_time": "2023-01-10T19:40:37.835Z"
   },
   {
    "duration": 0,
    "start_time": "2023-01-10T19:40:37.836Z"
   },
   {
    "duration": 0,
    "start_time": "2023-01-10T19:40:37.836Z"
   },
   {
    "duration": 0,
    "start_time": "2023-01-10T19:40:37.837Z"
   },
   {
    "duration": 0,
    "start_time": "2023-01-10T19:40:37.838Z"
   },
   {
    "duration": 0,
    "start_time": "2023-01-10T19:40:37.838Z"
   },
   {
    "duration": 0,
    "start_time": "2023-01-10T19:40:37.839Z"
   },
   {
    "duration": 0,
    "start_time": "2023-01-10T19:40:37.840Z"
   },
   {
    "duration": 0,
    "start_time": "2023-01-10T19:40:37.841Z"
   },
   {
    "duration": 0,
    "start_time": "2023-01-10T19:40:37.842Z"
   },
   {
    "duration": 0,
    "start_time": "2023-01-10T19:40:37.843Z"
   },
   {
    "duration": 0,
    "start_time": "2023-01-10T19:40:37.845Z"
   },
   {
    "duration": 0,
    "start_time": "2023-01-10T19:40:37.846Z"
   },
   {
    "duration": 0,
    "start_time": "2023-01-10T19:40:37.847Z"
   },
   {
    "duration": 0,
    "start_time": "2023-01-10T19:40:37.848Z"
   },
   {
    "duration": 1,
    "start_time": "2023-01-10T19:40:37.848Z"
   },
   {
    "duration": 0,
    "start_time": "2023-01-10T19:40:37.849Z"
   },
   {
    "duration": 0,
    "start_time": "2023-01-10T19:40:37.850Z"
   },
   {
    "duration": 0,
    "start_time": "2023-01-10T19:40:37.851Z"
   },
   {
    "duration": 0,
    "start_time": "2023-01-10T19:40:37.853Z"
   },
   {
    "duration": 0,
    "start_time": "2023-01-10T19:40:37.853Z"
   },
   {
    "duration": 0,
    "start_time": "2023-01-10T19:40:37.854Z"
   },
   {
    "duration": 0,
    "start_time": "2023-01-10T19:40:37.855Z"
   },
   {
    "duration": 0,
    "start_time": "2023-01-10T19:40:37.857Z"
   },
   {
    "duration": 0,
    "start_time": "2023-01-10T19:40:37.858Z"
   },
   {
    "duration": 0,
    "start_time": "2023-01-10T19:40:37.860Z"
   },
   {
    "duration": 1,
    "start_time": "2023-01-10T19:40:37.861Z"
   },
   {
    "duration": 0,
    "start_time": "2023-01-10T19:40:37.863Z"
   },
   {
    "duration": 0,
    "start_time": "2023-01-10T19:40:37.865Z"
   },
   {
    "duration": 0,
    "start_time": "2023-01-10T19:40:37.866Z"
   },
   {
    "duration": 1240,
    "start_time": "2023-01-10T19:41:04.727Z"
   },
   {
    "duration": 3,
    "start_time": "2023-01-10T19:41:05.969Z"
   },
   {
    "duration": 546,
    "start_time": "2023-01-10T19:41:05.973Z"
   },
   {
    "duration": 73,
    "start_time": "2023-01-10T19:41:06.522Z"
   },
   {
    "duration": 14,
    "start_time": "2023-01-10T19:41:06.597Z"
   },
   {
    "duration": 35,
    "start_time": "2023-01-10T19:41:06.628Z"
   },
   {
    "duration": 121,
    "start_time": "2023-01-10T19:41:06.666Z"
   },
   {
    "duration": 0,
    "start_time": "2023-01-10T19:41:06.791Z"
   },
   {
    "duration": 0,
    "start_time": "2023-01-10T19:41:06.795Z"
   },
   {
    "duration": 0,
    "start_time": "2023-01-10T19:41:06.797Z"
   },
   {
    "duration": 0,
    "start_time": "2023-01-10T19:41:06.798Z"
   },
   {
    "duration": 0,
    "start_time": "2023-01-10T19:41:06.799Z"
   },
   {
    "duration": 0,
    "start_time": "2023-01-10T19:41:06.800Z"
   },
   {
    "duration": 0,
    "start_time": "2023-01-10T19:41:06.801Z"
   },
   {
    "duration": 0,
    "start_time": "2023-01-10T19:41:06.802Z"
   },
   {
    "duration": 0,
    "start_time": "2023-01-10T19:41:06.803Z"
   },
   {
    "duration": 0,
    "start_time": "2023-01-10T19:41:06.804Z"
   },
   {
    "duration": 0,
    "start_time": "2023-01-10T19:41:06.806Z"
   },
   {
    "duration": 0,
    "start_time": "2023-01-10T19:41:06.808Z"
   },
   {
    "duration": 0,
    "start_time": "2023-01-10T19:41:06.827Z"
   },
   {
    "duration": 0,
    "start_time": "2023-01-10T19:41:06.829Z"
   },
   {
    "duration": 0,
    "start_time": "2023-01-10T19:41:06.831Z"
   },
   {
    "duration": 0,
    "start_time": "2023-01-10T19:41:06.835Z"
   },
   {
    "duration": 0,
    "start_time": "2023-01-10T19:41:06.837Z"
   },
   {
    "duration": 0,
    "start_time": "2023-01-10T19:41:06.838Z"
   },
   {
    "duration": 0,
    "start_time": "2023-01-10T19:41:06.840Z"
   },
   {
    "duration": 0,
    "start_time": "2023-01-10T19:41:06.841Z"
   },
   {
    "duration": 0,
    "start_time": "2023-01-10T19:41:06.842Z"
   },
   {
    "duration": 0,
    "start_time": "2023-01-10T19:41:06.845Z"
   },
   {
    "duration": 0,
    "start_time": "2023-01-10T19:41:06.847Z"
   },
   {
    "duration": 0,
    "start_time": "2023-01-10T19:41:06.848Z"
   },
   {
    "duration": 0,
    "start_time": "2023-01-10T19:41:06.850Z"
   },
   {
    "duration": 1,
    "start_time": "2023-01-10T19:41:06.852Z"
   },
   {
    "duration": 0,
    "start_time": "2023-01-10T19:41:06.854Z"
   },
   {
    "duration": 0,
    "start_time": "2023-01-10T19:41:06.856Z"
   },
   {
    "duration": 0,
    "start_time": "2023-01-10T19:41:06.859Z"
   },
   {
    "duration": 1,
    "start_time": "2023-01-10T19:41:06.860Z"
   },
   {
    "duration": 0,
    "start_time": "2023-01-10T19:41:06.862Z"
   },
   {
    "duration": 0,
    "start_time": "2023-01-10T19:41:06.864Z"
   },
   {
    "duration": 0,
    "start_time": "2023-01-10T19:41:06.866Z"
   },
   {
    "duration": 0,
    "start_time": "2023-01-10T19:41:06.868Z"
   },
   {
    "duration": 0,
    "start_time": "2023-01-10T19:41:06.870Z"
   },
   {
    "duration": 0,
    "start_time": "2023-01-10T19:41:06.871Z"
   },
   {
    "duration": 0,
    "start_time": "2023-01-10T19:41:06.873Z"
   },
   {
    "duration": 0,
    "start_time": "2023-01-10T19:41:06.875Z"
   },
   {
    "duration": 0,
    "start_time": "2023-01-10T19:41:06.876Z"
   },
   {
    "duration": 0,
    "start_time": "2023-01-10T19:41:06.877Z"
   },
   {
    "duration": 0,
    "start_time": "2023-01-10T19:41:06.878Z"
   },
   {
    "duration": 0,
    "start_time": "2023-01-10T19:41:06.879Z"
   },
   {
    "duration": 0,
    "start_time": "2023-01-10T19:41:06.927Z"
   },
   {
    "duration": 0,
    "start_time": "2023-01-10T19:41:06.929Z"
   },
   {
    "duration": 0,
    "start_time": "2023-01-10T19:41:06.930Z"
   },
   {
    "duration": 0,
    "start_time": "2023-01-10T19:41:06.931Z"
   },
   {
    "duration": 0,
    "start_time": "2023-01-10T19:41:06.933Z"
   },
   {
    "duration": 1260,
    "start_time": "2023-01-10T19:41:17.995Z"
   },
   {
    "duration": 3,
    "start_time": "2023-01-10T19:41:19.257Z"
   },
   {
    "duration": 561,
    "start_time": "2023-01-10T19:41:19.262Z"
   },
   {
    "duration": 101,
    "start_time": "2023-01-10T19:41:19.825Z"
   },
   {
    "duration": 15,
    "start_time": "2023-01-10T19:41:19.929Z"
   },
   {
    "duration": 36,
    "start_time": "2023-01-10T19:41:19.946Z"
   },
   {
    "duration": 19,
    "start_time": "2023-01-10T19:41:19.984Z"
   },
   {
    "duration": 150,
    "start_time": "2023-01-10T19:41:20.006Z"
   },
   {
    "duration": 37,
    "start_time": "2023-01-10T19:41:20.158Z"
   },
   {
    "duration": 50,
    "start_time": "2023-01-10T19:41:20.196Z"
   },
   {
    "duration": 96,
    "start_time": "2023-01-10T19:41:20.248Z"
   },
   {
    "duration": 180,
    "start_time": "2023-01-10T19:41:20.346Z"
   },
   {
    "duration": 234,
    "start_time": "2023-01-10T19:41:20.528Z"
   },
   {
    "duration": 318,
    "start_time": "2023-01-10T19:41:20.766Z"
   },
   {
    "duration": 10,
    "start_time": "2023-01-10T19:41:21.086Z"
   },
   {
    "duration": 95,
    "start_time": "2023-01-10T19:41:21.097Z"
   },
   {
    "duration": 336,
    "start_time": "2023-01-10T19:41:21.193Z"
   },
   {
    "duration": 6,
    "start_time": "2023-01-10T19:41:21.533Z"
   },
   {
    "duration": 2315,
    "start_time": "2023-01-10T19:41:21.541Z"
   },
   {
    "duration": 72,
    "start_time": "2023-01-10T19:41:23.858Z"
   },
   {
    "duration": 13,
    "start_time": "2023-01-10T19:41:23.932Z"
   },
   {
    "duration": 100,
    "start_time": "2023-01-10T19:41:23.947Z"
   },
   {
    "duration": 21,
    "start_time": "2023-01-10T19:41:24.050Z"
   },
   {
    "duration": 30,
    "start_time": "2023-01-10T19:41:24.073Z"
   },
   {
    "duration": 33,
    "start_time": "2023-01-10T19:41:24.105Z"
   },
   {
    "duration": 33,
    "start_time": "2023-01-10T19:41:24.141Z"
   },
   {
    "duration": 46,
    "start_time": "2023-01-10T19:41:24.176Z"
   },
   {
    "duration": 36,
    "start_time": "2023-01-10T19:41:24.224Z"
   },
   {
    "duration": 235,
    "start_time": "2023-01-10T19:41:24.263Z"
   },
   {
    "duration": 14,
    "start_time": "2023-01-10T19:41:24.501Z"
   },
   {
    "duration": 46,
    "start_time": "2023-01-10T19:41:24.517Z"
   },
   {
    "duration": 84,
    "start_time": "2023-01-10T19:41:24.566Z"
   },
   {
    "duration": 55,
    "start_time": "2023-01-10T19:41:24.652Z"
   },
   {
    "duration": 40,
    "start_time": "2023-01-10T19:41:24.727Z"
   },
   {
    "duration": 22,
    "start_time": "2023-01-10T19:41:24.771Z"
   },
   {
    "duration": 52,
    "start_time": "2023-01-10T19:41:24.794Z"
   },
   {
    "duration": 383,
    "start_time": "2023-01-10T19:41:24.848Z"
   },
   {
    "duration": 101,
    "start_time": "2023-01-10T19:41:25.233Z"
   },
   {
    "duration": 5,
    "start_time": "2023-01-10T19:41:25.337Z"
   },
   {
    "duration": 44,
    "start_time": "2023-01-10T19:41:25.345Z"
   },
   {
    "duration": 71,
    "start_time": "2023-01-10T19:41:25.397Z"
   },
   {
    "duration": 10,
    "start_time": "2023-01-10T19:41:25.471Z"
   },
   {
    "duration": 60,
    "start_time": "2023-01-10T19:41:25.482Z"
   },
   {
    "duration": 43,
    "start_time": "2023-01-10T19:41:25.544Z"
   },
   {
    "duration": 44,
    "start_time": "2023-01-10T19:41:25.591Z"
   },
   {
    "duration": 41,
    "start_time": "2023-01-10T19:41:25.637Z"
   },
   {
    "duration": 55,
    "start_time": "2023-01-10T19:41:25.679Z"
   },
   {
    "duration": 37,
    "start_time": "2023-01-10T19:41:25.736Z"
   },
   {
    "duration": 54,
    "start_time": "2023-01-10T19:41:25.775Z"
   },
   {
    "duration": 35,
    "start_time": "2023-01-10T19:41:25.837Z"
   },
   {
    "duration": 67,
    "start_time": "2023-01-10T19:41:25.874Z"
   },
   {
    "duration": 81,
    "start_time": "2023-01-10T19:41:25.943Z"
   },
   {
    "duration": 7,
    "start_time": "2023-01-10T19:41:26.026Z"
   },
   {
    "duration": 34,
    "start_time": "2023-01-10T19:41:26.035Z"
   },
   {
    "duration": 15,
    "start_time": "2023-01-10T19:51:48.122Z"
   },
   {
    "duration": 6,
    "start_time": "2023-01-10T19:51:54.418Z"
   },
   {
    "duration": 10,
    "start_time": "2023-01-10T19:53:43.718Z"
   },
   {
    "duration": 8,
    "start_time": "2023-01-10T20:01:00.794Z"
   },
   {
    "duration": 305,
    "start_time": "2023-01-10T20:01:02.351Z"
   },
   {
    "duration": 10,
    "start_time": "2023-01-10T20:01:31.819Z"
   },
   {
    "duration": 9,
    "start_time": "2023-01-10T20:01:34.290Z"
   },
   {
    "duration": 10,
    "start_time": "2023-01-10T20:01:35.298Z"
   },
   {
    "duration": 1338,
    "start_time": "2023-01-10T20:26:47.900Z"
   },
   {
    "duration": 2009,
    "start_time": "2023-01-10T20:26:55.878Z"
   },
   {
    "duration": 608,
    "start_time": "2023-01-10T20:27:36.767Z"
   },
   {
    "duration": 80,
    "start_time": "2023-01-10T20:28:40.573Z"
   },
   {
    "duration": 608,
    "start_time": "2023-01-10T20:30:47.306Z"
   },
   {
    "duration": 692,
    "start_time": "2023-01-10T20:31:05.575Z"
   },
   {
    "duration": 10,
    "start_time": "2023-01-10T21:54:27.688Z"
   },
   {
    "duration": 1237,
    "start_time": "2023-01-10T21:54:56.107Z"
   },
   {
    "duration": 611,
    "start_time": "2023-01-10T21:54:57.345Z"
   },
   {
    "duration": 543,
    "start_time": "2023-01-10T21:54:57.959Z"
   },
   {
    "duration": 74,
    "start_time": "2023-01-10T21:54:58.504Z"
   },
   {
    "duration": 14,
    "start_time": "2023-01-10T21:54:58.580Z"
   },
   {
    "duration": 22,
    "start_time": "2023-01-10T21:54:58.596Z"
   },
   {
    "duration": 40,
    "start_time": "2023-01-10T21:54:58.619Z"
   },
   {
    "duration": 113,
    "start_time": "2023-01-10T21:54:58.660Z"
   },
   {
    "duration": 38,
    "start_time": "2023-01-10T21:54:58.774Z"
   },
   {
    "duration": 52,
    "start_time": "2023-01-10T21:54:58.813Z"
   },
   {
    "duration": 68,
    "start_time": "2023-01-10T21:54:58.867Z"
   },
   {
    "duration": 149,
    "start_time": "2023-01-10T21:54:58.938Z"
   },
   {
    "duration": 256,
    "start_time": "2023-01-10T21:54:59.088Z"
   },
   {
    "duration": 326,
    "start_time": "2023-01-10T21:54:59.346Z"
   },
   {
    "duration": 11,
    "start_time": "2023-01-10T21:54:59.674Z"
   },
   {
    "duration": 76,
    "start_time": "2023-01-10T21:54:59.686Z"
   },
   {
    "duration": 161,
    "start_time": "2023-01-10T21:54:59.764Z"
   },
   {
    "duration": 6,
    "start_time": "2023-01-10T21:54:59.927Z"
   },
   {
    "duration": 2182,
    "start_time": "2023-01-10T21:54:59.935Z"
   },
   {
    "duration": 51,
    "start_time": "2023-01-10T21:55:02.119Z"
   },
   {
    "duration": 8,
    "start_time": "2023-01-10T21:55:02.172Z"
   },
   {
    "duration": 79,
    "start_time": "2023-01-10T21:55:02.181Z"
   },
   {
    "duration": 6,
    "start_time": "2023-01-10T21:55:02.262Z"
   },
   {
    "duration": 36,
    "start_time": "2023-01-10T21:55:02.270Z"
   },
   {
    "duration": 52,
    "start_time": "2023-01-10T21:55:02.308Z"
   },
   {
    "duration": 17,
    "start_time": "2023-01-10T21:55:02.361Z"
   },
   {
    "duration": 13,
    "start_time": "2023-01-10T21:55:02.379Z"
   },
   {
    "duration": 30,
    "start_time": "2023-01-10T21:55:02.393Z"
   },
   {
    "duration": 282,
    "start_time": "2023-01-10T21:55:02.425Z"
   },
   {
    "duration": 12,
    "start_time": "2023-01-10T21:55:02.709Z"
   },
   {
    "duration": 9,
    "start_time": "2023-01-10T21:55:02.723Z"
   },
   {
    "duration": 32,
    "start_time": "2023-01-10T21:55:02.734Z"
   },
   {
    "duration": 44,
    "start_time": "2023-01-10T21:55:02.768Z"
   },
   {
    "duration": 50,
    "start_time": "2023-01-10T21:55:02.814Z"
   },
   {
    "duration": 48,
    "start_time": "2023-01-10T21:55:02.865Z"
   },
   {
    "duration": 23,
    "start_time": "2023-01-10T21:55:02.915Z"
   },
   {
    "duration": 33,
    "start_time": "2023-01-10T21:55:02.952Z"
   },
   {
    "duration": 382,
    "start_time": "2023-01-10T21:55:02.988Z"
   },
   {
    "duration": 80,
    "start_time": "2023-01-10T21:55:03.372Z"
   },
   {
    "duration": 5,
    "start_time": "2023-01-10T21:55:03.454Z"
   },
   {
    "duration": 14,
    "start_time": "2023-01-10T21:55:03.462Z"
   },
   {
    "duration": 41,
    "start_time": "2023-01-10T21:55:03.478Z"
   },
   {
    "duration": 37,
    "start_time": "2023-01-10T21:55:03.520Z"
   },
   {
    "duration": 36,
    "start_time": "2023-01-10T21:55:03.559Z"
   },
   {
    "duration": 19,
    "start_time": "2023-01-10T21:55:03.597Z"
   },
   {
    "duration": 52,
    "start_time": "2023-01-10T21:55:03.618Z"
   },
   {
    "duration": 19,
    "start_time": "2023-01-10T21:55:03.672Z"
   },
   {
    "duration": 25,
    "start_time": "2023-01-10T21:55:03.693Z"
   },
   {
    "duration": 45,
    "start_time": "2023-01-10T21:55:03.720Z"
   },
   {
    "duration": 33,
    "start_time": "2023-01-10T21:55:03.767Z"
   },
   {
    "duration": 29,
    "start_time": "2023-01-10T21:55:03.802Z"
   },
   {
    "duration": 22,
    "start_time": "2023-01-10T21:55:03.853Z"
   },
   {
    "duration": 26,
    "start_time": "2023-01-10T21:55:03.876Z"
   },
   {
    "duration": 5,
    "start_time": "2023-01-10T21:55:03.903Z"
   },
   {
    "duration": 15,
    "start_time": "2023-01-10T21:55:03.910Z"
   },
   {
    "duration": 86,
    "start_time": "2023-01-10T21:58:25.007Z"
   },
   {
    "duration": 1236,
    "start_time": "2023-01-10T21:59:37.319Z"
   },
   {
    "duration": 633,
    "start_time": "2023-01-10T21:59:38.557Z"
   },
   {
    "duration": 543,
    "start_time": "2023-01-10T21:59:39.191Z"
   },
   {
    "duration": 69,
    "start_time": "2023-01-10T21:59:39.736Z"
   },
   {
    "duration": 15,
    "start_time": "2023-01-10T21:59:39.807Z"
   },
   {
    "duration": 37,
    "start_time": "2023-01-10T21:59:39.824Z"
   },
   {
    "duration": 15,
    "start_time": "2023-01-10T21:59:39.863Z"
   },
   {
    "duration": 114,
    "start_time": "2023-01-10T21:59:39.881Z"
   },
   {
    "duration": 39,
    "start_time": "2023-01-10T21:59:39.997Z"
   },
   {
    "duration": 49,
    "start_time": "2023-01-10T21:59:40.037Z"
   },
   {
    "duration": 91,
    "start_time": "2023-01-10T21:59:40.088Z"
   },
   {
    "duration": 135,
    "start_time": "2023-01-10T21:59:40.181Z"
   },
   {
    "duration": 272,
    "start_time": "2023-01-10T21:59:40.318Z"
   },
   {
    "duration": 320,
    "start_time": "2023-01-10T21:59:40.593Z"
   },
   {
    "duration": 10,
    "start_time": "2023-01-10T21:59:40.915Z"
   },
   {
    "duration": 76,
    "start_time": "2023-01-10T21:59:40.926Z"
   },
   {
    "duration": 165,
    "start_time": "2023-01-10T21:59:41.004Z"
   },
   {
    "duration": 4,
    "start_time": "2023-01-10T21:59:41.171Z"
   },
   {
    "duration": 2196,
    "start_time": "2023-01-10T21:59:41.176Z"
   },
   {
    "duration": 19,
    "start_time": "2023-01-10T21:59:43.374Z"
   },
   {
    "duration": 58,
    "start_time": "2023-01-10T21:59:43.395Z"
   },
   {
    "duration": 24,
    "start_time": "2023-01-10T21:59:43.455Z"
   },
   {
    "duration": 7,
    "start_time": "2023-01-10T21:59:43.481Z"
   },
   {
    "duration": 66,
    "start_time": "2023-01-10T21:59:43.490Z"
   },
   {
    "duration": 15,
    "start_time": "2023-01-10T21:59:43.558Z"
   },
   {
    "duration": 5,
    "start_time": "2023-01-10T21:59:43.575Z"
   },
   {
    "duration": 10,
    "start_time": "2023-01-10T21:59:43.582Z"
   },
   {
    "duration": 17,
    "start_time": "2023-01-10T21:59:49.283Z"
   },
   {
    "duration": 232,
    "start_time": "2023-01-10T21:59:57.383Z"
   },
   {
    "duration": 11,
    "start_time": "2023-01-10T22:00:01.399Z"
   },
   {
    "duration": 1157,
    "start_time": "2023-01-10T22:02:50.395Z"
   },
   {
    "duration": 621,
    "start_time": "2023-01-10T22:02:51.554Z"
   },
   {
    "duration": 656,
    "start_time": "2023-01-10T22:02:52.177Z"
   },
   {
    "duration": 72,
    "start_time": "2023-01-10T22:02:52.835Z"
   },
   {
    "duration": 14,
    "start_time": "2023-01-10T22:02:52.908Z"
   },
   {
    "duration": 41,
    "start_time": "2023-01-10T22:02:52.924Z"
   },
   {
    "duration": 23,
    "start_time": "2023-01-10T22:02:52.967Z"
   },
   {
    "duration": 14,
    "start_time": "2023-01-10T22:02:59.747Z"
   },
   {
    "duration": 17,
    "start_time": "2023-01-10T22:03:41.823Z"
   },
   {
    "duration": 14,
    "start_time": "2023-01-10T22:03:55.450Z"
   },
   {
    "duration": 25,
    "start_time": "2023-01-10T22:04:12.481Z"
   },
   {
    "duration": 14,
    "start_time": "2023-01-10T22:04:31.607Z"
   },
   {
    "duration": 1216,
    "start_time": "2023-01-10T22:05:05.925Z"
   },
   {
    "duration": 613,
    "start_time": "2023-01-10T22:05:07.143Z"
   },
   {
    "duration": 543,
    "start_time": "2023-01-10T22:05:07.758Z"
   },
   {
    "duration": 70,
    "start_time": "2023-01-10T22:05:08.303Z"
   },
   {
    "duration": 13,
    "start_time": "2023-01-10T22:05:08.375Z"
   },
   {
    "duration": 23,
    "start_time": "2023-01-10T22:05:08.390Z"
   },
   {
    "duration": 18,
    "start_time": "2023-01-10T22:05:08.414Z"
   },
   {
    "duration": 16,
    "start_time": "2023-01-10T22:05:11.964Z"
   },
   {
    "duration": 4,
    "start_time": "2023-01-10T22:05:53.864Z"
   },
   {
    "duration": 625,
    "start_time": "2023-01-10T22:05:53.870Z"
   },
   {
    "duration": 515,
    "start_time": "2023-01-10T22:05:54.497Z"
   },
   {
    "duration": 67,
    "start_time": "2023-01-10T22:05:55.014Z"
   },
   {
    "duration": 13,
    "start_time": "2023-01-10T22:05:55.083Z"
   },
   {
    "duration": 20,
    "start_time": "2023-01-10T22:05:55.097Z"
   },
   {
    "duration": 36,
    "start_time": "2023-01-10T22:05:55.119Z"
   },
   {
    "duration": 107,
    "start_time": "2023-01-10T22:05:55.156Z"
   },
   {
    "duration": 36,
    "start_time": "2023-01-10T22:05:55.265Z"
   },
   {
    "duration": 51,
    "start_time": "2023-01-10T22:05:55.303Z"
   },
   {
    "duration": 64,
    "start_time": "2023-01-10T22:05:55.355Z"
   },
   {
    "duration": 134,
    "start_time": "2023-01-10T22:05:55.421Z"
   },
   {
    "duration": 247,
    "start_time": "2023-01-10T22:05:55.556Z"
   },
   {
    "duration": 301,
    "start_time": "2023-01-10T22:05:55.805Z"
   },
   {
    "duration": 9,
    "start_time": "2023-01-10T22:05:56.108Z"
   },
   {
    "duration": 69,
    "start_time": "2023-01-10T22:05:56.119Z"
   },
   {
    "duration": 157,
    "start_time": "2023-01-10T22:05:56.189Z"
   },
   {
    "duration": 4,
    "start_time": "2023-01-10T22:05:56.347Z"
   },
   {
    "duration": 2133,
    "start_time": "2023-01-10T22:05:56.353Z"
   },
   {
    "duration": 65,
    "start_time": "2023-01-10T22:05:58.488Z"
   },
   {
    "duration": 6,
    "start_time": "2023-01-10T22:05:58.555Z"
   },
   {
    "duration": 19,
    "start_time": "2023-01-10T22:05:58.563Z"
   },
   {
    "duration": 6,
    "start_time": "2023-01-10T22:05:58.584Z"
   },
   {
    "duration": 63,
    "start_time": "2023-01-10T22:05:58.591Z"
   },
   {
    "duration": 13,
    "start_time": "2023-01-10T22:05:58.656Z"
   },
   {
    "duration": 6,
    "start_time": "2023-01-10T22:05:58.671Z"
   },
   {
    "duration": 24,
    "start_time": "2023-01-10T22:05:58.679Z"
   },
   {
    "duration": 60,
    "start_time": "2023-01-10T22:05:58.704Z"
   },
   {
    "duration": 16,
    "start_time": "2023-01-10T22:06:03.226Z"
   },
   {
    "duration": 13,
    "start_time": "2023-01-10T22:07:09.606Z"
   },
   {
    "duration": 4,
    "start_time": "2023-01-10T22:07:21.486Z"
   },
   {
    "duration": 24,
    "start_time": "2023-01-10T22:07:37.602Z"
   },
   {
    "duration": 142,
    "start_time": "2023-01-10T22:08:57.975Z"
   },
   {
    "duration": 4,
    "start_time": "2023-01-10T22:09:01.890Z"
   },
   {
    "duration": 584,
    "start_time": "2023-01-10T22:09:01.902Z"
   },
   {
    "duration": 512,
    "start_time": "2023-01-10T22:09:02.489Z"
   },
   {
    "duration": 64,
    "start_time": "2023-01-10T22:09:03.003Z"
   },
   {
    "duration": 15,
    "start_time": "2023-01-10T22:09:03.068Z"
   },
   {
    "duration": 20,
    "start_time": "2023-01-10T22:09:03.084Z"
   },
   {
    "duration": 14,
    "start_time": "2023-01-10T22:09:03.105Z"
   },
   {
    "duration": 117,
    "start_time": "2023-01-10T22:09:03.121Z"
   },
   {
    "duration": 41,
    "start_time": "2023-01-10T22:09:03.239Z"
   },
   {
    "duration": 33,
    "start_time": "2023-01-10T22:09:03.282Z"
   },
   {
    "duration": 81,
    "start_time": "2023-01-10T22:09:03.317Z"
   },
   {
    "duration": 129,
    "start_time": "2023-01-10T22:09:03.399Z"
   },
   {
    "duration": 245,
    "start_time": "2023-01-10T22:09:03.529Z"
   },
   {
    "duration": 294,
    "start_time": "2023-01-10T22:09:03.775Z"
   },
   {
    "duration": 11,
    "start_time": "2023-01-10T22:09:04.072Z"
   },
   {
    "duration": 72,
    "start_time": "2023-01-10T22:09:04.085Z"
   },
   {
    "duration": 16,
    "start_time": "2023-01-10T22:09:04.158Z"
   },
   {
    "duration": 7,
    "start_time": "2023-01-10T22:09:04.176Z"
   },
   {
    "duration": 1883,
    "start_time": "2023-01-10T22:09:04.185Z"
   },
   {
    "duration": 18,
    "start_time": "2023-01-10T22:09:06.070Z"
   },
   {
    "duration": 6,
    "start_time": "2023-01-10T22:09:06.090Z"
   },
   {
    "duration": 71,
    "start_time": "2023-01-10T22:09:06.097Z"
   },
   {
    "duration": 9,
    "start_time": "2023-01-10T22:09:06.170Z"
   },
   {
    "duration": 16,
    "start_time": "2023-01-10T22:09:06.181Z"
   },
   {
    "duration": 61,
    "start_time": "2023-01-10T22:09:06.199Z"
   },
   {
    "duration": 5,
    "start_time": "2023-01-10T22:09:06.262Z"
   },
   {
    "duration": 13,
    "start_time": "2023-01-10T22:09:06.269Z"
   },
   {
    "duration": 19,
    "start_time": "2023-01-10T22:09:06.283Z"
   },
   {
    "duration": 57,
    "start_time": "2023-01-10T22:09:06.303Z"
   },
   {
    "duration": 240,
    "start_time": "2023-01-10T22:09:06.362Z"
   },
   {
    "duration": 12,
    "start_time": "2023-01-10T22:09:06.604Z"
   },
   {
    "duration": 11,
    "start_time": "2023-01-10T22:09:06.618Z"
   },
   {
    "duration": 27,
    "start_time": "2023-01-10T22:09:06.630Z"
   },
   {
    "duration": 39,
    "start_time": "2023-01-10T22:09:06.658Z"
   },
   {
    "duration": 61,
    "start_time": "2023-01-10T22:09:06.699Z"
   },
   {
    "duration": 31,
    "start_time": "2023-01-10T22:09:06.762Z"
   },
   {
    "duration": 22,
    "start_time": "2023-01-10T22:09:06.795Z"
   },
   {
    "duration": 50,
    "start_time": "2023-01-10T22:09:06.819Z"
   },
   {
    "duration": 383,
    "start_time": "2023-01-10T22:09:06.871Z"
   },
   {
    "duration": 67,
    "start_time": "2023-01-10T22:09:07.255Z"
   },
   {
    "duration": 4,
    "start_time": "2023-01-10T22:09:07.323Z"
   },
   {
    "duration": 27,
    "start_time": "2023-01-10T22:09:07.331Z"
   },
   {
    "duration": 40,
    "start_time": "2023-01-10T22:09:07.360Z"
   },
   {
    "duration": 9,
    "start_time": "2023-01-10T22:09:07.401Z"
   },
   {
    "duration": 70,
    "start_time": "2023-01-10T22:09:07.412Z"
   },
   {
    "duration": 21,
    "start_time": "2023-01-10T22:09:07.484Z"
   },
   {
    "duration": 23,
    "start_time": "2023-01-10T22:09:07.506Z"
   },
   {
    "duration": 38,
    "start_time": "2023-01-10T22:09:07.531Z"
   },
   {
    "duration": 30,
    "start_time": "2023-01-10T22:09:07.570Z"
   },
   {
    "duration": 23,
    "start_time": "2023-01-10T22:09:07.602Z"
   },
   {
    "duration": 45,
    "start_time": "2023-01-10T22:09:07.626Z"
   },
   {
    "duration": 25,
    "start_time": "2023-01-10T22:09:07.673Z"
   },
   {
    "duration": 20,
    "start_time": "2023-01-10T22:09:07.699Z"
   },
   {
    "duration": 43,
    "start_time": "2023-01-10T22:09:07.721Z"
   },
   {
    "duration": 5,
    "start_time": "2023-01-10T22:09:07.766Z"
   },
   {
    "duration": 15,
    "start_time": "2023-01-10T22:09:07.773Z"
   },
   {
    "duration": 11,
    "start_time": "2023-01-10T22:09:40.485Z"
   },
   {
    "duration": 9,
    "start_time": "2023-01-10T22:16:49.774Z"
   },
   {
    "duration": 5,
    "start_time": "2023-01-10T22:17:52.768Z"
   },
   {
    "duration": 4,
    "start_time": "2023-01-10T22:24:30.646Z"
   },
   {
    "duration": 72,
    "start_time": "2023-01-10T22:26:05.710Z"
   },
   {
    "duration": 74,
    "start_time": "2023-01-10T22:26:34.976Z"
   },
   {
    "duration": 75,
    "start_time": "2023-01-10T22:26:48.908Z"
   },
   {
    "duration": 1183,
    "start_time": "2023-01-10T22:27:27.666Z"
   },
   {
    "duration": 2018,
    "start_time": "2023-01-10T22:27:28.852Z"
   },
   {
    "duration": 539,
    "start_time": "2023-01-10T22:27:30.872Z"
   },
   {
    "duration": 78,
    "start_time": "2023-01-10T22:27:31.414Z"
   },
   {
    "duration": 14,
    "start_time": "2023-01-10T22:27:31.493Z"
   },
   {
    "duration": 21,
    "start_time": "2023-01-10T22:27:31.508Z"
   },
   {
    "duration": 35,
    "start_time": "2023-01-10T22:27:31.530Z"
   },
   {
    "duration": 113,
    "start_time": "2023-01-10T22:27:31.567Z"
   },
   {
    "duration": 36,
    "start_time": "2023-01-10T22:27:31.681Z"
   },
   {
    "duration": 47,
    "start_time": "2023-01-10T22:27:31.719Z"
   },
   {
    "duration": 71,
    "start_time": "2023-01-10T22:27:31.768Z"
   },
   {
    "duration": 136,
    "start_time": "2023-01-10T22:27:31.840Z"
   },
   {
    "duration": 253,
    "start_time": "2023-01-10T22:27:31.978Z"
   },
   {
    "duration": 343,
    "start_time": "2023-01-10T22:27:32.233Z"
   },
   {
    "duration": 12,
    "start_time": "2023-01-10T22:27:32.577Z"
   },
   {
    "duration": 75,
    "start_time": "2023-01-10T22:27:32.591Z"
   },
   {
    "duration": 160,
    "start_time": "2023-01-10T22:27:32.668Z"
   },
   {
    "duration": 5,
    "start_time": "2023-01-10T22:27:32.830Z"
   },
   {
    "duration": 2223,
    "start_time": "2023-01-10T22:27:32.837Z"
   },
   {
    "duration": 18,
    "start_time": "2023-01-10T22:27:35.063Z"
   },
   {
    "duration": 17,
    "start_time": "2023-01-10T22:27:35.083Z"
   },
   {
    "duration": 65,
    "start_time": "2023-01-10T22:27:35.101Z"
   },
   {
    "duration": 31,
    "start_time": "2023-01-10T22:27:35.168Z"
   },
   {
    "duration": 55,
    "start_time": "2023-01-10T22:27:35.201Z"
   },
   {
    "duration": 12,
    "start_time": "2023-01-10T22:27:35.258Z"
   },
   {
    "duration": 21,
    "start_time": "2023-01-10T22:27:35.271Z"
   },
   {
    "duration": 36,
    "start_time": "2023-01-10T22:27:35.294Z"
   },
   {
    "duration": 33,
    "start_time": "2023-01-10T22:27:35.333Z"
   },
   {
    "duration": 35,
    "start_time": "2023-01-10T22:27:35.367Z"
   },
   {
    "duration": 227,
    "start_time": "2023-01-10T22:27:35.404Z"
   },
   {
    "duration": 11,
    "start_time": "2023-01-10T22:27:35.633Z"
   },
   {
    "duration": 11,
    "start_time": "2023-01-10T22:27:35.651Z"
   },
   {
    "duration": 45,
    "start_time": "2023-01-10T22:27:35.663Z"
   },
   {
    "duration": 84,
    "start_time": "2023-01-10T22:27:35.709Z"
   },
   {
    "duration": 35,
    "start_time": "2023-01-10T22:27:35.794Z"
   },
   {
    "duration": 51,
    "start_time": "2023-01-10T22:27:35.830Z"
   },
   {
    "duration": 23,
    "start_time": "2023-01-10T22:27:35.882Z"
   },
   {
    "duration": 51,
    "start_time": "2023-01-10T22:27:35.907Z"
   },
   {
    "duration": 362,
    "start_time": "2023-01-10T22:27:35.960Z"
   },
   {
    "duration": 73,
    "start_time": "2023-01-10T22:27:36.323Z"
   },
   {
    "duration": 4,
    "start_time": "2023-01-10T22:27:36.398Z"
   },
   {
    "duration": 14,
    "start_time": "2023-01-10T22:27:36.403Z"
   },
   {
    "duration": 55,
    "start_time": "2023-01-10T22:27:36.419Z"
   },
   {
    "duration": 9,
    "start_time": "2023-01-10T22:27:36.476Z"
   },
   {
    "duration": 36,
    "start_time": "2023-01-10T22:27:36.487Z"
   },
   {
    "duration": 43,
    "start_time": "2023-01-10T22:27:36.525Z"
   },
   {
    "duration": 19,
    "start_time": "2023-01-10T22:27:36.569Z"
   },
   {
    "duration": 17,
    "start_time": "2023-01-10T22:27:36.589Z"
   },
   {
    "duration": 57,
    "start_time": "2023-01-10T22:32:32.557Z"
   },
   {
    "duration": 1298,
    "start_time": "2023-01-10T22:32:37.549Z"
   },
   {
    "duration": 1934,
    "start_time": "2023-01-10T22:32:38.849Z"
   },
   {
    "duration": 557,
    "start_time": "2023-01-10T22:32:40.785Z"
   },
   {
    "duration": 80,
    "start_time": "2023-01-10T22:32:41.344Z"
   },
   {
    "duration": 31,
    "start_time": "2023-01-10T22:32:41.426Z"
   },
   {
    "duration": 24,
    "start_time": "2023-01-10T22:32:41.458Z"
   },
   {
    "duration": 17,
    "start_time": "2023-01-10T22:32:41.484Z"
   },
   {
    "duration": 131,
    "start_time": "2023-01-10T22:32:41.503Z"
   },
   {
    "duration": 45,
    "start_time": "2023-01-10T22:32:41.635Z"
   },
   {
    "duration": 34,
    "start_time": "2023-01-10T22:32:41.681Z"
   },
   {
    "duration": 113,
    "start_time": "2023-01-10T22:32:41.717Z"
   },
   {
    "duration": 140,
    "start_time": "2023-01-10T22:32:41.833Z"
   },
   {
    "duration": 265,
    "start_time": "2023-01-10T22:32:41.975Z"
   },
   {
    "duration": 387,
    "start_time": "2023-01-10T22:32:42.244Z"
   },
   {
    "duration": 12,
    "start_time": "2023-01-10T22:32:42.633Z"
   },
   {
    "duration": 92,
    "start_time": "2023-01-10T22:32:42.651Z"
   },
   {
    "duration": 180,
    "start_time": "2023-01-10T22:32:42.752Z"
   },
   {
    "duration": 5,
    "start_time": "2023-01-10T22:32:42.934Z"
   },
   {
    "duration": 2332,
    "start_time": "2023-01-10T22:32:42.941Z"
   },
   {
    "duration": 80,
    "start_time": "2023-01-10T22:32:45.275Z"
   },
   {
    "duration": 8,
    "start_time": "2023-01-10T22:32:45.357Z"
   },
   {
    "duration": 86,
    "start_time": "2023-01-10T22:32:45.367Z"
   },
   {
    "duration": 8,
    "start_time": "2023-01-10T22:32:45.455Z"
   },
   {
    "duration": 38,
    "start_time": "2023-01-10T22:32:45.465Z"
   },
   {
    "duration": 31,
    "start_time": "2023-01-10T22:32:45.505Z"
   },
   {
    "duration": 23,
    "start_time": "2023-01-10T22:32:45.538Z"
   },
   {
    "duration": 32,
    "start_time": "2023-01-10T22:32:45.564Z"
   },
   {
    "duration": 39,
    "start_time": "2023-01-10T22:32:45.599Z"
   },
   {
    "duration": 36,
    "start_time": "2023-01-10T22:32:45.640Z"
   },
   {
    "duration": 254,
    "start_time": "2023-01-10T22:32:45.677Z"
   },
   {
    "duration": 19,
    "start_time": "2023-01-10T22:32:45.933Z"
   },
   {
    "duration": 7,
    "start_time": "2023-01-10T22:32:45.954Z"
   },
   {
    "duration": 20,
    "start_time": "2023-01-10T22:32:45.963Z"
   },
   {
    "duration": 42,
    "start_time": "2023-01-10T22:32:45.985Z"
   },
   {
    "duration": 59,
    "start_time": "2023-01-10T22:32:46.029Z"
   },
   {
    "duration": 63,
    "start_time": "2023-01-10T22:32:46.090Z"
   },
   {
    "duration": 31,
    "start_time": "2023-01-10T22:32:46.155Z"
   },
   {
    "duration": 34,
    "start_time": "2023-01-10T22:32:46.188Z"
   },
   {
    "duration": 419,
    "start_time": "2023-01-10T22:32:46.224Z"
   },
   {
    "duration": 76,
    "start_time": "2023-01-10T22:32:46.645Z"
   },
   {
    "duration": 6,
    "start_time": "2023-01-10T22:32:46.726Z"
   },
   {
    "duration": 31,
    "start_time": "2023-01-10T22:32:46.734Z"
   },
   {
    "duration": 46,
    "start_time": "2023-01-10T22:32:46.768Z"
   },
   {
    "duration": 10,
    "start_time": "2023-01-10T22:32:46.815Z"
   },
   {
    "duration": 45,
    "start_time": "2023-01-10T22:32:46.852Z"
   },
   {
    "duration": 28,
    "start_time": "2023-01-10T22:32:46.899Z"
   },
   {
    "duration": 43,
    "start_time": "2023-01-10T22:32:46.929Z"
   },
   {
    "duration": 17,
    "start_time": "2023-01-10T22:32:46.974Z"
   },
   {
    "duration": 7,
    "start_time": "2023-01-10T22:32:51.821Z"
   },
   {
    "duration": 14,
    "start_time": "2023-01-10T22:33:16.236Z"
   },
   {
    "duration": 16,
    "start_time": "2023-01-10T22:34:03.625Z"
   },
   {
    "duration": 12,
    "start_time": "2023-01-10T22:34:19.954Z"
   },
   {
    "duration": 1158,
    "start_time": "2023-01-10T22:36:06.191Z"
   },
   {
    "duration": 594,
    "start_time": "2023-01-10T22:36:07.351Z"
   },
   {
    "duration": 531,
    "start_time": "2023-01-10T22:36:07.946Z"
   },
   {
    "duration": 73,
    "start_time": "2023-01-10T22:36:08.480Z"
   },
   {
    "duration": 15,
    "start_time": "2023-01-10T22:36:08.555Z"
   },
   {
    "duration": 22,
    "start_time": "2023-01-10T22:36:08.572Z"
   },
   {
    "duration": 16,
    "start_time": "2023-01-10T22:36:08.596Z"
   },
   {
    "duration": 149,
    "start_time": "2023-01-10T22:36:08.613Z"
   },
   {
    "duration": 36,
    "start_time": "2023-01-10T22:36:08.764Z"
   },
   {
    "duration": 34,
    "start_time": "2023-01-10T22:36:08.802Z"
   },
   {
    "duration": 66,
    "start_time": "2023-01-10T22:36:08.853Z"
   },
   {
    "duration": 156,
    "start_time": "2023-01-10T22:36:08.921Z"
   },
   {
    "duration": 251,
    "start_time": "2023-01-10T22:36:09.079Z"
   },
   {
    "duration": 300,
    "start_time": "2023-01-10T22:36:09.331Z"
   },
   {
    "duration": 10,
    "start_time": "2023-01-10T22:36:09.632Z"
   },
   {
    "duration": 62,
    "start_time": "2023-01-10T22:36:09.643Z"
   },
   {
    "duration": 160,
    "start_time": "2023-01-10T22:36:09.706Z"
   },
   {
    "duration": 4,
    "start_time": "2023-01-10T22:36:09.867Z"
   },
   {
    "duration": 2998,
    "start_time": "2023-01-10T22:36:09.872Z"
   },
   {
    "duration": 20,
    "start_time": "2023-01-10T22:36:12.872Z"
   },
   {
    "duration": 6,
    "start_time": "2023-01-10T22:36:12.894Z"
   },
   {
    "duration": 19,
    "start_time": "2023-01-10T22:36:12.953Z"
   },
   {
    "duration": 8,
    "start_time": "2023-01-10T22:36:12.974Z"
   },
   {
    "duration": 13,
    "start_time": "2023-01-10T22:36:12.984Z"
   },
   {
    "duration": 76,
    "start_time": "2023-01-10T22:36:12.999Z"
   },
   {
    "duration": 6,
    "start_time": "2023-01-10T22:36:13.077Z"
   },
   {
    "duration": 10,
    "start_time": "2023-01-10T22:36:13.085Z"
   },
   {
    "duration": 66,
    "start_time": "2023-01-10T22:36:13.098Z"
   },
   {
    "duration": 15,
    "start_time": "2023-01-10T22:36:13.166Z"
   },
   {
    "duration": 237,
    "start_time": "2023-01-10T22:36:13.182Z"
   },
   {
    "duration": 11,
    "start_time": "2023-01-10T22:36:13.421Z"
   },
   {
    "duration": 22,
    "start_time": "2023-01-10T22:36:13.434Z"
   },
   {
    "duration": 18,
    "start_time": "2023-01-10T22:36:13.457Z"
   },
   {
    "duration": 39,
    "start_time": "2023-01-10T22:36:13.477Z"
   },
   {
    "duration": 61,
    "start_time": "2023-01-10T22:36:13.518Z"
   },
   {
    "duration": 33,
    "start_time": "2023-01-10T22:36:13.581Z"
   },
   {
    "duration": 48,
    "start_time": "2023-01-10T22:36:13.616Z"
   },
   {
    "duration": 29,
    "start_time": "2023-01-10T22:36:13.666Z"
   },
   {
    "duration": 387,
    "start_time": "2023-01-10T22:36:13.697Z"
   },
   {
    "duration": 77,
    "start_time": "2023-01-10T22:36:14.086Z"
   },
   {
    "duration": 4,
    "start_time": "2023-01-10T22:36:14.164Z"
   },
   {
    "duration": 13,
    "start_time": "2023-01-10T22:36:14.170Z"
   },
   {
    "duration": 41,
    "start_time": "2023-01-10T22:36:14.184Z"
   },
   {
    "duration": 32,
    "start_time": "2023-01-10T22:36:14.227Z"
   },
   {
    "duration": 41,
    "start_time": "2023-01-10T22:36:14.261Z"
   },
   {
    "duration": 23,
    "start_time": "2023-01-10T22:36:14.304Z"
   },
   {
    "duration": 21,
    "start_time": "2023-01-10T22:36:14.353Z"
   },
   {
    "duration": 17,
    "start_time": "2023-01-10T22:36:14.375Z"
   },
   {
    "duration": 12,
    "start_time": "2023-01-10T22:36:14.393Z"
   },
   {
    "duration": 47,
    "start_time": "2023-01-10T22:36:14.406Z"
   },
   {
    "duration": 20,
    "start_time": "2023-01-10T22:36:14.455Z"
   },
   {
    "duration": 28,
    "start_time": "2023-01-10T22:36:14.476Z"
   },
   {
    "duration": 51,
    "start_time": "2023-01-10T22:36:14.505Z"
   },
   {
    "duration": 22,
    "start_time": "2023-01-10T22:36:14.559Z"
   },
   {
    "duration": 27,
    "start_time": "2023-01-10T22:36:14.583Z"
   },
   {
    "duration": 7,
    "start_time": "2023-01-10T22:36:14.612Z"
   },
   {
    "duration": 38,
    "start_time": "2023-01-10T22:36:14.620Z"
   },
   {
    "duration": 1261,
    "start_time": "2023-01-10T23:11:57.590Z"
   },
   {
    "duration": 2165,
    "start_time": "2023-01-10T23:11:58.853Z"
   },
   {
    "duration": 549,
    "start_time": "2023-01-10T23:12:01.020Z"
   },
   {
    "duration": 103,
    "start_time": "2023-01-10T23:12:01.571Z"
   },
   {
    "duration": 13,
    "start_time": "2023-01-10T23:12:01.676Z"
   },
   {
    "duration": 162,
    "start_time": "2023-01-10T23:12:01.691Z"
   },
   {
    "duration": 50,
    "start_time": "2023-01-10T23:12:01.855Z"
   },
   {
    "duration": 186,
    "start_time": "2023-01-10T23:12:01.906Z"
   },
   {
    "duration": 69,
    "start_time": "2023-01-10T23:12:02.094Z"
   },
   {
    "duration": 33,
    "start_time": "2023-01-10T23:12:02.165Z"
   },
   {
    "duration": 83,
    "start_time": "2023-01-10T23:12:02.200Z"
   },
   {
    "duration": 134,
    "start_time": "2023-01-10T23:12:02.284Z"
   },
   {
    "duration": 261,
    "start_time": "2023-01-10T23:12:02.420Z"
   },
   {
    "duration": 328,
    "start_time": "2023-01-10T23:12:02.683Z"
   },
   {
    "duration": 17,
    "start_time": "2023-01-10T23:12:03.013Z"
   },
   {
    "duration": 90,
    "start_time": "2023-01-10T23:12:03.032Z"
   },
   {
    "duration": 371,
    "start_time": "2023-01-10T23:12:03.124Z"
   },
   {
    "duration": 3,
    "start_time": "2023-01-10T23:12:03.497Z"
   },
   {
    "duration": 2229,
    "start_time": "2023-01-10T23:12:03.502Z"
   },
   {
    "duration": 19,
    "start_time": "2023-01-10T23:12:05.732Z"
   },
   {
    "duration": 19,
    "start_time": "2023-01-10T23:12:05.752Z"
   },
   {
    "duration": 65,
    "start_time": "2023-01-10T23:12:05.773Z"
   },
   {
    "duration": 21,
    "start_time": "2023-01-10T23:12:05.840Z"
   },
   {
    "duration": 21,
    "start_time": "2023-01-10T23:12:05.863Z"
   },
   {
    "duration": 47,
    "start_time": "2023-01-10T23:12:05.886Z"
   },
   {
    "duration": 20,
    "start_time": "2023-01-10T23:12:05.934Z"
   },
   {
    "duration": 19,
    "start_time": "2023-01-10T23:12:05.956Z"
   },
   {
    "duration": 26,
    "start_time": "2023-01-10T23:12:05.977Z"
   },
   {
    "duration": 21,
    "start_time": "2023-01-10T23:12:06.005Z"
   },
   {
    "duration": 237,
    "start_time": "2023-01-10T23:12:06.028Z"
   },
   {
    "duration": 12,
    "start_time": "2023-01-10T23:12:06.266Z"
   },
   {
    "duration": 15,
    "start_time": "2023-01-10T23:12:06.280Z"
   },
   {
    "duration": 28,
    "start_time": "2023-01-10T23:12:06.297Z"
   },
   {
    "duration": 62,
    "start_time": "2023-01-10T23:12:06.328Z"
   },
   {
    "duration": 33,
    "start_time": "2023-01-10T23:12:06.392Z"
   },
   {
    "duration": 33,
    "start_time": "2023-01-10T23:12:06.426Z"
   },
   {
    "duration": 33,
    "start_time": "2023-01-10T23:12:06.461Z"
   },
   {
    "duration": 41,
    "start_time": "2023-01-10T23:12:06.496Z"
   },
   {
    "duration": 363,
    "start_time": "2023-01-10T23:12:06.539Z"
   },
   {
    "duration": 72,
    "start_time": "2023-01-10T23:12:06.903Z"
   },
   {
    "duration": 4,
    "start_time": "2023-01-10T23:12:06.979Z"
   },
   {
    "duration": 50,
    "start_time": "2023-01-10T23:12:06.985Z"
   },
   {
    "duration": 59,
    "start_time": "2023-01-10T23:12:07.036Z"
   },
   {
    "duration": 10,
    "start_time": "2023-01-10T23:12:07.097Z"
   },
   {
    "duration": 51,
    "start_time": "2023-01-10T23:12:07.109Z"
   },
   {
    "duration": 20,
    "start_time": "2023-01-10T23:12:07.162Z"
   },
   {
    "duration": 34,
    "start_time": "2023-01-10T23:12:07.183Z"
   },
   {
    "duration": 23,
    "start_time": "2023-01-10T23:12:07.219Z"
   },
   {
    "duration": 23,
    "start_time": "2023-01-10T23:12:07.243Z"
   },
   {
    "duration": 21,
    "start_time": "2023-01-10T23:12:07.267Z"
   },
   {
    "duration": 28,
    "start_time": "2023-01-10T23:12:07.289Z"
   },
   {
    "duration": 49,
    "start_time": "2023-01-10T23:12:07.326Z"
   },
   {
    "duration": 34,
    "start_time": "2023-01-10T23:12:07.377Z"
   },
   {
    "duration": 39,
    "start_time": "2023-01-10T23:12:07.413Z"
   },
   {
    "duration": 52,
    "start_time": "2023-01-10T23:12:07.454Z"
   },
   {
    "duration": 18,
    "start_time": "2023-01-10T23:12:07.507Z"
   },
   {
    "duration": 33,
    "start_time": "2023-01-10T23:12:07.527Z"
   },
   {
    "duration": 1212,
    "start_time": "2023-01-10T23:12:28.313Z"
   },
   {
    "duration": 613,
    "start_time": "2023-01-10T23:12:29.526Z"
   },
   {
    "duration": 74,
    "start_time": "2023-01-10T23:12:30.140Z"
   },
   {
    "duration": 14,
    "start_time": "2023-01-10T23:12:30.226Z"
   },
   {
    "duration": 36,
    "start_time": "2023-01-10T23:12:30.242Z"
   },
   {
    "duration": 34,
    "start_time": "2023-01-10T23:12:30.280Z"
   },
   {
    "duration": 123,
    "start_time": "2023-01-10T23:12:30.316Z"
   },
   {
    "duration": 39,
    "start_time": "2023-01-10T23:12:30.441Z"
   },
   {
    "duration": 78,
    "start_time": "2023-01-10T23:12:30.481Z"
   },
   {
    "duration": 88,
    "start_time": "2023-01-10T23:12:30.562Z"
   },
   {
    "duration": 128,
    "start_time": "2023-01-10T23:12:30.652Z"
   },
   {
    "duration": 253,
    "start_time": "2023-01-10T23:12:30.781Z"
   },
   {
    "duration": 325,
    "start_time": "2023-01-10T23:12:31.035Z"
   },
   {
    "duration": 9,
    "start_time": "2023-01-10T23:12:31.362Z"
   },
   {
    "duration": 72,
    "start_time": "2023-01-10T23:12:31.373Z"
   },
   {
    "duration": 383,
    "start_time": "2023-01-10T23:12:31.446Z"
   },
   {
    "duration": 4,
    "start_time": "2023-01-10T23:12:31.830Z"
   },
   {
    "duration": 2209,
    "start_time": "2023-01-10T23:12:31.835Z"
   },
   {
    "duration": 18,
    "start_time": "2023-01-10T23:12:34.045Z"
   },
   {
    "duration": 64,
    "start_time": "2023-01-10T23:12:34.065Z"
   },
   {
    "duration": 46,
    "start_time": "2023-01-10T23:12:34.131Z"
   },
   {
    "duration": 51,
    "start_time": "2023-01-10T23:12:34.179Z"
   },
   {
    "duration": 30,
    "start_time": "2023-01-10T23:12:34.231Z"
   },
   {
    "duration": 35,
    "start_time": "2023-01-10T23:12:34.262Z"
   },
   {
    "duration": 34,
    "start_time": "2023-01-10T23:12:34.298Z"
   },
   {
    "duration": 35,
    "start_time": "2023-01-10T23:12:34.334Z"
   },
   {
    "duration": 39,
    "start_time": "2023-01-10T23:12:34.371Z"
   },
   {
    "duration": 26,
    "start_time": "2023-01-10T23:12:34.415Z"
   },
   {
    "duration": 230,
    "start_time": "2023-01-10T23:12:34.442Z"
   },
   {
    "duration": 11,
    "start_time": "2023-01-10T23:12:34.674Z"
   },
   {
    "duration": 22,
    "start_time": "2023-01-10T23:12:34.687Z"
   },
   {
    "duration": 32,
    "start_time": "2023-01-10T23:12:34.711Z"
   },
   {
    "duration": 68,
    "start_time": "2023-01-10T23:12:34.745Z"
   },
   {
    "duration": 37,
    "start_time": "2023-01-10T23:12:34.815Z"
   },
   {
    "duration": 30,
    "start_time": "2023-01-10T23:12:34.854Z"
   },
   {
    "duration": 44,
    "start_time": "2023-01-10T23:12:34.886Z"
   },
   {
    "duration": 59,
    "start_time": "2023-01-10T23:12:34.931Z"
   },
   {
    "duration": 355,
    "start_time": "2023-01-10T23:12:34.992Z"
   },
   {
    "duration": 67,
    "start_time": "2023-01-10T23:12:35.348Z"
   },
   {
    "duration": 4,
    "start_time": "2023-01-10T23:12:35.427Z"
   },
   {
    "duration": 31,
    "start_time": "2023-01-10T23:12:35.432Z"
   },
   {
    "duration": 63,
    "start_time": "2023-01-10T23:12:35.465Z"
   },
   {
    "duration": 20,
    "start_time": "2023-01-10T23:12:35.530Z"
   },
   {
    "duration": 58,
    "start_time": "2023-01-10T23:12:35.552Z"
   },
   {
    "duration": 25,
    "start_time": "2023-01-10T23:12:35.612Z"
   },
   {
    "duration": 38,
    "start_time": "2023-01-10T23:12:35.639Z"
   },
   {
    "duration": 25,
    "start_time": "2023-01-10T23:12:35.679Z"
   },
   {
    "duration": 17,
    "start_time": "2023-01-10T23:12:35.706Z"
   },
   {
    "duration": 37,
    "start_time": "2023-01-10T23:12:35.725Z"
   },
   {
    "duration": 18,
    "start_time": "2023-01-10T23:12:35.764Z"
   },
   {
    "duration": 49,
    "start_time": "2023-01-10T23:12:35.783Z"
   },
   {
    "duration": 25,
    "start_time": "2023-01-10T23:12:35.834Z"
   },
   {
    "duration": 22,
    "start_time": "2023-01-10T23:12:35.860Z"
   },
   {
    "duration": 43,
    "start_time": "2023-01-10T23:12:35.883Z"
   },
   {
    "duration": 6,
    "start_time": "2023-01-10T23:12:35.928Z"
   },
   {
    "duration": 51,
    "start_time": "2023-01-10T23:12:35.936Z"
   },
   {
    "duration": 13,
    "start_time": "2023-01-10T23:15:14.821Z"
   },
   {
    "duration": 5,
    "start_time": "2023-01-10T23:15:21.394Z"
   }
  ],
  "kernelspec": {
   "display_name": "Python 3 (ipykernel)",
   "language": "python",
   "name": "python3"
  },
  "language_info": {
   "codemirror_mode": {
    "name": "ipython",
    "version": 3
   },
   "file_extension": ".py",
   "mimetype": "text/x-python",
   "name": "python",
   "nbconvert_exporter": "python",
   "pygments_lexer": "ipython3",
   "version": "3.9.7"
  },
  "latex_envs": {
   "LaTeX_envs_menu_present": true,
   "autoclose": false,
   "autocomplete": true,
   "bibliofile": "biblio.bib",
   "cite_by": "apalike",
   "current_citInitial": 1,
   "eqLabelWithNumbers": true,
   "eqNumInitial": 1,
   "hotkeys": {
    "equation": "Ctrl-E",
    "itemize": "Ctrl-I"
   },
   "labels_anchors": false,
   "latex_user_defs": false,
   "report_style_numbering": false,
   "user_envs_cfg": false
  },
  "toc": {
   "base_numbering": 1,
   "nav_menu": {},
   "number_sections": true,
   "sideBar": true,
   "skip_h1_title": true,
   "title_cell": "Содержание",
   "title_sidebar": "Contents",
   "toc_cell": true,
   "toc_position": {
    "height": "484px",
    "left": "366px",
    "top": "110.525px",
    "width": "181.2px"
   },
   "toc_section_display": true,
   "toc_window_display": true
  }
 },
 "nbformat": 4,
 "nbformat_minor": 5
}
